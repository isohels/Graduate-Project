{
 "cells": [
  {
   "cell_type": "markdown",
   "metadata": {},
   "source": [
    "# Context\n",
    "\n",
    "### Novel Coronavirus 2019 (nCoV-2019) is a virus which affects respiratory system and was first discovered in wuhan, China. Some early reports suggested that virus may have been transmitted from animal to person. As we know whole world has been shutdown  because of the widespread cases. At this time it's unclear how easily or sustainably this virus is spreading between people."
   ]
  },
  {
   "cell_type": "markdown",
   "metadata": {},
   "source": [
    "# Current Cases (WorldWide)\n",
    "### To know how bad the world has been affected lets get some information on current situation."
   ]
  },
  {
   "cell_type": "markdown",
   "metadata": {},
   "source": [
    "#### Lets import all the dependencies for scrapping the website"
   ]
  },
  {
   "cell_type": "code",
   "execution_count": 1,
   "metadata": {},
   "outputs": [],
   "source": [
    "import bs4\n",
    "from urllib.request import Request, urlopen\n",
    "from urllib.request import urlopen as uReq\n",
    "from bs4 import BeautifulSoup as soup\n",
    "import pandas as pd"
   ]
  },
  {
   "cell_type": "code",
   "execution_count": 2,
   "metadata": {},
   "outputs": [],
   "source": [
    "# grabbing the url\n",
    "\n",
    "url = \"https://ncov2019.live/\"\n",
    "req = Request(url, headers={\"User-Agent\" : \"Mozilla/5.0\"})\n",
    "\n",
    "webpage = urlopen(req).read()\n",
    "\n",
    "#parsing it as lxml\n",
    "pagesoup = soup(webpage,\"lxml\")"
   ]
  },
  {
   "cell_type": "markdown",
   "metadata": {},
   "source": [
    "#### Website Information\n",
    "1. Website Name\n",
    "2. Link to Website"
   ]
  },
  {
   "cell_type": "code",
   "execution_count": 3,
   "metadata": {},
   "outputs": [],
   "source": [
    "from IPython.display import display, Markdown"
   ]
  },
  {
   "cell_type": "code",
   "execution_count": 4,
   "metadata": {},
   "outputs": [
    {
     "data": {
      "text/markdown": [
       "<strong>\n",
       "\n",
       "\n",
       "\n",
       "\n",
       "\r\n",
       "    nCoV2019.live\r\n",
       "  </strong>https://ncov2019.live/"
      ],
      "text/plain": [
       "<IPython.core.display.Markdown object>"
      ]
     },
     "execution_count": 4,
     "metadata": {},
     "output_type": "execute_result"
    }
   ],
   "source": [
    "#finding the relevant tags to scrap the data from website\n",
    "\n",
    "website_name = pagesoup.find('a',class_ = \"navbar-brand\")\n",
    "link = \"https://ncov2019.live/\"\n",
    "Markdown('<strong>{}</strong>{}'.format(website_name.text,link))"
   ]
  },
  {
   "cell_type": "code",
   "execution_count": 5,
   "metadata": {},
   "outputs": [
    {
     "data": {
      "text/markdown": [
       "<strong align=\"center\"><div class=\"container--wrap bg-navy-4\">\n",
       "<p style=\"color: #DFDFEF; font-size: 30px; text-align: center; padding-top: 15px; font-weight: bolder; margin-bottom: 0;\">\r\n",
       "    Quick Facts\r\n",
       "  </p>\n",
       "<p style=\"color: #DFDFEF; font-size: 12px; text-align: center; font-weight: bolder; margin-bottom: 0;\">\r\n",
       "    updated: <i class=\"last_updated\">A few minutes ago</i>\n",
       "</p>\n",
       "<table>\n",
       "<tr>\n",
       "<p style=\"color: rgb(101, 221, 155); font-weight: bold; text-align: center; border-bottom: 0; font-size: 50px; margin-bottom: 0px;\">\r\n",
       "        23,515,602\r\n",
       "      </p>\n",
       "<p style=\"color: #DFDFEF; font-size: 18px; font-weight: bold; border-bottom: 0; text-align: center;\">\r\n",
       "        Total Confirmed\r\n",
       "      </p>\n",
       "</tr>\n",
       "<tr>\n",
       "<p style=\"color: #ff9d00; font-weight: bold; text-align: center; border-bottom: 0; font-size: 50px; margin-bottom: 0px;\"> \r\n",
       "          61,658\r\n",
       "      </p>\n",
       "<p style=\"color: #DFDFEF; font-size: 18px; font-weight: bold; border-bottom: 0; text-align: center;\">\r\n",
       "        Total Critical\r\n",
       "      </p>\n",
       "</tr>\n",
       "<tr>\n",
       "<p style=\"color: #F65164; font-weight: bold; text-align: center; border-bottom: 0; font-size: 50px; margin-bottom: 0px;\">\r\n",
       "        810,914\r\n",
       "      </p>\n",
       "<p style=\"color: #DFDFEF; font-size: 18px; font-weight: bold; border-bottom: 0; text-align: center;\">\r\n",
       "        Total Deceased\r\n",
       "      </p>\n",
       "</tr>\n",
       "<tr>\n",
       "<p style=\"color: rgb(248, 245, 64); font-weight: bold; text-align: center; border-bottom: 0; font-size: 50px; margin-bottom: 0px;\">\r\n",
       "        6,730,520\r\n",
       "      </p>\n",
       "<p style=\"color: #DFDFEF; font-size: 18px; font-weight: bold; border-bottom: 0; text-align: center;\">\r\n",
       "        Total Active\r\n",
       "      </p>\n",
       "</tr>\n",
       "<tr>\n",
       "<p style=\"color: rgb(68, 155, 226); font-weight: bold; text-align: center; border-bottom: 0; font-size: 50px; margin-bottom: 0px;\">\r\n",
       "        15,823,557\r\n",
       "      </p>\n",
       "<p style=\"color: #DFDFEF; font-size: 18px; font-weight: bold; border-bottom: 0; text-align: center;\">\r\n",
       "        Total Recovered\r\n",
       "      </p>\n",
       "</tr>\n",
       "<tr>\n",
       "<p style=\"color: rgb(62, 206, 229); font-weight: bold; text-align: center; border-bottom: 0; font-size: 50px; margin-bottom: 0px;\">\r\n",
       "        166<!--  / 43 -->\n",
       "</p>\n",
       "<p style=\"color: #DFDFEF; font-size: 18px; font-weight: bold; border-bottom: 0; text-align: center;\">\r\n",
       "        Total Vaccines In Development\r\n",
       "      </p>\n",
       "</tr>\n",
       "</table>\n",
       "</div></strong>"
      ],
      "text/plain": [
       "<IPython.core.display.Markdown object>"
      ]
     },
     "execution_count": 5,
     "metadata": {},
     "output_type": "execute_result"
    }
   ],
   "source": [
    "#some quick facts from the website\n",
    "\n",
    "quickfacts = pagesoup.find('div', class_ = \"container--wrap bg-navy-4\")\n",
    "Markdown('<strong align=\"center\">{}</strong>'.format(quickfacts))"
   ]
  },
  {
   "cell_type": "markdown",
   "metadata": {},
   "source": [
    "## World COVID-19 Stats"
   ]
  },
  {
   "cell_type": "markdown",
   "metadata": {},
   "source": [
    "#### We will scrap worldwide covid cases.\n",
    "1. We'll use pandas read.html which lets us read the webpage table without much of complexity.\n",
    "2. Convert the table into dataframe for further processing.\n",
    "3. In the header of the list generated you see a number \"1\", which was used in the original website as a filter for arranging data in ascending or descending order."
   ]
  },
  {
   "cell_type": "code",
   "execution_count": 6,
   "metadata": {},
   "outputs": [],
   "source": [
    "import pandas as pd\n",
    "import requests"
   ]
  },
  {
   "cell_type": "code",
   "execution_count": 51,
   "metadata": {},
   "outputs": [
    {
     "data": {
      "text/html": [
       "<div>\n",
       "<style scoped>\n",
       "    .dataframe tbody tr th:only-of-type {\n",
       "        vertical-align: middle;\n",
       "    }\n",
       "\n",
       "    .dataframe tbody tr th {\n",
       "        vertical-align: top;\n",
       "    }\n",
       "\n",
       "    .dataframe thead th {\n",
       "        text-align: right;\n",
       "    }\n",
       "</style>\n",
       "<table border=\"1\" class=\"dataframe\">\n",
       "  <thead>\n",
       "    <tr style=\"text-align: right;\">\n",
       "      <th></th>\n",
       "      <th>Name</th>\n",
       "      <th>Confirmed</th>\n",
       "      <th>Per Million</th>\n",
       "      <th>Changes Today</th>\n",
       "      <th>Percentage Day Change</th>\n",
       "      <th>Critical</th>\n",
       "      <th>Deceased</th>\n",
       "      <th>Per Million.1</th>\n",
       "      <th>Changes Today.1</th>\n",
       "      <th>Percentage Death Change</th>\n",
       "      <th>Tests</th>\n",
       "      <th>Active</th>\n",
       "      <th>Recovered</th>\n",
       "      <th>Per Million.2</th>\n",
       "      <th>Population</th>\n",
       "    </tr>\n",
       "  </thead>\n",
       "  <tbody>\n",
       "    <tr>\n",
       "      <th>0</th>\n",
       "      <td>TOTAL</td>\n",
       "      <td>23545594</td>\n",
       "      <td>3031</td>\n",
       "      <td>174454</td>\n",
       "      <td>0.75%</td>\n",
       "      <td>61662</td>\n",
       "      <td>811436</td>\n",
       "      <td>104</td>\n",
       "      <td>3490</td>\n",
       "      <td>0.43%</td>\n",
       "      <td>412673730</td>\n",
       "      <td>6750102</td>\n",
       "      <td>15833462</td>\n",
       "      <td>2038</td>\n",
       "      <td>7769081067</td>\n",
       "    </tr>\n",
       "    <tr>\n",
       "      <th>1</th>\n",
       "      <td>★  Afghanistan</td>\n",
       "      <td>37999</td>\n",
       "      <td>973</td>\n",
       "      <td>46</td>\n",
       "      <td>0.12%</td>\n",
       "      <td>31</td>\n",
       "      <td>1387</td>\n",
       "      <td>36</td>\n",
       "      <td>2</td>\n",
       "      <td>0.14%</td>\n",
       "      <td>100960</td>\n",
       "      <td>8432</td>\n",
       "      <td>28180</td>\n",
       "      <td>722</td>\n",
       "      <td>39047866</td>\n",
       "    </tr>\n",
       "    <tr>\n",
       "      <th>2</th>\n",
       "      <td>★  Albania</td>\n",
       "      <td>8427</td>\n",
       "      <td>2929</td>\n",
       "      <td>152</td>\n",
       "      <td>1.84%</td>\n",
       "      <td>15</td>\n",
       "      <td>250</td>\n",
       "      <td>87</td>\n",
       "      <td>5</td>\n",
       "      <td>2.04%</td>\n",
       "      <td>51658</td>\n",
       "      <td>3845</td>\n",
       "      <td>4332</td>\n",
       "      <td>1506</td>\n",
       "      <td>2877333</td>\n",
       "    </tr>\n",
       "    <tr>\n",
       "      <th>3</th>\n",
       "      <td>★  Algeria</td>\n",
       "      <td>41460</td>\n",
       "      <td>943</td>\n",
       "      <td>392</td>\n",
       "      <td>0.95%</td>\n",
       "      <td>41</td>\n",
       "      <td>1435</td>\n",
       "      <td>33</td>\n",
       "      <td>11</td>\n",
       "      <td>0.77%</td>\n",
       "      <td>Unknown</td>\n",
       "      <td>Unknown</td>\n",
       "      <td>29142</td>\n",
       "      <td>663</td>\n",
       "      <td>43960740</td>\n",
       "    </tr>\n",
       "    <tr>\n",
       "      <th>4</th>\n",
       "      <td>★  Andorra</td>\n",
       "      <td>1045</td>\n",
       "      <td>0</td>\n",
       "      <td>0</td>\n",
       "      <td>0%</td>\n",
       "      <td>1</td>\n",
       "      <td>53</td>\n",
       "      <td>0</td>\n",
       "      <td>0</td>\n",
       "      <td>0%</td>\n",
       "      <td>137457</td>\n",
       "      <td>117</td>\n",
       "      <td>875</td>\n",
       "      <td>0</td>\n",
       "      <td>77283</td>\n",
       "    </tr>\n",
       "    <tr>\n",
       "      <th>...</th>\n",
       "      <td>...</td>\n",
       "      <td>...</td>\n",
       "      <td>...</td>\n",
       "      <td>...</td>\n",
       "      <td>...</td>\n",
       "      <td>...</td>\n",
       "      <td>...</td>\n",
       "      <td>...</td>\n",
       "      <td>...</td>\n",
       "      <td>...</td>\n",
       "      <td>...</td>\n",
       "      <td>...</td>\n",
       "      <td>...</td>\n",
       "      <td>...</td>\n",
       "      <td>...</td>\n",
       "    </tr>\n",
       "    <tr>\n",
       "      <th>210</th>\n",
       "      <td>★  Caribbean Netherlands</td>\n",
       "      <td>13</td>\n",
       "      <td>0</td>\n",
       "      <td>0</td>\n",
       "      <td>0%</td>\n",
       "      <td>Unknown</td>\n",
       "      <td>Unknown</td>\n",
       "      <td>Unknown</td>\n",
       "      <td>0</td>\n",
       "      <td>0%</td>\n",
       "      <td>424</td>\n",
       "      <td>Unknown</td>\n",
       "      <td>7</td>\n",
       "      <td>0</td>\n",
       "      <td>26258</td>\n",
       "    </tr>\n",
       "    <tr>\n",
       "      <th>211</th>\n",
       "      <td>★  Falkland Islands</td>\n",
       "      <td>13</td>\n",
       "      <td>0</td>\n",
       "      <td>0</td>\n",
       "      <td>0%</td>\n",
       "      <td>Unknown</td>\n",
       "      <td>Unknown</td>\n",
       "      <td>Unknown</td>\n",
       "      <td>0</td>\n",
       "      <td>0%</td>\n",
       "      <td>2256</td>\n",
       "      <td>Unknown</td>\n",
       "      <td>13</td>\n",
       "      <td>0</td>\n",
       "      <td>3493</td>\n",
       "    </tr>\n",
       "    <tr>\n",
       "      <th>212</th>\n",
       "      <td>★  Saint Pierre and Miquelon</td>\n",
       "      <td>5</td>\n",
       "      <td>0</td>\n",
       "      <td>0</td>\n",
       "      <td>0%</td>\n",
       "      <td>Unknown</td>\n",
       "      <td>Unknown</td>\n",
       "      <td>Unknown</td>\n",
       "      <td>0</td>\n",
       "      <td>0%</td>\n",
       "      <td>Unknown</td>\n",
       "      <td>Unknown</td>\n",
       "      <td>1</td>\n",
       "      <td>0</td>\n",
       "      <td>5790</td>\n",
       "    </tr>\n",
       "    <tr>\n",
       "      <th>213</th>\n",
       "      <td>★  Anguilla</td>\n",
       "      <td>3</td>\n",
       "      <td>0</td>\n",
       "      <td>0</td>\n",
       "      <td>0%</td>\n",
       "      <td>Unknown</td>\n",
       "      <td>Unknown</td>\n",
       "      <td>Unknown</td>\n",
       "      <td>0</td>\n",
       "      <td>0%</td>\n",
       "      <td>662</td>\n",
       "      <td>Unknown</td>\n",
       "      <td>3</td>\n",
       "      <td>0</td>\n",
       "      <td>15022</td>\n",
       "    </tr>\n",
       "    <tr>\n",
       "      <th>214</th>\n",
       "      <td>★  China</td>\n",
       "      <td>84951</td>\n",
       "      <td>59</td>\n",
       "      <td>12</td>\n",
       "      <td>0.01%</td>\n",
       "      <td>17</td>\n",
       "      <td>4634</td>\n",
       "      <td>3</td>\n",
       "      <td>0</td>\n",
       "      <td>0%</td>\n",
       "      <td>90410000</td>\n",
       "      <td>422</td>\n",
       "      <td>79895</td>\n",
       "      <td>56</td>\n",
       "      <td>1439323776</td>\n",
       "    </tr>\n",
       "  </tbody>\n",
       "</table>\n",
       "<p>215 rows × 15 columns</p>\n",
       "</div>"
      ],
      "text/plain": [
       "                             Name  Confirmed Per Million  Changes Today  \\\n",
       "0                           TOTAL   23545594        3031         174454   \n",
       "1                  ★  Afghanistan      37999         973             46   \n",
       "2                      ★  Albania       8427        2929            152   \n",
       "3                      ★  Algeria      41460         943            392   \n",
       "4                      ★  Andorra       1045           0              0   \n",
       "..                            ...        ...         ...            ...   \n",
       "210      ★  Caribbean Netherlands         13           0              0   \n",
       "211           ★  Falkland Islands         13           0              0   \n",
       "212  ★  Saint Pierre and Miquelon          5           0              0   \n",
       "213                   ★  Anguilla          3           0              0   \n",
       "214                      ★  China      84951          59             12   \n",
       "\n",
       "    Percentage Day Change Critical Deceased Per Million.1  Changes Today.1  \\\n",
       "0                   0.75%    61662   811436           104             3490   \n",
       "1                   0.12%       31     1387            36                2   \n",
       "2                   1.84%       15      250            87                5   \n",
       "3                   0.95%       41     1435            33               11   \n",
       "4                      0%        1       53             0                0   \n",
       "..                    ...      ...      ...           ...              ...   \n",
       "210                    0%  Unknown  Unknown       Unknown                0   \n",
       "211                    0%  Unknown  Unknown       Unknown                0   \n",
       "212                    0%  Unknown  Unknown       Unknown                0   \n",
       "213                    0%  Unknown  Unknown       Unknown                0   \n",
       "214                 0.01%       17     4634             3                0   \n",
       "\n",
       "    Percentage Death Change      Tests   Active Recovered Per Million.2  \\\n",
       "0                     0.43%  412673730  6750102  15833462          2038   \n",
       "1                     0.14%     100960     8432     28180           722   \n",
       "2                     2.04%      51658     3845      4332          1506   \n",
       "3                     0.77%    Unknown  Unknown     29142           663   \n",
       "4                        0%     137457      117       875             0   \n",
       "..                      ...        ...      ...       ...           ...   \n",
       "210                      0%        424  Unknown         7             0   \n",
       "211                      0%       2256  Unknown        13             0   \n",
       "212                      0%    Unknown  Unknown         1             0   \n",
       "213                      0%        662  Unknown         3             0   \n",
       "214                      0%   90410000      422     79895            56   \n",
       "\n",
       "     Population  \n",
       "0    7769081067  \n",
       "1      39047866  \n",
       "2       2877333  \n",
       "3      43960740  \n",
       "4         77283  \n",
       "..          ...  \n",
       "210       26258  \n",
       "211        3493  \n",
       "212        5790  \n",
       "213       15022  \n",
       "214  1439323776  \n",
       "\n",
       "[215 rows x 15 columns]"
      ]
     },
     "execution_count": 51,
     "metadata": {},
     "output_type": "execute_result"
    }
   ],
   "source": [
    "# grabbing latest worldwide data\n",
    "\n",
    "url = \"https://ncov2019.live/data/world\"\n",
    "\n",
    "r = requests.get(url)\n",
    "df_list = pd.read_html(r.text)            #this parse all html tables from a webpage to alist\n",
    "world_df = df_list[2]\n",
    "world_df"
   ]
  },
  {
   "cell_type": "markdown",
   "metadata": {},
   "source": [
    "#### Sorting the data on number of confirmed cases"
   ]
  },
  {
   "cell_type": "code",
   "execution_count": 52,
   "metadata": {},
   "outputs": [
    {
     "data": {
      "text/html": [
       "<div>\n",
       "<style scoped>\n",
       "    .dataframe tbody tr th:only-of-type {\n",
       "        vertical-align: middle;\n",
       "    }\n",
       "\n",
       "    .dataframe tbody tr th {\n",
       "        vertical-align: top;\n",
       "    }\n",
       "\n",
       "    .dataframe thead th {\n",
       "        text-align: right;\n",
       "    }\n",
       "</style>\n",
       "<table border=\"1\" class=\"dataframe\">\n",
       "  <thead>\n",
       "    <tr style=\"text-align: right;\">\n",
       "      <th></th>\n",
       "      <th>Name</th>\n",
       "      <th>Confirmed</th>\n",
       "      <th>Per Million</th>\n",
       "      <th>Changes Today</th>\n",
       "      <th>Percentage Day Change</th>\n",
       "      <th>Critical</th>\n",
       "      <th>Deceased</th>\n",
       "      <th>Per Million.1</th>\n",
       "      <th>Changes Today.1</th>\n",
       "      <th>Percentage Death Change</th>\n",
       "      <th>Tests</th>\n",
       "      <th>Active</th>\n",
       "      <th>Recovered</th>\n",
       "      <th>Per Million.2</th>\n",
       "      <th>Population</th>\n",
       "    </tr>\n",
       "  </thead>\n",
       "  <tbody>\n",
       "    <tr>\n",
       "      <th>0</th>\n",
       "      <td>TOTAL</td>\n",
       "      <td>23545594</td>\n",
       "      <td>3031</td>\n",
       "      <td>174454</td>\n",
       "      <td>0.75%</td>\n",
       "      <td>61662</td>\n",
       "      <td>811436</td>\n",
       "      <td>104</td>\n",
       "      <td>3490</td>\n",
       "      <td>0.43%</td>\n",
       "      <td>412673730</td>\n",
       "      <td>6750102</td>\n",
       "      <td>15833462</td>\n",
       "      <td>2038</td>\n",
       "      <td>7769081067</td>\n",
       "    </tr>\n",
       "    <tr>\n",
       "      <th>169</th>\n",
       "      <td>★  United States</td>\n",
       "      <td>5869551</td>\n",
       "      <td>17718</td>\n",
       "      <td>28123</td>\n",
       "      <td>0.48%</td>\n",
       "      <td>16729</td>\n",
       "      <td>180555</td>\n",
       "      <td>545</td>\n",
       "      <td>381</td>\n",
       "      <td>0.21%</td>\n",
       "      <td>76088768</td>\n",
       "      <td>2528495</td>\n",
       "      <td>3160501</td>\n",
       "      <td>9540</td>\n",
       "      <td>331282824</td>\n",
       "    </tr>\n",
       "    <tr>\n",
       "      <th>170</th>\n",
       "      <td>★  Brazil</td>\n",
       "      <td>3605783</td>\n",
       "      <td>16946</td>\n",
       "      <td>23085</td>\n",
       "      <td>0.64%</td>\n",
       "      <td>8318</td>\n",
       "      <td>114744</td>\n",
       "      <td>539</td>\n",
       "      <td>467</td>\n",
       "      <td>0.41%</td>\n",
       "      <td>14144344</td>\n",
       "      <td>781401</td>\n",
       "      <td>2709638</td>\n",
       "      <td>12735</td>\n",
       "      <td>212776644</td>\n",
       "    </tr>\n",
       "    <tr>\n",
       "      <th>171</th>\n",
       "      <td>★  India</td>\n",
       "      <td>3105185</td>\n",
       "      <td>2247</td>\n",
       "      <td>61749</td>\n",
       "      <td>2.03%</td>\n",
       "      <td>8944</td>\n",
       "      <td>57692</td>\n",
       "      <td>42</td>\n",
       "      <td>846</td>\n",
       "      <td>1.49%</td>\n",
       "      <td>35292220</td>\n",
       "      <td>710697</td>\n",
       "      <td>2336796</td>\n",
       "      <td>1691</td>\n",
       "      <td>1381937641</td>\n",
       "    </tr>\n",
       "    <tr>\n",
       "      <th>172</th>\n",
       "      <td>★  Russia</td>\n",
       "      <td>956749</td>\n",
       "      <td>6556</td>\n",
       "      <td>4852</td>\n",
       "      <td>0.51%</td>\n",
       "      <td>2300</td>\n",
       "      <td>16383</td>\n",
       "      <td>112</td>\n",
       "      <td>73</td>\n",
       "      <td>0.45%</td>\n",
       "      <td>34447560</td>\n",
       "      <td>169727</td>\n",
       "      <td>770639</td>\n",
       "      <td>5280</td>\n",
       "      <td>145943650</td>\n",
       "    </tr>\n",
       "    <tr>\n",
       "      <th>142</th>\n",
       "      <td>★  South Africa</td>\n",
       "      <td>609773</td>\n",
       "      <td>10263</td>\n",
       "      <td>2728</td>\n",
       "      <td>0.45%</td>\n",
       "      <td>539</td>\n",
       "      <td>13059</td>\n",
       "      <td>220</td>\n",
       "      <td>72</td>\n",
       "      <td>0.55%</td>\n",
       "      <td>3553425</td>\n",
       "      <td>90244</td>\n",
       "      <td>506470</td>\n",
       "      <td>8524</td>\n",
       "      <td>59414253</td>\n",
       "    </tr>\n",
       "    <tr>\n",
       "      <th>173</th>\n",
       "      <td>★  Peru</td>\n",
       "      <td>585236</td>\n",
       "      <td>17715</td>\n",
       "      <td>0</td>\n",
       "      <td>0%</td>\n",
       "      <td>1506</td>\n",
       "      <td>27453</td>\n",
       "      <td>831</td>\n",
       "      <td>0</td>\n",
       "      <td>0%</td>\n",
       "      <td>2950589</td>\n",
       "      <td>166639</td>\n",
       "      <td>391144</td>\n",
       "      <td>11840</td>\n",
       "      <td>33036403</td>\n",
       "    </tr>\n",
       "    <tr>\n",
       "      <th>174</th>\n",
       "      <td>★  Mexico</td>\n",
       "      <td>556216</td>\n",
       "      <td>4308</td>\n",
       "      <td>6482</td>\n",
       "      <td>1.18%</td>\n",
       "      <td>3450</td>\n",
       "      <td>60254</td>\n",
       "      <td>467</td>\n",
       "      <td>644</td>\n",
       "      <td>1.08%</td>\n",
       "      <td>1253432</td>\n",
       "      <td>115470</td>\n",
       "      <td>380492</td>\n",
       "      <td>2947</td>\n",
       "      <td>129125341</td>\n",
       "    </tr>\n",
       "    <tr>\n",
       "      <th>175</th>\n",
       "      <td>★  Colombia</td>\n",
       "      <td>533103</td>\n",
       "      <td>10461</td>\n",
       "      <td>0</td>\n",
       "      <td>0%</td>\n",
       "      <td>1493</td>\n",
       "      <td>16968</td>\n",
       "      <td>333</td>\n",
       "      <td>0</td>\n",
       "      <td>0%</td>\n",
       "      <td>2450441</td>\n",
       "      <td>156343</td>\n",
       "      <td>359792</td>\n",
       "      <td>7060</td>\n",
       "      <td>50959957</td>\n",
       "    </tr>\n",
       "    <tr>\n",
       "      <th>177</th>\n",
       "      <td>★  Chile</td>\n",
       "      <td>397665</td>\n",
       "      <td>20777</td>\n",
       "      <td>1957</td>\n",
       "      <td>0.49%</td>\n",
       "      <td>1027</td>\n",
       "      <td>10852</td>\n",
       "      <td>567</td>\n",
       "      <td>60</td>\n",
       "      <td>0.56%</td>\n",
       "      <td>2204009</td>\n",
       "      <td>15634</td>\n",
       "      <td>371179</td>\n",
       "      <td>19393</td>\n",
       "      <td>19139679</td>\n",
       "    </tr>\n",
       "  </tbody>\n",
       "</table>\n",
       "</div>"
      ],
      "text/plain": [
       "                 Name  Confirmed Per Million  Changes Today  \\\n",
       "0               TOTAL   23545594        3031         174454   \n",
       "169  ★  United States    5869551       17718          28123   \n",
       "170         ★  Brazil    3605783       16946          23085   \n",
       "171          ★  India    3105185        2247          61749   \n",
       "172         ★  Russia     956749        6556           4852   \n",
       "142   ★  South Africa     609773       10263           2728   \n",
       "173           ★  Peru     585236       17715              0   \n",
       "174         ★  Mexico     556216        4308           6482   \n",
       "175       ★  Colombia     533103       10461              0   \n",
       "177          ★  Chile     397665       20777           1957   \n",
       "\n",
       "    Percentage Day Change Critical Deceased Per Million.1  Changes Today.1  \\\n",
       "0                   0.75%    61662   811436           104             3490   \n",
       "169                 0.48%    16729   180555           545              381   \n",
       "170                 0.64%     8318   114744           539              467   \n",
       "171                 2.03%     8944    57692            42              846   \n",
       "172                 0.51%     2300    16383           112               73   \n",
       "142                 0.45%      539    13059           220               72   \n",
       "173                    0%     1506    27453           831                0   \n",
       "174                 1.18%     3450    60254           467              644   \n",
       "175                    0%     1493    16968           333                0   \n",
       "177                 0.49%     1027    10852           567               60   \n",
       "\n",
       "    Percentage Death Change      Tests   Active Recovered Per Million.2  \\\n",
       "0                     0.43%  412673730  6750102  15833462          2038   \n",
       "169                   0.21%   76088768  2528495   3160501          9540   \n",
       "170                   0.41%   14144344   781401   2709638         12735   \n",
       "171                   1.49%   35292220   710697   2336796          1691   \n",
       "172                   0.45%   34447560   169727    770639          5280   \n",
       "142                   0.55%    3553425    90244    506470          8524   \n",
       "173                      0%    2950589   166639    391144         11840   \n",
       "174                   1.08%    1253432   115470    380492          2947   \n",
       "175                      0%    2450441   156343    359792          7060   \n",
       "177                   0.56%    2204009    15634    371179         19393   \n",
       "\n",
       "     Population  \n",
       "0    7769081067  \n",
       "169   331282824  \n",
       "170   212776644  \n",
       "171  1381937641  \n",
       "172   145943650  \n",
       "142    59414253  \n",
       "173    33036403  \n",
       "174   129125341  \n",
       "175    50959957  \n",
       "177    19139679  "
      ]
     },
     "execution_count": 52,
     "metadata": {},
     "output_type": "execute_result"
    }
   ],
   "source": [
    "# We will now sort the countries based on total confirmed cases column\n",
    "\n",
    "world_df = world_df.sort_values(\"Confirmed\" , ascending = False)\n",
    "\n",
    "\n",
    "\n",
    "#Lets get top 10 affected countries\n",
    "\n",
    "world_df.head(10)\n"
   ]
  },
  {
   "cell_type": "markdown",
   "metadata": {},
   "source": [
    "#### Lets see many coulmns are missing values."
   ]
  },
  {
   "cell_type": "code",
   "execution_count": 53,
   "metadata": {},
   "outputs": [
    {
     "name": "stdout",
     "output_type": "stream",
     "text": [
      "<class 'pandas.core.frame.DataFrame'>\n",
      "Int64Index: 215 entries, 0 to 213\n",
      "Data columns (total 15 columns):\n",
      " #   Column                   Non-Null Count  Dtype \n",
      "---  ------                   --------------  ----- \n",
      " 0   Name                     215 non-null    object\n",
      " 1   Confirmed                215 non-null    int64 \n",
      " 2   Per Million              215 non-null    object\n",
      " 3   Changes Today            215 non-null    int64 \n",
      " 4   Percentage Day Change    215 non-null    object\n",
      " 5   Critical                 215 non-null    object\n",
      " 6   Deceased                 215 non-null    object\n",
      " 7   Per Million.1            215 non-null    object\n",
      " 8   Changes Today.1          215 non-null    int64 \n",
      " 9   Percentage Death Change  215 non-null    object\n",
      " 10  Tests                    215 non-null    object\n",
      " 11  Active                   215 non-null    object\n",
      " 12  Recovered                215 non-null    object\n",
      " 13  Per Million.2            215 non-null    object\n",
      " 14  Population               215 non-null    object\n",
      "dtypes: int64(3), object(12)\n",
      "memory usage: 26.9+ KB\n"
     ]
    }
   ],
   "source": [
    "world_df.info()"
   ]
  },
  {
   "cell_type": "markdown",
   "metadata": {},
   "source": [
    "#### Lets import seaborn as well as matplotlib"
   ]
  },
  {
   "cell_type": "code",
   "execution_count": 54,
   "metadata": {},
   "outputs": [],
   "source": [
    "#We can also visualize the same using seaborn\n",
    "\n",
    "import matplotlib.pyplot as plt\n",
    "import seaborn as sns\n",
    "%matplotlib inline"
   ]
  },
  {
   "cell_type": "code",
   "execution_count": 55,
   "metadata": {},
   "outputs": [
    {
     "data": {
      "text/plain": [
       "<matplotlib.axes._subplots.AxesSubplot at 0x23afa7503c8>"
      ]
     },
     "execution_count": 55,
     "metadata": {},
     "output_type": "execute_result"
    },
    {
     "data": {
      "image/png": "[encoded data removed]",
      "text/plain": [
       "<Figure size 1080x720 with 2 Axes>"
      ]
     },
     "metadata": {
      "needs_background": "light"
     },
     "output_type": "display_data"
    }
   ],
   "source": [
    "plt.figure(figsize=(15,10))\n",
    "sns.heatmap(world_df.isnull())"
   ]
  },
  {
   "cell_type": "markdown",
   "metadata": {},
   "source": [
    "#### We'll use plotly express for visualization.\n",
    "1. It generates graphs which are interactive and user friendly.\n",
    "2. We can use zoom in and zoom out feature for proper understanding to a specific part of graph."
   ]
  },
  {
   "cell_type": "code",
   "execution_count": 56,
   "metadata": {},
   "outputs": [],
   "source": [
    "import plotly.express as px\n",
    "import chart_studio.plotly as py\n",
    "import plotly.graph_objs as go \n",
    "from plotly.offline import download_plotlyjs, init_notebook_mode, plot, iplot"
   ]
  },
  {
   "cell_type": "markdown",
   "metadata": {},
   "source": [
    "#### Plot number of confirmed cases."
   ]
  },
  {
   "cell_type": "code",
   "execution_count": 57,
   "metadata": {},
   "outputs": [
    {
     "data": {
      "application/vnd.plotly.v1+json": {
       "config": {
        "plotlyServerURL": "https://plot.ly"
       },
       "data": [
        {
         "alignmentgroup": "True",
         "hovertemplate": "Name=%{x}<br>Confirmed=%{y}<extra></extra>",
         "legendgroup": "",
         "marker": {
          "color": "#636efa"
         },
         "name": "",
         "offsetgroup": "",
         "orientation": "v",
         "showlegend": false,
         "textposition": "auto",
         "type": "bar",
         "x": [
          "TOTAL",
          "★  United States",
          "★  Brazil",
          "★  India",
          "★  Russia",
          "★  South Africa",
          "★  Peru",
          "★  Mexico",
          "★  Colombia",
          "★  Chile",
          "★  Spain",
          "★  Iran",
          "★  Argentina",
          "★  United Kingdom",
          "★  Saudi Arabia",
          "★  Bangladesh",
          "★  Pakistan",
          "★  France",
          "★  Italy",
          "★  Turkey",
          "★  Germany",
          "★  Iraq",
          "★  Philippines",
          "★  Indonesia",
          "★  Canada",
          "★  Qatar",
          "★  Bolivia",
          "★  Ecuador",
          "★  Ukraine",
          "★  Kazakhstan",
          "★  Israel",
          "★  Egypt",
          "★  Dominican Republic",
          "★  Sweden",
          "★  Panama",
          "★  China",
          "★  Oman",
          "★  Belgium",
          "★  Kuwait",
          "★  Romania",
          "★  Belarus",
          "★  Guatemala",
          "★  United Arab Emirates",
          "★  Netherlands",
          "★  Poland",
          "★  Japan",
          "★  Singapore",
          "★  Portugal",
          "★  Honduras",
          "★  Morocco",
          "★  Nigeria",
          "★  Bahrain",
          "★  Ghana",
          "★  Kyrgyzstan",
          "★  Armenia",
          "★  Algeria",
          "★  Ethiopia",
          "★  Switzerland",
          "★  Venezuela",
          "★  Uzbekistan",
          "★  Afghanistan",
          "★  Azerbaijan",
          "★  Costa Rica",
          "★  Moldova",
          "★  Kenya",
          "★  Nepal",
          "★  Serbia",
          "★  Ireland",
          "★  Austria",
          "★  Australia",
          "★  El Salvador",
          "★  Czechia",
          "★  Palestine",
          "★  Cameroon",
          "★  Bosnia and Herzegovina",
          "★  Ivory Coast",
          "★  South Korea",
          "★  Denmark",
          "★  Bulgaria",
          "★  Madagascar",
          "★  North Macedonia",
          "★  Paraguay",
          "★  Senegal",
          "★  Sudan",
          "★  Lebanon",
          "★  Kosovo",
          "★  Zambia",
          "★  Libya",
          "★  Norway",
          "★  DR Congo",
          "★  Malaysia",
          "★  Guinea",
          "★  French Guiana",
          "★  Greece",
          "★  Albania",
          "★  Gabon",
          "★  Tajikistan",
          "★  Croatia",
          "★  Haiti",
          "★  Finland",
          "★  Luxembourg",
          "★  Mauritania",
          "★  Maldives",
          "★  Zimbabwe",
          "★  Namibia",
          "★  Malawi",
          "★  Djibouti",
          "★  Hungary",
          "★  Equatorial Guinea",
          "★  Hong Kong",
          "★  Central African Republic",
          "★  Montenegro",
          "★  Nicaragua",
          "★  Eswatini",
          "★  Congo",
          "★  Cuba",
          "★  Suriname",
          "★  Cape Verde",
          "★  Mozambique",
          "★  Thailand",
          "★  Slovakia",
          "★  Somalia",
          "★  Mayotte",
          "★  Rwanda",
          "★  Sri Lanka",
          "★  Tunisia",
          "★  Mali",
          "★  The Gambia",
          "★  Slovenia",
          "★  Lithuania",
          "★  South Sudan",
          "★  Estonia",
          "★  Uganda",
          "★  Syria",
          "★  Angola",
          "★  Guinea-Bissau",
          "★  Benin",
          "★  Iceland",
          "★  Sierra Leone",
          "★  Yemen",
          "★  The Bahamas",
          "★  New Zealand",
          "★  Malta",
          "★  Jordan",
          "★  Aruba",
          "★  Uruguay",
          "★  Cyprus",
          "★  Jamaica",
          "★  Georgia",
          "★  Latvia",
          "★  Burkina Faso",
          "★  Botswana",
          "★  Liberia",
          "★  Togo",
          "★  Reunion",
          "★  Niger",
          "★  Andorra",
          "★  Vietnam",
          "★  Lesotho",
          "★  Chad",
          "★  Trinidad and Tobago",
          "★  Guyana",
          "★  SÃ£o TomÃ© and PrÃ­ncipe",
          "★  Guadeloupe",
          "★  San Marino",
          "★  Belize",
          "★  Channel Islands",
          "★  Tanzania",
          "★  Taiwan",
          "★  Myanmar",
          "★  Burundi",
          "★  Comoros",
          "★  Faroe Islands",
          "★  Turks and Caicos Islands",
          "★  Sint Maarten",
          "★  Papua New Guinea",
          "★  Mauritius",
          "★  Martinique",
          "★  Isle of Man",
          "★  Eritrea",
          "★  Mongolia",
          "★  French Polynesia",
          "★  Cambodia",
          "★  Gibraltar",
          "★  Cayman Islands",
          "★  Saint Martin",
          "★  Bermuda",
          "★  Barbados",
          "★  Bhutan",
          "★  Monaco",
          "★  Brunei",
          "★  Seychelles",
          "★  Liechtenstein",
          "★  Antigua and Barbuda",
          "★  Saint Vincent and the Grenadines",
          "★  Macao",
          "★  Curacao",
          "★  Fiji",
          "★  Saint Lucia",
          "★  Timor-Leste",
          "★  Grenada",
          "★  New Caledonia",
          "★  Laos",
          "★  British Virgin Islands",
          "★  Dominica",
          "★  Saint Kitts and Nevis",
          "★  Saint Barthelemy",
          "★  Greenland",
          "★  Montserrat",
          "★  Caribbean Netherlands",
          "★  Falkland Islands",
          "★  Vatican City",
          "★  Western Sahara",
          "★  Saint Pierre and Miquelon",
          "★  Anguilla"
         ],
         "xaxis": "x",
         "y": [
          23545594,
          5869551,
          3605783,
          3105185,
          956749,
          609773,
          585236,
          556216,
          533103,
          397665,
          386054,
          358905,
          336802,
          325642,
          307479,
          294598,
          292765,
          260873,
          259345,
          258249,
          234399,
          204341,
          189601,
          153535,
          126547,
          117008,
          108427,
          107769,
          104958,
          104543,
          102663,
          97237,
          91161,
          86068,
          85480,
          84951,
          83769,
          81468,
          80528,
          78505,
          70468,
          67856,
          67007,
          66554,
          61762,
          60733,
          56353,
          55597,
          53983,
          52349,
          51905,
          49038,
          43505,
          43023,
          42792,
          41460,
          40671,
          39903,
          38957,
          38946,
          37999,
          35274,
          33820,
          33478,
          32364,
          31935,
          30657,
          27969,
          25253,
          24812,
          24622,
          21867,
          18802,
          18762,
          17715,
          17471,
          17399,
          16317,
          15287,
          14327,
          13595,
          12974,
          12949,
          12836,
          12698,
          12168,
          11082,
          10437,
          10318,
          9830,
          9267,
          8967,
          8797,
          8664,
          8427,
          8388,
          8311,
          8175,
          8082,
          7920,
          7762,
          6905,
          6660,
          5893,
          5854,
          5382,
          5382,
          5155,
          4926,
          4683,
          4679,
          4313,
          4311,
          4189,
          3850,
          3617,
          3569,
          3455,
          3395,
          3395,
          3356,
          3269,
          3237,
          3089,
          2953,
          2818,
          2705,
          2685,
          2651,
          2635,
          2499,
          2272,
          2263,
          2217,
          2171,
          2149,
          2115,
          2064,
          1980,
          1911,
          1765,
          1674,
          1612,
          1609,
          1568,
          1521,
          1421,
          1413,
          1411,
          1337,
          1320,
          1308,
          1286,
          1277,
          1209,
          1172,
          1045,
          1016,
          1015,
          986,
          963,
          925,
          892,
          771,
          704,
          668,
          614,
          509,
          487,
          450,
          430,
          417,
          384,
          383,
          368,
          361,
          346,
          336,
          336,
          306,
          298,
          298,
          273,
          246,
          205,
          176,
          167,
          158,
          155,
          154,
          143,
          132,
          99,
          94,
          58,
          46,
          39,
          28,
          26,
          26,
          24,
          23,
          22,
          21,
          19,
          17,
          16,
          14,
          13,
          13,
          13,
          12,
          10,
          5,
          3
         ],
         "yaxis": "y"
        }
       ],
       "layout": {
        "barmode": "relative",
        "legend": {
         "tracegroupgap": 0
        },
        "margin": {
         "t": 60
        },
        "template": {
         "data": {
          "bar": [
           {
            "error_x": {
             "color": "#2a3f5f"
            },
            "error_y": {
             "color": "#2a3f5f"
            },
            "marker": {
             "line": {
              "color": "#E5ECF6",
              "width": 0.5
             }
            },
            "type": "bar"
           }
          ],
          "barpolar": [
           {
            "marker": {
             "line": {
              "color": "#E5ECF6",
              "width": 0.5
             }
            },
            "type": "barpolar"
           }
          ],
          "carpet": [
           {
            "aaxis": {
             "endlinecolor": "#2a3f5f",
             "gridcolor": "white",
             "linecolor": "white",
             "minorgridcolor": "white",
             "startlinecolor": "#2a3f5f"
            },
            "baxis": {
             "endlinecolor": "#2a3f5f",
             "gridcolor": "white",
             "linecolor": "white",
             "minorgridcolor": "white",
             "startlinecolor": "#2a3f5f"
            },
            "type": "carpet"
           }
          ],
          "choropleth": [
           {
            "colorbar": {
             "outlinewidth": 0,
             "ticks": ""
            },
            "type": "choropleth"
           }
          ],
          "contour": [
           {
            "colorbar": {
             "outlinewidth": 0,
             "ticks": ""
            },
            "colorscale": [
             [
              0,
              "#0d0887"
             ],
             [
              0.1111111111111111,
              "#46039f"
             ],
             [
              0.2222222222222222,
              "#7201a8"
             ],
             [
              0.3333333333333333,
              "#9c179e"
             ],
             [
              0.4444444444444444,
              "#bd3786"
             ],
             [
              0.5555555555555556,
              "#d8576b"
             ],
             [
              0.6666666666666666,
              "#ed7953"
             ],
             [
              0.7777777777777778,
              "#fb9f3a"
             ],
             [
              0.8888888888888888,
              "#fdca26"
             ],
             [
              1,
              "#f0f921"
             ]
            ],
            "type": "contour"
           }
          ],
          "contourcarpet": [
           {
            "colorbar": {
             "outlinewidth": 0,
             "ticks": ""
            },
            "type": "contourcarpet"
           }
          ],
          "heatmap": [
           {
            "colorbar": {
             "outlinewidth": 0,
             "ticks": ""
            },
            "colorscale": [
             [
              0,
              "#0d0887"
             ],
             [
              0.1111111111111111,
              "#46039f"
             ],
             [
              0.2222222222222222,
              "#7201a8"
             ],
             [
              0.3333333333333333,
              "#9c179e"
             ],
             [
              0.4444444444444444,
              "#bd3786"
             ],
             [
              0.5555555555555556,
              "#d8576b"
             ],
             [
              0.6666666666666666,
              "#ed7953"
             ],
             [
              0.7777777777777778,
              "#fb9f3a"
             ],
             [
              0.8888888888888888,
              "#fdca26"
             ],
             [
              1,
              "#f0f921"
             ]
            ],
            "type": "heatmap"
           }
          ],
          "heatmapgl": [
           {
            "colorbar": {
             "outlinewidth": 0,
             "ticks": ""
            },
            "colorscale": [
             [
              0,
              "#0d0887"
             ],
             [
              0.1111111111111111,
              "#46039f"
             ],
             [
              0.2222222222222222,
              "#7201a8"
             ],
             [
              0.3333333333333333,
              "#9c179e"
             ],
             [
              0.4444444444444444,
              "#bd3786"
             ],
             [
              0.5555555555555556,
              "#d8576b"
             ],
             [
              0.6666666666666666,
              "#ed7953"
             ],
             [
              0.7777777777777778,
              "#fb9f3a"
             ],
             [
              0.8888888888888888,
              "#fdca26"
             ],
             [
              1,
              "#f0f921"
             ]
            ],
            "type": "heatmapgl"
           }
          ],
          "histogram": [
           {
            "marker": {
             "colorbar": {
              "outlinewidth": 0,
              "ticks": ""
             }
            },
            "type": "histogram"
           }
          ],
          "histogram2d": [
           {
            "colorbar": {
             "outlinewidth": 0,
             "ticks": ""
            },
            "colorscale": [
             [
              0,
              "#0d0887"
             ],
             [
              0.1111111111111111,
              "#46039f"
             ],
             [
              0.2222222222222222,
              "#7201a8"
             ],
             [
              0.3333333333333333,
              "#9c179e"
             ],
             [
              0.4444444444444444,
              "#bd3786"
             ],
             [
              0.5555555555555556,
              "#d8576b"
             ],
             [
              0.6666666666666666,
              "#ed7953"
             ],
             [
              0.7777777777777778,
              "#fb9f3a"
             ],
             [
              0.8888888888888888,
              "#fdca26"
             ],
             [
              1,
              "#f0f921"
             ]
            ],
            "type": "histogram2d"
           }
          ],
          "histogram2dcontour": [
           {
            "colorbar": {
             "outlinewidth": 0,
             "ticks": ""
            },
            "colorscale": [
             [
              0,
              "#0d0887"
             ],
             [
              0.1111111111111111,
              "#46039f"
             ],
             [
              0.2222222222222222,
              "#7201a8"
             ],
             [
              0.3333333333333333,
              "#9c179e"
             ],
             [
              0.4444444444444444,
              "#bd3786"
             ],
             [
              0.5555555555555556,
              "#d8576b"
             ],
             [
              0.6666666666666666,
              "#ed7953"
             ],
             [
              0.7777777777777778,
              "#fb9f3a"
             ],
             [
              0.8888888888888888,
              "#fdca26"
             ],
             [
              1,
              "#f0f921"
             ]
            ],
            "type": "histogram2dcontour"
           }
          ],
          "mesh3d": [
           {
            "colorbar": {
             "outlinewidth": 0,
             "ticks": ""
            },
            "type": "mesh3d"
           }
          ],
          "parcoords": [
           {
            "line": {
             "colorbar": {
              "outlinewidth": 0,
              "ticks": ""
             }
            },
            "type": "parcoords"
           }
          ],
          "pie": [
           {
            "automargin": true,
            "type": "pie"
           }
          ],
          "scatter": [
           {
            "marker": {
             "colorbar": {
              "outlinewidth": 0,
              "ticks": ""
             }
            },
            "type": "scatter"
           }
          ],
          "scatter3d": [
           {
            "line": {
             "colorbar": {
              "outlinewidth": 0,
              "ticks": ""
             }
            },
            "marker": {
             "colorbar": {
              "outlinewidth": 0,
              "ticks": ""
             }
            },
            "type": "scatter3d"
           }
          ],
          "scattercarpet": [
           {
            "marker": {
             "colorbar": {
              "outlinewidth": 0,
              "ticks": ""
             }
            },
            "type": "scattercarpet"
           }
          ],
          "scattergeo": [
           {
            "marker": {
             "colorbar": {
              "outlinewidth": 0,
              "ticks": ""
             }
            },
            "type": "scattergeo"
           }
          ],
          "scattergl": [
           {
            "marker": {
             "colorbar": {
              "outlinewidth": 0,
              "ticks": ""
             }
            },
            "type": "scattergl"
           }
          ],
          "scattermapbox": [
           {
            "marker": {
             "colorbar": {
              "outlinewidth": 0,
              "ticks": ""
             }
            },
            "type": "scattermapbox"
           }
          ],
          "scatterpolar": [
           {
            "marker": {
             "colorbar": {
              "outlinewidth": 0,
              "ticks": ""
             }
            },
            "type": "scatterpolar"
           }
          ],
          "scatterpolargl": [
           {
            "marker": {
             "colorbar": {
              "outlinewidth": 0,
              "ticks": ""
             }
            },
            "type": "scatterpolargl"
           }
          ],
          "scatterternary": [
           {
            "marker": {
             "colorbar": {
              "outlinewidth": 0,
              "ticks": ""
             }
            },
            "type": "scatterternary"
           }
          ],
          "surface": [
           {
            "colorbar": {
             "outlinewidth": 0,
             "ticks": ""
            },
            "colorscale": [
             [
              0,
              "#0d0887"
             ],
             [
              0.1111111111111111,
              "#46039f"
             ],
             [
              0.2222222222222222,
              "#7201a8"
             ],
             [
              0.3333333333333333,
              "#9c179e"
             ],
             [
              0.4444444444444444,
              "#bd3786"
             ],
             [
              0.5555555555555556,
              "#d8576b"
             ],
             [
              0.6666666666666666,
              "#ed7953"
             ],
             [
              0.7777777777777778,
              "#fb9f3a"
             ],
             [
              0.8888888888888888,
              "#fdca26"
             ],
             [
              1,
              "#f0f921"
             ]
            ],
            "type": "surface"
           }
          ],
          "table": [
           {
            "cells": {
             "fill": {
              "color": "#EBF0F8"
             },
             "line": {
              "color": "white"
             }
            },
            "header": {
             "fill": {
              "color": "#C8D4E3"
             },
             "line": {
              "color": "white"
             }
            },
            "type": "table"
           }
          ]
         },
         "layout": {
          "annotationdefaults": {
           "arrowcolor": "#2a3f5f",
           "arrowhead": 0,
           "arrowwidth": 1
          },
          "coloraxis": {
           "colorbar": {
            "outlinewidth": 0,
            "ticks": ""
           }
          },
          "colorscale": {
           "diverging": [
            [
             0,
             "#8e0152"
            ],
            [
             0.1,
             "#c51b7d"
            ],
            [
             0.2,
             "#de77ae"
            ],
            [
             0.3,
             "#f1b6da"
            ],
            [
             0.4,
             "#fde0ef"
            ],
            [
             0.5,
             "#f7f7f7"
            ],
            [
             0.6,
             "#e6f5d0"
            ],
            [
             0.7,
             "#b8e186"
            ],
            [
             0.8,
             "#7fbc41"
            ],
            [
             0.9,
             "#4d9221"
            ],
            [
             1,
             "#276419"
            ]
           ],
           "sequential": [
            [
             0,
             "#0d0887"
            ],
            [
             0.1111111111111111,
             "#46039f"
            ],
            [
             0.2222222222222222,
             "#7201a8"
            ],
            [
             0.3333333333333333,
             "#9c179e"
            ],
            [
             0.4444444444444444,
             "#bd3786"
            ],
            [
             0.5555555555555556,
             "#d8576b"
            ],
            [
             0.6666666666666666,
             "#ed7953"
            ],
            [
             0.7777777777777778,
             "#fb9f3a"
            ],
            [
             0.8888888888888888,
             "#fdca26"
            ],
            [
             1,
             "#f0f921"
            ]
           ],
           "sequentialminus": [
            [
             0,
             "#0d0887"
            ],
            [
             0.1111111111111111,
             "#46039f"
            ],
            [
             0.2222222222222222,
             "#7201a8"
            ],
            [
             0.3333333333333333,
             "#9c179e"
            ],
            [
             0.4444444444444444,
             "#bd3786"
            ],
            [
             0.5555555555555556,
             "#d8576b"
            ],
            [
             0.6666666666666666,
             "#ed7953"
            ],
            [
             0.7777777777777778,
             "#fb9f3a"
            ],
            [
             0.8888888888888888,
             "#fdca26"
            ],
            [
             1,
             "#f0f921"
            ]
           ]
          },
          "colorway": [
           "#636efa",
           "#EF553B",
           "#00cc96",
           "#ab63fa",
           "#FFA15A",
           "#19d3f3",
           "#FF6692",
           "#B6E880",
           "#FF97FF",
           "#FECB52"
          ],
          "font": {
           "color": "#2a3f5f"
          },
          "geo": {
           "bgcolor": "white",
           "lakecolor": "white",
           "landcolor": "#E5ECF6",
           "showlakes": true,
           "showland": true,
           "subunitcolor": "white"
          },
          "hoverlabel": {
           "align": "left"
          },
          "hovermode": "closest",
          "mapbox": {
           "style": "light"
          },
          "paper_bgcolor": "white",
          "plot_bgcolor": "#E5ECF6",
          "polar": {
           "angularaxis": {
            "gridcolor": "white",
            "linecolor": "white",
            "ticks": ""
           },
           "bgcolor": "#E5ECF6",
           "radialaxis": {
            "gridcolor": "white",
            "linecolor": "white",
            "ticks": ""
           }
          },
          "scene": {
           "xaxis": {
            "backgroundcolor": "#E5ECF6",
            "gridcolor": "white",
            "gridwidth": 2,
            "linecolor": "white",
            "showbackground": true,
            "ticks": "",
            "zerolinecolor": "white"
           },
           "yaxis": {
            "backgroundcolor": "#E5ECF6",
            "gridcolor": "white",
            "gridwidth": 2,
            "linecolor": "white",
            "showbackground": true,
            "ticks": "",
            "zerolinecolor": "white"
           },
           "zaxis": {
            "backgroundcolor": "#E5ECF6",
            "gridcolor": "white",
            "gridwidth": 2,
            "linecolor": "white",
            "showbackground": true,
            "ticks": "",
            "zerolinecolor": "white"
           }
          },
          "shapedefaults": {
           "line": {
            "color": "#2a3f5f"
           }
          },
          "ternary": {
           "aaxis": {
            "gridcolor": "white",
            "linecolor": "white",
            "ticks": ""
           },
           "baxis": {
            "gridcolor": "white",
            "linecolor": "white",
            "ticks": ""
           },
           "bgcolor": "#E5ECF6",
           "caxis": {
            "gridcolor": "white",
            "linecolor": "white",
            "ticks": ""
           }
          },
          "title": {
           "x": 0.05
          },
          "xaxis": {
           "automargin": true,
           "gridcolor": "white",
           "linecolor": "white",
           "ticks": "",
           "title": {
            "standoff": 15
           },
           "zerolinecolor": "white",
           "zerolinewidth": 2
          },
          "yaxis": {
           "automargin": true,
           "gridcolor": "white",
           "linecolor": "white",
           "ticks": "",
           "title": {
            "standoff": 15
           },
           "zerolinecolor": "white",
           "zerolinewidth": 2
          }
         }
        },
        "xaxis": {
         "anchor": "y",
         "domain": [
          0,
          1
         ],
         "title": {
          "text": "Name"
         }
        },
        "yaxis": {
         "anchor": "x",
         "domain": [
          0,
          1
         ],
         "title": {
          "text": "Confirmed"
         }
        }
       }
      },
      "text/html": [
       "<div>\n",
       "        \n",
       "        \n",
       "            <div id=\"9c0690aa-ab86-4f55-aa04-792114f87ff1\" class=\"plotly-graph-div\" style=\"height:525px; width:100%;\"></div>\n",
       "            <script type=\"text/javascript\">\n",
       "                require([\"plotly\"], function(Plotly) {\n",
       "                    window.PLOTLYENV=window.PLOTLYENV || {};\n",
       "                    \n",
       "                if (document.getElementById(\"9c0690aa-ab86-4f55-aa04-792114f87ff1\")) {\n",
       "                    Plotly.newPlot(\n",
       "                        '9c0690aa-ab86-4f55-aa04-792114f87ff1',\n",
       "                        [{\"alignmentgroup\": \"True\", \"hovertemplate\": \"Name=%{x}<br>Confirmed=%{y}<extra></extra>\", \"legendgroup\": \"\", \"marker\": {\"color\": \"#636efa\"}, \"name\": \"\", \"offsetgroup\": \"\", \"orientation\": \"v\", \"showlegend\": false, \"textposition\": \"auto\", \"type\": \"bar\", \"x\": [\"TOTAL\", \"\\u2605  United States\", \"\\u2605  Brazil\", \"\\u2605  India\", \"\\u2605  Russia\", \"\\u2605  South Africa\", \"\\u2605  Peru\", \"\\u2605  Mexico\", \"\\u2605  Colombia\", \"\\u2605  Chile\", \"\\u2605  Spain\", \"\\u2605  Iran\", \"\\u2605  Argentina\", \"\\u2605  United Kingdom\", \"\\u2605  Saudi Arabia\", \"\\u2605  Bangladesh\", \"\\u2605  Pakistan\", \"\\u2605  France\", \"\\u2605  Italy\", \"\\u2605  Turkey\", \"\\u2605  Germany\", \"\\u2605  Iraq\", \"\\u2605  Philippines\", \"\\u2605  Indonesia\", \"\\u2605  Canada\", \"\\u2605  Qatar\", \"\\u2605  Bolivia\", \"\\u2605  Ecuador\", \"\\u2605  Ukraine\", \"\\u2605  Kazakhstan\", \"\\u2605  Israel\", \"\\u2605  Egypt\", \"\\u2605  Dominican Republic\", \"\\u2605  Sweden\", \"\\u2605  Panama\", \"\\u2605  China\", \"\\u2605  Oman\", \"\\u2605  Belgium\", \"\\u2605  Kuwait\", \"\\u2605  Romania\", \"\\u2605  Belarus\", \"\\u2605  Guatemala\", \"\\u2605  United Arab Emirates\", \"\\u2605  Netherlands\", \"\\u2605  Poland\", \"\\u2605  Japan\", \"\\u2605  Singapore\", \"\\u2605  Portugal\", \"\\u2605  Honduras\", \"\\u2605  Morocco\", \"\\u2605  Nigeria\", \"\\u2605  Bahrain\", \"\\u2605  Ghana\", \"\\u2605  Kyrgyzstan\", \"\\u2605  Armenia\", \"\\u2605  Algeria\", \"\\u2605  Ethiopia\", \"\\u2605  Switzerland\", \"\\u2605  Venezuela\", \"\\u2605  Uzbekistan\", \"\\u2605  Afghanistan\", \"\\u2605  Azerbaijan\", \"\\u2605  Costa Rica\", \"\\u2605  Moldova\", \"\\u2605  Kenya\", \"\\u2605  Nepal\", \"\\u2605  Serbia\", \"\\u2605  Ireland\", \"\\u2605  Austria\", \"\\u2605  Australia\", \"\\u2605  El Salvador\", \"\\u2605  Czechia\", \"\\u2605  Palestine\", \"\\u2605  Cameroon\", \"\\u2605  Bosnia and Herzegovina\", \"\\u2605  Ivory Coast\", \"\\u2605  South Korea\", \"\\u2605  Denmark\", \"\\u2605  Bulgaria\", \"\\u2605  Madagascar\", \"\\u2605  North Macedonia\", \"\\u2605  Paraguay\", \"\\u2605  Senegal\", \"\\u2605  Sudan\", \"\\u2605  Lebanon\", \"\\u2605  Kosovo\", \"\\u2605  Zambia\", \"\\u2605  Libya\", \"\\u2605  Norway\", \"\\u2605  DR Congo\", \"\\u2605  Malaysia\", \"\\u2605  Guinea\", \"\\u2605  French Guiana\", \"\\u2605  Greece\", \"\\u2605  Albania\", \"\\u2605  Gabon\", \"\\u2605  Tajikistan\", \"\\u2605  Croatia\", \"\\u2605  Haiti\", \"\\u2605  Finland\", \"\\u2605  Luxembourg\", \"\\u2605  Mauritania\", \"\\u2605  Maldives\", \"\\u2605  Zimbabwe\", \"\\u2605  Namibia\", \"\\u2605  Malawi\", \"\\u2605  Djibouti\", \"\\u2605  Hungary\", \"\\u2605  Equatorial Guinea\", \"\\u2605  Hong Kong\", \"\\u2605  Central African Republic\", \"\\u2605  Montenegro\", \"\\u2605  Nicaragua\", \"\\u2605  Eswatini\", \"\\u2605  Congo\", \"\\u2605  Cuba\", \"\\u2605  Suriname\", \"\\u2605  Cape Verde\", \"\\u2605  Mozambique\", \"\\u2605  Thailand\", \"\\u2605  Slovakia\", \"\\u2605  Somalia\", \"\\u2605  Mayotte\", \"\\u2605  Rwanda\", \"\\u2605  Sri Lanka\", \"\\u2605  Tunisia\", \"\\u2605  Mali\", \"\\u2605  The Gambia\", \"\\u2605  Slovenia\", \"\\u2605  Lithuania\", \"\\u2605  South Sudan\", \"\\u2605  Estonia\", \"\\u2605  Uganda\", \"\\u2605  Syria\", \"\\u2605  Angola\", \"\\u2605  Guinea-Bissau\", \"\\u2605  Benin\", \"\\u2605  Iceland\", \"\\u2605  Sierra Leone\", \"\\u2605  Yemen\", \"\\u2605  The Bahamas\", \"\\u2605  New Zealand\", \"\\u2605  Malta\", \"\\u2605  Jordan\", \"\\u2605  Aruba\", \"\\u2605  Uruguay\", \"\\u2605  Cyprus\", \"\\u2605  Jamaica\", \"\\u2605  Georgia\", \"\\u2605  Latvia\", \"\\u2605  Burkina Faso\", \"\\u2605  Botswana\", \"\\u2605  Liberia\", \"\\u2605  Togo\", \"\\u2605  Reunion\", \"\\u2605  Niger\", \"\\u2605  Andorra\", \"\\u2605  Vietnam\", \"\\u2605  Lesotho\", \"\\u2605  Chad\", \"\\u2605  Trinidad and Tobago\", \"\\u2605  Guyana\", \"\\u2605  S\\u00c3\\u00a3o Tom\\u00c3\\u00a9 and Pr\\u00c3\\u00adncipe\", \"\\u2605  Guadeloupe\", \"\\u2605  San Marino\", \"\\u2605  Belize\", \"\\u2605  Channel Islands\", \"\\u2605  Tanzania\", \"\\u2605  Taiwan\", \"\\u2605  Myanmar\", \"\\u2605  Burundi\", \"\\u2605  Comoros\", \"\\u2605  Faroe Islands\", \"\\u2605  Turks and Caicos Islands\", \"\\u2605  Sint Maarten\", \"\\u2605  Papua New Guinea\", \"\\u2605  Mauritius\", \"\\u2605  Martinique\", \"\\u2605  Isle of Man\", \"\\u2605  Eritrea\", \"\\u2605  Mongolia\", \"\\u2605  French Polynesia\", \"\\u2605  Cambodia\", \"\\u2605  Gibraltar\", \"\\u2605  Cayman Islands\", \"\\u2605  Saint Martin\", \"\\u2605  Bermuda\", \"\\u2605  Barbados\", \"\\u2605  Bhutan\", \"\\u2605  Monaco\", \"\\u2605  Brunei\", \"\\u2605  Seychelles\", \"\\u2605  Liechtenstein\", \"\\u2605  Antigua and Barbuda\", \"\\u2605  Saint Vincent and the Grenadines\", \"\\u2605  Macao\", \"\\u2605  Curacao\", \"\\u2605  Fiji\", \"\\u2605  Saint Lucia\", \"\\u2605  Timor-Leste\", \"\\u2605  Grenada\", \"\\u2605  New Caledonia\", \"\\u2605  Laos\", \"\\u2605  British Virgin Islands\", \"\\u2605  Dominica\", \"\\u2605  Saint Kitts and Nevis\", \"\\u2605  Saint Barthelemy\", \"\\u2605  Greenland\", \"\\u2605  Montserrat\", \"\\u2605  Caribbean Netherlands\", \"\\u2605  Falkland Islands\", \"\\u2605  Vatican City\", \"\\u2605  Western Sahara\", \"\\u2605  Saint Pierre and Miquelon\", \"\\u2605  Anguilla\"], \"xaxis\": \"x\", \"y\": [23545594, 5869551, 3605783, 3105185, 956749, 609773, 585236, 556216, 533103, 397665, 386054, 358905, 336802, 325642, 307479, 294598, 292765, 260873, 259345, 258249, 234399, 204341, 189601, 153535, 126547, 117008, 108427, 107769, 104958, 104543, 102663, 97237, 91161, 86068, 85480, 84951, 83769, 81468, 80528, 78505, 70468, 67856, 67007, 66554, 61762, 60733, 56353, 55597, 53983, 52349, 51905, 49038, 43505, 43023, 42792, 41460, 40671, 39903, 38957, 38946, 37999, 35274, 33820, 33478, 32364, 31935, 30657, 27969, 25253, 24812, 24622, 21867, 18802, 18762, 17715, 17471, 17399, 16317, 15287, 14327, 13595, 12974, 12949, 12836, 12698, 12168, 11082, 10437, 10318, 9830, 9267, 8967, 8797, 8664, 8427, 8388, 8311, 8175, 8082, 7920, 7762, 6905, 6660, 5893, 5854, 5382, 5382, 5155, 4926, 4683, 4679, 4313, 4311, 4189, 3850, 3617, 3569, 3455, 3395, 3395, 3356, 3269, 3237, 3089, 2953, 2818, 2705, 2685, 2651, 2635, 2499, 2272, 2263, 2217, 2171, 2149, 2115, 2064, 1980, 1911, 1765, 1674, 1612, 1609, 1568, 1521, 1421, 1413, 1411, 1337, 1320, 1308, 1286, 1277, 1209, 1172, 1045, 1016, 1015, 986, 963, 925, 892, 771, 704, 668, 614, 509, 487, 450, 430, 417, 384, 383, 368, 361, 346, 336, 336, 306, 298, 298, 273, 246, 205, 176, 167, 158, 155, 154, 143, 132, 99, 94, 58, 46, 39, 28, 26, 26, 24, 23, 22, 21, 19, 17, 16, 14, 13, 13, 13, 12, 10, 5, 3], \"yaxis\": \"y\"}],\n",
       "                        {\"barmode\": \"relative\", \"legend\": {\"tracegroupgap\": 0}, \"margin\": {\"t\": 60}, \"template\": {\"data\": {\"bar\": [{\"error_x\": {\"color\": \"#2a3f5f\"}, \"error_y\": {\"color\": \"#2a3f5f\"}, \"marker\": {\"line\": {\"color\": \"#E5ECF6\", \"width\": 0.5}}, \"type\": \"bar\"}], \"barpolar\": [{\"marker\": {\"line\": {\"color\": \"#E5ECF6\", \"width\": 0.5}}, \"type\": \"barpolar\"}], \"carpet\": [{\"aaxis\": {\"endlinecolor\": \"#2a3f5f\", \"gridcolor\": \"white\", \"linecolor\": \"white\", \"minorgridcolor\": \"white\", \"startlinecolor\": \"#2a3f5f\"}, \"baxis\": {\"endlinecolor\": \"#2a3f5f\", \"gridcolor\": \"white\", \"linecolor\": \"white\", \"minorgridcolor\": \"white\", \"startlinecolor\": \"#2a3f5f\"}, \"type\": \"carpet\"}], \"choropleth\": [{\"colorbar\": {\"outlinewidth\": 0, \"ticks\": \"\"}, \"type\": \"choropleth\"}], \"contour\": [{\"colorbar\": {\"outlinewidth\": 0, \"ticks\": \"\"}, \"colorscale\": [[0.0, \"#0d0887\"], [0.1111111111111111, \"#46039f\"], [0.2222222222222222, \"#7201a8\"], [0.3333333333333333, \"#9c179e\"], [0.4444444444444444, \"#bd3786\"], [0.5555555555555556, \"#d8576b\"], [0.6666666666666666, \"#ed7953\"], [0.7777777777777778, \"#fb9f3a\"], [0.8888888888888888, \"#fdca26\"], [1.0, \"#f0f921\"]], \"type\": \"contour\"}], \"contourcarpet\": [{\"colorbar\": {\"outlinewidth\": 0, \"ticks\": \"\"}, \"type\": \"contourcarpet\"}], \"heatmap\": [{\"colorbar\": {\"outlinewidth\": 0, \"ticks\": \"\"}, \"colorscale\": [[0.0, \"#0d0887\"], [0.1111111111111111, \"#46039f\"], [0.2222222222222222, \"#7201a8\"], [0.3333333333333333, \"#9c179e\"], [0.4444444444444444, \"#bd3786\"], [0.5555555555555556, \"#d8576b\"], [0.6666666666666666, \"#ed7953\"], [0.7777777777777778, \"#fb9f3a\"], [0.8888888888888888, \"#fdca26\"], [1.0, \"#f0f921\"]], \"type\": \"heatmap\"}], \"heatmapgl\": [{\"colorbar\": {\"outlinewidth\": 0, \"ticks\": \"\"}, \"colorscale\": [[0.0, \"#0d0887\"], [0.1111111111111111, \"#46039f\"], [0.2222222222222222, \"#7201a8\"], [0.3333333333333333, \"#9c179e\"], [0.4444444444444444, \"#bd3786\"], [0.5555555555555556, \"#d8576b\"], [0.6666666666666666, \"#ed7953\"], [0.7777777777777778, \"#fb9f3a\"], [0.8888888888888888, \"#fdca26\"], [1.0, \"#f0f921\"]], \"type\": \"heatmapgl\"}], \"histogram\": [{\"marker\": {\"colorbar\": {\"outlinewidth\": 0, \"ticks\": \"\"}}, \"type\": \"histogram\"}], \"histogram2d\": [{\"colorbar\": {\"outlinewidth\": 0, \"ticks\": \"\"}, \"colorscale\": [[0.0, \"#0d0887\"], [0.1111111111111111, \"#46039f\"], [0.2222222222222222, \"#7201a8\"], [0.3333333333333333, \"#9c179e\"], [0.4444444444444444, \"#bd3786\"], [0.5555555555555556, \"#d8576b\"], [0.6666666666666666, \"#ed7953\"], [0.7777777777777778, \"#fb9f3a\"], [0.8888888888888888, \"#fdca26\"], [1.0, \"#f0f921\"]], \"type\": \"histogram2d\"}], \"histogram2dcontour\": [{\"colorbar\": {\"outlinewidth\": 0, \"ticks\": \"\"}, \"colorscale\": [[0.0, \"#0d0887\"], [0.1111111111111111, \"#46039f\"], [0.2222222222222222, \"#7201a8\"], [0.3333333333333333, \"#9c179e\"], [0.4444444444444444, \"#bd3786\"], [0.5555555555555556, \"#d8576b\"], [0.6666666666666666, \"#ed7953\"], [0.7777777777777778, \"#fb9f3a\"], [0.8888888888888888, \"#fdca26\"], [1.0, \"#f0f921\"]], \"type\": \"histogram2dcontour\"}], \"mesh3d\": [{\"colorbar\": {\"outlinewidth\": 0, \"ticks\": \"\"}, \"type\": \"mesh3d\"}], \"parcoords\": [{\"line\": {\"colorbar\": {\"outlinewidth\": 0, \"ticks\": \"\"}}, \"type\": \"parcoords\"}], \"pie\": [{\"automargin\": true, \"type\": \"pie\"}], \"scatter\": [{\"marker\": {\"colorbar\": {\"outlinewidth\": 0, \"ticks\": \"\"}}, \"type\": \"scatter\"}], \"scatter3d\": [{\"line\": {\"colorbar\": {\"outlinewidth\": 0, \"ticks\": \"\"}}, \"marker\": {\"colorbar\": {\"outlinewidth\": 0, \"ticks\": \"\"}}, \"type\": \"scatter3d\"}], \"scattercarpet\": [{\"marker\": {\"colorbar\": {\"outlinewidth\": 0, \"ticks\": \"\"}}, \"type\": \"scattercarpet\"}], \"scattergeo\": [{\"marker\": {\"colorbar\": {\"outlinewidth\": 0, \"ticks\": \"\"}}, \"type\": \"scattergeo\"}], \"scattergl\": [{\"marker\": {\"colorbar\": {\"outlinewidth\": 0, \"ticks\": \"\"}}, \"type\": \"scattergl\"}], \"scattermapbox\": [{\"marker\": {\"colorbar\": {\"outlinewidth\": 0, \"ticks\": \"\"}}, \"type\": \"scattermapbox\"}], \"scatterpolar\": [{\"marker\": {\"colorbar\": {\"outlinewidth\": 0, \"ticks\": \"\"}}, \"type\": \"scatterpolar\"}], \"scatterpolargl\": [{\"marker\": {\"colorbar\": {\"outlinewidth\": 0, \"ticks\": \"\"}}, \"type\": \"scatterpolargl\"}], \"scatterternary\": [{\"marker\": {\"colorbar\": {\"outlinewidth\": 0, \"ticks\": \"\"}}, \"type\": \"scatterternary\"}], \"surface\": [{\"colorbar\": {\"outlinewidth\": 0, \"ticks\": \"\"}, \"colorscale\": [[0.0, \"#0d0887\"], [0.1111111111111111, \"#46039f\"], [0.2222222222222222, \"#7201a8\"], [0.3333333333333333, \"#9c179e\"], [0.4444444444444444, \"#bd3786\"], [0.5555555555555556, \"#d8576b\"], [0.6666666666666666, \"#ed7953\"], [0.7777777777777778, \"#fb9f3a\"], [0.8888888888888888, \"#fdca26\"], [1.0, \"#f0f921\"]], \"type\": \"surface\"}], \"table\": [{\"cells\": {\"fill\": {\"color\": \"#EBF0F8\"}, \"line\": {\"color\": \"white\"}}, \"header\": {\"fill\": {\"color\": \"#C8D4E3\"}, \"line\": {\"color\": \"white\"}}, \"type\": \"table\"}]}, \"layout\": {\"annotationdefaults\": {\"arrowcolor\": \"#2a3f5f\", \"arrowhead\": 0, \"arrowwidth\": 1}, \"coloraxis\": {\"colorbar\": {\"outlinewidth\": 0, \"ticks\": \"\"}}, \"colorscale\": {\"diverging\": [[0, \"#8e0152\"], [0.1, \"#c51b7d\"], [0.2, \"#de77ae\"], [0.3, \"#f1b6da\"], [0.4, \"#fde0ef\"], [0.5, \"#f7f7f7\"], [0.6, \"#e6f5d0\"], [0.7, \"#b8e186\"], [0.8, \"#7fbc41\"], [0.9, \"#4d9221\"], [1, \"#276419\"]], \"sequential\": [[0.0, \"#0d0887\"], [0.1111111111111111, \"#46039f\"], [0.2222222222222222, \"#7201a8\"], [0.3333333333333333, \"#9c179e\"], [0.4444444444444444, \"#bd3786\"], [0.5555555555555556, \"#d8576b\"], [0.6666666666666666, \"#ed7953\"], [0.7777777777777778, \"#fb9f3a\"], [0.8888888888888888, \"#fdca26\"], [1.0, \"#f0f921\"]], \"sequentialminus\": [[0.0, \"#0d0887\"], [0.1111111111111111, \"#46039f\"], [0.2222222222222222, \"#7201a8\"], [0.3333333333333333, \"#9c179e\"], [0.4444444444444444, \"#bd3786\"], [0.5555555555555556, \"#d8576b\"], [0.6666666666666666, \"#ed7953\"], [0.7777777777777778, \"#fb9f3a\"], [0.8888888888888888, \"#fdca26\"], [1.0, \"#f0f921\"]]}, \"colorway\": [\"#636efa\", \"#EF553B\", \"#00cc96\", \"#ab63fa\", \"#FFA15A\", \"#19d3f3\", \"#FF6692\", \"#B6E880\", \"#FF97FF\", \"#FECB52\"], \"font\": {\"color\": \"#2a3f5f\"}, \"geo\": {\"bgcolor\": \"white\", \"lakecolor\": \"white\", \"landcolor\": \"#E5ECF6\", \"showlakes\": true, \"showland\": true, \"subunitcolor\": \"white\"}, \"hoverlabel\": {\"align\": \"left\"}, \"hovermode\": \"closest\", \"mapbox\": {\"style\": \"light\"}, \"paper_bgcolor\": \"white\", \"plot_bgcolor\": \"#E5ECF6\", \"polar\": {\"angularaxis\": {\"gridcolor\": \"white\", \"linecolor\": \"white\", \"ticks\": \"\"}, \"bgcolor\": \"#E5ECF6\", \"radialaxis\": {\"gridcolor\": \"white\", \"linecolor\": \"white\", \"ticks\": \"\"}}, \"scene\": {\"xaxis\": {\"backgroundcolor\": \"#E5ECF6\", \"gridcolor\": \"white\", \"gridwidth\": 2, \"linecolor\": \"white\", \"showbackground\": true, \"ticks\": \"\", \"zerolinecolor\": \"white\"}, \"yaxis\": {\"backgroundcolor\": \"#E5ECF6\", \"gridcolor\": \"white\", \"gridwidth\": 2, \"linecolor\": \"white\", \"showbackground\": true, \"ticks\": \"\", \"zerolinecolor\": \"white\"}, \"zaxis\": {\"backgroundcolor\": \"#E5ECF6\", \"gridcolor\": \"white\", \"gridwidth\": 2, \"linecolor\": \"white\", \"showbackground\": true, \"ticks\": \"\", \"zerolinecolor\": \"white\"}}, \"shapedefaults\": {\"line\": {\"color\": \"#2a3f5f\"}}, \"ternary\": {\"aaxis\": {\"gridcolor\": \"white\", \"linecolor\": \"white\", \"ticks\": \"\"}, \"baxis\": {\"gridcolor\": \"white\", \"linecolor\": \"white\", \"ticks\": \"\"}, \"bgcolor\": \"#E5ECF6\", \"caxis\": {\"gridcolor\": \"white\", \"linecolor\": \"white\", \"ticks\": \"\"}}, \"title\": {\"x\": 0.05}, \"xaxis\": {\"automargin\": true, \"gridcolor\": \"white\", \"linecolor\": \"white\", \"ticks\": \"\", \"title\": {\"standoff\": 15}, \"zerolinecolor\": \"white\", \"zerolinewidth\": 2}, \"yaxis\": {\"automargin\": true, \"gridcolor\": \"white\", \"linecolor\": \"white\", \"ticks\": \"\", \"title\": {\"standoff\": 15}, \"zerolinecolor\": \"white\", \"zerolinewidth\": 2}}}, \"xaxis\": {\"anchor\": \"y\", \"domain\": [0.0, 1.0], \"title\": {\"text\": \"Name\"}}, \"yaxis\": {\"anchor\": \"x\", \"domain\": [0.0, 1.0], \"title\": {\"text\": \"Confirmed\"}}},\n",
       "                        {\"responsive\": true}\n",
       "                    ).then(function(){\n",
       "                            \n",
       "var gd = document.getElementById('9c0690aa-ab86-4f55-aa04-792114f87ff1');\n",
       "var x = new MutationObserver(function (mutations, observer) {{\n",
       "        var display = window.getComputedStyle(gd).display;\n",
       "        if (!display || display === 'none') {{\n",
       "            console.log([gd, 'removed!']);\n",
       "            Plotly.purge(gd);\n",
       "            observer.disconnect();\n",
       "        }}\n",
       "}});\n",
       "\n",
       "// Listen for the removal of the full notebook cells\n",
       "var notebookContainer = gd.closest('#notebook-container');\n",
       "if (notebookContainer) {{\n",
       "    x.observe(notebookContainer, {childList: true});\n",
       "}}\n",
       "\n",
       "// Listen for the clearing of the current output cell\n",
       "var outputEl = gd.closest('.output');\n",
       "if (outputEl) {{\n",
       "    x.observe(outputEl, {childList: true});\n",
       "}}\n",
       "\n",
       "                        })\n",
       "                };\n",
       "                });\n",
       "            </script>\n",
       "        </div>"
      ]
     },
     "metadata": {},
     "output_type": "display_data"
    }
   ],
   "source": [
    "# plotting world_df based on confirmed cases by country names.\n",
    "\n",
    "world_fig = px.bar(world_df, x = 'Name' , y = 'Confirmed')\n",
    "world_fig.show()"
   ]
  },
  {
   "cell_type": "markdown",
   "metadata": {},
   "source": [
    " - We can zoom in the graph, thats the beauty of plotly."
   ]
  },
  {
   "cell_type": "code",
   "execution_count": 58,
   "metadata": {},
   "outputs": [
    {
     "data": {
      "application/vnd.plotly.v1+json": {
       "config": {
        "plotlyServerURL": "https://plot.ly"
       },
       "data": [
        {
         "alignmentgroup": "True",
         "hovertemplate": "Name=%{x}<br>Confirmed=%{y}<extra></extra>",
         "legendgroup": "",
         "marker": {
          "color": "#636efa"
         },
         "name": "",
         "offsetgroup": "",
         "orientation": "v",
         "showlegend": false,
         "textposition": "auto",
         "type": "bar",
         "x": [
          "TOTAL",
          "★  United States",
          "★  Brazil",
          "★  India",
          "★  Russia",
          "★  South Africa",
          "★  Peru",
          "★  Mexico",
          "★  Colombia",
          "★  Chile",
          "★  Spain",
          "★  Iran",
          "★  Argentina",
          "★  United Kingdom",
          "★  Saudi Arabia",
          "★  Bangladesh",
          "★  Pakistan",
          "★  France",
          "★  Italy",
          "★  Turkey"
         ],
         "xaxis": "x",
         "y": [
          23545594,
          5869551,
          3605783,
          3105185,
          956749,
          609773,
          585236,
          556216,
          533103,
          397665,
          386054,
          358905,
          336802,
          325642,
          307479,
          294598,
          292765,
          260873,
          259345,
          258249
         ],
         "yaxis": "y"
        }
       ],
       "layout": {
        "barmode": "relative",
        "legend": {
         "tracegroupgap": 0
        },
        "margin": {
         "t": 60
        },
        "template": {
         "data": {
          "bar": [
           {
            "error_x": {
             "color": "#2a3f5f"
            },
            "error_y": {
             "color": "#2a3f5f"
            },
            "marker": {
             "line": {
              "color": "#E5ECF6",
              "width": 0.5
             }
            },
            "type": "bar"
           }
          ],
          "barpolar": [
           {
            "marker": {
             "line": {
              "color": "#E5ECF6",
              "width": 0.5
             }
            },
            "type": "barpolar"
           }
          ],
          "carpet": [
           {
            "aaxis": {
             "endlinecolor": "#2a3f5f",
             "gridcolor": "white",
             "linecolor": "white",
             "minorgridcolor": "white",
             "startlinecolor": "#2a3f5f"
            },
            "baxis": {
             "endlinecolor": "#2a3f5f",
             "gridcolor": "white",
             "linecolor": "white",
             "minorgridcolor": "white",
             "startlinecolor": "#2a3f5f"
            },
            "type": "carpet"
           }
          ],
          "choropleth": [
           {
            "colorbar": {
             "outlinewidth": 0,
             "ticks": ""
            },
            "type": "choropleth"
           }
          ],
          "contour": [
           {
            "colorbar": {
             "outlinewidth": 0,
             "ticks": ""
            },
            "colorscale": [
             [
              0,
              "#0d0887"
             ],
             [
              0.1111111111111111,
              "#46039f"
             ],
             [
              0.2222222222222222,
              "#7201a8"
             ],
             [
              0.3333333333333333,
              "#9c179e"
             ],
             [
              0.4444444444444444,
              "#bd3786"
             ],
             [
              0.5555555555555556,
              "#d8576b"
             ],
             [
              0.6666666666666666,
              "#ed7953"
             ],
             [
              0.7777777777777778,
              "#fb9f3a"
             ],
             [
              0.8888888888888888,
              "#fdca26"
             ],
             [
              1,
              "#f0f921"
             ]
            ],
            "type": "contour"
           }
          ],
          "contourcarpet": [
           {
            "colorbar": {
             "outlinewidth": 0,
             "ticks": ""
            },
            "type": "contourcarpet"
           }
          ],
          "heatmap": [
           {
            "colorbar": {
             "outlinewidth": 0,
             "ticks": ""
            },
            "colorscale": [
             [
              0,
              "#0d0887"
             ],
             [
              0.1111111111111111,
              "#46039f"
             ],
             [
              0.2222222222222222,
              "#7201a8"
             ],
             [
              0.3333333333333333,
              "#9c179e"
             ],
             [
              0.4444444444444444,
              "#bd3786"
             ],
             [
              0.5555555555555556,
              "#d8576b"
             ],
             [
              0.6666666666666666,
              "#ed7953"
             ],
             [
              0.7777777777777778,
              "#fb9f3a"
             ],
             [
              0.8888888888888888,
              "#fdca26"
             ],
             [
              1,
              "#f0f921"
             ]
            ],
            "type": "heatmap"
           }
          ],
          "heatmapgl": [
           {
            "colorbar": {
             "outlinewidth": 0,
             "ticks": ""
            },
            "colorscale": [
             [
              0,
              "#0d0887"
             ],
             [
              0.1111111111111111,
              "#46039f"
             ],
             [
              0.2222222222222222,
              "#7201a8"
             ],
             [
              0.3333333333333333,
              "#9c179e"
             ],
             [
              0.4444444444444444,
              "#bd3786"
             ],
             [
              0.5555555555555556,
              "#d8576b"
             ],
             [
              0.6666666666666666,
              "#ed7953"
             ],
             [
              0.7777777777777778,
              "#fb9f3a"
             ],
             [
              0.8888888888888888,
              "#fdca26"
             ],
             [
              1,
              "#f0f921"
             ]
            ],
            "type": "heatmapgl"
           }
          ],
          "histogram": [
           {
            "marker": {
             "colorbar": {
              "outlinewidth": 0,
              "ticks": ""
             }
            },
            "type": "histogram"
           }
          ],
          "histogram2d": [
           {
            "colorbar": {
             "outlinewidth": 0,
             "ticks": ""
            },
            "colorscale": [
             [
              0,
              "#0d0887"
             ],
             [
              0.1111111111111111,
              "#46039f"
             ],
             [
              0.2222222222222222,
              "#7201a8"
             ],
             [
              0.3333333333333333,
              "#9c179e"
             ],
             [
              0.4444444444444444,
              "#bd3786"
             ],
             [
              0.5555555555555556,
              "#d8576b"
             ],
             [
              0.6666666666666666,
              "#ed7953"
             ],
             [
              0.7777777777777778,
              "#fb9f3a"
             ],
             [
              0.8888888888888888,
              "#fdca26"
             ],
             [
              1,
              "#f0f921"
             ]
            ],
            "type": "histogram2d"
           }
          ],
          "histogram2dcontour": [
           {
            "colorbar": {
             "outlinewidth": 0,
             "ticks": ""
            },
            "colorscale": [
             [
              0,
              "#0d0887"
             ],
             [
              0.1111111111111111,
              "#46039f"
             ],
             [
              0.2222222222222222,
              "#7201a8"
             ],
             [
              0.3333333333333333,
              "#9c179e"
             ],
             [
              0.4444444444444444,
              "#bd3786"
             ],
             [
              0.5555555555555556,
              "#d8576b"
             ],
             [
              0.6666666666666666,
              "#ed7953"
             ],
             [
              0.7777777777777778,
              "#fb9f3a"
             ],
             [
              0.8888888888888888,
              "#fdca26"
             ],
             [
              1,
              "#f0f921"
             ]
            ],
            "type": "histogram2dcontour"
           }
          ],
          "mesh3d": [
           {
            "colorbar": {
             "outlinewidth": 0,
             "ticks": ""
            },
            "type": "mesh3d"
           }
          ],
          "parcoords": [
           {
            "line": {
             "colorbar": {
              "outlinewidth": 0,
              "ticks": ""
             }
            },
            "type": "parcoords"
           }
          ],
          "pie": [
           {
            "automargin": true,
            "type": "pie"
           }
          ],
          "scatter": [
           {
            "marker": {
             "colorbar": {
              "outlinewidth": 0,
              "ticks": ""
             }
            },
            "type": "scatter"
           }
          ],
          "scatter3d": [
           {
            "line": {
             "colorbar": {
              "outlinewidth": 0,
              "ticks": ""
             }
            },
            "marker": {
             "colorbar": {
              "outlinewidth": 0,
              "ticks": ""
             }
            },
            "type": "scatter3d"
           }
          ],
          "scattercarpet": [
           {
            "marker": {
             "colorbar": {
              "outlinewidth": 0,
              "ticks": ""
             }
            },
            "type": "scattercarpet"
           }
          ],
          "scattergeo": [
           {
            "marker": {
             "colorbar": {
              "outlinewidth": 0,
              "ticks": ""
             }
            },
            "type": "scattergeo"
           }
          ],
          "scattergl": [
           {
            "marker": {
             "colorbar": {
              "outlinewidth": 0,
              "ticks": ""
             }
            },
            "type": "scattergl"
           }
          ],
          "scattermapbox": [
           {
            "marker": {
             "colorbar": {
              "outlinewidth": 0,
              "ticks": ""
             }
            },
            "type": "scattermapbox"
           }
          ],
          "scatterpolar": [
           {
            "marker": {
             "colorbar": {
              "outlinewidth": 0,
              "ticks": ""
             }
            },
            "type": "scatterpolar"
           }
          ],
          "scatterpolargl": [
           {
            "marker": {
             "colorbar": {
              "outlinewidth": 0,
              "ticks": ""
             }
            },
            "type": "scatterpolargl"
           }
          ],
          "scatterternary": [
           {
            "marker": {
             "colorbar": {
              "outlinewidth": 0,
              "ticks": ""
             }
            },
            "type": "scatterternary"
           }
          ],
          "surface": [
           {
            "colorbar": {
             "outlinewidth": 0,
             "ticks": ""
            },
            "colorscale": [
             [
              0,
              "#0d0887"
             ],
             [
              0.1111111111111111,
              "#46039f"
             ],
             [
              0.2222222222222222,
              "#7201a8"
             ],
             [
              0.3333333333333333,
              "#9c179e"
             ],
             [
              0.4444444444444444,
              "#bd3786"
             ],
             [
              0.5555555555555556,
              "#d8576b"
             ],
             [
              0.6666666666666666,
              "#ed7953"
             ],
             [
              0.7777777777777778,
              "#fb9f3a"
             ],
             [
              0.8888888888888888,
              "#fdca26"
             ],
             [
              1,
              "#f0f921"
             ]
            ],
            "type": "surface"
           }
          ],
          "table": [
           {
            "cells": {
             "fill": {
              "color": "#EBF0F8"
             },
             "line": {
              "color": "white"
             }
            },
            "header": {
             "fill": {
              "color": "#C8D4E3"
             },
             "line": {
              "color": "white"
             }
            },
            "type": "table"
           }
          ]
         },
         "layout": {
          "annotationdefaults": {
           "arrowcolor": "#2a3f5f",
           "arrowhead": 0,
           "arrowwidth": 1
          },
          "coloraxis": {
           "colorbar": {
            "outlinewidth": 0,
            "ticks": ""
           }
          },
          "colorscale": {
           "diverging": [
            [
             0,
             "#8e0152"
            ],
            [
             0.1,
             "#c51b7d"
            ],
            [
             0.2,
             "#de77ae"
            ],
            [
             0.3,
             "#f1b6da"
            ],
            [
             0.4,
             "#fde0ef"
            ],
            [
             0.5,
             "#f7f7f7"
            ],
            [
             0.6,
             "#e6f5d0"
            ],
            [
             0.7,
             "#b8e186"
            ],
            [
             0.8,
             "#7fbc41"
            ],
            [
             0.9,
             "#4d9221"
            ],
            [
             1,
             "#276419"
            ]
           ],
           "sequential": [
            [
             0,
             "#0d0887"
            ],
            [
             0.1111111111111111,
             "#46039f"
            ],
            [
             0.2222222222222222,
             "#7201a8"
            ],
            [
             0.3333333333333333,
             "#9c179e"
            ],
            [
             0.4444444444444444,
             "#bd3786"
            ],
            [
             0.5555555555555556,
             "#d8576b"
            ],
            [
             0.6666666666666666,
             "#ed7953"
            ],
            [
             0.7777777777777778,
             "#fb9f3a"
            ],
            [
             0.8888888888888888,
             "#fdca26"
            ],
            [
             1,
             "#f0f921"
            ]
           ],
           "sequentialminus": [
            [
             0,
             "#0d0887"
            ],
            [
             0.1111111111111111,
             "#46039f"
            ],
            [
             0.2222222222222222,
             "#7201a8"
            ],
            [
             0.3333333333333333,
             "#9c179e"
            ],
            [
             0.4444444444444444,
             "#bd3786"
            ],
            [
             0.5555555555555556,
             "#d8576b"
            ],
            [
             0.6666666666666666,
             "#ed7953"
            ],
            [
             0.7777777777777778,
             "#fb9f3a"
            ],
            [
             0.8888888888888888,
             "#fdca26"
            ],
            [
             1,
             "#f0f921"
            ]
           ]
          },
          "colorway": [
           "#636efa",
           "#EF553B",
           "#00cc96",
           "#ab63fa",
           "#FFA15A",
           "#19d3f3",
           "#FF6692",
           "#B6E880",
           "#FF97FF",
           "#FECB52"
          ],
          "font": {
           "color": "#2a3f5f"
          },
          "geo": {
           "bgcolor": "white",
           "lakecolor": "white",
           "landcolor": "#E5ECF6",
           "showlakes": true,
           "showland": true,
           "subunitcolor": "white"
          },
          "hoverlabel": {
           "align": "left"
          },
          "hovermode": "closest",
          "mapbox": {
           "style": "light"
          },
          "paper_bgcolor": "white",
          "plot_bgcolor": "#E5ECF6",
          "polar": {
           "angularaxis": {
            "gridcolor": "white",
            "linecolor": "white",
            "ticks": ""
           },
           "bgcolor": "#E5ECF6",
           "radialaxis": {
            "gridcolor": "white",
            "linecolor": "white",
            "ticks": ""
           }
          },
          "scene": {
           "xaxis": {
            "backgroundcolor": "#E5ECF6",
            "gridcolor": "white",
            "gridwidth": 2,
            "linecolor": "white",
            "showbackground": true,
            "ticks": "",
            "zerolinecolor": "white"
           },
           "yaxis": {
            "backgroundcolor": "#E5ECF6",
            "gridcolor": "white",
            "gridwidth": 2,
            "linecolor": "white",
            "showbackground": true,
            "ticks": "",
            "zerolinecolor": "white"
           },
           "zaxis": {
            "backgroundcolor": "#E5ECF6",
            "gridcolor": "white",
            "gridwidth": 2,
            "linecolor": "white",
            "showbackground": true,
            "ticks": "",
            "zerolinecolor": "white"
           }
          },
          "shapedefaults": {
           "line": {
            "color": "#2a3f5f"
           }
          },
          "ternary": {
           "aaxis": {
            "gridcolor": "white",
            "linecolor": "white",
            "ticks": ""
           },
           "baxis": {
            "gridcolor": "white",
            "linecolor": "white",
            "ticks": ""
           },
           "bgcolor": "#E5ECF6",
           "caxis": {
            "gridcolor": "white",
            "linecolor": "white",
            "ticks": ""
           }
          },
          "title": {
           "x": 0.05
          },
          "xaxis": {
           "automargin": true,
           "gridcolor": "white",
           "linecolor": "white",
           "ticks": "",
           "title": {
            "standoff": 15
           },
           "zerolinecolor": "white",
           "zerolinewidth": 2
          },
          "yaxis": {
           "automargin": true,
           "gridcolor": "white",
           "linecolor": "white",
           "ticks": "",
           "title": {
            "standoff": 15
           },
           "zerolinecolor": "white",
           "zerolinewidth": 2
          }
         }
        },
        "xaxis": {
         "anchor": "y",
         "domain": [
          0,
          1
         ],
         "title": {
          "text": "Name"
         }
        },
        "yaxis": {
         "anchor": "x",
         "domain": [
          0,
          1
         ],
         "title": {
          "text": "Confirmed"
         }
        }
       }
      },
      "text/html": [
       "<div>\n",
       "        \n",
       "        \n",
       "            <div id=\"b75bacd9-14e9-45dc-b1d6-ae3e043b6eab\" class=\"plotly-graph-div\" style=\"height:525px; width:100%;\"></div>\n",
       "            <script type=\"text/javascript\">\n",
       "                require([\"plotly\"], function(Plotly) {\n",
       "                    window.PLOTLYENV=window.PLOTLYENV || {};\n",
       "                    \n",
       "                if (document.getElementById(\"b75bacd9-14e9-45dc-b1d6-ae3e043b6eab\")) {\n",
       "                    Plotly.newPlot(\n",
       "                        'b75bacd9-14e9-45dc-b1d6-ae3e043b6eab',\n",
       "                        [{\"alignmentgroup\": \"True\", \"hovertemplate\": \"Name=%{x}<br>Confirmed=%{y}<extra></extra>\", \"legendgroup\": \"\", \"marker\": {\"color\": \"#636efa\"}, \"name\": \"\", \"offsetgroup\": \"\", \"orientation\": \"v\", \"showlegend\": false, \"textposition\": \"auto\", \"type\": \"bar\", \"x\": [\"TOTAL\", \"\\u2605  United States\", \"\\u2605  Brazil\", \"\\u2605  India\", \"\\u2605  Russia\", \"\\u2605  South Africa\", \"\\u2605  Peru\", \"\\u2605  Mexico\", \"\\u2605  Colombia\", \"\\u2605  Chile\", \"\\u2605  Spain\", \"\\u2605  Iran\", \"\\u2605  Argentina\", \"\\u2605  United Kingdom\", \"\\u2605  Saudi Arabia\", \"\\u2605  Bangladesh\", \"\\u2605  Pakistan\", \"\\u2605  France\", \"\\u2605  Italy\", \"\\u2605  Turkey\"], \"xaxis\": \"x\", \"y\": [23545594, 5869551, 3605783, 3105185, 956749, 609773, 585236, 556216, 533103, 397665, 386054, 358905, 336802, 325642, 307479, 294598, 292765, 260873, 259345, 258249], \"yaxis\": \"y\"}],\n",
       "                        {\"barmode\": \"relative\", \"legend\": {\"tracegroupgap\": 0}, \"margin\": {\"t\": 60}, \"template\": {\"data\": {\"bar\": [{\"error_x\": {\"color\": \"#2a3f5f\"}, \"error_y\": {\"color\": \"#2a3f5f\"}, \"marker\": {\"line\": {\"color\": \"#E5ECF6\", \"width\": 0.5}}, \"type\": \"bar\"}], \"barpolar\": [{\"marker\": {\"line\": {\"color\": \"#E5ECF6\", \"width\": 0.5}}, \"type\": \"barpolar\"}], \"carpet\": [{\"aaxis\": {\"endlinecolor\": \"#2a3f5f\", \"gridcolor\": \"white\", \"linecolor\": \"white\", \"minorgridcolor\": \"white\", \"startlinecolor\": \"#2a3f5f\"}, \"baxis\": {\"endlinecolor\": \"#2a3f5f\", \"gridcolor\": \"white\", \"linecolor\": \"white\", \"minorgridcolor\": \"white\", \"startlinecolor\": \"#2a3f5f\"}, \"type\": \"carpet\"}], \"choropleth\": [{\"colorbar\": {\"outlinewidth\": 0, \"ticks\": \"\"}, \"type\": \"choropleth\"}], \"contour\": [{\"colorbar\": {\"outlinewidth\": 0, \"ticks\": \"\"}, \"colorscale\": [[0.0, \"#0d0887\"], [0.1111111111111111, \"#46039f\"], [0.2222222222222222, \"#7201a8\"], [0.3333333333333333, \"#9c179e\"], [0.4444444444444444, \"#bd3786\"], [0.5555555555555556, \"#d8576b\"], [0.6666666666666666, \"#ed7953\"], [0.7777777777777778, \"#fb9f3a\"], [0.8888888888888888, \"#fdca26\"], [1.0, \"#f0f921\"]], \"type\": \"contour\"}], \"contourcarpet\": [{\"colorbar\": {\"outlinewidth\": 0, \"ticks\": \"\"}, \"type\": \"contourcarpet\"}], \"heatmap\": [{\"colorbar\": {\"outlinewidth\": 0, \"ticks\": \"\"}, \"colorscale\": [[0.0, \"#0d0887\"], [0.1111111111111111, \"#46039f\"], [0.2222222222222222, \"#7201a8\"], [0.3333333333333333, \"#9c179e\"], [0.4444444444444444, \"#bd3786\"], [0.5555555555555556, \"#d8576b\"], [0.6666666666666666, \"#ed7953\"], [0.7777777777777778, \"#fb9f3a\"], [0.8888888888888888, \"#fdca26\"], [1.0, \"#f0f921\"]], \"type\": \"heatmap\"}], \"heatmapgl\": [{\"colorbar\": {\"outlinewidth\": 0, \"ticks\": \"\"}, \"colorscale\": [[0.0, \"#0d0887\"], [0.1111111111111111, \"#46039f\"], [0.2222222222222222, \"#7201a8\"], [0.3333333333333333, \"#9c179e\"], [0.4444444444444444, \"#bd3786\"], [0.5555555555555556, \"#d8576b\"], [0.6666666666666666, \"#ed7953\"], [0.7777777777777778, \"#fb9f3a\"], [0.8888888888888888, \"#fdca26\"], [1.0, \"#f0f921\"]], \"type\": \"heatmapgl\"}], \"histogram\": [{\"marker\": {\"colorbar\": {\"outlinewidth\": 0, \"ticks\": \"\"}}, \"type\": \"histogram\"}], \"histogram2d\": [{\"colorbar\": {\"outlinewidth\": 0, \"ticks\": \"\"}, \"colorscale\": [[0.0, \"#0d0887\"], [0.1111111111111111, \"#46039f\"], [0.2222222222222222, \"#7201a8\"], [0.3333333333333333, \"#9c179e\"], [0.4444444444444444, \"#bd3786\"], [0.5555555555555556, \"#d8576b\"], [0.6666666666666666, \"#ed7953\"], [0.7777777777777778, \"#fb9f3a\"], [0.8888888888888888, \"#fdca26\"], [1.0, \"#f0f921\"]], \"type\": \"histogram2d\"}], \"histogram2dcontour\": [{\"colorbar\": {\"outlinewidth\": 0, \"ticks\": \"\"}, \"colorscale\": [[0.0, \"#0d0887\"], [0.1111111111111111, \"#46039f\"], [0.2222222222222222, \"#7201a8\"], [0.3333333333333333, \"#9c179e\"], [0.4444444444444444, \"#bd3786\"], [0.5555555555555556, \"#d8576b\"], [0.6666666666666666, \"#ed7953\"], [0.7777777777777778, \"#fb9f3a\"], [0.8888888888888888, \"#fdca26\"], [1.0, \"#f0f921\"]], \"type\": \"histogram2dcontour\"}], \"mesh3d\": [{\"colorbar\": {\"outlinewidth\": 0, \"ticks\": \"\"}, \"type\": \"mesh3d\"}], \"parcoords\": [{\"line\": {\"colorbar\": {\"outlinewidth\": 0, \"ticks\": \"\"}}, \"type\": \"parcoords\"}], \"pie\": [{\"automargin\": true, \"type\": \"pie\"}], \"scatter\": [{\"marker\": {\"colorbar\": {\"outlinewidth\": 0, \"ticks\": \"\"}}, \"type\": \"scatter\"}], \"scatter3d\": [{\"line\": {\"colorbar\": {\"outlinewidth\": 0, \"ticks\": \"\"}}, \"marker\": {\"colorbar\": {\"outlinewidth\": 0, \"ticks\": \"\"}}, \"type\": \"scatter3d\"}], \"scattercarpet\": [{\"marker\": {\"colorbar\": {\"outlinewidth\": 0, \"ticks\": \"\"}}, \"type\": \"scattercarpet\"}], \"scattergeo\": [{\"marker\": {\"colorbar\": {\"outlinewidth\": 0, \"ticks\": \"\"}}, \"type\": \"scattergeo\"}], \"scattergl\": [{\"marker\": {\"colorbar\": {\"outlinewidth\": 0, \"ticks\": \"\"}}, \"type\": \"scattergl\"}], \"scattermapbox\": [{\"marker\": {\"colorbar\": {\"outlinewidth\": 0, \"ticks\": \"\"}}, \"type\": \"scattermapbox\"}], \"scatterpolar\": [{\"marker\": {\"colorbar\": {\"outlinewidth\": 0, \"ticks\": \"\"}}, \"type\": \"scatterpolar\"}], \"scatterpolargl\": [{\"marker\": {\"colorbar\": {\"outlinewidth\": 0, \"ticks\": \"\"}}, \"type\": \"scatterpolargl\"}], \"scatterternary\": [{\"marker\": {\"colorbar\": {\"outlinewidth\": 0, \"ticks\": \"\"}}, \"type\": \"scatterternary\"}], \"surface\": [{\"colorbar\": {\"outlinewidth\": 0, \"ticks\": \"\"}, \"colorscale\": [[0.0, \"#0d0887\"], [0.1111111111111111, \"#46039f\"], [0.2222222222222222, \"#7201a8\"], [0.3333333333333333, \"#9c179e\"], [0.4444444444444444, \"#bd3786\"], [0.5555555555555556, \"#d8576b\"], [0.6666666666666666, \"#ed7953\"], [0.7777777777777778, \"#fb9f3a\"], [0.8888888888888888, \"#fdca26\"], [1.0, \"#f0f921\"]], \"type\": \"surface\"}], \"table\": [{\"cells\": {\"fill\": {\"color\": \"#EBF0F8\"}, \"line\": {\"color\": \"white\"}}, \"header\": {\"fill\": {\"color\": \"#C8D4E3\"}, \"line\": {\"color\": \"white\"}}, \"type\": \"table\"}]}, \"layout\": {\"annotationdefaults\": {\"arrowcolor\": \"#2a3f5f\", \"arrowhead\": 0, \"arrowwidth\": 1}, \"coloraxis\": {\"colorbar\": {\"outlinewidth\": 0, \"ticks\": \"\"}}, \"colorscale\": {\"diverging\": [[0, \"#8e0152\"], [0.1, \"#c51b7d\"], [0.2, \"#de77ae\"], [0.3, \"#f1b6da\"], [0.4, \"#fde0ef\"], [0.5, \"#f7f7f7\"], [0.6, \"#e6f5d0\"], [0.7, \"#b8e186\"], [0.8, \"#7fbc41\"], [0.9, \"#4d9221\"], [1, \"#276419\"]], \"sequential\": [[0.0, \"#0d0887\"], [0.1111111111111111, \"#46039f\"], [0.2222222222222222, \"#7201a8\"], [0.3333333333333333, \"#9c179e\"], [0.4444444444444444, \"#bd3786\"], [0.5555555555555556, \"#d8576b\"], [0.6666666666666666, \"#ed7953\"], [0.7777777777777778, \"#fb9f3a\"], [0.8888888888888888, \"#fdca26\"], [1.0, \"#f0f921\"]], \"sequentialminus\": [[0.0, \"#0d0887\"], [0.1111111111111111, \"#46039f\"], [0.2222222222222222, \"#7201a8\"], [0.3333333333333333, \"#9c179e\"], [0.4444444444444444, \"#bd3786\"], [0.5555555555555556, \"#d8576b\"], [0.6666666666666666, \"#ed7953\"], [0.7777777777777778, \"#fb9f3a\"], [0.8888888888888888, \"#fdca26\"], [1.0, \"#f0f921\"]]}, \"colorway\": [\"#636efa\", \"#EF553B\", \"#00cc96\", \"#ab63fa\", \"#FFA15A\", \"#19d3f3\", \"#FF6692\", \"#B6E880\", \"#FF97FF\", \"#FECB52\"], \"font\": {\"color\": \"#2a3f5f\"}, \"geo\": {\"bgcolor\": \"white\", \"lakecolor\": \"white\", \"landcolor\": \"#E5ECF6\", \"showlakes\": true, \"showland\": true, \"subunitcolor\": \"white\"}, \"hoverlabel\": {\"align\": \"left\"}, \"hovermode\": \"closest\", \"mapbox\": {\"style\": \"light\"}, \"paper_bgcolor\": \"white\", \"plot_bgcolor\": \"#E5ECF6\", \"polar\": {\"angularaxis\": {\"gridcolor\": \"white\", \"linecolor\": \"white\", \"ticks\": \"\"}, \"bgcolor\": \"#E5ECF6\", \"radialaxis\": {\"gridcolor\": \"white\", \"linecolor\": \"white\", \"ticks\": \"\"}}, \"scene\": {\"xaxis\": {\"backgroundcolor\": \"#E5ECF6\", \"gridcolor\": \"white\", \"gridwidth\": 2, \"linecolor\": \"white\", \"showbackground\": true, \"ticks\": \"\", \"zerolinecolor\": \"white\"}, \"yaxis\": {\"backgroundcolor\": \"#E5ECF6\", \"gridcolor\": \"white\", \"gridwidth\": 2, \"linecolor\": \"white\", \"showbackground\": true, \"ticks\": \"\", \"zerolinecolor\": \"white\"}, \"zaxis\": {\"backgroundcolor\": \"#E5ECF6\", \"gridcolor\": \"white\", \"gridwidth\": 2, \"linecolor\": \"white\", \"showbackground\": true, \"ticks\": \"\", \"zerolinecolor\": \"white\"}}, \"shapedefaults\": {\"line\": {\"color\": \"#2a3f5f\"}}, \"ternary\": {\"aaxis\": {\"gridcolor\": \"white\", \"linecolor\": \"white\", \"ticks\": \"\"}, \"baxis\": {\"gridcolor\": \"white\", \"linecolor\": \"white\", \"ticks\": \"\"}, \"bgcolor\": \"#E5ECF6\", \"caxis\": {\"gridcolor\": \"white\", \"linecolor\": \"white\", \"ticks\": \"\"}}, \"title\": {\"x\": 0.05}, \"xaxis\": {\"automargin\": true, \"gridcolor\": \"white\", \"linecolor\": \"white\", \"ticks\": \"\", \"title\": {\"standoff\": 15}, \"zerolinecolor\": \"white\", \"zerolinewidth\": 2}, \"yaxis\": {\"automargin\": true, \"gridcolor\": \"white\", \"linecolor\": \"white\", \"ticks\": \"\", \"title\": {\"standoff\": 15}, \"zerolinecolor\": \"white\", \"zerolinewidth\": 2}}}, \"xaxis\": {\"anchor\": \"y\", \"domain\": [0.0, 1.0], \"title\": {\"text\": \"Name\"}}, \"yaxis\": {\"anchor\": \"x\", \"domain\": [0.0, 1.0], \"title\": {\"text\": \"Confirmed\"}}},\n",
       "                        {\"responsive\": true}\n",
       "                    ).then(function(){\n",
       "                            \n",
       "var gd = document.getElementById('b75bacd9-14e9-45dc-b1d6-ae3e043b6eab');\n",
       "var x = new MutationObserver(function (mutations, observer) {{\n",
       "        var display = window.getComputedStyle(gd).display;\n",
       "        if (!display || display === 'none') {{\n",
       "            console.log([gd, 'removed!']);\n",
       "            Plotly.purge(gd);\n",
       "            observer.disconnect();\n",
       "        }}\n",
       "}});\n",
       "\n",
       "// Listen for the removal of the full notebook cells\n",
       "var notebookContainer = gd.closest('#notebook-container');\n",
       "if (notebookContainer) {{\n",
       "    x.observe(notebookContainer, {childList: true});\n",
       "}}\n",
       "\n",
       "// Listen for the clearing of the current output cell\n",
       "var outputEl = gd.closest('.output');\n",
       "if (outputEl) {{\n",
       "    x.observe(outputEl, {childList: true});\n",
       "}}\n",
       "\n",
       "                        })\n",
       "                };\n",
       "                });\n",
       "            </script>\n",
       "        </div>"
      ]
     },
     "metadata": {},
     "output_type": "display_data"
    }
   ],
   "source": [
    "# Lets plot top 20 countries based on confirmed cases.\n",
    "\n",
    "world_fig = px.bar(world_df.head(20), x = \"Name\" , y = 'Confirmed')\n",
    "world_fig.show()"
   ]
  },
  {
   "cell_type": "markdown",
   "metadata": {},
   "source": [
    " - Now we can see United states holds number 1 position. (cough cough \"we don't wear masks\" - americans)\n",
    " - Brazil and India comes at the second and third position surpassing Russia respectively."
   ]
  },
  {
   "cell_type": "markdown",
   "metadata": {},
   "source": [
    "#### Now we'll try to explore the world_df in more details.(based on number of Deceased People)"
   ]
  },
  {
   "cell_type": "code",
   "execution_count": 59,
   "metadata": {},
   "outputs": [
    {
     "data": {
      "application/vnd.plotly.v1+json": {
       "config": {
        "plotlyServerURL": "https://plot.ly"
       },
       "data": [
        {
         "alignmentgroup": "True",
         "hovertemplate": "Deceased=811436<br>Name=%{x}<br>Confirmed=%{y}<extra></extra>",
         "legendgroup": "811436",
         "marker": {
          "color": "#636efa"
         },
         "name": "811436",
         "offsetgroup": "811436",
         "orientation": "v",
         "showlegend": true,
         "textposition": "auto",
         "type": "bar",
         "x": [
          "TOTAL"
         ],
         "xaxis": "x",
         "y": [
          23545594
         ],
         "yaxis": "y"
        },
        {
         "alignmentgroup": "True",
         "hovertemplate": "Deceased=180555<br>Name=%{x}<br>Confirmed=%{y}<extra></extra>",
         "legendgroup": "180555",
         "marker": {
          "color": "#EF553B"
         },
         "name": "180555",
         "offsetgroup": "180555",
         "orientation": "v",
         "showlegend": true,
         "textposition": "auto",
         "type": "bar",
         "x": [
          "★  United States"
         ],
         "xaxis": "x",
         "y": [
          5869551
         ],
         "yaxis": "y"
        },
        {
         "alignmentgroup": "True",
         "hovertemplate": "Deceased=114744<br>Name=%{x}<br>Confirmed=%{y}<extra></extra>",
         "legendgroup": "114744",
         "marker": {
          "color": "#00cc96"
         },
         "name": "114744",
         "offsetgroup": "114744",
         "orientation": "v",
         "showlegend": true,
         "textposition": "auto",
         "type": "bar",
         "x": [
          "★  Brazil"
         ],
         "xaxis": "x",
         "y": [
          3605783
         ],
         "yaxis": "y"
        },
        {
         "alignmentgroup": "True",
         "hovertemplate": "Deceased=57692<br>Name=%{x}<br>Confirmed=%{y}<extra></extra>",
         "legendgroup": "57692",
         "marker": {
          "color": "#ab63fa"
         },
         "name": "57692",
         "offsetgroup": "57692",
         "orientation": "v",
         "showlegend": true,
         "textposition": "auto",
         "type": "bar",
         "x": [
          "★  India"
         ],
         "xaxis": "x",
         "y": [
          3105185
         ],
         "yaxis": "y"
        },
        {
         "alignmentgroup": "True",
         "hovertemplate": "Deceased=16383<br>Name=%{x}<br>Confirmed=%{y}<extra></extra>",
         "legendgroup": "16383",
         "marker": {
          "color": "#FFA15A"
         },
         "name": "16383",
         "offsetgroup": "16383",
         "orientation": "v",
         "showlegend": true,
         "textposition": "auto",
         "type": "bar",
         "x": [
          "★  Russia"
         ],
         "xaxis": "x",
         "y": [
          956749
         ],
         "yaxis": "y"
        },
        {
         "alignmentgroup": "True",
         "hovertemplate": "Deceased=13059<br>Name=%{x}<br>Confirmed=%{y}<extra></extra>",
         "legendgroup": "13059",
         "marker": {
          "color": "#19d3f3"
         },
         "name": "13059",
         "offsetgroup": "13059",
         "orientation": "v",
         "showlegend": true,
         "textposition": "auto",
         "type": "bar",
         "x": [
          "★  South Africa"
         ],
         "xaxis": "x",
         "y": [
          609773
         ],
         "yaxis": "y"
        },
        {
         "alignmentgroup": "True",
         "hovertemplate": "Deceased=27453<br>Name=%{x}<br>Confirmed=%{y}<extra></extra>",
         "legendgroup": "27453",
         "marker": {
          "color": "#FF6692"
         },
         "name": "27453",
         "offsetgroup": "27453",
         "orientation": "v",
         "showlegend": true,
         "textposition": "auto",
         "type": "bar",
         "x": [
          "★  Peru"
         ],
         "xaxis": "x",
         "y": [
          585236
         ],
         "yaxis": "y"
        },
        {
         "alignmentgroup": "True",
         "hovertemplate": "Deceased=60254<br>Name=%{x}<br>Confirmed=%{y}<extra></extra>",
         "legendgroup": "60254",
         "marker": {
          "color": "#B6E880"
         },
         "name": "60254",
         "offsetgroup": "60254",
         "orientation": "v",
         "showlegend": true,
         "textposition": "auto",
         "type": "bar",
         "x": [
          "★  Mexico"
         ],
         "xaxis": "x",
         "y": [
          556216
         ],
         "yaxis": "y"
        },
        {
         "alignmentgroup": "True",
         "hovertemplate": "Deceased=16968<br>Name=%{x}<br>Confirmed=%{y}<extra></extra>",
         "legendgroup": "16968",
         "marker": {
          "color": "#FF97FF"
         },
         "name": "16968",
         "offsetgroup": "16968",
         "orientation": "v",
         "showlegend": true,
         "textposition": "auto",
         "type": "bar",
         "x": [
          "★  Colombia"
         ],
         "xaxis": "x",
         "y": [
          533103
         ],
         "yaxis": "y"
        },
        {
         "alignmentgroup": "True",
         "hovertemplate": "Deceased=10852<br>Name=%{x}<br>Confirmed=%{y}<extra></extra>",
         "legendgroup": "10852",
         "marker": {
          "color": "#FECB52"
         },
         "name": "10852",
         "offsetgroup": "10852",
         "orientation": "v",
         "showlegend": true,
         "textposition": "auto",
         "type": "bar",
         "x": [
          "★  Chile"
         ],
         "xaxis": "x",
         "y": [
          397665
         ],
         "yaxis": "y"
        },
        {
         "alignmentgroup": "True",
         "hovertemplate": "Deceased=28838<br>Name=%{x}<br>Confirmed=%{y}<extra></extra>",
         "legendgroup": "28838",
         "marker": {
          "color": "#636efa"
         },
         "name": "28838",
         "offsetgroup": "28838",
         "orientation": "v",
         "showlegend": true,
         "textposition": "auto",
         "type": "bar",
         "x": [
          "★  Spain"
         ],
         "xaxis": "x",
         "y": [
          386054
         ],
         "yaxis": "y"
        },
        {
         "alignmentgroup": "True",
         "hovertemplate": "Deceased=20643<br>Name=%{x}<br>Confirmed=%{y}<extra></extra>",
         "legendgroup": "20643",
         "marker": {
          "color": "#EF553B"
         },
         "name": "20643",
         "offsetgroup": "20643",
         "orientation": "v",
         "showlegend": true,
         "textposition": "auto",
         "type": "bar",
         "x": [
          "★  Iran"
         ],
         "xaxis": "x",
         "y": [
          358905
         ],
         "yaxis": "y"
        },
        {
         "alignmentgroup": "True",
         "hovertemplate": "Deceased=6947<br>Name=%{x}<br>Confirmed=%{y}<extra></extra>",
         "legendgroup": "6947",
         "marker": {
          "color": "#00cc96"
         },
         "name": "6947",
         "offsetgroup": "6947",
         "orientation": "v",
         "showlegend": true,
         "textposition": "auto",
         "type": "bar",
         "x": [
          "★  Argentina"
         ],
         "xaxis": "x",
         "y": [
          336802
         ],
         "yaxis": "y"
        },
        {
         "alignmentgroup": "True",
         "hovertemplate": "Deceased=41429<br>Name=%{x}<br>Confirmed=%{y}<extra></extra>",
         "legendgroup": "41429",
         "marker": {
          "color": "#ab63fa"
         },
         "name": "41429",
         "offsetgroup": "41429",
         "orientation": "v",
         "showlegend": true,
         "textposition": "auto",
         "type": "bar",
         "x": [
          "★  United Kingdom"
         ],
         "xaxis": "x",
         "y": [
          325642
         ],
         "yaxis": "y"
        },
        {
         "alignmentgroup": "True",
         "hovertemplate": "Deceased=3649<br>Name=%{x}<br>Confirmed=%{y}<extra></extra>",
         "legendgroup": "3649",
         "marker": {
          "color": "#FFA15A"
         },
         "name": "3649",
         "offsetgroup": "3649",
         "orientation": "v",
         "showlegend": true,
         "textposition": "auto",
         "type": "bar",
         "x": [
          "★  Saudi Arabia"
         ],
         "xaxis": "x",
         "y": [
          307479
         ],
         "yaxis": "y"
        },
        {
         "alignmentgroup": "True",
         "hovertemplate": "Deceased=3941<br>Name=%{x}<br>Confirmed=%{y}<extra></extra>",
         "legendgroup": "3941",
         "marker": {
          "color": "#19d3f3"
         },
         "name": "3941",
         "offsetgroup": "3941",
         "orientation": "v",
         "showlegend": true,
         "textposition": "auto",
         "type": "bar",
         "x": [
          "★  Bangladesh"
         ],
         "xaxis": "x",
         "y": [
          294598
         ],
         "yaxis": "y"
        },
        {
         "alignmentgroup": "True",
         "hovertemplate": "Deceased=6235<br>Name=%{x}<br>Confirmed=%{y}<extra></extra>",
         "legendgroup": "6235",
         "marker": {
          "color": "#FF6692"
         },
         "name": "6235",
         "offsetgroup": "6235",
         "orientation": "v",
         "showlegend": true,
         "textposition": "auto",
         "type": "bar",
         "x": [
          "★  Pakistan"
         ],
         "xaxis": "x",
         "y": [
          292765
         ],
         "yaxis": "y"
        },
        {
         "alignmentgroup": "True",
         "hovertemplate": "Deceased=30513<br>Name=%{x}<br>Confirmed=%{y}<extra></extra>",
         "legendgroup": "30513",
         "marker": {
          "color": "#B6E880"
         },
         "name": "30513",
         "offsetgroup": "30513",
         "orientation": "v",
         "showlegend": true,
         "textposition": "auto",
         "type": "bar",
         "x": [
          "★  France"
         ],
         "xaxis": "x",
         "y": [
          260873
         ],
         "yaxis": "y"
        },
        {
         "alignmentgroup": "True",
         "hovertemplate": "Deceased=35437<br>Name=%{x}<br>Confirmed=%{y}<extra></extra>",
         "legendgroup": "35437",
         "marker": {
          "color": "#FF97FF"
         },
         "name": "35437",
         "offsetgroup": "35437",
         "orientation": "v",
         "showlegend": true,
         "textposition": "auto",
         "type": "bar",
         "x": [
          "★  Italy"
         ],
         "xaxis": "x",
         "y": [
          259345
         ],
         "yaxis": "y"
        },
        {
         "alignmentgroup": "True",
         "hovertemplate": "Deceased=6121<br>Name=%{x}<br>Confirmed=%{y}<extra></extra>",
         "legendgroup": "6121",
         "marker": {
          "color": "#FECB52"
         },
         "name": "6121",
         "offsetgroup": "6121",
         "orientation": "v",
         "showlegend": true,
         "textposition": "auto",
         "type": "bar",
         "x": [
          "★  Turkey"
         ],
         "xaxis": "x",
         "y": [
          258249
         ],
         "yaxis": "y"
        }
       ],
       "layout": {
        "barmode": "relative",
        "legend": {
         "title": {
          "text": "Deceased"
         },
         "tracegroupgap": 0
        },
        "margin": {
         "t": 60
        },
        "template": {
         "data": {
          "bar": [
           {
            "error_x": {
             "color": "#2a3f5f"
            },
            "error_y": {
             "color": "#2a3f5f"
            },
            "marker": {
             "line": {
              "color": "#E5ECF6",
              "width": 0.5
             }
            },
            "type": "bar"
           }
          ],
          "barpolar": [
           {
            "marker": {
             "line": {
              "color": "#E5ECF6",
              "width": 0.5
             }
            },
            "type": "barpolar"
           }
          ],
          "carpet": [
           {
            "aaxis": {
             "endlinecolor": "#2a3f5f",
             "gridcolor": "white",
             "linecolor": "white",
             "minorgridcolor": "white",
             "startlinecolor": "#2a3f5f"
            },
            "baxis": {
             "endlinecolor": "#2a3f5f",
             "gridcolor": "white",
             "linecolor": "white",
             "minorgridcolor": "white",
             "startlinecolor": "#2a3f5f"
            },
            "type": "carpet"
           }
          ],
          "choropleth": [
           {
            "colorbar": {
             "outlinewidth": 0,
             "ticks": ""
            },
            "type": "choropleth"
           }
          ],
          "contour": [
           {
            "colorbar": {
             "outlinewidth": 0,
             "ticks": ""
            },
            "colorscale": [
             [
              0,
              "#0d0887"
             ],
             [
              0.1111111111111111,
              "#46039f"
             ],
             [
              0.2222222222222222,
              "#7201a8"
             ],
             [
              0.3333333333333333,
              "#9c179e"
             ],
             [
              0.4444444444444444,
              "#bd3786"
             ],
             [
              0.5555555555555556,
              "#d8576b"
             ],
             [
              0.6666666666666666,
              "#ed7953"
             ],
             [
              0.7777777777777778,
              "#fb9f3a"
             ],
             [
              0.8888888888888888,
              "#fdca26"
             ],
             [
              1,
              "#f0f921"
             ]
            ],
            "type": "contour"
           }
          ],
          "contourcarpet": [
           {
            "colorbar": {
             "outlinewidth": 0,
             "ticks": ""
            },
            "type": "contourcarpet"
           }
          ],
          "heatmap": [
           {
            "colorbar": {
             "outlinewidth": 0,
             "ticks": ""
            },
            "colorscale": [
             [
              0,
              "#0d0887"
             ],
             [
              0.1111111111111111,
              "#46039f"
             ],
             [
              0.2222222222222222,
              "#7201a8"
             ],
             [
              0.3333333333333333,
              "#9c179e"
             ],
             [
              0.4444444444444444,
              "#bd3786"
             ],
             [
              0.5555555555555556,
              "#d8576b"
             ],
             [
              0.6666666666666666,
              "#ed7953"
             ],
             [
              0.7777777777777778,
              "#fb9f3a"
             ],
             [
              0.8888888888888888,
              "#fdca26"
             ],
             [
              1,
              "#f0f921"
             ]
            ],
            "type": "heatmap"
           }
          ],
          "heatmapgl": [
           {
            "colorbar": {
             "outlinewidth": 0,
             "ticks": ""
            },
            "colorscale": [
             [
              0,
              "#0d0887"
             ],
             [
              0.1111111111111111,
              "#46039f"
             ],
             [
              0.2222222222222222,
              "#7201a8"
             ],
             [
              0.3333333333333333,
              "#9c179e"
             ],
             [
              0.4444444444444444,
              "#bd3786"
             ],
             [
              0.5555555555555556,
              "#d8576b"
             ],
             [
              0.6666666666666666,
              "#ed7953"
             ],
             [
              0.7777777777777778,
              "#fb9f3a"
             ],
             [
              0.8888888888888888,
              "#fdca26"
             ],
             [
              1,
              "#f0f921"
             ]
            ],
            "type": "heatmapgl"
           }
          ],
          "histogram": [
           {
            "marker": {
             "colorbar": {
              "outlinewidth": 0,
              "ticks": ""
             }
            },
            "type": "histogram"
           }
          ],
          "histogram2d": [
           {
            "colorbar": {
             "outlinewidth": 0,
             "ticks": ""
            },
            "colorscale": [
             [
              0,
              "#0d0887"
             ],
             [
              0.1111111111111111,
              "#46039f"
             ],
             [
              0.2222222222222222,
              "#7201a8"
             ],
             [
              0.3333333333333333,
              "#9c179e"
             ],
             [
              0.4444444444444444,
              "#bd3786"
             ],
             [
              0.5555555555555556,
              "#d8576b"
             ],
             [
              0.6666666666666666,
              "#ed7953"
             ],
             [
              0.7777777777777778,
              "#fb9f3a"
             ],
             [
              0.8888888888888888,
              "#fdca26"
             ],
             [
              1,
              "#f0f921"
             ]
            ],
            "type": "histogram2d"
           }
          ],
          "histogram2dcontour": [
           {
            "colorbar": {
             "outlinewidth": 0,
             "ticks": ""
            },
            "colorscale": [
             [
              0,
              "#0d0887"
             ],
             [
              0.1111111111111111,
              "#46039f"
             ],
             [
              0.2222222222222222,
              "#7201a8"
             ],
             [
              0.3333333333333333,
              "#9c179e"
             ],
             [
              0.4444444444444444,
              "#bd3786"
             ],
             [
              0.5555555555555556,
              "#d8576b"
             ],
             [
              0.6666666666666666,
              "#ed7953"
             ],
             [
              0.7777777777777778,
              "#fb9f3a"
             ],
             [
              0.8888888888888888,
              "#fdca26"
             ],
             [
              1,
              "#f0f921"
             ]
            ],
            "type": "histogram2dcontour"
           }
          ],
          "mesh3d": [
           {
            "colorbar": {
             "outlinewidth": 0,
             "ticks": ""
            },
            "type": "mesh3d"
           }
          ],
          "parcoords": [
           {
            "line": {
             "colorbar": {
              "outlinewidth": 0,
              "ticks": ""
             }
            },
            "type": "parcoords"
           }
          ],
          "pie": [
           {
            "automargin": true,
            "type": "pie"
           }
          ],
          "scatter": [
           {
            "marker": {
             "colorbar": {
              "outlinewidth": 0,
              "ticks": ""
             }
            },
            "type": "scatter"
           }
          ],
          "scatter3d": [
           {
            "line": {
             "colorbar": {
              "outlinewidth": 0,
              "ticks": ""
             }
            },
            "marker": {
             "colorbar": {
              "outlinewidth": 0,
              "ticks": ""
             }
            },
            "type": "scatter3d"
           }
          ],
          "scattercarpet": [
           {
            "marker": {
             "colorbar": {
              "outlinewidth": 0,
              "ticks": ""
             }
            },
            "type": "scattercarpet"
           }
          ],
          "scattergeo": [
           {
            "marker": {
             "colorbar": {
              "outlinewidth": 0,
              "ticks": ""
             }
            },
            "type": "scattergeo"
           }
          ],
          "scattergl": [
           {
            "marker": {
             "colorbar": {
              "outlinewidth": 0,
              "ticks": ""
             }
            },
            "type": "scattergl"
           }
          ],
          "scattermapbox": [
           {
            "marker": {
             "colorbar": {
              "outlinewidth": 0,
              "ticks": ""
             }
            },
            "type": "scattermapbox"
           }
          ],
          "scatterpolar": [
           {
            "marker": {
             "colorbar": {
              "outlinewidth": 0,
              "ticks": ""
             }
            },
            "type": "scatterpolar"
           }
          ],
          "scatterpolargl": [
           {
            "marker": {
             "colorbar": {
              "outlinewidth": 0,
              "ticks": ""
             }
            },
            "type": "scatterpolargl"
           }
          ],
          "scatterternary": [
           {
            "marker": {
             "colorbar": {
              "outlinewidth": 0,
              "ticks": ""
             }
            },
            "type": "scatterternary"
           }
          ],
          "surface": [
           {
            "colorbar": {
             "outlinewidth": 0,
             "ticks": ""
            },
            "colorscale": [
             [
              0,
              "#0d0887"
             ],
             [
              0.1111111111111111,
              "#46039f"
             ],
             [
              0.2222222222222222,
              "#7201a8"
             ],
             [
              0.3333333333333333,
              "#9c179e"
             ],
             [
              0.4444444444444444,
              "#bd3786"
             ],
             [
              0.5555555555555556,
              "#d8576b"
             ],
             [
              0.6666666666666666,
              "#ed7953"
             ],
             [
              0.7777777777777778,
              "#fb9f3a"
             ],
             [
              0.8888888888888888,
              "#fdca26"
             ],
             [
              1,
              "#f0f921"
             ]
            ],
            "type": "surface"
           }
          ],
          "table": [
           {
            "cells": {
             "fill": {
              "color": "#EBF0F8"
             },
             "line": {
              "color": "white"
             }
            },
            "header": {
             "fill": {
              "color": "#C8D4E3"
             },
             "line": {
              "color": "white"
             }
            },
            "type": "table"
           }
          ]
         },
         "layout": {
          "annotationdefaults": {
           "arrowcolor": "#2a3f5f",
           "arrowhead": 0,
           "arrowwidth": 1
          },
          "coloraxis": {
           "colorbar": {
            "outlinewidth": 0,
            "ticks": ""
           }
          },
          "colorscale": {
           "diverging": [
            [
             0,
             "#8e0152"
            ],
            [
             0.1,
             "#c51b7d"
            ],
            [
             0.2,
             "#de77ae"
            ],
            [
             0.3,
             "#f1b6da"
            ],
            [
             0.4,
             "#fde0ef"
            ],
            [
             0.5,
             "#f7f7f7"
            ],
            [
             0.6,
             "#e6f5d0"
            ],
            [
             0.7,
             "#b8e186"
            ],
            [
             0.8,
             "#7fbc41"
            ],
            [
             0.9,
             "#4d9221"
            ],
            [
             1,
             "#276419"
            ]
           ],
           "sequential": [
            [
             0,
             "#0d0887"
            ],
            [
             0.1111111111111111,
             "#46039f"
            ],
            [
             0.2222222222222222,
             "#7201a8"
            ],
            [
             0.3333333333333333,
             "#9c179e"
            ],
            [
             0.4444444444444444,
             "#bd3786"
            ],
            [
             0.5555555555555556,
             "#d8576b"
            ],
            [
             0.6666666666666666,
             "#ed7953"
            ],
            [
             0.7777777777777778,
             "#fb9f3a"
            ],
            [
             0.8888888888888888,
             "#fdca26"
            ],
            [
             1,
             "#f0f921"
            ]
           ],
           "sequentialminus": [
            [
             0,
             "#0d0887"
            ],
            [
             0.1111111111111111,
             "#46039f"
            ],
            [
             0.2222222222222222,
             "#7201a8"
            ],
            [
             0.3333333333333333,
             "#9c179e"
            ],
            [
             0.4444444444444444,
             "#bd3786"
            ],
            [
             0.5555555555555556,
             "#d8576b"
            ],
            [
             0.6666666666666666,
             "#ed7953"
            ],
            [
             0.7777777777777778,
             "#fb9f3a"
            ],
            [
             0.8888888888888888,
             "#fdca26"
            ],
            [
             1,
             "#f0f921"
            ]
           ]
          },
          "colorway": [
           "#636efa",
           "#EF553B",
           "#00cc96",
           "#ab63fa",
           "#FFA15A",
           "#19d3f3",
           "#FF6692",
           "#B6E880",
           "#FF97FF",
           "#FECB52"
          ],
          "font": {
           "color": "#2a3f5f"
          },
          "geo": {
           "bgcolor": "white",
           "lakecolor": "white",
           "landcolor": "#E5ECF6",
           "showlakes": true,
           "showland": true,
           "subunitcolor": "white"
          },
          "hoverlabel": {
           "align": "left"
          },
          "hovermode": "closest",
          "mapbox": {
           "style": "light"
          },
          "paper_bgcolor": "white",
          "plot_bgcolor": "#E5ECF6",
          "polar": {
           "angularaxis": {
            "gridcolor": "white",
            "linecolor": "white",
            "ticks": ""
           },
           "bgcolor": "#E5ECF6",
           "radialaxis": {
            "gridcolor": "white",
            "linecolor": "white",
            "ticks": ""
           }
          },
          "scene": {
           "xaxis": {
            "backgroundcolor": "#E5ECF6",
            "gridcolor": "white",
            "gridwidth": 2,
            "linecolor": "white",
            "showbackground": true,
            "ticks": "",
            "zerolinecolor": "white"
           },
           "yaxis": {
            "backgroundcolor": "#E5ECF6",
            "gridcolor": "white",
            "gridwidth": 2,
            "linecolor": "white",
            "showbackground": true,
            "ticks": "",
            "zerolinecolor": "white"
           },
           "zaxis": {
            "backgroundcolor": "#E5ECF6",
            "gridcolor": "white",
            "gridwidth": 2,
            "linecolor": "white",
            "showbackground": true,
            "ticks": "",
            "zerolinecolor": "white"
           }
          },
          "shapedefaults": {
           "line": {
            "color": "#2a3f5f"
           }
          },
          "ternary": {
           "aaxis": {
            "gridcolor": "white",
            "linecolor": "white",
            "ticks": ""
           },
           "baxis": {
            "gridcolor": "white",
            "linecolor": "white",
            "ticks": ""
           },
           "bgcolor": "#E5ECF6",
           "caxis": {
            "gridcolor": "white",
            "linecolor": "white",
            "ticks": ""
           }
          },
          "title": {
           "x": 0.05
          },
          "xaxis": {
           "automargin": true,
           "gridcolor": "white",
           "linecolor": "white",
           "ticks": "",
           "title": {
            "standoff": 15
           },
           "zerolinecolor": "white",
           "zerolinewidth": 2
          },
          "yaxis": {
           "automargin": true,
           "gridcolor": "white",
           "linecolor": "white",
           "ticks": "",
           "title": {
            "standoff": 15
           },
           "zerolinecolor": "white",
           "zerolinewidth": 2
          }
         }
        },
        "xaxis": {
         "anchor": "y",
         "domain": [
          0,
          1
         ],
         "title": {
          "text": "Name"
         }
        },
        "yaxis": {
         "anchor": "x",
         "domain": [
          0,
          1
         ],
         "title": {
          "text": "Confirmed"
         }
        }
       }
      },
      "text/html": [
       "<div>\n",
       "        \n",
       "        \n",
       "            <div id=\"9d3cb713-7fc2-451c-8755-d8efc9fc565d\" class=\"plotly-graph-div\" style=\"height:525px; width:100%;\"></div>\n",
       "            <script type=\"text/javascript\">\n",
       "                require([\"plotly\"], function(Plotly) {\n",
       "                    window.PLOTLYENV=window.PLOTLYENV || {};\n",
       "                    \n",
       "                if (document.getElementById(\"9d3cb713-7fc2-451c-8755-d8efc9fc565d\")) {\n",
       "                    Plotly.newPlot(\n",
       "                        '9d3cb713-7fc2-451c-8755-d8efc9fc565d',\n",
       "                        [{\"alignmentgroup\": \"True\", \"hovertemplate\": \"Deceased=811436<br>Name=%{x}<br>Confirmed=%{y}<extra></extra>\", \"legendgroup\": \"811436\", \"marker\": {\"color\": \"#636efa\"}, \"name\": \"811436\", \"offsetgroup\": \"811436\", \"orientation\": \"v\", \"showlegend\": true, \"textposition\": \"auto\", \"type\": \"bar\", \"x\": [\"TOTAL\"], \"xaxis\": \"x\", \"y\": [23545594], \"yaxis\": \"y\"}, {\"alignmentgroup\": \"True\", \"hovertemplate\": \"Deceased=180555<br>Name=%{x}<br>Confirmed=%{y}<extra></extra>\", \"legendgroup\": \"180555\", \"marker\": {\"color\": \"#EF553B\"}, \"name\": \"180555\", \"offsetgroup\": \"180555\", \"orientation\": \"v\", \"showlegend\": true, \"textposition\": \"auto\", \"type\": \"bar\", \"x\": [\"\\u2605  United States\"], \"xaxis\": \"x\", \"y\": [5869551], \"yaxis\": \"y\"}, {\"alignmentgroup\": \"True\", \"hovertemplate\": \"Deceased=114744<br>Name=%{x}<br>Confirmed=%{y}<extra></extra>\", \"legendgroup\": \"114744\", \"marker\": {\"color\": \"#00cc96\"}, \"name\": \"114744\", \"offsetgroup\": \"114744\", \"orientation\": \"v\", \"showlegend\": true, \"textposition\": \"auto\", \"type\": \"bar\", \"x\": [\"\\u2605  Brazil\"], \"xaxis\": \"x\", \"y\": [3605783], \"yaxis\": \"y\"}, {\"alignmentgroup\": \"True\", \"hovertemplate\": \"Deceased=57692<br>Name=%{x}<br>Confirmed=%{y}<extra></extra>\", \"legendgroup\": \"57692\", \"marker\": {\"color\": \"#ab63fa\"}, \"name\": \"57692\", \"offsetgroup\": \"57692\", \"orientation\": \"v\", \"showlegend\": true, \"textposition\": \"auto\", \"type\": \"bar\", \"x\": [\"\\u2605  India\"], \"xaxis\": \"x\", \"y\": [3105185], \"yaxis\": \"y\"}, {\"alignmentgroup\": \"True\", \"hovertemplate\": \"Deceased=16383<br>Name=%{x}<br>Confirmed=%{y}<extra></extra>\", \"legendgroup\": \"16383\", \"marker\": {\"color\": \"#FFA15A\"}, \"name\": \"16383\", \"offsetgroup\": \"16383\", \"orientation\": \"v\", \"showlegend\": true, \"textposition\": \"auto\", \"type\": \"bar\", \"x\": [\"\\u2605  Russia\"], \"xaxis\": \"x\", \"y\": [956749], \"yaxis\": \"y\"}, {\"alignmentgroup\": \"True\", \"hovertemplate\": \"Deceased=13059<br>Name=%{x}<br>Confirmed=%{y}<extra></extra>\", \"legendgroup\": \"13059\", \"marker\": {\"color\": \"#19d3f3\"}, \"name\": \"13059\", \"offsetgroup\": \"13059\", \"orientation\": \"v\", \"showlegend\": true, \"textposition\": \"auto\", \"type\": \"bar\", \"x\": [\"\\u2605  South Africa\"], \"xaxis\": \"x\", \"y\": [609773], \"yaxis\": \"y\"}, {\"alignmentgroup\": \"True\", \"hovertemplate\": \"Deceased=27453<br>Name=%{x}<br>Confirmed=%{y}<extra></extra>\", \"legendgroup\": \"27453\", \"marker\": {\"color\": \"#FF6692\"}, \"name\": \"27453\", \"offsetgroup\": \"27453\", \"orientation\": \"v\", \"showlegend\": true, \"textposition\": \"auto\", \"type\": \"bar\", \"x\": [\"\\u2605  Peru\"], \"xaxis\": \"x\", \"y\": [585236], \"yaxis\": \"y\"}, {\"alignmentgroup\": \"True\", \"hovertemplate\": \"Deceased=60254<br>Name=%{x}<br>Confirmed=%{y}<extra></extra>\", \"legendgroup\": \"60254\", \"marker\": {\"color\": \"#B6E880\"}, \"name\": \"60254\", \"offsetgroup\": \"60254\", \"orientation\": \"v\", \"showlegend\": true, \"textposition\": \"auto\", \"type\": \"bar\", \"x\": [\"\\u2605  Mexico\"], \"xaxis\": \"x\", \"y\": [556216], \"yaxis\": \"y\"}, {\"alignmentgroup\": \"True\", \"hovertemplate\": \"Deceased=16968<br>Name=%{x}<br>Confirmed=%{y}<extra></extra>\", \"legendgroup\": \"16968\", \"marker\": {\"color\": \"#FF97FF\"}, \"name\": \"16968\", \"offsetgroup\": \"16968\", \"orientation\": \"v\", \"showlegend\": true, \"textposition\": \"auto\", \"type\": \"bar\", \"x\": [\"\\u2605  Colombia\"], \"xaxis\": \"x\", \"y\": [533103], \"yaxis\": \"y\"}, {\"alignmentgroup\": \"True\", \"hovertemplate\": \"Deceased=10852<br>Name=%{x}<br>Confirmed=%{y}<extra></extra>\", \"legendgroup\": \"10852\", \"marker\": {\"color\": \"#FECB52\"}, \"name\": \"10852\", \"offsetgroup\": \"10852\", \"orientation\": \"v\", \"showlegend\": true, \"textposition\": \"auto\", \"type\": \"bar\", \"x\": [\"\\u2605  Chile\"], \"xaxis\": \"x\", \"y\": [397665], \"yaxis\": \"y\"}, {\"alignmentgroup\": \"True\", \"hovertemplate\": \"Deceased=28838<br>Name=%{x}<br>Confirmed=%{y}<extra></extra>\", \"legendgroup\": \"28838\", \"marker\": {\"color\": \"#636efa\"}, \"name\": \"28838\", \"offsetgroup\": \"28838\", \"orientation\": \"v\", \"showlegend\": true, \"textposition\": \"auto\", \"type\": \"bar\", \"x\": [\"\\u2605  Spain\"], \"xaxis\": \"x\", \"y\": [386054], \"yaxis\": \"y\"}, {\"alignmentgroup\": \"True\", \"hovertemplate\": \"Deceased=20643<br>Name=%{x}<br>Confirmed=%{y}<extra></extra>\", \"legendgroup\": \"20643\", \"marker\": {\"color\": \"#EF553B\"}, \"name\": \"20643\", \"offsetgroup\": \"20643\", \"orientation\": \"v\", \"showlegend\": true, \"textposition\": \"auto\", \"type\": \"bar\", \"x\": [\"\\u2605  Iran\"], \"xaxis\": \"x\", \"y\": [358905], \"yaxis\": \"y\"}, {\"alignmentgroup\": \"True\", \"hovertemplate\": \"Deceased=6947<br>Name=%{x}<br>Confirmed=%{y}<extra></extra>\", \"legendgroup\": \"6947\", \"marker\": {\"color\": \"#00cc96\"}, \"name\": \"6947\", \"offsetgroup\": \"6947\", \"orientation\": \"v\", \"showlegend\": true, \"textposition\": \"auto\", \"type\": \"bar\", \"x\": [\"\\u2605  Argentina\"], \"xaxis\": \"x\", \"y\": [336802], \"yaxis\": \"y\"}, {\"alignmentgroup\": \"True\", \"hovertemplate\": \"Deceased=41429<br>Name=%{x}<br>Confirmed=%{y}<extra></extra>\", \"legendgroup\": \"41429\", \"marker\": {\"color\": \"#ab63fa\"}, \"name\": \"41429\", \"offsetgroup\": \"41429\", \"orientation\": \"v\", \"showlegend\": true, \"textposition\": \"auto\", \"type\": \"bar\", \"x\": [\"\\u2605  United Kingdom\"], \"xaxis\": \"x\", \"y\": [325642], \"yaxis\": \"y\"}, {\"alignmentgroup\": \"True\", \"hovertemplate\": \"Deceased=3649<br>Name=%{x}<br>Confirmed=%{y}<extra></extra>\", \"legendgroup\": \"3649\", \"marker\": {\"color\": \"#FFA15A\"}, \"name\": \"3649\", \"offsetgroup\": \"3649\", \"orientation\": \"v\", \"showlegend\": true, \"textposition\": \"auto\", \"type\": \"bar\", \"x\": [\"\\u2605  Saudi Arabia\"], \"xaxis\": \"x\", \"y\": [307479], \"yaxis\": \"y\"}, {\"alignmentgroup\": \"True\", \"hovertemplate\": \"Deceased=3941<br>Name=%{x}<br>Confirmed=%{y}<extra></extra>\", \"legendgroup\": \"3941\", \"marker\": {\"color\": \"#19d3f3\"}, \"name\": \"3941\", \"offsetgroup\": \"3941\", \"orientation\": \"v\", \"showlegend\": true, \"textposition\": \"auto\", \"type\": \"bar\", \"x\": [\"\\u2605  Bangladesh\"], \"xaxis\": \"x\", \"y\": [294598], \"yaxis\": \"y\"}, {\"alignmentgroup\": \"True\", \"hovertemplate\": \"Deceased=6235<br>Name=%{x}<br>Confirmed=%{y}<extra></extra>\", \"legendgroup\": \"6235\", \"marker\": {\"color\": \"#FF6692\"}, \"name\": \"6235\", \"offsetgroup\": \"6235\", \"orientation\": \"v\", \"showlegend\": true, \"textposition\": \"auto\", \"type\": \"bar\", \"x\": [\"\\u2605  Pakistan\"], \"xaxis\": \"x\", \"y\": [292765], \"yaxis\": \"y\"}, {\"alignmentgroup\": \"True\", \"hovertemplate\": \"Deceased=30513<br>Name=%{x}<br>Confirmed=%{y}<extra></extra>\", \"legendgroup\": \"30513\", \"marker\": {\"color\": \"#B6E880\"}, \"name\": \"30513\", \"offsetgroup\": \"30513\", \"orientation\": \"v\", \"showlegend\": true, \"textposition\": \"auto\", \"type\": \"bar\", \"x\": [\"\\u2605  France\"], \"xaxis\": \"x\", \"y\": [260873], \"yaxis\": \"y\"}, {\"alignmentgroup\": \"True\", \"hovertemplate\": \"Deceased=35437<br>Name=%{x}<br>Confirmed=%{y}<extra></extra>\", \"legendgroup\": \"35437\", \"marker\": {\"color\": \"#FF97FF\"}, \"name\": \"35437\", \"offsetgroup\": \"35437\", \"orientation\": \"v\", \"showlegend\": true, \"textposition\": \"auto\", \"type\": \"bar\", \"x\": [\"\\u2605  Italy\"], \"xaxis\": \"x\", \"y\": [259345], \"yaxis\": \"y\"}, {\"alignmentgroup\": \"True\", \"hovertemplate\": \"Deceased=6121<br>Name=%{x}<br>Confirmed=%{y}<extra></extra>\", \"legendgroup\": \"6121\", \"marker\": {\"color\": \"#FECB52\"}, \"name\": \"6121\", \"offsetgroup\": \"6121\", \"orientation\": \"v\", \"showlegend\": true, \"textposition\": \"auto\", \"type\": \"bar\", \"x\": [\"\\u2605  Turkey\"], \"xaxis\": \"x\", \"y\": [258249], \"yaxis\": \"y\"}],\n",
       "                        {\"barmode\": \"relative\", \"legend\": {\"title\": {\"text\": \"Deceased\"}, \"tracegroupgap\": 0}, \"margin\": {\"t\": 60}, \"template\": {\"data\": {\"bar\": [{\"error_x\": {\"color\": \"#2a3f5f\"}, \"error_y\": {\"color\": \"#2a3f5f\"}, \"marker\": {\"line\": {\"color\": \"#E5ECF6\", \"width\": 0.5}}, \"type\": \"bar\"}], \"barpolar\": [{\"marker\": {\"line\": {\"color\": \"#E5ECF6\", \"width\": 0.5}}, \"type\": \"barpolar\"}], \"carpet\": [{\"aaxis\": {\"endlinecolor\": \"#2a3f5f\", \"gridcolor\": \"white\", \"linecolor\": \"white\", \"minorgridcolor\": \"white\", \"startlinecolor\": \"#2a3f5f\"}, \"baxis\": {\"endlinecolor\": \"#2a3f5f\", \"gridcolor\": \"white\", \"linecolor\": \"white\", \"minorgridcolor\": \"white\", \"startlinecolor\": \"#2a3f5f\"}, \"type\": \"carpet\"}], \"choropleth\": [{\"colorbar\": {\"outlinewidth\": 0, \"ticks\": \"\"}, \"type\": \"choropleth\"}], \"contour\": [{\"colorbar\": {\"outlinewidth\": 0, \"ticks\": \"\"}, \"colorscale\": [[0.0, \"#0d0887\"], [0.1111111111111111, \"#46039f\"], [0.2222222222222222, \"#7201a8\"], [0.3333333333333333, \"#9c179e\"], [0.4444444444444444, \"#bd3786\"], [0.5555555555555556, \"#d8576b\"], [0.6666666666666666, \"#ed7953\"], [0.7777777777777778, \"#fb9f3a\"], [0.8888888888888888, \"#fdca26\"], [1.0, \"#f0f921\"]], \"type\": \"contour\"}], \"contourcarpet\": [{\"colorbar\": {\"outlinewidth\": 0, \"ticks\": \"\"}, \"type\": \"contourcarpet\"}], \"heatmap\": [{\"colorbar\": {\"outlinewidth\": 0, \"ticks\": \"\"}, \"colorscale\": [[0.0, \"#0d0887\"], [0.1111111111111111, \"#46039f\"], [0.2222222222222222, \"#7201a8\"], [0.3333333333333333, \"#9c179e\"], [0.4444444444444444, \"#bd3786\"], [0.5555555555555556, \"#d8576b\"], [0.6666666666666666, \"#ed7953\"], [0.7777777777777778, \"#fb9f3a\"], [0.8888888888888888, \"#fdca26\"], [1.0, \"#f0f921\"]], \"type\": \"heatmap\"}], \"heatmapgl\": [{\"colorbar\": {\"outlinewidth\": 0, \"ticks\": \"\"}, \"colorscale\": [[0.0, \"#0d0887\"], [0.1111111111111111, \"#46039f\"], [0.2222222222222222, \"#7201a8\"], [0.3333333333333333, \"#9c179e\"], [0.4444444444444444, \"#bd3786\"], [0.5555555555555556, \"#d8576b\"], [0.6666666666666666, \"#ed7953\"], [0.7777777777777778, \"#fb9f3a\"], [0.8888888888888888, \"#fdca26\"], [1.0, \"#f0f921\"]], \"type\": \"heatmapgl\"}], \"histogram\": [{\"marker\": {\"colorbar\": {\"outlinewidth\": 0, \"ticks\": \"\"}}, \"type\": \"histogram\"}], \"histogram2d\": [{\"colorbar\": {\"outlinewidth\": 0, \"ticks\": \"\"}, \"colorscale\": [[0.0, \"#0d0887\"], [0.1111111111111111, \"#46039f\"], [0.2222222222222222, \"#7201a8\"], [0.3333333333333333, \"#9c179e\"], [0.4444444444444444, \"#bd3786\"], [0.5555555555555556, \"#d8576b\"], [0.6666666666666666, \"#ed7953\"], [0.7777777777777778, \"#fb9f3a\"], [0.8888888888888888, \"#fdca26\"], [1.0, \"#f0f921\"]], \"type\": \"histogram2d\"}], \"histogram2dcontour\": [{\"colorbar\": {\"outlinewidth\": 0, \"ticks\": \"\"}, \"colorscale\": [[0.0, \"#0d0887\"], [0.1111111111111111, \"#46039f\"], [0.2222222222222222, \"#7201a8\"], [0.3333333333333333, \"#9c179e\"], [0.4444444444444444, \"#bd3786\"], [0.5555555555555556, \"#d8576b\"], [0.6666666666666666, \"#ed7953\"], [0.7777777777777778, \"#fb9f3a\"], [0.8888888888888888, \"#fdca26\"], [1.0, \"#f0f921\"]], \"type\": \"histogram2dcontour\"}], \"mesh3d\": [{\"colorbar\": {\"outlinewidth\": 0, \"ticks\": \"\"}, \"type\": \"mesh3d\"}], \"parcoords\": [{\"line\": {\"colorbar\": {\"outlinewidth\": 0, \"ticks\": \"\"}}, \"type\": \"parcoords\"}], \"pie\": [{\"automargin\": true, \"type\": \"pie\"}], \"scatter\": [{\"marker\": {\"colorbar\": {\"outlinewidth\": 0, \"ticks\": \"\"}}, \"type\": \"scatter\"}], \"scatter3d\": [{\"line\": {\"colorbar\": {\"outlinewidth\": 0, \"ticks\": \"\"}}, \"marker\": {\"colorbar\": {\"outlinewidth\": 0, \"ticks\": \"\"}}, \"type\": \"scatter3d\"}], \"scattercarpet\": [{\"marker\": {\"colorbar\": {\"outlinewidth\": 0, \"ticks\": \"\"}}, \"type\": \"scattercarpet\"}], \"scattergeo\": [{\"marker\": {\"colorbar\": {\"outlinewidth\": 0, \"ticks\": \"\"}}, \"type\": \"scattergeo\"}], \"scattergl\": [{\"marker\": {\"colorbar\": {\"outlinewidth\": 0, \"ticks\": \"\"}}, \"type\": \"scattergl\"}], \"scattermapbox\": [{\"marker\": {\"colorbar\": {\"outlinewidth\": 0, \"ticks\": \"\"}}, \"type\": \"scattermapbox\"}], \"scatterpolar\": [{\"marker\": {\"colorbar\": {\"outlinewidth\": 0, \"ticks\": \"\"}}, \"type\": \"scatterpolar\"}], \"scatterpolargl\": [{\"marker\": {\"colorbar\": {\"outlinewidth\": 0, \"ticks\": \"\"}}, \"type\": \"scatterpolargl\"}], \"scatterternary\": [{\"marker\": {\"colorbar\": {\"outlinewidth\": 0, \"ticks\": \"\"}}, \"type\": \"scatterternary\"}], \"surface\": [{\"colorbar\": {\"outlinewidth\": 0, \"ticks\": \"\"}, \"colorscale\": [[0.0, \"#0d0887\"], [0.1111111111111111, \"#46039f\"], [0.2222222222222222, \"#7201a8\"], [0.3333333333333333, \"#9c179e\"], [0.4444444444444444, \"#bd3786\"], [0.5555555555555556, \"#d8576b\"], [0.6666666666666666, \"#ed7953\"], [0.7777777777777778, \"#fb9f3a\"], [0.8888888888888888, \"#fdca26\"], [1.0, \"#f0f921\"]], \"type\": \"surface\"}], \"table\": [{\"cells\": {\"fill\": {\"color\": \"#EBF0F8\"}, \"line\": {\"color\": \"white\"}}, \"header\": {\"fill\": {\"color\": \"#C8D4E3\"}, \"line\": {\"color\": \"white\"}}, \"type\": \"table\"}]}, \"layout\": {\"annotationdefaults\": {\"arrowcolor\": \"#2a3f5f\", \"arrowhead\": 0, \"arrowwidth\": 1}, \"coloraxis\": {\"colorbar\": {\"outlinewidth\": 0, \"ticks\": \"\"}}, \"colorscale\": {\"diverging\": [[0, \"#8e0152\"], [0.1, \"#c51b7d\"], [0.2, \"#de77ae\"], [0.3, \"#f1b6da\"], [0.4, \"#fde0ef\"], [0.5, \"#f7f7f7\"], [0.6, \"#e6f5d0\"], [0.7, \"#b8e186\"], [0.8, \"#7fbc41\"], [0.9, \"#4d9221\"], [1, \"#276419\"]], \"sequential\": [[0.0, \"#0d0887\"], [0.1111111111111111, \"#46039f\"], [0.2222222222222222, \"#7201a8\"], [0.3333333333333333, \"#9c179e\"], [0.4444444444444444, \"#bd3786\"], [0.5555555555555556, \"#d8576b\"], [0.6666666666666666, \"#ed7953\"], [0.7777777777777778, \"#fb9f3a\"], [0.8888888888888888, \"#fdca26\"], [1.0, \"#f0f921\"]], \"sequentialminus\": [[0.0, \"#0d0887\"], [0.1111111111111111, \"#46039f\"], [0.2222222222222222, \"#7201a8\"], [0.3333333333333333, \"#9c179e\"], [0.4444444444444444, \"#bd3786\"], [0.5555555555555556, \"#d8576b\"], [0.6666666666666666, \"#ed7953\"], [0.7777777777777778, \"#fb9f3a\"], [0.8888888888888888, \"#fdca26\"], [1.0, \"#f0f921\"]]}, \"colorway\": [\"#636efa\", \"#EF553B\", \"#00cc96\", \"#ab63fa\", \"#FFA15A\", \"#19d3f3\", \"#FF6692\", \"#B6E880\", \"#FF97FF\", \"#FECB52\"], \"font\": {\"color\": \"#2a3f5f\"}, \"geo\": {\"bgcolor\": \"white\", \"lakecolor\": \"white\", \"landcolor\": \"#E5ECF6\", \"showlakes\": true, \"showland\": true, \"subunitcolor\": \"white\"}, \"hoverlabel\": {\"align\": \"left\"}, \"hovermode\": \"closest\", \"mapbox\": {\"style\": \"light\"}, \"paper_bgcolor\": \"white\", \"plot_bgcolor\": \"#E5ECF6\", \"polar\": {\"angularaxis\": {\"gridcolor\": \"white\", \"linecolor\": \"white\", \"ticks\": \"\"}, \"bgcolor\": \"#E5ECF6\", \"radialaxis\": {\"gridcolor\": \"white\", \"linecolor\": \"white\", \"ticks\": \"\"}}, \"scene\": {\"xaxis\": {\"backgroundcolor\": \"#E5ECF6\", \"gridcolor\": \"white\", \"gridwidth\": 2, \"linecolor\": \"white\", \"showbackground\": true, \"ticks\": \"\", \"zerolinecolor\": \"white\"}, \"yaxis\": {\"backgroundcolor\": \"#E5ECF6\", \"gridcolor\": \"white\", \"gridwidth\": 2, \"linecolor\": \"white\", \"showbackground\": true, \"ticks\": \"\", \"zerolinecolor\": \"white\"}, \"zaxis\": {\"backgroundcolor\": \"#E5ECF6\", \"gridcolor\": \"white\", \"gridwidth\": 2, \"linecolor\": \"white\", \"showbackground\": true, \"ticks\": \"\", \"zerolinecolor\": \"white\"}}, \"shapedefaults\": {\"line\": {\"color\": \"#2a3f5f\"}}, \"ternary\": {\"aaxis\": {\"gridcolor\": \"white\", \"linecolor\": \"white\", \"ticks\": \"\"}, \"baxis\": {\"gridcolor\": \"white\", \"linecolor\": \"white\", \"ticks\": \"\"}, \"bgcolor\": \"#E5ECF6\", \"caxis\": {\"gridcolor\": \"white\", \"linecolor\": \"white\", \"ticks\": \"\"}}, \"title\": {\"x\": 0.05}, \"xaxis\": {\"automargin\": true, \"gridcolor\": \"white\", \"linecolor\": \"white\", \"ticks\": \"\", \"title\": {\"standoff\": 15}, \"zerolinecolor\": \"white\", \"zerolinewidth\": 2}, \"yaxis\": {\"automargin\": true, \"gridcolor\": \"white\", \"linecolor\": \"white\", \"ticks\": \"\", \"title\": {\"standoff\": 15}, \"zerolinecolor\": \"white\", \"zerolinewidth\": 2}}}, \"xaxis\": {\"anchor\": \"y\", \"domain\": [0.0, 1.0], \"title\": {\"text\": \"Name\"}}, \"yaxis\": {\"anchor\": \"x\", \"domain\": [0.0, 1.0], \"title\": {\"text\": \"Confirmed\"}}},\n",
       "                        {\"responsive\": true}\n",
       "                    ).then(function(){\n",
       "                            \n",
       "var gd = document.getElementById('9d3cb713-7fc2-451c-8755-d8efc9fc565d');\n",
       "var x = new MutationObserver(function (mutations, observer) {{\n",
       "        var display = window.getComputedStyle(gd).display;\n",
       "        if (!display || display === 'none') {{\n",
       "            console.log([gd, 'removed!']);\n",
       "            Plotly.purge(gd);\n",
       "            observer.disconnect();\n",
       "        }}\n",
       "}});\n",
       "\n",
       "// Listen for the removal of the full notebook cells\n",
       "var notebookContainer = gd.closest('#notebook-container');\n",
       "if (notebookContainer) {{\n",
       "    x.observe(notebookContainer, {childList: true});\n",
       "}}\n",
       "\n",
       "// Listen for the clearing of the current output cell\n",
       "var outputEl = gd.closest('.output');\n",
       "if (outputEl) {{\n",
       "    x.observe(outputEl, {childList: true});\n",
       "}}\n",
       "\n",
       "                        })\n",
       "                };\n",
       "                });\n",
       "            </script>\n",
       "        </div>"
      ]
     },
     "metadata": {},
     "output_type": "display_data"
    }
   ],
   "source": [
    "# Lets see how many people have died with respect to countries. (For top 20 countries)\n",
    "\n",
    "world_fig = px.bar(world_df.head(20), x = 'Name', y = 'Confirmed', color = \"Deceased\")\n",
    "world_fig.show()"
   ]
  },
  {
   "cell_type": "markdown",
   "metadata": {},
   "source": [
    " - Here the color of each bar corrosponds to how many people have died.\n",
    " - We cannot make out which country has most number of deceased people in a descending order."
   ]
  },
  {
   "cell_type": "code",
   "execution_count": 60,
   "metadata": {},
   "outputs": [
    {
     "data": {
      "application/vnd.plotly.v1+json": {
       "config": {
        "plotlyServerURL": "https://plot.ly"
       },
       "data": [
        {
         "alignmentgroup": "True",
         "hovertemplate": "Name=%{x}<br>Deceased=%{y}<extra></extra>",
         "legendgroup": "",
         "marker": {
          "color": "#636efa"
         },
         "name": "",
         "offsetgroup": "",
         "orientation": "v",
         "showlegend": false,
         "textposition": "auto",
         "type": "bar",
         "x": [
          "★  Western Sahara",
          "★  British Virgin Islands",
          "★  Cayman Islands",
          "★  Fiji",
          "★  Curacao",
          "★  Burundi",
          "★  Montserrat",
          "★  Liechtenstein",
          "★  Malta",
          "★  Mauritius",
          "★  Iceland",
          "★  Kyrgyzstan",
          "★  Chile",
          "★  Ivory Coast",
          "★  Brazil",
          "★  Japan",
          "★  Sri Lanka",
          "★  Rwanda",
          "★  Jordan",
          "★  Lebanon",
          "★  Luxembourg",
          "★  Malaysia",
          "★  Mali",
          "★  Palestine",
          "★  South Africa",
          "★  Slovenia",
          "★  Nicaragua",
          "★  Afghanistan",
          "★  Trinidad and Tobago",
          "★  Kazakhstan",
          "★  Algeria",
          "★  Nepal",
          "★  Guadeloupe",
          "★  SÃ£o TomÃ© and PrÃ­ncipe",
          "★  Zimbabwe",
          "★  Dominican Republic",
          "★  Mauritania",
          "★  Jamaica",
          "★  Martinique",
          "★  Russia",
          "★  Honduras",
          "★  Malawi",
          "★  Colombia",
          "★  Sint Maarten",
          "★  Georgia",
          "★  Croatia",
          "★  Ireland",
          "★  Madagascar",
          "★  Portugal",
          "★  United States",
          "★  Bahrain",
          "★  Panama",
          "★  Libya",
          "★  Paraguay",
          "★  Qatar",
          "★  Poland",
          "★  Haiti",
          "★  Turks and Caicos Islands",
          "★  Uganda",
          "★  Cyprus",
          "★  Mozambique",
          "★  Switzerland",
          "★  Iran",
          "★  Tanzania",
          "★  New Zealand",
          "★  Ukraine",
          "★  Isle of Man",
          "★  Greece",
          "★  Albania",
          "★  DR Congo",
          "★  Guatemala",
          "★  Maldives",
          "★  Ghana",
          "★  Norway",
          "★  Senegal",
          "★  Togo",
          "★  Singapore",
          "★  Vietnam",
          "★  Uzbekistan",
          "★  Peru",
          "★  Zambia",
          "★  Spain",
          "★  The Bahamas",
          "★  Philippines",
          "★  Brunei",
          "★  Antigua and Barbuda",
          "★  Botswana",
          "★  Lesotho",
          "★  France",
          "★  South Korea",
          "★  Guyana",
          "★  Venezuela",
          "★  Romania",
          "★  Slovakia",
          "★  Guinea-Bissau",
          "★  Latvia",
          "★  Finland",
          "★  Italy",
          "★  Costa Rica",
          "★  Saudi Arabia",
          "★  Cape Verde",
          "★  United Arab Emirates",
          "★  Benin",
          "★  Mayotte",
          "★  Bangladesh",
          "★  Monaco",
          "★  Papua New Guinea",
          "★  Cameroon",
          "★  Czechia",
          "★  United Kingdom",
          "★  San Marino",
          "★  Uruguay",
          "★  Bolivia",
          "★  Kosovo",
          "★  China",
          "★  South Sudan",
          "★  Channel Islands",
          "★  Saint Martin",
          "★  Australia",
          "★  Kuwait",
          "★  Azerbaijan",
          "★  Namibia",
          "★  Egypt",
          "★  Gabon",
          "★  Guinea",
          "★  Andorra",
          "★  Bosnia and Herzegovina",
          "★  Bulgaria",
          "★  Kenya",
          "★  French Guiana",
          "★  Burkina Faso",
          "★  Yemen",
          "★  North Macedonia",
          "★  Suriname",
          "★  India",
          "★  Thailand",
          "★  Sweden",
          "★  Belize",
          "★  Reunion",
          "★  Myanmar",
          "★  Djibouti",
          "★  Mexico",
          "★  Oman",
          "★  Central African Republic",
          "★  Turkey",
          "★  Hungary",
          "★  Netherlands",
          "★  Denmark",
          "★  Pakistan",
          "★  Estonia",
          "★  Ecuador",
          "★  Belarus",
          "★  Iraq",
          "★  Tajikistan",
          "★  El Salvador",
          "★  Indonesia",
          "★  Ethiopia",
          "★  Sierra Leone",
          "★  Niger",
          "★  Argentina",
          "★  Serbia",
          "★  Taiwan",
          "★  Barbados",
          "★  Aruba",
          "★  Comoros",
          "★  Tunisia",
          "★  Austria",
          "★  Chad",
          "★  Hong Kong",
          "★  Congo",
          "TOTAL",
          "★  Sudan",
          "★  Liberia",
          "★  Equatorial Guinea",
          "★  Eswatini",
          "★  Israel",
          "★  Montenegro",
          "★  Lithuania",
          "★  Armenia",
          "★  The Gambia",
          "★  Morocco",
          "★  Syria",
          "★  Cuba",
          "★  Bermuda",
          "★  Canada",
          "★  Somalia",
          "★  Germany",
          "★  Moldova",
          "★  Angola",
          "★  Nigeria",
          "★  Belgium",
          "★  Saint Pierre and Miquelon",
          "★  Faroe Islands",
          "★  Vatican City",
          "★  Falkland Islands",
          "★  Caribbean Netherlands",
          "★  Eritrea",
          "★  Greenland",
          "★  Saint Barthelemy",
          "★  Saint Kitts and Nevis",
          "★  Dominica",
          "★  Mongolia",
          "★  New Caledonia",
          "★  Bhutan",
          "★  Grenada",
          "★  Timor-Leste",
          "★  Saint Lucia",
          "★  French Polynesia",
          "★  Macao",
          "★  Saint Vincent and the Grenadines",
          "★  Cambodia",
          "★  Seychelles",
          "★  Gibraltar",
          "★  Laos",
          "★  Anguilla"
         ],
         "xaxis": "x",
         "y": [
          "1",
          "1",
          "1",
          "1",
          "1",
          "1",
          "1",
          "1",
          "10",
          "10",
          "10",
          "1056",
          "10852",
          "113",
          "114744",
          "1169",
          "12",
          "12",
          "12",
          "123",
          "124",
          "125",
          "125",
          "128",
          "13059",
          "131",
          "133",
          "1387",
          "14",
          "1415",
          "1435",
          "149",
          "15",
          "15",
          "153",
          "1567",
          "158",
          "16",
          "16",
          "16383",
          "1643",
          "168",
          "16968",
          "17",
          "17",
          "171",
          "1777",
          "178",
          "1796",
          "180555",
          "184",
          "1878",
          "188",
          "192",
          "193",
          "1955",
          "196",
          "2",
          "20",
          "20",
          "20",
          "2001",
          "20643",
          "21",
          "22",
          "2271",
          "24",
          "242",
          "250",
          "251",
          "2580",
          "26",
          "261",
          "264",
          "269",
          "27",
          "27",
          "27",
          "273",
          "27453",
          "280",
          "28838",
          "29",
          "2998",
          "3",
          "3",
          "3",
          "30",
          "30513",
          "309",
          "31",
          "323",
          "3272",
          "33",
          "33",
          "33",
          "334",
          "35437",
          "355",
          "3649",
          "37",
          "375",
          "39",
          "39",
          "3941",
          "4",
          "4",
          "408",
          "412",
          "41429",
          "42",
          "42",
          "4442",
          "448",
          "4634",
          "47",
          "48",
          "5",
          "502",
          "515",
          "518",
          "52",
          "5243",
          "53",
          "53",
          "53",
          "532",
          "545",
          "548",
          "55",
          "55",
          "553",
          "564",
          "57",
          "57692",
          "58",
          "5810",
          "6",
          "6",
          "6",
          "60",
          "60254",
          "609",
          "61",
          "6121",
          "613",
          "6200",
          "622",
          "6235",
          "63",
          "6310",
          "642",
          "6428",
          "66",
          "661",
          "6680",
          "678",
          "69",
          "69",
          "6947",
          "698",
          "7",
          "7",
          "7",
          "7",
          "71",
          "732",
          "76",
          "77",
          "77",
          "811436",
          "815",
          "82",
          "83",
          "83",
          "834",
          "84",
          "84",
          "852",
          "87",
          "888",
          "89",
          "89",
          "9",
          "9116",
          "93",
          "9332",
          "940",
          "96",
          "997",
          "9988",
          "Unknown",
          "Unknown",
          "Unknown",
          "Unknown",
          "Unknown",
          "Unknown",
          "Unknown",
          "Unknown",
          "Unknown",
          "Unknown",
          "Unknown",
          "Unknown",
          "Unknown",
          "Unknown",
          "Unknown",
          "Unknown",
          "Unknown",
          "Unknown",
          "Unknown",
          "Unknown",
          "Unknown",
          "Unknown",
          "Unknown",
          "Unknown"
         ],
         "yaxis": "y"
        }
       ],
       "layout": {
        "barmode": "relative",
        "legend": {
         "tracegroupgap": 0
        },
        "margin": {
         "t": 60
        },
        "template": {
         "data": {
          "bar": [
           {
            "error_x": {
             "color": "#2a3f5f"
            },
            "error_y": {
             "color": "#2a3f5f"
            },
            "marker": {
             "line": {
              "color": "#E5ECF6",
              "width": 0.5
             }
            },
            "type": "bar"
           }
          ],
          "barpolar": [
           {
            "marker": {
             "line": {
              "color": "#E5ECF6",
              "width": 0.5
             }
            },
            "type": "barpolar"
           }
          ],
          "carpet": [
           {
            "aaxis": {
             "endlinecolor": "#2a3f5f",
             "gridcolor": "white",
             "linecolor": "white",
             "minorgridcolor": "white",
             "startlinecolor": "#2a3f5f"
            },
            "baxis": {
             "endlinecolor": "#2a3f5f",
             "gridcolor": "white",
             "linecolor": "white",
             "minorgridcolor": "white",
             "startlinecolor": "#2a3f5f"
            },
            "type": "carpet"
           }
          ],
          "choropleth": [
           {
            "colorbar": {
             "outlinewidth": 0,
             "ticks": ""
            },
            "type": "choropleth"
           }
          ],
          "contour": [
           {
            "colorbar": {
             "outlinewidth": 0,
             "ticks": ""
            },
            "colorscale": [
             [
              0,
              "#0d0887"
             ],
             [
              0.1111111111111111,
              "#46039f"
             ],
             [
              0.2222222222222222,
              "#7201a8"
             ],
             [
              0.3333333333333333,
              "#9c179e"
             ],
             [
              0.4444444444444444,
              "#bd3786"
             ],
             [
              0.5555555555555556,
              "#d8576b"
             ],
             [
              0.6666666666666666,
              "#ed7953"
             ],
             [
              0.7777777777777778,
              "#fb9f3a"
             ],
             [
              0.8888888888888888,
              "#fdca26"
             ],
             [
              1,
              "#f0f921"
             ]
            ],
            "type": "contour"
           }
          ],
          "contourcarpet": [
           {
            "colorbar": {
             "outlinewidth": 0,
             "ticks": ""
            },
            "type": "contourcarpet"
           }
          ],
          "heatmap": [
           {
            "colorbar": {
             "outlinewidth": 0,
             "ticks": ""
            },
            "colorscale": [
             [
              0,
              "#0d0887"
             ],
             [
              0.1111111111111111,
              "#46039f"
             ],
             [
              0.2222222222222222,
              "#7201a8"
             ],
             [
              0.3333333333333333,
              "#9c179e"
             ],
             [
              0.4444444444444444,
              "#bd3786"
             ],
             [
              0.5555555555555556,
              "#d8576b"
             ],
             [
              0.6666666666666666,
              "#ed7953"
             ],
             [
              0.7777777777777778,
              "#fb9f3a"
             ],
             [
              0.8888888888888888,
              "#fdca26"
             ],
             [
              1,
              "#f0f921"
             ]
            ],
            "type": "heatmap"
           }
          ],
          "heatmapgl": [
           {
            "colorbar": {
             "outlinewidth": 0,
             "ticks": ""
            },
            "colorscale": [
             [
              0,
              "#0d0887"
             ],
             [
              0.1111111111111111,
              "#46039f"
             ],
             [
              0.2222222222222222,
              "#7201a8"
             ],
             [
              0.3333333333333333,
              "#9c179e"
             ],
             [
              0.4444444444444444,
              "#bd3786"
             ],
             [
              0.5555555555555556,
              "#d8576b"
             ],
             [
              0.6666666666666666,
              "#ed7953"
             ],
             [
              0.7777777777777778,
              "#fb9f3a"
             ],
             [
              0.8888888888888888,
              "#fdca26"
             ],
             [
              1,
              "#f0f921"
             ]
            ],
            "type": "heatmapgl"
           }
          ],
          "histogram": [
           {
            "marker": {
             "colorbar": {
              "outlinewidth": 0,
              "ticks": ""
             }
            },
            "type": "histogram"
           }
          ],
          "histogram2d": [
           {
            "colorbar": {
             "outlinewidth": 0,
             "ticks": ""
            },
            "colorscale": [
             [
              0,
              "#0d0887"
             ],
             [
              0.1111111111111111,
              "#46039f"
             ],
             [
              0.2222222222222222,
              "#7201a8"
             ],
             [
              0.3333333333333333,
              "#9c179e"
             ],
             [
              0.4444444444444444,
              "#bd3786"
             ],
             [
              0.5555555555555556,
              "#d8576b"
             ],
             [
              0.6666666666666666,
              "#ed7953"
             ],
             [
              0.7777777777777778,
              "#fb9f3a"
             ],
             [
              0.8888888888888888,
              "#fdca26"
             ],
             [
              1,
              "#f0f921"
             ]
            ],
            "type": "histogram2d"
           }
          ],
          "histogram2dcontour": [
           {
            "colorbar": {
             "outlinewidth": 0,
             "ticks": ""
            },
            "colorscale": [
             [
              0,
              "#0d0887"
             ],
             [
              0.1111111111111111,
              "#46039f"
             ],
             [
              0.2222222222222222,
              "#7201a8"
             ],
             [
              0.3333333333333333,
              "#9c179e"
             ],
             [
              0.4444444444444444,
              "#bd3786"
             ],
             [
              0.5555555555555556,
              "#d8576b"
             ],
             [
              0.6666666666666666,
              "#ed7953"
             ],
             [
              0.7777777777777778,
              "#fb9f3a"
             ],
             [
              0.8888888888888888,
              "#fdca26"
             ],
             [
              1,
              "#f0f921"
             ]
            ],
            "type": "histogram2dcontour"
           }
          ],
          "mesh3d": [
           {
            "colorbar": {
             "outlinewidth": 0,
             "ticks": ""
            },
            "type": "mesh3d"
           }
          ],
          "parcoords": [
           {
            "line": {
             "colorbar": {
              "outlinewidth": 0,
              "ticks": ""
             }
            },
            "type": "parcoords"
           }
          ],
          "pie": [
           {
            "automargin": true,
            "type": "pie"
           }
          ],
          "scatter": [
           {
            "marker": {
             "colorbar": {
              "outlinewidth": 0,
              "ticks": ""
             }
            },
            "type": "scatter"
           }
          ],
          "scatter3d": [
           {
            "line": {
             "colorbar": {
              "outlinewidth": 0,
              "ticks": ""
             }
            },
            "marker": {
             "colorbar": {
              "outlinewidth": 0,
              "ticks": ""
             }
            },
            "type": "scatter3d"
           }
          ],
          "scattercarpet": [
           {
            "marker": {
             "colorbar": {
              "outlinewidth": 0,
              "ticks": ""
             }
            },
            "type": "scattercarpet"
           }
          ],
          "scattergeo": [
           {
            "marker": {
             "colorbar": {
              "outlinewidth": 0,
              "ticks": ""
             }
            },
            "type": "scattergeo"
           }
          ],
          "scattergl": [
           {
            "marker": {
             "colorbar": {
              "outlinewidth": 0,
              "ticks": ""
             }
            },
            "type": "scattergl"
           }
          ],
          "scattermapbox": [
           {
            "marker": {
             "colorbar": {
              "outlinewidth": 0,
              "ticks": ""
             }
            },
            "type": "scattermapbox"
           }
          ],
          "scatterpolar": [
           {
            "marker": {
             "colorbar": {
              "outlinewidth": 0,
              "ticks": ""
             }
            },
            "type": "scatterpolar"
           }
          ],
          "scatterpolargl": [
           {
            "marker": {
             "colorbar": {
              "outlinewidth": 0,
              "ticks": ""
             }
            },
            "type": "scatterpolargl"
           }
          ],
          "scatterternary": [
           {
            "marker": {
             "colorbar": {
              "outlinewidth": 0,
              "ticks": ""
             }
            },
            "type": "scatterternary"
           }
          ],
          "surface": [
           {
            "colorbar": {
             "outlinewidth": 0,
             "ticks": ""
            },
            "colorscale": [
             [
              0,
              "#0d0887"
             ],
             [
              0.1111111111111111,
              "#46039f"
             ],
             [
              0.2222222222222222,
              "#7201a8"
             ],
             [
              0.3333333333333333,
              "#9c179e"
             ],
             [
              0.4444444444444444,
              "#bd3786"
             ],
             [
              0.5555555555555556,
              "#d8576b"
             ],
             [
              0.6666666666666666,
              "#ed7953"
             ],
             [
              0.7777777777777778,
              "#fb9f3a"
             ],
             [
              0.8888888888888888,
              "#fdca26"
             ],
             [
              1,
              "#f0f921"
             ]
            ],
            "type": "surface"
           }
          ],
          "table": [
           {
            "cells": {
             "fill": {
              "color": "#EBF0F8"
             },
             "line": {
              "color": "white"
             }
            },
            "header": {
             "fill": {
              "color": "#C8D4E3"
             },
             "line": {
              "color": "white"
             }
            },
            "type": "table"
           }
          ]
         },
         "layout": {
          "annotationdefaults": {
           "arrowcolor": "#2a3f5f",
           "arrowhead": 0,
           "arrowwidth": 1
          },
          "coloraxis": {
           "colorbar": {
            "outlinewidth": 0,
            "ticks": ""
           }
          },
          "colorscale": {
           "diverging": [
            [
             0,
             "#8e0152"
            ],
            [
             0.1,
             "#c51b7d"
            ],
            [
             0.2,
             "#de77ae"
            ],
            [
             0.3,
             "#f1b6da"
            ],
            [
             0.4,
             "#fde0ef"
            ],
            [
             0.5,
             "#f7f7f7"
            ],
            [
             0.6,
             "#e6f5d0"
            ],
            [
             0.7,
             "#b8e186"
            ],
            [
             0.8,
             "#7fbc41"
            ],
            [
             0.9,
             "#4d9221"
            ],
            [
             1,
             "#276419"
            ]
           ],
           "sequential": [
            [
             0,
             "#0d0887"
            ],
            [
             0.1111111111111111,
             "#46039f"
            ],
            [
             0.2222222222222222,
             "#7201a8"
            ],
            [
             0.3333333333333333,
             "#9c179e"
            ],
            [
             0.4444444444444444,
             "#bd3786"
            ],
            [
             0.5555555555555556,
             "#d8576b"
            ],
            [
             0.6666666666666666,
             "#ed7953"
            ],
            [
             0.7777777777777778,
             "#fb9f3a"
            ],
            [
             0.8888888888888888,
             "#fdca26"
            ],
            [
             1,
             "#f0f921"
            ]
           ],
           "sequentialminus": [
            [
             0,
             "#0d0887"
            ],
            [
             0.1111111111111111,
             "#46039f"
            ],
            [
             0.2222222222222222,
             "#7201a8"
            ],
            [
             0.3333333333333333,
             "#9c179e"
            ],
            [
             0.4444444444444444,
             "#bd3786"
            ],
            [
             0.5555555555555556,
             "#d8576b"
            ],
            [
             0.6666666666666666,
             "#ed7953"
            ],
            [
             0.7777777777777778,
             "#fb9f3a"
            ],
            [
             0.8888888888888888,
             "#fdca26"
            ],
            [
             1,
             "#f0f921"
            ]
           ]
          },
          "colorway": [
           "#636efa",
           "#EF553B",
           "#00cc96",
           "#ab63fa",
           "#FFA15A",
           "#19d3f3",
           "#FF6692",
           "#B6E880",
           "#FF97FF",
           "#FECB52"
          ],
          "font": {
           "color": "#2a3f5f"
          },
          "geo": {
           "bgcolor": "white",
           "lakecolor": "white",
           "landcolor": "#E5ECF6",
           "showlakes": true,
           "showland": true,
           "subunitcolor": "white"
          },
          "hoverlabel": {
           "align": "left"
          },
          "hovermode": "closest",
          "mapbox": {
           "style": "light"
          },
          "paper_bgcolor": "white",
          "plot_bgcolor": "#E5ECF6",
          "polar": {
           "angularaxis": {
            "gridcolor": "white",
            "linecolor": "white",
            "ticks": ""
           },
           "bgcolor": "#E5ECF6",
           "radialaxis": {
            "gridcolor": "white",
            "linecolor": "white",
            "ticks": ""
           }
          },
          "scene": {
           "xaxis": {
            "backgroundcolor": "#E5ECF6",
            "gridcolor": "white",
            "gridwidth": 2,
            "linecolor": "white",
            "showbackground": true,
            "ticks": "",
            "zerolinecolor": "white"
           },
           "yaxis": {
            "backgroundcolor": "#E5ECF6",
            "gridcolor": "white",
            "gridwidth": 2,
            "linecolor": "white",
            "showbackground": true,
            "ticks": "",
            "zerolinecolor": "white"
           },
           "zaxis": {
            "backgroundcolor": "#E5ECF6",
            "gridcolor": "white",
            "gridwidth": 2,
            "linecolor": "white",
            "showbackground": true,
            "ticks": "",
            "zerolinecolor": "white"
           }
          },
          "shapedefaults": {
           "line": {
            "color": "#2a3f5f"
           }
          },
          "ternary": {
           "aaxis": {
            "gridcolor": "white",
            "linecolor": "white",
            "ticks": ""
           },
           "baxis": {
            "gridcolor": "white",
            "linecolor": "white",
            "ticks": ""
           },
           "bgcolor": "#E5ECF6",
           "caxis": {
            "gridcolor": "white",
            "linecolor": "white",
            "ticks": ""
           }
          },
          "title": {
           "x": 0.05
          },
          "xaxis": {
           "automargin": true,
           "gridcolor": "white",
           "linecolor": "white",
           "ticks": "",
           "title": {
            "standoff": 15
           },
           "zerolinecolor": "white",
           "zerolinewidth": 2
          },
          "yaxis": {
           "automargin": true,
           "gridcolor": "white",
           "linecolor": "white",
           "ticks": "",
           "title": {
            "standoff": 15
           },
           "zerolinecolor": "white",
           "zerolinewidth": 2
          }
         }
        },
        "xaxis": {
         "anchor": "y",
         "domain": [
          0,
          1
         ],
         "title": {
          "text": "Name"
         }
        },
        "yaxis": {
         "anchor": "x",
         "domain": [
          0,
          1
         ],
         "title": {
          "text": "Deceased"
         }
        }
       }
      },
      "text/html": [
       "<div>\n",
       "        \n",
       "        \n",
       "            <div id=\"1e104a1a-bd8e-4677-8b2b-7f511286ac8b\" class=\"plotly-graph-div\" style=\"height:525px; width:100%;\"></div>\n",
       "            <script type=\"text/javascript\">\n",
       "                require([\"plotly\"], function(Plotly) {\n",
       "                    window.PLOTLYENV=window.PLOTLYENV || {};\n",
       "                    \n",
       "                if (document.getElementById(\"1e104a1a-bd8e-4677-8b2b-7f511286ac8b\")) {\n",
       "                    Plotly.newPlot(\n",
       "                        '1e104a1a-bd8e-4677-8b2b-7f511286ac8b',\n",
       "                        [{\"alignmentgroup\": \"True\", \"hovertemplate\": \"Name=%{x}<br>Deceased=%{y}<extra></extra>\", \"legendgroup\": \"\", \"marker\": {\"color\": \"#636efa\"}, \"name\": \"\", \"offsetgroup\": \"\", \"orientation\": \"v\", \"showlegend\": false, \"textposition\": \"auto\", \"type\": \"bar\", \"x\": [\"\\u2605  Western Sahara\", \"\\u2605  British Virgin Islands\", \"\\u2605  Cayman Islands\", \"\\u2605  Fiji\", \"\\u2605  Curacao\", \"\\u2605  Burundi\", \"\\u2605  Montserrat\", \"\\u2605  Liechtenstein\", \"\\u2605  Malta\", \"\\u2605  Mauritius\", \"\\u2605  Iceland\", \"\\u2605  Kyrgyzstan\", \"\\u2605  Chile\", \"\\u2605  Ivory Coast\", \"\\u2605  Brazil\", \"\\u2605  Japan\", \"\\u2605  Sri Lanka\", \"\\u2605  Rwanda\", \"\\u2605  Jordan\", \"\\u2605  Lebanon\", \"\\u2605  Luxembourg\", \"\\u2605  Malaysia\", \"\\u2605  Mali\", \"\\u2605  Palestine\", \"\\u2605  South Africa\", \"\\u2605  Slovenia\", \"\\u2605  Nicaragua\", \"\\u2605  Afghanistan\", \"\\u2605  Trinidad and Tobago\", \"\\u2605  Kazakhstan\", \"\\u2605  Algeria\", \"\\u2605  Nepal\", \"\\u2605  Guadeloupe\", \"\\u2605  S\\u00c3\\u00a3o Tom\\u00c3\\u00a9 and Pr\\u00c3\\u00adncipe\", \"\\u2605  Zimbabwe\", \"\\u2605  Dominican Republic\", \"\\u2605  Mauritania\", \"\\u2605  Jamaica\", \"\\u2605  Martinique\", \"\\u2605  Russia\", \"\\u2605  Honduras\", \"\\u2605  Malawi\", \"\\u2605  Colombia\", \"\\u2605  Sint Maarten\", \"\\u2605  Georgia\", \"\\u2605  Croatia\", \"\\u2605  Ireland\", \"\\u2605  Madagascar\", \"\\u2605  Portugal\", \"\\u2605  United States\", \"\\u2605  Bahrain\", \"\\u2605  Panama\", \"\\u2605  Libya\", \"\\u2605  Paraguay\", \"\\u2605  Qatar\", \"\\u2605  Poland\", \"\\u2605  Haiti\", \"\\u2605  Turks and Caicos Islands\", \"\\u2605  Uganda\", \"\\u2605  Cyprus\", \"\\u2605  Mozambique\", \"\\u2605  Switzerland\", \"\\u2605  Iran\", \"\\u2605  Tanzania\", \"\\u2605  New Zealand\", \"\\u2605  Ukraine\", \"\\u2605  Isle of Man\", \"\\u2605  Greece\", \"\\u2605  Albania\", \"\\u2605  DR Congo\", \"\\u2605  Guatemala\", \"\\u2605  Maldives\", \"\\u2605  Ghana\", \"\\u2605  Norway\", \"\\u2605  Senegal\", \"\\u2605  Togo\", \"\\u2605  Singapore\", \"\\u2605  Vietnam\", \"\\u2605  Uzbekistan\", \"\\u2605  Peru\", \"\\u2605  Zambia\", \"\\u2605  Spain\", \"\\u2605  The Bahamas\", \"\\u2605  Philippines\", \"\\u2605  Brunei\", \"\\u2605  Antigua and Barbuda\", \"\\u2605  Botswana\", \"\\u2605  Lesotho\", \"\\u2605  France\", \"\\u2605  South Korea\", \"\\u2605  Guyana\", \"\\u2605  Venezuela\", \"\\u2605  Romania\", \"\\u2605  Slovakia\", \"\\u2605  Guinea-Bissau\", \"\\u2605  Latvia\", \"\\u2605  Finland\", \"\\u2605  Italy\", \"\\u2605  Costa Rica\", \"\\u2605  Saudi Arabia\", \"\\u2605  Cape Verde\", \"\\u2605  United Arab Emirates\", \"\\u2605  Benin\", \"\\u2605  Mayotte\", \"\\u2605  Bangladesh\", \"\\u2605  Monaco\", \"\\u2605  Papua New Guinea\", \"\\u2605  Cameroon\", \"\\u2605  Czechia\", \"\\u2605  United Kingdom\", \"\\u2605  San Marino\", \"\\u2605  Uruguay\", \"\\u2605  Bolivia\", \"\\u2605  Kosovo\", \"\\u2605  China\", \"\\u2605  South Sudan\", \"\\u2605  Channel Islands\", \"\\u2605  Saint Martin\", \"\\u2605  Australia\", \"\\u2605  Kuwait\", \"\\u2605  Azerbaijan\", \"\\u2605  Namibia\", \"\\u2605  Egypt\", \"\\u2605  Gabon\", \"\\u2605  Guinea\", \"\\u2605  Andorra\", \"\\u2605  Bosnia and Herzegovina\", \"\\u2605  Bulgaria\", \"\\u2605  Kenya\", \"\\u2605  French Guiana\", \"\\u2605  Burkina Faso\", \"\\u2605  Yemen\", \"\\u2605  North Macedonia\", \"\\u2605  Suriname\", \"\\u2605  India\", \"\\u2605  Thailand\", \"\\u2605  Sweden\", \"\\u2605  Belize\", \"\\u2605  Reunion\", \"\\u2605  Myanmar\", \"\\u2605  Djibouti\", \"\\u2605  Mexico\", \"\\u2605  Oman\", \"\\u2605  Central African Republic\", \"\\u2605  Turkey\", \"\\u2605  Hungary\", \"\\u2605  Netherlands\", \"\\u2605  Denmark\", \"\\u2605  Pakistan\", \"\\u2605  Estonia\", \"\\u2605  Ecuador\", \"\\u2605  Belarus\", \"\\u2605  Iraq\", \"\\u2605  Tajikistan\", \"\\u2605  El Salvador\", \"\\u2605  Indonesia\", \"\\u2605  Ethiopia\", \"\\u2605  Sierra Leone\", \"\\u2605  Niger\", \"\\u2605  Argentina\", \"\\u2605  Serbia\", \"\\u2605  Taiwan\", \"\\u2605  Barbados\", \"\\u2605  Aruba\", \"\\u2605  Comoros\", \"\\u2605  Tunisia\", \"\\u2605  Austria\", \"\\u2605  Chad\", \"\\u2605  Hong Kong\", \"\\u2605  Congo\", \"TOTAL\", \"\\u2605  Sudan\", \"\\u2605  Liberia\", \"\\u2605  Equatorial Guinea\", \"\\u2605  Eswatini\", \"\\u2605  Israel\", \"\\u2605  Montenegro\", \"\\u2605  Lithuania\", \"\\u2605  Armenia\", \"\\u2605  The Gambia\", \"\\u2605  Morocco\", \"\\u2605  Syria\", \"\\u2605  Cuba\", \"\\u2605  Bermuda\", \"\\u2605  Canada\", \"\\u2605  Somalia\", \"\\u2605  Germany\", \"\\u2605  Moldova\", \"\\u2605  Angola\", \"\\u2605  Nigeria\", \"\\u2605  Belgium\", \"\\u2605  Saint Pierre and Miquelon\", \"\\u2605  Faroe Islands\", \"\\u2605  Vatican City\", \"\\u2605  Falkland Islands\", \"\\u2605  Caribbean Netherlands\", \"\\u2605  Eritrea\", \"\\u2605  Greenland\", \"\\u2605  Saint Barthelemy\", \"\\u2605  Saint Kitts and Nevis\", \"\\u2605  Dominica\", \"\\u2605  Mongolia\", \"\\u2605  New Caledonia\", \"\\u2605  Bhutan\", \"\\u2605  Grenada\", \"\\u2605  Timor-Leste\", \"\\u2605  Saint Lucia\", \"\\u2605  French Polynesia\", \"\\u2605  Macao\", \"\\u2605  Saint Vincent and the Grenadines\", \"\\u2605  Cambodia\", \"\\u2605  Seychelles\", \"\\u2605  Gibraltar\", \"\\u2605  Laos\", \"\\u2605  Anguilla\"], \"xaxis\": \"x\", \"y\": [\"1\", \"1\", \"1\", \"1\", \"1\", \"1\", \"1\", \"1\", \"10\", \"10\", \"10\", \"1056\", \"10852\", \"113\", \"114744\", \"1169\", \"12\", \"12\", \"12\", \"123\", \"124\", \"125\", \"125\", \"128\", \"13059\", \"131\", \"133\", \"1387\", \"14\", \"1415\", \"1435\", \"149\", \"15\", \"15\", \"153\", \"1567\", \"158\", \"16\", \"16\", \"16383\", \"1643\", \"168\", \"16968\", \"17\", \"17\", \"171\", \"1777\", \"178\", \"1796\", \"180555\", \"184\", \"1878\", \"188\", \"192\", \"193\", \"1955\", \"196\", \"2\", \"20\", \"20\", \"20\", \"2001\", \"20643\", \"21\", \"22\", \"2271\", \"24\", \"242\", \"250\", \"251\", \"2580\", \"26\", \"261\", \"264\", \"269\", \"27\", \"27\", \"27\", \"273\", \"27453\", \"280\", \"28838\", \"29\", \"2998\", \"3\", \"3\", \"3\", \"30\", \"30513\", \"309\", \"31\", \"323\", \"3272\", \"33\", \"33\", \"33\", \"334\", \"35437\", \"355\", \"3649\", \"37\", \"375\", \"39\", \"39\", \"3941\", \"4\", \"4\", \"408\", \"412\", \"41429\", \"42\", \"42\", \"4442\", \"448\", \"4634\", \"47\", \"48\", \"5\", \"502\", \"515\", \"518\", \"52\", \"5243\", \"53\", \"53\", \"53\", \"532\", \"545\", \"548\", \"55\", \"55\", \"553\", \"564\", \"57\", \"57692\", \"58\", \"5810\", \"6\", \"6\", \"6\", \"60\", \"60254\", \"609\", \"61\", \"6121\", \"613\", \"6200\", \"622\", \"6235\", \"63\", \"6310\", \"642\", \"6428\", \"66\", \"661\", \"6680\", \"678\", \"69\", \"69\", \"6947\", \"698\", \"7\", \"7\", \"7\", \"7\", \"71\", \"732\", \"76\", \"77\", \"77\", \"811436\", \"815\", \"82\", \"83\", \"83\", \"834\", \"84\", \"84\", \"852\", \"87\", \"888\", \"89\", \"89\", \"9\", \"9116\", \"93\", \"9332\", \"940\", \"96\", \"997\", \"9988\", \"Unknown\", \"Unknown\", \"Unknown\", \"Unknown\", \"Unknown\", \"Unknown\", \"Unknown\", \"Unknown\", \"Unknown\", \"Unknown\", \"Unknown\", \"Unknown\", \"Unknown\", \"Unknown\", \"Unknown\", \"Unknown\", \"Unknown\", \"Unknown\", \"Unknown\", \"Unknown\", \"Unknown\", \"Unknown\", \"Unknown\", \"Unknown\"], \"yaxis\": \"y\"}],\n",
       "                        {\"barmode\": \"relative\", \"legend\": {\"tracegroupgap\": 0}, \"margin\": {\"t\": 60}, \"template\": {\"data\": {\"bar\": [{\"error_x\": {\"color\": \"#2a3f5f\"}, \"error_y\": {\"color\": \"#2a3f5f\"}, \"marker\": {\"line\": {\"color\": \"#E5ECF6\", \"width\": 0.5}}, \"type\": \"bar\"}], \"barpolar\": [{\"marker\": {\"line\": {\"color\": \"#E5ECF6\", \"width\": 0.5}}, \"type\": \"barpolar\"}], \"carpet\": [{\"aaxis\": {\"endlinecolor\": \"#2a3f5f\", \"gridcolor\": \"white\", \"linecolor\": \"white\", \"minorgridcolor\": \"white\", \"startlinecolor\": \"#2a3f5f\"}, \"baxis\": {\"endlinecolor\": \"#2a3f5f\", \"gridcolor\": \"white\", \"linecolor\": \"white\", \"minorgridcolor\": \"white\", \"startlinecolor\": \"#2a3f5f\"}, \"type\": \"carpet\"}], \"choropleth\": [{\"colorbar\": {\"outlinewidth\": 0, \"ticks\": \"\"}, \"type\": \"choropleth\"}], \"contour\": [{\"colorbar\": {\"outlinewidth\": 0, \"ticks\": \"\"}, \"colorscale\": [[0.0, \"#0d0887\"], [0.1111111111111111, \"#46039f\"], [0.2222222222222222, \"#7201a8\"], [0.3333333333333333, \"#9c179e\"], [0.4444444444444444, \"#bd3786\"], [0.5555555555555556, \"#d8576b\"], [0.6666666666666666, \"#ed7953\"], [0.7777777777777778, \"#fb9f3a\"], [0.8888888888888888, \"#fdca26\"], [1.0, \"#f0f921\"]], \"type\": \"contour\"}], \"contourcarpet\": [{\"colorbar\": {\"outlinewidth\": 0, \"ticks\": \"\"}, \"type\": \"contourcarpet\"}], \"heatmap\": [{\"colorbar\": {\"outlinewidth\": 0, \"ticks\": \"\"}, \"colorscale\": [[0.0, \"#0d0887\"], [0.1111111111111111, \"#46039f\"], [0.2222222222222222, \"#7201a8\"], [0.3333333333333333, \"#9c179e\"], [0.4444444444444444, \"#bd3786\"], [0.5555555555555556, \"#d8576b\"], [0.6666666666666666, \"#ed7953\"], [0.7777777777777778, \"#fb9f3a\"], [0.8888888888888888, \"#fdca26\"], [1.0, \"#f0f921\"]], \"type\": \"heatmap\"}], \"heatmapgl\": [{\"colorbar\": {\"outlinewidth\": 0, \"ticks\": \"\"}, \"colorscale\": [[0.0, \"#0d0887\"], [0.1111111111111111, \"#46039f\"], [0.2222222222222222, \"#7201a8\"], [0.3333333333333333, \"#9c179e\"], [0.4444444444444444, \"#bd3786\"], [0.5555555555555556, \"#d8576b\"], [0.6666666666666666, \"#ed7953\"], [0.7777777777777778, \"#fb9f3a\"], [0.8888888888888888, \"#fdca26\"], [1.0, \"#f0f921\"]], \"type\": \"heatmapgl\"}], \"histogram\": [{\"marker\": {\"colorbar\": {\"outlinewidth\": 0, \"ticks\": \"\"}}, \"type\": \"histogram\"}], \"histogram2d\": [{\"colorbar\": {\"outlinewidth\": 0, \"ticks\": \"\"}, \"colorscale\": [[0.0, \"#0d0887\"], [0.1111111111111111, \"#46039f\"], [0.2222222222222222, \"#7201a8\"], [0.3333333333333333, \"#9c179e\"], [0.4444444444444444, \"#bd3786\"], [0.5555555555555556, \"#d8576b\"], [0.6666666666666666, \"#ed7953\"], [0.7777777777777778, \"#fb9f3a\"], [0.8888888888888888, \"#fdca26\"], [1.0, \"#f0f921\"]], \"type\": \"histogram2d\"}], \"histogram2dcontour\": [{\"colorbar\": {\"outlinewidth\": 0, \"ticks\": \"\"}, \"colorscale\": [[0.0, \"#0d0887\"], [0.1111111111111111, \"#46039f\"], [0.2222222222222222, \"#7201a8\"], [0.3333333333333333, \"#9c179e\"], [0.4444444444444444, \"#bd3786\"], [0.5555555555555556, \"#d8576b\"], [0.6666666666666666, \"#ed7953\"], [0.7777777777777778, \"#fb9f3a\"], [0.8888888888888888, \"#fdca26\"], [1.0, \"#f0f921\"]], \"type\": \"histogram2dcontour\"}], \"mesh3d\": [{\"colorbar\": {\"outlinewidth\": 0, \"ticks\": \"\"}, \"type\": \"mesh3d\"}], \"parcoords\": [{\"line\": {\"colorbar\": {\"outlinewidth\": 0, \"ticks\": \"\"}}, \"type\": \"parcoords\"}], \"pie\": [{\"automargin\": true, \"type\": \"pie\"}], \"scatter\": [{\"marker\": {\"colorbar\": {\"outlinewidth\": 0, \"ticks\": \"\"}}, \"type\": \"scatter\"}], \"scatter3d\": [{\"line\": {\"colorbar\": {\"outlinewidth\": 0, \"ticks\": \"\"}}, \"marker\": {\"colorbar\": {\"outlinewidth\": 0, \"ticks\": \"\"}}, \"type\": \"scatter3d\"}], \"scattercarpet\": [{\"marker\": {\"colorbar\": {\"outlinewidth\": 0, \"ticks\": \"\"}}, \"type\": \"scattercarpet\"}], \"scattergeo\": [{\"marker\": {\"colorbar\": {\"outlinewidth\": 0, \"ticks\": \"\"}}, \"type\": \"scattergeo\"}], \"scattergl\": [{\"marker\": {\"colorbar\": {\"outlinewidth\": 0, \"ticks\": \"\"}}, \"type\": \"scattergl\"}], \"scattermapbox\": [{\"marker\": {\"colorbar\": {\"outlinewidth\": 0, \"ticks\": \"\"}}, \"type\": \"scattermapbox\"}], \"scatterpolar\": [{\"marker\": {\"colorbar\": {\"outlinewidth\": 0, \"ticks\": \"\"}}, \"type\": \"scatterpolar\"}], \"scatterpolargl\": [{\"marker\": {\"colorbar\": {\"outlinewidth\": 0, \"ticks\": \"\"}}, \"type\": \"scatterpolargl\"}], \"scatterternary\": [{\"marker\": {\"colorbar\": {\"outlinewidth\": 0, \"ticks\": \"\"}}, \"type\": \"scatterternary\"}], \"surface\": [{\"colorbar\": {\"outlinewidth\": 0, \"ticks\": \"\"}, \"colorscale\": [[0.0, \"#0d0887\"], [0.1111111111111111, \"#46039f\"], [0.2222222222222222, \"#7201a8\"], [0.3333333333333333, \"#9c179e\"], [0.4444444444444444, \"#bd3786\"], [0.5555555555555556, \"#d8576b\"], [0.6666666666666666, \"#ed7953\"], [0.7777777777777778, \"#fb9f3a\"], [0.8888888888888888, \"#fdca26\"], [1.0, \"#f0f921\"]], \"type\": \"surface\"}], \"table\": [{\"cells\": {\"fill\": {\"color\": \"#EBF0F8\"}, \"line\": {\"color\": \"white\"}}, \"header\": {\"fill\": {\"color\": \"#C8D4E3\"}, \"line\": {\"color\": \"white\"}}, \"type\": \"table\"}]}, \"layout\": {\"annotationdefaults\": {\"arrowcolor\": \"#2a3f5f\", \"arrowhead\": 0, \"arrowwidth\": 1}, \"coloraxis\": {\"colorbar\": {\"outlinewidth\": 0, \"ticks\": \"\"}}, \"colorscale\": {\"diverging\": [[0, \"#8e0152\"], [0.1, \"#c51b7d\"], [0.2, \"#de77ae\"], [0.3, \"#f1b6da\"], [0.4, \"#fde0ef\"], [0.5, \"#f7f7f7\"], [0.6, \"#e6f5d0\"], [0.7, \"#b8e186\"], [0.8, \"#7fbc41\"], [0.9, \"#4d9221\"], [1, \"#276419\"]], \"sequential\": [[0.0, \"#0d0887\"], [0.1111111111111111, \"#46039f\"], [0.2222222222222222, \"#7201a8\"], [0.3333333333333333, \"#9c179e\"], [0.4444444444444444, \"#bd3786\"], [0.5555555555555556, \"#d8576b\"], [0.6666666666666666, \"#ed7953\"], [0.7777777777777778, \"#fb9f3a\"], [0.8888888888888888, \"#fdca26\"], [1.0, \"#f0f921\"]], \"sequentialminus\": [[0.0, \"#0d0887\"], [0.1111111111111111, \"#46039f\"], [0.2222222222222222, \"#7201a8\"], [0.3333333333333333, \"#9c179e\"], [0.4444444444444444, \"#bd3786\"], [0.5555555555555556, \"#d8576b\"], [0.6666666666666666, \"#ed7953\"], [0.7777777777777778, \"#fb9f3a\"], [0.8888888888888888, \"#fdca26\"], [1.0, \"#f0f921\"]]}, \"colorway\": [\"#636efa\", \"#EF553B\", \"#00cc96\", \"#ab63fa\", \"#FFA15A\", \"#19d3f3\", \"#FF6692\", \"#B6E880\", \"#FF97FF\", \"#FECB52\"], \"font\": {\"color\": \"#2a3f5f\"}, \"geo\": {\"bgcolor\": \"white\", \"lakecolor\": \"white\", \"landcolor\": \"#E5ECF6\", \"showlakes\": true, \"showland\": true, \"subunitcolor\": \"white\"}, \"hoverlabel\": {\"align\": \"left\"}, \"hovermode\": \"closest\", \"mapbox\": {\"style\": \"light\"}, \"paper_bgcolor\": \"white\", \"plot_bgcolor\": \"#E5ECF6\", \"polar\": {\"angularaxis\": {\"gridcolor\": \"white\", \"linecolor\": \"white\", \"ticks\": \"\"}, \"bgcolor\": \"#E5ECF6\", \"radialaxis\": {\"gridcolor\": \"white\", \"linecolor\": \"white\", \"ticks\": \"\"}}, \"scene\": {\"xaxis\": {\"backgroundcolor\": \"#E5ECF6\", \"gridcolor\": \"white\", \"gridwidth\": 2, \"linecolor\": \"white\", \"showbackground\": true, \"ticks\": \"\", \"zerolinecolor\": \"white\"}, \"yaxis\": {\"backgroundcolor\": \"#E5ECF6\", \"gridcolor\": \"white\", \"gridwidth\": 2, \"linecolor\": \"white\", \"showbackground\": true, \"ticks\": \"\", \"zerolinecolor\": \"white\"}, \"zaxis\": {\"backgroundcolor\": \"#E5ECF6\", \"gridcolor\": \"white\", \"gridwidth\": 2, \"linecolor\": \"white\", \"showbackground\": true, \"ticks\": \"\", \"zerolinecolor\": \"white\"}}, \"shapedefaults\": {\"line\": {\"color\": \"#2a3f5f\"}}, \"ternary\": {\"aaxis\": {\"gridcolor\": \"white\", \"linecolor\": \"white\", \"ticks\": \"\"}, \"baxis\": {\"gridcolor\": \"white\", \"linecolor\": \"white\", \"ticks\": \"\"}, \"bgcolor\": \"#E5ECF6\", \"caxis\": {\"gridcolor\": \"white\", \"linecolor\": \"white\", \"ticks\": \"\"}}, \"title\": {\"x\": 0.05}, \"xaxis\": {\"automargin\": true, \"gridcolor\": \"white\", \"linecolor\": \"white\", \"ticks\": \"\", \"title\": {\"standoff\": 15}, \"zerolinecolor\": \"white\", \"zerolinewidth\": 2}, \"yaxis\": {\"automargin\": true, \"gridcolor\": \"white\", \"linecolor\": \"white\", \"ticks\": \"\", \"title\": {\"standoff\": 15}, \"zerolinecolor\": \"white\", \"zerolinewidth\": 2}}}, \"xaxis\": {\"anchor\": \"y\", \"domain\": [0.0, 1.0], \"title\": {\"text\": \"Name\"}}, \"yaxis\": {\"anchor\": \"x\", \"domain\": [0.0, 1.0], \"title\": {\"text\": \"Deceased\"}}},\n",
       "                        {\"responsive\": true}\n",
       "                    ).then(function(){\n",
       "                            \n",
       "var gd = document.getElementById('1e104a1a-bd8e-4677-8b2b-7f511286ac8b');\n",
       "var x = new MutationObserver(function (mutations, observer) {{\n",
       "        var display = window.getComputedStyle(gd).display;\n",
       "        if (!display || display === 'none') {{\n",
       "            console.log([gd, 'removed!']);\n",
       "            Plotly.purge(gd);\n",
       "            observer.disconnect();\n",
       "        }}\n",
       "}});\n",
       "\n",
       "// Listen for the removal of the full notebook cells\n",
       "var notebookContainer = gd.closest('#notebook-container');\n",
       "if (notebookContainer) {{\n",
       "    x.observe(notebookContainer, {childList: true});\n",
       "}}\n",
       "\n",
       "// Listen for the clearing of the current output cell\n",
       "var outputEl = gd.closest('.output');\n",
       "if (outputEl) {{\n",
       "    x.observe(outputEl, {childList: true});\n",
       "}}\n",
       "\n",
       "                        })\n",
       "                };\n",
       "                });\n",
       "            </script>\n",
       "        </div>"
      ]
     },
     "metadata": {},
     "output_type": "display_data"
    }
   ],
   "source": [
    "# lets visualize world_df based on death poll for top 20 countries.\n",
    "\n",
    "world_fig = px.bar(world_df.sort_values('Deceased'), x = 'Name', y = 'Deceased')\n",
    "world_fig.show()"
   ]
  },
  {
   "cell_type": "markdown",
   "metadata": {},
   "source": [
    " -  As you see here also we cannot make countres based on number of deceased people.\n",
    " - There is some some problem with world_df[\"Deceased\"] column, let's fix that."
   ]
  },
  {
   "cell_type": "code",
   "execution_count": 61,
   "metadata": {},
   "outputs": [
    {
     "data": {
      "text/html": [
       "<div>\n",
       "<style scoped>\n",
       "    .dataframe tbody tr th:only-of-type {\n",
       "        vertical-align: middle;\n",
       "    }\n",
       "\n",
       "    .dataframe tbody tr th {\n",
       "        vertical-align: top;\n",
       "    }\n",
       "\n",
       "    .dataframe thead th {\n",
       "        text-align: right;\n",
       "    }\n",
       "</style>\n",
       "<table border=\"1\" class=\"dataframe\">\n",
       "  <thead>\n",
       "    <tr style=\"text-align: right;\">\n",
       "      <th></th>\n",
       "      <th>Name</th>\n",
       "      <th>Confirmed</th>\n",
       "      <th>Per Million</th>\n",
       "      <th>Changes Today</th>\n",
       "      <th>Percentage Day Change</th>\n",
       "      <th>Critical</th>\n",
       "      <th>Deceased</th>\n",
       "      <th>Per Million.1</th>\n",
       "      <th>Changes Today.1</th>\n",
       "      <th>Percentage Death Change</th>\n",
       "      <th>Tests</th>\n",
       "      <th>Active</th>\n",
       "      <th>Recovered</th>\n",
       "      <th>Per Million.2</th>\n",
       "      <th>Population</th>\n",
       "    </tr>\n",
       "  </thead>\n",
       "  <tbody>\n",
       "    <tr>\n",
       "      <th>213</th>\n",
       "      <td>★  Anguilla</td>\n",
       "      <td>3</td>\n",
       "      <td>0</td>\n",
       "      <td>0</td>\n",
       "      <td>0%</td>\n",
       "      <td>Unknown</td>\n",
       "      <td>Unknown</td>\n",
       "      <td>Unknown</td>\n",
       "      <td>0</td>\n",
       "      <td>0%</td>\n",
       "      <td>662</td>\n",
       "      <td>Unknown</td>\n",
       "      <td>3</td>\n",
       "      <td>0</td>\n",
       "      <td>15022</td>\n",
       "    </tr>\n",
       "    <tr>\n",
       "      <th>153</th>\n",
       "      <td>★  Timor-Leste</td>\n",
       "      <td>26</td>\n",
       "      <td>20</td>\n",
       "      <td>0</td>\n",
       "      <td>0%</td>\n",
       "      <td>Unknown</td>\n",
       "      <td>Unknown</td>\n",
       "      <td>Unknown</td>\n",
       "      <td>0</td>\n",
       "      <td>0%</td>\n",
       "      <td>5146</td>\n",
       "      <td>Unknown</td>\n",
       "      <td>25</td>\n",
       "      <td>19</td>\n",
       "      <td>1321912</td>\n",
       "    </tr>\n",
       "    <tr>\n",
       "      <th>194</th>\n",
       "      <td>★  Faroe Islands</td>\n",
       "      <td>384</td>\n",
       "      <td>0</td>\n",
       "      <td>0</td>\n",
       "      <td>0%</td>\n",
       "      <td>4</td>\n",
       "      <td>Unknown</td>\n",
       "      <td>Unknown</td>\n",
       "      <td>0</td>\n",
       "      <td>0%</td>\n",
       "      <td>81991</td>\n",
       "      <td>Unknown</td>\n",
       "      <td>300</td>\n",
       "      <td>0</td>\n",
       "      <td>48890</td>\n",
       "    </tr>\n",
       "    <tr>\n",
       "      <th>52</th>\n",
       "      <td>★  Eritrea</td>\n",
       "      <td>306</td>\n",
       "      <td>86</td>\n",
       "      <td>0</td>\n",
       "      <td>0%</td>\n",
       "      <td>Unknown</td>\n",
       "      <td>Unknown</td>\n",
       "      <td>Unknown</td>\n",
       "      <td>0</td>\n",
       "      <td>0%</td>\n",
       "      <td>Unknown</td>\n",
       "      <td>Unknown</td>\n",
       "      <td>274</td>\n",
       "      <td>77</td>\n",
       "      <td>3553321</td>\n",
       "    </tr>\n",
       "    <tr>\n",
       "      <th>106</th>\n",
       "      <td>★  Mongolia</td>\n",
       "      <td>298</td>\n",
       "      <td>91</td>\n",
       "      <td>0</td>\n",
       "      <td>0%</td>\n",
       "      <td>1</td>\n",
       "      <td>Unknown</td>\n",
       "      <td>Unknown</td>\n",
       "      <td>0</td>\n",
       "      <td>0%</td>\n",
       "      <td>48218</td>\n",
       "      <td>Unknown</td>\n",
       "      <td>288</td>\n",
       "      <td>88</td>\n",
       "      <td>3285654</td>\n",
       "    </tr>\n",
       "    <tr>\n",
       "      <th>...</th>\n",
       "      <td>...</td>\n",
       "      <td>...</td>\n",
       "      <td>...</td>\n",
       "      <td>...</td>\n",
       "      <td>...</td>\n",
       "      <td>...</td>\n",
       "      <td>...</td>\n",
       "      <td>...</td>\n",
       "      <td>...</td>\n",
       "      <td>...</td>\n",
       "      <td>...</td>\n",
       "      <td>...</td>\n",
       "      <td>...</td>\n",
       "      <td>...</td>\n",
       "      <td>...</td>\n",
       "    </tr>\n",
       "    <tr>\n",
       "      <th>209</th>\n",
       "      <td>★  Montserrat</td>\n",
       "      <td>13</td>\n",
       "      <td>0</td>\n",
       "      <td>0</td>\n",
       "      <td>0%</td>\n",
       "      <td>Unknown</td>\n",
       "      <td>1</td>\n",
       "      <td>0</td>\n",
       "      <td>0</td>\n",
       "      <td>0%</td>\n",
       "      <td>61</td>\n",
       "      <td>0</td>\n",
       "      <td>12</td>\n",
       "      <td>0</td>\n",
       "      <td>4992</td>\n",
       "    </tr>\n",
       "    <tr>\n",
       "      <th>201</th>\n",
       "      <td>★  Cayman Islands</td>\n",
       "      <td>205</td>\n",
       "      <td>0</td>\n",
       "      <td>0</td>\n",
       "      <td>0%</td>\n",
       "      <td>Unknown</td>\n",
       "      <td>1</td>\n",
       "      <td>0</td>\n",
       "      <td>0</td>\n",
       "      <td>0%</td>\n",
       "      <td>34208</td>\n",
       "      <td>2</td>\n",
       "      <td>202</td>\n",
       "      <td>0</td>\n",
       "      <td>65831</td>\n",
       "    </tr>\n",
       "    <tr>\n",
       "      <th>56</th>\n",
       "      <td>★  Fiji</td>\n",
       "      <td>28</td>\n",
       "      <td>0</td>\n",
       "      <td>0</td>\n",
       "      <td>0%</td>\n",
       "      <td>Unknown</td>\n",
       "      <td>1</td>\n",
       "      <td>1</td>\n",
       "      <td>0</td>\n",
       "      <td>0%</td>\n",
       "      <td>6693</td>\n",
       "      <td>4</td>\n",
       "      <td>23</td>\n",
       "      <td>0</td>\n",
       "      <td>897378</td>\n",
       "    </tr>\n",
       "    <tr>\n",
       "      <th>165</th>\n",
       "      <td>★  Western Sahara</td>\n",
       "      <td>10</td>\n",
       "      <td>0</td>\n",
       "      <td>0</td>\n",
       "      <td>0%</td>\n",
       "      <td>Unknown</td>\n",
       "      <td>1</td>\n",
       "      <td>0</td>\n",
       "      <td>0</td>\n",
       "      <td>0%</td>\n",
       "      <td>Unknown</td>\n",
       "      <td>Unknown</td>\n",
       "      <td>8</td>\n",
       "      <td>0</td>\n",
       "      <td>599326</td>\n",
       "    </tr>\n",
       "    <tr>\n",
       "      <th>93</th>\n",
       "      <td>★  Liechtenstein</td>\n",
       "      <td>99</td>\n",
       "      <td>0</td>\n",
       "      <td>0</td>\n",
       "      <td>0%</td>\n",
       "      <td>Unknown</td>\n",
       "      <td>1</td>\n",
       "      <td>0</td>\n",
       "      <td>0</td>\n",
       "      <td>0%</td>\n",
       "      <td>900</td>\n",
       "      <td>10</td>\n",
       "      <td>88</td>\n",
       "      <td>0</td>\n",
       "      <td>38144</td>\n",
       "    </tr>\n",
       "  </tbody>\n",
       "</table>\n",
       "<p>215 rows × 15 columns</p>\n",
       "</div>"
      ],
      "text/plain": [
       "                  Name  Confirmed Per Million  Changes Today  \\\n",
       "213        ★  Anguilla          3           0              0   \n",
       "153     ★  Timor-Leste         26          20              0   \n",
       "194   ★  Faroe Islands        384           0              0   \n",
       "52          ★  Eritrea        306          86              0   \n",
       "106        ★  Mongolia        298          91              0   \n",
       "..                 ...        ...         ...            ...   \n",
       "209      ★  Montserrat         13           0              0   \n",
       "201  ★  Cayman Islands        205           0              0   \n",
       "56             ★  Fiji         28           0              0   \n",
       "165  ★  Western Sahara         10           0              0   \n",
       "93    ★  Liechtenstein         99           0              0   \n",
       "\n",
       "    Percentage Day Change Critical Deceased Per Million.1  Changes Today.1  \\\n",
       "213                    0%  Unknown  Unknown       Unknown                0   \n",
       "153                    0%  Unknown  Unknown       Unknown                0   \n",
       "194                    0%        4  Unknown       Unknown                0   \n",
       "52                     0%  Unknown  Unknown       Unknown                0   \n",
       "106                    0%        1  Unknown       Unknown                0   \n",
       "..                    ...      ...      ...           ...              ...   \n",
       "209                    0%  Unknown        1             0                0   \n",
       "201                    0%  Unknown        1             0                0   \n",
       "56                     0%  Unknown        1             1                0   \n",
       "165                    0%  Unknown        1             0                0   \n",
       "93                     0%  Unknown        1             0                0   \n",
       "\n",
       "    Percentage Death Change    Tests   Active Recovered Per Million.2  \\\n",
       "213                      0%      662  Unknown         3             0   \n",
       "153                      0%     5146  Unknown        25            19   \n",
       "194                      0%    81991  Unknown       300             0   \n",
       "52                       0%  Unknown  Unknown       274            77   \n",
       "106                      0%    48218  Unknown       288            88   \n",
       "..                      ...      ...      ...       ...           ...   \n",
       "209                      0%       61        0        12             0   \n",
       "201                      0%    34208        2       202             0   \n",
       "56                       0%     6693        4        23             0   \n",
       "165                      0%  Unknown  Unknown         8             0   \n",
       "93                       0%      900       10        88             0   \n",
       "\n",
       "    Population  \n",
       "213      15022  \n",
       "153    1321912  \n",
       "194      48890  \n",
       "52     3553321  \n",
       "106    3285654  \n",
       "..         ...  \n",
       "209       4992  \n",
       "201      65831  \n",
       "56      897378  \n",
       "165     599326  \n",
       "93       38144  \n",
       "\n",
       "[215 rows x 15 columns]"
      ]
     },
     "execution_count": 61,
     "metadata": {},
     "output_type": "execute_result"
    }
   ],
   "source": [
    "# lets grab the world_df based on deceased column.\n",
    "world_df.sort_values('Deceased',ascending = False)"
   ]
  },
  {
   "cell_type": "markdown",
   "metadata": {},
   "source": [
    " - The column contains many unknown values.\n",
    " - We'll replace all the unknown values with zero.\n",
    " - Then we will arrange the column in descending order for visualization purpose."
   ]
  },
  {
   "cell_type": "code",
   "execution_count": 62,
   "metadata": {},
   "outputs": [
    {
     "data": {
      "text/plain": [
       "0      811436\n",
       "169    180555\n",
       "170    114744\n",
       "171     57692\n",
       "172     16383\n",
       "        ...  \n",
       "211         0\n",
       "70          0\n",
       "165         1\n",
       "212         0\n",
       "213         0\n",
       "Name: Deceased, Length: 215, dtype: int64"
      ]
     },
     "execution_count": 62,
     "metadata": {},
     "output_type": "execute_result"
    }
   ],
   "source": [
    "# lets replace unknown values to 0.\n",
    "\n",
    "world_df['Deceased'].replace(\"Unknown\", 0,inplace=True)\n",
    "world_df['Deceased'] = pd.to_numeric(world_df['Deceased'])          #convert column from type object to int64\n",
    "world_df['Deceased']"
   ]
  },
  {
   "cell_type": "code",
   "execution_count": 63,
   "metadata": {},
   "outputs": [
    {
     "data": {
      "text/html": [
       "<div>\n",
       "<style scoped>\n",
       "    .dataframe tbody tr th:only-of-type {\n",
       "        vertical-align: middle;\n",
       "    }\n",
       "\n",
       "    .dataframe tbody tr th {\n",
       "        vertical-align: top;\n",
       "    }\n",
       "\n",
       "    .dataframe thead th {\n",
       "        text-align: right;\n",
       "    }\n",
       "</style>\n",
       "<table border=\"1\" class=\"dataframe\">\n",
       "  <thead>\n",
       "    <tr style=\"text-align: right;\">\n",
       "      <th></th>\n",
       "      <th>Name</th>\n",
       "      <th>Confirmed</th>\n",
       "      <th>Per Million</th>\n",
       "      <th>Changes Today</th>\n",
       "      <th>Percentage Day Change</th>\n",
       "      <th>Critical</th>\n",
       "      <th>Deceased</th>\n",
       "      <th>Per Million.1</th>\n",
       "      <th>Changes Today.1</th>\n",
       "      <th>Percentage Death Change</th>\n",
       "      <th>Tests</th>\n",
       "      <th>Active</th>\n",
       "      <th>Recovered</th>\n",
       "      <th>Per Million.2</th>\n",
       "      <th>Population</th>\n",
       "    </tr>\n",
       "  </thead>\n",
       "  <tbody>\n",
       "    <tr>\n",
       "      <th>0</th>\n",
       "      <td>TOTAL</td>\n",
       "      <td>23545594</td>\n",
       "      <td>3031</td>\n",
       "      <td>174454</td>\n",
       "      <td>0.75%</td>\n",
       "      <td>61662</td>\n",
       "      <td>811436</td>\n",
       "      <td>104</td>\n",
       "      <td>3490</td>\n",
       "      <td>0.43%</td>\n",
       "      <td>412673730</td>\n",
       "      <td>6750102</td>\n",
       "      <td>15833462</td>\n",
       "      <td>2038</td>\n",
       "      <td>7769081067</td>\n",
       "    </tr>\n",
       "    <tr>\n",
       "      <th>169</th>\n",
       "      <td>★  United States</td>\n",
       "      <td>5869551</td>\n",
       "      <td>17718</td>\n",
       "      <td>28123</td>\n",
       "      <td>0.48%</td>\n",
       "      <td>16729</td>\n",
       "      <td>180555</td>\n",
       "      <td>545</td>\n",
       "      <td>381</td>\n",
       "      <td>0.21%</td>\n",
       "      <td>76088768</td>\n",
       "      <td>2528495</td>\n",
       "      <td>3160501</td>\n",
       "      <td>9540</td>\n",
       "      <td>331282824</td>\n",
       "    </tr>\n",
       "    <tr>\n",
       "      <th>170</th>\n",
       "      <td>★  Brazil</td>\n",
       "      <td>3605783</td>\n",
       "      <td>16946</td>\n",
       "      <td>23085</td>\n",
       "      <td>0.64%</td>\n",
       "      <td>8318</td>\n",
       "      <td>114744</td>\n",
       "      <td>539</td>\n",
       "      <td>467</td>\n",
       "      <td>0.41%</td>\n",
       "      <td>14144344</td>\n",
       "      <td>781401</td>\n",
       "      <td>2709638</td>\n",
       "      <td>12735</td>\n",
       "      <td>212776644</td>\n",
       "    </tr>\n",
       "    <tr>\n",
       "      <th>174</th>\n",
       "      <td>★  Mexico</td>\n",
       "      <td>556216</td>\n",
       "      <td>4308</td>\n",
       "      <td>6482</td>\n",
       "      <td>1.18%</td>\n",
       "      <td>3450</td>\n",
       "      <td>60254</td>\n",
       "      <td>467</td>\n",
       "      <td>644</td>\n",
       "      <td>1.08%</td>\n",
       "      <td>1253432</td>\n",
       "      <td>115470</td>\n",
       "      <td>380492</td>\n",
       "      <td>2947</td>\n",
       "      <td>129125341</td>\n",
       "    </tr>\n",
       "    <tr>\n",
       "      <th>171</th>\n",
       "      <td>★  India</td>\n",
       "      <td>3105185</td>\n",
       "      <td>2247</td>\n",
       "      <td>61749</td>\n",
       "      <td>2.03%</td>\n",
       "      <td>8944</td>\n",
       "      <td>57692</td>\n",
       "      <td>42</td>\n",
       "      <td>846</td>\n",
       "      <td>1.49%</td>\n",
       "      <td>35292220</td>\n",
       "      <td>710697</td>\n",
       "      <td>2336796</td>\n",
       "      <td>1691</td>\n",
       "      <td>1381937641</td>\n",
       "    </tr>\n",
       "    <tr>\n",
       "      <th>...</th>\n",
       "      <td>...</td>\n",
       "      <td>...</td>\n",
       "      <td>...</td>\n",
       "      <td>...</td>\n",
       "      <td>...</td>\n",
       "      <td>...</td>\n",
       "      <td>...</td>\n",
       "      <td>...</td>\n",
       "      <td>...</td>\n",
       "      <td>...</td>\n",
       "      <td>...</td>\n",
       "      <td>...</td>\n",
       "      <td>...</td>\n",
       "      <td>...</td>\n",
       "      <td>...</td>\n",
       "    </tr>\n",
       "    <tr>\n",
       "      <th>199</th>\n",
       "      <td>★  French Polynesia</td>\n",
       "      <td>298</td>\n",
       "      <td>0</td>\n",
       "      <td>0</td>\n",
       "      <td>0%</td>\n",
       "      <td>2</td>\n",
       "      <td>0</td>\n",
       "      <td>Unknown</td>\n",
       "      <td>0</td>\n",
       "      <td>0%</td>\n",
       "      <td>9912</td>\n",
       "      <td>Unknown</td>\n",
       "      <td>148</td>\n",
       "      <td>0</td>\n",
       "      <td>281142</td>\n",
       "    </tr>\n",
       "    <tr>\n",
       "      <th>106</th>\n",
       "      <td>★  Mongolia</td>\n",
       "      <td>298</td>\n",
       "      <td>91</td>\n",
       "      <td>0</td>\n",
       "      <td>0%</td>\n",
       "      <td>1</td>\n",
       "      <td>0</td>\n",
       "      <td>Unknown</td>\n",
       "      <td>0</td>\n",
       "      <td>0%</td>\n",
       "      <td>48218</td>\n",
       "      <td>Unknown</td>\n",
       "      <td>288</td>\n",
       "      <td>88</td>\n",
       "      <td>3285654</td>\n",
       "    </tr>\n",
       "    <tr>\n",
       "      <th>52</th>\n",
       "      <td>★  Eritrea</td>\n",
       "      <td>306</td>\n",
       "      <td>86</td>\n",
       "      <td>0</td>\n",
       "      <td>0%</td>\n",
       "      <td>Unknown</td>\n",
       "      <td>0</td>\n",
       "      <td>Unknown</td>\n",
       "      <td>0</td>\n",
       "      <td>0%</td>\n",
       "      <td>Unknown</td>\n",
       "      <td>Unknown</td>\n",
       "      <td>274</td>\n",
       "      <td>77</td>\n",
       "      <td>3553321</td>\n",
       "    </tr>\n",
       "    <tr>\n",
       "      <th>194</th>\n",
       "      <td>★  Faroe Islands</td>\n",
       "      <td>384</td>\n",
       "      <td>0</td>\n",
       "      <td>0</td>\n",
       "      <td>0%</td>\n",
       "      <td>4</td>\n",
       "      <td>0</td>\n",
       "      <td>Unknown</td>\n",
       "      <td>0</td>\n",
       "      <td>0%</td>\n",
       "      <td>81991</td>\n",
       "      <td>Unknown</td>\n",
       "      <td>300</td>\n",
       "      <td>0</td>\n",
       "      <td>48890</td>\n",
       "    </tr>\n",
       "    <tr>\n",
       "      <th>213</th>\n",
       "      <td>★  Anguilla</td>\n",
       "      <td>3</td>\n",
       "      <td>0</td>\n",
       "      <td>0</td>\n",
       "      <td>0%</td>\n",
       "      <td>Unknown</td>\n",
       "      <td>0</td>\n",
       "      <td>Unknown</td>\n",
       "      <td>0</td>\n",
       "      <td>0%</td>\n",
       "      <td>662</td>\n",
       "      <td>Unknown</td>\n",
       "      <td>3</td>\n",
       "      <td>0</td>\n",
       "      <td>15022</td>\n",
       "    </tr>\n",
       "  </tbody>\n",
       "</table>\n",
       "<p>215 rows × 15 columns</p>\n",
       "</div>"
      ],
      "text/plain": [
       "                    Name  Confirmed Per Million  Changes Today  \\\n",
       "0                  TOTAL   23545594        3031         174454   \n",
       "169     ★  United States    5869551       17718          28123   \n",
       "170            ★  Brazil    3605783       16946          23085   \n",
       "174            ★  Mexico     556216        4308           6482   \n",
       "171             ★  India    3105185        2247          61749   \n",
       "..                   ...        ...         ...            ...   \n",
       "199  ★  French Polynesia        298           0              0   \n",
       "106          ★  Mongolia        298          91              0   \n",
       "52            ★  Eritrea        306          86              0   \n",
       "194     ★  Faroe Islands        384           0              0   \n",
       "213          ★  Anguilla          3           0              0   \n",
       "\n",
       "    Percentage Day Change Critical  Deceased Per Million.1  Changes Today.1  \\\n",
       "0                   0.75%    61662    811436           104             3490   \n",
       "169                 0.48%    16729    180555           545              381   \n",
       "170                 0.64%     8318    114744           539              467   \n",
       "174                 1.18%     3450     60254           467              644   \n",
       "171                 2.03%     8944     57692            42              846   \n",
       "..                    ...      ...       ...           ...              ...   \n",
       "199                    0%        2         0       Unknown                0   \n",
       "106                    0%        1         0       Unknown                0   \n",
       "52                     0%  Unknown         0       Unknown                0   \n",
       "194                    0%        4         0       Unknown                0   \n",
       "213                    0%  Unknown         0       Unknown                0   \n",
       "\n",
       "    Percentage Death Change      Tests   Active Recovered Per Million.2  \\\n",
       "0                     0.43%  412673730  6750102  15833462          2038   \n",
       "169                   0.21%   76088768  2528495   3160501          9540   \n",
       "170                   0.41%   14144344   781401   2709638         12735   \n",
       "174                   1.08%    1253432   115470    380492          2947   \n",
       "171                   1.49%   35292220   710697   2336796          1691   \n",
       "..                      ...        ...      ...       ...           ...   \n",
       "199                      0%       9912  Unknown       148             0   \n",
       "106                      0%      48218  Unknown       288            88   \n",
       "52                       0%    Unknown  Unknown       274            77   \n",
       "194                      0%      81991  Unknown       300             0   \n",
       "213                      0%        662  Unknown         3             0   \n",
       "\n",
       "     Population  \n",
       "0    7769081067  \n",
       "169   331282824  \n",
       "170   212776644  \n",
       "174   129125341  \n",
       "171  1381937641  \n",
       "..          ...  \n",
       "199      281142  \n",
       "106     3285654  \n",
       "52      3553321  \n",
       "194       48890  \n",
       "213       15022  \n",
       "\n",
       "[215 rows x 15 columns]"
      ]
     },
     "execution_count": 63,
     "metadata": {},
     "output_type": "execute_result"
    }
   ],
   "source": [
    "# now again lets grab world_df based on deceased column.\n",
    "\n",
    "world_df.sort_values('Deceased',ascending = False)"
   ]
  },
  {
   "cell_type": "markdown",
   "metadata": {},
   "source": [
    " - Perfecto!. Now we can see that column has been cleared off all the \"Unknown\"."
   ]
  },
  {
   "cell_type": "code",
   "execution_count": 64,
   "metadata": {},
   "outputs": [
    {
     "data": {
      "application/vnd.plotly.v1+json": {
       "config": {
        "plotlyServerURL": "https://plot.ly"
       },
       "data": [
        {
         "alignmentgroup": "True",
         "hovertemplate": "Name=%{x}<br>Deceased=%{y}<extra></extra>",
         "legendgroup": "",
         "marker": {
          "color": "#636efa"
         },
         "name": "",
         "offsetgroup": "",
         "orientation": "v",
         "showlegend": false,
         "textposition": "auto",
         "type": "bar",
         "x": [
          "TOTAL",
          "★  United States",
          "★  Brazil",
          "★  Mexico",
          "★  India",
          "★  United Kingdom",
          "★  Italy",
          "★  France",
          "★  Spain",
          "★  Peru",
          "★  Iran",
          "★  Colombia",
          "★  Russia",
          "★  South Africa",
          "★  Chile",
          "★  Belgium",
          "★  Germany",
          "★  Canada",
          "★  Argentina",
          "★  Indonesia"
         ],
         "xaxis": "x",
         "y": [
          811436,
          180555,
          114744,
          60254,
          57692,
          41429,
          35437,
          30513,
          28838,
          27453,
          20643,
          16968,
          16383,
          13059,
          10852,
          9988,
          9332,
          9116,
          6947,
          6680
         ],
         "yaxis": "y"
        }
       ],
       "layout": {
        "barmode": "relative",
        "legend": {
         "tracegroupgap": 0
        },
        "margin": {
         "t": 60
        },
        "template": {
         "data": {
          "bar": [
           {
            "error_x": {
             "color": "#2a3f5f"
            },
            "error_y": {
             "color": "#2a3f5f"
            },
            "marker": {
             "line": {
              "color": "#E5ECF6",
              "width": 0.5
             }
            },
            "type": "bar"
           }
          ],
          "barpolar": [
           {
            "marker": {
             "line": {
              "color": "#E5ECF6",
              "width": 0.5
             }
            },
            "type": "barpolar"
           }
          ],
          "carpet": [
           {
            "aaxis": {
             "endlinecolor": "#2a3f5f",
             "gridcolor": "white",
             "linecolor": "white",
             "minorgridcolor": "white",
             "startlinecolor": "#2a3f5f"
            },
            "baxis": {
             "endlinecolor": "#2a3f5f",
             "gridcolor": "white",
             "linecolor": "white",
             "minorgridcolor": "white",
             "startlinecolor": "#2a3f5f"
            },
            "type": "carpet"
           }
          ],
          "choropleth": [
           {
            "colorbar": {
             "outlinewidth": 0,
             "ticks": ""
            },
            "type": "choropleth"
           }
          ],
          "contour": [
           {
            "colorbar": {
             "outlinewidth": 0,
             "ticks": ""
            },
            "colorscale": [
             [
              0,
              "#0d0887"
             ],
             [
              0.1111111111111111,
              "#46039f"
             ],
             [
              0.2222222222222222,
              "#7201a8"
             ],
             [
              0.3333333333333333,
              "#9c179e"
             ],
             [
              0.4444444444444444,
              "#bd3786"
             ],
             [
              0.5555555555555556,
              "#d8576b"
             ],
             [
              0.6666666666666666,
              "#ed7953"
             ],
             [
              0.7777777777777778,
              "#fb9f3a"
             ],
             [
              0.8888888888888888,
              "#fdca26"
             ],
             [
              1,
              "#f0f921"
             ]
            ],
            "type": "contour"
           }
          ],
          "contourcarpet": [
           {
            "colorbar": {
             "outlinewidth": 0,
             "ticks": ""
            },
            "type": "contourcarpet"
           }
          ],
          "heatmap": [
           {
            "colorbar": {
             "outlinewidth": 0,
             "ticks": ""
            },
            "colorscale": [
             [
              0,
              "#0d0887"
             ],
             [
              0.1111111111111111,
              "#46039f"
             ],
             [
              0.2222222222222222,
              "#7201a8"
             ],
             [
              0.3333333333333333,
              "#9c179e"
             ],
             [
              0.4444444444444444,
              "#bd3786"
             ],
             [
              0.5555555555555556,
              "#d8576b"
             ],
             [
              0.6666666666666666,
              "#ed7953"
             ],
             [
              0.7777777777777778,
              "#fb9f3a"
             ],
             [
              0.8888888888888888,
              "#fdca26"
             ],
             [
              1,
              "#f0f921"
             ]
            ],
            "type": "heatmap"
           }
          ],
          "heatmapgl": [
           {
            "colorbar": {
             "outlinewidth": 0,
             "ticks": ""
            },
            "colorscale": [
             [
              0,
              "#0d0887"
             ],
             [
              0.1111111111111111,
              "#46039f"
             ],
             [
              0.2222222222222222,
              "#7201a8"
             ],
             [
              0.3333333333333333,
              "#9c179e"
             ],
             [
              0.4444444444444444,
              "#bd3786"
             ],
             [
              0.5555555555555556,
              "#d8576b"
             ],
             [
              0.6666666666666666,
              "#ed7953"
             ],
             [
              0.7777777777777778,
              "#fb9f3a"
             ],
             [
              0.8888888888888888,
              "#fdca26"
             ],
             [
              1,
              "#f0f921"
             ]
            ],
            "type": "heatmapgl"
           }
          ],
          "histogram": [
           {
            "marker": {
             "colorbar": {
              "outlinewidth": 0,
              "ticks": ""
             }
            },
            "type": "histogram"
           }
          ],
          "histogram2d": [
           {
            "colorbar": {
             "outlinewidth": 0,
             "ticks": ""
            },
            "colorscale": [
             [
              0,
              "#0d0887"
             ],
             [
              0.1111111111111111,
              "#46039f"
             ],
             [
              0.2222222222222222,
              "#7201a8"
             ],
             [
              0.3333333333333333,
              "#9c179e"
             ],
             [
              0.4444444444444444,
              "#bd3786"
             ],
             [
              0.5555555555555556,
              "#d8576b"
             ],
             [
              0.6666666666666666,
              "#ed7953"
             ],
             [
              0.7777777777777778,
              "#fb9f3a"
             ],
             [
              0.8888888888888888,
              "#fdca26"
             ],
             [
              1,
              "#f0f921"
             ]
            ],
            "type": "histogram2d"
           }
          ],
          "histogram2dcontour": [
           {
            "colorbar": {
             "outlinewidth": 0,
             "ticks": ""
            },
            "colorscale": [
             [
              0,
              "#0d0887"
             ],
             [
              0.1111111111111111,
              "#46039f"
             ],
             [
              0.2222222222222222,
              "#7201a8"
             ],
             [
              0.3333333333333333,
              "#9c179e"
             ],
             [
              0.4444444444444444,
              "#bd3786"
             ],
             [
              0.5555555555555556,
              "#d8576b"
             ],
             [
              0.6666666666666666,
              "#ed7953"
             ],
             [
              0.7777777777777778,
              "#fb9f3a"
             ],
             [
              0.8888888888888888,
              "#fdca26"
             ],
             [
              1,
              "#f0f921"
             ]
            ],
            "type": "histogram2dcontour"
           }
          ],
          "mesh3d": [
           {
            "colorbar": {
             "outlinewidth": 0,
             "ticks": ""
            },
            "type": "mesh3d"
           }
          ],
          "parcoords": [
           {
            "line": {
             "colorbar": {
              "outlinewidth": 0,
              "ticks": ""
             }
            },
            "type": "parcoords"
           }
          ],
          "pie": [
           {
            "automargin": true,
            "type": "pie"
           }
          ],
          "scatter": [
           {
            "marker": {
             "colorbar": {
              "outlinewidth": 0,
              "ticks": ""
             }
            },
            "type": "scatter"
           }
          ],
          "scatter3d": [
           {
            "line": {
             "colorbar": {
              "outlinewidth": 0,
              "ticks": ""
             }
            },
            "marker": {
             "colorbar": {
              "outlinewidth": 0,
              "ticks": ""
             }
            },
            "type": "scatter3d"
           }
          ],
          "scattercarpet": [
           {
            "marker": {
             "colorbar": {
              "outlinewidth": 0,
              "ticks": ""
             }
            },
            "type": "scattercarpet"
           }
          ],
          "scattergeo": [
           {
            "marker": {
             "colorbar": {
              "outlinewidth": 0,
              "ticks": ""
             }
            },
            "type": "scattergeo"
           }
          ],
          "scattergl": [
           {
            "marker": {
             "colorbar": {
              "outlinewidth": 0,
              "ticks": ""
             }
            },
            "type": "scattergl"
           }
          ],
          "scattermapbox": [
           {
            "marker": {
             "colorbar": {
              "outlinewidth": 0,
              "ticks": ""
             }
            },
            "type": "scattermapbox"
           }
          ],
          "scatterpolar": [
           {
            "marker": {
             "colorbar": {
              "outlinewidth": 0,
              "ticks": ""
             }
            },
            "type": "scatterpolar"
           }
          ],
          "scatterpolargl": [
           {
            "marker": {
             "colorbar": {
              "outlinewidth": 0,
              "ticks": ""
             }
            },
            "type": "scatterpolargl"
           }
          ],
          "scatterternary": [
           {
            "marker": {
             "colorbar": {
              "outlinewidth": 0,
              "ticks": ""
             }
            },
            "type": "scatterternary"
           }
          ],
          "surface": [
           {
            "colorbar": {
             "outlinewidth": 0,
             "ticks": ""
            },
            "colorscale": [
             [
              0,
              "#0d0887"
             ],
             [
              0.1111111111111111,
              "#46039f"
             ],
             [
              0.2222222222222222,
              "#7201a8"
             ],
             [
              0.3333333333333333,
              "#9c179e"
             ],
             [
              0.4444444444444444,
              "#bd3786"
             ],
             [
              0.5555555555555556,
              "#d8576b"
             ],
             [
              0.6666666666666666,
              "#ed7953"
             ],
             [
              0.7777777777777778,
              "#fb9f3a"
             ],
             [
              0.8888888888888888,
              "#fdca26"
             ],
             [
              1,
              "#f0f921"
             ]
            ],
            "type": "surface"
           }
          ],
          "table": [
           {
            "cells": {
             "fill": {
              "color": "#EBF0F8"
             },
             "line": {
              "color": "white"
             }
            },
            "header": {
             "fill": {
              "color": "#C8D4E3"
             },
             "line": {
              "color": "white"
             }
            },
            "type": "table"
           }
          ]
         },
         "layout": {
          "annotationdefaults": {
           "arrowcolor": "#2a3f5f",
           "arrowhead": 0,
           "arrowwidth": 1
          },
          "coloraxis": {
           "colorbar": {
            "outlinewidth": 0,
            "ticks": ""
           }
          },
          "colorscale": {
           "diverging": [
            [
             0,
             "#8e0152"
            ],
            [
             0.1,
             "#c51b7d"
            ],
            [
             0.2,
             "#de77ae"
            ],
            [
             0.3,
             "#f1b6da"
            ],
            [
             0.4,
             "#fde0ef"
            ],
            [
             0.5,
             "#f7f7f7"
            ],
            [
             0.6,
             "#e6f5d0"
            ],
            [
             0.7,
             "#b8e186"
            ],
            [
             0.8,
             "#7fbc41"
            ],
            [
             0.9,
             "#4d9221"
            ],
            [
             1,
             "#276419"
            ]
           ],
           "sequential": [
            [
             0,
             "#0d0887"
            ],
            [
             0.1111111111111111,
             "#46039f"
            ],
            [
             0.2222222222222222,
             "#7201a8"
            ],
            [
             0.3333333333333333,
             "#9c179e"
            ],
            [
             0.4444444444444444,
             "#bd3786"
            ],
            [
             0.5555555555555556,
             "#d8576b"
            ],
            [
             0.6666666666666666,
             "#ed7953"
            ],
            [
             0.7777777777777778,
             "#fb9f3a"
            ],
            [
             0.8888888888888888,
             "#fdca26"
            ],
            [
             1,
             "#f0f921"
            ]
           ],
           "sequentialminus": [
            [
             0,
             "#0d0887"
            ],
            [
             0.1111111111111111,
             "#46039f"
            ],
            [
             0.2222222222222222,
             "#7201a8"
            ],
            [
             0.3333333333333333,
             "#9c179e"
            ],
            [
             0.4444444444444444,
             "#bd3786"
            ],
            [
             0.5555555555555556,
             "#d8576b"
            ],
            [
             0.6666666666666666,
             "#ed7953"
            ],
            [
             0.7777777777777778,
             "#fb9f3a"
            ],
            [
             0.8888888888888888,
             "#fdca26"
            ],
            [
             1,
             "#f0f921"
            ]
           ]
          },
          "colorway": [
           "#636efa",
           "#EF553B",
           "#00cc96",
           "#ab63fa",
           "#FFA15A",
           "#19d3f3",
           "#FF6692",
           "#B6E880",
           "#FF97FF",
           "#FECB52"
          ],
          "font": {
           "color": "#2a3f5f"
          },
          "geo": {
           "bgcolor": "white",
           "lakecolor": "white",
           "landcolor": "#E5ECF6",
           "showlakes": true,
           "showland": true,
           "subunitcolor": "white"
          },
          "hoverlabel": {
           "align": "left"
          },
          "hovermode": "closest",
          "mapbox": {
           "style": "light"
          },
          "paper_bgcolor": "white",
          "plot_bgcolor": "#E5ECF6",
          "polar": {
           "angularaxis": {
            "gridcolor": "white",
            "linecolor": "white",
            "ticks": ""
           },
           "bgcolor": "#E5ECF6",
           "radialaxis": {
            "gridcolor": "white",
            "linecolor": "white",
            "ticks": ""
           }
          },
          "scene": {
           "xaxis": {
            "backgroundcolor": "#E5ECF6",
            "gridcolor": "white",
            "gridwidth": 2,
            "linecolor": "white",
            "showbackground": true,
            "ticks": "",
            "zerolinecolor": "white"
           },
           "yaxis": {
            "backgroundcolor": "#E5ECF6",
            "gridcolor": "white",
            "gridwidth": 2,
            "linecolor": "white",
            "showbackground": true,
            "ticks": "",
            "zerolinecolor": "white"
           },
           "zaxis": {
            "backgroundcolor": "#E5ECF6",
            "gridcolor": "white",
            "gridwidth": 2,
            "linecolor": "white",
            "showbackground": true,
            "ticks": "",
            "zerolinecolor": "white"
           }
          },
          "shapedefaults": {
           "line": {
            "color": "#2a3f5f"
           }
          },
          "ternary": {
           "aaxis": {
            "gridcolor": "white",
            "linecolor": "white",
            "ticks": ""
           },
           "baxis": {
            "gridcolor": "white",
            "linecolor": "white",
            "ticks": ""
           },
           "bgcolor": "#E5ECF6",
           "caxis": {
            "gridcolor": "white",
            "linecolor": "white",
            "ticks": ""
           }
          },
          "title": {
           "x": 0.05
          },
          "xaxis": {
           "automargin": true,
           "gridcolor": "white",
           "linecolor": "white",
           "ticks": "",
           "title": {
            "standoff": 15
           },
           "zerolinecolor": "white",
           "zerolinewidth": 2
          },
          "yaxis": {
           "automargin": true,
           "gridcolor": "white",
           "linecolor": "white",
           "ticks": "",
           "title": {
            "standoff": 15
           },
           "zerolinecolor": "white",
           "zerolinewidth": 2
          }
         }
        },
        "xaxis": {
         "anchor": "y",
         "domain": [
          0,
          1
         ],
         "title": {
          "text": "Name"
         }
        },
        "yaxis": {
         "anchor": "x",
         "domain": [
          0,
          1
         ],
         "title": {
          "text": "Deceased"
         }
        }
       }
      },
      "text/html": [
       "<div>\n",
       "        \n",
       "        \n",
       "            <div id=\"e5314eb7-ed78-47da-9edd-a75765abaffb\" class=\"plotly-graph-div\" style=\"height:525px; width:100%;\"></div>\n",
       "            <script type=\"text/javascript\">\n",
       "                require([\"plotly\"], function(Plotly) {\n",
       "                    window.PLOTLYENV=window.PLOTLYENV || {};\n",
       "                    \n",
       "                if (document.getElementById(\"e5314eb7-ed78-47da-9edd-a75765abaffb\")) {\n",
       "                    Plotly.newPlot(\n",
       "                        'e5314eb7-ed78-47da-9edd-a75765abaffb',\n",
       "                        [{\"alignmentgroup\": \"True\", \"hovertemplate\": \"Name=%{x}<br>Deceased=%{y}<extra></extra>\", \"legendgroup\": \"\", \"marker\": {\"color\": \"#636efa\"}, \"name\": \"\", \"offsetgroup\": \"\", \"orientation\": \"v\", \"showlegend\": false, \"textposition\": \"auto\", \"type\": \"bar\", \"x\": [\"TOTAL\", \"\\u2605  United States\", \"\\u2605  Brazil\", \"\\u2605  Mexico\", \"\\u2605  India\", \"\\u2605  United Kingdom\", \"\\u2605  Italy\", \"\\u2605  France\", \"\\u2605  Spain\", \"\\u2605  Peru\", \"\\u2605  Iran\", \"\\u2605  Colombia\", \"\\u2605  Russia\", \"\\u2605  South Africa\", \"\\u2605  Chile\", \"\\u2605  Belgium\", \"\\u2605  Germany\", \"\\u2605  Canada\", \"\\u2605  Argentina\", \"\\u2605  Indonesia\"], \"xaxis\": \"x\", \"y\": [811436, 180555, 114744, 60254, 57692, 41429, 35437, 30513, 28838, 27453, 20643, 16968, 16383, 13059, 10852, 9988, 9332, 9116, 6947, 6680], \"yaxis\": \"y\"}],\n",
       "                        {\"barmode\": \"relative\", \"legend\": {\"tracegroupgap\": 0}, \"margin\": {\"t\": 60}, \"template\": {\"data\": {\"bar\": [{\"error_x\": {\"color\": \"#2a3f5f\"}, \"error_y\": {\"color\": \"#2a3f5f\"}, \"marker\": {\"line\": {\"color\": \"#E5ECF6\", \"width\": 0.5}}, \"type\": \"bar\"}], \"barpolar\": [{\"marker\": {\"line\": {\"color\": \"#E5ECF6\", \"width\": 0.5}}, \"type\": \"barpolar\"}], \"carpet\": [{\"aaxis\": {\"endlinecolor\": \"#2a3f5f\", \"gridcolor\": \"white\", \"linecolor\": \"white\", \"minorgridcolor\": \"white\", \"startlinecolor\": \"#2a3f5f\"}, \"baxis\": {\"endlinecolor\": \"#2a3f5f\", \"gridcolor\": \"white\", \"linecolor\": \"white\", \"minorgridcolor\": \"white\", \"startlinecolor\": \"#2a3f5f\"}, \"type\": \"carpet\"}], \"choropleth\": [{\"colorbar\": {\"outlinewidth\": 0, \"ticks\": \"\"}, \"type\": \"choropleth\"}], \"contour\": [{\"colorbar\": {\"outlinewidth\": 0, \"ticks\": \"\"}, \"colorscale\": [[0.0, \"#0d0887\"], [0.1111111111111111, \"#46039f\"], [0.2222222222222222, \"#7201a8\"], [0.3333333333333333, \"#9c179e\"], [0.4444444444444444, \"#bd3786\"], [0.5555555555555556, \"#d8576b\"], [0.6666666666666666, \"#ed7953\"], [0.7777777777777778, \"#fb9f3a\"], [0.8888888888888888, \"#fdca26\"], [1.0, \"#f0f921\"]], \"type\": \"contour\"}], \"contourcarpet\": [{\"colorbar\": {\"outlinewidth\": 0, \"ticks\": \"\"}, \"type\": \"contourcarpet\"}], \"heatmap\": [{\"colorbar\": {\"outlinewidth\": 0, \"ticks\": \"\"}, \"colorscale\": [[0.0, \"#0d0887\"], [0.1111111111111111, \"#46039f\"], [0.2222222222222222, \"#7201a8\"], [0.3333333333333333, \"#9c179e\"], [0.4444444444444444, \"#bd3786\"], [0.5555555555555556, \"#d8576b\"], [0.6666666666666666, \"#ed7953\"], [0.7777777777777778, \"#fb9f3a\"], [0.8888888888888888, \"#fdca26\"], [1.0, \"#f0f921\"]], \"type\": \"heatmap\"}], \"heatmapgl\": [{\"colorbar\": {\"outlinewidth\": 0, \"ticks\": \"\"}, \"colorscale\": [[0.0, \"#0d0887\"], [0.1111111111111111, \"#46039f\"], [0.2222222222222222, \"#7201a8\"], [0.3333333333333333, \"#9c179e\"], [0.4444444444444444, \"#bd3786\"], [0.5555555555555556, \"#d8576b\"], [0.6666666666666666, \"#ed7953\"], [0.7777777777777778, \"#fb9f3a\"], [0.8888888888888888, \"#fdca26\"], [1.0, \"#f0f921\"]], \"type\": \"heatmapgl\"}], \"histogram\": [{\"marker\": {\"colorbar\": {\"outlinewidth\": 0, \"ticks\": \"\"}}, \"type\": \"histogram\"}], \"histogram2d\": [{\"colorbar\": {\"outlinewidth\": 0, \"ticks\": \"\"}, \"colorscale\": [[0.0, \"#0d0887\"], [0.1111111111111111, \"#46039f\"], [0.2222222222222222, \"#7201a8\"], [0.3333333333333333, \"#9c179e\"], [0.4444444444444444, \"#bd3786\"], [0.5555555555555556, \"#d8576b\"], [0.6666666666666666, \"#ed7953\"], [0.7777777777777778, \"#fb9f3a\"], [0.8888888888888888, \"#fdca26\"], [1.0, \"#f0f921\"]], \"type\": \"histogram2d\"}], \"histogram2dcontour\": [{\"colorbar\": {\"outlinewidth\": 0, \"ticks\": \"\"}, \"colorscale\": [[0.0, \"#0d0887\"], [0.1111111111111111, \"#46039f\"], [0.2222222222222222, \"#7201a8\"], [0.3333333333333333, \"#9c179e\"], [0.4444444444444444, \"#bd3786\"], [0.5555555555555556, \"#d8576b\"], [0.6666666666666666, \"#ed7953\"], [0.7777777777777778, \"#fb9f3a\"], [0.8888888888888888, \"#fdca26\"], [1.0, \"#f0f921\"]], \"type\": \"histogram2dcontour\"}], \"mesh3d\": [{\"colorbar\": {\"outlinewidth\": 0, \"ticks\": \"\"}, \"type\": \"mesh3d\"}], \"parcoords\": [{\"line\": {\"colorbar\": {\"outlinewidth\": 0, \"ticks\": \"\"}}, \"type\": \"parcoords\"}], \"pie\": [{\"automargin\": true, \"type\": \"pie\"}], \"scatter\": [{\"marker\": {\"colorbar\": {\"outlinewidth\": 0, \"ticks\": \"\"}}, \"type\": \"scatter\"}], \"scatter3d\": [{\"line\": {\"colorbar\": {\"outlinewidth\": 0, \"ticks\": \"\"}}, \"marker\": {\"colorbar\": {\"outlinewidth\": 0, \"ticks\": \"\"}}, \"type\": \"scatter3d\"}], \"scattercarpet\": [{\"marker\": {\"colorbar\": {\"outlinewidth\": 0, \"ticks\": \"\"}}, \"type\": \"scattercarpet\"}], \"scattergeo\": [{\"marker\": {\"colorbar\": {\"outlinewidth\": 0, \"ticks\": \"\"}}, \"type\": \"scattergeo\"}], \"scattergl\": [{\"marker\": {\"colorbar\": {\"outlinewidth\": 0, \"ticks\": \"\"}}, \"type\": \"scattergl\"}], \"scattermapbox\": [{\"marker\": {\"colorbar\": {\"outlinewidth\": 0, \"ticks\": \"\"}}, \"type\": \"scattermapbox\"}], \"scatterpolar\": [{\"marker\": {\"colorbar\": {\"outlinewidth\": 0, \"ticks\": \"\"}}, \"type\": \"scatterpolar\"}], \"scatterpolargl\": [{\"marker\": {\"colorbar\": {\"outlinewidth\": 0, \"ticks\": \"\"}}, \"type\": \"scatterpolargl\"}], \"scatterternary\": [{\"marker\": {\"colorbar\": {\"outlinewidth\": 0, \"ticks\": \"\"}}, \"type\": \"scatterternary\"}], \"surface\": [{\"colorbar\": {\"outlinewidth\": 0, \"ticks\": \"\"}, \"colorscale\": [[0.0, \"#0d0887\"], [0.1111111111111111, \"#46039f\"], [0.2222222222222222, \"#7201a8\"], [0.3333333333333333, \"#9c179e\"], [0.4444444444444444, \"#bd3786\"], [0.5555555555555556, \"#d8576b\"], [0.6666666666666666, \"#ed7953\"], [0.7777777777777778, \"#fb9f3a\"], [0.8888888888888888, \"#fdca26\"], [1.0, \"#f0f921\"]], \"type\": \"surface\"}], \"table\": [{\"cells\": {\"fill\": {\"color\": \"#EBF0F8\"}, \"line\": {\"color\": \"white\"}}, \"header\": {\"fill\": {\"color\": \"#C8D4E3\"}, \"line\": {\"color\": \"white\"}}, \"type\": \"table\"}]}, \"layout\": {\"annotationdefaults\": {\"arrowcolor\": \"#2a3f5f\", \"arrowhead\": 0, \"arrowwidth\": 1}, \"coloraxis\": {\"colorbar\": {\"outlinewidth\": 0, \"ticks\": \"\"}}, \"colorscale\": {\"diverging\": [[0, \"#8e0152\"], [0.1, \"#c51b7d\"], [0.2, \"#de77ae\"], [0.3, \"#f1b6da\"], [0.4, \"#fde0ef\"], [0.5, \"#f7f7f7\"], [0.6, \"#e6f5d0\"], [0.7, \"#b8e186\"], [0.8, \"#7fbc41\"], [0.9, \"#4d9221\"], [1, \"#276419\"]], \"sequential\": [[0.0, \"#0d0887\"], [0.1111111111111111, \"#46039f\"], [0.2222222222222222, \"#7201a8\"], [0.3333333333333333, \"#9c179e\"], [0.4444444444444444, \"#bd3786\"], [0.5555555555555556, \"#d8576b\"], [0.6666666666666666, \"#ed7953\"], [0.7777777777777778, \"#fb9f3a\"], [0.8888888888888888, \"#fdca26\"], [1.0, \"#f0f921\"]], \"sequentialminus\": [[0.0, \"#0d0887\"], [0.1111111111111111, \"#46039f\"], [0.2222222222222222, \"#7201a8\"], [0.3333333333333333, \"#9c179e\"], [0.4444444444444444, \"#bd3786\"], [0.5555555555555556, \"#d8576b\"], [0.6666666666666666, \"#ed7953\"], [0.7777777777777778, \"#fb9f3a\"], [0.8888888888888888, \"#fdca26\"], [1.0, \"#f0f921\"]]}, \"colorway\": [\"#636efa\", \"#EF553B\", \"#00cc96\", \"#ab63fa\", \"#FFA15A\", \"#19d3f3\", \"#FF6692\", \"#B6E880\", \"#FF97FF\", \"#FECB52\"], \"font\": {\"color\": \"#2a3f5f\"}, \"geo\": {\"bgcolor\": \"white\", \"lakecolor\": \"white\", \"landcolor\": \"#E5ECF6\", \"showlakes\": true, \"showland\": true, \"subunitcolor\": \"white\"}, \"hoverlabel\": {\"align\": \"left\"}, \"hovermode\": \"closest\", \"mapbox\": {\"style\": \"light\"}, \"paper_bgcolor\": \"white\", \"plot_bgcolor\": \"#E5ECF6\", \"polar\": {\"angularaxis\": {\"gridcolor\": \"white\", \"linecolor\": \"white\", \"ticks\": \"\"}, \"bgcolor\": \"#E5ECF6\", \"radialaxis\": {\"gridcolor\": \"white\", \"linecolor\": \"white\", \"ticks\": \"\"}}, \"scene\": {\"xaxis\": {\"backgroundcolor\": \"#E5ECF6\", \"gridcolor\": \"white\", \"gridwidth\": 2, \"linecolor\": \"white\", \"showbackground\": true, \"ticks\": \"\", \"zerolinecolor\": \"white\"}, \"yaxis\": {\"backgroundcolor\": \"#E5ECF6\", \"gridcolor\": \"white\", \"gridwidth\": 2, \"linecolor\": \"white\", \"showbackground\": true, \"ticks\": \"\", \"zerolinecolor\": \"white\"}, \"zaxis\": {\"backgroundcolor\": \"#E5ECF6\", \"gridcolor\": \"white\", \"gridwidth\": 2, \"linecolor\": \"white\", \"showbackground\": true, \"ticks\": \"\", \"zerolinecolor\": \"white\"}}, \"shapedefaults\": {\"line\": {\"color\": \"#2a3f5f\"}}, \"ternary\": {\"aaxis\": {\"gridcolor\": \"white\", \"linecolor\": \"white\", \"ticks\": \"\"}, \"baxis\": {\"gridcolor\": \"white\", \"linecolor\": \"white\", \"ticks\": \"\"}, \"bgcolor\": \"#E5ECF6\", \"caxis\": {\"gridcolor\": \"white\", \"linecolor\": \"white\", \"ticks\": \"\"}}, \"title\": {\"x\": 0.05}, \"xaxis\": {\"automargin\": true, \"gridcolor\": \"white\", \"linecolor\": \"white\", \"ticks\": \"\", \"title\": {\"standoff\": 15}, \"zerolinecolor\": \"white\", \"zerolinewidth\": 2}, \"yaxis\": {\"automargin\": true, \"gridcolor\": \"white\", \"linecolor\": \"white\", \"ticks\": \"\", \"title\": {\"standoff\": 15}, \"zerolinecolor\": \"white\", \"zerolinewidth\": 2}}}, \"xaxis\": {\"anchor\": \"y\", \"domain\": [0.0, 1.0], \"title\": {\"text\": \"Name\"}}, \"yaxis\": {\"anchor\": \"x\", \"domain\": [0.0, 1.0], \"title\": {\"text\": \"Deceased\"}}},\n",
       "                        {\"responsive\": true}\n",
       "                    ).then(function(){\n",
       "                            \n",
       "var gd = document.getElementById('e5314eb7-ed78-47da-9edd-a75765abaffb');\n",
       "var x = new MutationObserver(function (mutations, observer) {{\n",
       "        var display = window.getComputedStyle(gd).display;\n",
       "        if (!display || display === 'none') {{\n",
       "            console.log([gd, 'removed!']);\n",
       "            Plotly.purge(gd);\n",
       "            observer.disconnect();\n",
       "        }}\n",
       "}});\n",
       "\n",
       "// Listen for the removal of the full notebook cells\n",
       "var notebookContainer = gd.closest('#notebook-container');\n",
       "if (notebookContainer) {{\n",
       "    x.observe(notebookContainer, {childList: true});\n",
       "}}\n",
       "\n",
       "// Listen for the clearing of the current output cell\n",
       "var outputEl = gd.closest('.output');\n",
       "if (outputEl) {{\n",
       "    x.observe(outputEl, {childList: true});\n",
       "}}\n",
       "\n",
       "                        })\n",
       "                };\n",
       "                });\n",
       "            </script>\n",
       "        </div>"
      ]
     },
     "metadata": {},
     "output_type": "display_data"
    }
   ],
   "source": [
    "# lets again try ro visualize world_df based on death poll for top 20 countries.\n",
    "\n",
    "world_fig = px.bar(world_df.sort_values('Deceased', ascending=False).head(20), x = 'Name' , y = 'Deceased')\n",
    "world_fig.show()\n"
   ]
  },
  {
   "cell_type": "markdown",
   "metadata": {},
   "source": [
    "#### Click on the link for more information.\n",
    "\n",
    " - United States tops the chart. <a href = \"https://www.sciencemag.org/news/2020/04/united-states-leads-coronavirus-cases-not-pandemic-response\" > If you want to know why United States leads in coronvirus cases, but not pandemic response</a>\n",
    " - Brazil also surpasses 100,000 deaths and becomes the one of the worst affected countries. <a href = \"https://www.ctvnews.ca/health/coronavirus/death-became-normal-brazil-surpasses-100-000-deaths-from-covid-19-1.5056757\" >'Death became normal': Brazil surpasses 100,000 deaths from COVID-19</a>\n",
    " - Mexico's death toll also reached 59.106k and many young people are dying of COVID-19 <a href = \"https://www.forbes.com/sites/nathanielparishflannery/2020/07/24/why-are-so-many-young-people-dying-of-covid-19-in-mexico-city/#148bc1f22792\">Why Are So Many Young People Dying Of Covid-19 In Mexico City?</a>\n",
    " - India has also reached 56k and there are many questions about India's rising COVID-19 infection <a href =\"https://www.bbc.com/news/world-asia-india-53018351\">Five key questions about India's rising Covid-19 infections</a>"
   ]
  },
  {
   "cell_type": "markdown",
   "metadata": {},
   "source": [
    "#### Lets visualize the death toll in relation to total confirmed case"
   ]
  },
  {
   "cell_type": "code",
   "execution_count": 65,
   "metadata": {},
   "outputs": [
    {
     "data": {
      "application/vnd.plotly.v1+json": {
       "config": {
        "plotlyServerURL": "https://plot.ly"
       },
       "data": [
        {
         "marker": {
          "color": "indianred"
         },
         "name": "Deceased",
         "type": "bar",
         "x": [
          "TOTAL",
          "★  United States",
          "★  Brazil",
          "★  India",
          "★  Russia",
          "★  South Africa",
          "★  Peru",
          "★  Mexico",
          "★  Colombia",
          "★  Chile",
          "★  Spain",
          "★  Iran",
          "★  Argentina",
          "★  United Kingdom",
          "★  Saudi Arabia",
          "★  Bangladesh",
          "★  Pakistan",
          "★  France",
          "★  Italy",
          "★  Turkey",
          "★  Germany",
          "★  Iraq",
          "★  Philippines",
          "★  Indonesia",
          "★  Canada",
          "★  Qatar",
          "★  Bolivia",
          "★  Ecuador",
          "★  Ukraine",
          "★  Kazakhstan",
          "★  Israel",
          "★  Egypt",
          "★  Dominican Republic",
          "★  Sweden",
          "★  Panama",
          "★  China",
          "★  Oman",
          "★  Belgium",
          "★  Kuwait",
          "★  Romania",
          "★  Belarus",
          "★  Guatemala",
          "★  United Arab Emirates",
          "★  Netherlands",
          "★  Poland",
          "★  Japan",
          "★  Singapore",
          "★  Portugal",
          "★  Honduras",
          "★  Morocco",
          "★  Nigeria",
          "★  Bahrain",
          "★  Ghana",
          "★  Kyrgyzstan",
          "★  Armenia",
          "★  Algeria",
          "★  Ethiopia",
          "★  Switzerland",
          "★  Venezuela",
          "★  Uzbekistan",
          "★  Afghanistan",
          "★  Azerbaijan",
          "★  Costa Rica",
          "★  Moldova",
          "★  Kenya",
          "★  Nepal",
          "★  Serbia",
          "★  Ireland",
          "★  Austria",
          "★  Australia",
          "★  El Salvador",
          "★  Czechia",
          "★  Palestine",
          "★  Cameroon",
          "★  Bosnia and Herzegovina",
          "★  Ivory Coast",
          "★  South Korea",
          "★  Denmark",
          "★  Bulgaria",
          "★  Madagascar",
          "★  North Macedonia",
          "★  Paraguay",
          "★  Senegal",
          "★  Sudan",
          "★  Lebanon",
          "★  Kosovo",
          "★  Zambia",
          "★  Libya",
          "★  Norway",
          "★  DR Congo",
          "★  Malaysia",
          "★  Guinea",
          "★  French Guiana",
          "★  Greece",
          "★  Albania",
          "★  Gabon",
          "★  Tajikistan",
          "★  Croatia",
          "★  Haiti",
          "★  Finland",
          "★  Luxembourg",
          "★  Mauritania",
          "★  Maldives",
          "★  Zimbabwe",
          "★  Namibia",
          "★  Malawi",
          "★  Djibouti",
          "★  Hungary",
          "★  Equatorial Guinea",
          "★  Hong Kong",
          "★  Central African Republic",
          "★  Montenegro",
          "★  Nicaragua",
          "★  Eswatini",
          "★  Congo",
          "★  Cuba",
          "★  Suriname",
          "★  Cape Verde",
          "★  Mozambique",
          "★  Thailand",
          "★  Slovakia",
          "★  Somalia",
          "★  Mayotte",
          "★  Rwanda",
          "★  Sri Lanka",
          "★  Tunisia",
          "★  Mali",
          "★  The Gambia",
          "★  Slovenia",
          "★  Lithuania",
          "★  South Sudan",
          "★  Estonia",
          "★  Uganda",
          "★  Syria",
          "★  Angola",
          "★  Guinea-Bissau",
          "★  Benin",
          "★  Iceland",
          "★  Sierra Leone",
          "★  Yemen",
          "★  The Bahamas",
          "★  New Zealand",
          "★  Malta",
          "★  Jordan",
          "★  Aruba",
          "★  Uruguay",
          "★  Cyprus",
          "★  Jamaica",
          "★  Georgia",
          "★  Latvia",
          "★  Burkina Faso",
          "★  Botswana",
          "★  Liberia",
          "★  Togo",
          "★  Reunion",
          "★  Niger",
          "★  Andorra",
          "★  Vietnam",
          "★  Lesotho",
          "★  Chad",
          "★  Trinidad and Tobago",
          "★  Guyana",
          "★  SÃ£o TomÃ© and PrÃ­ncipe",
          "★  Guadeloupe",
          "★  San Marino",
          "★  Belize",
          "★  Channel Islands",
          "★  Tanzania",
          "★  Taiwan",
          "★  Myanmar",
          "★  Burundi",
          "★  Comoros",
          "★  Faroe Islands",
          "★  Turks and Caicos Islands",
          "★  Sint Maarten",
          "★  Papua New Guinea",
          "★  Mauritius",
          "★  Martinique",
          "★  Isle of Man",
          "★  Eritrea",
          "★  Mongolia",
          "★  French Polynesia",
          "★  Cambodia",
          "★  Gibraltar",
          "★  Cayman Islands",
          "★  Saint Martin",
          "★  Bermuda",
          "★  Barbados",
          "★  Bhutan",
          "★  Monaco",
          "★  Brunei",
          "★  Seychelles",
          "★  Liechtenstein",
          "★  Antigua and Barbuda",
          "★  Saint Vincent and the Grenadines",
          "★  Macao",
          "★  Curacao",
          "★  Fiji",
          "★  Saint Lucia",
          "★  Timor-Leste",
          "★  Grenada",
          "★  New Caledonia",
          "★  Laos",
          "★  British Virgin Islands",
          "★  Dominica",
          "★  Saint Kitts and Nevis",
          "★  Saint Barthelemy",
          "★  Greenland",
          "★  Montserrat",
          "★  Caribbean Netherlands",
          "★  Falkland Islands",
          "★  Vatican City",
          "★  Western Sahara",
          "★  Saint Pierre and Miquelon",
          "★  Anguilla"
         ],
         "y": [
          811436,
          180555,
          114744,
          57692,
          16383,
          13059,
          27453,
          60254,
          16968,
          10852,
          28838,
          20643,
          6947,
          41429,
          3649,
          3941,
          6235,
          30513,
          35437,
          6121
         ]
        },
        {
         "marker": {
          "color": "lightsalmon"
         },
         "name": "Confirmed",
         "type": "bar",
         "x": [
          "TOTAL",
          "★  United States",
          "★  Brazil",
          "★  India",
          "★  Russia",
          "★  South Africa",
          "★  Peru",
          "★  Mexico",
          "★  Colombia",
          "★  Chile",
          "★  Spain",
          "★  Iran",
          "★  Argentina",
          "★  United Kingdom",
          "★  Saudi Arabia",
          "★  Bangladesh",
          "★  Pakistan",
          "★  France",
          "★  Italy",
          "★  Turkey",
          "★  Germany",
          "★  Iraq",
          "★  Philippines",
          "★  Indonesia",
          "★  Canada",
          "★  Qatar",
          "★  Bolivia",
          "★  Ecuador",
          "★  Ukraine",
          "★  Kazakhstan",
          "★  Israel",
          "★  Egypt",
          "★  Dominican Republic",
          "★  Sweden",
          "★  Panama",
          "★  China",
          "★  Oman",
          "★  Belgium",
          "★  Kuwait",
          "★  Romania",
          "★  Belarus",
          "★  Guatemala",
          "★  United Arab Emirates",
          "★  Netherlands",
          "★  Poland",
          "★  Japan",
          "★  Singapore",
          "★  Portugal",
          "★  Honduras",
          "★  Morocco",
          "★  Nigeria",
          "★  Bahrain",
          "★  Ghana",
          "★  Kyrgyzstan",
          "★  Armenia",
          "★  Algeria",
          "★  Ethiopia",
          "★  Switzerland",
          "★  Venezuela",
          "★  Uzbekistan",
          "★  Afghanistan",
          "★  Azerbaijan",
          "★  Costa Rica",
          "★  Moldova",
          "★  Kenya",
          "★  Nepal",
          "★  Serbia",
          "★  Ireland",
          "★  Austria",
          "★  Australia",
          "★  El Salvador",
          "★  Czechia",
          "★  Palestine",
          "★  Cameroon",
          "★  Bosnia and Herzegovina",
          "★  Ivory Coast",
          "★  South Korea",
          "★  Denmark",
          "★  Bulgaria",
          "★  Madagascar",
          "★  North Macedonia",
          "★  Paraguay",
          "★  Senegal",
          "★  Sudan",
          "★  Lebanon",
          "★  Kosovo",
          "★  Zambia",
          "★  Libya",
          "★  Norway",
          "★  DR Congo",
          "★  Malaysia",
          "★  Guinea",
          "★  French Guiana",
          "★  Greece",
          "★  Albania",
          "★  Gabon",
          "★  Tajikistan",
          "★  Croatia",
          "★  Haiti",
          "★  Finland",
          "★  Luxembourg",
          "★  Mauritania",
          "★  Maldives",
          "★  Zimbabwe",
          "★  Namibia",
          "★  Malawi",
          "★  Djibouti",
          "★  Hungary",
          "★  Equatorial Guinea",
          "★  Hong Kong",
          "★  Central African Republic",
          "★  Montenegro",
          "★  Nicaragua",
          "★  Eswatini",
          "★  Congo",
          "★  Cuba",
          "★  Suriname",
          "★  Cape Verde",
          "★  Mozambique",
          "★  Thailand",
          "★  Slovakia",
          "★  Somalia",
          "★  Mayotte",
          "★  Rwanda",
          "★  Sri Lanka",
          "★  Tunisia",
          "★  Mali",
          "★  The Gambia",
          "★  Slovenia",
          "★  Lithuania",
          "★  South Sudan",
          "★  Estonia",
          "★  Uganda",
          "★  Syria",
          "★  Angola",
          "★  Guinea-Bissau",
          "★  Benin",
          "★  Iceland",
          "★  Sierra Leone",
          "★  Yemen",
          "★  The Bahamas",
          "★  New Zealand",
          "★  Malta",
          "★  Jordan",
          "★  Aruba",
          "★  Uruguay",
          "★  Cyprus",
          "★  Jamaica",
          "★  Georgia",
          "★  Latvia",
          "★  Burkina Faso",
          "★  Botswana",
          "★  Liberia",
          "★  Togo",
          "★  Reunion",
          "★  Niger",
          "★  Andorra",
          "★  Vietnam",
          "★  Lesotho",
          "★  Chad",
          "★  Trinidad and Tobago",
          "★  Guyana",
          "★  SÃ£o TomÃ© and PrÃ­ncipe",
          "★  Guadeloupe",
          "★  San Marino",
          "★  Belize",
          "★  Channel Islands",
          "★  Tanzania",
          "★  Taiwan",
          "★  Myanmar",
          "★  Burundi",
          "★  Comoros",
          "★  Faroe Islands",
          "★  Turks and Caicos Islands",
          "★  Sint Maarten",
          "★  Papua New Guinea",
          "★  Mauritius",
          "★  Martinique",
          "★  Isle of Man",
          "★  Eritrea",
          "★  Mongolia",
          "★  French Polynesia",
          "★  Cambodia",
          "★  Gibraltar",
          "★  Cayman Islands",
          "★  Saint Martin",
          "★  Bermuda",
          "★  Barbados",
          "★  Bhutan",
          "★  Monaco",
          "★  Brunei",
          "★  Seychelles",
          "★  Liechtenstein",
          "★  Antigua and Barbuda",
          "★  Saint Vincent and the Grenadines",
          "★  Macao",
          "★  Curacao",
          "★  Fiji",
          "★  Saint Lucia",
          "★  Timor-Leste",
          "★  Grenada",
          "★  New Caledonia",
          "★  Laos",
          "★  British Virgin Islands",
          "★  Dominica",
          "★  Saint Kitts and Nevis",
          "★  Saint Barthelemy",
          "★  Greenland",
          "★  Montserrat",
          "★  Caribbean Netherlands",
          "★  Falkland Islands",
          "★  Vatican City",
          "★  Western Sahara",
          "★  Saint Pierre and Miquelon",
          "★  Anguilla"
         ],
         "y": [
          23545594,
          5869551,
          3605783,
          3105185,
          956749,
          609773,
          585236,
          556216,
          533103,
          397665,
          386054,
          358905,
          336802,
          325642,
          307479,
          294598,
          292765,
          260873,
          259345,
          258249
         ]
        }
       ],
       "layout": {
        "barmode": "group",
        "template": {
         "data": {
          "bar": [
           {
            "error_x": {
             "color": "#2a3f5f"
            },
            "error_y": {
             "color": "#2a3f5f"
            },
            "marker": {
             "line": {
              "color": "#E5ECF6",
              "width": 0.5
             }
            },
            "type": "bar"
           }
          ],
          "barpolar": [
           {
            "marker": {
             "line": {
              "color": "#E5ECF6",
              "width": 0.5
             }
            },
            "type": "barpolar"
           }
          ],
          "carpet": [
           {
            "aaxis": {
             "endlinecolor": "#2a3f5f",
             "gridcolor": "white",
             "linecolor": "white",
             "minorgridcolor": "white",
             "startlinecolor": "#2a3f5f"
            },
            "baxis": {
             "endlinecolor": "#2a3f5f",
             "gridcolor": "white",
             "linecolor": "white",
             "minorgridcolor": "white",
             "startlinecolor": "#2a3f5f"
            },
            "type": "carpet"
           }
          ],
          "choropleth": [
           {
            "colorbar": {
             "outlinewidth": 0,
             "ticks": ""
            },
            "type": "choropleth"
           }
          ],
          "contour": [
           {
            "colorbar": {
             "outlinewidth": 0,
             "ticks": ""
            },
            "colorscale": [
             [
              0,
              "#0d0887"
             ],
             [
              0.1111111111111111,
              "#46039f"
             ],
             [
              0.2222222222222222,
              "#7201a8"
             ],
             [
              0.3333333333333333,
              "#9c179e"
             ],
             [
              0.4444444444444444,
              "#bd3786"
             ],
             [
              0.5555555555555556,
              "#d8576b"
             ],
             [
              0.6666666666666666,
              "#ed7953"
             ],
             [
              0.7777777777777778,
              "#fb9f3a"
             ],
             [
              0.8888888888888888,
              "#fdca26"
             ],
             [
              1,
              "#f0f921"
             ]
            ],
            "type": "contour"
           }
          ],
          "contourcarpet": [
           {
            "colorbar": {
             "outlinewidth": 0,
             "ticks": ""
            },
            "type": "contourcarpet"
           }
          ],
          "heatmap": [
           {
            "colorbar": {
             "outlinewidth": 0,
             "ticks": ""
            },
            "colorscale": [
             [
              0,
              "#0d0887"
             ],
             [
              0.1111111111111111,
              "#46039f"
             ],
             [
              0.2222222222222222,
              "#7201a8"
             ],
             [
              0.3333333333333333,
              "#9c179e"
             ],
             [
              0.4444444444444444,
              "#bd3786"
             ],
             [
              0.5555555555555556,
              "#d8576b"
             ],
             [
              0.6666666666666666,
              "#ed7953"
             ],
             [
              0.7777777777777778,
              "#fb9f3a"
             ],
             [
              0.8888888888888888,
              "#fdca26"
             ],
             [
              1,
              "#f0f921"
             ]
            ],
            "type": "heatmap"
           }
          ],
          "heatmapgl": [
           {
            "colorbar": {
             "outlinewidth": 0,
             "ticks": ""
            },
            "colorscale": [
             [
              0,
              "#0d0887"
             ],
             [
              0.1111111111111111,
              "#46039f"
             ],
             [
              0.2222222222222222,
              "#7201a8"
             ],
             [
              0.3333333333333333,
              "#9c179e"
             ],
             [
              0.4444444444444444,
              "#bd3786"
             ],
             [
              0.5555555555555556,
              "#d8576b"
             ],
             [
              0.6666666666666666,
              "#ed7953"
             ],
             [
              0.7777777777777778,
              "#fb9f3a"
             ],
             [
              0.8888888888888888,
              "#fdca26"
             ],
             [
              1,
              "#f0f921"
             ]
            ],
            "type": "heatmapgl"
           }
          ],
          "histogram": [
           {
            "marker": {
             "colorbar": {
              "outlinewidth": 0,
              "ticks": ""
             }
            },
            "type": "histogram"
           }
          ],
          "histogram2d": [
           {
            "colorbar": {
             "outlinewidth": 0,
             "ticks": ""
            },
            "colorscale": [
             [
              0,
              "#0d0887"
             ],
             [
              0.1111111111111111,
              "#46039f"
             ],
             [
              0.2222222222222222,
              "#7201a8"
             ],
             [
              0.3333333333333333,
              "#9c179e"
             ],
             [
              0.4444444444444444,
              "#bd3786"
             ],
             [
              0.5555555555555556,
              "#d8576b"
             ],
             [
              0.6666666666666666,
              "#ed7953"
             ],
             [
              0.7777777777777778,
              "#fb9f3a"
             ],
             [
              0.8888888888888888,
              "#fdca26"
             ],
             [
              1,
              "#f0f921"
             ]
            ],
            "type": "histogram2d"
           }
          ],
          "histogram2dcontour": [
           {
            "colorbar": {
             "outlinewidth": 0,
             "ticks": ""
            },
            "colorscale": [
             [
              0,
              "#0d0887"
             ],
             [
              0.1111111111111111,
              "#46039f"
             ],
             [
              0.2222222222222222,
              "#7201a8"
             ],
             [
              0.3333333333333333,
              "#9c179e"
             ],
             [
              0.4444444444444444,
              "#bd3786"
             ],
             [
              0.5555555555555556,
              "#d8576b"
             ],
             [
              0.6666666666666666,
              "#ed7953"
             ],
             [
              0.7777777777777778,
              "#fb9f3a"
             ],
             [
              0.8888888888888888,
              "#fdca26"
             ],
             [
              1,
              "#f0f921"
             ]
            ],
            "type": "histogram2dcontour"
           }
          ],
          "mesh3d": [
           {
            "colorbar": {
             "outlinewidth": 0,
             "ticks": ""
            },
            "type": "mesh3d"
           }
          ],
          "parcoords": [
           {
            "line": {
             "colorbar": {
              "outlinewidth": 0,
              "ticks": ""
             }
            },
            "type": "parcoords"
           }
          ],
          "pie": [
           {
            "automargin": true,
            "type": "pie"
           }
          ],
          "scatter": [
           {
            "marker": {
             "colorbar": {
              "outlinewidth": 0,
              "ticks": ""
             }
            },
            "type": "scatter"
           }
          ],
          "scatter3d": [
           {
            "line": {
             "colorbar": {
              "outlinewidth": 0,
              "ticks": ""
             }
            },
            "marker": {
             "colorbar": {
              "outlinewidth": 0,
              "ticks": ""
             }
            },
            "type": "scatter3d"
           }
          ],
          "scattercarpet": [
           {
            "marker": {
             "colorbar": {
              "outlinewidth": 0,
              "ticks": ""
             }
            },
            "type": "scattercarpet"
           }
          ],
          "scattergeo": [
           {
            "marker": {
             "colorbar": {
              "outlinewidth": 0,
              "ticks": ""
             }
            },
            "type": "scattergeo"
           }
          ],
          "scattergl": [
           {
            "marker": {
             "colorbar": {
              "outlinewidth": 0,
              "ticks": ""
             }
            },
            "type": "scattergl"
           }
          ],
          "scattermapbox": [
           {
            "marker": {
             "colorbar": {
              "outlinewidth": 0,
              "ticks": ""
             }
            },
            "type": "scattermapbox"
           }
          ],
          "scatterpolar": [
           {
            "marker": {
             "colorbar": {
              "outlinewidth": 0,
              "ticks": ""
             }
            },
            "type": "scatterpolar"
           }
          ],
          "scatterpolargl": [
           {
            "marker": {
             "colorbar": {
              "outlinewidth": 0,
              "ticks": ""
             }
            },
            "type": "scatterpolargl"
           }
          ],
          "scatterternary": [
           {
            "marker": {
             "colorbar": {
              "outlinewidth": 0,
              "ticks": ""
             }
            },
            "type": "scatterternary"
           }
          ],
          "surface": [
           {
            "colorbar": {
             "outlinewidth": 0,
             "ticks": ""
            },
            "colorscale": [
             [
              0,
              "#0d0887"
             ],
             [
              0.1111111111111111,
              "#46039f"
             ],
             [
              0.2222222222222222,
              "#7201a8"
             ],
             [
              0.3333333333333333,
              "#9c179e"
             ],
             [
              0.4444444444444444,
              "#bd3786"
             ],
             [
              0.5555555555555556,
              "#d8576b"
             ],
             [
              0.6666666666666666,
              "#ed7953"
             ],
             [
              0.7777777777777778,
              "#fb9f3a"
             ],
             [
              0.8888888888888888,
              "#fdca26"
             ],
             [
              1,
              "#f0f921"
             ]
            ],
            "type": "surface"
           }
          ],
          "table": [
           {
            "cells": {
             "fill": {
              "color": "#EBF0F8"
             },
             "line": {
              "color": "white"
             }
            },
            "header": {
             "fill": {
              "color": "#C8D4E3"
             },
             "line": {
              "color": "white"
             }
            },
            "type": "table"
           }
          ]
         },
         "layout": {
          "annotationdefaults": {
           "arrowcolor": "#2a3f5f",
           "arrowhead": 0,
           "arrowwidth": 1
          },
          "coloraxis": {
           "colorbar": {
            "outlinewidth": 0,
            "ticks": ""
           }
          },
          "colorscale": {
           "diverging": [
            [
             0,
             "#8e0152"
            ],
            [
             0.1,
             "#c51b7d"
            ],
            [
             0.2,
             "#de77ae"
            ],
            [
             0.3,
             "#f1b6da"
            ],
            [
             0.4,
             "#fde0ef"
            ],
            [
             0.5,
             "#f7f7f7"
            ],
            [
             0.6,
             "#e6f5d0"
            ],
            [
             0.7,
             "#b8e186"
            ],
            [
             0.8,
             "#7fbc41"
            ],
            [
             0.9,
             "#4d9221"
            ],
            [
             1,
             "#276419"
            ]
           ],
           "sequential": [
            [
             0,
             "#0d0887"
            ],
            [
             0.1111111111111111,
             "#46039f"
            ],
            [
             0.2222222222222222,
             "#7201a8"
            ],
            [
             0.3333333333333333,
             "#9c179e"
            ],
            [
             0.4444444444444444,
             "#bd3786"
            ],
            [
             0.5555555555555556,
             "#d8576b"
            ],
            [
             0.6666666666666666,
             "#ed7953"
            ],
            [
             0.7777777777777778,
             "#fb9f3a"
            ],
            [
             0.8888888888888888,
             "#fdca26"
            ],
            [
             1,
             "#f0f921"
            ]
           ],
           "sequentialminus": [
            [
             0,
             "#0d0887"
            ],
            [
             0.1111111111111111,
             "#46039f"
            ],
            [
             0.2222222222222222,
             "#7201a8"
            ],
            [
             0.3333333333333333,
             "#9c179e"
            ],
            [
             0.4444444444444444,
             "#bd3786"
            ],
            [
             0.5555555555555556,
             "#d8576b"
            ],
            [
             0.6666666666666666,
             "#ed7953"
            ],
            [
             0.7777777777777778,
             "#fb9f3a"
            ],
            [
             0.8888888888888888,
             "#fdca26"
            ],
            [
             1,
             "#f0f921"
            ]
           ]
          },
          "colorway": [
           "#636efa",
           "#EF553B",
           "#00cc96",
           "#ab63fa",
           "#FFA15A",
           "#19d3f3",
           "#FF6692",
           "#B6E880",
           "#FF97FF",
           "#FECB52"
          ],
          "font": {
           "color": "#2a3f5f"
          },
          "geo": {
           "bgcolor": "white",
           "lakecolor": "white",
           "landcolor": "#E5ECF6",
           "showlakes": true,
           "showland": true,
           "subunitcolor": "white"
          },
          "hoverlabel": {
           "align": "left"
          },
          "hovermode": "closest",
          "mapbox": {
           "style": "light"
          },
          "paper_bgcolor": "white",
          "plot_bgcolor": "#E5ECF6",
          "polar": {
           "angularaxis": {
            "gridcolor": "white",
            "linecolor": "white",
            "ticks": ""
           },
           "bgcolor": "#E5ECF6",
           "radialaxis": {
            "gridcolor": "white",
            "linecolor": "white",
            "ticks": ""
           }
          },
          "scene": {
           "xaxis": {
            "backgroundcolor": "#E5ECF6",
            "gridcolor": "white",
            "gridwidth": 2,
            "linecolor": "white",
            "showbackground": true,
            "ticks": "",
            "zerolinecolor": "white"
           },
           "yaxis": {
            "backgroundcolor": "#E5ECF6",
            "gridcolor": "white",
            "gridwidth": 2,
            "linecolor": "white",
            "showbackground": true,
            "ticks": "",
            "zerolinecolor": "white"
           },
           "zaxis": {
            "backgroundcolor": "#E5ECF6",
            "gridcolor": "white",
            "gridwidth": 2,
            "linecolor": "white",
            "showbackground": true,
            "ticks": "",
            "zerolinecolor": "white"
           }
          },
          "shapedefaults": {
           "line": {
            "color": "#2a3f5f"
           }
          },
          "ternary": {
           "aaxis": {
            "gridcolor": "white",
            "linecolor": "white",
            "ticks": ""
           },
           "baxis": {
            "gridcolor": "white",
            "linecolor": "white",
            "ticks": ""
           },
           "bgcolor": "#E5ECF6",
           "caxis": {
            "gridcolor": "white",
            "linecolor": "white",
            "ticks": ""
           }
          },
          "title": {
           "x": 0.05
          },
          "xaxis": {
           "automargin": true,
           "gridcolor": "white",
           "linecolor": "white",
           "ticks": "",
           "title": {
            "standoff": 15
           },
           "zerolinecolor": "white",
           "zerolinewidth": 2
          },
          "yaxis": {
           "automargin": true,
           "gridcolor": "white",
           "linecolor": "white",
           "ticks": "",
           "title": {
            "standoff": 15
           },
           "zerolinecolor": "white",
           "zerolinewidth": 2
          }
         }
        }
       }
      },
      "text/html": [
       "<div>\n",
       "        \n",
       "        \n",
       "            <div id=\"72351904-cbfa-480f-ab97-d4c12084504d\" class=\"plotly-graph-div\" style=\"height:525px; width:100%;\"></div>\n",
       "            <script type=\"text/javascript\">\n",
       "                require([\"plotly\"], function(Plotly) {\n",
       "                    window.PLOTLYENV=window.PLOTLYENV || {};\n",
       "                    \n",
       "                if (document.getElementById(\"72351904-cbfa-480f-ab97-d4c12084504d\")) {\n",
       "                    Plotly.newPlot(\n",
       "                        '72351904-cbfa-480f-ab97-d4c12084504d',\n",
       "                        [{\"marker\": {\"color\": \"indianred\"}, \"name\": \"Deceased\", \"type\": \"bar\", \"x\": [\"TOTAL\", \"\\u2605  United States\", \"\\u2605  Brazil\", \"\\u2605  India\", \"\\u2605  Russia\", \"\\u2605  South Africa\", \"\\u2605  Peru\", \"\\u2605  Mexico\", \"\\u2605  Colombia\", \"\\u2605  Chile\", \"\\u2605  Spain\", \"\\u2605  Iran\", \"\\u2605  Argentina\", \"\\u2605  United Kingdom\", \"\\u2605  Saudi Arabia\", \"\\u2605  Bangladesh\", \"\\u2605  Pakistan\", \"\\u2605  France\", \"\\u2605  Italy\", \"\\u2605  Turkey\", \"\\u2605  Germany\", \"\\u2605  Iraq\", \"\\u2605  Philippines\", \"\\u2605  Indonesia\", \"\\u2605  Canada\", \"\\u2605  Qatar\", \"\\u2605  Bolivia\", \"\\u2605  Ecuador\", \"\\u2605  Ukraine\", \"\\u2605  Kazakhstan\", \"\\u2605  Israel\", \"\\u2605  Egypt\", \"\\u2605  Dominican Republic\", \"\\u2605  Sweden\", \"\\u2605  Panama\", \"\\u2605  China\", \"\\u2605  Oman\", \"\\u2605  Belgium\", \"\\u2605  Kuwait\", \"\\u2605  Romania\", \"\\u2605  Belarus\", \"\\u2605  Guatemala\", \"\\u2605  United Arab Emirates\", \"\\u2605  Netherlands\", \"\\u2605  Poland\", \"\\u2605  Japan\", \"\\u2605  Singapore\", \"\\u2605  Portugal\", \"\\u2605  Honduras\", \"\\u2605  Morocco\", \"\\u2605  Nigeria\", \"\\u2605  Bahrain\", \"\\u2605  Ghana\", \"\\u2605  Kyrgyzstan\", \"\\u2605  Armenia\", \"\\u2605  Algeria\", \"\\u2605  Ethiopia\", \"\\u2605  Switzerland\", \"\\u2605  Venezuela\", \"\\u2605  Uzbekistan\", \"\\u2605  Afghanistan\", \"\\u2605  Azerbaijan\", \"\\u2605  Costa Rica\", \"\\u2605  Moldova\", \"\\u2605  Kenya\", \"\\u2605  Nepal\", \"\\u2605  Serbia\", \"\\u2605  Ireland\", \"\\u2605  Austria\", \"\\u2605  Australia\", \"\\u2605  El Salvador\", \"\\u2605  Czechia\", \"\\u2605  Palestine\", \"\\u2605  Cameroon\", \"\\u2605  Bosnia and Herzegovina\", \"\\u2605  Ivory Coast\", \"\\u2605  South Korea\", \"\\u2605  Denmark\", \"\\u2605  Bulgaria\", \"\\u2605  Madagascar\", \"\\u2605  North Macedonia\", \"\\u2605  Paraguay\", \"\\u2605  Senegal\", \"\\u2605  Sudan\", \"\\u2605  Lebanon\", \"\\u2605  Kosovo\", \"\\u2605  Zambia\", \"\\u2605  Libya\", \"\\u2605  Norway\", \"\\u2605  DR Congo\", \"\\u2605  Malaysia\", \"\\u2605  Guinea\", \"\\u2605  French Guiana\", \"\\u2605  Greece\", \"\\u2605  Albania\", \"\\u2605  Gabon\", \"\\u2605  Tajikistan\", \"\\u2605  Croatia\", \"\\u2605  Haiti\", \"\\u2605  Finland\", \"\\u2605  Luxembourg\", \"\\u2605  Mauritania\", \"\\u2605  Maldives\", \"\\u2605  Zimbabwe\", \"\\u2605  Namibia\", \"\\u2605  Malawi\", \"\\u2605  Djibouti\", \"\\u2605  Hungary\", \"\\u2605  Equatorial Guinea\", \"\\u2605  Hong Kong\", \"\\u2605  Central African Republic\", \"\\u2605  Montenegro\", \"\\u2605  Nicaragua\", \"\\u2605  Eswatini\", \"\\u2605  Congo\", \"\\u2605  Cuba\", \"\\u2605  Suriname\", \"\\u2605  Cape Verde\", \"\\u2605  Mozambique\", \"\\u2605  Thailand\", \"\\u2605  Slovakia\", \"\\u2605  Somalia\", \"\\u2605  Mayotte\", \"\\u2605  Rwanda\", \"\\u2605  Sri Lanka\", \"\\u2605  Tunisia\", \"\\u2605  Mali\", \"\\u2605  The Gambia\", \"\\u2605  Slovenia\", \"\\u2605  Lithuania\", \"\\u2605  South Sudan\", \"\\u2605  Estonia\", \"\\u2605  Uganda\", \"\\u2605  Syria\", \"\\u2605  Angola\", \"\\u2605  Guinea-Bissau\", \"\\u2605  Benin\", \"\\u2605  Iceland\", \"\\u2605  Sierra Leone\", \"\\u2605  Yemen\", \"\\u2605  The Bahamas\", \"\\u2605  New Zealand\", \"\\u2605  Malta\", \"\\u2605  Jordan\", \"\\u2605  Aruba\", \"\\u2605  Uruguay\", \"\\u2605  Cyprus\", \"\\u2605  Jamaica\", \"\\u2605  Georgia\", \"\\u2605  Latvia\", \"\\u2605  Burkina Faso\", \"\\u2605  Botswana\", \"\\u2605  Liberia\", \"\\u2605  Togo\", \"\\u2605  Reunion\", \"\\u2605  Niger\", \"\\u2605  Andorra\", \"\\u2605  Vietnam\", \"\\u2605  Lesotho\", \"\\u2605  Chad\", \"\\u2605  Trinidad and Tobago\", \"\\u2605  Guyana\", \"\\u2605  S\\u00c3\\u00a3o Tom\\u00c3\\u00a9 and Pr\\u00c3\\u00adncipe\", \"\\u2605  Guadeloupe\", \"\\u2605  San Marino\", \"\\u2605  Belize\", \"\\u2605  Channel Islands\", \"\\u2605  Tanzania\", \"\\u2605  Taiwan\", \"\\u2605  Myanmar\", \"\\u2605  Burundi\", \"\\u2605  Comoros\", \"\\u2605  Faroe Islands\", \"\\u2605  Turks and Caicos Islands\", \"\\u2605  Sint Maarten\", \"\\u2605  Papua New Guinea\", \"\\u2605  Mauritius\", \"\\u2605  Martinique\", \"\\u2605  Isle of Man\", \"\\u2605  Eritrea\", \"\\u2605  Mongolia\", \"\\u2605  French Polynesia\", \"\\u2605  Cambodia\", \"\\u2605  Gibraltar\", \"\\u2605  Cayman Islands\", \"\\u2605  Saint Martin\", \"\\u2605  Bermuda\", \"\\u2605  Barbados\", \"\\u2605  Bhutan\", \"\\u2605  Monaco\", \"\\u2605  Brunei\", \"\\u2605  Seychelles\", \"\\u2605  Liechtenstein\", \"\\u2605  Antigua and Barbuda\", \"\\u2605  Saint Vincent and the Grenadines\", \"\\u2605  Macao\", \"\\u2605  Curacao\", \"\\u2605  Fiji\", \"\\u2605  Saint Lucia\", \"\\u2605  Timor-Leste\", \"\\u2605  Grenada\", \"\\u2605  New Caledonia\", \"\\u2605  Laos\", \"\\u2605  British Virgin Islands\", \"\\u2605  Dominica\", \"\\u2605  Saint Kitts and Nevis\", \"\\u2605  Saint Barthelemy\", \"\\u2605  Greenland\", \"\\u2605  Montserrat\", \"\\u2605  Caribbean Netherlands\", \"\\u2605  Falkland Islands\", \"\\u2605  Vatican City\", \"\\u2605  Western Sahara\", \"\\u2605  Saint Pierre and Miquelon\", \"\\u2605  Anguilla\"], \"y\": [811436, 180555, 114744, 57692, 16383, 13059, 27453, 60254, 16968, 10852, 28838, 20643, 6947, 41429, 3649, 3941, 6235, 30513, 35437, 6121]}, {\"marker\": {\"color\": \"lightsalmon\"}, \"name\": \"Confirmed\", \"type\": \"bar\", \"x\": [\"TOTAL\", \"\\u2605  United States\", \"\\u2605  Brazil\", \"\\u2605  India\", \"\\u2605  Russia\", \"\\u2605  South Africa\", \"\\u2605  Peru\", \"\\u2605  Mexico\", \"\\u2605  Colombia\", \"\\u2605  Chile\", \"\\u2605  Spain\", \"\\u2605  Iran\", \"\\u2605  Argentina\", \"\\u2605  United Kingdom\", \"\\u2605  Saudi Arabia\", \"\\u2605  Bangladesh\", \"\\u2605  Pakistan\", \"\\u2605  France\", \"\\u2605  Italy\", \"\\u2605  Turkey\", \"\\u2605  Germany\", \"\\u2605  Iraq\", \"\\u2605  Philippines\", \"\\u2605  Indonesia\", \"\\u2605  Canada\", \"\\u2605  Qatar\", \"\\u2605  Bolivia\", \"\\u2605  Ecuador\", \"\\u2605  Ukraine\", \"\\u2605  Kazakhstan\", \"\\u2605  Israel\", \"\\u2605  Egypt\", \"\\u2605  Dominican Republic\", \"\\u2605  Sweden\", \"\\u2605  Panama\", \"\\u2605  China\", \"\\u2605  Oman\", \"\\u2605  Belgium\", \"\\u2605  Kuwait\", \"\\u2605  Romania\", \"\\u2605  Belarus\", \"\\u2605  Guatemala\", \"\\u2605  United Arab Emirates\", \"\\u2605  Netherlands\", \"\\u2605  Poland\", \"\\u2605  Japan\", \"\\u2605  Singapore\", \"\\u2605  Portugal\", \"\\u2605  Honduras\", \"\\u2605  Morocco\", \"\\u2605  Nigeria\", \"\\u2605  Bahrain\", \"\\u2605  Ghana\", \"\\u2605  Kyrgyzstan\", \"\\u2605  Armenia\", \"\\u2605  Algeria\", \"\\u2605  Ethiopia\", \"\\u2605  Switzerland\", \"\\u2605  Venezuela\", \"\\u2605  Uzbekistan\", \"\\u2605  Afghanistan\", \"\\u2605  Azerbaijan\", \"\\u2605  Costa Rica\", \"\\u2605  Moldova\", \"\\u2605  Kenya\", \"\\u2605  Nepal\", \"\\u2605  Serbia\", \"\\u2605  Ireland\", \"\\u2605  Austria\", \"\\u2605  Australia\", \"\\u2605  El Salvador\", \"\\u2605  Czechia\", \"\\u2605  Palestine\", \"\\u2605  Cameroon\", \"\\u2605  Bosnia and Herzegovina\", \"\\u2605  Ivory Coast\", \"\\u2605  South Korea\", \"\\u2605  Denmark\", \"\\u2605  Bulgaria\", \"\\u2605  Madagascar\", \"\\u2605  North Macedonia\", \"\\u2605  Paraguay\", \"\\u2605  Senegal\", \"\\u2605  Sudan\", \"\\u2605  Lebanon\", \"\\u2605  Kosovo\", \"\\u2605  Zambia\", \"\\u2605  Libya\", \"\\u2605  Norway\", \"\\u2605  DR Congo\", \"\\u2605  Malaysia\", \"\\u2605  Guinea\", \"\\u2605  French Guiana\", \"\\u2605  Greece\", \"\\u2605  Albania\", \"\\u2605  Gabon\", \"\\u2605  Tajikistan\", \"\\u2605  Croatia\", \"\\u2605  Haiti\", \"\\u2605  Finland\", \"\\u2605  Luxembourg\", \"\\u2605  Mauritania\", \"\\u2605  Maldives\", \"\\u2605  Zimbabwe\", \"\\u2605  Namibia\", \"\\u2605  Malawi\", \"\\u2605  Djibouti\", \"\\u2605  Hungary\", \"\\u2605  Equatorial Guinea\", \"\\u2605  Hong Kong\", \"\\u2605  Central African Republic\", \"\\u2605  Montenegro\", \"\\u2605  Nicaragua\", \"\\u2605  Eswatini\", \"\\u2605  Congo\", \"\\u2605  Cuba\", \"\\u2605  Suriname\", \"\\u2605  Cape Verde\", \"\\u2605  Mozambique\", \"\\u2605  Thailand\", \"\\u2605  Slovakia\", \"\\u2605  Somalia\", \"\\u2605  Mayotte\", \"\\u2605  Rwanda\", \"\\u2605  Sri Lanka\", \"\\u2605  Tunisia\", \"\\u2605  Mali\", \"\\u2605  The Gambia\", \"\\u2605  Slovenia\", \"\\u2605  Lithuania\", \"\\u2605  South Sudan\", \"\\u2605  Estonia\", \"\\u2605  Uganda\", \"\\u2605  Syria\", \"\\u2605  Angola\", \"\\u2605  Guinea-Bissau\", \"\\u2605  Benin\", \"\\u2605  Iceland\", \"\\u2605  Sierra Leone\", \"\\u2605  Yemen\", \"\\u2605  The Bahamas\", \"\\u2605  New Zealand\", \"\\u2605  Malta\", \"\\u2605  Jordan\", \"\\u2605  Aruba\", \"\\u2605  Uruguay\", \"\\u2605  Cyprus\", \"\\u2605  Jamaica\", \"\\u2605  Georgia\", \"\\u2605  Latvia\", \"\\u2605  Burkina Faso\", \"\\u2605  Botswana\", \"\\u2605  Liberia\", \"\\u2605  Togo\", \"\\u2605  Reunion\", \"\\u2605  Niger\", \"\\u2605  Andorra\", \"\\u2605  Vietnam\", \"\\u2605  Lesotho\", \"\\u2605  Chad\", \"\\u2605  Trinidad and Tobago\", \"\\u2605  Guyana\", \"\\u2605  S\\u00c3\\u00a3o Tom\\u00c3\\u00a9 and Pr\\u00c3\\u00adncipe\", \"\\u2605  Guadeloupe\", \"\\u2605  San Marino\", \"\\u2605  Belize\", \"\\u2605  Channel Islands\", \"\\u2605  Tanzania\", \"\\u2605  Taiwan\", \"\\u2605  Myanmar\", \"\\u2605  Burundi\", \"\\u2605  Comoros\", \"\\u2605  Faroe Islands\", \"\\u2605  Turks and Caicos Islands\", \"\\u2605  Sint Maarten\", \"\\u2605  Papua New Guinea\", \"\\u2605  Mauritius\", \"\\u2605  Martinique\", \"\\u2605  Isle of Man\", \"\\u2605  Eritrea\", \"\\u2605  Mongolia\", \"\\u2605  French Polynesia\", \"\\u2605  Cambodia\", \"\\u2605  Gibraltar\", \"\\u2605  Cayman Islands\", \"\\u2605  Saint Martin\", \"\\u2605  Bermuda\", \"\\u2605  Barbados\", \"\\u2605  Bhutan\", \"\\u2605  Monaco\", \"\\u2605  Brunei\", \"\\u2605  Seychelles\", \"\\u2605  Liechtenstein\", \"\\u2605  Antigua and Barbuda\", \"\\u2605  Saint Vincent and the Grenadines\", \"\\u2605  Macao\", \"\\u2605  Curacao\", \"\\u2605  Fiji\", \"\\u2605  Saint Lucia\", \"\\u2605  Timor-Leste\", \"\\u2605  Grenada\", \"\\u2605  New Caledonia\", \"\\u2605  Laos\", \"\\u2605  British Virgin Islands\", \"\\u2605  Dominica\", \"\\u2605  Saint Kitts and Nevis\", \"\\u2605  Saint Barthelemy\", \"\\u2605  Greenland\", \"\\u2605  Montserrat\", \"\\u2605  Caribbean Netherlands\", \"\\u2605  Falkland Islands\", \"\\u2605  Vatican City\", \"\\u2605  Western Sahara\", \"\\u2605  Saint Pierre and Miquelon\", \"\\u2605  Anguilla\"], \"y\": [23545594, 5869551, 3605783, 3105185, 956749, 609773, 585236, 556216, 533103, 397665, 386054, 358905, 336802, 325642, 307479, 294598, 292765, 260873, 259345, 258249]}],\n",
       "                        {\"barmode\": \"group\", \"template\": {\"data\": {\"bar\": [{\"error_x\": {\"color\": \"#2a3f5f\"}, \"error_y\": {\"color\": \"#2a3f5f\"}, \"marker\": {\"line\": {\"color\": \"#E5ECF6\", \"width\": 0.5}}, \"type\": \"bar\"}], \"barpolar\": [{\"marker\": {\"line\": {\"color\": \"#E5ECF6\", \"width\": 0.5}}, \"type\": \"barpolar\"}], \"carpet\": [{\"aaxis\": {\"endlinecolor\": \"#2a3f5f\", \"gridcolor\": \"white\", \"linecolor\": \"white\", \"minorgridcolor\": \"white\", \"startlinecolor\": \"#2a3f5f\"}, \"baxis\": {\"endlinecolor\": \"#2a3f5f\", \"gridcolor\": \"white\", \"linecolor\": \"white\", \"minorgridcolor\": \"white\", \"startlinecolor\": \"#2a3f5f\"}, \"type\": \"carpet\"}], \"choropleth\": [{\"colorbar\": {\"outlinewidth\": 0, \"ticks\": \"\"}, \"type\": \"choropleth\"}], \"contour\": [{\"colorbar\": {\"outlinewidth\": 0, \"ticks\": \"\"}, \"colorscale\": [[0.0, \"#0d0887\"], [0.1111111111111111, \"#46039f\"], [0.2222222222222222, \"#7201a8\"], [0.3333333333333333, \"#9c179e\"], [0.4444444444444444, \"#bd3786\"], [0.5555555555555556, \"#d8576b\"], [0.6666666666666666, \"#ed7953\"], [0.7777777777777778, \"#fb9f3a\"], [0.8888888888888888, \"#fdca26\"], [1.0, \"#f0f921\"]], \"type\": \"contour\"}], \"contourcarpet\": [{\"colorbar\": {\"outlinewidth\": 0, \"ticks\": \"\"}, \"type\": \"contourcarpet\"}], \"heatmap\": [{\"colorbar\": {\"outlinewidth\": 0, \"ticks\": \"\"}, \"colorscale\": [[0.0, \"#0d0887\"], [0.1111111111111111, \"#46039f\"], [0.2222222222222222, \"#7201a8\"], [0.3333333333333333, \"#9c179e\"], [0.4444444444444444, \"#bd3786\"], [0.5555555555555556, \"#d8576b\"], [0.6666666666666666, \"#ed7953\"], [0.7777777777777778, \"#fb9f3a\"], [0.8888888888888888, \"#fdca26\"], [1.0, \"#f0f921\"]], \"type\": \"heatmap\"}], \"heatmapgl\": [{\"colorbar\": {\"outlinewidth\": 0, \"ticks\": \"\"}, \"colorscale\": [[0.0, \"#0d0887\"], [0.1111111111111111, \"#46039f\"], [0.2222222222222222, \"#7201a8\"], [0.3333333333333333, \"#9c179e\"], [0.4444444444444444, \"#bd3786\"], [0.5555555555555556, \"#d8576b\"], [0.6666666666666666, \"#ed7953\"], [0.7777777777777778, \"#fb9f3a\"], [0.8888888888888888, \"#fdca26\"], [1.0, \"#f0f921\"]], \"type\": \"heatmapgl\"}], \"histogram\": [{\"marker\": {\"colorbar\": {\"outlinewidth\": 0, \"ticks\": \"\"}}, \"type\": \"histogram\"}], \"histogram2d\": [{\"colorbar\": {\"outlinewidth\": 0, \"ticks\": \"\"}, \"colorscale\": [[0.0, \"#0d0887\"], [0.1111111111111111, \"#46039f\"], [0.2222222222222222, \"#7201a8\"], [0.3333333333333333, \"#9c179e\"], [0.4444444444444444, \"#bd3786\"], [0.5555555555555556, \"#d8576b\"], [0.6666666666666666, \"#ed7953\"], [0.7777777777777778, \"#fb9f3a\"], [0.8888888888888888, \"#fdca26\"], [1.0, \"#f0f921\"]], \"type\": \"histogram2d\"}], \"histogram2dcontour\": [{\"colorbar\": {\"outlinewidth\": 0, \"ticks\": \"\"}, \"colorscale\": [[0.0, \"#0d0887\"], [0.1111111111111111, \"#46039f\"], [0.2222222222222222, \"#7201a8\"], [0.3333333333333333, \"#9c179e\"], [0.4444444444444444, \"#bd3786\"], [0.5555555555555556, \"#d8576b\"], [0.6666666666666666, \"#ed7953\"], [0.7777777777777778, \"#fb9f3a\"], [0.8888888888888888, \"#fdca26\"], [1.0, \"#f0f921\"]], \"type\": \"histogram2dcontour\"}], \"mesh3d\": [{\"colorbar\": {\"outlinewidth\": 0, \"ticks\": \"\"}, \"type\": \"mesh3d\"}], \"parcoords\": [{\"line\": {\"colorbar\": {\"outlinewidth\": 0, \"ticks\": \"\"}}, \"type\": \"parcoords\"}], \"pie\": [{\"automargin\": true, \"type\": \"pie\"}], \"scatter\": [{\"marker\": {\"colorbar\": {\"outlinewidth\": 0, \"ticks\": \"\"}}, \"type\": \"scatter\"}], \"scatter3d\": [{\"line\": {\"colorbar\": {\"outlinewidth\": 0, \"ticks\": \"\"}}, \"marker\": {\"colorbar\": {\"outlinewidth\": 0, \"ticks\": \"\"}}, \"type\": \"scatter3d\"}], \"scattercarpet\": [{\"marker\": {\"colorbar\": {\"outlinewidth\": 0, \"ticks\": \"\"}}, \"type\": \"scattercarpet\"}], \"scattergeo\": [{\"marker\": {\"colorbar\": {\"outlinewidth\": 0, \"ticks\": \"\"}}, \"type\": \"scattergeo\"}], \"scattergl\": [{\"marker\": {\"colorbar\": {\"outlinewidth\": 0, \"ticks\": \"\"}}, \"type\": \"scattergl\"}], \"scattermapbox\": [{\"marker\": {\"colorbar\": {\"outlinewidth\": 0, \"ticks\": \"\"}}, \"type\": \"scattermapbox\"}], \"scatterpolar\": [{\"marker\": {\"colorbar\": {\"outlinewidth\": 0, \"ticks\": \"\"}}, \"type\": \"scatterpolar\"}], \"scatterpolargl\": [{\"marker\": {\"colorbar\": {\"outlinewidth\": 0, \"ticks\": \"\"}}, \"type\": \"scatterpolargl\"}], \"scatterternary\": [{\"marker\": {\"colorbar\": {\"outlinewidth\": 0, \"ticks\": \"\"}}, \"type\": \"scatterternary\"}], \"surface\": [{\"colorbar\": {\"outlinewidth\": 0, \"ticks\": \"\"}, \"colorscale\": [[0.0, \"#0d0887\"], [0.1111111111111111, \"#46039f\"], [0.2222222222222222, \"#7201a8\"], [0.3333333333333333, \"#9c179e\"], [0.4444444444444444, \"#bd3786\"], [0.5555555555555556, \"#d8576b\"], [0.6666666666666666, \"#ed7953\"], [0.7777777777777778, \"#fb9f3a\"], [0.8888888888888888, \"#fdca26\"], [1.0, \"#f0f921\"]], \"type\": \"surface\"}], \"table\": [{\"cells\": {\"fill\": {\"color\": \"#EBF0F8\"}, \"line\": {\"color\": \"white\"}}, \"header\": {\"fill\": {\"color\": \"#C8D4E3\"}, \"line\": {\"color\": \"white\"}}, \"type\": \"table\"}]}, \"layout\": {\"annotationdefaults\": {\"arrowcolor\": \"#2a3f5f\", \"arrowhead\": 0, \"arrowwidth\": 1}, \"coloraxis\": {\"colorbar\": {\"outlinewidth\": 0, \"ticks\": \"\"}}, \"colorscale\": {\"diverging\": [[0, \"#8e0152\"], [0.1, \"#c51b7d\"], [0.2, \"#de77ae\"], [0.3, \"#f1b6da\"], [0.4, \"#fde0ef\"], [0.5, \"#f7f7f7\"], [0.6, \"#e6f5d0\"], [0.7, \"#b8e186\"], [0.8, \"#7fbc41\"], [0.9, \"#4d9221\"], [1, \"#276419\"]], \"sequential\": [[0.0, \"#0d0887\"], [0.1111111111111111, \"#46039f\"], [0.2222222222222222, \"#7201a8\"], [0.3333333333333333, \"#9c179e\"], [0.4444444444444444, \"#bd3786\"], [0.5555555555555556, \"#d8576b\"], [0.6666666666666666, \"#ed7953\"], [0.7777777777777778, \"#fb9f3a\"], [0.8888888888888888, \"#fdca26\"], [1.0, \"#f0f921\"]], \"sequentialminus\": [[0.0, \"#0d0887\"], [0.1111111111111111, \"#46039f\"], [0.2222222222222222, \"#7201a8\"], [0.3333333333333333, \"#9c179e\"], [0.4444444444444444, \"#bd3786\"], [0.5555555555555556, \"#d8576b\"], [0.6666666666666666, \"#ed7953\"], [0.7777777777777778, \"#fb9f3a\"], [0.8888888888888888, \"#fdca26\"], [1.0, \"#f0f921\"]]}, \"colorway\": [\"#636efa\", \"#EF553B\", \"#00cc96\", \"#ab63fa\", \"#FFA15A\", \"#19d3f3\", \"#FF6692\", \"#B6E880\", \"#FF97FF\", \"#FECB52\"], \"font\": {\"color\": \"#2a3f5f\"}, \"geo\": {\"bgcolor\": \"white\", \"lakecolor\": \"white\", \"landcolor\": \"#E5ECF6\", \"showlakes\": true, \"showland\": true, \"subunitcolor\": \"white\"}, \"hoverlabel\": {\"align\": \"left\"}, \"hovermode\": \"closest\", \"mapbox\": {\"style\": \"light\"}, \"paper_bgcolor\": \"white\", \"plot_bgcolor\": \"#E5ECF6\", \"polar\": {\"angularaxis\": {\"gridcolor\": \"white\", \"linecolor\": \"white\", \"ticks\": \"\"}, \"bgcolor\": \"#E5ECF6\", \"radialaxis\": {\"gridcolor\": \"white\", \"linecolor\": \"white\", \"ticks\": \"\"}}, \"scene\": {\"xaxis\": {\"backgroundcolor\": \"#E5ECF6\", \"gridcolor\": \"white\", \"gridwidth\": 2, \"linecolor\": \"white\", \"showbackground\": true, \"ticks\": \"\", \"zerolinecolor\": \"white\"}, \"yaxis\": {\"backgroundcolor\": \"#E5ECF6\", \"gridcolor\": \"white\", \"gridwidth\": 2, \"linecolor\": \"white\", \"showbackground\": true, \"ticks\": \"\", \"zerolinecolor\": \"white\"}, \"zaxis\": {\"backgroundcolor\": \"#E5ECF6\", \"gridcolor\": \"white\", \"gridwidth\": 2, \"linecolor\": \"white\", \"showbackground\": true, \"ticks\": \"\", \"zerolinecolor\": \"white\"}}, \"shapedefaults\": {\"line\": {\"color\": \"#2a3f5f\"}}, \"ternary\": {\"aaxis\": {\"gridcolor\": \"white\", \"linecolor\": \"white\", \"ticks\": \"\"}, \"baxis\": {\"gridcolor\": \"white\", \"linecolor\": \"white\", \"ticks\": \"\"}, \"bgcolor\": \"#E5ECF6\", \"caxis\": {\"gridcolor\": \"white\", \"linecolor\": \"white\", \"ticks\": \"\"}}, \"title\": {\"x\": 0.05}, \"xaxis\": {\"automargin\": true, \"gridcolor\": \"white\", \"linecolor\": \"white\", \"ticks\": \"\", \"title\": {\"standoff\": 15}, \"zerolinecolor\": \"white\", \"zerolinewidth\": 2}, \"yaxis\": {\"automargin\": true, \"gridcolor\": \"white\", \"linecolor\": \"white\", \"ticks\": \"\", \"title\": {\"standoff\": 15}, \"zerolinecolor\": \"white\", \"zerolinewidth\": 2}}}},\n",
       "                        {\"responsive\": true}\n",
       "                    ).then(function(){\n",
       "                            \n",
       "var gd = document.getElementById('72351904-cbfa-480f-ab97-d4c12084504d');\n",
       "var x = new MutationObserver(function (mutations, observer) {{\n",
       "        var display = window.getComputedStyle(gd).display;\n",
       "        if (!display || display === 'none') {{\n",
       "            console.log([gd, 'removed!']);\n",
       "            Plotly.purge(gd);\n",
       "            observer.disconnect();\n",
       "        }}\n",
       "}});\n",
       "\n",
       "// Listen for the removal of the full notebook cells\n",
       "var notebookContainer = gd.closest('#notebook-container');\n",
       "if (notebookContainer) {{\n",
       "    x.observe(notebookContainer, {childList: true});\n",
       "}}\n",
       "\n",
       "// Listen for the clearing of the current output cell\n",
       "var outputEl = gd.closest('.output');\n",
       "if (outputEl) {{\n",
       "    x.observe(outputEl, {childList: true});\n",
       "}}\n",
       "\n",
       "                        })\n",
       "                };\n",
       "                });\n",
       "            </script>\n",
       "        </div>"
      ]
     },
     "metadata": {},
     "output_type": "display_data"
    }
   ],
   "source": [
    "# lets visualize the death toll based on total confirmed case\n",
    "\n",
    "import plotly.graph_objects as go\n",
    "\n",
    "\n",
    "# for grouped barplot using Deceased numbers per country and total number of cases per country.\n",
    "\n",
    "fig = go.Figure(data = [\n",
    "go.Bar(\n",
    "    x = world_df['Name'],\n",
    "    y = world_df[\"Deceased\"].head(20),\n",
    "    name = \"Deceased\",\n",
    "    marker_color = \"indianred\"\n",
    "),\n",
    "go.Bar(\n",
    "    x = world_df['Name'],\n",
    "    y = world_df['Confirmed'].head(20),\n",
    "    name = 'Confirmed',\n",
    "    marker_color = \"lightsalmon\"\n",
    ")\n",
    "])\n",
    "\n",
    "# Here we modify the tickangle of the xaxis, resulting in rotated labels.\n",
    "fig.update_layout(barmode='group')\n",
    "fig.show()"
   ]
  },
  {
   "cell_type": "markdown",
   "metadata": {},
   "source": [
    " - Here we can see the Death toll is very low as compared to confirmed cases, which is because most of the people recover from COVID-19. Early estimates predicted that the overall COVID-19 recovery rate is between 97% and 99.75%.\n",
    " - Mortality rate calculated  = 3.4% (802.318k/23.09665M)"
   ]
  },
  {
   "cell_type": "markdown",
   "metadata": {},
   "source": [
    "#### lets visualize the recovered cases based on total confirmed case"
   ]
  },
  {
   "cell_type": "code",
   "execution_count": 66,
   "metadata": {},
   "outputs": [
    {
     "data": {
      "application/vnd.plotly.v1+json": {
       "config": {
        "plotlyServerURL": "https://plot.ly"
       },
       "data": [
        {
         "marker": {
          "color": "indianred"
         },
         "name": "Recovered",
         "type": "bar",
         "x": [
          "TOTAL",
          "★  United States",
          "★  Brazil",
          "★  India",
          "★  Russia",
          "★  South Africa",
          "★  Peru",
          "★  Mexico",
          "★  Colombia",
          "★  Chile",
          "★  Spain",
          "★  Iran",
          "★  Argentina",
          "★  United Kingdom",
          "★  Saudi Arabia",
          "★  Bangladesh",
          "★  Pakistan",
          "★  France",
          "★  Italy",
          "★  Turkey",
          "★  Germany",
          "★  Iraq",
          "★  Philippines",
          "★  Indonesia",
          "★  Canada",
          "★  Qatar",
          "★  Bolivia",
          "★  Ecuador",
          "★  Ukraine",
          "★  Kazakhstan",
          "★  Israel",
          "★  Egypt",
          "★  Dominican Republic",
          "★  Sweden",
          "★  Panama",
          "★  China",
          "★  Oman",
          "★  Belgium",
          "★  Kuwait",
          "★  Romania",
          "★  Belarus",
          "★  Guatemala",
          "★  United Arab Emirates",
          "★  Netherlands",
          "★  Poland",
          "★  Japan",
          "★  Singapore",
          "★  Portugal",
          "★  Honduras",
          "★  Morocco",
          "★  Nigeria",
          "★  Bahrain",
          "★  Ghana",
          "★  Kyrgyzstan",
          "★  Armenia",
          "★  Algeria",
          "★  Ethiopia",
          "★  Switzerland",
          "★  Venezuela",
          "★  Uzbekistan",
          "★  Afghanistan",
          "★  Azerbaijan",
          "★  Costa Rica",
          "★  Moldova",
          "★  Kenya",
          "★  Nepal",
          "★  Serbia",
          "★  Ireland",
          "★  Austria",
          "★  Australia",
          "★  El Salvador",
          "★  Czechia",
          "★  Palestine",
          "★  Cameroon",
          "★  Bosnia and Herzegovina",
          "★  Ivory Coast",
          "★  South Korea",
          "★  Denmark",
          "★  Bulgaria",
          "★  Madagascar",
          "★  North Macedonia",
          "★  Paraguay",
          "★  Senegal",
          "★  Sudan",
          "★  Lebanon",
          "★  Kosovo",
          "★  Zambia",
          "★  Libya",
          "★  Norway",
          "★  DR Congo",
          "★  Malaysia",
          "★  Guinea",
          "★  French Guiana",
          "★  Greece",
          "★  Albania",
          "★  Gabon",
          "★  Tajikistan",
          "★  Croatia",
          "★  Haiti",
          "★  Finland",
          "★  Luxembourg",
          "★  Mauritania",
          "★  Maldives",
          "★  Zimbabwe",
          "★  Namibia",
          "★  Malawi",
          "★  Djibouti",
          "★  Hungary",
          "★  Equatorial Guinea",
          "★  Hong Kong",
          "★  Central African Republic",
          "★  Montenegro",
          "★  Nicaragua",
          "★  Eswatini",
          "★  Congo",
          "★  Cuba",
          "★  Suriname",
          "★  Cape Verde",
          "★  Mozambique",
          "★  Thailand",
          "★  Slovakia",
          "★  Somalia",
          "★  Mayotte",
          "★  Rwanda",
          "★  Sri Lanka",
          "★  Tunisia",
          "★  Mali",
          "★  The Gambia",
          "★  Slovenia",
          "★  Lithuania",
          "★  South Sudan",
          "★  Estonia",
          "★  Uganda",
          "★  Syria",
          "★  Angola",
          "★  Guinea-Bissau",
          "★  Benin",
          "★  Iceland",
          "★  Sierra Leone",
          "★  Yemen",
          "★  The Bahamas",
          "★  New Zealand",
          "★  Malta",
          "★  Jordan",
          "★  Aruba",
          "★  Uruguay",
          "★  Cyprus",
          "★  Jamaica",
          "★  Georgia",
          "★  Latvia",
          "★  Burkina Faso",
          "★  Botswana",
          "★  Liberia",
          "★  Togo",
          "★  Reunion",
          "★  Niger",
          "★  Andorra",
          "★  Vietnam",
          "★  Lesotho",
          "★  Chad",
          "★  Trinidad and Tobago",
          "★  Guyana",
          "★  SÃ£o TomÃ© and PrÃ­ncipe",
          "★  Guadeloupe",
          "★  San Marino",
          "★  Belize",
          "★  Channel Islands",
          "★  Tanzania",
          "★  Taiwan",
          "★  Myanmar",
          "★  Burundi",
          "★  Comoros",
          "★  Faroe Islands",
          "★  Turks and Caicos Islands",
          "★  Sint Maarten",
          "★  Papua New Guinea",
          "★  Mauritius",
          "★  Martinique",
          "★  Isle of Man",
          "★  Eritrea",
          "★  Mongolia",
          "★  French Polynesia",
          "★  Cambodia",
          "★  Gibraltar",
          "★  Cayman Islands",
          "★  Saint Martin",
          "★  Bermuda",
          "★  Barbados",
          "★  Bhutan",
          "★  Monaco",
          "★  Brunei",
          "★  Seychelles",
          "★  Liechtenstein",
          "★  Antigua and Barbuda",
          "★  Saint Vincent and the Grenadines",
          "★  Macao",
          "★  Curacao",
          "★  Fiji",
          "★  Saint Lucia",
          "★  Timor-Leste",
          "★  Grenada",
          "★  New Caledonia",
          "★  Laos",
          "★  British Virgin Islands",
          "★  Dominica",
          "★  Saint Kitts and Nevis",
          "★  Saint Barthelemy",
          "★  Greenland",
          "★  Montserrat",
          "★  Caribbean Netherlands",
          "★  Falkland Islands",
          "★  Vatican City",
          "★  Western Sahara",
          "★  Saint Pierre and Miquelon",
          "★  Anguilla"
         ],
         "y": [
          "15833462",
          "3160501",
          "2709638",
          "2336796",
          "770639",
          "506470",
          "391144",
          "380492",
          "359792",
          "371179",
          "150376",
          "309464",
          "251400",
          "Unknown",
          "280143",
          "179091",
          "275836",
          "84950",
          "205470",
          "237165"
         ]
        },
        {
         "marker": {
          "color": "lightsalmon"
         },
         "name": "Confirmed",
         "type": "bar",
         "x": [
          "TOTAL",
          "★  United States",
          "★  Brazil",
          "★  India",
          "★  Russia",
          "★  South Africa",
          "★  Peru",
          "★  Mexico",
          "★  Colombia",
          "★  Chile",
          "★  Spain",
          "★  Iran",
          "★  Argentina",
          "★  United Kingdom",
          "★  Saudi Arabia",
          "★  Bangladesh",
          "★  Pakistan",
          "★  France",
          "★  Italy",
          "★  Turkey",
          "★  Germany",
          "★  Iraq",
          "★  Philippines",
          "★  Indonesia",
          "★  Canada",
          "★  Qatar",
          "★  Bolivia",
          "★  Ecuador",
          "★  Ukraine",
          "★  Kazakhstan",
          "★  Israel",
          "★  Egypt",
          "★  Dominican Republic",
          "★  Sweden",
          "★  Panama",
          "★  China",
          "★  Oman",
          "★  Belgium",
          "★  Kuwait",
          "★  Romania",
          "★  Belarus",
          "★  Guatemala",
          "★  United Arab Emirates",
          "★  Netherlands",
          "★  Poland",
          "★  Japan",
          "★  Singapore",
          "★  Portugal",
          "★  Honduras",
          "★  Morocco",
          "★  Nigeria",
          "★  Bahrain",
          "★  Ghana",
          "★  Kyrgyzstan",
          "★  Armenia",
          "★  Algeria",
          "★  Ethiopia",
          "★  Switzerland",
          "★  Venezuela",
          "★  Uzbekistan",
          "★  Afghanistan",
          "★  Azerbaijan",
          "★  Costa Rica",
          "★  Moldova",
          "★  Kenya",
          "★  Nepal",
          "★  Serbia",
          "★  Ireland",
          "★  Austria",
          "★  Australia",
          "★  El Salvador",
          "★  Czechia",
          "★  Palestine",
          "★  Cameroon",
          "★  Bosnia and Herzegovina",
          "★  Ivory Coast",
          "★  South Korea",
          "★  Denmark",
          "★  Bulgaria",
          "★  Madagascar",
          "★  North Macedonia",
          "★  Paraguay",
          "★  Senegal",
          "★  Sudan",
          "★  Lebanon",
          "★  Kosovo",
          "★  Zambia",
          "★  Libya",
          "★  Norway",
          "★  DR Congo",
          "★  Malaysia",
          "★  Guinea",
          "★  French Guiana",
          "★  Greece",
          "★  Albania",
          "★  Gabon",
          "★  Tajikistan",
          "★  Croatia",
          "★  Haiti",
          "★  Finland",
          "★  Luxembourg",
          "★  Mauritania",
          "★  Maldives",
          "★  Zimbabwe",
          "★  Namibia",
          "★  Malawi",
          "★  Djibouti",
          "★  Hungary",
          "★  Equatorial Guinea",
          "★  Hong Kong",
          "★  Central African Republic",
          "★  Montenegro",
          "★  Nicaragua",
          "★  Eswatini",
          "★  Congo",
          "★  Cuba",
          "★  Suriname",
          "★  Cape Verde",
          "★  Mozambique",
          "★  Thailand",
          "★  Slovakia",
          "★  Somalia",
          "★  Mayotte",
          "★  Rwanda",
          "★  Sri Lanka",
          "★  Tunisia",
          "★  Mali",
          "★  The Gambia",
          "★  Slovenia",
          "★  Lithuania",
          "★  South Sudan",
          "★  Estonia",
          "★  Uganda",
          "★  Syria",
          "★  Angola",
          "★  Guinea-Bissau",
          "★  Benin",
          "★  Iceland",
          "★  Sierra Leone",
          "★  Yemen",
          "★  The Bahamas",
          "★  New Zealand",
          "★  Malta",
          "★  Jordan",
          "★  Aruba",
          "★  Uruguay",
          "★  Cyprus",
          "★  Jamaica",
          "★  Georgia",
          "★  Latvia",
          "★  Burkina Faso",
          "★  Botswana",
          "★  Liberia",
          "★  Togo",
          "★  Reunion",
          "★  Niger",
          "★  Andorra",
          "★  Vietnam",
          "★  Lesotho",
          "★  Chad",
          "★  Trinidad and Tobago",
          "★  Guyana",
          "★  SÃ£o TomÃ© and PrÃ­ncipe",
          "★  Guadeloupe",
          "★  San Marino",
          "★  Belize",
          "★  Channel Islands",
          "★  Tanzania",
          "★  Taiwan",
          "★  Myanmar",
          "★  Burundi",
          "★  Comoros",
          "★  Faroe Islands",
          "★  Turks and Caicos Islands",
          "★  Sint Maarten",
          "★  Papua New Guinea",
          "★  Mauritius",
          "★  Martinique",
          "★  Isle of Man",
          "★  Eritrea",
          "★  Mongolia",
          "★  French Polynesia",
          "★  Cambodia",
          "★  Gibraltar",
          "★  Cayman Islands",
          "★  Saint Martin",
          "★  Bermuda",
          "★  Barbados",
          "★  Bhutan",
          "★  Monaco",
          "★  Brunei",
          "★  Seychelles",
          "★  Liechtenstein",
          "★  Antigua and Barbuda",
          "★  Saint Vincent and the Grenadines",
          "★  Macao",
          "★  Curacao",
          "★  Fiji",
          "★  Saint Lucia",
          "★  Timor-Leste",
          "★  Grenada",
          "★  New Caledonia",
          "★  Laos",
          "★  British Virgin Islands",
          "★  Dominica",
          "★  Saint Kitts and Nevis",
          "★  Saint Barthelemy",
          "★  Greenland",
          "★  Montserrat",
          "★  Caribbean Netherlands",
          "★  Falkland Islands",
          "★  Vatican City",
          "★  Western Sahara",
          "★  Saint Pierre and Miquelon",
          "★  Anguilla"
         ],
         "y": [
          23545594,
          5869551,
          3605783,
          3105185,
          956749,
          609773,
          585236,
          556216,
          533103,
          397665,
          386054,
          358905,
          336802,
          325642,
          307479,
          294598,
          292765,
          260873,
          259345,
          258249
         ]
        }
       ],
       "layout": {
        "barmode": "group",
        "template": {
         "data": {
          "bar": [
           {
            "error_x": {
             "color": "#2a3f5f"
            },
            "error_y": {
             "color": "#2a3f5f"
            },
            "marker": {
             "line": {
              "color": "#E5ECF6",
              "width": 0.5
             }
            },
            "type": "bar"
           }
          ],
          "barpolar": [
           {
            "marker": {
             "line": {
              "color": "#E5ECF6",
              "width": 0.5
             }
            },
            "type": "barpolar"
           }
          ],
          "carpet": [
           {
            "aaxis": {
             "endlinecolor": "#2a3f5f",
             "gridcolor": "white",
             "linecolor": "white",
             "minorgridcolor": "white",
             "startlinecolor": "#2a3f5f"
            },
            "baxis": {
             "endlinecolor": "#2a3f5f",
             "gridcolor": "white",
             "linecolor": "white",
             "minorgridcolor": "white",
             "startlinecolor": "#2a3f5f"
            },
            "type": "carpet"
           }
          ],
          "choropleth": [
           {
            "colorbar": {
             "outlinewidth": 0,
             "ticks": ""
            },
            "type": "choropleth"
           }
          ],
          "contour": [
           {
            "colorbar": {
             "outlinewidth": 0,
             "ticks": ""
            },
            "colorscale": [
             [
              0,
              "#0d0887"
             ],
             [
              0.1111111111111111,
              "#46039f"
             ],
             [
              0.2222222222222222,
              "#7201a8"
             ],
             [
              0.3333333333333333,
              "#9c179e"
             ],
             [
              0.4444444444444444,
              "#bd3786"
             ],
             [
              0.5555555555555556,
              "#d8576b"
             ],
             [
              0.6666666666666666,
              "#ed7953"
             ],
             [
              0.7777777777777778,
              "#fb9f3a"
             ],
             [
              0.8888888888888888,
              "#fdca26"
             ],
             [
              1,
              "#f0f921"
             ]
            ],
            "type": "contour"
           }
          ],
          "contourcarpet": [
           {
            "colorbar": {
             "outlinewidth": 0,
             "ticks": ""
            },
            "type": "contourcarpet"
           }
          ],
          "heatmap": [
           {
            "colorbar": {
             "outlinewidth": 0,
             "ticks": ""
            },
            "colorscale": [
             [
              0,
              "#0d0887"
             ],
             [
              0.1111111111111111,
              "#46039f"
             ],
             [
              0.2222222222222222,
              "#7201a8"
             ],
             [
              0.3333333333333333,
              "#9c179e"
             ],
             [
              0.4444444444444444,
              "#bd3786"
             ],
             [
              0.5555555555555556,
              "#d8576b"
             ],
             [
              0.6666666666666666,
              "#ed7953"
             ],
             [
              0.7777777777777778,
              "#fb9f3a"
             ],
             [
              0.8888888888888888,
              "#fdca26"
             ],
             [
              1,
              "#f0f921"
             ]
            ],
            "type": "heatmap"
           }
          ],
          "heatmapgl": [
           {
            "colorbar": {
             "outlinewidth": 0,
             "ticks": ""
            },
            "colorscale": [
             [
              0,
              "#0d0887"
             ],
             [
              0.1111111111111111,
              "#46039f"
             ],
             [
              0.2222222222222222,
              "#7201a8"
             ],
             [
              0.3333333333333333,
              "#9c179e"
             ],
             [
              0.4444444444444444,
              "#bd3786"
             ],
             [
              0.5555555555555556,
              "#d8576b"
             ],
             [
              0.6666666666666666,
              "#ed7953"
             ],
             [
              0.7777777777777778,
              "#fb9f3a"
             ],
             [
              0.8888888888888888,
              "#fdca26"
             ],
             [
              1,
              "#f0f921"
             ]
            ],
            "type": "heatmapgl"
           }
          ],
          "histogram": [
           {
            "marker": {
             "colorbar": {
              "outlinewidth": 0,
              "ticks": ""
             }
            },
            "type": "histogram"
           }
          ],
          "histogram2d": [
           {
            "colorbar": {
             "outlinewidth": 0,
             "ticks": ""
            },
            "colorscale": [
             [
              0,
              "#0d0887"
             ],
             [
              0.1111111111111111,
              "#46039f"
             ],
             [
              0.2222222222222222,
              "#7201a8"
             ],
             [
              0.3333333333333333,
              "#9c179e"
             ],
             [
              0.4444444444444444,
              "#bd3786"
             ],
             [
              0.5555555555555556,
              "#d8576b"
             ],
             [
              0.6666666666666666,
              "#ed7953"
             ],
             [
              0.7777777777777778,
              "#fb9f3a"
             ],
             [
              0.8888888888888888,
              "#fdca26"
             ],
             [
              1,
              "#f0f921"
             ]
            ],
            "type": "histogram2d"
           }
          ],
          "histogram2dcontour": [
           {
            "colorbar": {
             "outlinewidth": 0,
             "ticks": ""
            },
            "colorscale": [
             [
              0,
              "#0d0887"
             ],
             [
              0.1111111111111111,
              "#46039f"
             ],
             [
              0.2222222222222222,
              "#7201a8"
             ],
             [
              0.3333333333333333,
              "#9c179e"
             ],
             [
              0.4444444444444444,
              "#bd3786"
             ],
             [
              0.5555555555555556,
              "#d8576b"
             ],
             [
              0.6666666666666666,
              "#ed7953"
             ],
             [
              0.7777777777777778,
              "#fb9f3a"
             ],
             [
              0.8888888888888888,
              "#fdca26"
             ],
             [
              1,
              "#f0f921"
             ]
            ],
            "type": "histogram2dcontour"
           }
          ],
          "mesh3d": [
           {
            "colorbar": {
             "outlinewidth": 0,
             "ticks": ""
            },
            "type": "mesh3d"
           }
          ],
          "parcoords": [
           {
            "line": {
             "colorbar": {
              "outlinewidth": 0,
              "ticks": ""
             }
            },
            "type": "parcoords"
           }
          ],
          "pie": [
           {
            "automargin": true,
            "type": "pie"
           }
          ],
          "scatter": [
           {
            "marker": {
             "colorbar": {
              "outlinewidth": 0,
              "ticks": ""
             }
            },
            "type": "scatter"
           }
          ],
          "scatter3d": [
           {
            "line": {
             "colorbar": {
              "outlinewidth": 0,
              "ticks": ""
             }
            },
            "marker": {
             "colorbar": {
              "outlinewidth": 0,
              "ticks": ""
             }
            },
            "type": "scatter3d"
           }
          ],
          "scattercarpet": [
           {
            "marker": {
             "colorbar": {
              "outlinewidth": 0,
              "ticks": ""
             }
            },
            "type": "scattercarpet"
           }
          ],
          "scattergeo": [
           {
            "marker": {
             "colorbar": {
              "outlinewidth": 0,
              "ticks": ""
             }
            },
            "type": "scattergeo"
           }
          ],
          "scattergl": [
           {
            "marker": {
             "colorbar": {
              "outlinewidth": 0,
              "ticks": ""
             }
            },
            "type": "scattergl"
           }
          ],
          "scattermapbox": [
           {
            "marker": {
             "colorbar": {
              "outlinewidth": 0,
              "ticks": ""
             }
            },
            "type": "scattermapbox"
           }
          ],
          "scatterpolar": [
           {
            "marker": {
             "colorbar": {
              "outlinewidth": 0,
              "ticks": ""
             }
            },
            "type": "scatterpolar"
           }
          ],
          "scatterpolargl": [
           {
            "marker": {
             "colorbar": {
              "outlinewidth": 0,
              "ticks": ""
             }
            },
            "type": "scatterpolargl"
           }
          ],
          "scatterternary": [
           {
            "marker": {
             "colorbar": {
              "outlinewidth": 0,
              "ticks": ""
             }
            },
            "type": "scatterternary"
           }
          ],
          "surface": [
           {
            "colorbar": {
             "outlinewidth": 0,
             "ticks": ""
            },
            "colorscale": [
             [
              0,
              "#0d0887"
             ],
             [
              0.1111111111111111,
              "#46039f"
             ],
             [
              0.2222222222222222,
              "#7201a8"
             ],
             [
              0.3333333333333333,
              "#9c179e"
             ],
             [
              0.4444444444444444,
              "#bd3786"
             ],
             [
              0.5555555555555556,
              "#d8576b"
             ],
             [
              0.6666666666666666,
              "#ed7953"
             ],
             [
              0.7777777777777778,
              "#fb9f3a"
             ],
             [
              0.8888888888888888,
              "#fdca26"
             ],
             [
              1,
              "#f0f921"
             ]
            ],
            "type": "surface"
           }
          ],
          "table": [
           {
            "cells": {
             "fill": {
              "color": "#EBF0F8"
             },
             "line": {
              "color": "white"
             }
            },
            "header": {
             "fill": {
              "color": "#C8D4E3"
             },
             "line": {
              "color": "white"
             }
            },
            "type": "table"
           }
          ]
         },
         "layout": {
          "annotationdefaults": {
           "arrowcolor": "#2a3f5f",
           "arrowhead": 0,
           "arrowwidth": 1
          },
          "coloraxis": {
           "colorbar": {
            "outlinewidth": 0,
            "ticks": ""
           }
          },
          "colorscale": {
           "diverging": [
            [
             0,
             "#8e0152"
            ],
            [
             0.1,
             "#c51b7d"
            ],
            [
             0.2,
             "#de77ae"
            ],
            [
             0.3,
             "#f1b6da"
            ],
            [
             0.4,
             "#fde0ef"
            ],
            [
             0.5,
             "#f7f7f7"
            ],
            [
             0.6,
             "#e6f5d0"
            ],
            [
             0.7,
             "#b8e186"
            ],
            [
             0.8,
             "#7fbc41"
            ],
            [
             0.9,
             "#4d9221"
            ],
            [
             1,
             "#276419"
            ]
           ],
           "sequential": [
            [
             0,
             "#0d0887"
            ],
            [
             0.1111111111111111,
             "#46039f"
            ],
            [
             0.2222222222222222,
             "#7201a8"
            ],
            [
             0.3333333333333333,
             "#9c179e"
            ],
            [
             0.4444444444444444,
             "#bd3786"
            ],
            [
             0.5555555555555556,
             "#d8576b"
            ],
            [
             0.6666666666666666,
             "#ed7953"
            ],
            [
             0.7777777777777778,
             "#fb9f3a"
            ],
            [
             0.8888888888888888,
             "#fdca26"
            ],
            [
             1,
             "#f0f921"
            ]
           ],
           "sequentialminus": [
            [
             0,
             "#0d0887"
            ],
            [
             0.1111111111111111,
             "#46039f"
            ],
            [
             0.2222222222222222,
             "#7201a8"
            ],
            [
             0.3333333333333333,
             "#9c179e"
            ],
            [
             0.4444444444444444,
             "#bd3786"
            ],
            [
             0.5555555555555556,
             "#d8576b"
            ],
            [
             0.6666666666666666,
             "#ed7953"
            ],
            [
             0.7777777777777778,
             "#fb9f3a"
            ],
            [
             0.8888888888888888,
             "#fdca26"
            ],
            [
             1,
             "#f0f921"
            ]
           ]
          },
          "colorway": [
           "#636efa",
           "#EF553B",
           "#00cc96",
           "#ab63fa",
           "#FFA15A",
           "#19d3f3",
           "#FF6692",
           "#B6E880",
           "#FF97FF",
           "#FECB52"
          ],
          "font": {
           "color": "#2a3f5f"
          },
          "geo": {
           "bgcolor": "white",
           "lakecolor": "white",
           "landcolor": "#E5ECF6",
           "showlakes": true,
           "showland": true,
           "subunitcolor": "white"
          },
          "hoverlabel": {
           "align": "left"
          },
          "hovermode": "closest",
          "mapbox": {
           "style": "light"
          },
          "paper_bgcolor": "white",
          "plot_bgcolor": "#E5ECF6",
          "polar": {
           "angularaxis": {
            "gridcolor": "white",
            "linecolor": "white",
            "ticks": ""
           },
           "bgcolor": "#E5ECF6",
           "radialaxis": {
            "gridcolor": "white",
            "linecolor": "white",
            "ticks": ""
           }
          },
          "scene": {
           "xaxis": {
            "backgroundcolor": "#E5ECF6",
            "gridcolor": "white",
            "gridwidth": 2,
            "linecolor": "white",
            "showbackground": true,
            "ticks": "",
            "zerolinecolor": "white"
           },
           "yaxis": {
            "backgroundcolor": "#E5ECF6",
            "gridcolor": "white",
            "gridwidth": 2,
            "linecolor": "white",
            "showbackground": true,
            "ticks": "",
            "zerolinecolor": "white"
           },
           "zaxis": {
            "backgroundcolor": "#E5ECF6",
            "gridcolor": "white",
            "gridwidth": 2,
            "linecolor": "white",
            "showbackground": true,
            "ticks": "",
            "zerolinecolor": "white"
           }
          },
          "shapedefaults": {
           "line": {
            "color": "#2a3f5f"
           }
          },
          "ternary": {
           "aaxis": {
            "gridcolor": "white",
            "linecolor": "white",
            "ticks": ""
           },
           "baxis": {
            "gridcolor": "white",
            "linecolor": "white",
            "ticks": ""
           },
           "bgcolor": "#E5ECF6",
           "caxis": {
            "gridcolor": "white",
            "linecolor": "white",
            "ticks": ""
           }
          },
          "title": {
           "x": 0.05
          },
          "xaxis": {
           "automargin": true,
           "gridcolor": "white",
           "linecolor": "white",
           "ticks": "",
           "title": {
            "standoff": 15
           },
           "zerolinecolor": "white",
           "zerolinewidth": 2
          },
          "yaxis": {
           "automargin": true,
           "gridcolor": "white",
           "linecolor": "white",
           "ticks": "",
           "title": {
            "standoff": 15
           },
           "zerolinecolor": "white",
           "zerolinewidth": 2
          }
         }
        }
       }
      },
      "text/html": [
       "<div>\n",
       "        \n",
       "        \n",
       "            <div id=\"6bc7c798-d92c-4e8f-8e4e-2ac867364cdb\" class=\"plotly-graph-div\" style=\"height:525px; width:100%;\"></div>\n",
       "            <script type=\"text/javascript\">\n",
       "                require([\"plotly\"], function(Plotly) {\n",
       "                    window.PLOTLYENV=window.PLOTLYENV || {};\n",
       "                    \n",
       "                if (document.getElementById(\"6bc7c798-d92c-4e8f-8e4e-2ac867364cdb\")) {\n",
       "                    Plotly.newPlot(\n",
       "                        '6bc7c798-d92c-4e8f-8e4e-2ac867364cdb',\n",
       "                        [{\"marker\": {\"color\": \"indianred\"}, \"name\": \"Recovered\", \"type\": \"bar\", \"x\": [\"TOTAL\", \"\\u2605  United States\", \"\\u2605  Brazil\", \"\\u2605  India\", \"\\u2605  Russia\", \"\\u2605  South Africa\", \"\\u2605  Peru\", \"\\u2605  Mexico\", \"\\u2605  Colombia\", \"\\u2605  Chile\", \"\\u2605  Spain\", \"\\u2605  Iran\", \"\\u2605  Argentina\", \"\\u2605  United Kingdom\", \"\\u2605  Saudi Arabia\", \"\\u2605  Bangladesh\", \"\\u2605  Pakistan\", \"\\u2605  France\", \"\\u2605  Italy\", \"\\u2605  Turkey\", \"\\u2605  Germany\", \"\\u2605  Iraq\", \"\\u2605  Philippines\", \"\\u2605  Indonesia\", \"\\u2605  Canada\", \"\\u2605  Qatar\", \"\\u2605  Bolivia\", \"\\u2605  Ecuador\", \"\\u2605  Ukraine\", \"\\u2605  Kazakhstan\", \"\\u2605  Israel\", \"\\u2605  Egypt\", \"\\u2605  Dominican Republic\", \"\\u2605  Sweden\", \"\\u2605  Panama\", \"\\u2605  China\", \"\\u2605  Oman\", \"\\u2605  Belgium\", \"\\u2605  Kuwait\", \"\\u2605  Romania\", \"\\u2605  Belarus\", \"\\u2605  Guatemala\", \"\\u2605  United Arab Emirates\", \"\\u2605  Netherlands\", \"\\u2605  Poland\", \"\\u2605  Japan\", \"\\u2605  Singapore\", \"\\u2605  Portugal\", \"\\u2605  Honduras\", \"\\u2605  Morocco\", \"\\u2605  Nigeria\", \"\\u2605  Bahrain\", \"\\u2605  Ghana\", \"\\u2605  Kyrgyzstan\", \"\\u2605  Armenia\", \"\\u2605  Algeria\", \"\\u2605  Ethiopia\", \"\\u2605  Switzerland\", \"\\u2605  Venezuela\", \"\\u2605  Uzbekistan\", \"\\u2605  Afghanistan\", \"\\u2605  Azerbaijan\", \"\\u2605  Costa Rica\", \"\\u2605  Moldova\", \"\\u2605  Kenya\", \"\\u2605  Nepal\", \"\\u2605  Serbia\", \"\\u2605  Ireland\", \"\\u2605  Austria\", \"\\u2605  Australia\", \"\\u2605  El Salvador\", \"\\u2605  Czechia\", \"\\u2605  Palestine\", \"\\u2605  Cameroon\", \"\\u2605  Bosnia and Herzegovina\", \"\\u2605  Ivory Coast\", \"\\u2605  South Korea\", \"\\u2605  Denmark\", \"\\u2605  Bulgaria\", \"\\u2605  Madagascar\", \"\\u2605  North Macedonia\", \"\\u2605  Paraguay\", \"\\u2605  Senegal\", \"\\u2605  Sudan\", \"\\u2605  Lebanon\", \"\\u2605  Kosovo\", \"\\u2605  Zambia\", \"\\u2605  Libya\", \"\\u2605  Norway\", \"\\u2605  DR Congo\", \"\\u2605  Malaysia\", \"\\u2605  Guinea\", \"\\u2605  French Guiana\", \"\\u2605  Greece\", \"\\u2605  Albania\", \"\\u2605  Gabon\", \"\\u2605  Tajikistan\", \"\\u2605  Croatia\", \"\\u2605  Haiti\", \"\\u2605  Finland\", \"\\u2605  Luxembourg\", \"\\u2605  Mauritania\", \"\\u2605  Maldives\", \"\\u2605  Zimbabwe\", \"\\u2605  Namibia\", \"\\u2605  Malawi\", \"\\u2605  Djibouti\", \"\\u2605  Hungary\", \"\\u2605  Equatorial Guinea\", \"\\u2605  Hong Kong\", \"\\u2605  Central African Republic\", \"\\u2605  Montenegro\", \"\\u2605  Nicaragua\", \"\\u2605  Eswatini\", \"\\u2605  Congo\", \"\\u2605  Cuba\", \"\\u2605  Suriname\", \"\\u2605  Cape Verde\", \"\\u2605  Mozambique\", \"\\u2605  Thailand\", \"\\u2605  Slovakia\", \"\\u2605  Somalia\", \"\\u2605  Mayotte\", \"\\u2605  Rwanda\", \"\\u2605  Sri Lanka\", \"\\u2605  Tunisia\", \"\\u2605  Mali\", \"\\u2605  The Gambia\", \"\\u2605  Slovenia\", \"\\u2605  Lithuania\", \"\\u2605  South Sudan\", \"\\u2605  Estonia\", \"\\u2605  Uganda\", \"\\u2605  Syria\", \"\\u2605  Angola\", \"\\u2605  Guinea-Bissau\", \"\\u2605  Benin\", \"\\u2605  Iceland\", \"\\u2605  Sierra Leone\", \"\\u2605  Yemen\", \"\\u2605  The Bahamas\", \"\\u2605  New Zealand\", \"\\u2605  Malta\", \"\\u2605  Jordan\", \"\\u2605  Aruba\", \"\\u2605  Uruguay\", \"\\u2605  Cyprus\", \"\\u2605  Jamaica\", \"\\u2605  Georgia\", \"\\u2605  Latvia\", \"\\u2605  Burkina Faso\", \"\\u2605  Botswana\", \"\\u2605  Liberia\", \"\\u2605  Togo\", \"\\u2605  Reunion\", \"\\u2605  Niger\", \"\\u2605  Andorra\", \"\\u2605  Vietnam\", \"\\u2605  Lesotho\", \"\\u2605  Chad\", \"\\u2605  Trinidad and Tobago\", \"\\u2605  Guyana\", \"\\u2605  S\\u00c3\\u00a3o Tom\\u00c3\\u00a9 and Pr\\u00c3\\u00adncipe\", \"\\u2605  Guadeloupe\", \"\\u2605  San Marino\", \"\\u2605  Belize\", \"\\u2605  Channel Islands\", \"\\u2605  Tanzania\", \"\\u2605  Taiwan\", \"\\u2605  Myanmar\", \"\\u2605  Burundi\", \"\\u2605  Comoros\", \"\\u2605  Faroe Islands\", \"\\u2605  Turks and Caicos Islands\", \"\\u2605  Sint Maarten\", \"\\u2605  Papua New Guinea\", \"\\u2605  Mauritius\", \"\\u2605  Martinique\", \"\\u2605  Isle of Man\", \"\\u2605  Eritrea\", \"\\u2605  Mongolia\", \"\\u2605  French Polynesia\", \"\\u2605  Cambodia\", \"\\u2605  Gibraltar\", \"\\u2605  Cayman Islands\", \"\\u2605  Saint Martin\", \"\\u2605  Bermuda\", \"\\u2605  Barbados\", \"\\u2605  Bhutan\", \"\\u2605  Monaco\", \"\\u2605  Brunei\", \"\\u2605  Seychelles\", \"\\u2605  Liechtenstein\", \"\\u2605  Antigua and Barbuda\", \"\\u2605  Saint Vincent and the Grenadines\", \"\\u2605  Macao\", \"\\u2605  Curacao\", \"\\u2605  Fiji\", \"\\u2605  Saint Lucia\", \"\\u2605  Timor-Leste\", \"\\u2605  Grenada\", \"\\u2605  New Caledonia\", \"\\u2605  Laos\", \"\\u2605  British Virgin Islands\", \"\\u2605  Dominica\", \"\\u2605  Saint Kitts and Nevis\", \"\\u2605  Saint Barthelemy\", \"\\u2605  Greenland\", \"\\u2605  Montserrat\", \"\\u2605  Caribbean Netherlands\", \"\\u2605  Falkland Islands\", \"\\u2605  Vatican City\", \"\\u2605  Western Sahara\", \"\\u2605  Saint Pierre and Miquelon\", \"\\u2605  Anguilla\"], \"y\": [\"15833462\", \"3160501\", \"2709638\", \"2336796\", \"770639\", \"506470\", \"391144\", \"380492\", \"359792\", \"371179\", \"150376\", \"309464\", \"251400\", \"Unknown\", \"280143\", \"179091\", \"275836\", \"84950\", \"205470\", \"237165\"]}, {\"marker\": {\"color\": \"lightsalmon\"}, \"name\": \"Confirmed\", \"type\": \"bar\", \"x\": [\"TOTAL\", \"\\u2605  United States\", \"\\u2605  Brazil\", \"\\u2605  India\", \"\\u2605  Russia\", \"\\u2605  South Africa\", \"\\u2605  Peru\", \"\\u2605  Mexico\", \"\\u2605  Colombia\", \"\\u2605  Chile\", \"\\u2605  Spain\", \"\\u2605  Iran\", \"\\u2605  Argentina\", \"\\u2605  United Kingdom\", \"\\u2605  Saudi Arabia\", \"\\u2605  Bangladesh\", \"\\u2605  Pakistan\", \"\\u2605  France\", \"\\u2605  Italy\", \"\\u2605  Turkey\", \"\\u2605  Germany\", \"\\u2605  Iraq\", \"\\u2605  Philippines\", \"\\u2605  Indonesia\", \"\\u2605  Canada\", \"\\u2605  Qatar\", \"\\u2605  Bolivia\", \"\\u2605  Ecuador\", \"\\u2605  Ukraine\", \"\\u2605  Kazakhstan\", \"\\u2605  Israel\", \"\\u2605  Egypt\", \"\\u2605  Dominican Republic\", \"\\u2605  Sweden\", \"\\u2605  Panama\", \"\\u2605  China\", \"\\u2605  Oman\", \"\\u2605  Belgium\", \"\\u2605  Kuwait\", \"\\u2605  Romania\", \"\\u2605  Belarus\", \"\\u2605  Guatemala\", \"\\u2605  United Arab Emirates\", \"\\u2605  Netherlands\", \"\\u2605  Poland\", \"\\u2605  Japan\", \"\\u2605  Singapore\", \"\\u2605  Portugal\", \"\\u2605  Honduras\", \"\\u2605  Morocco\", \"\\u2605  Nigeria\", \"\\u2605  Bahrain\", \"\\u2605  Ghana\", \"\\u2605  Kyrgyzstan\", \"\\u2605  Armenia\", \"\\u2605  Algeria\", \"\\u2605  Ethiopia\", \"\\u2605  Switzerland\", \"\\u2605  Venezuela\", \"\\u2605  Uzbekistan\", \"\\u2605  Afghanistan\", \"\\u2605  Azerbaijan\", \"\\u2605  Costa Rica\", \"\\u2605  Moldova\", \"\\u2605  Kenya\", \"\\u2605  Nepal\", \"\\u2605  Serbia\", \"\\u2605  Ireland\", \"\\u2605  Austria\", \"\\u2605  Australia\", \"\\u2605  El Salvador\", \"\\u2605  Czechia\", \"\\u2605  Palestine\", \"\\u2605  Cameroon\", \"\\u2605  Bosnia and Herzegovina\", \"\\u2605  Ivory Coast\", \"\\u2605  South Korea\", \"\\u2605  Denmark\", \"\\u2605  Bulgaria\", \"\\u2605  Madagascar\", \"\\u2605  North Macedonia\", \"\\u2605  Paraguay\", \"\\u2605  Senegal\", \"\\u2605  Sudan\", \"\\u2605  Lebanon\", \"\\u2605  Kosovo\", \"\\u2605  Zambia\", \"\\u2605  Libya\", \"\\u2605  Norway\", \"\\u2605  DR Congo\", \"\\u2605  Malaysia\", \"\\u2605  Guinea\", \"\\u2605  French Guiana\", \"\\u2605  Greece\", \"\\u2605  Albania\", \"\\u2605  Gabon\", \"\\u2605  Tajikistan\", \"\\u2605  Croatia\", \"\\u2605  Haiti\", \"\\u2605  Finland\", \"\\u2605  Luxembourg\", \"\\u2605  Mauritania\", \"\\u2605  Maldives\", \"\\u2605  Zimbabwe\", \"\\u2605  Namibia\", \"\\u2605  Malawi\", \"\\u2605  Djibouti\", \"\\u2605  Hungary\", \"\\u2605  Equatorial Guinea\", \"\\u2605  Hong Kong\", \"\\u2605  Central African Republic\", \"\\u2605  Montenegro\", \"\\u2605  Nicaragua\", \"\\u2605  Eswatini\", \"\\u2605  Congo\", \"\\u2605  Cuba\", \"\\u2605  Suriname\", \"\\u2605  Cape Verde\", \"\\u2605  Mozambique\", \"\\u2605  Thailand\", \"\\u2605  Slovakia\", \"\\u2605  Somalia\", \"\\u2605  Mayotte\", \"\\u2605  Rwanda\", \"\\u2605  Sri Lanka\", \"\\u2605  Tunisia\", \"\\u2605  Mali\", \"\\u2605  The Gambia\", \"\\u2605  Slovenia\", \"\\u2605  Lithuania\", \"\\u2605  South Sudan\", \"\\u2605  Estonia\", \"\\u2605  Uganda\", \"\\u2605  Syria\", \"\\u2605  Angola\", \"\\u2605  Guinea-Bissau\", \"\\u2605  Benin\", \"\\u2605  Iceland\", \"\\u2605  Sierra Leone\", \"\\u2605  Yemen\", \"\\u2605  The Bahamas\", \"\\u2605  New Zealand\", \"\\u2605  Malta\", \"\\u2605  Jordan\", \"\\u2605  Aruba\", \"\\u2605  Uruguay\", \"\\u2605  Cyprus\", \"\\u2605  Jamaica\", \"\\u2605  Georgia\", \"\\u2605  Latvia\", \"\\u2605  Burkina Faso\", \"\\u2605  Botswana\", \"\\u2605  Liberia\", \"\\u2605  Togo\", \"\\u2605  Reunion\", \"\\u2605  Niger\", \"\\u2605  Andorra\", \"\\u2605  Vietnam\", \"\\u2605  Lesotho\", \"\\u2605  Chad\", \"\\u2605  Trinidad and Tobago\", \"\\u2605  Guyana\", \"\\u2605  S\\u00c3\\u00a3o Tom\\u00c3\\u00a9 and Pr\\u00c3\\u00adncipe\", \"\\u2605  Guadeloupe\", \"\\u2605  San Marino\", \"\\u2605  Belize\", \"\\u2605  Channel Islands\", \"\\u2605  Tanzania\", \"\\u2605  Taiwan\", \"\\u2605  Myanmar\", \"\\u2605  Burundi\", \"\\u2605  Comoros\", \"\\u2605  Faroe Islands\", \"\\u2605  Turks and Caicos Islands\", \"\\u2605  Sint Maarten\", \"\\u2605  Papua New Guinea\", \"\\u2605  Mauritius\", \"\\u2605  Martinique\", \"\\u2605  Isle of Man\", \"\\u2605  Eritrea\", \"\\u2605  Mongolia\", \"\\u2605  French Polynesia\", \"\\u2605  Cambodia\", \"\\u2605  Gibraltar\", \"\\u2605  Cayman Islands\", \"\\u2605  Saint Martin\", \"\\u2605  Bermuda\", \"\\u2605  Barbados\", \"\\u2605  Bhutan\", \"\\u2605  Monaco\", \"\\u2605  Brunei\", \"\\u2605  Seychelles\", \"\\u2605  Liechtenstein\", \"\\u2605  Antigua and Barbuda\", \"\\u2605  Saint Vincent and the Grenadines\", \"\\u2605  Macao\", \"\\u2605  Curacao\", \"\\u2605  Fiji\", \"\\u2605  Saint Lucia\", \"\\u2605  Timor-Leste\", \"\\u2605  Grenada\", \"\\u2605  New Caledonia\", \"\\u2605  Laos\", \"\\u2605  British Virgin Islands\", \"\\u2605  Dominica\", \"\\u2605  Saint Kitts and Nevis\", \"\\u2605  Saint Barthelemy\", \"\\u2605  Greenland\", \"\\u2605  Montserrat\", \"\\u2605  Caribbean Netherlands\", \"\\u2605  Falkland Islands\", \"\\u2605  Vatican City\", \"\\u2605  Western Sahara\", \"\\u2605  Saint Pierre and Miquelon\", \"\\u2605  Anguilla\"], \"y\": [23545594, 5869551, 3605783, 3105185, 956749, 609773, 585236, 556216, 533103, 397665, 386054, 358905, 336802, 325642, 307479, 294598, 292765, 260873, 259345, 258249]}],\n",
       "                        {\"barmode\": \"group\", \"template\": {\"data\": {\"bar\": [{\"error_x\": {\"color\": \"#2a3f5f\"}, \"error_y\": {\"color\": \"#2a3f5f\"}, \"marker\": {\"line\": {\"color\": \"#E5ECF6\", \"width\": 0.5}}, \"type\": \"bar\"}], \"barpolar\": [{\"marker\": {\"line\": {\"color\": \"#E5ECF6\", \"width\": 0.5}}, \"type\": \"barpolar\"}], \"carpet\": [{\"aaxis\": {\"endlinecolor\": \"#2a3f5f\", \"gridcolor\": \"white\", \"linecolor\": \"white\", \"minorgridcolor\": \"white\", \"startlinecolor\": \"#2a3f5f\"}, \"baxis\": {\"endlinecolor\": \"#2a3f5f\", \"gridcolor\": \"white\", \"linecolor\": \"white\", \"minorgridcolor\": \"white\", \"startlinecolor\": \"#2a3f5f\"}, \"type\": \"carpet\"}], \"choropleth\": [{\"colorbar\": {\"outlinewidth\": 0, \"ticks\": \"\"}, \"type\": \"choropleth\"}], \"contour\": [{\"colorbar\": {\"outlinewidth\": 0, \"ticks\": \"\"}, \"colorscale\": [[0.0, \"#0d0887\"], [0.1111111111111111, \"#46039f\"], [0.2222222222222222, \"#7201a8\"], [0.3333333333333333, \"#9c179e\"], [0.4444444444444444, \"#bd3786\"], [0.5555555555555556, \"#d8576b\"], [0.6666666666666666, \"#ed7953\"], [0.7777777777777778, \"#fb9f3a\"], [0.8888888888888888, \"#fdca26\"], [1.0, \"#f0f921\"]], \"type\": \"contour\"}], \"contourcarpet\": [{\"colorbar\": {\"outlinewidth\": 0, \"ticks\": \"\"}, \"type\": \"contourcarpet\"}], \"heatmap\": [{\"colorbar\": {\"outlinewidth\": 0, \"ticks\": \"\"}, \"colorscale\": [[0.0, \"#0d0887\"], [0.1111111111111111, \"#46039f\"], [0.2222222222222222, \"#7201a8\"], [0.3333333333333333, \"#9c179e\"], [0.4444444444444444, \"#bd3786\"], [0.5555555555555556, \"#d8576b\"], [0.6666666666666666, \"#ed7953\"], [0.7777777777777778, \"#fb9f3a\"], [0.8888888888888888, \"#fdca26\"], [1.0, \"#f0f921\"]], \"type\": \"heatmap\"}], \"heatmapgl\": [{\"colorbar\": {\"outlinewidth\": 0, \"ticks\": \"\"}, \"colorscale\": [[0.0, \"#0d0887\"], [0.1111111111111111, \"#46039f\"], [0.2222222222222222, \"#7201a8\"], [0.3333333333333333, \"#9c179e\"], [0.4444444444444444, \"#bd3786\"], [0.5555555555555556, \"#d8576b\"], [0.6666666666666666, \"#ed7953\"], [0.7777777777777778, \"#fb9f3a\"], [0.8888888888888888, \"#fdca26\"], [1.0, \"#f0f921\"]], \"type\": \"heatmapgl\"}], \"histogram\": [{\"marker\": {\"colorbar\": {\"outlinewidth\": 0, \"ticks\": \"\"}}, \"type\": \"histogram\"}], \"histogram2d\": [{\"colorbar\": {\"outlinewidth\": 0, \"ticks\": \"\"}, \"colorscale\": [[0.0, \"#0d0887\"], [0.1111111111111111, \"#46039f\"], [0.2222222222222222, \"#7201a8\"], [0.3333333333333333, \"#9c179e\"], [0.4444444444444444, \"#bd3786\"], [0.5555555555555556, \"#d8576b\"], [0.6666666666666666, \"#ed7953\"], [0.7777777777777778, \"#fb9f3a\"], [0.8888888888888888, \"#fdca26\"], [1.0, \"#f0f921\"]], \"type\": \"histogram2d\"}], \"histogram2dcontour\": [{\"colorbar\": {\"outlinewidth\": 0, \"ticks\": \"\"}, \"colorscale\": [[0.0, \"#0d0887\"], [0.1111111111111111, \"#46039f\"], [0.2222222222222222, \"#7201a8\"], [0.3333333333333333, \"#9c179e\"], [0.4444444444444444, \"#bd3786\"], [0.5555555555555556, \"#d8576b\"], [0.6666666666666666, \"#ed7953\"], [0.7777777777777778, \"#fb9f3a\"], [0.8888888888888888, \"#fdca26\"], [1.0, \"#f0f921\"]], \"type\": \"histogram2dcontour\"}], \"mesh3d\": [{\"colorbar\": {\"outlinewidth\": 0, \"ticks\": \"\"}, \"type\": \"mesh3d\"}], \"parcoords\": [{\"line\": {\"colorbar\": {\"outlinewidth\": 0, \"ticks\": \"\"}}, \"type\": \"parcoords\"}], \"pie\": [{\"automargin\": true, \"type\": \"pie\"}], \"scatter\": [{\"marker\": {\"colorbar\": {\"outlinewidth\": 0, \"ticks\": \"\"}}, \"type\": \"scatter\"}], \"scatter3d\": [{\"line\": {\"colorbar\": {\"outlinewidth\": 0, \"ticks\": \"\"}}, \"marker\": {\"colorbar\": {\"outlinewidth\": 0, \"ticks\": \"\"}}, \"type\": \"scatter3d\"}], \"scattercarpet\": [{\"marker\": {\"colorbar\": {\"outlinewidth\": 0, \"ticks\": \"\"}}, \"type\": \"scattercarpet\"}], \"scattergeo\": [{\"marker\": {\"colorbar\": {\"outlinewidth\": 0, \"ticks\": \"\"}}, \"type\": \"scattergeo\"}], \"scattergl\": [{\"marker\": {\"colorbar\": {\"outlinewidth\": 0, \"ticks\": \"\"}}, \"type\": \"scattergl\"}], \"scattermapbox\": [{\"marker\": {\"colorbar\": {\"outlinewidth\": 0, \"ticks\": \"\"}}, \"type\": \"scattermapbox\"}], \"scatterpolar\": [{\"marker\": {\"colorbar\": {\"outlinewidth\": 0, \"ticks\": \"\"}}, \"type\": \"scatterpolar\"}], \"scatterpolargl\": [{\"marker\": {\"colorbar\": {\"outlinewidth\": 0, \"ticks\": \"\"}}, \"type\": \"scatterpolargl\"}], \"scatterternary\": [{\"marker\": {\"colorbar\": {\"outlinewidth\": 0, \"ticks\": \"\"}}, \"type\": \"scatterternary\"}], \"surface\": [{\"colorbar\": {\"outlinewidth\": 0, \"ticks\": \"\"}, \"colorscale\": [[0.0, \"#0d0887\"], [0.1111111111111111, \"#46039f\"], [0.2222222222222222, \"#7201a8\"], [0.3333333333333333, \"#9c179e\"], [0.4444444444444444, \"#bd3786\"], [0.5555555555555556, \"#d8576b\"], [0.6666666666666666, \"#ed7953\"], [0.7777777777777778, \"#fb9f3a\"], [0.8888888888888888, \"#fdca26\"], [1.0, \"#f0f921\"]], \"type\": \"surface\"}], \"table\": [{\"cells\": {\"fill\": {\"color\": \"#EBF0F8\"}, \"line\": {\"color\": \"white\"}}, \"header\": {\"fill\": {\"color\": \"#C8D4E3\"}, \"line\": {\"color\": \"white\"}}, \"type\": \"table\"}]}, \"layout\": {\"annotationdefaults\": {\"arrowcolor\": \"#2a3f5f\", \"arrowhead\": 0, \"arrowwidth\": 1}, \"coloraxis\": {\"colorbar\": {\"outlinewidth\": 0, \"ticks\": \"\"}}, \"colorscale\": {\"diverging\": [[0, \"#8e0152\"], [0.1, \"#c51b7d\"], [0.2, \"#de77ae\"], [0.3, \"#f1b6da\"], [0.4, \"#fde0ef\"], [0.5, \"#f7f7f7\"], [0.6, \"#e6f5d0\"], [0.7, \"#b8e186\"], [0.8, \"#7fbc41\"], [0.9, \"#4d9221\"], [1, \"#276419\"]], \"sequential\": [[0.0, \"#0d0887\"], [0.1111111111111111, \"#46039f\"], [0.2222222222222222, \"#7201a8\"], [0.3333333333333333, \"#9c179e\"], [0.4444444444444444, \"#bd3786\"], [0.5555555555555556, \"#d8576b\"], [0.6666666666666666, \"#ed7953\"], [0.7777777777777778, \"#fb9f3a\"], [0.8888888888888888, \"#fdca26\"], [1.0, \"#f0f921\"]], \"sequentialminus\": [[0.0, \"#0d0887\"], [0.1111111111111111, \"#46039f\"], [0.2222222222222222, \"#7201a8\"], [0.3333333333333333, \"#9c179e\"], [0.4444444444444444, \"#bd3786\"], [0.5555555555555556, \"#d8576b\"], [0.6666666666666666, \"#ed7953\"], [0.7777777777777778, \"#fb9f3a\"], [0.8888888888888888, \"#fdca26\"], [1.0, \"#f0f921\"]]}, \"colorway\": [\"#636efa\", \"#EF553B\", \"#00cc96\", \"#ab63fa\", \"#FFA15A\", \"#19d3f3\", \"#FF6692\", \"#B6E880\", \"#FF97FF\", \"#FECB52\"], \"font\": {\"color\": \"#2a3f5f\"}, \"geo\": {\"bgcolor\": \"white\", \"lakecolor\": \"white\", \"landcolor\": \"#E5ECF6\", \"showlakes\": true, \"showland\": true, \"subunitcolor\": \"white\"}, \"hoverlabel\": {\"align\": \"left\"}, \"hovermode\": \"closest\", \"mapbox\": {\"style\": \"light\"}, \"paper_bgcolor\": \"white\", \"plot_bgcolor\": \"#E5ECF6\", \"polar\": {\"angularaxis\": {\"gridcolor\": \"white\", \"linecolor\": \"white\", \"ticks\": \"\"}, \"bgcolor\": \"#E5ECF6\", \"radialaxis\": {\"gridcolor\": \"white\", \"linecolor\": \"white\", \"ticks\": \"\"}}, \"scene\": {\"xaxis\": {\"backgroundcolor\": \"#E5ECF6\", \"gridcolor\": \"white\", \"gridwidth\": 2, \"linecolor\": \"white\", \"showbackground\": true, \"ticks\": \"\", \"zerolinecolor\": \"white\"}, \"yaxis\": {\"backgroundcolor\": \"#E5ECF6\", \"gridcolor\": \"white\", \"gridwidth\": 2, \"linecolor\": \"white\", \"showbackground\": true, \"ticks\": \"\", \"zerolinecolor\": \"white\"}, \"zaxis\": {\"backgroundcolor\": \"#E5ECF6\", \"gridcolor\": \"white\", \"gridwidth\": 2, \"linecolor\": \"white\", \"showbackground\": true, \"ticks\": \"\", \"zerolinecolor\": \"white\"}}, \"shapedefaults\": {\"line\": {\"color\": \"#2a3f5f\"}}, \"ternary\": {\"aaxis\": {\"gridcolor\": \"white\", \"linecolor\": \"white\", \"ticks\": \"\"}, \"baxis\": {\"gridcolor\": \"white\", \"linecolor\": \"white\", \"ticks\": \"\"}, \"bgcolor\": \"#E5ECF6\", \"caxis\": {\"gridcolor\": \"white\", \"linecolor\": \"white\", \"ticks\": \"\"}}, \"title\": {\"x\": 0.05}, \"xaxis\": {\"automargin\": true, \"gridcolor\": \"white\", \"linecolor\": \"white\", \"ticks\": \"\", \"title\": {\"standoff\": 15}, \"zerolinecolor\": \"white\", \"zerolinewidth\": 2}, \"yaxis\": {\"automargin\": true, \"gridcolor\": \"white\", \"linecolor\": \"white\", \"ticks\": \"\", \"title\": {\"standoff\": 15}, \"zerolinecolor\": \"white\", \"zerolinewidth\": 2}}}},\n",
       "                        {\"responsive\": true}\n",
       "                    ).then(function(){\n",
       "                            \n",
       "var gd = document.getElementById('6bc7c798-d92c-4e8f-8e4e-2ac867364cdb');\n",
       "var x = new MutationObserver(function (mutations, observer) {{\n",
       "        var display = window.getComputedStyle(gd).display;\n",
       "        if (!display || display === 'none') {{\n",
       "            console.log([gd, 'removed!']);\n",
       "            Plotly.purge(gd);\n",
       "            observer.disconnect();\n",
       "        }}\n",
       "}});\n",
       "\n",
       "// Listen for the removal of the full notebook cells\n",
       "var notebookContainer = gd.closest('#notebook-container');\n",
       "if (notebookContainer) {{\n",
       "    x.observe(notebookContainer, {childList: true});\n",
       "}}\n",
       "\n",
       "// Listen for the clearing of the current output cell\n",
       "var outputEl = gd.closest('.output');\n",
       "if (outputEl) {{\n",
       "    x.observe(outputEl, {childList: true});\n",
       "}}\n",
       "\n",
       "                        })\n",
       "                };\n",
       "                });\n",
       "            </script>\n",
       "        </div>"
      ]
     },
     "metadata": {},
     "output_type": "display_data"
    }
   ],
   "source": [
    "# lets visualize the recovered case based in relation to total confirmed case\n",
    "\n",
    "import plotly.graph_objects as go\n",
    "\n",
    "\n",
    "# for grouped barplot using recovered cases per country and total number of cases per country.\n",
    "\n",
    "fig = go.Figure(data = [\n",
    "go.Bar(\n",
    "    x = world_df['Name'],\n",
    "    y = world_df[\"Recovered\"].head(20),\n",
    "    name = \"Recovered\",\n",
    "    marker_color = \"indianred\"\n",
    "),\n",
    "go.Bar(\n",
    "    x = world_df['Name'],\n",
    "    y = world_df['Confirmed'].head(20),\n",
    "    name = 'Confirmed',\n",
    "    marker_color = \"lightsalmon\"\n",
    ")\n",
    "])\n",
    "\n",
    "# Here we modify the tickangle of the xaxis, resulting in rotated labels.\n",
    "fig.update_layout(barmode='group')\n",
    "fig.show()"
   ]
  },
  {
   "cell_type": "markdown",
   "metadata": {},
   "source": [
    " - Here we can see how many person recovered in relation to total cases registered.\n",
    " - Recovery rate  = 67% (15.4827M/23.09665M), this contradicts early predicted value of recovery rate which was 97%.\n",
    " - Recovery rate and mortality rate are based on how well a country is implementing the testing of its people. <a href = \"https://www.who.int/news-room/commentaries/detail/estimating-mortality-from-covid-19\">Estimating mortality from COVID-19</a>"
   ]
  },
  {
   "cell_type": "markdown",
   "metadata": {},
   "source": [
    "#### Lets see who has implemented testing vastly."
   ]
  },
  {
   "cell_type": "code",
   "execution_count": 67,
   "metadata": {},
   "outputs": [
    {
     "data": {
      "application/vnd.plotly.v1+json": {
       "config": {
        "plotlyServerURL": "https://plot.ly"
       },
       "data": [
        {
         "alignmentgroup": "True",
         "hovertemplate": "Name=%{x}<br>Tests=%{y}<extra></extra>",
         "legendgroup": "",
         "marker": {
          "color": "#636efa"
         },
         "name": "",
         "offsetgroup": "",
         "orientation": "v",
         "showlegend": false,
         "textposition": "auto",
         "type": "bar",
         "x": [
          "TOTAL",
          "★  China",
          "★  United States",
          "★  India",
          "★  Russia",
          "★  United Kingdom",
          "★  Brazil",
          "★  Germany",
          "★  Italy",
          "★  Spain",
          "★  United Arab Emirates",
          "★  Turkey",
          "★  France",
          "★  Australia",
          "★  Canada",
          "★  Saudi Arabia",
          "★  South Africa",
          "★  Iran",
          "★  Peru",
          "★  Poland"
         ],
         "xaxis": "x",
         "y": [
          412673730,
          90410000,
          76088768,
          35292220,
          34447560,
          15177265,
          14144344,
          10197366,
          8007637,
          7955615,
          6418188,
          6327466,
          6000000,
          5706078,
          5076734,
          4501104,
          3553425,
          3036711,
          2950589,
          2538761
         ],
         "yaxis": "y"
        }
       ],
       "layout": {
        "barmode": "relative",
        "legend": {
         "tracegroupgap": 0
        },
        "margin": {
         "t": 60
        },
        "template": {
         "data": {
          "bar": [
           {
            "error_x": {
             "color": "#2a3f5f"
            },
            "error_y": {
             "color": "#2a3f5f"
            },
            "marker": {
             "line": {
              "color": "#E5ECF6",
              "width": 0.5
             }
            },
            "type": "bar"
           }
          ],
          "barpolar": [
           {
            "marker": {
             "line": {
              "color": "#E5ECF6",
              "width": 0.5
             }
            },
            "type": "barpolar"
           }
          ],
          "carpet": [
           {
            "aaxis": {
             "endlinecolor": "#2a3f5f",
             "gridcolor": "white",
             "linecolor": "white",
             "minorgridcolor": "white",
             "startlinecolor": "#2a3f5f"
            },
            "baxis": {
             "endlinecolor": "#2a3f5f",
             "gridcolor": "white",
             "linecolor": "white",
             "minorgridcolor": "white",
             "startlinecolor": "#2a3f5f"
            },
            "type": "carpet"
           }
          ],
          "choropleth": [
           {
            "colorbar": {
             "outlinewidth": 0,
             "ticks": ""
            },
            "type": "choropleth"
           }
          ],
          "contour": [
           {
            "colorbar": {
             "outlinewidth": 0,
             "ticks": ""
            },
            "colorscale": [
             [
              0,
              "#0d0887"
             ],
             [
              0.1111111111111111,
              "#46039f"
             ],
             [
              0.2222222222222222,
              "#7201a8"
             ],
             [
              0.3333333333333333,
              "#9c179e"
             ],
             [
              0.4444444444444444,
              "#bd3786"
             ],
             [
              0.5555555555555556,
              "#d8576b"
             ],
             [
              0.6666666666666666,
              "#ed7953"
             ],
             [
              0.7777777777777778,
              "#fb9f3a"
             ],
             [
              0.8888888888888888,
              "#fdca26"
             ],
             [
              1,
              "#f0f921"
             ]
            ],
            "type": "contour"
           }
          ],
          "contourcarpet": [
           {
            "colorbar": {
             "outlinewidth": 0,
             "ticks": ""
            },
            "type": "contourcarpet"
           }
          ],
          "heatmap": [
           {
            "colorbar": {
             "outlinewidth": 0,
             "ticks": ""
            },
            "colorscale": [
             [
              0,
              "#0d0887"
             ],
             [
              0.1111111111111111,
              "#46039f"
             ],
             [
              0.2222222222222222,
              "#7201a8"
             ],
             [
              0.3333333333333333,
              "#9c179e"
             ],
             [
              0.4444444444444444,
              "#bd3786"
             ],
             [
              0.5555555555555556,
              "#d8576b"
             ],
             [
              0.6666666666666666,
              "#ed7953"
             ],
             [
              0.7777777777777778,
              "#fb9f3a"
             ],
             [
              0.8888888888888888,
              "#fdca26"
             ],
             [
              1,
              "#f0f921"
             ]
            ],
            "type": "heatmap"
           }
          ],
          "heatmapgl": [
           {
            "colorbar": {
             "outlinewidth": 0,
             "ticks": ""
            },
            "colorscale": [
             [
              0,
              "#0d0887"
             ],
             [
              0.1111111111111111,
              "#46039f"
             ],
             [
              0.2222222222222222,
              "#7201a8"
             ],
             [
              0.3333333333333333,
              "#9c179e"
             ],
             [
              0.4444444444444444,
              "#bd3786"
             ],
             [
              0.5555555555555556,
              "#d8576b"
             ],
             [
              0.6666666666666666,
              "#ed7953"
             ],
             [
              0.7777777777777778,
              "#fb9f3a"
             ],
             [
              0.8888888888888888,
              "#fdca26"
             ],
             [
              1,
              "#f0f921"
             ]
            ],
            "type": "heatmapgl"
           }
          ],
          "histogram": [
           {
            "marker": {
             "colorbar": {
              "outlinewidth": 0,
              "ticks": ""
             }
            },
            "type": "histogram"
           }
          ],
          "histogram2d": [
           {
            "colorbar": {
             "outlinewidth": 0,
             "ticks": ""
            },
            "colorscale": [
             [
              0,
              "#0d0887"
             ],
             [
              0.1111111111111111,
              "#46039f"
             ],
             [
              0.2222222222222222,
              "#7201a8"
             ],
             [
              0.3333333333333333,
              "#9c179e"
             ],
             [
              0.4444444444444444,
              "#bd3786"
             ],
             [
              0.5555555555555556,
              "#d8576b"
             ],
             [
              0.6666666666666666,
              "#ed7953"
             ],
             [
              0.7777777777777778,
              "#fb9f3a"
             ],
             [
              0.8888888888888888,
              "#fdca26"
             ],
             [
              1,
              "#f0f921"
             ]
            ],
            "type": "histogram2d"
           }
          ],
          "histogram2dcontour": [
           {
            "colorbar": {
             "outlinewidth": 0,
             "ticks": ""
            },
            "colorscale": [
             [
              0,
              "#0d0887"
             ],
             [
              0.1111111111111111,
              "#46039f"
             ],
             [
              0.2222222222222222,
              "#7201a8"
             ],
             [
              0.3333333333333333,
              "#9c179e"
             ],
             [
              0.4444444444444444,
              "#bd3786"
             ],
             [
              0.5555555555555556,
              "#d8576b"
             ],
             [
              0.6666666666666666,
              "#ed7953"
             ],
             [
              0.7777777777777778,
              "#fb9f3a"
             ],
             [
              0.8888888888888888,
              "#fdca26"
             ],
             [
              1,
              "#f0f921"
             ]
            ],
            "type": "histogram2dcontour"
           }
          ],
          "mesh3d": [
           {
            "colorbar": {
             "outlinewidth": 0,
             "ticks": ""
            },
            "type": "mesh3d"
           }
          ],
          "parcoords": [
           {
            "line": {
             "colorbar": {
              "outlinewidth": 0,
              "ticks": ""
             }
            },
            "type": "parcoords"
           }
          ],
          "pie": [
           {
            "automargin": true,
            "type": "pie"
           }
          ],
          "scatter": [
           {
            "marker": {
             "colorbar": {
              "outlinewidth": 0,
              "ticks": ""
             }
            },
            "type": "scatter"
           }
          ],
          "scatter3d": [
           {
            "line": {
             "colorbar": {
              "outlinewidth": 0,
              "ticks": ""
             }
            },
            "marker": {
             "colorbar": {
              "outlinewidth": 0,
              "ticks": ""
             }
            },
            "type": "scatter3d"
           }
          ],
          "scattercarpet": [
           {
            "marker": {
             "colorbar": {
              "outlinewidth": 0,
              "ticks": ""
             }
            },
            "type": "scattercarpet"
           }
          ],
          "scattergeo": [
           {
            "marker": {
             "colorbar": {
              "outlinewidth": 0,
              "ticks": ""
             }
            },
            "type": "scattergeo"
           }
          ],
          "scattergl": [
           {
            "marker": {
             "colorbar": {
              "outlinewidth": 0,
              "ticks": ""
             }
            },
            "type": "scattergl"
           }
          ],
          "scattermapbox": [
           {
            "marker": {
             "colorbar": {
              "outlinewidth": 0,
              "ticks": ""
             }
            },
            "type": "scattermapbox"
           }
          ],
          "scatterpolar": [
           {
            "marker": {
             "colorbar": {
              "outlinewidth": 0,
              "ticks": ""
             }
            },
            "type": "scatterpolar"
           }
          ],
          "scatterpolargl": [
           {
            "marker": {
             "colorbar": {
              "outlinewidth": 0,
              "ticks": ""
             }
            },
            "type": "scatterpolargl"
           }
          ],
          "scatterternary": [
           {
            "marker": {
             "colorbar": {
              "outlinewidth": 0,
              "ticks": ""
             }
            },
            "type": "scatterternary"
           }
          ],
          "surface": [
           {
            "colorbar": {
             "outlinewidth": 0,
             "ticks": ""
            },
            "colorscale": [
             [
              0,
              "#0d0887"
             ],
             [
              0.1111111111111111,
              "#46039f"
             ],
             [
              0.2222222222222222,
              "#7201a8"
             ],
             [
              0.3333333333333333,
              "#9c179e"
             ],
             [
              0.4444444444444444,
              "#bd3786"
             ],
             [
              0.5555555555555556,
              "#d8576b"
             ],
             [
              0.6666666666666666,
              "#ed7953"
             ],
             [
              0.7777777777777778,
              "#fb9f3a"
             ],
             [
              0.8888888888888888,
              "#fdca26"
             ],
             [
              1,
              "#f0f921"
             ]
            ],
            "type": "surface"
           }
          ],
          "table": [
           {
            "cells": {
             "fill": {
              "color": "#EBF0F8"
             },
             "line": {
              "color": "white"
             }
            },
            "header": {
             "fill": {
              "color": "#C8D4E3"
             },
             "line": {
              "color": "white"
             }
            },
            "type": "table"
           }
          ]
         },
         "layout": {
          "annotationdefaults": {
           "arrowcolor": "#2a3f5f",
           "arrowhead": 0,
           "arrowwidth": 1
          },
          "coloraxis": {
           "colorbar": {
            "outlinewidth": 0,
            "ticks": ""
           }
          },
          "colorscale": {
           "diverging": [
            [
             0,
             "#8e0152"
            ],
            [
             0.1,
             "#c51b7d"
            ],
            [
             0.2,
             "#de77ae"
            ],
            [
             0.3,
             "#f1b6da"
            ],
            [
             0.4,
             "#fde0ef"
            ],
            [
             0.5,
             "#f7f7f7"
            ],
            [
             0.6,
             "#e6f5d0"
            ],
            [
             0.7,
             "#b8e186"
            ],
            [
             0.8,
             "#7fbc41"
            ],
            [
             0.9,
             "#4d9221"
            ],
            [
             1,
             "#276419"
            ]
           ],
           "sequential": [
            [
             0,
             "#0d0887"
            ],
            [
             0.1111111111111111,
             "#46039f"
            ],
            [
             0.2222222222222222,
             "#7201a8"
            ],
            [
             0.3333333333333333,
             "#9c179e"
            ],
            [
             0.4444444444444444,
             "#bd3786"
            ],
            [
             0.5555555555555556,
             "#d8576b"
            ],
            [
             0.6666666666666666,
             "#ed7953"
            ],
            [
             0.7777777777777778,
             "#fb9f3a"
            ],
            [
             0.8888888888888888,
             "#fdca26"
            ],
            [
             1,
             "#f0f921"
            ]
           ],
           "sequentialminus": [
            [
             0,
             "#0d0887"
            ],
            [
             0.1111111111111111,
             "#46039f"
            ],
            [
             0.2222222222222222,
             "#7201a8"
            ],
            [
             0.3333333333333333,
             "#9c179e"
            ],
            [
             0.4444444444444444,
             "#bd3786"
            ],
            [
             0.5555555555555556,
             "#d8576b"
            ],
            [
             0.6666666666666666,
             "#ed7953"
            ],
            [
             0.7777777777777778,
             "#fb9f3a"
            ],
            [
             0.8888888888888888,
             "#fdca26"
            ],
            [
             1,
             "#f0f921"
            ]
           ]
          },
          "colorway": [
           "#636efa",
           "#EF553B",
           "#00cc96",
           "#ab63fa",
           "#FFA15A",
           "#19d3f3",
           "#FF6692",
           "#B6E880",
           "#FF97FF",
           "#FECB52"
          ],
          "font": {
           "color": "#2a3f5f"
          },
          "geo": {
           "bgcolor": "white",
           "lakecolor": "white",
           "landcolor": "#E5ECF6",
           "showlakes": true,
           "showland": true,
           "subunitcolor": "white"
          },
          "hoverlabel": {
           "align": "left"
          },
          "hovermode": "closest",
          "mapbox": {
           "style": "light"
          },
          "paper_bgcolor": "white",
          "plot_bgcolor": "#E5ECF6",
          "polar": {
           "angularaxis": {
            "gridcolor": "white",
            "linecolor": "white",
            "ticks": ""
           },
           "bgcolor": "#E5ECF6",
           "radialaxis": {
            "gridcolor": "white",
            "linecolor": "white",
            "ticks": ""
           }
          },
          "scene": {
           "xaxis": {
            "backgroundcolor": "#E5ECF6",
            "gridcolor": "white",
            "gridwidth": 2,
            "linecolor": "white",
            "showbackground": true,
            "ticks": "",
            "zerolinecolor": "white"
           },
           "yaxis": {
            "backgroundcolor": "#E5ECF6",
            "gridcolor": "white",
            "gridwidth": 2,
            "linecolor": "white",
            "showbackground": true,
            "ticks": "",
            "zerolinecolor": "white"
           },
           "zaxis": {
            "backgroundcolor": "#E5ECF6",
            "gridcolor": "white",
            "gridwidth": 2,
            "linecolor": "white",
            "showbackground": true,
            "ticks": "",
            "zerolinecolor": "white"
           }
          },
          "shapedefaults": {
           "line": {
            "color": "#2a3f5f"
           }
          },
          "ternary": {
           "aaxis": {
            "gridcolor": "white",
            "linecolor": "white",
            "ticks": ""
           },
           "baxis": {
            "gridcolor": "white",
            "linecolor": "white",
            "ticks": ""
           },
           "bgcolor": "#E5ECF6",
           "caxis": {
            "gridcolor": "white",
            "linecolor": "white",
            "ticks": ""
           }
          },
          "title": {
           "x": 0.05
          },
          "xaxis": {
           "automargin": true,
           "gridcolor": "white",
           "linecolor": "white",
           "ticks": "",
           "title": {
            "standoff": 15
           },
           "zerolinecolor": "white",
           "zerolinewidth": 2
          },
          "yaxis": {
           "automargin": true,
           "gridcolor": "white",
           "linecolor": "white",
           "ticks": "",
           "title": {
            "standoff": 15
           },
           "zerolinecolor": "white",
           "zerolinewidth": 2
          }
         }
        },
        "xaxis": {
         "anchor": "y",
         "domain": [
          0,
          1
         ],
         "title": {
          "text": "Name"
         }
        },
        "yaxis": {
         "anchor": "x",
         "domain": [
          0,
          1
         ],
         "title": {
          "text": "Tests"
         }
        }
       }
      },
      "text/html": [
       "<div>\n",
       "        \n",
       "        \n",
       "            <div id=\"9b7f3bbc-d719-4242-b5cf-0c488799904c\" class=\"plotly-graph-div\" style=\"height:525px; width:100%;\"></div>\n",
       "            <script type=\"text/javascript\">\n",
       "                require([\"plotly\"], function(Plotly) {\n",
       "                    window.PLOTLYENV=window.PLOTLYENV || {};\n",
       "                    \n",
       "                if (document.getElementById(\"9b7f3bbc-d719-4242-b5cf-0c488799904c\")) {\n",
       "                    Plotly.newPlot(\n",
       "                        '9b7f3bbc-d719-4242-b5cf-0c488799904c',\n",
       "                        [{\"alignmentgroup\": \"True\", \"hovertemplate\": \"Name=%{x}<br>Tests=%{y}<extra></extra>\", \"legendgroup\": \"\", \"marker\": {\"color\": \"#636efa\"}, \"name\": \"\", \"offsetgroup\": \"\", \"orientation\": \"v\", \"showlegend\": false, \"textposition\": \"auto\", \"type\": \"bar\", \"x\": [\"TOTAL\", \"\\u2605  China\", \"\\u2605  United States\", \"\\u2605  India\", \"\\u2605  Russia\", \"\\u2605  United Kingdom\", \"\\u2605  Brazil\", \"\\u2605  Germany\", \"\\u2605  Italy\", \"\\u2605  Spain\", \"\\u2605  United Arab Emirates\", \"\\u2605  Turkey\", \"\\u2605  France\", \"\\u2605  Australia\", \"\\u2605  Canada\", \"\\u2605  Saudi Arabia\", \"\\u2605  South Africa\", \"\\u2605  Iran\", \"\\u2605  Peru\", \"\\u2605  Poland\"], \"xaxis\": \"x\", \"y\": [412673730, 90410000, 76088768, 35292220, 34447560, 15177265, 14144344, 10197366, 8007637, 7955615, 6418188, 6327466, 6000000, 5706078, 5076734, 4501104, 3553425, 3036711, 2950589, 2538761], \"yaxis\": \"y\"}],\n",
       "                        {\"barmode\": \"relative\", \"legend\": {\"tracegroupgap\": 0}, \"margin\": {\"t\": 60}, \"template\": {\"data\": {\"bar\": [{\"error_x\": {\"color\": \"#2a3f5f\"}, \"error_y\": {\"color\": \"#2a3f5f\"}, \"marker\": {\"line\": {\"color\": \"#E5ECF6\", \"width\": 0.5}}, \"type\": \"bar\"}], \"barpolar\": [{\"marker\": {\"line\": {\"color\": \"#E5ECF6\", \"width\": 0.5}}, \"type\": \"barpolar\"}], \"carpet\": [{\"aaxis\": {\"endlinecolor\": \"#2a3f5f\", \"gridcolor\": \"white\", \"linecolor\": \"white\", \"minorgridcolor\": \"white\", \"startlinecolor\": \"#2a3f5f\"}, \"baxis\": {\"endlinecolor\": \"#2a3f5f\", \"gridcolor\": \"white\", \"linecolor\": \"white\", \"minorgridcolor\": \"white\", \"startlinecolor\": \"#2a3f5f\"}, \"type\": \"carpet\"}], \"choropleth\": [{\"colorbar\": {\"outlinewidth\": 0, \"ticks\": \"\"}, \"type\": \"choropleth\"}], \"contour\": [{\"colorbar\": {\"outlinewidth\": 0, \"ticks\": \"\"}, \"colorscale\": [[0.0, \"#0d0887\"], [0.1111111111111111, \"#46039f\"], [0.2222222222222222, \"#7201a8\"], [0.3333333333333333, \"#9c179e\"], [0.4444444444444444, \"#bd3786\"], [0.5555555555555556, \"#d8576b\"], [0.6666666666666666, \"#ed7953\"], [0.7777777777777778, \"#fb9f3a\"], [0.8888888888888888, \"#fdca26\"], [1.0, \"#f0f921\"]], \"type\": \"contour\"}], \"contourcarpet\": [{\"colorbar\": {\"outlinewidth\": 0, \"ticks\": \"\"}, \"type\": \"contourcarpet\"}], \"heatmap\": [{\"colorbar\": {\"outlinewidth\": 0, \"ticks\": \"\"}, \"colorscale\": [[0.0, \"#0d0887\"], [0.1111111111111111, \"#46039f\"], [0.2222222222222222, \"#7201a8\"], [0.3333333333333333, \"#9c179e\"], [0.4444444444444444, \"#bd3786\"], [0.5555555555555556, \"#d8576b\"], [0.6666666666666666, \"#ed7953\"], [0.7777777777777778, \"#fb9f3a\"], [0.8888888888888888, \"#fdca26\"], [1.0, \"#f0f921\"]], \"type\": \"heatmap\"}], \"heatmapgl\": [{\"colorbar\": {\"outlinewidth\": 0, \"ticks\": \"\"}, \"colorscale\": [[0.0, \"#0d0887\"], [0.1111111111111111, \"#46039f\"], [0.2222222222222222, \"#7201a8\"], [0.3333333333333333, \"#9c179e\"], [0.4444444444444444, \"#bd3786\"], [0.5555555555555556, \"#d8576b\"], [0.6666666666666666, \"#ed7953\"], [0.7777777777777778, \"#fb9f3a\"], [0.8888888888888888, \"#fdca26\"], [1.0, \"#f0f921\"]], \"type\": \"heatmapgl\"}], \"histogram\": [{\"marker\": {\"colorbar\": {\"outlinewidth\": 0, \"ticks\": \"\"}}, \"type\": \"histogram\"}], \"histogram2d\": [{\"colorbar\": {\"outlinewidth\": 0, \"ticks\": \"\"}, \"colorscale\": [[0.0, \"#0d0887\"], [0.1111111111111111, \"#46039f\"], [0.2222222222222222, \"#7201a8\"], [0.3333333333333333, \"#9c179e\"], [0.4444444444444444, \"#bd3786\"], [0.5555555555555556, \"#d8576b\"], [0.6666666666666666, \"#ed7953\"], [0.7777777777777778, \"#fb9f3a\"], [0.8888888888888888, \"#fdca26\"], [1.0, \"#f0f921\"]], \"type\": \"histogram2d\"}], \"histogram2dcontour\": [{\"colorbar\": {\"outlinewidth\": 0, \"ticks\": \"\"}, \"colorscale\": [[0.0, \"#0d0887\"], [0.1111111111111111, \"#46039f\"], [0.2222222222222222, \"#7201a8\"], [0.3333333333333333, \"#9c179e\"], [0.4444444444444444, \"#bd3786\"], [0.5555555555555556, \"#d8576b\"], [0.6666666666666666, \"#ed7953\"], [0.7777777777777778, \"#fb9f3a\"], [0.8888888888888888, \"#fdca26\"], [1.0, \"#f0f921\"]], \"type\": \"histogram2dcontour\"}], \"mesh3d\": [{\"colorbar\": {\"outlinewidth\": 0, \"ticks\": \"\"}, \"type\": \"mesh3d\"}], \"parcoords\": [{\"line\": {\"colorbar\": {\"outlinewidth\": 0, \"ticks\": \"\"}}, \"type\": \"parcoords\"}], \"pie\": [{\"automargin\": true, \"type\": \"pie\"}], \"scatter\": [{\"marker\": {\"colorbar\": {\"outlinewidth\": 0, \"ticks\": \"\"}}, \"type\": \"scatter\"}], \"scatter3d\": [{\"line\": {\"colorbar\": {\"outlinewidth\": 0, \"ticks\": \"\"}}, \"marker\": {\"colorbar\": {\"outlinewidth\": 0, \"ticks\": \"\"}}, \"type\": \"scatter3d\"}], \"scattercarpet\": [{\"marker\": {\"colorbar\": {\"outlinewidth\": 0, \"ticks\": \"\"}}, \"type\": \"scattercarpet\"}], \"scattergeo\": [{\"marker\": {\"colorbar\": {\"outlinewidth\": 0, \"ticks\": \"\"}}, \"type\": \"scattergeo\"}], \"scattergl\": [{\"marker\": {\"colorbar\": {\"outlinewidth\": 0, \"ticks\": \"\"}}, \"type\": \"scattergl\"}], \"scattermapbox\": [{\"marker\": {\"colorbar\": {\"outlinewidth\": 0, \"ticks\": \"\"}}, \"type\": \"scattermapbox\"}], \"scatterpolar\": [{\"marker\": {\"colorbar\": {\"outlinewidth\": 0, \"ticks\": \"\"}}, \"type\": \"scatterpolar\"}], \"scatterpolargl\": [{\"marker\": {\"colorbar\": {\"outlinewidth\": 0, \"ticks\": \"\"}}, \"type\": \"scatterpolargl\"}], \"scatterternary\": [{\"marker\": {\"colorbar\": {\"outlinewidth\": 0, \"ticks\": \"\"}}, \"type\": \"scatterternary\"}], \"surface\": [{\"colorbar\": {\"outlinewidth\": 0, \"ticks\": \"\"}, \"colorscale\": [[0.0, \"#0d0887\"], [0.1111111111111111, \"#46039f\"], [0.2222222222222222, \"#7201a8\"], [0.3333333333333333, \"#9c179e\"], [0.4444444444444444, \"#bd3786\"], [0.5555555555555556, \"#d8576b\"], [0.6666666666666666, \"#ed7953\"], [0.7777777777777778, \"#fb9f3a\"], [0.8888888888888888, \"#fdca26\"], [1.0, \"#f0f921\"]], \"type\": \"surface\"}], \"table\": [{\"cells\": {\"fill\": {\"color\": \"#EBF0F8\"}, \"line\": {\"color\": \"white\"}}, \"header\": {\"fill\": {\"color\": \"#C8D4E3\"}, \"line\": {\"color\": \"white\"}}, \"type\": \"table\"}]}, \"layout\": {\"annotationdefaults\": {\"arrowcolor\": \"#2a3f5f\", \"arrowhead\": 0, \"arrowwidth\": 1}, \"coloraxis\": {\"colorbar\": {\"outlinewidth\": 0, \"ticks\": \"\"}}, \"colorscale\": {\"diverging\": [[0, \"#8e0152\"], [0.1, \"#c51b7d\"], [0.2, \"#de77ae\"], [0.3, \"#f1b6da\"], [0.4, \"#fde0ef\"], [0.5, \"#f7f7f7\"], [0.6, \"#e6f5d0\"], [0.7, \"#b8e186\"], [0.8, \"#7fbc41\"], [0.9, \"#4d9221\"], [1, \"#276419\"]], \"sequential\": [[0.0, \"#0d0887\"], [0.1111111111111111, \"#46039f\"], [0.2222222222222222, \"#7201a8\"], [0.3333333333333333, \"#9c179e\"], [0.4444444444444444, \"#bd3786\"], [0.5555555555555556, \"#d8576b\"], [0.6666666666666666, \"#ed7953\"], [0.7777777777777778, \"#fb9f3a\"], [0.8888888888888888, \"#fdca26\"], [1.0, \"#f0f921\"]], \"sequentialminus\": [[0.0, \"#0d0887\"], [0.1111111111111111, \"#46039f\"], [0.2222222222222222, \"#7201a8\"], [0.3333333333333333, \"#9c179e\"], [0.4444444444444444, \"#bd3786\"], [0.5555555555555556, \"#d8576b\"], [0.6666666666666666, \"#ed7953\"], [0.7777777777777778, \"#fb9f3a\"], [0.8888888888888888, \"#fdca26\"], [1.0, \"#f0f921\"]]}, \"colorway\": [\"#636efa\", \"#EF553B\", \"#00cc96\", \"#ab63fa\", \"#FFA15A\", \"#19d3f3\", \"#FF6692\", \"#B6E880\", \"#FF97FF\", \"#FECB52\"], \"font\": {\"color\": \"#2a3f5f\"}, \"geo\": {\"bgcolor\": \"white\", \"lakecolor\": \"white\", \"landcolor\": \"#E5ECF6\", \"showlakes\": true, \"showland\": true, \"subunitcolor\": \"white\"}, \"hoverlabel\": {\"align\": \"left\"}, \"hovermode\": \"closest\", \"mapbox\": {\"style\": \"light\"}, \"paper_bgcolor\": \"white\", \"plot_bgcolor\": \"#E5ECF6\", \"polar\": {\"angularaxis\": {\"gridcolor\": \"white\", \"linecolor\": \"white\", \"ticks\": \"\"}, \"bgcolor\": \"#E5ECF6\", \"radialaxis\": {\"gridcolor\": \"white\", \"linecolor\": \"white\", \"ticks\": \"\"}}, \"scene\": {\"xaxis\": {\"backgroundcolor\": \"#E5ECF6\", \"gridcolor\": \"white\", \"gridwidth\": 2, \"linecolor\": \"white\", \"showbackground\": true, \"ticks\": \"\", \"zerolinecolor\": \"white\"}, \"yaxis\": {\"backgroundcolor\": \"#E5ECF6\", \"gridcolor\": \"white\", \"gridwidth\": 2, \"linecolor\": \"white\", \"showbackground\": true, \"ticks\": \"\", \"zerolinecolor\": \"white\"}, \"zaxis\": {\"backgroundcolor\": \"#E5ECF6\", \"gridcolor\": \"white\", \"gridwidth\": 2, \"linecolor\": \"white\", \"showbackground\": true, \"ticks\": \"\", \"zerolinecolor\": \"white\"}}, \"shapedefaults\": {\"line\": {\"color\": \"#2a3f5f\"}}, \"ternary\": {\"aaxis\": {\"gridcolor\": \"white\", \"linecolor\": \"white\", \"ticks\": \"\"}, \"baxis\": {\"gridcolor\": \"white\", \"linecolor\": \"white\", \"ticks\": \"\"}, \"bgcolor\": \"#E5ECF6\", \"caxis\": {\"gridcolor\": \"white\", \"linecolor\": \"white\", \"ticks\": \"\"}}, \"title\": {\"x\": 0.05}, \"xaxis\": {\"automargin\": true, \"gridcolor\": \"white\", \"linecolor\": \"white\", \"ticks\": \"\", \"title\": {\"standoff\": 15}, \"zerolinecolor\": \"white\", \"zerolinewidth\": 2}, \"yaxis\": {\"automargin\": true, \"gridcolor\": \"white\", \"linecolor\": \"white\", \"ticks\": \"\", \"title\": {\"standoff\": 15}, \"zerolinecolor\": \"white\", \"zerolinewidth\": 2}}}, \"xaxis\": {\"anchor\": \"y\", \"domain\": [0.0, 1.0], \"title\": {\"text\": \"Name\"}}, \"yaxis\": {\"anchor\": \"x\", \"domain\": [0.0, 1.0], \"title\": {\"text\": \"Tests\"}}},\n",
       "                        {\"responsive\": true}\n",
       "                    ).then(function(){\n",
       "                            \n",
       "var gd = document.getElementById('9b7f3bbc-d719-4242-b5cf-0c488799904c');\n",
       "var x = new MutationObserver(function (mutations, observer) {{\n",
       "        var display = window.getComputedStyle(gd).display;\n",
       "        if (!display || display === 'none') {{\n",
       "            console.log([gd, 'removed!']);\n",
       "            Plotly.purge(gd);\n",
       "            observer.disconnect();\n",
       "        }}\n",
       "}});\n",
       "\n",
       "// Listen for the removal of the full notebook cells\n",
       "var notebookContainer = gd.closest('#notebook-container');\n",
       "if (notebookContainer) {{\n",
       "    x.observe(notebookContainer, {childList: true});\n",
       "}}\n",
       "\n",
       "// Listen for the clearing of the current output cell\n",
       "var outputEl = gd.closest('.output');\n",
       "if (outputEl) {{\n",
       "    x.observe(outputEl, {childList: true});\n",
       "}}\n",
       "\n",
       "                        })\n",
       "                };\n",
       "                });\n",
       "            </script>\n",
       "        </div>"
      ]
     },
     "metadata": {},
     "output_type": "display_data"
    }
   ],
   "source": [
    "# replace unknown values from the column\n",
    "\n",
    "world_df['Tests'].replace(\"Unknown\", 0, inplace=True)\n",
    "world_df['Tests'] = pd.to_numeric(world_df['Tests'])          #convert column from type object to int64\n",
    "\n",
    "\n",
    "\n",
    "#Now lets plot the data\n",
    "\n",
    "world_fig = px.bar(world_df.sort_values('Tests', ascending=False).head(20), x = 'Name' , y = 'Tests')\n",
    "world_fig.show()"
   ]
  },
  {
   "cell_type": "markdown",
   "metadata": {},
   "source": [
    " - China on first position that was unexpected. I was expecting United States.\n",
    " - As you can see the countries who are vastly testing their people have a upper hand on curbing the spread of virus by implementing policies."
   ]
  },
  {
   "cell_type": "markdown",
   "metadata": {},
   "source": [
    "#### lets explore the Confirmed cases in relation to total population"
   ]
  },
  {
   "cell_type": "code",
   "execution_count": 68,
   "metadata": {},
   "outputs": [
    {
     "data": {
      "application/vnd.plotly.v1+json": {
       "config": {
        "plotlyServerURL": "https://plot.ly"
       },
       "data": [
        {
         "marker": {
          "color": "indianred"
         },
         "name": "Confirmed",
         "type": "bar",
         "x": [
          "TOTAL",
          "★  United States",
          "★  Brazil",
          "★  India",
          "★  Russia",
          "★  South Africa",
          "★  Peru",
          "★  Mexico",
          "★  Colombia",
          "★  Chile",
          "★  Spain",
          "★  Iran",
          "★  Argentina",
          "★  United Kingdom",
          "★  Saudi Arabia",
          "★  Bangladesh",
          "★  Pakistan",
          "★  France",
          "★  Italy",
          "★  Turkey",
          "★  Germany",
          "★  Iraq",
          "★  Philippines",
          "★  Indonesia",
          "★  Canada",
          "★  Qatar",
          "★  Bolivia",
          "★  Ecuador",
          "★  Ukraine",
          "★  Kazakhstan",
          "★  Israel",
          "★  Egypt",
          "★  Dominican Republic",
          "★  Sweden",
          "★  Panama",
          "★  China",
          "★  Oman",
          "★  Belgium",
          "★  Kuwait",
          "★  Romania",
          "★  Belarus",
          "★  Guatemala",
          "★  United Arab Emirates",
          "★  Netherlands",
          "★  Poland",
          "★  Japan",
          "★  Singapore",
          "★  Portugal",
          "★  Honduras",
          "★  Morocco",
          "★  Nigeria",
          "★  Bahrain",
          "★  Ghana",
          "★  Kyrgyzstan",
          "★  Armenia",
          "★  Algeria",
          "★  Ethiopia",
          "★  Switzerland",
          "★  Venezuela",
          "★  Uzbekistan",
          "★  Afghanistan",
          "★  Azerbaijan",
          "★  Costa Rica",
          "★  Moldova",
          "★  Kenya",
          "★  Nepal",
          "★  Serbia",
          "★  Ireland",
          "★  Austria",
          "★  Australia",
          "★  El Salvador",
          "★  Czechia",
          "★  Palestine",
          "★  Cameroon",
          "★  Bosnia and Herzegovina",
          "★  Ivory Coast",
          "★  South Korea",
          "★  Denmark",
          "★  Bulgaria",
          "★  Madagascar",
          "★  North Macedonia",
          "★  Paraguay",
          "★  Senegal",
          "★  Sudan",
          "★  Lebanon",
          "★  Kosovo",
          "★  Zambia",
          "★  Libya",
          "★  Norway",
          "★  DR Congo",
          "★  Malaysia",
          "★  Guinea",
          "★  French Guiana",
          "★  Greece",
          "★  Albania",
          "★  Gabon",
          "★  Tajikistan",
          "★  Croatia",
          "★  Haiti",
          "★  Finland",
          "★  Luxembourg",
          "★  Mauritania",
          "★  Maldives",
          "★  Zimbabwe",
          "★  Namibia",
          "★  Malawi",
          "★  Djibouti",
          "★  Hungary",
          "★  Equatorial Guinea",
          "★  Hong Kong",
          "★  Central African Republic",
          "★  Montenegro",
          "★  Nicaragua",
          "★  Eswatini",
          "★  Congo",
          "★  Cuba",
          "★  Suriname",
          "★  Cape Verde",
          "★  Mozambique",
          "★  Thailand",
          "★  Slovakia",
          "★  Somalia",
          "★  Mayotte",
          "★  Rwanda",
          "★  Sri Lanka",
          "★  Tunisia",
          "★  Mali",
          "★  The Gambia",
          "★  Slovenia",
          "★  Lithuania",
          "★  South Sudan",
          "★  Estonia",
          "★  Uganda",
          "★  Syria",
          "★  Angola",
          "★  Guinea-Bissau",
          "★  Benin",
          "★  Iceland",
          "★  Sierra Leone",
          "★  Yemen",
          "★  The Bahamas",
          "★  New Zealand",
          "★  Malta",
          "★  Jordan",
          "★  Aruba",
          "★  Uruguay",
          "★  Cyprus",
          "★  Jamaica",
          "★  Georgia",
          "★  Latvia",
          "★  Burkina Faso",
          "★  Botswana",
          "★  Liberia",
          "★  Togo",
          "★  Reunion",
          "★  Niger",
          "★  Andorra",
          "★  Vietnam",
          "★  Lesotho",
          "★  Chad",
          "★  Trinidad and Tobago",
          "★  Guyana",
          "★  SÃ£o TomÃ© and PrÃ­ncipe",
          "★  Guadeloupe",
          "★  San Marino",
          "★  Belize",
          "★  Channel Islands",
          "★  Tanzania",
          "★  Taiwan",
          "★  Myanmar",
          "★  Burundi",
          "★  Comoros",
          "★  Faroe Islands",
          "★  Turks and Caicos Islands",
          "★  Sint Maarten",
          "★  Papua New Guinea",
          "★  Mauritius",
          "★  Martinique",
          "★  Isle of Man",
          "★  Eritrea",
          "★  Mongolia",
          "★  French Polynesia",
          "★  Cambodia",
          "★  Gibraltar",
          "★  Cayman Islands",
          "★  Saint Martin",
          "★  Bermuda",
          "★  Barbados",
          "★  Bhutan",
          "★  Monaco",
          "★  Brunei",
          "★  Seychelles",
          "★  Liechtenstein",
          "★  Antigua and Barbuda",
          "★  Saint Vincent and the Grenadines",
          "★  Macao",
          "★  Curacao",
          "★  Fiji",
          "★  Saint Lucia",
          "★  Timor-Leste",
          "★  Grenada",
          "★  New Caledonia",
          "★  Laos",
          "★  British Virgin Islands",
          "★  Dominica",
          "★  Saint Kitts and Nevis",
          "★  Saint Barthelemy",
          "★  Greenland",
          "★  Montserrat",
          "★  Caribbean Netherlands",
          "★  Falkland Islands",
          "★  Vatican City",
          "★  Western Sahara",
          "★  Saint Pierre and Miquelon",
          "★  Anguilla"
         ],
         "y": [
          23545594,
          5869551,
          3605783,
          3105185,
          956749,
          609773,
          585236,
          556216,
          533103,
          397665,
          386054,
          358905,
          336802,
          325642,
          307479,
          294598,
          292765,
          260873,
          259345,
          258249
         ]
        },
        {
         "marker": {
          "color": "lightsalmon"
         },
         "name": "Population",
         "type": "bar",
         "x": [
          "TOTAL",
          "★  United States",
          "★  Brazil",
          "★  India",
          "★  Russia",
          "★  South Africa",
          "★  Peru",
          "★  Mexico",
          "★  Colombia",
          "★  Chile",
          "★  Spain",
          "★  Iran",
          "★  Argentina",
          "★  United Kingdom",
          "★  Saudi Arabia",
          "★  Bangladesh",
          "★  Pakistan",
          "★  France",
          "★  Italy",
          "★  Turkey",
          "★  Germany",
          "★  Iraq",
          "★  Philippines",
          "★  Indonesia",
          "★  Canada",
          "★  Qatar",
          "★  Bolivia",
          "★  Ecuador",
          "★  Ukraine",
          "★  Kazakhstan",
          "★  Israel",
          "★  Egypt",
          "★  Dominican Republic",
          "★  Sweden",
          "★  Panama",
          "★  China",
          "★  Oman",
          "★  Belgium",
          "★  Kuwait",
          "★  Romania",
          "★  Belarus",
          "★  Guatemala",
          "★  United Arab Emirates",
          "★  Netherlands",
          "★  Poland",
          "★  Japan",
          "★  Singapore",
          "★  Portugal",
          "★  Honduras",
          "★  Morocco",
          "★  Nigeria",
          "★  Bahrain",
          "★  Ghana",
          "★  Kyrgyzstan",
          "★  Armenia",
          "★  Algeria",
          "★  Ethiopia",
          "★  Switzerland",
          "★  Venezuela",
          "★  Uzbekistan",
          "★  Afghanistan",
          "★  Azerbaijan",
          "★  Costa Rica",
          "★  Moldova",
          "★  Kenya",
          "★  Nepal",
          "★  Serbia",
          "★  Ireland",
          "★  Austria",
          "★  Australia",
          "★  El Salvador",
          "★  Czechia",
          "★  Palestine",
          "★  Cameroon",
          "★  Bosnia and Herzegovina",
          "★  Ivory Coast",
          "★  South Korea",
          "★  Denmark",
          "★  Bulgaria",
          "★  Madagascar",
          "★  North Macedonia",
          "★  Paraguay",
          "★  Senegal",
          "★  Sudan",
          "★  Lebanon",
          "★  Kosovo",
          "★  Zambia",
          "★  Libya",
          "★  Norway",
          "★  DR Congo",
          "★  Malaysia",
          "★  Guinea",
          "★  French Guiana",
          "★  Greece",
          "★  Albania",
          "★  Gabon",
          "★  Tajikistan",
          "★  Croatia",
          "★  Haiti",
          "★  Finland",
          "★  Luxembourg",
          "★  Mauritania",
          "★  Maldives",
          "★  Zimbabwe",
          "★  Namibia",
          "★  Malawi",
          "★  Djibouti",
          "★  Hungary",
          "★  Equatorial Guinea",
          "★  Hong Kong",
          "★  Central African Republic",
          "★  Montenegro",
          "★  Nicaragua",
          "★  Eswatini",
          "★  Congo",
          "★  Cuba",
          "★  Suriname",
          "★  Cape Verde",
          "★  Mozambique",
          "★  Thailand",
          "★  Slovakia",
          "★  Somalia",
          "★  Mayotte",
          "★  Rwanda",
          "★  Sri Lanka",
          "★  Tunisia",
          "★  Mali",
          "★  The Gambia",
          "★  Slovenia",
          "★  Lithuania",
          "★  South Sudan",
          "★  Estonia",
          "★  Uganda",
          "★  Syria",
          "★  Angola",
          "★  Guinea-Bissau",
          "★  Benin",
          "★  Iceland",
          "★  Sierra Leone",
          "★  Yemen",
          "★  The Bahamas",
          "★  New Zealand",
          "★  Malta",
          "★  Jordan",
          "★  Aruba",
          "★  Uruguay",
          "★  Cyprus",
          "★  Jamaica",
          "★  Georgia",
          "★  Latvia",
          "★  Burkina Faso",
          "★  Botswana",
          "★  Liberia",
          "★  Togo",
          "★  Reunion",
          "★  Niger",
          "★  Andorra",
          "★  Vietnam",
          "★  Lesotho",
          "★  Chad",
          "★  Trinidad and Tobago",
          "★  Guyana",
          "★  SÃ£o TomÃ© and PrÃ­ncipe",
          "★  Guadeloupe",
          "★  San Marino",
          "★  Belize",
          "★  Channel Islands",
          "★  Tanzania",
          "★  Taiwan",
          "★  Myanmar",
          "★  Burundi",
          "★  Comoros",
          "★  Faroe Islands",
          "★  Turks and Caicos Islands",
          "★  Sint Maarten",
          "★  Papua New Guinea",
          "★  Mauritius",
          "★  Martinique",
          "★  Isle of Man",
          "★  Eritrea",
          "★  Mongolia",
          "★  French Polynesia",
          "★  Cambodia",
          "★  Gibraltar",
          "★  Cayman Islands",
          "★  Saint Martin",
          "★  Bermuda",
          "★  Barbados",
          "★  Bhutan",
          "★  Monaco",
          "★  Brunei",
          "★  Seychelles",
          "★  Liechtenstein",
          "★  Antigua and Barbuda",
          "★  Saint Vincent and the Grenadines",
          "★  Macao",
          "★  Curacao",
          "★  Fiji",
          "★  Saint Lucia",
          "★  Timor-Leste",
          "★  Grenada",
          "★  New Caledonia",
          "★  Laos",
          "★  British Virgin Islands",
          "★  Dominica",
          "★  Saint Kitts and Nevis",
          "★  Saint Barthelemy",
          "★  Greenland",
          "★  Montserrat",
          "★  Caribbean Netherlands",
          "★  Falkland Islands",
          "★  Vatican City",
          "★  Western Sahara",
          "★  Saint Pierre and Miquelon",
          "★  Anguilla"
         ],
         "y": [
          "7769081067",
          "331282824",
          "212776644",
          "1381937641",
          "145943650",
          "59414253",
          "33036403",
          "129125341",
          "50959957",
          "19139679",
          "46757437",
          "84144619",
          "45254997",
          "67937586",
          "34889636",
          "164923074",
          "221483664",
          "65294602",
          "60448696",
          "84467982"
         ]
        }
       ],
       "layout": {
        "barmode": "group",
        "template": {
         "data": {
          "bar": [
           {
            "error_x": {
             "color": "#2a3f5f"
            },
            "error_y": {
             "color": "#2a3f5f"
            },
            "marker": {
             "line": {
              "color": "#E5ECF6",
              "width": 0.5
             }
            },
            "type": "bar"
           }
          ],
          "barpolar": [
           {
            "marker": {
             "line": {
              "color": "#E5ECF6",
              "width": 0.5
             }
            },
            "type": "barpolar"
           }
          ],
          "carpet": [
           {
            "aaxis": {
             "endlinecolor": "#2a3f5f",
             "gridcolor": "white",
             "linecolor": "white",
             "minorgridcolor": "white",
             "startlinecolor": "#2a3f5f"
            },
            "baxis": {
             "endlinecolor": "#2a3f5f",
             "gridcolor": "white",
             "linecolor": "white",
             "minorgridcolor": "white",
             "startlinecolor": "#2a3f5f"
            },
            "type": "carpet"
           }
          ],
          "choropleth": [
           {
            "colorbar": {
             "outlinewidth": 0,
             "ticks": ""
            },
            "type": "choropleth"
           }
          ],
          "contour": [
           {
            "colorbar": {
             "outlinewidth": 0,
             "ticks": ""
            },
            "colorscale": [
             [
              0,
              "#0d0887"
             ],
             [
              0.1111111111111111,
              "#46039f"
             ],
             [
              0.2222222222222222,
              "#7201a8"
             ],
             [
              0.3333333333333333,
              "#9c179e"
             ],
             [
              0.4444444444444444,
              "#bd3786"
             ],
             [
              0.5555555555555556,
              "#d8576b"
             ],
             [
              0.6666666666666666,
              "#ed7953"
             ],
             [
              0.7777777777777778,
              "#fb9f3a"
             ],
             [
              0.8888888888888888,
              "#fdca26"
             ],
             [
              1,
              "#f0f921"
             ]
            ],
            "type": "contour"
           }
          ],
          "contourcarpet": [
           {
            "colorbar": {
             "outlinewidth": 0,
             "ticks": ""
            },
            "type": "contourcarpet"
           }
          ],
          "heatmap": [
           {
            "colorbar": {
             "outlinewidth": 0,
             "ticks": ""
            },
            "colorscale": [
             [
              0,
              "#0d0887"
             ],
             [
              0.1111111111111111,
              "#46039f"
             ],
             [
              0.2222222222222222,
              "#7201a8"
             ],
             [
              0.3333333333333333,
              "#9c179e"
             ],
             [
              0.4444444444444444,
              "#bd3786"
             ],
             [
              0.5555555555555556,
              "#d8576b"
             ],
             [
              0.6666666666666666,
              "#ed7953"
             ],
             [
              0.7777777777777778,
              "#fb9f3a"
             ],
             [
              0.8888888888888888,
              "#fdca26"
             ],
             [
              1,
              "#f0f921"
             ]
            ],
            "type": "heatmap"
           }
          ],
          "heatmapgl": [
           {
            "colorbar": {
             "outlinewidth": 0,
             "ticks": ""
            },
            "colorscale": [
             [
              0,
              "#0d0887"
             ],
             [
              0.1111111111111111,
              "#46039f"
             ],
             [
              0.2222222222222222,
              "#7201a8"
             ],
             [
              0.3333333333333333,
              "#9c179e"
             ],
             [
              0.4444444444444444,
              "#bd3786"
             ],
             [
              0.5555555555555556,
              "#d8576b"
             ],
             [
              0.6666666666666666,
              "#ed7953"
             ],
             [
              0.7777777777777778,
              "#fb9f3a"
             ],
             [
              0.8888888888888888,
              "#fdca26"
             ],
             [
              1,
              "#f0f921"
             ]
            ],
            "type": "heatmapgl"
           }
          ],
          "histogram": [
           {
            "marker": {
             "colorbar": {
              "outlinewidth": 0,
              "ticks": ""
             }
            },
            "type": "histogram"
           }
          ],
          "histogram2d": [
           {
            "colorbar": {
             "outlinewidth": 0,
             "ticks": ""
            },
            "colorscale": [
             [
              0,
              "#0d0887"
             ],
             [
              0.1111111111111111,
              "#46039f"
             ],
             [
              0.2222222222222222,
              "#7201a8"
             ],
             [
              0.3333333333333333,
              "#9c179e"
             ],
             [
              0.4444444444444444,
              "#bd3786"
             ],
             [
              0.5555555555555556,
              "#d8576b"
             ],
             [
              0.6666666666666666,
              "#ed7953"
             ],
             [
              0.7777777777777778,
              "#fb9f3a"
             ],
             [
              0.8888888888888888,
              "#fdca26"
             ],
             [
              1,
              "#f0f921"
             ]
            ],
            "type": "histogram2d"
           }
          ],
          "histogram2dcontour": [
           {
            "colorbar": {
             "outlinewidth": 0,
             "ticks": ""
            },
            "colorscale": [
             [
              0,
              "#0d0887"
             ],
             [
              0.1111111111111111,
              "#46039f"
             ],
             [
              0.2222222222222222,
              "#7201a8"
             ],
             [
              0.3333333333333333,
              "#9c179e"
             ],
             [
              0.4444444444444444,
              "#bd3786"
             ],
             [
              0.5555555555555556,
              "#d8576b"
             ],
             [
              0.6666666666666666,
              "#ed7953"
             ],
             [
              0.7777777777777778,
              "#fb9f3a"
             ],
             [
              0.8888888888888888,
              "#fdca26"
             ],
             [
              1,
              "#f0f921"
             ]
            ],
            "type": "histogram2dcontour"
           }
          ],
          "mesh3d": [
           {
            "colorbar": {
             "outlinewidth": 0,
             "ticks": ""
            },
            "type": "mesh3d"
           }
          ],
          "parcoords": [
           {
            "line": {
             "colorbar": {
              "outlinewidth": 0,
              "ticks": ""
             }
            },
            "type": "parcoords"
           }
          ],
          "pie": [
           {
            "automargin": true,
            "type": "pie"
           }
          ],
          "scatter": [
           {
            "marker": {
             "colorbar": {
              "outlinewidth": 0,
              "ticks": ""
             }
            },
            "type": "scatter"
           }
          ],
          "scatter3d": [
           {
            "line": {
             "colorbar": {
              "outlinewidth": 0,
              "ticks": ""
             }
            },
            "marker": {
             "colorbar": {
              "outlinewidth": 0,
              "ticks": ""
             }
            },
            "type": "scatter3d"
           }
          ],
          "scattercarpet": [
           {
            "marker": {
             "colorbar": {
              "outlinewidth": 0,
              "ticks": ""
             }
            },
            "type": "scattercarpet"
           }
          ],
          "scattergeo": [
           {
            "marker": {
             "colorbar": {
              "outlinewidth": 0,
              "ticks": ""
             }
            },
            "type": "scattergeo"
           }
          ],
          "scattergl": [
           {
            "marker": {
             "colorbar": {
              "outlinewidth": 0,
              "ticks": ""
             }
            },
            "type": "scattergl"
           }
          ],
          "scattermapbox": [
           {
            "marker": {
             "colorbar": {
              "outlinewidth": 0,
              "ticks": ""
             }
            },
            "type": "scattermapbox"
           }
          ],
          "scatterpolar": [
           {
            "marker": {
             "colorbar": {
              "outlinewidth": 0,
              "ticks": ""
             }
            },
            "type": "scatterpolar"
           }
          ],
          "scatterpolargl": [
           {
            "marker": {
             "colorbar": {
              "outlinewidth": 0,
              "ticks": ""
             }
            },
            "type": "scatterpolargl"
           }
          ],
          "scatterternary": [
           {
            "marker": {
             "colorbar": {
              "outlinewidth": 0,
              "ticks": ""
             }
            },
            "type": "scatterternary"
           }
          ],
          "surface": [
           {
            "colorbar": {
             "outlinewidth": 0,
             "ticks": ""
            },
            "colorscale": [
             [
              0,
              "#0d0887"
             ],
             [
              0.1111111111111111,
              "#46039f"
             ],
             [
              0.2222222222222222,
              "#7201a8"
             ],
             [
              0.3333333333333333,
              "#9c179e"
             ],
             [
              0.4444444444444444,
              "#bd3786"
             ],
             [
              0.5555555555555556,
              "#d8576b"
             ],
             [
              0.6666666666666666,
              "#ed7953"
             ],
             [
              0.7777777777777778,
              "#fb9f3a"
             ],
             [
              0.8888888888888888,
              "#fdca26"
             ],
             [
              1,
              "#f0f921"
             ]
            ],
            "type": "surface"
           }
          ],
          "table": [
           {
            "cells": {
             "fill": {
              "color": "#EBF0F8"
             },
             "line": {
              "color": "white"
             }
            },
            "header": {
             "fill": {
              "color": "#C8D4E3"
             },
             "line": {
              "color": "white"
             }
            },
            "type": "table"
           }
          ]
         },
         "layout": {
          "annotationdefaults": {
           "arrowcolor": "#2a3f5f",
           "arrowhead": 0,
           "arrowwidth": 1
          },
          "coloraxis": {
           "colorbar": {
            "outlinewidth": 0,
            "ticks": ""
           }
          },
          "colorscale": {
           "diverging": [
            [
             0,
             "#8e0152"
            ],
            [
             0.1,
             "#c51b7d"
            ],
            [
             0.2,
             "#de77ae"
            ],
            [
             0.3,
             "#f1b6da"
            ],
            [
             0.4,
             "#fde0ef"
            ],
            [
             0.5,
             "#f7f7f7"
            ],
            [
             0.6,
             "#e6f5d0"
            ],
            [
             0.7,
             "#b8e186"
            ],
            [
             0.8,
             "#7fbc41"
            ],
            [
             0.9,
             "#4d9221"
            ],
            [
             1,
             "#276419"
            ]
           ],
           "sequential": [
            [
             0,
             "#0d0887"
            ],
            [
             0.1111111111111111,
             "#46039f"
            ],
            [
             0.2222222222222222,
             "#7201a8"
            ],
            [
             0.3333333333333333,
             "#9c179e"
            ],
            [
             0.4444444444444444,
             "#bd3786"
            ],
            [
             0.5555555555555556,
             "#d8576b"
            ],
            [
             0.6666666666666666,
             "#ed7953"
            ],
            [
             0.7777777777777778,
             "#fb9f3a"
            ],
            [
             0.8888888888888888,
             "#fdca26"
            ],
            [
             1,
             "#f0f921"
            ]
           ],
           "sequentialminus": [
            [
             0,
             "#0d0887"
            ],
            [
             0.1111111111111111,
             "#46039f"
            ],
            [
             0.2222222222222222,
             "#7201a8"
            ],
            [
             0.3333333333333333,
             "#9c179e"
            ],
            [
             0.4444444444444444,
             "#bd3786"
            ],
            [
             0.5555555555555556,
             "#d8576b"
            ],
            [
             0.6666666666666666,
             "#ed7953"
            ],
            [
             0.7777777777777778,
             "#fb9f3a"
            ],
            [
             0.8888888888888888,
             "#fdca26"
            ],
            [
             1,
             "#f0f921"
            ]
           ]
          },
          "colorway": [
           "#636efa",
           "#EF553B",
           "#00cc96",
           "#ab63fa",
           "#FFA15A",
           "#19d3f3",
           "#FF6692",
           "#B6E880",
           "#FF97FF",
           "#FECB52"
          ],
          "font": {
           "color": "#2a3f5f"
          },
          "geo": {
           "bgcolor": "white",
           "lakecolor": "white",
           "landcolor": "#E5ECF6",
           "showlakes": true,
           "showland": true,
           "subunitcolor": "white"
          },
          "hoverlabel": {
           "align": "left"
          },
          "hovermode": "closest",
          "mapbox": {
           "style": "light"
          },
          "paper_bgcolor": "white",
          "plot_bgcolor": "#E5ECF6",
          "polar": {
           "angularaxis": {
            "gridcolor": "white",
            "linecolor": "white",
            "ticks": ""
           },
           "bgcolor": "#E5ECF6",
           "radialaxis": {
            "gridcolor": "white",
            "linecolor": "white",
            "ticks": ""
           }
          },
          "scene": {
           "xaxis": {
            "backgroundcolor": "#E5ECF6",
            "gridcolor": "white",
            "gridwidth": 2,
            "linecolor": "white",
            "showbackground": true,
            "ticks": "",
            "zerolinecolor": "white"
           },
           "yaxis": {
            "backgroundcolor": "#E5ECF6",
            "gridcolor": "white",
            "gridwidth": 2,
            "linecolor": "white",
            "showbackground": true,
            "ticks": "",
            "zerolinecolor": "white"
           },
           "zaxis": {
            "backgroundcolor": "#E5ECF6",
            "gridcolor": "white",
            "gridwidth": 2,
            "linecolor": "white",
            "showbackground": true,
            "ticks": "",
            "zerolinecolor": "white"
           }
          },
          "shapedefaults": {
           "line": {
            "color": "#2a3f5f"
           }
          },
          "ternary": {
           "aaxis": {
            "gridcolor": "white",
            "linecolor": "white",
            "ticks": ""
           },
           "baxis": {
            "gridcolor": "white",
            "linecolor": "white",
            "ticks": ""
           },
           "bgcolor": "#E5ECF6",
           "caxis": {
            "gridcolor": "white",
            "linecolor": "white",
            "ticks": ""
           }
          },
          "title": {
           "x": 0.05
          },
          "xaxis": {
           "automargin": true,
           "gridcolor": "white",
           "linecolor": "white",
           "ticks": "",
           "title": {
            "standoff": 15
           },
           "zerolinecolor": "white",
           "zerolinewidth": 2
          },
          "yaxis": {
           "automargin": true,
           "gridcolor": "white",
           "linecolor": "white",
           "ticks": "",
           "title": {
            "standoff": 15
           },
           "zerolinecolor": "white",
           "zerolinewidth": 2
          }
         }
        }
       }
      },
      "text/html": [
       "<div>\n",
       "        \n",
       "        \n",
       "            <div id=\"ab489fc3-dcd0-4b18-bcf7-49eec89a32ef\" class=\"plotly-graph-div\" style=\"height:525px; width:100%;\"></div>\n",
       "            <script type=\"text/javascript\">\n",
       "                require([\"plotly\"], function(Plotly) {\n",
       "                    window.PLOTLYENV=window.PLOTLYENV || {};\n",
       "                    \n",
       "                if (document.getElementById(\"ab489fc3-dcd0-4b18-bcf7-49eec89a32ef\")) {\n",
       "                    Plotly.newPlot(\n",
       "                        'ab489fc3-dcd0-4b18-bcf7-49eec89a32ef',\n",
       "                        [{\"marker\": {\"color\": \"indianred\"}, \"name\": \"Confirmed\", \"type\": \"bar\", \"x\": [\"TOTAL\", \"\\u2605  United States\", \"\\u2605  Brazil\", \"\\u2605  India\", \"\\u2605  Russia\", \"\\u2605  South Africa\", \"\\u2605  Peru\", \"\\u2605  Mexico\", \"\\u2605  Colombia\", \"\\u2605  Chile\", \"\\u2605  Spain\", \"\\u2605  Iran\", \"\\u2605  Argentina\", \"\\u2605  United Kingdom\", \"\\u2605  Saudi Arabia\", \"\\u2605  Bangladesh\", \"\\u2605  Pakistan\", \"\\u2605  France\", \"\\u2605  Italy\", \"\\u2605  Turkey\", \"\\u2605  Germany\", \"\\u2605  Iraq\", \"\\u2605  Philippines\", \"\\u2605  Indonesia\", \"\\u2605  Canada\", \"\\u2605  Qatar\", \"\\u2605  Bolivia\", \"\\u2605  Ecuador\", \"\\u2605  Ukraine\", \"\\u2605  Kazakhstan\", \"\\u2605  Israel\", \"\\u2605  Egypt\", \"\\u2605  Dominican Republic\", \"\\u2605  Sweden\", \"\\u2605  Panama\", \"\\u2605  China\", \"\\u2605  Oman\", \"\\u2605  Belgium\", \"\\u2605  Kuwait\", \"\\u2605  Romania\", \"\\u2605  Belarus\", \"\\u2605  Guatemala\", \"\\u2605  United Arab Emirates\", \"\\u2605  Netherlands\", \"\\u2605  Poland\", \"\\u2605  Japan\", \"\\u2605  Singapore\", \"\\u2605  Portugal\", \"\\u2605  Honduras\", \"\\u2605  Morocco\", \"\\u2605  Nigeria\", \"\\u2605  Bahrain\", \"\\u2605  Ghana\", \"\\u2605  Kyrgyzstan\", \"\\u2605  Armenia\", \"\\u2605  Algeria\", \"\\u2605  Ethiopia\", \"\\u2605  Switzerland\", \"\\u2605  Venezuela\", \"\\u2605  Uzbekistan\", \"\\u2605  Afghanistan\", \"\\u2605  Azerbaijan\", \"\\u2605  Costa Rica\", \"\\u2605  Moldova\", \"\\u2605  Kenya\", \"\\u2605  Nepal\", \"\\u2605  Serbia\", \"\\u2605  Ireland\", \"\\u2605  Austria\", \"\\u2605  Australia\", \"\\u2605  El Salvador\", \"\\u2605  Czechia\", \"\\u2605  Palestine\", \"\\u2605  Cameroon\", \"\\u2605  Bosnia and Herzegovina\", \"\\u2605  Ivory Coast\", \"\\u2605  South Korea\", \"\\u2605  Denmark\", \"\\u2605  Bulgaria\", \"\\u2605  Madagascar\", \"\\u2605  North Macedonia\", \"\\u2605  Paraguay\", \"\\u2605  Senegal\", \"\\u2605  Sudan\", \"\\u2605  Lebanon\", \"\\u2605  Kosovo\", \"\\u2605  Zambia\", \"\\u2605  Libya\", \"\\u2605  Norway\", \"\\u2605  DR Congo\", \"\\u2605  Malaysia\", \"\\u2605  Guinea\", \"\\u2605  French Guiana\", \"\\u2605  Greece\", \"\\u2605  Albania\", \"\\u2605  Gabon\", \"\\u2605  Tajikistan\", \"\\u2605  Croatia\", \"\\u2605  Haiti\", \"\\u2605  Finland\", \"\\u2605  Luxembourg\", \"\\u2605  Mauritania\", \"\\u2605  Maldives\", \"\\u2605  Zimbabwe\", \"\\u2605  Namibia\", \"\\u2605  Malawi\", \"\\u2605  Djibouti\", \"\\u2605  Hungary\", \"\\u2605  Equatorial Guinea\", \"\\u2605  Hong Kong\", \"\\u2605  Central African Republic\", \"\\u2605  Montenegro\", \"\\u2605  Nicaragua\", \"\\u2605  Eswatini\", \"\\u2605  Congo\", \"\\u2605  Cuba\", \"\\u2605  Suriname\", \"\\u2605  Cape Verde\", \"\\u2605  Mozambique\", \"\\u2605  Thailand\", \"\\u2605  Slovakia\", \"\\u2605  Somalia\", \"\\u2605  Mayotte\", \"\\u2605  Rwanda\", \"\\u2605  Sri Lanka\", \"\\u2605  Tunisia\", \"\\u2605  Mali\", \"\\u2605  The Gambia\", \"\\u2605  Slovenia\", \"\\u2605  Lithuania\", \"\\u2605  South Sudan\", \"\\u2605  Estonia\", \"\\u2605  Uganda\", \"\\u2605  Syria\", \"\\u2605  Angola\", \"\\u2605  Guinea-Bissau\", \"\\u2605  Benin\", \"\\u2605  Iceland\", \"\\u2605  Sierra Leone\", \"\\u2605  Yemen\", \"\\u2605  The Bahamas\", \"\\u2605  New Zealand\", \"\\u2605  Malta\", \"\\u2605  Jordan\", \"\\u2605  Aruba\", \"\\u2605  Uruguay\", \"\\u2605  Cyprus\", \"\\u2605  Jamaica\", \"\\u2605  Georgia\", \"\\u2605  Latvia\", \"\\u2605  Burkina Faso\", \"\\u2605  Botswana\", \"\\u2605  Liberia\", \"\\u2605  Togo\", \"\\u2605  Reunion\", \"\\u2605  Niger\", \"\\u2605  Andorra\", \"\\u2605  Vietnam\", \"\\u2605  Lesotho\", \"\\u2605  Chad\", \"\\u2605  Trinidad and Tobago\", \"\\u2605  Guyana\", \"\\u2605  S\\u00c3\\u00a3o Tom\\u00c3\\u00a9 and Pr\\u00c3\\u00adncipe\", \"\\u2605  Guadeloupe\", \"\\u2605  San Marino\", \"\\u2605  Belize\", \"\\u2605  Channel Islands\", \"\\u2605  Tanzania\", \"\\u2605  Taiwan\", \"\\u2605  Myanmar\", \"\\u2605  Burundi\", \"\\u2605  Comoros\", \"\\u2605  Faroe Islands\", \"\\u2605  Turks and Caicos Islands\", \"\\u2605  Sint Maarten\", \"\\u2605  Papua New Guinea\", \"\\u2605  Mauritius\", \"\\u2605  Martinique\", \"\\u2605  Isle of Man\", \"\\u2605  Eritrea\", \"\\u2605  Mongolia\", \"\\u2605  French Polynesia\", \"\\u2605  Cambodia\", \"\\u2605  Gibraltar\", \"\\u2605  Cayman Islands\", \"\\u2605  Saint Martin\", \"\\u2605  Bermuda\", \"\\u2605  Barbados\", \"\\u2605  Bhutan\", \"\\u2605  Monaco\", \"\\u2605  Brunei\", \"\\u2605  Seychelles\", \"\\u2605  Liechtenstein\", \"\\u2605  Antigua and Barbuda\", \"\\u2605  Saint Vincent and the Grenadines\", \"\\u2605  Macao\", \"\\u2605  Curacao\", \"\\u2605  Fiji\", \"\\u2605  Saint Lucia\", \"\\u2605  Timor-Leste\", \"\\u2605  Grenada\", \"\\u2605  New Caledonia\", \"\\u2605  Laos\", \"\\u2605  British Virgin Islands\", \"\\u2605  Dominica\", \"\\u2605  Saint Kitts and Nevis\", \"\\u2605  Saint Barthelemy\", \"\\u2605  Greenland\", \"\\u2605  Montserrat\", \"\\u2605  Caribbean Netherlands\", \"\\u2605  Falkland Islands\", \"\\u2605  Vatican City\", \"\\u2605  Western Sahara\", \"\\u2605  Saint Pierre and Miquelon\", \"\\u2605  Anguilla\"], \"y\": [23545594, 5869551, 3605783, 3105185, 956749, 609773, 585236, 556216, 533103, 397665, 386054, 358905, 336802, 325642, 307479, 294598, 292765, 260873, 259345, 258249]}, {\"marker\": {\"color\": \"lightsalmon\"}, \"name\": \"Population\", \"type\": \"bar\", \"x\": [\"TOTAL\", \"\\u2605  United States\", \"\\u2605  Brazil\", \"\\u2605  India\", \"\\u2605  Russia\", \"\\u2605  South Africa\", \"\\u2605  Peru\", \"\\u2605  Mexico\", \"\\u2605  Colombia\", \"\\u2605  Chile\", \"\\u2605  Spain\", \"\\u2605  Iran\", \"\\u2605  Argentina\", \"\\u2605  United Kingdom\", \"\\u2605  Saudi Arabia\", \"\\u2605  Bangladesh\", \"\\u2605  Pakistan\", \"\\u2605  France\", \"\\u2605  Italy\", \"\\u2605  Turkey\", \"\\u2605  Germany\", \"\\u2605  Iraq\", \"\\u2605  Philippines\", \"\\u2605  Indonesia\", \"\\u2605  Canada\", \"\\u2605  Qatar\", \"\\u2605  Bolivia\", \"\\u2605  Ecuador\", \"\\u2605  Ukraine\", \"\\u2605  Kazakhstan\", \"\\u2605  Israel\", \"\\u2605  Egypt\", \"\\u2605  Dominican Republic\", \"\\u2605  Sweden\", \"\\u2605  Panama\", \"\\u2605  China\", \"\\u2605  Oman\", \"\\u2605  Belgium\", \"\\u2605  Kuwait\", \"\\u2605  Romania\", \"\\u2605  Belarus\", \"\\u2605  Guatemala\", \"\\u2605  United Arab Emirates\", \"\\u2605  Netherlands\", \"\\u2605  Poland\", \"\\u2605  Japan\", \"\\u2605  Singapore\", \"\\u2605  Portugal\", \"\\u2605  Honduras\", \"\\u2605  Morocco\", \"\\u2605  Nigeria\", \"\\u2605  Bahrain\", \"\\u2605  Ghana\", \"\\u2605  Kyrgyzstan\", \"\\u2605  Armenia\", \"\\u2605  Algeria\", \"\\u2605  Ethiopia\", \"\\u2605  Switzerland\", \"\\u2605  Venezuela\", \"\\u2605  Uzbekistan\", \"\\u2605  Afghanistan\", \"\\u2605  Azerbaijan\", \"\\u2605  Costa Rica\", \"\\u2605  Moldova\", \"\\u2605  Kenya\", \"\\u2605  Nepal\", \"\\u2605  Serbia\", \"\\u2605  Ireland\", \"\\u2605  Austria\", \"\\u2605  Australia\", \"\\u2605  El Salvador\", \"\\u2605  Czechia\", \"\\u2605  Palestine\", \"\\u2605  Cameroon\", \"\\u2605  Bosnia and Herzegovina\", \"\\u2605  Ivory Coast\", \"\\u2605  South Korea\", \"\\u2605  Denmark\", \"\\u2605  Bulgaria\", \"\\u2605  Madagascar\", \"\\u2605  North Macedonia\", \"\\u2605  Paraguay\", \"\\u2605  Senegal\", \"\\u2605  Sudan\", \"\\u2605  Lebanon\", \"\\u2605  Kosovo\", \"\\u2605  Zambia\", \"\\u2605  Libya\", \"\\u2605  Norway\", \"\\u2605  DR Congo\", \"\\u2605  Malaysia\", \"\\u2605  Guinea\", \"\\u2605  French Guiana\", \"\\u2605  Greece\", \"\\u2605  Albania\", \"\\u2605  Gabon\", \"\\u2605  Tajikistan\", \"\\u2605  Croatia\", \"\\u2605  Haiti\", \"\\u2605  Finland\", \"\\u2605  Luxembourg\", \"\\u2605  Mauritania\", \"\\u2605  Maldives\", \"\\u2605  Zimbabwe\", \"\\u2605  Namibia\", \"\\u2605  Malawi\", \"\\u2605  Djibouti\", \"\\u2605  Hungary\", \"\\u2605  Equatorial Guinea\", \"\\u2605  Hong Kong\", \"\\u2605  Central African Republic\", \"\\u2605  Montenegro\", \"\\u2605  Nicaragua\", \"\\u2605  Eswatini\", \"\\u2605  Congo\", \"\\u2605  Cuba\", \"\\u2605  Suriname\", \"\\u2605  Cape Verde\", \"\\u2605  Mozambique\", \"\\u2605  Thailand\", \"\\u2605  Slovakia\", \"\\u2605  Somalia\", \"\\u2605  Mayotte\", \"\\u2605  Rwanda\", \"\\u2605  Sri Lanka\", \"\\u2605  Tunisia\", \"\\u2605  Mali\", \"\\u2605  The Gambia\", \"\\u2605  Slovenia\", \"\\u2605  Lithuania\", \"\\u2605  South Sudan\", \"\\u2605  Estonia\", \"\\u2605  Uganda\", \"\\u2605  Syria\", \"\\u2605  Angola\", \"\\u2605  Guinea-Bissau\", \"\\u2605  Benin\", \"\\u2605  Iceland\", \"\\u2605  Sierra Leone\", \"\\u2605  Yemen\", \"\\u2605  The Bahamas\", \"\\u2605  New Zealand\", \"\\u2605  Malta\", \"\\u2605  Jordan\", \"\\u2605  Aruba\", \"\\u2605  Uruguay\", \"\\u2605  Cyprus\", \"\\u2605  Jamaica\", \"\\u2605  Georgia\", \"\\u2605  Latvia\", \"\\u2605  Burkina Faso\", \"\\u2605  Botswana\", \"\\u2605  Liberia\", \"\\u2605  Togo\", \"\\u2605  Reunion\", \"\\u2605  Niger\", \"\\u2605  Andorra\", \"\\u2605  Vietnam\", \"\\u2605  Lesotho\", \"\\u2605  Chad\", \"\\u2605  Trinidad and Tobago\", \"\\u2605  Guyana\", \"\\u2605  S\\u00c3\\u00a3o Tom\\u00c3\\u00a9 and Pr\\u00c3\\u00adncipe\", \"\\u2605  Guadeloupe\", \"\\u2605  San Marino\", \"\\u2605  Belize\", \"\\u2605  Channel Islands\", \"\\u2605  Tanzania\", \"\\u2605  Taiwan\", \"\\u2605  Myanmar\", \"\\u2605  Burundi\", \"\\u2605  Comoros\", \"\\u2605  Faroe Islands\", \"\\u2605  Turks and Caicos Islands\", \"\\u2605  Sint Maarten\", \"\\u2605  Papua New Guinea\", \"\\u2605  Mauritius\", \"\\u2605  Martinique\", \"\\u2605  Isle of Man\", \"\\u2605  Eritrea\", \"\\u2605  Mongolia\", \"\\u2605  French Polynesia\", \"\\u2605  Cambodia\", \"\\u2605  Gibraltar\", \"\\u2605  Cayman Islands\", \"\\u2605  Saint Martin\", \"\\u2605  Bermuda\", \"\\u2605  Barbados\", \"\\u2605  Bhutan\", \"\\u2605  Monaco\", \"\\u2605  Brunei\", \"\\u2605  Seychelles\", \"\\u2605  Liechtenstein\", \"\\u2605  Antigua and Barbuda\", \"\\u2605  Saint Vincent and the Grenadines\", \"\\u2605  Macao\", \"\\u2605  Curacao\", \"\\u2605  Fiji\", \"\\u2605  Saint Lucia\", \"\\u2605  Timor-Leste\", \"\\u2605  Grenada\", \"\\u2605  New Caledonia\", \"\\u2605  Laos\", \"\\u2605  British Virgin Islands\", \"\\u2605  Dominica\", \"\\u2605  Saint Kitts and Nevis\", \"\\u2605  Saint Barthelemy\", \"\\u2605  Greenland\", \"\\u2605  Montserrat\", \"\\u2605  Caribbean Netherlands\", \"\\u2605  Falkland Islands\", \"\\u2605  Vatican City\", \"\\u2605  Western Sahara\", \"\\u2605  Saint Pierre and Miquelon\", \"\\u2605  Anguilla\"], \"y\": [\"7769081067\", \"331282824\", \"212776644\", \"1381937641\", \"145943650\", \"59414253\", \"33036403\", \"129125341\", \"50959957\", \"19139679\", \"46757437\", \"84144619\", \"45254997\", \"67937586\", \"34889636\", \"164923074\", \"221483664\", \"65294602\", \"60448696\", \"84467982\"]}],\n",
       "                        {\"barmode\": \"group\", \"template\": {\"data\": {\"bar\": [{\"error_x\": {\"color\": \"#2a3f5f\"}, \"error_y\": {\"color\": \"#2a3f5f\"}, \"marker\": {\"line\": {\"color\": \"#E5ECF6\", \"width\": 0.5}}, \"type\": \"bar\"}], \"barpolar\": [{\"marker\": {\"line\": {\"color\": \"#E5ECF6\", \"width\": 0.5}}, \"type\": \"barpolar\"}], \"carpet\": [{\"aaxis\": {\"endlinecolor\": \"#2a3f5f\", \"gridcolor\": \"white\", \"linecolor\": \"white\", \"minorgridcolor\": \"white\", \"startlinecolor\": \"#2a3f5f\"}, \"baxis\": {\"endlinecolor\": \"#2a3f5f\", \"gridcolor\": \"white\", \"linecolor\": \"white\", \"minorgridcolor\": \"white\", \"startlinecolor\": \"#2a3f5f\"}, \"type\": \"carpet\"}], \"choropleth\": [{\"colorbar\": {\"outlinewidth\": 0, \"ticks\": \"\"}, \"type\": \"choropleth\"}], \"contour\": [{\"colorbar\": {\"outlinewidth\": 0, \"ticks\": \"\"}, \"colorscale\": [[0.0, \"#0d0887\"], [0.1111111111111111, \"#46039f\"], [0.2222222222222222, \"#7201a8\"], [0.3333333333333333, \"#9c179e\"], [0.4444444444444444, \"#bd3786\"], [0.5555555555555556, \"#d8576b\"], [0.6666666666666666, \"#ed7953\"], [0.7777777777777778, \"#fb9f3a\"], [0.8888888888888888, \"#fdca26\"], [1.0, \"#f0f921\"]], \"type\": \"contour\"}], \"contourcarpet\": [{\"colorbar\": {\"outlinewidth\": 0, \"ticks\": \"\"}, \"type\": \"contourcarpet\"}], \"heatmap\": [{\"colorbar\": {\"outlinewidth\": 0, \"ticks\": \"\"}, \"colorscale\": [[0.0, \"#0d0887\"], [0.1111111111111111, \"#46039f\"], [0.2222222222222222, \"#7201a8\"], [0.3333333333333333, \"#9c179e\"], [0.4444444444444444, \"#bd3786\"], [0.5555555555555556, \"#d8576b\"], [0.6666666666666666, \"#ed7953\"], [0.7777777777777778, \"#fb9f3a\"], [0.8888888888888888, \"#fdca26\"], [1.0, \"#f0f921\"]], \"type\": \"heatmap\"}], \"heatmapgl\": [{\"colorbar\": {\"outlinewidth\": 0, \"ticks\": \"\"}, \"colorscale\": [[0.0, \"#0d0887\"], [0.1111111111111111, \"#46039f\"], [0.2222222222222222, \"#7201a8\"], [0.3333333333333333, \"#9c179e\"], [0.4444444444444444, \"#bd3786\"], [0.5555555555555556, \"#d8576b\"], [0.6666666666666666, \"#ed7953\"], [0.7777777777777778, \"#fb9f3a\"], [0.8888888888888888, \"#fdca26\"], [1.0, \"#f0f921\"]], \"type\": \"heatmapgl\"}], \"histogram\": [{\"marker\": {\"colorbar\": {\"outlinewidth\": 0, \"ticks\": \"\"}}, \"type\": \"histogram\"}], \"histogram2d\": [{\"colorbar\": {\"outlinewidth\": 0, \"ticks\": \"\"}, \"colorscale\": [[0.0, \"#0d0887\"], [0.1111111111111111, \"#46039f\"], [0.2222222222222222, \"#7201a8\"], [0.3333333333333333, \"#9c179e\"], [0.4444444444444444, \"#bd3786\"], [0.5555555555555556, \"#d8576b\"], [0.6666666666666666, \"#ed7953\"], [0.7777777777777778, \"#fb9f3a\"], [0.8888888888888888, \"#fdca26\"], [1.0, \"#f0f921\"]], \"type\": \"histogram2d\"}], \"histogram2dcontour\": [{\"colorbar\": {\"outlinewidth\": 0, \"ticks\": \"\"}, \"colorscale\": [[0.0, \"#0d0887\"], [0.1111111111111111, \"#46039f\"], [0.2222222222222222, \"#7201a8\"], [0.3333333333333333, \"#9c179e\"], [0.4444444444444444, \"#bd3786\"], [0.5555555555555556, \"#d8576b\"], [0.6666666666666666, \"#ed7953\"], [0.7777777777777778, \"#fb9f3a\"], [0.8888888888888888, \"#fdca26\"], [1.0, \"#f0f921\"]], \"type\": \"histogram2dcontour\"}], \"mesh3d\": [{\"colorbar\": {\"outlinewidth\": 0, \"ticks\": \"\"}, \"type\": \"mesh3d\"}], \"parcoords\": [{\"line\": {\"colorbar\": {\"outlinewidth\": 0, \"ticks\": \"\"}}, \"type\": \"parcoords\"}], \"pie\": [{\"automargin\": true, \"type\": \"pie\"}], \"scatter\": [{\"marker\": {\"colorbar\": {\"outlinewidth\": 0, \"ticks\": \"\"}}, \"type\": \"scatter\"}], \"scatter3d\": [{\"line\": {\"colorbar\": {\"outlinewidth\": 0, \"ticks\": \"\"}}, \"marker\": {\"colorbar\": {\"outlinewidth\": 0, \"ticks\": \"\"}}, \"type\": \"scatter3d\"}], \"scattercarpet\": [{\"marker\": {\"colorbar\": {\"outlinewidth\": 0, \"ticks\": \"\"}}, \"type\": \"scattercarpet\"}], \"scattergeo\": [{\"marker\": {\"colorbar\": {\"outlinewidth\": 0, \"ticks\": \"\"}}, \"type\": \"scattergeo\"}], \"scattergl\": [{\"marker\": {\"colorbar\": {\"outlinewidth\": 0, \"ticks\": \"\"}}, \"type\": \"scattergl\"}], \"scattermapbox\": [{\"marker\": {\"colorbar\": {\"outlinewidth\": 0, \"ticks\": \"\"}}, \"type\": \"scattermapbox\"}], \"scatterpolar\": [{\"marker\": {\"colorbar\": {\"outlinewidth\": 0, \"ticks\": \"\"}}, \"type\": \"scatterpolar\"}], \"scatterpolargl\": [{\"marker\": {\"colorbar\": {\"outlinewidth\": 0, \"ticks\": \"\"}}, \"type\": \"scatterpolargl\"}], \"scatterternary\": [{\"marker\": {\"colorbar\": {\"outlinewidth\": 0, \"ticks\": \"\"}}, \"type\": \"scatterternary\"}], \"surface\": [{\"colorbar\": {\"outlinewidth\": 0, \"ticks\": \"\"}, \"colorscale\": [[0.0, \"#0d0887\"], [0.1111111111111111, \"#46039f\"], [0.2222222222222222, \"#7201a8\"], [0.3333333333333333, \"#9c179e\"], [0.4444444444444444, \"#bd3786\"], [0.5555555555555556, \"#d8576b\"], [0.6666666666666666, \"#ed7953\"], [0.7777777777777778, \"#fb9f3a\"], [0.8888888888888888, \"#fdca26\"], [1.0, \"#f0f921\"]], \"type\": \"surface\"}], \"table\": [{\"cells\": {\"fill\": {\"color\": \"#EBF0F8\"}, \"line\": {\"color\": \"white\"}}, \"header\": {\"fill\": {\"color\": \"#C8D4E3\"}, \"line\": {\"color\": \"white\"}}, \"type\": \"table\"}]}, \"layout\": {\"annotationdefaults\": {\"arrowcolor\": \"#2a3f5f\", \"arrowhead\": 0, \"arrowwidth\": 1}, \"coloraxis\": {\"colorbar\": {\"outlinewidth\": 0, \"ticks\": \"\"}}, \"colorscale\": {\"diverging\": [[0, \"#8e0152\"], [0.1, \"#c51b7d\"], [0.2, \"#de77ae\"], [0.3, \"#f1b6da\"], [0.4, \"#fde0ef\"], [0.5, \"#f7f7f7\"], [0.6, \"#e6f5d0\"], [0.7, \"#b8e186\"], [0.8, \"#7fbc41\"], [0.9, \"#4d9221\"], [1, \"#276419\"]], \"sequential\": [[0.0, \"#0d0887\"], [0.1111111111111111, \"#46039f\"], [0.2222222222222222, \"#7201a8\"], [0.3333333333333333, \"#9c179e\"], [0.4444444444444444, \"#bd3786\"], [0.5555555555555556, \"#d8576b\"], [0.6666666666666666, \"#ed7953\"], [0.7777777777777778, \"#fb9f3a\"], [0.8888888888888888, \"#fdca26\"], [1.0, \"#f0f921\"]], \"sequentialminus\": [[0.0, \"#0d0887\"], [0.1111111111111111, \"#46039f\"], [0.2222222222222222, \"#7201a8\"], [0.3333333333333333, \"#9c179e\"], [0.4444444444444444, \"#bd3786\"], [0.5555555555555556, \"#d8576b\"], [0.6666666666666666, \"#ed7953\"], [0.7777777777777778, \"#fb9f3a\"], [0.8888888888888888, \"#fdca26\"], [1.0, \"#f0f921\"]]}, \"colorway\": [\"#636efa\", \"#EF553B\", \"#00cc96\", \"#ab63fa\", \"#FFA15A\", \"#19d3f3\", \"#FF6692\", \"#B6E880\", \"#FF97FF\", \"#FECB52\"], \"font\": {\"color\": \"#2a3f5f\"}, \"geo\": {\"bgcolor\": \"white\", \"lakecolor\": \"white\", \"landcolor\": \"#E5ECF6\", \"showlakes\": true, \"showland\": true, \"subunitcolor\": \"white\"}, \"hoverlabel\": {\"align\": \"left\"}, \"hovermode\": \"closest\", \"mapbox\": {\"style\": \"light\"}, \"paper_bgcolor\": \"white\", \"plot_bgcolor\": \"#E5ECF6\", \"polar\": {\"angularaxis\": {\"gridcolor\": \"white\", \"linecolor\": \"white\", \"ticks\": \"\"}, \"bgcolor\": \"#E5ECF6\", \"radialaxis\": {\"gridcolor\": \"white\", \"linecolor\": \"white\", \"ticks\": \"\"}}, \"scene\": {\"xaxis\": {\"backgroundcolor\": \"#E5ECF6\", \"gridcolor\": \"white\", \"gridwidth\": 2, \"linecolor\": \"white\", \"showbackground\": true, \"ticks\": \"\", \"zerolinecolor\": \"white\"}, \"yaxis\": {\"backgroundcolor\": \"#E5ECF6\", \"gridcolor\": \"white\", \"gridwidth\": 2, \"linecolor\": \"white\", \"showbackground\": true, \"ticks\": \"\", \"zerolinecolor\": \"white\"}, \"zaxis\": {\"backgroundcolor\": \"#E5ECF6\", \"gridcolor\": \"white\", \"gridwidth\": 2, \"linecolor\": \"white\", \"showbackground\": true, \"ticks\": \"\", \"zerolinecolor\": \"white\"}}, \"shapedefaults\": {\"line\": {\"color\": \"#2a3f5f\"}}, \"ternary\": {\"aaxis\": {\"gridcolor\": \"white\", \"linecolor\": \"white\", \"ticks\": \"\"}, \"baxis\": {\"gridcolor\": \"white\", \"linecolor\": \"white\", \"ticks\": \"\"}, \"bgcolor\": \"#E5ECF6\", \"caxis\": {\"gridcolor\": \"white\", \"linecolor\": \"white\", \"ticks\": \"\"}}, \"title\": {\"x\": 0.05}, \"xaxis\": {\"automargin\": true, \"gridcolor\": \"white\", \"linecolor\": \"white\", \"ticks\": \"\", \"title\": {\"standoff\": 15}, \"zerolinecolor\": \"white\", \"zerolinewidth\": 2}, \"yaxis\": {\"automargin\": true, \"gridcolor\": \"white\", \"linecolor\": \"white\", \"ticks\": \"\", \"title\": {\"standoff\": 15}, \"zerolinecolor\": \"white\", \"zerolinewidth\": 2}}}},\n",
       "                        {\"responsive\": true}\n",
       "                    ).then(function(){\n",
       "                            \n",
       "var gd = document.getElementById('ab489fc3-dcd0-4b18-bcf7-49eec89a32ef');\n",
       "var x = new MutationObserver(function (mutations, observer) {{\n",
       "        var display = window.getComputedStyle(gd).display;\n",
       "        if (!display || display === 'none') {{\n",
       "            console.log([gd, 'removed!']);\n",
       "            Plotly.purge(gd);\n",
       "            observer.disconnect();\n",
       "        }}\n",
       "}});\n",
       "\n",
       "// Listen for the removal of the full notebook cells\n",
       "var notebookContainer = gd.closest('#notebook-container');\n",
       "if (notebookContainer) {{\n",
       "    x.observe(notebookContainer, {childList: true});\n",
       "}}\n",
       "\n",
       "// Listen for the clearing of the current output cell\n",
       "var outputEl = gd.closest('.output');\n",
       "if (outputEl) {{\n",
       "    x.observe(outputEl, {childList: true});\n",
       "}}\n",
       "\n",
       "                        })\n",
       "                };\n",
       "                });\n",
       "            </script>\n",
       "        </div>"
      ]
     },
     "metadata": {},
     "output_type": "display_data"
    }
   ],
   "source": [
    "# lets visualize the confirmed case based in relation to total population\n",
    "\n",
    "import plotly.graph_objects as go\n",
    "\n",
    "\n",
    "# for grouped barplot using confirmed cases per country and population per country.\n",
    "\n",
    "fig = go.Figure(data = [\n",
    "go.Bar(\n",
    "    x = world_df['Name'],\n",
    "    y = world_df[\"Confirmed\"].head(20),\n",
    "    name = \"Confirmed\",\n",
    "    marker_color = \"indianred\"\n",
    "),\n",
    "go.Bar(\n",
    "    x = world_df['Name'],\n",
    "    y = world_df['Population'].head(20),\n",
    "    name = 'Population',\n",
    "    marker_color = \"lightsalmon\"\n",
    ")\n",
    "])\n",
    "\n",
    "# Here we modify the tickangle of the xaxis, resulting in rotated labels.\n",
    "fig.update_layout(barmode='group')\n",
    "fig.show()"
   ]
  },
  {
   "cell_type": "markdown",
   "metadata": {},
   "source": [
    " - This graph shows a small percentage of people are affected by the novel coronavirus. <a href = \"https://www.canada.ca/en/public-health/services/publications/diseases-conditions/people-high-risk-for-severe-illness-covid-19.html\">\n",
    "    People who are at high risk for severe illness from COVID-19</a>"
   ]
  },
  {
   "cell_type": "markdown",
   "metadata": {},
   "source": [
    "#### Lets plot world data using Choropleth Map"
   ]
  },
  {
   "cell_type": "code",
   "execution_count": 70,
   "metadata": {},
   "outputs": [
    {
     "data": {
      "text/plain": [
       "169                ★  United States\n",
       "170                       ★  Brazil\n",
       "171                        ★  India\n",
       "172                       ★  Russia\n",
       "142                 ★  South Africa\n",
       "                   ...             \n",
       "211             ★  Falkland Islands\n",
       "70                  ★  Vatican City\n",
       "165               ★  Western Sahara\n",
       "212    ★  Saint Pierre and Miquelon\n",
       "213                     ★  Anguilla\n",
       "Name: Name, Length: 214, dtype: object"
      ]
     },
     "execution_count": 70,
     "metadata": {},
     "output_type": "execute_result"
    }
   ],
   "source": [
    "world_df.iloc[1:]['Name']"
   ]
  },
  {
   "cell_type": "code",
   "execution_count": 71,
   "metadata": {},
   "outputs": [],
   "source": [
    "# For using choropleth first we have to make a dictionary\n",
    "\n",
    "data = dict(\n",
    "        type = 'choropleth',\n",
    "        locations = world_df.iloc[1:]['Name'],\n",
    "        z = world_df.iloc[1:]['Confirmed'],\n",
    "        text = world_df.iloc[1:]['Deceased'],\n",
    "        marker = dict(line = dict(color = 'rgb(255,255,255)',width = 2)),\n",
    "        colorbar = {'title' : \"Confirmed Cases\"}\n",
    "        )"
   ]
  },
  {
   "cell_type": "code",
   "execution_count": 72,
   "metadata": {},
   "outputs": [],
   "source": [
    "# Now create a layout for the graph\n",
    "\n",
    "layout = dict(\n",
    "    title = 'World COVID-19 Stats',\n",
    "    geo = dict(\n",
    "        showframe = False,\n",
    "        projection = {'type':'mercator'}\n",
    "    )\n",
    ")"
   ]
  },
  {
   "cell_type": "code",
   "execution_count": 73,
   "metadata": {},
   "outputs": [
    {
     "data": {
      "application/vnd.plotly.v1+json": {
       "config": {
        "linkText": "Export to plot.ly",
        "plotlyServerURL": "https://plot.ly",
        "showLink": false
       },
       "data": [
        {
         "colorbar": {
          "title": {
           "text": "Confirmed Cases"
          }
         },
         "locations": [
          "★  United States",
          "★  Brazil",
          "★  India",
          "★  Russia",
          "★  South Africa",
          "★  Peru",
          "★  Mexico",
          "★  Colombia",
          "★  Chile",
          "★  Spain",
          "★  Iran",
          "★  Argentina",
          "★  United Kingdom",
          "★  Saudi Arabia",
          "★  Bangladesh",
          "★  Pakistan",
          "★  France",
          "★  Italy",
          "★  Turkey",
          "★  Germany",
          "★  Iraq",
          "★  Philippines",
          "★  Indonesia",
          "★  Canada",
          "★  Qatar",
          "★  Bolivia",
          "★  Ecuador",
          "★  Ukraine",
          "★  Kazakhstan",
          "★  Israel",
          "★  Egypt",
          "★  Dominican Republic",
          "★  Sweden",
          "★  Panama",
          "★  China",
          "★  Oman",
          "★  Belgium",
          "★  Kuwait",
          "★  Romania",
          "★  Belarus",
          "★  Guatemala",
          "★  United Arab Emirates",
          "★  Netherlands",
          "★  Poland",
          "★  Japan",
          "★  Singapore",
          "★  Portugal",
          "★  Honduras",
          "★  Morocco",
          "★  Nigeria",
          "★  Bahrain",
          "★  Ghana",
          "★  Kyrgyzstan",
          "★  Armenia",
          "★  Algeria",
          "★  Ethiopia",
          "★  Switzerland",
          "★  Venezuela",
          "★  Uzbekistan",
          "★  Afghanistan",
          "★  Azerbaijan",
          "★  Costa Rica",
          "★  Moldova",
          "★  Kenya",
          "★  Nepal",
          "★  Serbia",
          "★  Ireland",
          "★  Austria",
          "★  Australia",
          "★  El Salvador",
          "★  Czechia",
          "★  Palestine",
          "★  Cameroon",
          "★  Bosnia and Herzegovina",
          "★  Ivory Coast",
          "★  South Korea",
          "★  Denmark",
          "★  Bulgaria",
          "★  Madagascar",
          "★  North Macedonia",
          "★  Paraguay",
          "★  Senegal",
          "★  Sudan",
          "★  Lebanon",
          "★  Kosovo",
          "★  Zambia",
          "★  Libya",
          "★  Norway",
          "★  DR Congo",
          "★  Malaysia",
          "★  Guinea",
          "★  French Guiana",
          "★  Greece",
          "★  Albania",
          "★  Gabon",
          "★  Tajikistan",
          "★  Croatia",
          "★  Haiti",
          "★  Finland",
          "★  Luxembourg",
          "★  Mauritania",
          "★  Maldives",
          "★  Zimbabwe",
          "★  Namibia",
          "★  Malawi",
          "★  Djibouti",
          "★  Hungary",
          "★  Equatorial Guinea",
          "★  Hong Kong",
          "★  Central African Republic",
          "★  Montenegro",
          "★  Nicaragua",
          "★  Eswatini",
          "★  Congo",
          "★  Cuba",
          "★  Suriname",
          "★  Cape Verde",
          "★  Mozambique",
          "★  Thailand",
          "★  Slovakia",
          "★  Somalia",
          "★  Mayotte",
          "★  Rwanda",
          "★  Sri Lanka",
          "★  Tunisia",
          "★  Mali",
          "★  The Gambia",
          "★  Slovenia",
          "★  Lithuania",
          "★  South Sudan",
          "★  Estonia",
          "★  Uganda",
          "★  Syria",
          "★  Angola",
          "★  Guinea-Bissau",
          "★  Benin",
          "★  Iceland",
          "★  Sierra Leone",
          "★  Yemen",
          "★  The Bahamas",
          "★  New Zealand",
          "★  Malta",
          "★  Jordan",
          "★  Aruba",
          "★  Uruguay",
          "★  Cyprus",
          "★  Jamaica",
          "★  Georgia",
          "★  Latvia",
          "★  Burkina Faso",
          "★  Botswana",
          "★  Liberia",
          "★  Togo",
          "★  Reunion",
          "★  Niger",
          "★  Andorra",
          "★  Vietnam",
          "★  Lesotho",
          "★  Chad",
          "★  Trinidad and Tobago",
          "★  Guyana",
          "★  SÃ£o TomÃ© and PrÃ­ncipe",
          "★  Guadeloupe",
          "★  San Marino",
          "★  Belize",
          "★  Channel Islands",
          "★  Tanzania",
          "★  Taiwan",
          "★  Myanmar",
          "★  Burundi",
          "★  Comoros",
          "★  Faroe Islands",
          "★  Turks and Caicos Islands",
          "★  Sint Maarten",
          "★  Papua New Guinea",
          "★  Mauritius",
          "★  Martinique",
          "★  Isle of Man",
          "★  Eritrea",
          "★  Mongolia",
          "★  French Polynesia",
          "★  Cambodia",
          "★  Gibraltar",
          "★  Cayman Islands",
          "★  Saint Martin",
          "★  Bermuda",
          "★  Barbados",
          "★  Bhutan",
          "★  Monaco",
          "★  Brunei",
          "★  Seychelles",
          "★  Liechtenstein",
          "★  Antigua and Barbuda",
          "★  Saint Vincent and the Grenadines",
          "★  Macao",
          "★  Curacao",
          "★  Fiji",
          "★  Saint Lucia",
          "★  Timor-Leste",
          "★  Grenada",
          "★  New Caledonia",
          "★  Laos",
          "★  British Virgin Islands",
          "★  Dominica",
          "★  Saint Kitts and Nevis",
          "★  Saint Barthelemy",
          "★  Greenland",
          "★  Montserrat",
          "★  Caribbean Netherlands",
          "★  Falkland Islands",
          "★  Vatican City",
          "★  Western Sahara",
          "★  Saint Pierre and Miquelon",
          "★  Anguilla"
         ],
         "marker": {
          "line": {
           "color": "rgb(255,255,255)",
           "width": 2
          }
         },
         "text": [
          180555,
          114744,
          57692,
          16383,
          13059,
          27453,
          60254,
          16968,
          10852,
          28838,
          20643,
          6947,
          41429,
          3649,
          3941,
          6235,
          30513,
          35437,
          6121,
          9332,
          6428,
          2998,
          6680,
          9116,
          193,
          4442,
          6310,
          2271,
          1415,
          834,
          5243,
          1567,
          5810,
          1878,
          4634,
          609,
          9988,
          515,
          3272,
          642,
          2580,
          375,
          6200,
          1955,
          1169,
          27,
          1796,
          1643,
          888,
          997,
          184,
          261,
          1056,
          852,
          1435,
          678,
          2001,
          323,
          273,
          1387,
          518,
          355,
          940,
          548,
          149,
          698,
          1777,
          732,
          502,
          661,
          412,
          128,
          408,
          532,
          113,
          309,
          622,
          545,
          178,
          564,
          192,
          269,
          815,
          123,
          448,
          280,
          188,
          264,
          251,
          125,
          53,
          55,
          242,
          250,
          53,
          66,
          171,
          196,
          334,
          124,
          158,
          26,
          153,
          52,
          168,
          60,
          613,
          83,
          77,
          61,
          84,
          133,
          83,
          77,
          89,
          57,
          37,
          20,
          58,
          33,
          93,
          39,
          12,
          12,
          71,
          125,
          87,
          131,
          84,
          47,
          63,
          20,
          89,
          96,
          33,
          39,
          10,
          69,
          553,
          29,
          22,
          10,
          12,
          7,
          42,
          20,
          16,
          17,
          33,
          55,
          3,
          82,
          27,
          6,
          69,
          53,
          27,
          30,
          76,
          14,
          31,
          15,
          15,
          42,
          6,
          48,
          21,
          7,
          6,
          1,
          7,
          0,
          2,
          17,
          4,
          10,
          16,
          24,
          0,
          0,
          0,
          0,
          0,
          1,
          5,
          9,
          7,
          0,
          4,
          3,
          0,
          1,
          3,
          0,
          0,
          1,
          1,
          0,
          0,
          0,
          0,
          0,
          1,
          0,
          0,
          0,
          0,
          1,
          0,
          0,
          0,
          1,
          0,
          0
         ],
         "type": "choropleth",
         "z": [
          5869551,
          3605783,
          3105185,
          956749,
          609773,
          585236,
          556216,
          533103,
          397665,
          386054,
          358905,
          336802,
          325642,
          307479,
          294598,
          292765,
          260873,
          259345,
          258249,
          234399,
          204341,
          189601,
          153535,
          126547,
          117008,
          108427,
          107769,
          104958,
          104543,
          102663,
          97237,
          91161,
          86068,
          85480,
          84951,
          83769,
          81468,
          80528,
          78505,
          70468,
          67856,
          67007,
          66554,
          61762,
          60733,
          56353,
          55597,
          53983,
          52349,
          51905,
          49038,
          43505,
          43023,
          42792,
          41460,
          40671,
          39903,
          38957,
          38946,
          37999,
          35274,
          33820,
          33478,
          32364,
          31935,
          30657,
          27969,
          25253,
          24812,
          24622,
          21867,
          18802,
          18762,
          17715,
          17471,
          17399,
          16317,
          15287,
          14327,
          13595,
          12974,
          12949,
          12836,
          12698,
          12168,
          11082,
          10437,
          10318,
          9830,
          9267,
          8967,
          8797,
          8664,
          8427,
          8388,
          8311,
          8175,
          8082,
          7920,
          7762,
          6905,
          6660,
          5893,
          5854,
          5382,
          5382,
          5155,
          4926,
          4683,
          4679,
          4313,
          4311,
          4189,
          3850,
          3617,
          3569,
          3455,
          3395,
          3395,
          3356,
          3269,
          3237,
          3089,
          2953,
          2818,
          2705,
          2685,
          2651,
          2635,
          2499,
          2272,
          2263,
          2217,
          2171,
          2149,
          2115,
          2064,
          1980,
          1911,
          1765,
          1674,
          1612,
          1609,
          1568,
          1521,
          1421,
          1413,
          1411,
          1337,
          1320,
          1308,
          1286,
          1277,
          1209,
          1172,
          1045,
          1016,
          1015,
          986,
          963,
          925,
          892,
          771,
          704,
          668,
          614,
          509,
          487,
          450,
          430,
          417,
          384,
          383,
          368,
          361,
          346,
          336,
          336,
          306,
          298,
          298,
          273,
          246,
          205,
          176,
          167,
          158,
          155,
          154,
          143,
          132,
          99,
          94,
          58,
          46,
          39,
          28,
          26,
          26,
          24,
          23,
          22,
          21,
          19,
          17,
          16,
          14,
          13,
          13,
          13,
          12,
          10,
          5,
          3
         ]
        }
       ],
       "layout": {
        "geo": {
         "projection": {
          "type": "mercator"
         },
         "showframe": false
        },
        "template": {
         "data": {
          "bar": [
           {
            "error_x": {
             "color": "#2a3f5f"
            },
            "error_y": {
             "color": "#2a3f5f"
            },
            "marker": {
             "line": {
              "color": "#E5ECF6",
              "width": 0.5
             }
            },
            "type": "bar"
           }
          ],
          "barpolar": [
           {
            "marker": {
             "line": {
              "color": "#E5ECF6",
              "width": 0.5
             }
            },
            "type": "barpolar"
           }
          ],
          "carpet": [
           {
            "aaxis": {
             "endlinecolor": "#2a3f5f",
             "gridcolor": "white",
             "linecolor": "white",
             "minorgridcolor": "white",
             "startlinecolor": "#2a3f5f"
            },
            "baxis": {
             "endlinecolor": "#2a3f5f",
             "gridcolor": "white",
             "linecolor": "white",
             "minorgridcolor": "white",
             "startlinecolor": "#2a3f5f"
            },
            "type": "carpet"
           }
          ],
          "choropleth": [
           {
            "colorbar": {
             "outlinewidth": 0,
             "ticks": ""
            },
            "type": "choropleth"
           }
          ],
          "contour": [
           {
            "colorbar": {
             "outlinewidth": 0,
             "ticks": ""
            },
            "colorscale": [
             [
              0,
              "#0d0887"
             ],
             [
              0.1111111111111111,
              "#46039f"
             ],
             [
              0.2222222222222222,
              "#7201a8"
             ],
             [
              0.3333333333333333,
              "#9c179e"
             ],
             [
              0.4444444444444444,
              "#bd3786"
             ],
             [
              0.5555555555555556,
              "#d8576b"
             ],
             [
              0.6666666666666666,
              "#ed7953"
             ],
             [
              0.7777777777777778,
              "#fb9f3a"
             ],
             [
              0.8888888888888888,
              "#fdca26"
             ],
             [
              1,
              "#f0f921"
             ]
            ],
            "type": "contour"
           }
          ],
          "contourcarpet": [
           {
            "colorbar": {
             "outlinewidth": 0,
             "ticks": ""
            },
            "type": "contourcarpet"
           }
          ],
          "heatmap": [
           {
            "colorbar": {
             "outlinewidth": 0,
             "ticks": ""
            },
            "colorscale": [
             [
              0,
              "#0d0887"
             ],
             [
              0.1111111111111111,
              "#46039f"
             ],
             [
              0.2222222222222222,
              "#7201a8"
             ],
             [
              0.3333333333333333,
              "#9c179e"
             ],
             [
              0.4444444444444444,
              "#bd3786"
             ],
             [
              0.5555555555555556,
              "#d8576b"
             ],
             [
              0.6666666666666666,
              "#ed7953"
             ],
             [
              0.7777777777777778,
              "#fb9f3a"
             ],
             [
              0.8888888888888888,
              "#fdca26"
             ],
             [
              1,
              "#f0f921"
             ]
            ],
            "type": "heatmap"
           }
          ],
          "heatmapgl": [
           {
            "colorbar": {
             "outlinewidth": 0,
             "ticks": ""
            },
            "colorscale": [
             [
              0,
              "#0d0887"
             ],
             [
              0.1111111111111111,
              "#46039f"
             ],
             [
              0.2222222222222222,
              "#7201a8"
             ],
             [
              0.3333333333333333,
              "#9c179e"
             ],
             [
              0.4444444444444444,
              "#bd3786"
             ],
             [
              0.5555555555555556,
              "#d8576b"
             ],
             [
              0.6666666666666666,
              "#ed7953"
             ],
             [
              0.7777777777777778,
              "#fb9f3a"
             ],
             [
              0.8888888888888888,
              "#fdca26"
             ],
             [
              1,
              "#f0f921"
             ]
            ],
            "type": "heatmapgl"
           }
          ],
          "histogram": [
           {
            "marker": {
             "colorbar": {
              "outlinewidth": 0,
              "ticks": ""
             }
            },
            "type": "histogram"
           }
          ],
          "histogram2d": [
           {
            "colorbar": {
             "outlinewidth": 0,
             "ticks": ""
            },
            "colorscale": [
             [
              0,
              "#0d0887"
             ],
             [
              0.1111111111111111,
              "#46039f"
             ],
             [
              0.2222222222222222,
              "#7201a8"
             ],
             [
              0.3333333333333333,
              "#9c179e"
             ],
             [
              0.4444444444444444,
              "#bd3786"
             ],
             [
              0.5555555555555556,
              "#d8576b"
             ],
             [
              0.6666666666666666,
              "#ed7953"
             ],
             [
              0.7777777777777778,
              "#fb9f3a"
             ],
             [
              0.8888888888888888,
              "#fdca26"
             ],
             [
              1,
              "#f0f921"
             ]
            ],
            "type": "histogram2d"
           }
          ],
          "histogram2dcontour": [
           {
            "colorbar": {
             "outlinewidth": 0,
             "ticks": ""
            },
            "colorscale": [
             [
              0,
              "#0d0887"
             ],
             [
              0.1111111111111111,
              "#46039f"
             ],
             [
              0.2222222222222222,
              "#7201a8"
             ],
             [
              0.3333333333333333,
              "#9c179e"
             ],
             [
              0.4444444444444444,
              "#bd3786"
             ],
             [
              0.5555555555555556,
              "#d8576b"
             ],
             [
              0.6666666666666666,
              "#ed7953"
             ],
             [
              0.7777777777777778,
              "#fb9f3a"
             ],
             [
              0.8888888888888888,
              "#fdca26"
             ],
             [
              1,
              "#f0f921"
             ]
            ],
            "type": "histogram2dcontour"
           }
          ],
          "mesh3d": [
           {
            "colorbar": {
             "outlinewidth": 0,
             "ticks": ""
            },
            "type": "mesh3d"
           }
          ],
          "parcoords": [
           {
            "line": {
             "colorbar": {
              "outlinewidth": 0,
              "ticks": ""
             }
            },
            "type": "parcoords"
           }
          ],
          "pie": [
           {
            "automargin": true,
            "type": "pie"
           }
          ],
          "scatter": [
           {
            "marker": {
             "colorbar": {
              "outlinewidth": 0,
              "ticks": ""
             }
            },
            "type": "scatter"
           }
          ],
          "scatter3d": [
           {
            "line": {
             "colorbar": {
              "outlinewidth": 0,
              "ticks": ""
             }
            },
            "marker": {
             "colorbar": {
              "outlinewidth": 0,
              "ticks": ""
             }
            },
            "type": "scatter3d"
           }
          ],
          "scattercarpet": [
           {
            "marker": {
             "colorbar": {
              "outlinewidth": 0,
              "ticks": ""
             }
            },
            "type": "scattercarpet"
           }
          ],
          "scattergeo": [
           {
            "marker": {
             "colorbar": {
              "outlinewidth": 0,
              "ticks": ""
             }
            },
            "type": "scattergeo"
           }
          ],
          "scattergl": [
           {
            "marker": {
             "colorbar": {
              "outlinewidth": 0,
              "ticks": ""
             }
            },
            "type": "scattergl"
           }
          ],
          "scattermapbox": [
           {
            "marker": {
             "colorbar": {
              "outlinewidth": 0,
              "ticks": ""
             }
            },
            "type": "scattermapbox"
           }
          ],
          "scatterpolar": [
           {
            "marker": {
             "colorbar": {
              "outlinewidth": 0,
              "ticks": ""
             }
            },
            "type": "scatterpolar"
           }
          ],
          "scatterpolargl": [
           {
            "marker": {
             "colorbar": {
              "outlinewidth": 0,
              "ticks": ""
             }
            },
            "type": "scatterpolargl"
           }
          ],
          "scatterternary": [
           {
            "marker": {
             "colorbar": {
              "outlinewidth": 0,
              "ticks": ""
             }
            },
            "type": "scatterternary"
           }
          ],
          "surface": [
           {
            "colorbar": {
             "outlinewidth": 0,
             "ticks": ""
            },
            "colorscale": [
             [
              0,
              "#0d0887"
             ],
             [
              0.1111111111111111,
              "#46039f"
             ],
             [
              0.2222222222222222,
              "#7201a8"
             ],
             [
              0.3333333333333333,
              "#9c179e"
             ],
             [
              0.4444444444444444,
              "#bd3786"
             ],
             [
              0.5555555555555556,
              "#d8576b"
             ],
             [
              0.6666666666666666,
              "#ed7953"
             ],
             [
              0.7777777777777778,
              "#fb9f3a"
             ],
             [
              0.8888888888888888,
              "#fdca26"
             ],
             [
              1,
              "#f0f921"
             ]
            ],
            "type": "surface"
           }
          ],
          "table": [
           {
            "cells": {
             "fill": {
              "color": "#EBF0F8"
             },
             "line": {
              "color": "white"
             }
            },
            "header": {
             "fill": {
              "color": "#C8D4E3"
             },
             "line": {
              "color": "white"
             }
            },
            "type": "table"
           }
          ]
         },
         "layout": {
          "annotationdefaults": {
           "arrowcolor": "#2a3f5f",
           "arrowhead": 0,
           "arrowwidth": 1
          },
          "coloraxis": {
           "colorbar": {
            "outlinewidth": 0,
            "ticks": ""
           }
          },
          "colorscale": {
           "diverging": [
            [
             0,
             "#8e0152"
            ],
            [
             0.1,
             "#c51b7d"
            ],
            [
             0.2,
             "#de77ae"
            ],
            [
             0.3,
             "#f1b6da"
            ],
            [
             0.4,
             "#fde0ef"
            ],
            [
             0.5,
             "#f7f7f7"
            ],
            [
             0.6,
             "#e6f5d0"
            ],
            [
             0.7,
             "#b8e186"
            ],
            [
             0.8,
             "#7fbc41"
            ],
            [
             0.9,
             "#4d9221"
            ],
            [
             1,
             "#276419"
            ]
           ],
           "sequential": [
            [
             0,
             "#0d0887"
            ],
            [
             0.1111111111111111,
             "#46039f"
            ],
            [
             0.2222222222222222,
             "#7201a8"
            ],
            [
             0.3333333333333333,
             "#9c179e"
            ],
            [
             0.4444444444444444,
             "#bd3786"
            ],
            [
             0.5555555555555556,
             "#d8576b"
            ],
            [
             0.6666666666666666,
             "#ed7953"
            ],
            [
             0.7777777777777778,
             "#fb9f3a"
            ],
            [
             0.8888888888888888,
             "#fdca26"
            ],
            [
             1,
             "#f0f921"
            ]
           ],
           "sequentialminus": [
            [
             0,
             "#0d0887"
            ],
            [
             0.1111111111111111,
             "#46039f"
            ],
            [
             0.2222222222222222,
             "#7201a8"
            ],
            [
             0.3333333333333333,
             "#9c179e"
            ],
            [
             0.4444444444444444,
             "#bd3786"
            ],
            [
             0.5555555555555556,
             "#d8576b"
            ],
            [
             0.6666666666666666,
             "#ed7953"
            ],
            [
             0.7777777777777778,
             "#fb9f3a"
            ],
            [
             0.8888888888888888,
             "#fdca26"
            ],
            [
             1,
             "#f0f921"
            ]
           ]
          },
          "colorway": [
           "#636efa",
           "#EF553B",
           "#00cc96",
           "#ab63fa",
           "#FFA15A",
           "#19d3f3",
           "#FF6692",
           "#B6E880",
           "#FF97FF",
           "#FECB52"
          ],
          "font": {
           "color": "#2a3f5f"
          },
          "geo": {
           "bgcolor": "white",
           "lakecolor": "white",
           "landcolor": "#E5ECF6",
           "showlakes": true,
           "showland": true,
           "subunitcolor": "white"
          },
          "hoverlabel": {
           "align": "left"
          },
          "hovermode": "closest",
          "mapbox": {
           "style": "light"
          },
          "paper_bgcolor": "white",
          "plot_bgcolor": "#E5ECF6",
          "polar": {
           "angularaxis": {
            "gridcolor": "white",
            "linecolor": "white",
            "ticks": ""
           },
           "bgcolor": "#E5ECF6",
           "radialaxis": {
            "gridcolor": "white",
            "linecolor": "white",
            "ticks": ""
           }
          },
          "scene": {
           "xaxis": {
            "backgroundcolor": "#E5ECF6",
            "gridcolor": "white",
            "gridwidth": 2,
            "linecolor": "white",
            "showbackground": true,
            "ticks": "",
            "zerolinecolor": "white"
           },
           "yaxis": {
            "backgroundcolor": "#E5ECF6",
            "gridcolor": "white",
            "gridwidth": 2,
            "linecolor": "white",
            "showbackground": true,
            "ticks": "",
            "zerolinecolor": "white"
           },
           "zaxis": {
            "backgroundcolor": "#E5ECF6",
            "gridcolor": "white",
            "gridwidth": 2,
            "linecolor": "white",
            "showbackground": true,
            "ticks": "",
            "zerolinecolor": "white"
           }
          },
          "shapedefaults": {
           "line": {
            "color": "#2a3f5f"
           }
          },
          "ternary": {
           "aaxis": {
            "gridcolor": "white",
            "linecolor": "white",
            "ticks": ""
           },
           "baxis": {
            "gridcolor": "white",
            "linecolor": "white",
            "ticks": ""
           },
           "bgcolor": "#E5ECF6",
           "caxis": {
            "gridcolor": "white",
            "linecolor": "white",
            "ticks": ""
           }
          },
          "title": {
           "x": 0.05
          },
          "xaxis": {
           "automargin": true,
           "gridcolor": "white",
           "linecolor": "white",
           "ticks": "",
           "title": {
            "standoff": 15
           },
           "zerolinecolor": "white",
           "zerolinewidth": 2
          },
          "yaxis": {
           "automargin": true,
           "gridcolor": "white",
           "linecolor": "white",
           "ticks": "",
           "title": {
            "standoff": 15
           },
           "zerolinecolor": "white",
           "zerolinewidth": 2
          }
         }
        },
        "title": {
         "text": "World COVID-19 Stats"
        }
       }
      },
      "text/html": [
       "<div>\n",
       "        \n",
       "        \n",
       "            <div id=\"416c7764-d611-40f8-80c9-73f88dabdf53\" class=\"plotly-graph-div\" style=\"height:525px; width:100%;\"></div>\n",
       "            <script type=\"text/javascript\">\n",
       "                require([\"plotly\"], function(Plotly) {\n",
       "                    window.PLOTLYENV=window.PLOTLYENV || {};\n",
       "                    \n",
       "                if (document.getElementById(\"416c7764-d611-40f8-80c9-73f88dabdf53\")) {\n",
       "                    Plotly.newPlot(\n",
       "                        '416c7764-d611-40f8-80c9-73f88dabdf53',\n",
       "                        [{\"colorbar\": {\"title\": {\"text\": \"Confirmed Cases\"}}, \"locations\": [\"\\u2605  United States\", \"\\u2605  Brazil\", \"\\u2605  India\", \"\\u2605  Russia\", \"\\u2605  South Africa\", \"\\u2605  Peru\", \"\\u2605  Mexico\", \"\\u2605  Colombia\", \"\\u2605  Chile\", \"\\u2605  Spain\", \"\\u2605  Iran\", \"\\u2605  Argentina\", \"\\u2605  United Kingdom\", \"\\u2605  Saudi Arabia\", \"\\u2605  Bangladesh\", \"\\u2605  Pakistan\", \"\\u2605  France\", \"\\u2605  Italy\", \"\\u2605  Turkey\", \"\\u2605  Germany\", \"\\u2605  Iraq\", \"\\u2605  Philippines\", \"\\u2605  Indonesia\", \"\\u2605  Canada\", \"\\u2605  Qatar\", \"\\u2605  Bolivia\", \"\\u2605  Ecuador\", \"\\u2605  Ukraine\", \"\\u2605  Kazakhstan\", \"\\u2605  Israel\", \"\\u2605  Egypt\", \"\\u2605  Dominican Republic\", \"\\u2605  Sweden\", \"\\u2605  Panama\", \"\\u2605  China\", \"\\u2605  Oman\", \"\\u2605  Belgium\", \"\\u2605  Kuwait\", \"\\u2605  Romania\", \"\\u2605  Belarus\", \"\\u2605  Guatemala\", \"\\u2605  United Arab Emirates\", \"\\u2605  Netherlands\", \"\\u2605  Poland\", \"\\u2605  Japan\", \"\\u2605  Singapore\", \"\\u2605  Portugal\", \"\\u2605  Honduras\", \"\\u2605  Morocco\", \"\\u2605  Nigeria\", \"\\u2605  Bahrain\", \"\\u2605  Ghana\", \"\\u2605  Kyrgyzstan\", \"\\u2605  Armenia\", \"\\u2605  Algeria\", \"\\u2605  Ethiopia\", \"\\u2605  Switzerland\", \"\\u2605  Venezuela\", \"\\u2605  Uzbekistan\", \"\\u2605  Afghanistan\", \"\\u2605  Azerbaijan\", \"\\u2605  Costa Rica\", \"\\u2605  Moldova\", \"\\u2605  Kenya\", \"\\u2605  Nepal\", \"\\u2605  Serbia\", \"\\u2605  Ireland\", \"\\u2605  Austria\", \"\\u2605  Australia\", \"\\u2605  El Salvador\", \"\\u2605  Czechia\", \"\\u2605  Palestine\", \"\\u2605  Cameroon\", \"\\u2605  Bosnia and Herzegovina\", \"\\u2605  Ivory Coast\", \"\\u2605  South Korea\", \"\\u2605  Denmark\", \"\\u2605  Bulgaria\", \"\\u2605  Madagascar\", \"\\u2605  North Macedonia\", \"\\u2605  Paraguay\", \"\\u2605  Senegal\", \"\\u2605  Sudan\", \"\\u2605  Lebanon\", \"\\u2605  Kosovo\", \"\\u2605  Zambia\", \"\\u2605  Libya\", \"\\u2605  Norway\", \"\\u2605  DR Congo\", \"\\u2605  Malaysia\", \"\\u2605  Guinea\", \"\\u2605  French Guiana\", \"\\u2605  Greece\", \"\\u2605  Albania\", \"\\u2605  Gabon\", \"\\u2605  Tajikistan\", \"\\u2605  Croatia\", \"\\u2605  Haiti\", \"\\u2605  Finland\", \"\\u2605  Luxembourg\", \"\\u2605  Mauritania\", \"\\u2605  Maldives\", \"\\u2605  Zimbabwe\", \"\\u2605  Namibia\", \"\\u2605  Malawi\", \"\\u2605  Djibouti\", \"\\u2605  Hungary\", \"\\u2605  Equatorial Guinea\", \"\\u2605  Hong Kong\", \"\\u2605  Central African Republic\", \"\\u2605  Montenegro\", \"\\u2605  Nicaragua\", \"\\u2605  Eswatini\", \"\\u2605  Congo\", \"\\u2605  Cuba\", \"\\u2605  Suriname\", \"\\u2605  Cape Verde\", \"\\u2605  Mozambique\", \"\\u2605  Thailand\", \"\\u2605  Slovakia\", \"\\u2605  Somalia\", \"\\u2605  Mayotte\", \"\\u2605  Rwanda\", \"\\u2605  Sri Lanka\", \"\\u2605  Tunisia\", \"\\u2605  Mali\", \"\\u2605  The Gambia\", \"\\u2605  Slovenia\", \"\\u2605  Lithuania\", \"\\u2605  South Sudan\", \"\\u2605  Estonia\", \"\\u2605  Uganda\", \"\\u2605  Syria\", \"\\u2605  Angola\", \"\\u2605  Guinea-Bissau\", \"\\u2605  Benin\", \"\\u2605  Iceland\", \"\\u2605  Sierra Leone\", \"\\u2605  Yemen\", \"\\u2605  The Bahamas\", \"\\u2605  New Zealand\", \"\\u2605  Malta\", \"\\u2605  Jordan\", \"\\u2605  Aruba\", \"\\u2605  Uruguay\", \"\\u2605  Cyprus\", \"\\u2605  Jamaica\", \"\\u2605  Georgia\", \"\\u2605  Latvia\", \"\\u2605  Burkina Faso\", \"\\u2605  Botswana\", \"\\u2605  Liberia\", \"\\u2605  Togo\", \"\\u2605  Reunion\", \"\\u2605  Niger\", \"\\u2605  Andorra\", \"\\u2605  Vietnam\", \"\\u2605  Lesotho\", \"\\u2605  Chad\", \"\\u2605  Trinidad and Tobago\", \"\\u2605  Guyana\", \"\\u2605  S\\u00c3\\u00a3o Tom\\u00c3\\u00a9 and Pr\\u00c3\\u00adncipe\", \"\\u2605  Guadeloupe\", \"\\u2605  San Marino\", \"\\u2605  Belize\", \"\\u2605  Channel Islands\", \"\\u2605  Tanzania\", \"\\u2605  Taiwan\", \"\\u2605  Myanmar\", \"\\u2605  Burundi\", \"\\u2605  Comoros\", \"\\u2605  Faroe Islands\", \"\\u2605  Turks and Caicos Islands\", \"\\u2605  Sint Maarten\", \"\\u2605  Papua New Guinea\", \"\\u2605  Mauritius\", \"\\u2605  Martinique\", \"\\u2605  Isle of Man\", \"\\u2605  Eritrea\", \"\\u2605  Mongolia\", \"\\u2605  French Polynesia\", \"\\u2605  Cambodia\", \"\\u2605  Gibraltar\", \"\\u2605  Cayman Islands\", \"\\u2605  Saint Martin\", \"\\u2605  Bermuda\", \"\\u2605  Barbados\", \"\\u2605  Bhutan\", \"\\u2605  Monaco\", \"\\u2605  Brunei\", \"\\u2605  Seychelles\", \"\\u2605  Liechtenstein\", \"\\u2605  Antigua and Barbuda\", \"\\u2605  Saint Vincent and the Grenadines\", \"\\u2605  Macao\", \"\\u2605  Curacao\", \"\\u2605  Fiji\", \"\\u2605  Saint Lucia\", \"\\u2605  Timor-Leste\", \"\\u2605  Grenada\", \"\\u2605  New Caledonia\", \"\\u2605  Laos\", \"\\u2605  British Virgin Islands\", \"\\u2605  Dominica\", \"\\u2605  Saint Kitts and Nevis\", \"\\u2605  Saint Barthelemy\", \"\\u2605  Greenland\", \"\\u2605  Montserrat\", \"\\u2605  Caribbean Netherlands\", \"\\u2605  Falkland Islands\", \"\\u2605  Vatican City\", \"\\u2605  Western Sahara\", \"\\u2605  Saint Pierre and Miquelon\", \"\\u2605  Anguilla\"], \"marker\": {\"line\": {\"color\": \"rgb(255,255,255)\", \"width\": 2}}, \"text\": [180555.0, 114744.0, 57692.0, 16383.0, 13059.0, 27453.0, 60254.0, 16968.0, 10852.0, 28838.0, 20643.0, 6947.0, 41429.0, 3649.0, 3941.0, 6235.0, 30513.0, 35437.0, 6121.0, 9332.0, 6428.0, 2998.0, 6680.0, 9116.0, 193.0, 4442.0, 6310.0, 2271.0, 1415.0, 834.0, 5243.0, 1567.0, 5810.0, 1878.0, 4634.0, 609.0, 9988.0, 515.0, 3272.0, 642.0, 2580.0, 375.0, 6200.0, 1955.0, 1169.0, 27.0, 1796.0, 1643.0, 888.0, 997.0, 184.0, 261.0, 1056.0, 852.0, 1435.0, 678.0, 2001.0, 323.0, 273.0, 1387.0, 518.0, 355.0, 940.0, 548.0, 149.0, 698.0, 1777.0, 732.0, 502.0, 661.0, 412.0, 128.0, 408.0, 532.0, 113.0, 309.0, 622.0, 545.0, 178.0, 564.0, 192.0, 269.0, 815.0, 123.0, 448.0, 280.0, 188.0, 264.0, 251.0, 125.0, 53.0, 55.0, 242.0, 250.0, 53.0, 66.0, 171.0, 196.0, 334.0, 124.0, 158.0, 26.0, 153.0, 52.0, 168.0, 60.0, 613.0, 83.0, 77.0, 61.0, 84.0, 133.0, 83.0, 77.0, 89.0, 57.0, 37.0, 20.0, 58.0, 33.0, 93.0, 39.0, 12.0, 12.0, 71.0, 125.0, 87.0, 131.0, 84.0, 47.0, 63.0, 20.0, 89.0, 96.0, 33.0, 39.0, 10.0, 69.0, 553.0, 29.0, 22.0, 10.0, 12.0, 7.0, 42.0, 20.0, 16.0, 17.0, 33.0, 55.0, 3.0, 82.0, 27.0, 6.0, 69.0, 53.0, 27.0, 30.0, 76.0, 14.0, 31.0, 15.0, 15.0, 42.0, 6.0, 48.0, 21.0, 7.0, 6.0, 1.0, 7.0, 0.0, 2.0, 17.0, 4.0, 10.0, 16.0, 24.0, 0.0, 0.0, 0.0, 0.0, 0.0, 1.0, 5.0, 9.0, 7.0, 0.0, 4.0, 3.0, 0.0, 1.0, 3.0, 0.0, 0.0, 1.0, 1.0, 0.0, 0.0, 0.0, 0.0, 0.0, 1.0, 0.0, 0.0, 0.0, 0.0, 1.0, 0.0, 0.0, 0.0, 1.0, 0.0, 0.0], \"type\": \"choropleth\", \"z\": [5869551, 3605783, 3105185, 956749, 609773, 585236, 556216, 533103, 397665, 386054, 358905, 336802, 325642, 307479, 294598, 292765, 260873, 259345, 258249, 234399, 204341, 189601, 153535, 126547, 117008, 108427, 107769, 104958, 104543, 102663, 97237, 91161, 86068, 85480, 84951, 83769, 81468, 80528, 78505, 70468, 67856, 67007, 66554, 61762, 60733, 56353, 55597, 53983, 52349, 51905, 49038, 43505, 43023, 42792, 41460, 40671, 39903, 38957, 38946, 37999, 35274, 33820, 33478, 32364, 31935, 30657, 27969, 25253, 24812, 24622, 21867, 18802, 18762, 17715, 17471, 17399, 16317, 15287, 14327, 13595, 12974, 12949, 12836, 12698, 12168, 11082, 10437, 10318, 9830, 9267, 8967, 8797, 8664, 8427, 8388, 8311, 8175, 8082, 7920, 7762, 6905, 6660, 5893, 5854, 5382, 5382, 5155, 4926, 4683, 4679, 4313, 4311, 4189, 3850, 3617, 3569, 3455, 3395, 3395, 3356, 3269, 3237, 3089, 2953, 2818, 2705, 2685, 2651, 2635, 2499, 2272, 2263, 2217, 2171, 2149, 2115, 2064, 1980, 1911, 1765, 1674, 1612, 1609, 1568, 1521, 1421, 1413, 1411, 1337, 1320, 1308, 1286, 1277, 1209, 1172, 1045, 1016, 1015, 986, 963, 925, 892, 771, 704, 668, 614, 509, 487, 450, 430, 417, 384, 383, 368, 361, 346, 336, 336, 306, 298, 298, 273, 246, 205, 176, 167, 158, 155, 154, 143, 132, 99, 94, 58, 46, 39, 28, 26, 26, 24, 23, 22, 21, 19, 17, 16, 14, 13, 13, 13, 12, 10, 5, 3]}],\n",
       "                        {\"geo\": {\"projection\": {\"type\": \"mercator\"}, \"showframe\": false}, \"template\": {\"data\": {\"bar\": [{\"error_x\": {\"color\": \"#2a3f5f\"}, \"error_y\": {\"color\": \"#2a3f5f\"}, \"marker\": {\"line\": {\"color\": \"#E5ECF6\", \"width\": 0.5}}, \"type\": \"bar\"}], \"barpolar\": [{\"marker\": {\"line\": {\"color\": \"#E5ECF6\", \"width\": 0.5}}, \"type\": \"barpolar\"}], \"carpet\": [{\"aaxis\": {\"endlinecolor\": \"#2a3f5f\", \"gridcolor\": \"white\", \"linecolor\": \"white\", \"minorgridcolor\": \"white\", \"startlinecolor\": \"#2a3f5f\"}, \"baxis\": {\"endlinecolor\": \"#2a3f5f\", \"gridcolor\": \"white\", \"linecolor\": \"white\", \"minorgridcolor\": \"white\", \"startlinecolor\": \"#2a3f5f\"}, \"type\": \"carpet\"}], \"choropleth\": [{\"colorbar\": {\"outlinewidth\": 0, \"ticks\": \"\"}, \"type\": \"choropleth\"}], \"contour\": [{\"colorbar\": {\"outlinewidth\": 0, \"ticks\": \"\"}, \"colorscale\": [[0.0, \"#0d0887\"], [0.1111111111111111, \"#46039f\"], [0.2222222222222222, \"#7201a8\"], [0.3333333333333333, \"#9c179e\"], [0.4444444444444444, \"#bd3786\"], [0.5555555555555556, \"#d8576b\"], [0.6666666666666666, \"#ed7953\"], [0.7777777777777778, \"#fb9f3a\"], [0.8888888888888888, \"#fdca26\"], [1.0, \"#f0f921\"]], \"type\": \"contour\"}], \"contourcarpet\": [{\"colorbar\": {\"outlinewidth\": 0, \"ticks\": \"\"}, \"type\": \"contourcarpet\"}], \"heatmap\": [{\"colorbar\": {\"outlinewidth\": 0, \"ticks\": \"\"}, \"colorscale\": [[0.0, \"#0d0887\"], [0.1111111111111111, \"#46039f\"], [0.2222222222222222, \"#7201a8\"], [0.3333333333333333, \"#9c179e\"], [0.4444444444444444, \"#bd3786\"], [0.5555555555555556, \"#d8576b\"], [0.6666666666666666, \"#ed7953\"], [0.7777777777777778, \"#fb9f3a\"], [0.8888888888888888, \"#fdca26\"], [1.0, \"#f0f921\"]], \"type\": \"heatmap\"}], \"heatmapgl\": [{\"colorbar\": {\"outlinewidth\": 0, \"ticks\": \"\"}, \"colorscale\": [[0.0, \"#0d0887\"], [0.1111111111111111, \"#46039f\"], [0.2222222222222222, \"#7201a8\"], [0.3333333333333333, \"#9c179e\"], [0.4444444444444444, \"#bd3786\"], [0.5555555555555556, \"#d8576b\"], [0.6666666666666666, \"#ed7953\"], [0.7777777777777778, \"#fb9f3a\"], [0.8888888888888888, \"#fdca26\"], [1.0, \"#f0f921\"]], \"type\": \"heatmapgl\"}], \"histogram\": [{\"marker\": {\"colorbar\": {\"outlinewidth\": 0, \"ticks\": \"\"}}, \"type\": \"histogram\"}], \"histogram2d\": [{\"colorbar\": {\"outlinewidth\": 0, \"ticks\": \"\"}, \"colorscale\": [[0.0, \"#0d0887\"], [0.1111111111111111, \"#46039f\"], [0.2222222222222222, \"#7201a8\"], [0.3333333333333333, \"#9c179e\"], [0.4444444444444444, \"#bd3786\"], [0.5555555555555556, \"#d8576b\"], [0.6666666666666666, \"#ed7953\"], [0.7777777777777778, \"#fb9f3a\"], [0.8888888888888888, \"#fdca26\"], [1.0, \"#f0f921\"]], \"type\": \"histogram2d\"}], \"histogram2dcontour\": [{\"colorbar\": {\"outlinewidth\": 0, \"ticks\": \"\"}, \"colorscale\": [[0.0, \"#0d0887\"], [0.1111111111111111, \"#46039f\"], [0.2222222222222222, \"#7201a8\"], [0.3333333333333333, \"#9c179e\"], [0.4444444444444444, \"#bd3786\"], [0.5555555555555556, \"#d8576b\"], [0.6666666666666666, \"#ed7953\"], [0.7777777777777778, \"#fb9f3a\"], [0.8888888888888888, \"#fdca26\"], [1.0, \"#f0f921\"]], \"type\": \"histogram2dcontour\"}], \"mesh3d\": [{\"colorbar\": {\"outlinewidth\": 0, \"ticks\": \"\"}, \"type\": \"mesh3d\"}], \"parcoords\": [{\"line\": {\"colorbar\": {\"outlinewidth\": 0, \"ticks\": \"\"}}, \"type\": \"parcoords\"}], \"pie\": [{\"automargin\": true, \"type\": \"pie\"}], \"scatter\": [{\"marker\": {\"colorbar\": {\"outlinewidth\": 0, \"ticks\": \"\"}}, \"type\": \"scatter\"}], \"scatter3d\": [{\"line\": {\"colorbar\": {\"outlinewidth\": 0, \"ticks\": \"\"}}, \"marker\": {\"colorbar\": {\"outlinewidth\": 0, \"ticks\": \"\"}}, \"type\": \"scatter3d\"}], \"scattercarpet\": [{\"marker\": {\"colorbar\": {\"outlinewidth\": 0, \"ticks\": \"\"}}, \"type\": \"scattercarpet\"}], \"scattergeo\": [{\"marker\": {\"colorbar\": {\"outlinewidth\": 0, \"ticks\": \"\"}}, \"type\": \"scattergeo\"}], \"scattergl\": [{\"marker\": {\"colorbar\": {\"outlinewidth\": 0, \"ticks\": \"\"}}, \"type\": \"scattergl\"}], \"scattermapbox\": [{\"marker\": {\"colorbar\": {\"outlinewidth\": 0, \"ticks\": \"\"}}, \"type\": \"scattermapbox\"}], \"scatterpolar\": [{\"marker\": {\"colorbar\": {\"outlinewidth\": 0, \"ticks\": \"\"}}, \"type\": \"scatterpolar\"}], \"scatterpolargl\": [{\"marker\": {\"colorbar\": {\"outlinewidth\": 0, \"ticks\": \"\"}}, \"type\": \"scatterpolargl\"}], \"scatterternary\": [{\"marker\": {\"colorbar\": {\"outlinewidth\": 0, \"ticks\": \"\"}}, \"type\": \"scatterternary\"}], \"surface\": [{\"colorbar\": {\"outlinewidth\": 0, \"ticks\": \"\"}, \"colorscale\": [[0.0, \"#0d0887\"], [0.1111111111111111, \"#46039f\"], [0.2222222222222222, \"#7201a8\"], [0.3333333333333333, \"#9c179e\"], [0.4444444444444444, \"#bd3786\"], [0.5555555555555556, \"#d8576b\"], [0.6666666666666666, \"#ed7953\"], [0.7777777777777778, \"#fb9f3a\"], [0.8888888888888888, \"#fdca26\"], [1.0, \"#f0f921\"]], \"type\": \"surface\"}], \"table\": [{\"cells\": {\"fill\": {\"color\": \"#EBF0F8\"}, \"line\": {\"color\": \"white\"}}, \"header\": {\"fill\": {\"color\": \"#C8D4E3\"}, \"line\": {\"color\": \"white\"}}, \"type\": \"table\"}]}, \"layout\": {\"annotationdefaults\": {\"arrowcolor\": \"#2a3f5f\", \"arrowhead\": 0, \"arrowwidth\": 1}, \"coloraxis\": {\"colorbar\": {\"outlinewidth\": 0, \"ticks\": \"\"}}, \"colorscale\": {\"diverging\": [[0, \"#8e0152\"], [0.1, \"#c51b7d\"], [0.2, \"#de77ae\"], [0.3, \"#f1b6da\"], [0.4, \"#fde0ef\"], [0.5, \"#f7f7f7\"], [0.6, \"#e6f5d0\"], [0.7, \"#b8e186\"], [0.8, \"#7fbc41\"], [0.9, \"#4d9221\"], [1, \"#276419\"]], \"sequential\": [[0.0, \"#0d0887\"], [0.1111111111111111, \"#46039f\"], [0.2222222222222222, \"#7201a8\"], [0.3333333333333333, \"#9c179e\"], [0.4444444444444444, \"#bd3786\"], [0.5555555555555556, \"#d8576b\"], [0.6666666666666666, \"#ed7953\"], [0.7777777777777778, \"#fb9f3a\"], [0.8888888888888888, \"#fdca26\"], [1.0, \"#f0f921\"]], \"sequentialminus\": [[0.0, \"#0d0887\"], [0.1111111111111111, \"#46039f\"], [0.2222222222222222, \"#7201a8\"], [0.3333333333333333, \"#9c179e\"], [0.4444444444444444, \"#bd3786\"], [0.5555555555555556, \"#d8576b\"], [0.6666666666666666, \"#ed7953\"], [0.7777777777777778, \"#fb9f3a\"], [0.8888888888888888, \"#fdca26\"], [1.0, \"#f0f921\"]]}, \"colorway\": [\"#636efa\", \"#EF553B\", \"#00cc96\", \"#ab63fa\", \"#FFA15A\", \"#19d3f3\", \"#FF6692\", \"#B6E880\", \"#FF97FF\", \"#FECB52\"], \"font\": {\"color\": \"#2a3f5f\"}, \"geo\": {\"bgcolor\": \"white\", \"lakecolor\": \"white\", \"landcolor\": \"#E5ECF6\", \"showlakes\": true, \"showland\": true, \"subunitcolor\": \"white\"}, \"hoverlabel\": {\"align\": \"left\"}, \"hovermode\": \"closest\", \"mapbox\": {\"style\": \"light\"}, \"paper_bgcolor\": \"white\", \"plot_bgcolor\": \"#E5ECF6\", \"polar\": {\"angularaxis\": {\"gridcolor\": \"white\", \"linecolor\": \"white\", \"ticks\": \"\"}, \"bgcolor\": \"#E5ECF6\", \"radialaxis\": {\"gridcolor\": \"white\", \"linecolor\": \"white\", \"ticks\": \"\"}}, \"scene\": {\"xaxis\": {\"backgroundcolor\": \"#E5ECF6\", \"gridcolor\": \"white\", \"gridwidth\": 2, \"linecolor\": \"white\", \"showbackground\": true, \"ticks\": \"\", \"zerolinecolor\": \"white\"}, \"yaxis\": {\"backgroundcolor\": \"#E5ECF6\", \"gridcolor\": \"white\", \"gridwidth\": 2, \"linecolor\": \"white\", \"showbackground\": true, \"ticks\": \"\", \"zerolinecolor\": \"white\"}, \"zaxis\": {\"backgroundcolor\": \"#E5ECF6\", \"gridcolor\": \"white\", \"gridwidth\": 2, \"linecolor\": \"white\", \"showbackground\": true, \"ticks\": \"\", \"zerolinecolor\": \"white\"}}, \"shapedefaults\": {\"line\": {\"color\": \"#2a3f5f\"}}, \"ternary\": {\"aaxis\": {\"gridcolor\": \"white\", \"linecolor\": \"white\", \"ticks\": \"\"}, \"baxis\": {\"gridcolor\": \"white\", \"linecolor\": \"white\", \"ticks\": \"\"}, \"bgcolor\": \"#E5ECF6\", \"caxis\": {\"gridcolor\": \"white\", \"linecolor\": \"white\", \"ticks\": \"\"}}, \"title\": {\"x\": 0.05}, \"xaxis\": {\"automargin\": true, \"gridcolor\": \"white\", \"linecolor\": \"white\", \"ticks\": \"\", \"title\": {\"standoff\": 15}, \"zerolinecolor\": \"white\", \"zerolinewidth\": 2}, \"yaxis\": {\"automargin\": true, \"gridcolor\": \"white\", \"linecolor\": \"white\", \"ticks\": \"\", \"title\": {\"standoff\": 15}, \"zerolinecolor\": \"white\", \"zerolinewidth\": 2}}}, \"title\": {\"text\": \"World COVID-19 Stats\"}},\n",
       "                        {\"responsive\": true}\n",
       "                    ).then(function(){\n",
       "                            \n",
       "var gd = document.getElementById('416c7764-d611-40f8-80c9-73f88dabdf53');\n",
       "var x = new MutationObserver(function (mutations, observer) {{\n",
       "        var display = window.getComputedStyle(gd).display;\n",
       "        if (!display || display === 'none') {{\n",
       "            console.log([gd, 'removed!']);\n",
       "            Plotly.purge(gd);\n",
       "            observer.disconnect();\n",
       "        }}\n",
       "}});\n",
       "\n",
       "// Listen for the removal of the full notebook cells\n",
       "var notebookContainer = gd.closest('#notebook-container');\n",
       "if (notebookContainer) {{\n",
       "    x.observe(notebookContainer, {childList: true});\n",
       "}}\n",
       "\n",
       "// Listen for the clearing of the current output cell\n",
       "var outputEl = gd.closest('.output');\n",
       "if (outputEl) {{\n",
       "    x.observe(outputEl, {childList: true});\n",
       "}}\n",
       "\n",
       "                        })\n",
       "                };\n",
       "                });\n",
       "            </script>\n",
       "        </div>"
      ]
     },
     "metadata": {},
     "output_type": "display_data"
    }
   ],
   "source": [
    "# Finally we will pass both layout and data dictionary to generate the map.\n",
    "\n",
    "choromap = go.Figure(data = [data],layout = layout)\n",
    "iplot(choromap)"
   ]
  },
  {
   "cell_type": "code",
   "execution_count": 79,
   "metadata": {},
   "outputs": [
    {
     "name": "stdout",
     "output_type": "stream",
     "text": [
      "215 countries in the list.\n"
     ]
    }
   ],
   "source": [
    "#something worng with the country names. plotly uses standard ISO-3_codes. Lets try to create a column for country codes\n",
    "\n",
    "print(\"{} countries in the list.\". format(world_df['Name'].nunique()))"
   ]
  },
  {
   "cell_type": "code",
   "execution_count": 80,
   "metadata": {},
   "outputs": [
    {
     "data": {
      "text/plain": [
       "0                             TOTAL\n",
       "169                ★  United States\n",
       "170                       ★  Brazil\n",
       "171                        ★  India\n",
       "172                       ★  Russia\n",
       "                   ...             \n",
       "211             ★  Falkland Islands\n",
       "70                  ★  Vatican City\n",
       "165               ★  Western Sahara\n",
       "212    ★  Saint Pierre and Miquelon\n",
       "213                     ★  Anguilla\n",
       "Name: Name, Length: 215, dtype: object"
      ]
     },
     "execution_count": 80,
     "metadata": {},
     "output_type": "execute_result"
    }
   ],
   "source": [
    "world_df['Name']"
   ]
  },
  {
   "cell_type": "markdown",
   "metadata": {},
   "source": [
    "#### The country converter (coco) - a Python package for converting country names between different classifications schemes.\n",
    "<a href = \"https://pypi.org/project/country-converter/\">For more info please click here</a>."
   ]
  },
  {
   "cell_type": "code",
   "execution_count": 83,
   "metadata": {},
   "outputs": [],
   "source": [
    "import country_converter as coco"
   ]
  },
  {
   "cell_type": "code",
   "execution_count": 112,
   "metadata": {},
   "outputs": [],
   "source": [
    "# Creating a list and appending all the names from world_df column.\n",
    "\n",
    "Names = []\n",
    "for i in range(1,215):\n",
    "    Names.append(world_df.iloc[i]['Name'][3:])\n",
    "\n",
    "# Insert Total at index 0. we left that because it doesn't contain any start in it.\n",
    "\n",
    "Names.insert(0,'TOTAL')"
   ]
  },
  {
   "cell_type": "code",
   "execution_count": 113,
   "metadata": {},
   "outputs": [
    {
     "data": {
      "text/plain": [
       "['TOTAL',\n",
       " 'United States',\n",
       " 'Brazil',\n",
       " 'India',\n",
       " 'Russia',\n",
       " 'South Africa',\n",
       " 'Peru',\n",
       " 'Mexico',\n",
       " 'Colombia',\n",
       " 'Chile',\n",
       " 'Spain',\n",
       " 'Iran',\n",
       " 'Argentina',\n",
       " 'United Kingdom',\n",
       " 'Saudi Arabia',\n",
       " 'Bangladesh',\n",
       " 'Pakistan',\n",
       " 'France',\n",
       " 'Italy',\n",
       " 'Turkey',\n",
       " 'Germany',\n",
       " 'Iraq',\n",
       " 'Philippines',\n",
       " 'Indonesia',\n",
       " 'Canada',\n",
       " 'Qatar',\n",
       " 'Bolivia',\n",
       " 'Ecuador',\n",
       " 'Ukraine',\n",
       " 'Kazakhstan',\n",
       " 'Israel',\n",
       " 'Egypt',\n",
       " 'Dominican Republic',\n",
       " 'Sweden',\n",
       " 'Panama',\n",
       " 'China',\n",
       " 'Oman',\n",
       " 'Belgium',\n",
       " 'Kuwait',\n",
       " 'Romania',\n",
       " 'Belarus',\n",
       " 'Guatemala',\n",
       " 'United Arab Emirates',\n",
       " 'Netherlands',\n",
       " 'Poland',\n",
       " 'Japan',\n",
       " 'Singapore',\n",
       " 'Portugal',\n",
       " 'Honduras',\n",
       " 'Morocco',\n",
       " 'Nigeria',\n",
       " 'Bahrain',\n",
       " 'Ghana',\n",
       " 'Kyrgyzstan',\n",
       " 'Armenia',\n",
       " 'Algeria',\n",
       " 'Ethiopia',\n",
       " 'Switzerland',\n",
       " 'Venezuela',\n",
       " 'Uzbekistan',\n",
       " 'Afghanistan',\n",
       " 'Azerbaijan',\n",
       " 'Costa Rica',\n",
       " 'Moldova',\n",
       " 'Kenya',\n",
       " 'Nepal',\n",
       " 'Serbia',\n",
       " 'Ireland',\n",
       " 'Austria',\n",
       " 'Australia',\n",
       " 'El Salvador',\n",
       " 'Czechia',\n",
       " 'Palestine',\n",
       " 'Cameroon',\n",
       " 'Bosnia and Herzegovina',\n",
       " 'Ivory Coast',\n",
       " 'South Korea',\n",
       " 'Denmark',\n",
       " 'Bulgaria',\n",
       " 'Madagascar',\n",
       " 'North Macedonia',\n",
       " 'Paraguay',\n",
       " 'Senegal',\n",
       " 'Sudan',\n",
       " 'Lebanon',\n",
       " 'Kosovo',\n",
       " 'Zambia',\n",
       " 'Libya',\n",
       " 'Norway',\n",
       " 'DR Congo',\n",
       " 'Malaysia',\n",
       " 'Guinea',\n",
       " 'French Guiana',\n",
       " 'Greece',\n",
       " 'Albania',\n",
       " 'Gabon',\n",
       " 'Tajikistan',\n",
       " 'Croatia',\n",
       " 'Haiti',\n",
       " 'Finland',\n",
       " 'Luxembourg',\n",
       " 'Mauritania',\n",
       " 'Maldives',\n",
       " 'Zimbabwe',\n",
       " 'Namibia',\n",
       " 'Malawi',\n",
       " 'Djibouti',\n",
       " 'Hungary',\n",
       " 'Equatorial Guinea',\n",
       " 'Hong Kong',\n",
       " 'Central African Republic',\n",
       " 'Montenegro',\n",
       " 'Nicaragua',\n",
       " 'Eswatini',\n",
       " 'Congo',\n",
       " 'Cuba',\n",
       " 'Suriname',\n",
       " 'Cape Verde',\n",
       " 'Mozambique',\n",
       " 'Thailand',\n",
       " 'Slovakia',\n",
       " 'Somalia',\n",
       " 'Mayotte',\n",
       " 'Rwanda',\n",
       " 'Sri Lanka',\n",
       " 'Tunisia',\n",
       " 'Mali',\n",
       " 'The Gambia',\n",
       " 'Slovenia',\n",
       " 'Lithuania',\n",
       " 'South Sudan',\n",
       " 'Estonia',\n",
       " 'Uganda',\n",
       " 'Syria',\n",
       " 'Angola',\n",
       " 'Guinea-Bissau',\n",
       " 'Benin',\n",
       " 'Iceland',\n",
       " 'Sierra Leone',\n",
       " 'Yemen',\n",
       " 'The Bahamas',\n",
       " 'New Zealand',\n",
       " 'Malta',\n",
       " 'Jordan',\n",
       " 'Aruba',\n",
       " 'Uruguay',\n",
       " 'Cyprus',\n",
       " 'Jamaica',\n",
       " 'Georgia',\n",
       " 'Latvia',\n",
       " 'Burkina Faso',\n",
       " 'Botswana',\n",
       " 'Liberia',\n",
       " 'Togo',\n",
       " 'Reunion',\n",
       " 'Niger',\n",
       " 'Andorra',\n",
       " 'Vietnam',\n",
       " 'Lesotho',\n",
       " 'Chad',\n",
       " 'Trinidad and Tobago',\n",
       " 'Guyana',\n",
       " 'SÃ£o TomÃ© and PrÃ\\xadncipe',\n",
       " 'Guadeloupe',\n",
       " 'San Marino',\n",
       " 'Belize',\n",
       " 'Channel Islands',\n",
       " 'Tanzania',\n",
       " 'Taiwan',\n",
       " 'Myanmar',\n",
       " 'Burundi',\n",
       " 'Comoros',\n",
       " 'Faroe Islands',\n",
       " 'Turks and Caicos Islands',\n",
       " 'Sint Maarten',\n",
       " 'Papua New Guinea',\n",
       " 'Mauritius',\n",
       " 'Martinique',\n",
       " 'Isle of Man',\n",
       " 'Eritrea',\n",
       " 'Mongolia',\n",
       " 'French Polynesia',\n",
       " 'Cambodia',\n",
       " 'Gibraltar',\n",
       " 'Cayman Islands',\n",
       " 'Saint Martin',\n",
       " 'Bermuda',\n",
       " 'Barbados',\n",
       " 'Bhutan',\n",
       " 'Monaco',\n",
       " 'Brunei',\n",
       " 'Seychelles',\n",
       " 'Liechtenstein',\n",
       " 'Antigua and Barbuda',\n",
       " 'Saint Vincent and the Grenadines',\n",
       " 'Macao',\n",
       " 'Curacao',\n",
       " 'Fiji',\n",
       " 'Saint Lucia',\n",
       " 'Timor-Leste',\n",
       " 'Grenada',\n",
       " 'New Caledonia',\n",
       " 'Laos',\n",
       " 'British Virgin Islands',\n",
       " 'Dominica',\n",
       " 'Saint Kitts and Nevis',\n",
       " 'Saint Barthelemy',\n",
       " 'Greenland',\n",
       " 'Montserrat',\n",
       " 'Caribbean Netherlands',\n",
       " 'Falkland Islands',\n",
       " 'Vatican City',\n",
       " 'Western Sahara',\n",
       " 'Saint Pierre and Miquelon',\n",
       " 'Anguilla']"
      ]
     },
     "execution_count": 113,
     "metadata": {},
     "output_type": "execute_result"
    }
   ],
   "source": [
    "Names"
   ]
  },
  {
   "cell_type": "code",
   "execution_count": 114,
   "metadata": {},
   "outputs": [
    {
     "name": "stderr",
     "output_type": "stream",
     "text": [
      "WARNING:root:TOTAL not found in regex\n",
      "WARNING:root:SÃ£o TomÃ© and PrÃ­ncipe not found in regex\n",
      "WARNING:root:Channel Islands not found in regex\n"
     ]
    },
    {
     "name": "stdout",
     "output_type": "stream",
     "text": [
      "215\n"
     ]
    }
   ],
   "source": [
    "standard_names = coco.convert(names= Names, to='ISO3')\n",
    "print(len(standard_names))"
   ]
  },
  {
   "cell_type": "code",
   "execution_count": 116,
   "metadata": {},
   "outputs": [],
   "source": [
    "# Adding the ISO3 code in a new world_df['Code'] column.\n",
    "\n",
    "world_df['Code'] = standard_names"
   ]
  },
  {
   "cell_type": "code",
   "execution_count": 121,
   "metadata": {},
   "outputs": [
    {
     "data": {
      "text/html": [
       "<div>\n",
       "<style scoped>\n",
       "    .dataframe tbody tr th:only-of-type {\n",
       "        vertical-align: middle;\n",
       "    }\n",
       "\n",
       "    .dataframe tbody tr th {\n",
       "        vertical-align: top;\n",
       "    }\n",
       "\n",
       "    .dataframe thead th {\n",
       "        text-align: right;\n",
       "    }\n",
       "</style>\n",
       "<table border=\"1\" class=\"dataframe\">\n",
       "  <thead>\n",
       "    <tr style=\"text-align: right;\">\n",
       "      <th></th>\n",
       "      <th>Name</th>\n",
       "      <th>Confirmed</th>\n",
       "      <th>Per Million</th>\n",
       "      <th>Changes Today</th>\n",
       "      <th>Percentage Day Change</th>\n",
       "      <th>Critical</th>\n",
       "      <th>Deceased</th>\n",
       "      <th>Per Million.1</th>\n",
       "      <th>Changes Today.1</th>\n",
       "      <th>Percentage Death Change</th>\n",
       "      <th>Tests</th>\n",
       "      <th>Active</th>\n",
       "      <th>Recovered</th>\n",
       "      <th>Per Million.2</th>\n",
       "      <th>Population</th>\n",
       "      <th>Code</th>\n",
       "    </tr>\n",
       "  </thead>\n",
       "  <tbody>\n",
       "    <tr>\n",
       "      <th>169</th>\n",
       "      <td>★  United States</td>\n",
       "      <td>5869551</td>\n",
       "      <td>17718</td>\n",
       "      <td>28123</td>\n",
       "      <td>0.48%</td>\n",
       "      <td>16729</td>\n",
       "      <td>180555</td>\n",
       "      <td>545</td>\n",
       "      <td>381</td>\n",
       "      <td>0.21%</td>\n",
       "      <td>76088768</td>\n",
       "      <td>2528495</td>\n",
       "      <td>3160501</td>\n",
       "      <td>9540</td>\n",
       "      <td>331282824</td>\n",
       "      <td>USA</td>\n",
       "    </tr>\n",
       "    <tr>\n",
       "      <th>170</th>\n",
       "      <td>★  Brazil</td>\n",
       "      <td>3605783</td>\n",
       "      <td>16946</td>\n",
       "      <td>23085</td>\n",
       "      <td>0.64%</td>\n",
       "      <td>8318</td>\n",
       "      <td>114744</td>\n",
       "      <td>539</td>\n",
       "      <td>467</td>\n",
       "      <td>0.41%</td>\n",
       "      <td>14144344</td>\n",
       "      <td>781401</td>\n",
       "      <td>2709638</td>\n",
       "      <td>12735</td>\n",
       "      <td>212776644</td>\n",
       "      <td>BRA</td>\n",
       "    </tr>\n",
       "    <tr>\n",
       "      <th>171</th>\n",
       "      <td>★  India</td>\n",
       "      <td>3105185</td>\n",
       "      <td>2247</td>\n",
       "      <td>61749</td>\n",
       "      <td>2.03%</td>\n",
       "      <td>8944</td>\n",
       "      <td>57692</td>\n",
       "      <td>42</td>\n",
       "      <td>846</td>\n",
       "      <td>1.49%</td>\n",
       "      <td>35292220</td>\n",
       "      <td>710697</td>\n",
       "      <td>2336796</td>\n",
       "      <td>1691</td>\n",
       "      <td>1381937641</td>\n",
       "      <td>IND</td>\n",
       "    </tr>\n",
       "    <tr>\n",
       "      <th>172</th>\n",
       "      <td>★  Russia</td>\n",
       "      <td>956749</td>\n",
       "      <td>6556</td>\n",
       "      <td>4852</td>\n",
       "      <td>0.51%</td>\n",
       "      <td>2300</td>\n",
       "      <td>16383</td>\n",
       "      <td>112</td>\n",
       "      <td>73</td>\n",
       "      <td>0.45%</td>\n",
       "      <td>34447560</td>\n",
       "      <td>169727</td>\n",
       "      <td>770639</td>\n",
       "      <td>5280</td>\n",
       "      <td>145943650</td>\n",
       "      <td>RUS</td>\n",
       "    </tr>\n",
       "    <tr>\n",
       "      <th>142</th>\n",
       "      <td>★  South Africa</td>\n",
       "      <td>609773</td>\n",
       "      <td>10263</td>\n",
       "      <td>2728</td>\n",
       "      <td>0.45%</td>\n",
       "      <td>539</td>\n",
       "      <td>13059</td>\n",
       "      <td>220</td>\n",
       "      <td>72</td>\n",
       "      <td>0.55%</td>\n",
       "      <td>3553425</td>\n",
       "      <td>90244</td>\n",
       "      <td>506470</td>\n",
       "      <td>8524</td>\n",
       "      <td>59414253</td>\n",
       "      <td>ZAF</td>\n",
       "    </tr>\n",
       "    <tr>\n",
       "      <th>...</th>\n",
       "      <td>...</td>\n",
       "      <td>...</td>\n",
       "      <td>...</td>\n",
       "      <td>...</td>\n",
       "      <td>...</td>\n",
       "      <td>...</td>\n",
       "      <td>...</td>\n",
       "      <td>...</td>\n",
       "      <td>...</td>\n",
       "      <td>...</td>\n",
       "      <td>...</td>\n",
       "      <td>...</td>\n",
       "      <td>...</td>\n",
       "      <td>...</td>\n",
       "      <td>...</td>\n",
       "      <td>...</td>\n",
       "    </tr>\n",
       "    <tr>\n",
       "      <th>211</th>\n",
       "      <td>★  Falkland Islands</td>\n",
       "      <td>13</td>\n",
       "      <td>0</td>\n",
       "      <td>0</td>\n",
       "      <td>0%</td>\n",
       "      <td>Unknown</td>\n",
       "      <td>0</td>\n",
       "      <td>Unknown</td>\n",
       "      <td>0</td>\n",
       "      <td>0%</td>\n",
       "      <td>2256</td>\n",
       "      <td>Unknown</td>\n",
       "      <td>13</td>\n",
       "      <td>0</td>\n",
       "      <td>3493</td>\n",
       "      <td>FLK</td>\n",
       "    </tr>\n",
       "    <tr>\n",
       "      <th>70</th>\n",
       "      <td>★  Vatican City</td>\n",
       "      <td>12</td>\n",
       "      <td>0</td>\n",
       "      <td>0</td>\n",
       "      <td>0%</td>\n",
       "      <td>Unknown</td>\n",
       "      <td>0</td>\n",
       "      <td>Unknown</td>\n",
       "      <td>0</td>\n",
       "      <td>0%</td>\n",
       "      <td>0</td>\n",
       "      <td>Unknown</td>\n",
       "      <td>12</td>\n",
       "      <td>0</td>\n",
       "      <td>801</td>\n",
       "      <td>VAT</td>\n",
       "    </tr>\n",
       "    <tr>\n",
       "      <th>165</th>\n",
       "      <td>★  Western Sahara</td>\n",
       "      <td>10</td>\n",
       "      <td>0</td>\n",
       "      <td>0</td>\n",
       "      <td>0%</td>\n",
       "      <td>Unknown</td>\n",
       "      <td>1</td>\n",
       "      <td>0</td>\n",
       "      <td>0</td>\n",
       "      <td>0%</td>\n",
       "      <td>0</td>\n",
       "      <td>Unknown</td>\n",
       "      <td>8</td>\n",
       "      <td>0</td>\n",
       "      <td>599326</td>\n",
       "      <td>ESH</td>\n",
       "    </tr>\n",
       "    <tr>\n",
       "      <th>212</th>\n",
       "      <td>★  Saint Pierre and Miquelon</td>\n",
       "      <td>5</td>\n",
       "      <td>0</td>\n",
       "      <td>0</td>\n",
       "      <td>0%</td>\n",
       "      <td>Unknown</td>\n",
       "      <td>0</td>\n",
       "      <td>Unknown</td>\n",
       "      <td>0</td>\n",
       "      <td>0%</td>\n",
       "      <td>0</td>\n",
       "      <td>Unknown</td>\n",
       "      <td>1</td>\n",
       "      <td>0</td>\n",
       "      <td>5790</td>\n",
       "      <td>SPM</td>\n",
       "    </tr>\n",
       "    <tr>\n",
       "      <th>213</th>\n",
       "      <td>★  Anguilla</td>\n",
       "      <td>3</td>\n",
       "      <td>0</td>\n",
       "      <td>0</td>\n",
       "      <td>0%</td>\n",
       "      <td>Unknown</td>\n",
       "      <td>0</td>\n",
       "      <td>Unknown</td>\n",
       "      <td>0</td>\n",
       "      <td>0%</td>\n",
       "      <td>662</td>\n",
       "      <td>Unknown</td>\n",
       "      <td>3</td>\n",
       "      <td>0</td>\n",
       "      <td>15022</td>\n",
       "      <td>AIA</td>\n",
       "    </tr>\n",
       "  </tbody>\n",
       "</table>\n",
       "<p>212 rows × 16 columns</p>\n",
       "</div>"
      ],
      "text/plain": [
       "                             Name  Confirmed Per Million  Changes Today  \\\n",
       "169              ★  United States    5869551       17718          28123   \n",
       "170                     ★  Brazil    3605783       16946          23085   \n",
       "171                      ★  India    3105185        2247          61749   \n",
       "172                     ★  Russia     956749        6556           4852   \n",
       "142               ★  South Africa     609773       10263           2728   \n",
       "..                            ...        ...         ...            ...   \n",
       "211           ★  Falkland Islands         13           0              0   \n",
       "70                ★  Vatican City         12           0              0   \n",
       "165             ★  Western Sahara         10           0              0   \n",
       "212  ★  Saint Pierre and Miquelon          5           0              0   \n",
       "213                   ★  Anguilla          3           0              0   \n",
       "\n",
       "    Percentage Day Change Critical  Deceased Per Million.1  Changes Today.1  \\\n",
       "169                 0.48%    16729    180555           545              381   \n",
       "170                 0.64%     8318    114744           539              467   \n",
       "171                 2.03%     8944     57692            42              846   \n",
       "172                 0.51%     2300     16383           112               73   \n",
       "142                 0.45%      539     13059           220               72   \n",
       "..                    ...      ...       ...           ...              ...   \n",
       "211                    0%  Unknown         0       Unknown                0   \n",
       "70                     0%  Unknown         0       Unknown                0   \n",
       "165                    0%  Unknown         1             0                0   \n",
       "212                    0%  Unknown         0       Unknown                0   \n",
       "213                    0%  Unknown         0       Unknown                0   \n",
       "\n",
       "    Percentage Death Change     Tests   Active Recovered Per Million.2  \\\n",
       "169                   0.21%  76088768  2528495   3160501          9540   \n",
       "170                   0.41%  14144344   781401   2709638         12735   \n",
       "171                   1.49%  35292220   710697   2336796          1691   \n",
       "172                   0.45%  34447560   169727    770639          5280   \n",
       "142                   0.55%   3553425    90244    506470          8524   \n",
       "..                      ...       ...      ...       ...           ...   \n",
       "211                      0%      2256  Unknown        13             0   \n",
       "70                       0%         0  Unknown        12             0   \n",
       "165                      0%         0  Unknown         8             0   \n",
       "212                      0%         0  Unknown         1             0   \n",
       "213                      0%       662  Unknown         3             0   \n",
       "\n",
       "     Population Code  \n",
       "169   331282824  USA  \n",
       "170   212776644  BRA  \n",
       "171  1381937641  IND  \n",
       "172   145943650  RUS  \n",
       "142    59414253  ZAF  \n",
       "..          ...  ...  \n",
       "211        3493  FLK  \n",
       "70          801  VAT  \n",
       "165      599326  ESH  \n",
       "212        5790  SPM  \n",
       "213       15022  AIA  \n",
       "\n",
       "[212 rows x 16 columns]"
      ]
     },
     "execution_count": 121,
     "metadata": {},
     "output_type": "execute_result"
    }
   ],
   "source": [
    "# Removing countries of which ISO3 code is not available\n",
    "\n",
    "choropleth_data = world_df[world_df['Code'] != \"not found\"]\n",
    "choropleth_data"
   ]
  },
  {
   "cell_type": "code",
   "execution_count": 122,
   "metadata": {},
   "outputs": [],
   "source": [
    "#lets again try to plot the data using choropleth dataframe.\n",
    "\n",
    "# For using choropleth first we have to make a dictionary\n",
    "\n",
    "data = dict(\n",
    "        type = 'choropleth',\n",
    "        locations = choropleth_data['Code'],\n",
    "        z = choropleth_data['Confirmed'],\n",
    "        text = choropleth_data['Deceased'],\n",
    "        marker = dict(line = dict(color = 'rgb(255,255,255)',width = 2)),\n",
    "        colorbar = {'title' : \"Confirmed Cases\"}\n",
    "        )"
   ]
  },
  {
   "cell_type": "code",
   "execution_count": 123,
   "metadata": {},
   "outputs": [],
   "source": [
    "# Now create a layout for the graph\n",
    "\n",
    "layout = dict(\n",
    "    title = 'World COVID-19 Stats',\n",
    "    geo = dict(\n",
    "        showframe = False,\n",
    "        projection = {'type':'mercator'}\n",
    "    )\n",
    ")"
   ]
  },
  {
   "cell_type": "code",
   "execution_count": 125,
   "metadata": {},
   "outputs": [
    {
     "data": {
      "application/vnd.plotly.v1+json": {
       "config": {
        "linkText": "Export to plot.ly",
        "plotlyServerURL": "https://plot.ly",
        "showLink": false
       },
       "data": [
        {
         "colorbar": {
          "title": {
           "text": "Confirmed Cases"
          }
         },
         "locations": [
          "USA",
          "BRA",
          "IND",
          "RUS",
          "ZAF",
          "PER",
          "MEX",
          "COL",
          "CHL",
          "ESP",
          "IRN",
          "ARG",
          "GBR",
          "SAU",
          "BGD",
          "PAK",
          "FRA",
          "ITA",
          "TUR",
          "DEU",
          "IRQ",
          "PHL",
          "IDN",
          "CAN",
          "QAT",
          "BOL",
          "ECU",
          "UKR",
          "KAZ",
          "ISR",
          "EGY",
          "DOM",
          "SWE",
          "PAN",
          "CHN",
          "OMN",
          "BEL",
          "KWT",
          "ROU",
          "BLR",
          "GTM",
          "ARE",
          "NLD",
          "POL",
          "JPN",
          "SGP",
          "PRT",
          "HND",
          "MAR",
          "NGA",
          "BHR",
          "GHA",
          "KGZ",
          "ARM",
          "DZA",
          "ETH",
          "CHE",
          "VEN",
          "UZB",
          "AFG",
          "AZE",
          "CRI",
          "MDA",
          "KEN",
          "NPL",
          "SRB",
          "IRL",
          "AUT",
          "AUS",
          "SLV",
          "CZE",
          "PSE",
          "CMR",
          "BIH",
          "CIV",
          "KOR",
          "DNK",
          "BGR",
          "MDG",
          "MKD",
          "PRY",
          "SEN",
          "SDN",
          "LBN",
          "XKX",
          "ZMB",
          "LBY",
          "NOR",
          "COD",
          "MYS",
          "GIN",
          "GUF",
          "GRC",
          "ALB",
          "GAB",
          "TJK",
          "HRV",
          "HTI",
          "FIN",
          "LUX",
          "MRT",
          "MDV",
          "ZWE",
          "NAM",
          "MWI",
          "DJI",
          "HUN",
          "GNQ",
          "HKG",
          "CAF",
          "MNE",
          "NIC",
          "SWZ",
          "COG",
          "CUB",
          "SUR",
          "CPV",
          "MOZ",
          "THA",
          "SVK",
          "SOM",
          "MYT",
          "RWA",
          "LKA",
          "TUN",
          "MLI",
          "GMB",
          "SVN",
          "LTU",
          "SSD",
          "EST",
          "UGA",
          "SYR",
          "AGO",
          "GNB",
          "BEN",
          "ISL",
          "SLE",
          "YEM",
          "BHS",
          "NZL",
          "MLT",
          "JOR",
          "ABW",
          "URY",
          "CYP",
          "JAM",
          "GEO",
          "LVA",
          "BFA",
          "BWA",
          "LBR",
          "TGO",
          "REU",
          "NER",
          "AND",
          "VNM",
          "LSO",
          "TCD",
          "TTO",
          "GUY",
          "GLP",
          "SMR",
          "BLZ",
          "TZA",
          "TWN",
          "MMR",
          "BDI",
          "COM",
          "FRO",
          "TCA",
          "SXM",
          "PNG",
          "MUS",
          "MTQ",
          "IMN",
          "ERI",
          "MNG",
          "PYF",
          "KHM",
          "GIB",
          "CYM",
          "MAF",
          "BMU",
          "BRB",
          "BTN",
          "MCO",
          "BRN",
          "SYC",
          "LIE",
          "ATG",
          "VCT",
          "MAC",
          "CUW",
          "FJI",
          "LCA",
          "TLS",
          "GRD",
          "NCL",
          "LAO",
          "VGB",
          "DMA",
          "KNA",
          "BLM",
          "GRL",
          "MSR",
          "BES",
          "FLK",
          "VAT",
          "ESH",
          "SPM",
          "AIA"
         ],
         "marker": {
          "line": {
           "color": "rgb(255,255,255)",
           "width": 2
          }
         },
         "text": [
          180555,
          114744,
          57692,
          16383,
          13059,
          27453,
          60254,
          16968,
          10852,
          28838,
          20643,
          6947,
          41429,
          3649,
          3941,
          6235,
          30513,
          35437,
          6121,
          9332,
          6428,
          2998,
          6680,
          9116,
          193,
          4442,
          6310,
          2271,
          1415,
          834,
          5243,
          1567,
          5810,
          1878,
          4634,
          609,
          9988,
          515,
          3272,
          642,
          2580,
          375,
          6200,
          1955,
          1169,
          27,
          1796,
          1643,
          888,
          997,
          184,
          261,
          1056,
          852,
          1435,
          678,
          2001,
          323,
          273,
          1387,
          518,
          355,
          940,
          548,
          149,
          698,
          1777,
          732,
          502,
          661,
          412,
          128,
          408,
          532,
          113,
          309,
          622,
          545,
          178,
          564,
          192,
          269,
          815,
          123,
          448,
          280,
          188,
          264,
          251,
          125,
          53,
          55,
          242,
          250,
          53,
          66,
          171,
          196,
          334,
          124,
          158,
          26,
          153,
          52,
          168,
          60,
          613,
          83,
          77,
          61,
          84,
          133,
          83,
          77,
          89,
          57,
          37,
          20,
          58,
          33,
          93,
          39,
          12,
          12,
          71,
          125,
          87,
          131,
          84,
          47,
          63,
          20,
          89,
          96,
          33,
          39,
          10,
          69,
          553,
          29,
          22,
          10,
          12,
          7,
          42,
          20,
          16,
          17,
          33,
          55,
          3,
          82,
          27,
          6,
          69,
          53,
          27,
          30,
          76,
          14,
          31,
          15,
          42,
          6,
          21,
          7,
          6,
          1,
          7,
          0,
          2,
          17,
          4,
          10,
          16,
          24,
          0,
          0,
          0,
          0,
          0,
          1,
          5,
          9,
          7,
          0,
          4,
          3,
          0,
          1,
          3,
          0,
          0,
          1,
          1,
          0,
          0,
          0,
          0,
          0,
          1,
          0,
          0,
          0,
          0,
          1,
          0,
          0,
          0,
          1,
          0,
          0
         ],
         "type": "choropleth",
         "z": [
          5869551,
          3605783,
          3105185,
          956749,
          609773,
          585236,
          556216,
          533103,
          397665,
          386054,
          358905,
          336802,
          325642,
          307479,
          294598,
          292765,
          260873,
          259345,
          258249,
          234399,
          204341,
          189601,
          153535,
          126547,
          117008,
          108427,
          107769,
          104958,
          104543,
          102663,
          97237,
          91161,
          86068,
          85480,
          84951,
          83769,
          81468,
          80528,
          78505,
          70468,
          67856,
          67007,
          66554,
          61762,
          60733,
          56353,
          55597,
          53983,
          52349,
          51905,
          49038,
          43505,
          43023,
          42792,
          41460,
          40671,
          39903,
          38957,
          38946,
          37999,
          35274,
          33820,
          33478,
          32364,
          31935,
          30657,
          27969,
          25253,
          24812,
          24622,
          21867,
          18802,
          18762,
          17715,
          17471,
          17399,
          16317,
          15287,
          14327,
          13595,
          12974,
          12949,
          12836,
          12698,
          12168,
          11082,
          10437,
          10318,
          9830,
          9267,
          8967,
          8797,
          8664,
          8427,
          8388,
          8311,
          8175,
          8082,
          7920,
          7762,
          6905,
          6660,
          5893,
          5854,
          5382,
          5382,
          5155,
          4926,
          4683,
          4679,
          4313,
          4311,
          4189,
          3850,
          3617,
          3569,
          3455,
          3395,
          3395,
          3356,
          3269,
          3237,
          3089,
          2953,
          2818,
          2705,
          2685,
          2651,
          2635,
          2499,
          2272,
          2263,
          2217,
          2171,
          2149,
          2115,
          2064,
          1980,
          1911,
          1765,
          1674,
          1612,
          1609,
          1568,
          1521,
          1421,
          1413,
          1411,
          1337,
          1320,
          1308,
          1286,
          1277,
          1209,
          1172,
          1045,
          1016,
          1015,
          986,
          963,
          925,
          771,
          704,
          668,
          509,
          487,
          450,
          430,
          417,
          384,
          383,
          368,
          361,
          346,
          336,
          336,
          306,
          298,
          298,
          273,
          246,
          205,
          176,
          167,
          158,
          155,
          154,
          143,
          132,
          99,
          94,
          58,
          46,
          39,
          28,
          26,
          26,
          24,
          23,
          22,
          21,
          19,
          17,
          16,
          14,
          13,
          13,
          13,
          12,
          10,
          5,
          3
         ]
        }
       ],
       "layout": {
        "geo": {
         "projection": {
          "type": "mercator"
         },
         "showframe": false
        },
        "template": {
         "data": {
          "bar": [
           {
            "error_x": {
             "color": "#2a3f5f"
            },
            "error_y": {
             "color": "#2a3f5f"
            },
            "marker": {
             "line": {
              "color": "#E5ECF6",
              "width": 0.5
             }
            },
            "type": "bar"
           }
          ],
          "barpolar": [
           {
            "marker": {
             "line": {
              "color": "#E5ECF6",
              "width": 0.5
             }
            },
            "type": "barpolar"
           }
          ],
          "carpet": [
           {
            "aaxis": {
             "endlinecolor": "#2a3f5f",
             "gridcolor": "white",
             "linecolor": "white",
             "minorgridcolor": "white",
             "startlinecolor": "#2a3f5f"
            },
            "baxis": {
             "endlinecolor": "#2a3f5f",
             "gridcolor": "white",
             "linecolor": "white",
             "minorgridcolor": "white",
             "startlinecolor": "#2a3f5f"
            },
            "type": "carpet"
           }
          ],
          "choropleth": [
           {
            "colorbar": {
             "outlinewidth": 0,
             "ticks": ""
            },
            "type": "choropleth"
           }
          ],
          "contour": [
           {
            "colorbar": {
             "outlinewidth": 0,
             "ticks": ""
            },
            "colorscale": [
             [
              0,
              "#0d0887"
             ],
             [
              0.1111111111111111,
              "#46039f"
             ],
             [
              0.2222222222222222,
              "#7201a8"
             ],
             [
              0.3333333333333333,
              "#9c179e"
             ],
             [
              0.4444444444444444,
              "#bd3786"
             ],
             [
              0.5555555555555556,
              "#d8576b"
             ],
             [
              0.6666666666666666,
              "#ed7953"
             ],
             [
              0.7777777777777778,
              "#fb9f3a"
             ],
             [
              0.8888888888888888,
              "#fdca26"
             ],
             [
              1,
              "#f0f921"
             ]
            ],
            "type": "contour"
           }
          ],
          "contourcarpet": [
           {
            "colorbar": {
             "outlinewidth": 0,
             "ticks": ""
            },
            "type": "contourcarpet"
           }
          ],
          "heatmap": [
           {
            "colorbar": {
             "outlinewidth": 0,
             "ticks": ""
            },
            "colorscale": [
             [
              0,
              "#0d0887"
             ],
             [
              0.1111111111111111,
              "#46039f"
             ],
             [
              0.2222222222222222,
              "#7201a8"
             ],
             [
              0.3333333333333333,
              "#9c179e"
             ],
             [
              0.4444444444444444,
              "#bd3786"
             ],
             [
              0.5555555555555556,
              "#d8576b"
             ],
             [
              0.6666666666666666,
              "#ed7953"
             ],
             [
              0.7777777777777778,
              "#fb9f3a"
             ],
             [
              0.8888888888888888,
              "#fdca26"
             ],
             [
              1,
              "#f0f921"
             ]
            ],
            "type": "heatmap"
           }
          ],
          "heatmapgl": [
           {
            "colorbar": {
             "outlinewidth": 0,
             "ticks": ""
            },
            "colorscale": [
             [
              0,
              "#0d0887"
             ],
             [
              0.1111111111111111,
              "#46039f"
             ],
             [
              0.2222222222222222,
              "#7201a8"
             ],
             [
              0.3333333333333333,
              "#9c179e"
             ],
             [
              0.4444444444444444,
              "#bd3786"
             ],
             [
              0.5555555555555556,
              "#d8576b"
             ],
             [
              0.6666666666666666,
              "#ed7953"
             ],
             [
              0.7777777777777778,
              "#fb9f3a"
             ],
             [
              0.8888888888888888,
              "#fdca26"
             ],
             [
              1,
              "#f0f921"
             ]
            ],
            "type": "heatmapgl"
           }
          ],
          "histogram": [
           {
            "marker": {
             "colorbar": {
              "outlinewidth": 0,
              "ticks": ""
             }
            },
            "type": "histogram"
           }
          ],
          "histogram2d": [
           {
            "colorbar": {
             "outlinewidth": 0,
             "ticks": ""
            },
            "colorscale": [
             [
              0,
              "#0d0887"
             ],
             [
              0.1111111111111111,
              "#46039f"
             ],
             [
              0.2222222222222222,
              "#7201a8"
             ],
             [
              0.3333333333333333,
              "#9c179e"
             ],
             [
              0.4444444444444444,
              "#bd3786"
             ],
             [
              0.5555555555555556,
              "#d8576b"
             ],
             [
              0.6666666666666666,
              "#ed7953"
             ],
             [
              0.7777777777777778,
              "#fb9f3a"
             ],
             [
              0.8888888888888888,
              "#fdca26"
             ],
             [
              1,
              "#f0f921"
             ]
            ],
            "type": "histogram2d"
           }
          ],
          "histogram2dcontour": [
           {
            "colorbar": {
             "outlinewidth": 0,
             "ticks": ""
            },
            "colorscale": [
             [
              0,
              "#0d0887"
             ],
             [
              0.1111111111111111,
              "#46039f"
             ],
             [
              0.2222222222222222,
              "#7201a8"
             ],
             [
              0.3333333333333333,
              "#9c179e"
             ],
             [
              0.4444444444444444,
              "#bd3786"
             ],
             [
              0.5555555555555556,
              "#d8576b"
             ],
             [
              0.6666666666666666,
              "#ed7953"
             ],
             [
              0.7777777777777778,
              "#fb9f3a"
             ],
             [
              0.8888888888888888,
              "#fdca26"
             ],
             [
              1,
              "#f0f921"
             ]
            ],
            "type": "histogram2dcontour"
           }
          ],
          "mesh3d": [
           {
            "colorbar": {
             "outlinewidth": 0,
             "ticks": ""
            },
            "type": "mesh3d"
           }
          ],
          "parcoords": [
           {
            "line": {
             "colorbar": {
              "outlinewidth": 0,
              "ticks": ""
             }
            },
            "type": "parcoords"
           }
          ],
          "pie": [
           {
            "automargin": true,
            "type": "pie"
           }
          ],
          "scatter": [
           {
            "marker": {
             "colorbar": {
              "outlinewidth": 0,
              "ticks": ""
             }
            },
            "type": "scatter"
           }
          ],
          "scatter3d": [
           {
            "line": {
             "colorbar": {
              "outlinewidth": 0,
              "ticks": ""
             }
            },
            "marker": {
             "colorbar": {
              "outlinewidth": 0,
              "ticks": ""
             }
            },
            "type": "scatter3d"
           }
          ],
          "scattercarpet": [
           {
            "marker": {
             "colorbar": {
              "outlinewidth": 0,
              "ticks": ""
             }
            },
            "type": "scattercarpet"
           }
          ],
          "scattergeo": [
           {
            "marker": {
             "colorbar": {
              "outlinewidth": 0,
              "ticks": ""
             }
            },
            "type": "scattergeo"
           }
          ],
          "scattergl": [
           {
            "marker": {
             "colorbar": {
              "outlinewidth": 0,
              "ticks": ""
             }
            },
            "type": "scattergl"
           }
          ],
          "scattermapbox": [
           {
            "marker": {
             "colorbar": {
              "outlinewidth": 0,
              "ticks": ""
             }
            },
            "type": "scattermapbox"
           }
          ],
          "scatterpolar": [
           {
            "marker": {
             "colorbar": {
              "outlinewidth": 0,
              "ticks": ""
             }
            },
            "type": "scatterpolar"
           }
          ],
          "scatterpolargl": [
           {
            "marker": {
             "colorbar": {
              "outlinewidth": 0,
              "ticks": ""
             }
            },
            "type": "scatterpolargl"
           }
          ],
          "scatterternary": [
           {
            "marker": {
             "colorbar": {
              "outlinewidth": 0,
              "ticks": ""
             }
            },
            "type": "scatterternary"
           }
          ],
          "surface": [
           {
            "colorbar": {
             "outlinewidth": 0,
             "ticks": ""
            },
            "colorscale": [
             [
              0,
              "#0d0887"
             ],
             [
              0.1111111111111111,
              "#46039f"
             ],
             [
              0.2222222222222222,
              "#7201a8"
             ],
             [
              0.3333333333333333,
              "#9c179e"
             ],
             [
              0.4444444444444444,
              "#bd3786"
             ],
             [
              0.5555555555555556,
              "#d8576b"
             ],
             [
              0.6666666666666666,
              "#ed7953"
             ],
             [
              0.7777777777777778,
              "#fb9f3a"
             ],
             [
              0.8888888888888888,
              "#fdca26"
             ],
             [
              1,
              "#f0f921"
             ]
            ],
            "type": "surface"
           }
          ],
          "table": [
           {
            "cells": {
             "fill": {
              "color": "#EBF0F8"
             },
             "line": {
              "color": "white"
             }
            },
            "header": {
             "fill": {
              "color": "#C8D4E3"
             },
             "line": {
              "color": "white"
             }
            },
            "type": "table"
           }
          ]
         },
         "layout": {
          "annotationdefaults": {
           "arrowcolor": "#2a3f5f",
           "arrowhead": 0,
           "arrowwidth": 1
          },
          "coloraxis": {
           "colorbar": {
            "outlinewidth": 0,
            "ticks": ""
           }
          },
          "colorscale": {
           "diverging": [
            [
             0,
             "#8e0152"
            ],
            [
             0.1,
             "#c51b7d"
            ],
            [
             0.2,
             "#de77ae"
            ],
            [
             0.3,
             "#f1b6da"
            ],
            [
             0.4,
             "#fde0ef"
            ],
            [
             0.5,
             "#f7f7f7"
            ],
            [
             0.6,
             "#e6f5d0"
            ],
            [
             0.7,
             "#b8e186"
            ],
            [
             0.8,
             "#7fbc41"
            ],
            [
             0.9,
             "#4d9221"
            ],
            [
             1,
             "#276419"
            ]
           ],
           "sequential": [
            [
             0,
             "#0d0887"
            ],
            [
             0.1111111111111111,
             "#46039f"
            ],
            [
             0.2222222222222222,
             "#7201a8"
            ],
            [
             0.3333333333333333,
             "#9c179e"
            ],
            [
             0.4444444444444444,
             "#bd3786"
            ],
            [
             0.5555555555555556,
             "#d8576b"
            ],
            [
             0.6666666666666666,
             "#ed7953"
            ],
            [
             0.7777777777777778,
             "#fb9f3a"
            ],
            [
             0.8888888888888888,
             "#fdca26"
            ],
            [
             1,
             "#f0f921"
            ]
           ],
           "sequentialminus": [
            [
             0,
             "#0d0887"
            ],
            [
             0.1111111111111111,
             "#46039f"
            ],
            [
             0.2222222222222222,
             "#7201a8"
            ],
            [
             0.3333333333333333,
             "#9c179e"
            ],
            [
             0.4444444444444444,
             "#bd3786"
            ],
            [
             0.5555555555555556,
             "#d8576b"
            ],
            [
             0.6666666666666666,
             "#ed7953"
            ],
            [
             0.7777777777777778,
             "#fb9f3a"
            ],
            [
             0.8888888888888888,
             "#fdca26"
            ],
            [
             1,
             "#f0f921"
            ]
           ]
          },
          "colorway": [
           "#636efa",
           "#EF553B",
           "#00cc96",
           "#ab63fa",
           "#FFA15A",
           "#19d3f3",
           "#FF6692",
           "#B6E880",
           "#FF97FF",
           "#FECB52"
          ],
          "font": {
           "color": "#2a3f5f"
          },
          "geo": {
           "bgcolor": "white",
           "lakecolor": "white",
           "landcolor": "#E5ECF6",
           "showlakes": true,
           "showland": true,
           "subunitcolor": "white"
          },
          "hoverlabel": {
           "align": "left"
          },
          "hovermode": "closest",
          "mapbox": {
           "style": "light"
          },
          "paper_bgcolor": "white",
          "plot_bgcolor": "#E5ECF6",
          "polar": {
           "angularaxis": {
            "gridcolor": "white",
            "linecolor": "white",
            "ticks": ""
           },
           "bgcolor": "#E5ECF6",
           "radialaxis": {
            "gridcolor": "white",
            "linecolor": "white",
            "ticks": ""
           }
          },
          "scene": {
           "xaxis": {
            "backgroundcolor": "#E5ECF6",
            "gridcolor": "white",
            "gridwidth": 2,
            "linecolor": "white",
            "showbackground": true,
            "ticks": "",
            "zerolinecolor": "white"
           },
           "yaxis": {
            "backgroundcolor": "#E5ECF6",
            "gridcolor": "white",
            "gridwidth": 2,
            "linecolor": "white",
            "showbackground": true,
            "ticks": "",
            "zerolinecolor": "white"
           },
           "zaxis": {
            "backgroundcolor": "#E5ECF6",
            "gridcolor": "white",
            "gridwidth": 2,
            "linecolor": "white",
            "showbackground": true,
            "ticks": "",
            "zerolinecolor": "white"
           }
          },
          "shapedefaults": {
           "line": {
            "color": "#2a3f5f"
           }
          },
          "ternary": {
           "aaxis": {
            "gridcolor": "white",
            "linecolor": "white",
            "ticks": ""
           },
           "baxis": {
            "gridcolor": "white",
            "linecolor": "white",
            "ticks": ""
           },
           "bgcolor": "#E5ECF6",
           "caxis": {
            "gridcolor": "white",
            "linecolor": "white",
            "ticks": ""
           }
          },
          "title": {
           "x": 0.05
          },
          "xaxis": {
           "automargin": true,
           "gridcolor": "white",
           "linecolor": "white",
           "ticks": "",
           "title": {
            "standoff": 15
           },
           "zerolinecolor": "white",
           "zerolinewidth": 2
          },
          "yaxis": {
           "automargin": true,
           "gridcolor": "white",
           "linecolor": "white",
           "ticks": "",
           "title": {
            "standoff": 15
           },
           "zerolinecolor": "white",
           "zerolinewidth": 2
          }
         }
        },
        "title": {
         "text": "World COVID-19 Stats"
        }
       }
      },
      "text/html": [
       "<div>\n",
       "        \n",
       "        \n",
       "            <div id=\"0ee6627c-1274-42fb-8f05-e9c5133439e9\" class=\"plotly-graph-div\" style=\"height:525px; width:100%;\"></div>\n",
       "            <script type=\"text/javascript\">\n",
       "                require([\"plotly\"], function(Plotly) {\n",
       "                    window.PLOTLYENV=window.PLOTLYENV || {};\n",
       "                    \n",
       "                if (document.getElementById(\"0ee6627c-1274-42fb-8f05-e9c5133439e9\")) {\n",
       "                    Plotly.newPlot(\n",
       "                        '0ee6627c-1274-42fb-8f05-e9c5133439e9',\n",
       "                        [{\"colorbar\": {\"title\": {\"text\": \"Confirmed Cases\"}}, \"locations\": [\"USA\", \"BRA\", \"IND\", \"RUS\", \"ZAF\", \"PER\", \"MEX\", \"COL\", \"CHL\", \"ESP\", \"IRN\", \"ARG\", \"GBR\", \"SAU\", \"BGD\", \"PAK\", \"FRA\", \"ITA\", \"TUR\", \"DEU\", \"IRQ\", \"PHL\", \"IDN\", \"CAN\", \"QAT\", \"BOL\", \"ECU\", \"UKR\", \"KAZ\", \"ISR\", \"EGY\", \"DOM\", \"SWE\", \"PAN\", \"CHN\", \"OMN\", \"BEL\", \"KWT\", \"ROU\", \"BLR\", \"GTM\", \"ARE\", \"NLD\", \"POL\", \"JPN\", \"SGP\", \"PRT\", \"HND\", \"MAR\", \"NGA\", \"BHR\", \"GHA\", \"KGZ\", \"ARM\", \"DZA\", \"ETH\", \"CHE\", \"VEN\", \"UZB\", \"AFG\", \"AZE\", \"CRI\", \"MDA\", \"KEN\", \"NPL\", \"SRB\", \"IRL\", \"AUT\", \"AUS\", \"SLV\", \"CZE\", \"PSE\", \"CMR\", \"BIH\", \"CIV\", \"KOR\", \"DNK\", \"BGR\", \"MDG\", \"MKD\", \"PRY\", \"SEN\", \"SDN\", \"LBN\", \"XKX\", \"ZMB\", \"LBY\", \"NOR\", \"COD\", \"MYS\", \"GIN\", \"GUF\", \"GRC\", \"ALB\", \"GAB\", \"TJK\", \"HRV\", \"HTI\", \"FIN\", \"LUX\", \"MRT\", \"MDV\", \"ZWE\", \"NAM\", \"MWI\", \"DJI\", \"HUN\", \"GNQ\", \"HKG\", \"CAF\", \"MNE\", \"NIC\", \"SWZ\", \"COG\", \"CUB\", \"SUR\", \"CPV\", \"MOZ\", \"THA\", \"SVK\", \"SOM\", \"MYT\", \"RWA\", \"LKA\", \"TUN\", \"MLI\", \"GMB\", \"SVN\", \"LTU\", \"SSD\", \"EST\", \"UGA\", \"SYR\", \"AGO\", \"GNB\", \"BEN\", \"ISL\", \"SLE\", \"YEM\", \"BHS\", \"NZL\", \"MLT\", \"JOR\", \"ABW\", \"URY\", \"CYP\", \"JAM\", \"GEO\", \"LVA\", \"BFA\", \"BWA\", \"LBR\", \"TGO\", \"REU\", \"NER\", \"AND\", \"VNM\", \"LSO\", \"TCD\", \"TTO\", \"GUY\", \"GLP\", \"SMR\", \"BLZ\", \"TZA\", \"TWN\", \"MMR\", \"BDI\", \"COM\", \"FRO\", \"TCA\", \"SXM\", \"PNG\", \"MUS\", \"MTQ\", \"IMN\", \"ERI\", \"MNG\", \"PYF\", \"KHM\", \"GIB\", \"CYM\", \"MAF\", \"BMU\", \"BRB\", \"BTN\", \"MCO\", \"BRN\", \"SYC\", \"LIE\", \"ATG\", \"VCT\", \"MAC\", \"CUW\", \"FJI\", \"LCA\", \"TLS\", \"GRD\", \"NCL\", \"LAO\", \"VGB\", \"DMA\", \"KNA\", \"BLM\", \"GRL\", \"MSR\", \"BES\", \"FLK\", \"VAT\", \"ESH\", \"SPM\", \"AIA\"], \"marker\": {\"line\": {\"color\": \"rgb(255,255,255)\", \"width\": 2}}, \"text\": [180555.0, 114744.0, 57692.0, 16383.0, 13059.0, 27453.0, 60254.0, 16968.0, 10852.0, 28838.0, 20643.0, 6947.0, 41429.0, 3649.0, 3941.0, 6235.0, 30513.0, 35437.0, 6121.0, 9332.0, 6428.0, 2998.0, 6680.0, 9116.0, 193.0, 4442.0, 6310.0, 2271.0, 1415.0, 834.0, 5243.0, 1567.0, 5810.0, 1878.0, 4634.0, 609.0, 9988.0, 515.0, 3272.0, 642.0, 2580.0, 375.0, 6200.0, 1955.0, 1169.0, 27.0, 1796.0, 1643.0, 888.0, 997.0, 184.0, 261.0, 1056.0, 852.0, 1435.0, 678.0, 2001.0, 323.0, 273.0, 1387.0, 518.0, 355.0, 940.0, 548.0, 149.0, 698.0, 1777.0, 732.0, 502.0, 661.0, 412.0, 128.0, 408.0, 532.0, 113.0, 309.0, 622.0, 545.0, 178.0, 564.0, 192.0, 269.0, 815.0, 123.0, 448.0, 280.0, 188.0, 264.0, 251.0, 125.0, 53.0, 55.0, 242.0, 250.0, 53.0, 66.0, 171.0, 196.0, 334.0, 124.0, 158.0, 26.0, 153.0, 52.0, 168.0, 60.0, 613.0, 83.0, 77.0, 61.0, 84.0, 133.0, 83.0, 77.0, 89.0, 57.0, 37.0, 20.0, 58.0, 33.0, 93.0, 39.0, 12.0, 12.0, 71.0, 125.0, 87.0, 131.0, 84.0, 47.0, 63.0, 20.0, 89.0, 96.0, 33.0, 39.0, 10.0, 69.0, 553.0, 29.0, 22.0, 10.0, 12.0, 7.0, 42.0, 20.0, 16.0, 17.0, 33.0, 55.0, 3.0, 82.0, 27.0, 6.0, 69.0, 53.0, 27.0, 30.0, 76.0, 14.0, 31.0, 15.0, 42.0, 6.0, 21.0, 7.0, 6.0, 1.0, 7.0, 0.0, 2.0, 17.0, 4.0, 10.0, 16.0, 24.0, 0.0, 0.0, 0.0, 0.0, 0.0, 1.0, 5.0, 9.0, 7.0, 0.0, 4.0, 3.0, 0.0, 1.0, 3.0, 0.0, 0.0, 1.0, 1.0, 0.0, 0.0, 0.0, 0.0, 0.0, 1.0, 0.0, 0.0, 0.0, 0.0, 1.0, 0.0, 0.0, 0.0, 1.0, 0.0, 0.0], \"type\": \"choropleth\", \"z\": [5869551, 3605783, 3105185, 956749, 609773, 585236, 556216, 533103, 397665, 386054, 358905, 336802, 325642, 307479, 294598, 292765, 260873, 259345, 258249, 234399, 204341, 189601, 153535, 126547, 117008, 108427, 107769, 104958, 104543, 102663, 97237, 91161, 86068, 85480, 84951, 83769, 81468, 80528, 78505, 70468, 67856, 67007, 66554, 61762, 60733, 56353, 55597, 53983, 52349, 51905, 49038, 43505, 43023, 42792, 41460, 40671, 39903, 38957, 38946, 37999, 35274, 33820, 33478, 32364, 31935, 30657, 27969, 25253, 24812, 24622, 21867, 18802, 18762, 17715, 17471, 17399, 16317, 15287, 14327, 13595, 12974, 12949, 12836, 12698, 12168, 11082, 10437, 10318, 9830, 9267, 8967, 8797, 8664, 8427, 8388, 8311, 8175, 8082, 7920, 7762, 6905, 6660, 5893, 5854, 5382, 5382, 5155, 4926, 4683, 4679, 4313, 4311, 4189, 3850, 3617, 3569, 3455, 3395, 3395, 3356, 3269, 3237, 3089, 2953, 2818, 2705, 2685, 2651, 2635, 2499, 2272, 2263, 2217, 2171, 2149, 2115, 2064, 1980, 1911, 1765, 1674, 1612, 1609, 1568, 1521, 1421, 1413, 1411, 1337, 1320, 1308, 1286, 1277, 1209, 1172, 1045, 1016, 1015, 986, 963, 925, 771, 704, 668, 509, 487, 450, 430, 417, 384, 383, 368, 361, 346, 336, 336, 306, 298, 298, 273, 246, 205, 176, 167, 158, 155, 154, 143, 132, 99, 94, 58, 46, 39, 28, 26, 26, 24, 23, 22, 21, 19, 17, 16, 14, 13, 13, 13, 12, 10, 5, 3]}],\n",
       "                        {\"geo\": {\"projection\": {\"type\": \"mercator\"}, \"showframe\": false}, \"template\": {\"data\": {\"bar\": [{\"error_x\": {\"color\": \"#2a3f5f\"}, \"error_y\": {\"color\": \"#2a3f5f\"}, \"marker\": {\"line\": {\"color\": \"#E5ECF6\", \"width\": 0.5}}, \"type\": \"bar\"}], \"barpolar\": [{\"marker\": {\"line\": {\"color\": \"#E5ECF6\", \"width\": 0.5}}, \"type\": \"barpolar\"}], \"carpet\": [{\"aaxis\": {\"endlinecolor\": \"#2a3f5f\", \"gridcolor\": \"white\", \"linecolor\": \"white\", \"minorgridcolor\": \"white\", \"startlinecolor\": \"#2a3f5f\"}, \"baxis\": {\"endlinecolor\": \"#2a3f5f\", \"gridcolor\": \"white\", \"linecolor\": \"white\", \"minorgridcolor\": \"white\", \"startlinecolor\": \"#2a3f5f\"}, \"type\": \"carpet\"}], \"choropleth\": [{\"colorbar\": {\"outlinewidth\": 0, \"ticks\": \"\"}, \"type\": \"choropleth\"}], \"contour\": [{\"colorbar\": {\"outlinewidth\": 0, \"ticks\": \"\"}, \"colorscale\": [[0.0, \"#0d0887\"], [0.1111111111111111, \"#46039f\"], [0.2222222222222222, \"#7201a8\"], [0.3333333333333333, \"#9c179e\"], [0.4444444444444444, \"#bd3786\"], [0.5555555555555556, \"#d8576b\"], [0.6666666666666666, \"#ed7953\"], [0.7777777777777778, \"#fb9f3a\"], [0.8888888888888888, \"#fdca26\"], [1.0, \"#f0f921\"]], \"type\": \"contour\"}], \"contourcarpet\": [{\"colorbar\": {\"outlinewidth\": 0, \"ticks\": \"\"}, \"type\": \"contourcarpet\"}], \"heatmap\": [{\"colorbar\": {\"outlinewidth\": 0, \"ticks\": \"\"}, \"colorscale\": [[0.0, \"#0d0887\"], [0.1111111111111111, \"#46039f\"], [0.2222222222222222, \"#7201a8\"], [0.3333333333333333, \"#9c179e\"], [0.4444444444444444, \"#bd3786\"], [0.5555555555555556, \"#d8576b\"], [0.6666666666666666, \"#ed7953\"], [0.7777777777777778, \"#fb9f3a\"], [0.8888888888888888, \"#fdca26\"], [1.0, \"#f0f921\"]], \"type\": \"heatmap\"}], \"heatmapgl\": [{\"colorbar\": {\"outlinewidth\": 0, \"ticks\": \"\"}, \"colorscale\": [[0.0, \"#0d0887\"], [0.1111111111111111, \"#46039f\"], [0.2222222222222222, \"#7201a8\"], [0.3333333333333333, \"#9c179e\"], [0.4444444444444444, \"#bd3786\"], [0.5555555555555556, \"#d8576b\"], [0.6666666666666666, \"#ed7953\"], [0.7777777777777778, \"#fb9f3a\"], [0.8888888888888888, \"#fdca26\"], [1.0, \"#f0f921\"]], \"type\": \"heatmapgl\"}], \"histogram\": [{\"marker\": {\"colorbar\": {\"outlinewidth\": 0, \"ticks\": \"\"}}, \"type\": \"histogram\"}], \"histogram2d\": [{\"colorbar\": {\"outlinewidth\": 0, \"ticks\": \"\"}, \"colorscale\": [[0.0, \"#0d0887\"], [0.1111111111111111, \"#46039f\"], [0.2222222222222222, \"#7201a8\"], [0.3333333333333333, \"#9c179e\"], [0.4444444444444444, \"#bd3786\"], [0.5555555555555556, \"#d8576b\"], [0.6666666666666666, \"#ed7953\"], [0.7777777777777778, \"#fb9f3a\"], [0.8888888888888888, \"#fdca26\"], [1.0, \"#f0f921\"]], \"type\": \"histogram2d\"}], \"histogram2dcontour\": [{\"colorbar\": {\"outlinewidth\": 0, \"ticks\": \"\"}, \"colorscale\": [[0.0, \"#0d0887\"], [0.1111111111111111, \"#46039f\"], [0.2222222222222222, \"#7201a8\"], [0.3333333333333333, \"#9c179e\"], [0.4444444444444444, \"#bd3786\"], [0.5555555555555556, \"#d8576b\"], [0.6666666666666666, \"#ed7953\"], [0.7777777777777778, \"#fb9f3a\"], [0.8888888888888888, \"#fdca26\"], [1.0, \"#f0f921\"]], \"type\": \"histogram2dcontour\"}], \"mesh3d\": [{\"colorbar\": {\"outlinewidth\": 0, \"ticks\": \"\"}, \"type\": \"mesh3d\"}], \"parcoords\": [{\"line\": {\"colorbar\": {\"outlinewidth\": 0, \"ticks\": \"\"}}, \"type\": \"parcoords\"}], \"pie\": [{\"automargin\": true, \"type\": \"pie\"}], \"scatter\": [{\"marker\": {\"colorbar\": {\"outlinewidth\": 0, \"ticks\": \"\"}}, \"type\": \"scatter\"}], \"scatter3d\": [{\"line\": {\"colorbar\": {\"outlinewidth\": 0, \"ticks\": \"\"}}, \"marker\": {\"colorbar\": {\"outlinewidth\": 0, \"ticks\": \"\"}}, \"type\": \"scatter3d\"}], \"scattercarpet\": [{\"marker\": {\"colorbar\": {\"outlinewidth\": 0, \"ticks\": \"\"}}, \"type\": \"scattercarpet\"}], \"scattergeo\": [{\"marker\": {\"colorbar\": {\"outlinewidth\": 0, \"ticks\": \"\"}}, \"type\": \"scattergeo\"}], \"scattergl\": [{\"marker\": {\"colorbar\": {\"outlinewidth\": 0, \"ticks\": \"\"}}, \"type\": \"scattergl\"}], \"scattermapbox\": [{\"marker\": {\"colorbar\": {\"outlinewidth\": 0, \"ticks\": \"\"}}, \"type\": \"scattermapbox\"}], \"scatterpolar\": [{\"marker\": {\"colorbar\": {\"outlinewidth\": 0, \"ticks\": \"\"}}, \"type\": \"scatterpolar\"}], \"scatterpolargl\": [{\"marker\": {\"colorbar\": {\"outlinewidth\": 0, \"ticks\": \"\"}}, \"type\": \"scatterpolargl\"}], \"scatterternary\": [{\"marker\": {\"colorbar\": {\"outlinewidth\": 0, \"ticks\": \"\"}}, \"type\": \"scatterternary\"}], \"surface\": [{\"colorbar\": {\"outlinewidth\": 0, \"ticks\": \"\"}, \"colorscale\": [[0.0, \"#0d0887\"], [0.1111111111111111, \"#46039f\"], [0.2222222222222222, \"#7201a8\"], [0.3333333333333333, \"#9c179e\"], [0.4444444444444444, \"#bd3786\"], [0.5555555555555556, \"#d8576b\"], [0.6666666666666666, \"#ed7953\"], [0.7777777777777778, \"#fb9f3a\"], [0.8888888888888888, \"#fdca26\"], [1.0, \"#f0f921\"]], \"type\": \"surface\"}], \"table\": [{\"cells\": {\"fill\": {\"color\": \"#EBF0F8\"}, \"line\": {\"color\": \"white\"}}, \"header\": {\"fill\": {\"color\": \"#C8D4E3\"}, \"line\": {\"color\": \"white\"}}, \"type\": \"table\"}]}, \"layout\": {\"annotationdefaults\": {\"arrowcolor\": \"#2a3f5f\", \"arrowhead\": 0, \"arrowwidth\": 1}, \"coloraxis\": {\"colorbar\": {\"outlinewidth\": 0, \"ticks\": \"\"}}, \"colorscale\": {\"diverging\": [[0, \"#8e0152\"], [0.1, \"#c51b7d\"], [0.2, \"#de77ae\"], [0.3, \"#f1b6da\"], [0.4, \"#fde0ef\"], [0.5, \"#f7f7f7\"], [0.6, \"#e6f5d0\"], [0.7, \"#b8e186\"], [0.8, \"#7fbc41\"], [0.9, \"#4d9221\"], [1, \"#276419\"]], \"sequential\": [[0.0, \"#0d0887\"], [0.1111111111111111, \"#46039f\"], [0.2222222222222222, \"#7201a8\"], [0.3333333333333333, \"#9c179e\"], [0.4444444444444444, \"#bd3786\"], [0.5555555555555556, \"#d8576b\"], [0.6666666666666666, \"#ed7953\"], [0.7777777777777778, \"#fb9f3a\"], [0.8888888888888888, \"#fdca26\"], [1.0, \"#f0f921\"]], \"sequentialminus\": [[0.0, \"#0d0887\"], [0.1111111111111111, \"#46039f\"], [0.2222222222222222, \"#7201a8\"], [0.3333333333333333, \"#9c179e\"], [0.4444444444444444, \"#bd3786\"], [0.5555555555555556, \"#d8576b\"], [0.6666666666666666, \"#ed7953\"], [0.7777777777777778, \"#fb9f3a\"], [0.8888888888888888, \"#fdca26\"], [1.0, \"#f0f921\"]]}, \"colorway\": [\"#636efa\", \"#EF553B\", \"#00cc96\", \"#ab63fa\", \"#FFA15A\", \"#19d3f3\", \"#FF6692\", \"#B6E880\", \"#FF97FF\", \"#FECB52\"], \"font\": {\"color\": \"#2a3f5f\"}, \"geo\": {\"bgcolor\": \"white\", \"lakecolor\": \"white\", \"landcolor\": \"#E5ECF6\", \"showlakes\": true, \"showland\": true, \"subunitcolor\": \"white\"}, \"hoverlabel\": {\"align\": \"left\"}, \"hovermode\": \"closest\", \"mapbox\": {\"style\": \"light\"}, \"paper_bgcolor\": \"white\", \"plot_bgcolor\": \"#E5ECF6\", \"polar\": {\"angularaxis\": {\"gridcolor\": \"white\", \"linecolor\": \"white\", \"ticks\": \"\"}, \"bgcolor\": \"#E5ECF6\", \"radialaxis\": {\"gridcolor\": \"white\", \"linecolor\": \"white\", \"ticks\": \"\"}}, \"scene\": {\"xaxis\": {\"backgroundcolor\": \"#E5ECF6\", \"gridcolor\": \"white\", \"gridwidth\": 2, \"linecolor\": \"white\", \"showbackground\": true, \"ticks\": \"\", \"zerolinecolor\": \"white\"}, \"yaxis\": {\"backgroundcolor\": \"#E5ECF6\", \"gridcolor\": \"white\", \"gridwidth\": 2, \"linecolor\": \"white\", \"showbackground\": true, \"ticks\": \"\", \"zerolinecolor\": \"white\"}, \"zaxis\": {\"backgroundcolor\": \"#E5ECF6\", \"gridcolor\": \"white\", \"gridwidth\": 2, \"linecolor\": \"white\", \"showbackground\": true, \"ticks\": \"\", \"zerolinecolor\": \"white\"}}, \"shapedefaults\": {\"line\": {\"color\": \"#2a3f5f\"}}, \"ternary\": {\"aaxis\": {\"gridcolor\": \"white\", \"linecolor\": \"white\", \"ticks\": \"\"}, \"baxis\": {\"gridcolor\": \"white\", \"linecolor\": \"white\", \"ticks\": \"\"}, \"bgcolor\": \"#E5ECF6\", \"caxis\": {\"gridcolor\": \"white\", \"linecolor\": \"white\", \"ticks\": \"\"}}, \"title\": {\"x\": 0.05}, \"xaxis\": {\"automargin\": true, \"gridcolor\": \"white\", \"linecolor\": \"white\", \"ticks\": \"\", \"title\": {\"standoff\": 15}, \"zerolinecolor\": \"white\", \"zerolinewidth\": 2}, \"yaxis\": {\"automargin\": true, \"gridcolor\": \"white\", \"linecolor\": \"white\", \"ticks\": \"\", \"title\": {\"standoff\": 15}, \"zerolinecolor\": \"white\", \"zerolinewidth\": 2}}}, \"title\": {\"text\": \"World COVID-19 Stats\"}},\n",
       "                        {\"responsive\": true}\n",
       "                    ).then(function(){\n",
       "                            \n",
       "var gd = document.getElementById('0ee6627c-1274-42fb-8f05-e9c5133439e9');\n",
       "var x = new MutationObserver(function (mutations, observer) {{\n",
       "        var display = window.getComputedStyle(gd).display;\n",
       "        if (!display || display === 'none') {{\n",
       "            console.log([gd, 'removed!']);\n",
       "            Plotly.purge(gd);\n",
       "            observer.disconnect();\n",
       "        }}\n",
       "}});\n",
       "\n",
       "// Listen for the removal of the full notebook cells\n",
       "var notebookContainer = gd.closest('#notebook-container');\n",
       "if (notebookContainer) {{\n",
       "    x.observe(notebookContainer, {childList: true});\n",
       "}}\n",
       "\n",
       "// Listen for the clearing of the current output cell\n",
       "var outputEl = gd.closest('.output');\n",
       "if (outputEl) {{\n",
       "    x.observe(outputEl, {childList: true});\n",
       "}}\n",
       "\n",
       "                        })\n",
       "                };\n",
       "                });\n",
       "            </script>\n",
       "        </div>"
      ]
     },
     "metadata": {},
     "output_type": "display_data"
    }
   ],
   "source": [
    "# Finally we will pass both layout and data dictionary to generate the map.\n",
    "\n",
    "choromap = go.Figure(data = [data],layout = layout)\n",
    "iplot(choromap)"
   ]
  },
  {
   "cell_type": "markdown",
   "metadata": {},
   "source": [
    "## Canada COVID-19 Stats"
   ]
  },
  {
   "cell_type": "markdown",
   "metadata": {},
   "source": [
    "#### Lets get Latest Canada's information.\n",
    "1. We'll use the pandas read.html which lets us read the webpage table without much of complexity.\n",
    "2. We can also use the lsit to convert it to a dataframe.\n",
    "3. In the header of the list generated you see a number \"1\", which was used in the original website as a filter for arranging data in ascending or descending order."
   ]
  },
  {
   "cell_type": "code",
   "execution_count": 21,
   "metadata": {},
   "outputs": [
    {
     "data": {
      "text/html": [
       "<div>\n",
       "<style scoped>\n",
       "    .dataframe tbody tr th:only-of-type {\n",
       "        vertical-align: middle;\n",
       "    }\n",
       "\n",
       "    .dataframe tbody tr th {\n",
       "        vertical-align: top;\n",
       "    }\n",
       "\n",
       "    .dataframe thead th {\n",
       "        text-align: right;\n",
       "    }\n",
       "</style>\n",
       "<table border=\"1\" class=\"dataframe\">\n",
       "  <thead>\n",
       "    <tr style=\"text-align: right;\">\n",
       "      <th></th>\n",
       "      <th>Name</th>\n",
       "      <th>Confirmed</th>\n",
       "      <th>Per Million</th>\n",
       "      <th>Changes Today</th>\n",
       "      <th>Percentage Day Change</th>\n",
       "      <th>Critical</th>\n",
       "      <th>Deceased</th>\n",
       "      <th>Per Million.1</th>\n",
       "      <th>Changes Today.1</th>\n",
       "      <th>Percentage Death Change</th>\n",
       "      <th>Tests</th>\n",
       "      <th>Active</th>\n",
       "      <th>Recovered</th>\n",
       "      <th>Per Million.2</th>\n",
       "      <th>Population</th>\n",
       "    </tr>\n",
       "  </thead>\n",
       "  <tbody>\n",
       "    <tr>\n",
       "      <th>0</th>\n",
       "      <td>TOTAL</td>\n",
       "      <td>126547</td>\n",
       "      <td>Unknown</td>\n",
       "      <td>0</td>\n",
       "      <td>0%</td>\n",
       "      <td>62</td>\n",
       "      <td>9116</td>\n",
       "      <td>Unknown</td>\n",
       "      <td>0</td>\n",
       "      <td>0%</td>\n",
       "      <td>5076734</td>\n",
       "      <td>4822</td>\n",
       "      <td>112608</td>\n",
       "      <td>Unknown</td>\n",
       "      <td>Unknown</td>\n",
       "    </tr>\n",
       "    <tr>\n",
       "      <th>1</th>\n",
       "      <td>★  Alberta</td>\n",
       "      <td>12748</td>\n",
       "      <td>Unknown</td>\n",
       "      <td>0</td>\n",
       "      <td>0%</td>\n",
       "      <td>Unknown</td>\n",
       "      <td>230</td>\n",
       "      <td>Unknown</td>\n",
       "      <td>0</td>\n",
       "      <td>0%</td>\n",
       "      <td>Unknown</td>\n",
       "      <td>Unknown</td>\n",
       "      <td>11374</td>\n",
       "      <td>Unknown</td>\n",
       "      <td>Unknown</td>\n",
       "    </tr>\n",
       "    <tr>\n",
       "      <th>2</th>\n",
       "      <td>★  British Columbia</td>\n",
       "      <td>4915</td>\n",
       "      <td>Unknown</td>\n",
       "      <td>0</td>\n",
       "      <td>0%</td>\n",
       "      <td>Unknown</td>\n",
       "      <td>202</td>\n",
       "      <td>Unknown</td>\n",
       "      <td>0</td>\n",
       "      <td>0%</td>\n",
       "      <td>Unknown</td>\n",
       "      <td>Unknown</td>\n",
       "      <td>3889</td>\n",
       "      <td>Unknown</td>\n",
       "      <td>Unknown</td>\n",
       "    </tr>\n",
       "    <tr>\n",
       "      <th>3</th>\n",
       "      <td>★  Manitoba</td>\n",
       "      <td>872</td>\n",
       "      <td>Unknown</td>\n",
       "      <td>0</td>\n",
       "      <td>0%</td>\n",
       "      <td>Unknown</td>\n",
       "      <td>12</td>\n",
       "      <td>Unknown</td>\n",
       "      <td>0</td>\n",
       "      <td>0%</td>\n",
       "      <td>Unknown</td>\n",
       "      <td>Unknown</td>\n",
       "      <td>570</td>\n",
       "      <td>Unknown</td>\n",
       "      <td>Unknown</td>\n",
       "    </tr>\n",
       "    <tr>\n",
       "      <th>4</th>\n",
       "      <td>★  New Brunswick</td>\n",
       "      <td>188</td>\n",
       "      <td>Unknown</td>\n",
       "      <td>0</td>\n",
       "      <td>0%</td>\n",
       "      <td>Unknown</td>\n",
       "      <td>2</td>\n",
       "      <td>Unknown</td>\n",
       "      <td>0</td>\n",
       "      <td>0%</td>\n",
       "      <td>Unknown</td>\n",
       "      <td>Unknown</td>\n",
       "      <td>178</td>\n",
       "      <td>Unknown</td>\n",
       "      <td>Unknown</td>\n",
       "    </tr>\n",
       "    <tr>\n",
       "      <th>5</th>\n",
       "      <td>★  Newfoundland and Labrador</td>\n",
       "      <td>268</td>\n",
       "      <td>Unknown</td>\n",
       "      <td>0</td>\n",
       "      <td>0%</td>\n",
       "      <td>Unknown</td>\n",
       "      <td>3</td>\n",
       "      <td>Unknown</td>\n",
       "      <td>0</td>\n",
       "      <td>0%</td>\n",
       "      <td>Unknown</td>\n",
       "      <td>Unknown</td>\n",
       "      <td>265</td>\n",
       "      <td>Unknown</td>\n",
       "      <td>Unknown</td>\n",
       "    </tr>\n",
       "    <tr>\n",
       "      <th>6</th>\n",
       "      <td>★  Northwest Territories</td>\n",
       "      <td>5</td>\n",
       "      <td>Unknown</td>\n",
       "      <td>0</td>\n",
       "      <td>0%</td>\n",
       "      <td>Unknown</td>\n",
       "      <td>Unknown</td>\n",
       "      <td>Unknown</td>\n",
       "      <td>0</td>\n",
       "      <td>0%</td>\n",
       "      <td>Unknown</td>\n",
       "      <td>Unknown</td>\n",
       "      <td>5</td>\n",
       "      <td>Unknown</td>\n",
       "      <td>Unknown</td>\n",
       "    </tr>\n",
       "    <tr>\n",
       "      <th>7</th>\n",
       "      <td>★  Nova Scotia</td>\n",
       "      <td>1078</td>\n",
       "      <td>Unknown</td>\n",
       "      <td>0</td>\n",
       "      <td>0%</td>\n",
       "      <td>Unknown</td>\n",
       "      <td>64</td>\n",
       "      <td>Unknown</td>\n",
       "      <td>0</td>\n",
       "      <td>0%</td>\n",
       "      <td>Unknown</td>\n",
       "      <td>Unknown</td>\n",
       "      <td>1008</td>\n",
       "      <td>Unknown</td>\n",
       "      <td>Unknown</td>\n",
       "    </tr>\n",
       "    <tr>\n",
       "      <th>8</th>\n",
       "      <td>★  Ontario</td>\n",
       "      <td>43218</td>\n",
       "      <td>Unknown</td>\n",
       "      <td>0</td>\n",
       "      <td>0%</td>\n",
       "      <td>Unknown</td>\n",
       "      <td>2842</td>\n",
       "      <td>Unknown</td>\n",
       "      <td>0</td>\n",
       "      <td>0%</td>\n",
       "      <td>Unknown</td>\n",
       "      <td>Unknown</td>\n",
       "      <td>39230</td>\n",
       "      <td>Unknown</td>\n",
       "      <td>Unknown</td>\n",
       "    </tr>\n",
       "    <tr>\n",
       "      <th>9</th>\n",
       "      <td>★  Prince Edward Island</td>\n",
       "      <td>44</td>\n",
       "      <td>Unknown</td>\n",
       "      <td>0</td>\n",
       "      <td>0%</td>\n",
       "      <td>Unknown</td>\n",
       "      <td>Unknown</td>\n",
       "      <td>Unknown</td>\n",
       "      <td>0</td>\n",
       "      <td>0%</td>\n",
       "      <td>Unknown</td>\n",
       "      <td>Unknown</td>\n",
       "      <td>40</td>\n",
       "      <td>Unknown</td>\n",
       "      <td>Unknown</td>\n",
       "    </tr>\n",
       "    <tr>\n",
       "      <th>10</th>\n",
       "      <td>★  Quebec</td>\n",
       "      <td>61599</td>\n",
       "      <td>Unknown</td>\n",
       "      <td>0</td>\n",
       "      <td>0%</td>\n",
       "      <td>Unknown</td>\n",
       "      <td>5739</td>\n",
       "      <td>Unknown</td>\n",
       "      <td>0</td>\n",
       "      <td>0%</td>\n",
       "      <td>Unknown</td>\n",
       "      <td>Unknown</td>\n",
       "      <td>54576</td>\n",
       "      <td>Unknown</td>\n",
       "      <td>Unknown</td>\n",
       "    </tr>\n",
       "    <tr>\n",
       "      <th>11</th>\n",
       "      <td>★  Saskatchewan</td>\n",
       "      <td>1597</td>\n",
       "      <td>Unknown</td>\n",
       "      <td>0</td>\n",
       "      <td>0%</td>\n",
       "      <td>Unknown</td>\n",
       "      <td>22</td>\n",
       "      <td>Unknown</td>\n",
       "      <td>0</td>\n",
       "      <td>0%</td>\n",
       "      <td>Unknown</td>\n",
       "      <td>Unknown</td>\n",
       "      <td>1458</td>\n",
       "      <td>Unknown</td>\n",
       "      <td>Unknown</td>\n",
       "    </tr>\n",
       "    <tr>\n",
       "      <th>12</th>\n",
       "      <td>★  Yukon</td>\n",
       "      <td>15</td>\n",
       "      <td>Unknown</td>\n",
       "      <td>0</td>\n",
       "      <td>0%</td>\n",
       "      <td>Unknown</td>\n",
       "      <td>Unknown</td>\n",
       "      <td>Unknown</td>\n",
       "      <td>0</td>\n",
       "      <td>0%</td>\n",
       "      <td>Unknown</td>\n",
       "      <td>Unknown</td>\n",
       "      <td>15</td>\n",
       "      <td>Unknown</td>\n",
       "      <td>Unknown</td>\n",
       "    </tr>\n",
       "  </tbody>\n",
       "</table>\n",
       "</div>"
      ],
      "text/plain": [
       "                            Name  Confirmed Per Million  Changes Today  \\\n",
       "0                          TOTAL     126547     Unknown              0   \n",
       "1                     ★  Alberta      12748     Unknown              0   \n",
       "2            ★  British Columbia       4915     Unknown              0   \n",
       "3                    ★  Manitoba        872     Unknown              0   \n",
       "4               ★  New Brunswick        188     Unknown              0   \n",
       "5   ★  Newfoundland and Labrador        268     Unknown              0   \n",
       "6       ★  Northwest Territories          5     Unknown              0   \n",
       "7                 ★  Nova Scotia       1078     Unknown              0   \n",
       "8                     ★  Ontario      43218     Unknown              0   \n",
       "9        ★  Prince Edward Island         44     Unknown              0   \n",
       "10                     ★  Quebec      61599     Unknown              0   \n",
       "11               ★  Saskatchewan       1597     Unknown              0   \n",
       "12                      ★  Yukon         15     Unknown              0   \n",
       "\n",
       "   Percentage Day Change Critical Deceased Per Million.1  Changes Today.1  \\\n",
       "0                     0%       62     9116       Unknown                0   \n",
       "1                     0%  Unknown      230       Unknown                0   \n",
       "2                     0%  Unknown      202       Unknown                0   \n",
       "3                     0%  Unknown       12       Unknown                0   \n",
       "4                     0%  Unknown        2       Unknown                0   \n",
       "5                     0%  Unknown        3       Unknown                0   \n",
       "6                     0%  Unknown  Unknown       Unknown                0   \n",
       "7                     0%  Unknown       64       Unknown                0   \n",
       "8                     0%  Unknown     2842       Unknown                0   \n",
       "9                     0%  Unknown  Unknown       Unknown                0   \n",
       "10                    0%  Unknown     5739       Unknown                0   \n",
       "11                    0%  Unknown       22       Unknown                0   \n",
       "12                    0%  Unknown  Unknown       Unknown                0   \n",
       "\n",
       "   Percentage Death Change    Tests   Active  Recovered Per Million.2  \\\n",
       "0                       0%  5076734     4822     112608       Unknown   \n",
       "1                       0%  Unknown  Unknown      11374       Unknown   \n",
       "2                       0%  Unknown  Unknown       3889       Unknown   \n",
       "3                       0%  Unknown  Unknown        570       Unknown   \n",
       "4                       0%  Unknown  Unknown        178       Unknown   \n",
       "5                       0%  Unknown  Unknown        265       Unknown   \n",
       "6                       0%  Unknown  Unknown          5       Unknown   \n",
       "7                       0%  Unknown  Unknown       1008       Unknown   \n",
       "8                       0%  Unknown  Unknown      39230       Unknown   \n",
       "9                       0%  Unknown  Unknown         40       Unknown   \n",
       "10                      0%  Unknown  Unknown      54576       Unknown   \n",
       "11                      0%  Unknown  Unknown       1458       Unknown   \n",
       "12                      0%  Unknown  Unknown         15       Unknown   \n",
       "\n",
       "   Population  \n",
       "0     Unknown  \n",
       "1     Unknown  \n",
       "2     Unknown  \n",
       "3     Unknown  \n",
       "4     Unknown  \n",
       "5     Unknown  \n",
       "6     Unknown  \n",
       "7     Unknown  \n",
       "8     Unknown  \n",
       "9     Unknown  \n",
       "10    Unknown  \n",
       "11    Unknown  \n",
       "12    Unknown  "
      ]
     },
     "execution_count": 21,
     "metadata": {},
     "output_type": "execute_result"
    }
   ],
   "source": [
    "#grabbing latest canada specific data\n",
    "\n",
    "url = \"https://ncov2019.live/data/canada\"\n",
    "\n",
    "r = requests.get(url)\n",
    "df_list = pd.read_html(r.text) # this parses all the tables in webpages to a list\n",
    "canada_df = df_list[2]\n",
    "canada_df"
   ]
  },
  {
   "cell_type": "markdown",
   "metadata": {},
   "source": [
    "## Canada COVID-19 Stats"
   ]
  },
  {
   "cell_type": "markdown",
   "metadata": {},
   "source": [
    "#### Lets visualize Canada's Data and see which province has been worst effected.\n",
    "1. We'll use the same above canada_df for visualization purpose.\n",
    "2. We are going to use this dataframe because it's the latest data and our script we'll update the data every time we run the cell based on the website mentioned above.\n",
    "3. I'm going to use plotly for visualization purpose as it generates graphs which are interactive and user friendly."
   ]
  },
  {
   "cell_type": "code",
   "execution_count": 73,
   "metadata": {},
   "outputs": [
    {
     "data": {
      "application/vnd.plotly.v1+json": {
       "config": {
        "plotlyServerURL": "https://plot.ly"
       },
       "data": [
        {
         "alignmentgroup": "True",
         "hovertemplate": "Deceased=Unknown<br>Name=%{x}<br>Confirmed=%{y}<extra></extra>",
         "legendgroup": "Unknown",
         "marker": {
          "color": "#636efa"
         },
         "name": "Unknown",
         "offsetgroup": "Unknown",
         "orientation": "v",
         "showlegend": true,
         "textposition": "auto",
         "type": "bar",
         "x": [
          "★  Northwest Territories",
          "★  Yukon",
          "★  Prince Edward Island"
         ],
         "xaxis": "x",
         "y": [
          5,
          15,
          44
         ],
         "yaxis": "y"
        },
        {
         "alignmentgroup": "True",
         "hovertemplate": "Deceased=2<br>Name=%{x}<br>Confirmed=%{y}<extra></extra>",
         "legendgroup": "2",
         "marker": {
          "color": "#EF553B"
         },
         "name": "2",
         "offsetgroup": "2",
         "orientation": "v",
         "showlegend": true,
         "textposition": "auto",
         "type": "bar",
         "x": [
          "★  New Brunswick"
         ],
         "xaxis": "x",
         "y": [
          186
         ],
         "yaxis": "y"
        },
        {
         "alignmentgroup": "True",
         "hovertemplate": "Deceased=3<br>Name=%{x}<br>Confirmed=%{y}<extra></extra>",
         "legendgroup": "3",
         "marker": {
          "color": "#00cc96"
         },
         "name": "3",
         "offsetgroup": "3",
         "orientation": "v",
         "showlegend": true,
         "textposition": "auto",
         "type": "bar",
         "x": [
          "★  Newfoundland and Labrador"
         ],
         "xaxis": "x",
         "y": [
          268
         ],
         "yaxis": "y"
        },
        {
         "alignmentgroup": "True",
         "hovertemplate": "Deceased=12<br>Name=%{x}<br>Confirmed=%{y}<extra></extra>",
         "legendgroup": "12",
         "marker": {
          "color": "#ab63fa"
         },
         "name": "12",
         "offsetgroup": "12",
         "orientation": "v",
         "showlegend": true,
         "textposition": "auto",
         "type": "bar",
         "x": [
          "★  Manitoba"
         ],
         "xaxis": "x",
         "y": [
          796
         ],
         "yaxis": "y"
        },
        {
         "alignmentgroup": "True",
         "hovertemplate": "Deceased=64<br>Name=%{x}<br>Confirmed=%{y}<extra></extra>",
         "legendgroup": "64",
         "marker": {
          "color": "#FFA15A"
         },
         "name": "64",
         "offsetgroup": "64",
         "orientation": "v",
         "showlegend": true,
         "textposition": "auto",
         "type": "bar",
         "x": [
          "★  Nova Scotia"
         ],
         "xaxis": "x",
         "y": [
          1077
         ],
         "yaxis": "y"
        },
        {
         "alignmentgroup": "True",
         "hovertemplate": "Deceased=22<br>Name=%{x}<br>Confirmed=%{y}<extra></extra>",
         "legendgroup": "22",
         "marker": {
          "color": "#19d3f3"
         },
         "name": "22",
         "offsetgroup": "22",
         "orientation": "v",
         "showlegend": true,
         "textposition": "auto",
         "type": "bar",
         "x": [
          "★  Saskatchewan"
         ],
         "xaxis": "x",
         "y": [
          1590
         ],
         "yaxis": "y"
        },
        {
         "alignmentgroup": "True",
         "hovertemplate": "Deceased=198<br>Name=%{x}<br>Confirmed=%{y}<extra></extra>",
         "legendgroup": "198",
         "marker": {
          "color": "#FF6692"
         },
         "name": "198",
         "offsetgroup": "198",
         "orientation": "v",
         "showlegend": true,
         "textposition": "auto",
         "type": "bar",
         "x": [
          "★  British Columbia"
         ],
         "xaxis": "x",
         "y": [
          4745
         ],
         "yaxis": "y"
        },
        {
         "alignmentgroup": "True",
         "hovertemplate": "Deceased=227<br>Name=%{x}<br>Confirmed=%{y}<extra></extra>",
         "legendgroup": "227",
         "marker": {
          "color": "#B6E880"
         },
         "name": "227",
         "offsetgroup": "227",
         "orientation": "v",
         "showlegend": true,
         "textposition": "auto",
         "type": "bar",
         "x": [
          "★  Alberta"
         ],
         "xaxis": "x",
         "y": [
          12501
         ],
         "yaxis": "y"
        },
        {
         "alignmentgroup": "True",
         "hovertemplate": "Deceased=2838<br>Name=%{x}<br>Confirmed=%{y}<extra></extra>",
         "legendgroup": "2838",
         "marker": {
          "color": "#FF97FF"
         },
         "name": "2838",
         "offsetgroup": "2838",
         "orientation": "v",
         "showlegend": true,
         "textposition": "auto",
         "type": "bar",
         "x": [
          "★  Ontario"
         ],
         "xaxis": "x",
         "y": [
          42983
         ],
         "yaxis": "y"
        },
        {
         "alignmentgroup": "True",
         "hovertemplate": "Deceased=5730<br>Name=%{x}<br>Confirmed=%{y}<extra></extra>",
         "legendgroup": "5730",
         "marker": {
          "color": "#FECB52"
         },
         "name": "5730",
         "offsetgroup": "5730",
         "orientation": "v",
         "showlegend": true,
         "textposition": "auto",
         "type": "bar",
         "x": [
          "★  Quebec"
         ],
         "xaxis": "x",
         "y": [
          61402
         ],
         "yaxis": "y"
        },
        {
         "alignmentgroup": "True",
         "hovertemplate": "Deceased=9096<br>Name=%{x}<br>Confirmed=%{y}<extra></extra>",
         "legendgroup": "9096",
         "marker": {
          "color": "#636efa"
         },
         "name": "9096",
         "offsetgroup": "9096",
         "orientation": "v",
         "showlegend": true,
         "textposition": "auto",
         "type": "bar",
         "x": [
          "TOTAL"
         ],
         "xaxis": "x",
         "y": [
          125612
         ],
         "yaxis": "y"
        }
       ],
       "layout": {
        "barmode": "relative",
        "legend": {
         "title": {
          "text": "Deceased"
         },
         "tracegroupgap": 0
        },
        "margin": {
         "t": 60
        },
        "template": {
         "data": {
          "bar": [
           {
            "error_x": {
             "color": "#2a3f5f"
            },
            "error_y": {
             "color": "#2a3f5f"
            },
            "marker": {
             "line": {
              "color": "#E5ECF6",
              "width": 0.5
             }
            },
            "type": "bar"
           }
          ],
          "barpolar": [
           {
            "marker": {
             "line": {
              "color": "#E5ECF6",
              "width": 0.5
             }
            },
            "type": "barpolar"
           }
          ],
          "carpet": [
           {
            "aaxis": {
             "endlinecolor": "#2a3f5f",
             "gridcolor": "white",
             "linecolor": "white",
             "minorgridcolor": "white",
             "startlinecolor": "#2a3f5f"
            },
            "baxis": {
             "endlinecolor": "#2a3f5f",
             "gridcolor": "white",
             "linecolor": "white",
             "minorgridcolor": "white",
             "startlinecolor": "#2a3f5f"
            },
            "type": "carpet"
           }
          ],
          "choropleth": [
           {
            "colorbar": {
             "outlinewidth": 0,
             "ticks": ""
            },
            "type": "choropleth"
           }
          ],
          "contour": [
           {
            "colorbar": {
             "outlinewidth": 0,
             "ticks": ""
            },
            "colorscale": [
             [
              0,
              "#0d0887"
             ],
             [
              0.1111111111111111,
              "#46039f"
             ],
             [
              0.2222222222222222,
              "#7201a8"
             ],
             [
              0.3333333333333333,
              "#9c179e"
             ],
             [
              0.4444444444444444,
              "#bd3786"
             ],
             [
              0.5555555555555556,
              "#d8576b"
             ],
             [
              0.6666666666666666,
              "#ed7953"
             ],
             [
              0.7777777777777778,
              "#fb9f3a"
             ],
             [
              0.8888888888888888,
              "#fdca26"
             ],
             [
              1,
              "#f0f921"
             ]
            ],
            "type": "contour"
           }
          ],
          "contourcarpet": [
           {
            "colorbar": {
             "outlinewidth": 0,
             "ticks": ""
            },
            "type": "contourcarpet"
           }
          ],
          "heatmap": [
           {
            "colorbar": {
             "outlinewidth": 0,
             "ticks": ""
            },
            "colorscale": [
             [
              0,
              "#0d0887"
             ],
             [
              0.1111111111111111,
              "#46039f"
             ],
             [
              0.2222222222222222,
              "#7201a8"
             ],
             [
              0.3333333333333333,
              "#9c179e"
             ],
             [
              0.4444444444444444,
              "#bd3786"
             ],
             [
              0.5555555555555556,
              "#d8576b"
             ],
             [
              0.6666666666666666,
              "#ed7953"
             ],
             [
              0.7777777777777778,
              "#fb9f3a"
             ],
             [
              0.8888888888888888,
              "#fdca26"
             ],
             [
              1,
              "#f0f921"
             ]
            ],
            "type": "heatmap"
           }
          ],
          "heatmapgl": [
           {
            "colorbar": {
             "outlinewidth": 0,
             "ticks": ""
            },
            "colorscale": [
             [
              0,
              "#0d0887"
             ],
             [
              0.1111111111111111,
              "#46039f"
             ],
             [
              0.2222222222222222,
              "#7201a8"
             ],
             [
              0.3333333333333333,
              "#9c179e"
             ],
             [
              0.4444444444444444,
              "#bd3786"
             ],
             [
              0.5555555555555556,
              "#d8576b"
             ],
             [
              0.6666666666666666,
              "#ed7953"
             ],
             [
              0.7777777777777778,
              "#fb9f3a"
             ],
             [
              0.8888888888888888,
              "#fdca26"
             ],
             [
              1,
              "#f0f921"
             ]
            ],
            "type": "heatmapgl"
           }
          ],
          "histogram": [
           {
            "marker": {
             "colorbar": {
              "outlinewidth": 0,
              "ticks": ""
             }
            },
            "type": "histogram"
           }
          ],
          "histogram2d": [
           {
            "colorbar": {
             "outlinewidth": 0,
             "ticks": ""
            },
            "colorscale": [
             [
              0,
              "#0d0887"
             ],
             [
              0.1111111111111111,
              "#46039f"
             ],
             [
              0.2222222222222222,
              "#7201a8"
             ],
             [
              0.3333333333333333,
              "#9c179e"
             ],
             [
              0.4444444444444444,
              "#bd3786"
             ],
             [
              0.5555555555555556,
              "#d8576b"
             ],
             [
              0.6666666666666666,
              "#ed7953"
             ],
             [
              0.7777777777777778,
              "#fb9f3a"
             ],
             [
              0.8888888888888888,
              "#fdca26"
             ],
             [
              1,
              "#f0f921"
             ]
            ],
            "type": "histogram2d"
           }
          ],
          "histogram2dcontour": [
           {
            "colorbar": {
             "outlinewidth": 0,
             "ticks": ""
            },
            "colorscale": [
             [
              0,
              "#0d0887"
             ],
             [
              0.1111111111111111,
              "#46039f"
             ],
             [
              0.2222222222222222,
              "#7201a8"
             ],
             [
              0.3333333333333333,
              "#9c179e"
             ],
             [
              0.4444444444444444,
              "#bd3786"
             ],
             [
              0.5555555555555556,
              "#d8576b"
             ],
             [
              0.6666666666666666,
              "#ed7953"
             ],
             [
              0.7777777777777778,
              "#fb9f3a"
             ],
             [
              0.8888888888888888,
              "#fdca26"
             ],
             [
              1,
              "#f0f921"
             ]
            ],
            "type": "histogram2dcontour"
           }
          ],
          "mesh3d": [
           {
            "colorbar": {
             "outlinewidth": 0,
             "ticks": ""
            },
            "type": "mesh3d"
           }
          ],
          "parcoords": [
           {
            "line": {
             "colorbar": {
              "outlinewidth": 0,
              "ticks": ""
             }
            },
            "type": "parcoords"
           }
          ],
          "pie": [
           {
            "automargin": true,
            "type": "pie"
           }
          ],
          "scatter": [
           {
            "marker": {
             "colorbar": {
              "outlinewidth": 0,
              "ticks": ""
             }
            },
            "type": "scatter"
           }
          ],
          "scatter3d": [
           {
            "line": {
             "colorbar": {
              "outlinewidth": 0,
              "ticks": ""
             }
            },
            "marker": {
             "colorbar": {
              "outlinewidth": 0,
              "ticks": ""
             }
            },
            "type": "scatter3d"
           }
          ],
          "scattercarpet": [
           {
            "marker": {
             "colorbar": {
              "outlinewidth": 0,
              "ticks": ""
             }
            },
            "type": "scattercarpet"
           }
          ],
          "scattergeo": [
           {
            "marker": {
             "colorbar": {
              "outlinewidth": 0,
              "ticks": ""
             }
            },
            "type": "scattergeo"
           }
          ],
          "scattergl": [
           {
            "marker": {
             "colorbar": {
              "outlinewidth": 0,
              "ticks": ""
             }
            },
            "type": "scattergl"
           }
          ],
          "scattermapbox": [
           {
            "marker": {
             "colorbar": {
              "outlinewidth": 0,
              "ticks": ""
             }
            },
            "type": "scattermapbox"
           }
          ],
          "scatterpolar": [
           {
            "marker": {
             "colorbar": {
              "outlinewidth": 0,
              "ticks": ""
             }
            },
            "type": "scatterpolar"
           }
          ],
          "scatterpolargl": [
           {
            "marker": {
             "colorbar": {
              "outlinewidth": 0,
              "ticks": ""
             }
            },
            "type": "scatterpolargl"
           }
          ],
          "scatterternary": [
           {
            "marker": {
             "colorbar": {
              "outlinewidth": 0,
              "ticks": ""
             }
            },
            "type": "scatterternary"
           }
          ],
          "surface": [
           {
            "colorbar": {
             "outlinewidth": 0,
             "ticks": ""
            },
            "colorscale": [
             [
              0,
              "#0d0887"
             ],
             [
              0.1111111111111111,
              "#46039f"
             ],
             [
              0.2222222222222222,
              "#7201a8"
             ],
             [
              0.3333333333333333,
              "#9c179e"
             ],
             [
              0.4444444444444444,
              "#bd3786"
             ],
             [
              0.5555555555555556,
              "#d8576b"
             ],
             [
              0.6666666666666666,
              "#ed7953"
             ],
             [
              0.7777777777777778,
              "#fb9f3a"
             ],
             [
              0.8888888888888888,
              "#fdca26"
             ],
             [
              1,
              "#f0f921"
             ]
            ],
            "type": "surface"
           }
          ],
          "table": [
           {
            "cells": {
             "fill": {
              "color": "#EBF0F8"
             },
             "line": {
              "color": "white"
             }
            },
            "header": {
             "fill": {
              "color": "#C8D4E3"
             },
             "line": {
              "color": "white"
             }
            },
            "type": "table"
           }
          ]
         },
         "layout": {
          "annotationdefaults": {
           "arrowcolor": "#2a3f5f",
           "arrowhead": 0,
           "arrowwidth": 1
          },
          "coloraxis": {
           "colorbar": {
            "outlinewidth": 0,
            "ticks": ""
           }
          },
          "colorscale": {
           "diverging": [
            [
             0,
             "#8e0152"
            ],
            [
             0.1,
             "#c51b7d"
            ],
            [
             0.2,
             "#de77ae"
            ],
            [
             0.3,
             "#f1b6da"
            ],
            [
             0.4,
             "#fde0ef"
            ],
            [
             0.5,
             "#f7f7f7"
            ],
            [
             0.6,
             "#e6f5d0"
            ],
            [
             0.7,
             "#b8e186"
            ],
            [
             0.8,
             "#7fbc41"
            ],
            [
             0.9,
             "#4d9221"
            ],
            [
             1,
             "#276419"
            ]
           ],
           "sequential": [
            [
             0,
             "#0d0887"
            ],
            [
             0.1111111111111111,
             "#46039f"
            ],
            [
             0.2222222222222222,
             "#7201a8"
            ],
            [
             0.3333333333333333,
             "#9c179e"
            ],
            [
             0.4444444444444444,
             "#bd3786"
            ],
            [
             0.5555555555555556,
             "#d8576b"
            ],
            [
             0.6666666666666666,
             "#ed7953"
            ],
            [
             0.7777777777777778,
             "#fb9f3a"
            ],
            [
             0.8888888888888888,
             "#fdca26"
            ],
            [
             1,
             "#f0f921"
            ]
           ],
           "sequentialminus": [
            [
             0,
             "#0d0887"
            ],
            [
             0.1111111111111111,
             "#46039f"
            ],
            [
             0.2222222222222222,
             "#7201a8"
            ],
            [
             0.3333333333333333,
             "#9c179e"
            ],
            [
             0.4444444444444444,
             "#bd3786"
            ],
            [
             0.5555555555555556,
             "#d8576b"
            ],
            [
             0.6666666666666666,
             "#ed7953"
            ],
            [
             0.7777777777777778,
             "#fb9f3a"
            ],
            [
             0.8888888888888888,
             "#fdca26"
            ],
            [
             1,
             "#f0f921"
            ]
           ]
          },
          "colorway": [
           "#636efa",
           "#EF553B",
           "#00cc96",
           "#ab63fa",
           "#FFA15A",
           "#19d3f3",
           "#FF6692",
           "#B6E880",
           "#FF97FF",
           "#FECB52"
          ],
          "font": {
           "color": "#2a3f5f"
          },
          "geo": {
           "bgcolor": "white",
           "lakecolor": "white",
           "landcolor": "#E5ECF6",
           "showlakes": true,
           "showland": true,
           "subunitcolor": "white"
          },
          "hoverlabel": {
           "align": "left"
          },
          "hovermode": "closest",
          "mapbox": {
           "style": "light"
          },
          "paper_bgcolor": "white",
          "plot_bgcolor": "#E5ECF6",
          "polar": {
           "angularaxis": {
            "gridcolor": "white",
            "linecolor": "white",
            "ticks": ""
           },
           "bgcolor": "#E5ECF6",
           "radialaxis": {
            "gridcolor": "white",
            "linecolor": "white",
            "ticks": ""
           }
          },
          "scene": {
           "xaxis": {
            "backgroundcolor": "#E5ECF6",
            "gridcolor": "white",
            "gridwidth": 2,
            "linecolor": "white",
            "showbackground": true,
            "ticks": "",
            "zerolinecolor": "white"
           },
           "yaxis": {
            "backgroundcolor": "#E5ECF6",
            "gridcolor": "white",
            "gridwidth": 2,
            "linecolor": "white",
            "showbackground": true,
            "ticks": "",
            "zerolinecolor": "white"
           },
           "zaxis": {
            "backgroundcolor": "#E5ECF6",
            "gridcolor": "white",
            "gridwidth": 2,
            "linecolor": "white",
            "showbackground": true,
            "ticks": "",
            "zerolinecolor": "white"
           }
          },
          "shapedefaults": {
           "line": {
            "color": "#2a3f5f"
           }
          },
          "ternary": {
           "aaxis": {
            "gridcolor": "white",
            "linecolor": "white",
            "ticks": ""
           },
           "baxis": {
            "gridcolor": "white",
            "linecolor": "white",
            "ticks": ""
           },
           "bgcolor": "#E5ECF6",
           "caxis": {
            "gridcolor": "white",
            "linecolor": "white",
            "ticks": ""
           }
          },
          "title": {
           "x": 0.05
          },
          "xaxis": {
           "automargin": true,
           "gridcolor": "white",
           "linecolor": "white",
           "ticks": "",
           "title": {
            "standoff": 15
           },
           "zerolinecolor": "white",
           "zerolinewidth": 2
          },
          "yaxis": {
           "automargin": true,
           "gridcolor": "white",
           "linecolor": "white",
           "ticks": "",
           "title": {
            "standoff": 15
           },
           "zerolinecolor": "white",
           "zerolinewidth": 2
          }
         }
        },
        "xaxis": {
         "anchor": "y",
         "domain": [
          0,
          1
         ],
         "title": {
          "text": "Name"
         }
        },
        "yaxis": {
         "anchor": "x",
         "domain": [
          0,
          1
         ],
         "title": {
          "text": "Confirmed"
         }
        }
       }
      },
      "text/html": [
       "<div>\n",
       "        \n",
       "        \n",
       "            <div id=\"90667e1d-6fce-469a-8249-1b2e8450295e\" class=\"plotly-graph-div\" style=\"height:525px; width:100%;\"></div>\n",
       "            <script type=\"text/javascript\">\n",
       "                require([\"plotly\"], function(Plotly) {\n",
       "                    window.PLOTLYENV=window.PLOTLYENV || {};\n",
       "                    \n",
       "                if (document.getElementById(\"90667e1d-6fce-469a-8249-1b2e8450295e\")) {\n",
       "                    Plotly.newPlot(\n",
       "                        '90667e1d-6fce-469a-8249-1b2e8450295e',\n",
       "                        [{\"alignmentgroup\": \"True\", \"hovertemplate\": \"Deceased=Unknown<br>Name=%{x}<br>Confirmed=%{y}<extra></extra>\", \"legendgroup\": \"Unknown\", \"marker\": {\"color\": \"#636efa\"}, \"name\": \"Unknown\", \"offsetgroup\": \"Unknown\", \"orientation\": \"v\", \"showlegend\": true, \"textposition\": \"auto\", \"type\": \"bar\", \"x\": [\"\\u2605  Northwest Territories\", \"\\u2605  Yukon\", \"\\u2605  Prince Edward Island\"], \"xaxis\": \"x\", \"y\": [5, 15, 44], \"yaxis\": \"y\"}, {\"alignmentgroup\": \"True\", \"hovertemplate\": \"Deceased=2<br>Name=%{x}<br>Confirmed=%{y}<extra></extra>\", \"legendgroup\": \"2\", \"marker\": {\"color\": \"#EF553B\"}, \"name\": \"2\", \"offsetgroup\": \"2\", \"orientation\": \"v\", \"showlegend\": true, \"textposition\": \"auto\", \"type\": \"bar\", \"x\": [\"\\u2605  New Brunswick\"], \"xaxis\": \"x\", \"y\": [186], \"yaxis\": \"y\"}, {\"alignmentgroup\": \"True\", \"hovertemplate\": \"Deceased=3<br>Name=%{x}<br>Confirmed=%{y}<extra></extra>\", \"legendgroup\": \"3\", \"marker\": {\"color\": \"#00cc96\"}, \"name\": \"3\", \"offsetgroup\": \"3\", \"orientation\": \"v\", \"showlegend\": true, \"textposition\": \"auto\", \"type\": \"bar\", \"x\": [\"\\u2605  Newfoundland and Labrador\"], \"xaxis\": \"x\", \"y\": [268], \"yaxis\": \"y\"}, {\"alignmentgroup\": \"True\", \"hovertemplate\": \"Deceased=12<br>Name=%{x}<br>Confirmed=%{y}<extra></extra>\", \"legendgroup\": \"12\", \"marker\": {\"color\": \"#ab63fa\"}, \"name\": \"12\", \"offsetgroup\": \"12\", \"orientation\": \"v\", \"showlegend\": true, \"textposition\": \"auto\", \"type\": \"bar\", \"x\": [\"\\u2605  Manitoba\"], \"xaxis\": \"x\", \"y\": [796], \"yaxis\": \"y\"}, {\"alignmentgroup\": \"True\", \"hovertemplate\": \"Deceased=64<br>Name=%{x}<br>Confirmed=%{y}<extra></extra>\", \"legendgroup\": \"64\", \"marker\": {\"color\": \"#FFA15A\"}, \"name\": \"64\", \"offsetgroup\": \"64\", \"orientation\": \"v\", \"showlegend\": true, \"textposition\": \"auto\", \"type\": \"bar\", \"x\": [\"\\u2605  Nova Scotia\"], \"xaxis\": \"x\", \"y\": [1077], \"yaxis\": \"y\"}, {\"alignmentgroup\": \"True\", \"hovertemplate\": \"Deceased=22<br>Name=%{x}<br>Confirmed=%{y}<extra></extra>\", \"legendgroup\": \"22\", \"marker\": {\"color\": \"#19d3f3\"}, \"name\": \"22\", \"offsetgroup\": \"22\", \"orientation\": \"v\", \"showlegend\": true, \"textposition\": \"auto\", \"type\": \"bar\", \"x\": [\"\\u2605  Saskatchewan\"], \"xaxis\": \"x\", \"y\": [1590], \"yaxis\": \"y\"}, {\"alignmentgroup\": \"True\", \"hovertemplate\": \"Deceased=198<br>Name=%{x}<br>Confirmed=%{y}<extra></extra>\", \"legendgroup\": \"198\", \"marker\": {\"color\": \"#FF6692\"}, \"name\": \"198\", \"offsetgroup\": \"198\", \"orientation\": \"v\", \"showlegend\": true, \"textposition\": \"auto\", \"type\": \"bar\", \"x\": [\"\\u2605  British Columbia\"], \"xaxis\": \"x\", \"y\": [4745], \"yaxis\": \"y\"}, {\"alignmentgroup\": \"True\", \"hovertemplate\": \"Deceased=227<br>Name=%{x}<br>Confirmed=%{y}<extra></extra>\", \"legendgroup\": \"227\", \"marker\": {\"color\": \"#B6E880\"}, \"name\": \"227\", \"offsetgroup\": \"227\", \"orientation\": \"v\", \"showlegend\": true, \"textposition\": \"auto\", \"type\": \"bar\", \"x\": [\"\\u2605  Alberta\"], \"xaxis\": \"x\", \"y\": [12501], \"yaxis\": \"y\"}, {\"alignmentgroup\": \"True\", \"hovertemplate\": \"Deceased=2838<br>Name=%{x}<br>Confirmed=%{y}<extra></extra>\", \"legendgroup\": \"2838\", \"marker\": {\"color\": \"#FF97FF\"}, \"name\": \"2838\", \"offsetgroup\": \"2838\", \"orientation\": \"v\", \"showlegend\": true, \"textposition\": \"auto\", \"type\": \"bar\", \"x\": [\"\\u2605  Ontario\"], \"xaxis\": \"x\", \"y\": [42983], \"yaxis\": \"y\"}, {\"alignmentgroup\": \"True\", \"hovertemplate\": \"Deceased=5730<br>Name=%{x}<br>Confirmed=%{y}<extra></extra>\", \"legendgroup\": \"5730\", \"marker\": {\"color\": \"#FECB52\"}, \"name\": \"5730\", \"offsetgroup\": \"5730\", \"orientation\": \"v\", \"showlegend\": true, \"textposition\": \"auto\", \"type\": \"bar\", \"x\": [\"\\u2605  Quebec\"], \"xaxis\": \"x\", \"y\": [61402], \"yaxis\": \"y\"}, {\"alignmentgroup\": \"True\", \"hovertemplate\": \"Deceased=9096<br>Name=%{x}<br>Confirmed=%{y}<extra></extra>\", \"legendgroup\": \"9096\", \"marker\": {\"color\": \"#636efa\"}, \"name\": \"9096\", \"offsetgroup\": \"9096\", \"orientation\": \"v\", \"showlegend\": true, \"textposition\": \"auto\", \"type\": \"bar\", \"x\": [\"TOTAL\"], \"xaxis\": \"x\", \"y\": [125612], \"yaxis\": \"y\"}],\n",
       "                        {\"barmode\": \"relative\", \"legend\": {\"title\": {\"text\": \"Deceased\"}, \"tracegroupgap\": 0}, \"margin\": {\"t\": 60}, \"template\": {\"data\": {\"bar\": [{\"error_x\": {\"color\": \"#2a3f5f\"}, \"error_y\": {\"color\": \"#2a3f5f\"}, \"marker\": {\"line\": {\"color\": \"#E5ECF6\", \"width\": 0.5}}, \"type\": \"bar\"}], \"barpolar\": [{\"marker\": {\"line\": {\"color\": \"#E5ECF6\", \"width\": 0.5}}, \"type\": \"barpolar\"}], \"carpet\": [{\"aaxis\": {\"endlinecolor\": \"#2a3f5f\", \"gridcolor\": \"white\", \"linecolor\": \"white\", \"minorgridcolor\": \"white\", \"startlinecolor\": \"#2a3f5f\"}, \"baxis\": {\"endlinecolor\": \"#2a3f5f\", \"gridcolor\": \"white\", \"linecolor\": \"white\", \"minorgridcolor\": \"white\", \"startlinecolor\": \"#2a3f5f\"}, \"type\": \"carpet\"}], \"choropleth\": [{\"colorbar\": {\"outlinewidth\": 0, \"ticks\": \"\"}, \"type\": \"choropleth\"}], \"contour\": [{\"colorbar\": {\"outlinewidth\": 0, \"ticks\": \"\"}, \"colorscale\": [[0.0, \"#0d0887\"], [0.1111111111111111, \"#46039f\"], [0.2222222222222222, \"#7201a8\"], [0.3333333333333333, \"#9c179e\"], [0.4444444444444444, \"#bd3786\"], [0.5555555555555556, \"#d8576b\"], [0.6666666666666666, \"#ed7953\"], [0.7777777777777778, \"#fb9f3a\"], [0.8888888888888888, \"#fdca26\"], [1.0, \"#f0f921\"]], \"type\": \"contour\"}], \"contourcarpet\": [{\"colorbar\": {\"outlinewidth\": 0, \"ticks\": \"\"}, \"type\": \"contourcarpet\"}], \"heatmap\": [{\"colorbar\": {\"outlinewidth\": 0, \"ticks\": \"\"}, \"colorscale\": [[0.0, \"#0d0887\"], [0.1111111111111111, \"#46039f\"], [0.2222222222222222, \"#7201a8\"], [0.3333333333333333, \"#9c179e\"], [0.4444444444444444, \"#bd3786\"], [0.5555555555555556, \"#d8576b\"], [0.6666666666666666, \"#ed7953\"], [0.7777777777777778, \"#fb9f3a\"], [0.8888888888888888, \"#fdca26\"], [1.0, \"#f0f921\"]], \"type\": \"heatmap\"}], \"heatmapgl\": [{\"colorbar\": {\"outlinewidth\": 0, \"ticks\": \"\"}, \"colorscale\": [[0.0, \"#0d0887\"], [0.1111111111111111, \"#46039f\"], [0.2222222222222222, \"#7201a8\"], [0.3333333333333333, \"#9c179e\"], [0.4444444444444444, \"#bd3786\"], [0.5555555555555556, \"#d8576b\"], [0.6666666666666666, \"#ed7953\"], [0.7777777777777778, \"#fb9f3a\"], [0.8888888888888888, \"#fdca26\"], [1.0, \"#f0f921\"]], \"type\": \"heatmapgl\"}], \"histogram\": [{\"marker\": {\"colorbar\": {\"outlinewidth\": 0, \"ticks\": \"\"}}, \"type\": \"histogram\"}], \"histogram2d\": [{\"colorbar\": {\"outlinewidth\": 0, \"ticks\": \"\"}, \"colorscale\": [[0.0, \"#0d0887\"], [0.1111111111111111, \"#46039f\"], [0.2222222222222222, \"#7201a8\"], [0.3333333333333333, \"#9c179e\"], [0.4444444444444444, \"#bd3786\"], [0.5555555555555556, \"#d8576b\"], [0.6666666666666666, \"#ed7953\"], [0.7777777777777778, \"#fb9f3a\"], [0.8888888888888888, \"#fdca26\"], [1.0, \"#f0f921\"]], \"type\": \"histogram2d\"}], \"histogram2dcontour\": [{\"colorbar\": {\"outlinewidth\": 0, \"ticks\": \"\"}, \"colorscale\": [[0.0, \"#0d0887\"], [0.1111111111111111, \"#46039f\"], [0.2222222222222222, \"#7201a8\"], [0.3333333333333333, \"#9c179e\"], [0.4444444444444444, \"#bd3786\"], [0.5555555555555556, \"#d8576b\"], [0.6666666666666666, \"#ed7953\"], [0.7777777777777778, \"#fb9f3a\"], [0.8888888888888888, \"#fdca26\"], [1.0, \"#f0f921\"]], \"type\": \"histogram2dcontour\"}], \"mesh3d\": [{\"colorbar\": {\"outlinewidth\": 0, \"ticks\": \"\"}, \"type\": \"mesh3d\"}], \"parcoords\": [{\"line\": {\"colorbar\": {\"outlinewidth\": 0, \"ticks\": \"\"}}, \"type\": \"parcoords\"}], \"pie\": [{\"automargin\": true, \"type\": \"pie\"}], \"scatter\": [{\"marker\": {\"colorbar\": {\"outlinewidth\": 0, \"ticks\": \"\"}}, \"type\": \"scatter\"}], \"scatter3d\": [{\"line\": {\"colorbar\": {\"outlinewidth\": 0, \"ticks\": \"\"}}, \"marker\": {\"colorbar\": {\"outlinewidth\": 0, \"ticks\": \"\"}}, \"type\": \"scatter3d\"}], \"scattercarpet\": [{\"marker\": {\"colorbar\": {\"outlinewidth\": 0, \"ticks\": \"\"}}, \"type\": \"scattercarpet\"}], \"scattergeo\": [{\"marker\": {\"colorbar\": {\"outlinewidth\": 0, \"ticks\": \"\"}}, \"type\": \"scattergeo\"}], \"scattergl\": [{\"marker\": {\"colorbar\": {\"outlinewidth\": 0, \"ticks\": \"\"}}, \"type\": \"scattergl\"}], \"scattermapbox\": [{\"marker\": {\"colorbar\": {\"outlinewidth\": 0, \"ticks\": \"\"}}, \"type\": \"scattermapbox\"}], \"scatterpolar\": [{\"marker\": {\"colorbar\": {\"outlinewidth\": 0, \"ticks\": \"\"}}, \"type\": \"scatterpolar\"}], \"scatterpolargl\": [{\"marker\": {\"colorbar\": {\"outlinewidth\": 0, \"ticks\": \"\"}}, \"type\": \"scatterpolargl\"}], \"scatterternary\": [{\"marker\": {\"colorbar\": {\"outlinewidth\": 0, \"ticks\": \"\"}}, \"type\": \"scatterternary\"}], \"surface\": [{\"colorbar\": {\"outlinewidth\": 0, \"ticks\": \"\"}, \"colorscale\": [[0.0, \"#0d0887\"], [0.1111111111111111, \"#46039f\"], [0.2222222222222222, \"#7201a8\"], [0.3333333333333333, \"#9c179e\"], [0.4444444444444444, \"#bd3786\"], [0.5555555555555556, \"#d8576b\"], [0.6666666666666666, \"#ed7953\"], [0.7777777777777778, \"#fb9f3a\"], [0.8888888888888888, \"#fdca26\"], [1.0, \"#f0f921\"]], \"type\": \"surface\"}], \"table\": [{\"cells\": {\"fill\": {\"color\": \"#EBF0F8\"}, \"line\": {\"color\": \"white\"}}, \"header\": {\"fill\": {\"color\": \"#C8D4E3\"}, \"line\": {\"color\": \"white\"}}, \"type\": \"table\"}]}, \"layout\": {\"annotationdefaults\": {\"arrowcolor\": \"#2a3f5f\", \"arrowhead\": 0, \"arrowwidth\": 1}, \"coloraxis\": {\"colorbar\": {\"outlinewidth\": 0, \"ticks\": \"\"}}, \"colorscale\": {\"diverging\": [[0, \"#8e0152\"], [0.1, \"#c51b7d\"], [0.2, \"#de77ae\"], [0.3, \"#f1b6da\"], [0.4, \"#fde0ef\"], [0.5, \"#f7f7f7\"], [0.6, \"#e6f5d0\"], [0.7, \"#b8e186\"], [0.8, \"#7fbc41\"], [0.9, \"#4d9221\"], [1, \"#276419\"]], \"sequential\": [[0.0, \"#0d0887\"], [0.1111111111111111, \"#46039f\"], [0.2222222222222222, \"#7201a8\"], [0.3333333333333333, \"#9c179e\"], [0.4444444444444444, \"#bd3786\"], [0.5555555555555556, \"#d8576b\"], [0.6666666666666666, \"#ed7953\"], [0.7777777777777778, \"#fb9f3a\"], [0.8888888888888888, \"#fdca26\"], [1.0, \"#f0f921\"]], \"sequentialminus\": [[0.0, \"#0d0887\"], [0.1111111111111111, \"#46039f\"], [0.2222222222222222, \"#7201a8\"], [0.3333333333333333, \"#9c179e\"], [0.4444444444444444, \"#bd3786\"], [0.5555555555555556, \"#d8576b\"], [0.6666666666666666, \"#ed7953\"], [0.7777777777777778, \"#fb9f3a\"], [0.8888888888888888, \"#fdca26\"], [1.0, \"#f0f921\"]]}, \"colorway\": [\"#636efa\", \"#EF553B\", \"#00cc96\", \"#ab63fa\", \"#FFA15A\", \"#19d3f3\", \"#FF6692\", \"#B6E880\", \"#FF97FF\", \"#FECB52\"], \"font\": {\"color\": \"#2a3f5f\"}, \"geo\": {\"bgcolor\": \"white\", \"lakecolor\": \"white\", \"landcolor\": \"#E5ECF6\", \"showlakes\": true, \"showland\": true, \"subunitcolor\": \"white\"}, \"hoverlabel\": {\"align\": \"left\"}, \"hovermode\": \"closest\", \"mapbox\": {\"style\": \"light\"}, \"paper_bgcolor\": \"white\", \"plot_bgcolor\": \"#E5ECF6\", \"polar\": {\"angularaxis\": {\"gridcolor\": \"white\", \"linecolor\": \"white\", \"ticks\": \"\"}, \"bgcolor\": \"#E5ECF6\", \"radialaxis\": {\"gridcolor\": \"white\", \"linecolor\": \"white\", \"ticks\": \"\"}}, \"scene\": {\"xaxis\": {\"backgroundcolor\": \"#E5ECF6\", \"gridcolor\": \"white\", \"gridwidth\": 2, \"linecolor\": \"white\", \"showbackground\": true, \"ticks\": \"\", \"zerolinecolor\": \"white\"}, \"yaxis\": {\"backgroundcolor\": \"#E5ECF6\", \"gridcolor\": \"white\", \"gridwidth\": 2, \"linecolor\": \"white\", \"showbackground\": true, \"ticks\": \"\", \"zerolinecolor\": \"white\"}, \"zaxis\": {\"backgroundcolor\": \"#E5ECF6\", \"gridcolor\": \"white\", \"gridwidth\": 2, \"linecolor\": \"white\", \"showbackground\": true, \"ticks\": \"\", \"zerolinecolor\": \"white\"}}, \"shapedefaults\": {\"line\": {\"color\": \"#2a3f5f\"}}, \"ternary\": {\"aaxis\": {\"gridcolor\": \"white\", \"linecolor\": \"white\", \"ticks\": \"\"}, \"baxis\": {\"gridcolor\": \"white\", \"linecolor\": \"white\", \"ticks\": \"\"}, \"bgcolor\": \"#E5ECF6\", \"caxis\": {\"gridcolor\": \"white\", \"linecolor\": \"white\", \"ticks\": \"\"}}, \"title\": {\"x\": 0.05}, \"xaxis\": {\"automargin\": true, \"gridcolor\": \"white\", \"linecolor\": \"white\", \"ticks\": \"\", \"title\": {\"standoff\": 15}, \"zerolinecolor\": \"white\", \"zerolinewidth\": 2}, \"yaxis\": {\"automargin\": true, \"gridcolor\": \"white\", \"linecolor\": \"white\", \"ticks\": \"\", \"title\": {\"standoff\": 15}, \"zerolinecolor\": \"white\", \"zerolinewidth\": 2}}}, \"xaxis\": {\"anchor\": \"y\", \"domain\": [0.0, 1.0], \"title\": {\"text\": \"Name\"}}, \"yaxis\": {\"anchor\": \"x\", \"domain\": [0.0, 1.0], \"title\": {\"text\": \"Confirmed\"}}},\n",
       "                        {\"responsive\": true}\n",
       "                    ).then(function(){\n",
       "                            \n",
       "var gd = document.getElementById('90667e1d-6fce-469a-8249-1b2e8450295e');\n",
       "var x = new MutationObserver(function (mutations, observer) {{\n",
       "        var display = window.getComputedStyle(gd).display;\n",
       "        if (!display || display === 'none') {{\n",
       "            console.log([gd, 'removed!']);\n",
       "            Plotly.purge(gd);\n",
       "            observer.disconnect();\n",
       "        }}\n",
       "}});\n",
       "\n",
       "// Listen for the removal of the full notebook cells\n",
       "var notebookContainer = gd.closest('#notebook-container');\n",
       "if (notebookContainer) {{\n",
       "    x.observe(notebookContainer, {childList: true});\n",
       "}}\n",
       "\n",
       "// Listen for the clearing of the current output cell\n",
       "var outputEl = gd.closest('.output');\n",
       "if (outputEl) {{\n",
       "    x.observe(outputEl, {childList: true});\n",
       "}}\n",
       "\n",
       "                        })\n",
       "                };\n",
       "                });\n",
       "            </script>\n",
       "        </div>"
      ]
     },
     "metadata": {},
     "output_type": "display_data"
    }
   ],
   "source": [
    "canada_fig = px.bar(canada_df.sort_values('Confirmed'),x='Name',y='Confirmed',color=\"Deceased\")\n",
    "canada_fig.show()"
   ]
  },
  {
   "cell_type": "markdown",
   "metadata": {},
   "source": [
    " - Overall canada has 125.612k confirmed cases with a death toll of 9096.\n",
    " - As we can see Quebec has been first affected with death toll of 5730.\n",
    " - Northwest Territories has not been affected much with only 5 confirmed cases.\n",
    " - Alberta has 12.50k confirmed cases with a death toll of 227."
   ]
  }
 ],
 "metadata": {
  "kernelspec": {
   "display_name": "Python 3",
   "language": "python",
   "name": "python3"
  },
  "language_info": {
   "codemirror_mode": {
    "name": "ipython",
    "version": 3
   },
   "file_extension": ".py",
   "mimetype": "text/x-python",
   "name": "python",
   "nbconvert_exporter": "python",
   "pygments_lexer": "ipython3",
   "version": "3.7.6"
  }
 },
 "nbformat": 4,
 "nbformat_minor": 4
}
