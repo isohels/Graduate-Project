{
 "cells": [
  {
   "cell_type": "markdown",
   "metadata": {},
   "source": [
    "# Context\n",
    "\n",
    "### Novel Coronavirus 2019 (nCoV-2019) is a virus which affects respiratory system and was first discovered in wuhan, China. Some early reports suggested that virus may have been transmitted from animal to person. As we know whole world has been shutdown  because of the widespread cases. At this time it's unclear how easily or sustainably this virus is spreading between people."
   ]
  },
  {
   "cell_type": "markdown",
   "metadata": {},
   "source": [
    "### So to start our machine learning project we will use dataset we got from Kaggle.This dataset is being used because this dataset is local to Canada.\n",
    "\n",
    "<a href = \"https://www.kaggle.com/ryanxjhan/coronaviruscovid19-canada\">Please Click here for the link to dataset.</a>"
   ]
  },
  {
   "cell_type": "markdown",
   "metadata": {},
   "source": [
    "# Current Cases (WorldWide)\n",
    "### To know how bad the world has been affected lets get some information on current situation."
   ]
  },
  {
   "cell_type": "markdown",
   "metadata": {},
   "source": [
    "#### Lets import all the dependencies for scrapping the website"
   ]
  },
  {
   "cell_type": "code",
   "execution_count": 1,
   "metadata": {},
   "outputs": [],
   "source": [
    "import bs4\n",
    "from urllib.request import Request, urlopen\n",
    "from urllib.request import urlopen as uReq\n",
    "from bs4 import BeautifulSoup as soup\n",
    "import pandas as pd"
   ]
  },
  {
   "cell_type": "code",
   "execution_count": 2,
   "metadata": {},
   "outputs": [],
   "source": [
    "# grabbing the url\n",
    "\n",
    "url = \"https://ncov2019.live/\"\n",
    "req = Request(url, headers={\"User-Agent\" : \"Mozilla/5.0\"})\n",
    "\n",
    "webpage = urlopen(req).read()\n",
    "\n",
    "#parsing it as lxml\n",
    "pagesoup = soup(webpage,\"lxml\")"
   ]
  },
  {
   "cell_type": "markdown",
   "metadata": {},
   "source": [
    "#### Website Information\n",
    "1. Website Name\n",
    "2. Link to Website"
   ]
  },
  {
   "cell_type": "code",
   "execution_count": 3,
   "metadata": {},
   "outputs": [],
   "source": [
    "from IPython.display import display, Markdown"
   ]
  },
  {
   "cell_type": "code",
   "execution_count": 4,
   "metadata": {},
   "outputs": [
    {
     "data": {
      "text/markdown": [
       "<strong>\n",
       "\n",
       "\n",
       "\n",
       "\n",
       "\r\n",
       "    nCoV2019.live\r\n",
       "  </strong>https://ncov2019.live/"
      ],
      "text/plain": [
       "<IPython.core.display.Markdown object>"
      ]
     },
     "execution_count": 4,
     "metadata": {},
     "output_type": "execute_result"
    }
   ],
   "source": [
    "#finding the relevant tags to scrap the data from website\n",
    "\n",
    "website_name = pagesoup.find('a',class_ = \"navbar-brand\")\n",
    "link = \"https://ncov2019.live/\"\n",
    "Markdown('<strong>{}</strong>{}'.format(website_name.text,link))"
   ]
  },
  {
   "cell_type": "code",
   "execution_count": 15,
   "metadata": {},
   "outputs": [
    {
     "data": {
      "text/markdown": [
       "<strong align=\"center\"><div class=\"container--wrap bg-navy-4\">\n",
       "<p style=\"color: #DFDFEF; font-size: 30px; text-align: center; padding-top: 15px; font-weight: bolder; margin-bottom: 0;\">\r\n",
       "    Quick Facts\r\n",
       "  </p>\n",
       "<p style=\"color: #DFDFEF; font-size: 12px; text-align: center; font-weight: bolder; margin-bottom: 0;\">\r\n",
       "    updated: <i class=\"last_updated\">A few minutes ago</i>\n",
       "</p>\n",
       "<table>\n",
       "<tr>\n",
       "<p style=\"color: rgb(101, 221, 155); font-weight: bold; text-align: center; border-bottom: 0; font-size: 50px; margin-bottom: 0px;\">\r\n",
       "        23,066,065\r\n",
       "      </p>\n",
       "<p style=\"color: #DFDFEF; font-size: 18px; font-weight: bold; border-bottom: 0; text-align: center;\">\r\n",
       "        Total Confirmed\r\n",
       "      </p>\n",
       "</tr>\n",
       "<tr>\n",
       "<p style=\"color: #ff9d00; font-weight: bold; text-align: center; border-bottom: 0; font-size: 50px; margin-bottom: 0px;\"> \r\n",
       "          61,825\r\n",
       "      </p>\n",
       "<p style=\"color: #DFDFEF; font-size: 18px; font-weight: bold; border-bottom: 0; text-align: center;\">\r\n",
       "        Total Critical\r\n",
       "      </p>\n",
       "</tr>\n",
       "<tr>\n",
       "<p style=\"color: #F65164; font-weight: bold; text-align: center; border-bottom: 0; font-size: 50px; margin-bottom: 0px;\">\r\n",
       "        801,915\r\n",
       "      </p>\n",
       "<p style=\"color: #DFDFEF; font-size: 18px; font-weight: bold; border-bottom: 0; text-align: center;\">\r\n",
       "        Total Deceased\r\n",
       "      </p>\n",
       "</tr>\n",
       "<tr>\n",
       "<p style=\"color: rgb(248, 245, 64); font-weight: bold; text-align: center; border-bottom: 0; font-size: 50px; margin-bottom: 0px;\">\r\n",
       "        6,658,838\r\n",
       "      </p>\n",
       "<p style=\"color: #DFDFEF; font-size: 18px; font-weight: bold; border-bottom: 0; text-align: center;\">\r\n",
       "        Total Active\r\n",
       "      </p>\n",
       "</tr>\n",
       "<tr>\n",
       "<p style=\"color: rgb(68, 155, 226); font-weight: bold; text-align: center; border-bottom: 0; font-size: 50px; margin-bottom: 0px;\">\r\n",
       "        15,445,043\r\n",
       "      </p>\n",
       "<p style=\"color: #DFDFEF; font-size: 18px; font-weight: bold; border-bottom: 0; text-align: center;\">\r\n",
       "        Total Recovered\r\n",
       "      </p>\n",
       "</tr>\n",
       "<tr>\n",
       "<p style=\"color: rgb(62, 206, 229); font-weight: bold; text-align: center; border-bottom: 0; font-size: 50px; margin-bottom: 0px;\">\r\n",
       "        166<!--  / 43 -->\n",
       "</p>\n",
       "<p style=\"color: #DFDFEF; font-size: 18px; font-weight: bold; border-bottom: 0; text-align: center;\">\r\n",
       "        Total Vaccines In Development\r\n",
       "      </p>\n",
       "</tr>\n",
       "</table>\n",
       "</div></strong>"
      ],
      "text/plain": [
       "<IPython.core.display.Markdown object>"
      ]
     },
     "execution_count": 15,
     "metadata": {},
     "output_type": "execute_result"
    }
   ],
   "source": [
    "#some quick facts from the website\n",
    "\n",
    "quickfacts = pagesoup.find('div', class_ = \"container--wrap bg-navy-4\")\n",
    "Markdown('<strong align=\"center\">{}</strong>'.format(quickfacts))"
   ]
  },
  {
   "cell_type": "markdown",
   "metadata": {},
   "source": [
    "## World COVID-19 Stats"
   ]
  },
  {
   "cell_type": "markdown",
   "metadata": {},
   "source": [
    "#### We will scrap worldwide covid cases.\n",
    "1. We'll use pandas read.html which lets us read the webpage table without much of complexity.\n",
    "2. Convert the table into dataframe for further processing.\n",
    "3. In the header of the list generated you see a number \"1\", which was used in the original website as a filter for arranging data in ascending or descending order."
   ]
  },
  {
   "cell_type": "code",
   "execution_count": 64,
   "metadata": {},
   "outputs": [],
   "source": [
    "import pandas as pd\n",
    "import requests"
   ]
  },
  {
   "cell_type": "code",
   "execution_count": 128,
   "metadata": {},
   "outputs": [
    {
     "data": {
      "text/html": [
       "<div>\n",
       "<style scoped>\n",
       "    .dataframe tbody tr th:only-of-type {\n",
       "        vertical-align: middle;\n",
       "    }\n",
       "\n",
       "    .dataframe tbody tr th {\n",
       "        vertical-align: top;\n",
       "    }\n",
       "\n",
       "    .dataframe thead th {\n",
       "        text-align: right;\n",
       "    }\n",
       "</style>\n",
       "<table border=\"1\" class=\"dataframe\">\n",
       "  <thead>\n",
       "    <tr style=\"text-align: right;\">\n",
       "      <th></th>\n",
       "      <th>Name</th>\n",
       "      <th>Confirmed</th>\n",
       "      <th>Per Million</th>\n",
       "      <th>Changes Today</th>\n",
       "      <th>Percentage Day Change</th>\n",
       "      <th>Critical</th>\n",
       "      <th>Deceased</th>\n",
       "      <th>Per Million.1</th>\n",
       "      <th>Changes Today.1</th>\n",
       "      <th>Percentage Death Change</th>\n",
       "      <th>Tests</th>\n",
       "      <th>Active</th>\n",
       "      <th>Recovered</th>\n",
       "      <th>Per Million.2</th>\n",
       "      <th>Population</th>\n",
       "    </tr>\n",
       "  </thead>\n",
       "  <tbody>\n",
       "    <tr>\n",
       "      <th>0</th>\n",
       "      <td>TOTAL</td>\n",
       "      <td>23121366</td>\n",
       "      <td>2976</td>\n",
       "      <td>12950</td>\n",
       "      <td>0.06%</td>\n",
       "      <td>61716</td>\n",
       "      <td>803223</td>\n",
       "      <td>103</td>\n",
       "      <td>623</td>\n",
       "      <td>0.08%</td>\n",
       "      <td>408073508</td>\n",
       "      <td>6662651</td>\n",
       "      <td>15509908</td>\n",
       "      <td>1996</td>\n",
       "      <td>7768876378</td>\n",
       "    </tr>\n",
       "    <tr>\n",
       "      <th>1</th>\n",
       "      <td>★  Afghanistan</td>\n",
       "      <td>37894</td>\n",
       "      <td>971</td>\n",
       "      <td>0</td>\n",
       "      <td>0%</td>\n",
       "      <td>31</td>\n",
       "      <td>1385</td>\n",
       "      <td>35</td>\n",
       "      <td>0</td>\n",
       "      <td>0%</td>\n",
       "      <td>100377</td>\n",
       "      <td>8493</td>\n",
       "      <td>28016</td>\n",
       "      <td>718</td>\n",
       "      <td>39045465</td>\n",
       "    </tr>\n",
       "    <tr>\n",
       "      <th>2</th>\n",
       "      <td>★  Albania</td>\n",
       "      <td>8119</td>\n",
       "      <td>2822</td>\n",
       "      <td>0</td>\n",
       "      <td>0%</td>\n",
       "      <td>15</td>\n",
       "      <td>240</td>\n",
       "      <td>83</td>\n",
       "      <td>0</td>\n",
       "      <td>0%</td>\n",
       "      <td>50036</td>\n",
       "      <td>3783</td>\n",
       "      <td>4096</td>\n",
       "      <td>1424</td>\n",
       "      <td>2877342</td>\n",
       "    </tr>\n",
       "    <tr>\n",
       "      <th>3</th>\n",
       "      <td>★  Algeria</td>\n",
       "      <td>40667</td>\n",
       "      <td>925</td>\n",
       "      <td>0</td>\n",
       "      <td>0%</td>\n",
       "      <td>41</td>\n",
       "      <td>1418</td>\n",
       "      <td>32</td>\n",
       "      <td>0</td>\n",
       "      <td>0%</td>\n",
       "      <td>Unknown</td>\n",
       "      <td>Unknown</td>\n",
       "      <td>28587</td>\n",
       "      <td>650</td>\n",
       "      <td>43958573</td>\n",
       "    </tr>\n",
       "    <tr>\n",
       "      <th>4</th>\n",
       "      <td>★  Andorra</td>\n",
       "      <td>1045</td>\n",
       "      <td>0</td>\n",
       "      <td>0</td>\n",
       "      <td>0%</td>\n",
       "      <td>1</td>\n",
       "      <td>53</td>\n",
       "      <td>0</td>\n",
       "      <td>0</td>\n",
       "      <td>0%</td>\n",
       "      <td>137457</td>\n",
       "      <td>117</td>\n",
       "      <td>875</td>\n",
       "      <td>0</td>\n",
       "      <td>77283</td>\n",
       "    </tr>\n",
       "    <tr>\n",
       "      <th>...</th>\n",
       "      <td>...</td>\n",
       "      <td>...</td>\n",
       "      <td>...</td>\n",
       "      <td>...</td>\n",
       "      <td>...</td>\n",
       "      <td>...</td>\n",
       "      <td>...</td>\n",
       "      <td>...</td>\n",
       "      <td>...</td>\n",
       "      <td>...</td>\n",
       "      <td>...</td>\n",
       "      <td>...</td>\n",
       "      <td>...</td>\n",
       "      <td>...</td>\n",
       "      <td>...</td>\n",
       "    </tr>\n",
       "    <tr>\n",
       "      <th>210</th>\n",
       "      <td>★  Caribbean Netherlands</td>\n",
       "      <td>13</td>\n",
       "      <td>0</td>\n",
       "      <td>0</td>\n",
       "      <td>0%</td>\n",
       "      <td>Unknown</td>\n",
       "      <td>Unknown</td>\n",
       "      <td>Unknown</td>\n",
       "      <td>0</td>\n",
       "      <td>0%</td>\n",
       "      <td>424</td>\n",
       "      <td>Unknown</td>\n",
       "      <td>7</td>\n",
       "      <td>0</td>\n",
       "      <td>26257</td>\n",
       "    </tr>\n",
       "    <tr>\n",
       "      <th>211</th>\n",
       "      <td>★  Falkland Islands</td>\n",
       "      <td>13</td>\n",
       "      <td>0</td>\n",
       "      <td>0</td>\n",
       "      <td>0%</td>\n",
       "      <td>Unknown</td>\n",
       "      <td>Unknown</td>\n",
       "      <td>Unknown</td>\n",
       "      <td>0</td>\n",
       "      <td>0%</td>\n",
       "      <td>2256</td>\n",
       "      <td>Unknown</td>\n",
       "      <td>13</td>\n",
       "      <td>0</td>\n",
       "      <td>3493</td>\n",
       "    </tr>\n",
       "    <tr>\n",
       "      <th>212</th>\n",
       "      <td>★  Saint Pierre and Miquelon</td>\n",
       "      <td>5</td>\n",
       "      <td>0</td>\n",
       "      <td>0</td>\n",
       "      <td>0%</td>\n",
       "      <td>Unknown</td>\n",
       "      <td>Unknown</td>\n",
       "      <td>Unknown</td>\n",
       "      <td>0</td>\n",
       "      <td>0%</td>\n",
       "      <td>Unknown</td>\n",
       "      <td>Unknown</td>\n",
       "      <td>1</td>\n",
       "      <td>0</td>\n",
       "      <td>5790</td>\n",
       "    </tr>\n",
       "    <tr>\n",
       "      <th>213</th>\n",
       "      <td>★  Anguilla</td>\n",
       "      <td>3</td>\n",
       "      <td>0</td>\n",
       "      <td>0</td>\n",
       "      <td>0%</td>\n",
       "      <td>Unknown</td>\n",
       "      <td>Unknown</td>\n",
       "      <td>Unknown</td>\n",
       "      <td>0</td>\n",
       "      <td>0%</td>\n",
       "      <td>662</td>\n",
       "      <td>Unknown</td>\n",
       "      <td>3</td>\n",
       "      <td>0</td>\n",
       "      <td>15022</td>\n",
       "    </tr>\n",
       "    <tr>\n",
       "      <th>214</th>\n",
       "      <td>★  China</td>\n",
       "      <td>84939</td>\n",
       "      <td>59</td>\n",
       "      <td>22</td>\n",
       "      <td>0.03%</td>\n",
       "      <td>20</td>\n",
       "      <td>4634</td>\n",
       "      <td>3</td>\n",
       "      <td>0</td>\n",
       "      <td>0%</td>\n",
       "      <td>90410000</td>\n",
       "      <td>454</td>\n",
       "      <td>79851</td>\n",
       "      <td>55</td>\n",
       "      <td>1439323776</td>\n",
       "    </tr>\n",
       "  </tbody>\n",
       "</table>\n",
       "<p>215 rows × 15 columns</p>\n",
       "</div>"
      ],
      "text/plain": [
       "                             Name  Confirmed Per Million  Changes Today  \\\n",
       "0                           TOTAL   23121366        2976          12950   \n",
       "1                  ★  Afghanistan      37894         971              0   \n",
       "2                      ★  Albania       8119        2822              0   \n",
       "3                      ★  Algeria      40667         925              0   \n",
       "4                      ★  Andorra       1045           0              0   \n",
       "..                            ...        ...         ...            ...   \n",
       "210      ★  Caribbean Netherlands         13           0              0   \n",
       "211           ★  Falkland Islands         13           0              0   \n",
       "212  ★  Saint Pierre and Miquelon          5           0              0   \n",
       "213                   ★  Anguilla          3           0              0   \n",
       "214                      ★  China      84939          59             22   \n",
       "\n",
       "    Percentage Day Change Critical Deceased Per Million.1  Changes Today.1  \\\n",
       "0                   0.06%    61716   803223           103              623   \n",
       "1                      0%       31     1385            35                0   \n",
       "2                      0%       15      240            83                0   \n",
       "3                      0%       41     1418            32                0   \n",
       "4                      0%        1       53             0                0   \n",
       "..                    ...      ...      ...           ...              ...   \n",
       "210                    0%  Unknown  Unknown       Unknown                0   \n",
       "211                    0%  Unknown  Unknown       Unknown                0   \n",
       "212                    0%  Unknown  Unknown       Unknown                0   \n",
       "213                    0%  Unknown  Unknown       Unknown                0   \n",
       "214                 0.03%       20     4634             3                0   \n",
       "\n",
       "    Percentage Death Change      Tests   Active Recovered Per Million.2  \\\n",
       "0                     0.08%  408073508  6662651  15509908          1996   \n",
       "1                        0%     100377     8493     28016           718   \n",
       "2                        0%      50036     3783      4096          1424   \n",
       "3                        0%    Unknown  Unknown     28587           650   \n",
       "4                        0%     137457      117       875             0   \n",
       "..                      ...        ...      ...       ...           ...   \n",
       "210                      0%        424  Unknown         7             0   \n",
       "211                      0%       2256  Unknown        13             0   \n",
       "212                      0%    Unknown  Unknown         1             0   \n",
       "213                      0%        662  Unknown         3             0   \n",
       "214                      0%   90410000      454     79851            55   \n",
       "\n",
       "     Population  \n",
       "0    7768876378  \n",
       "1      39045465  \n",
       "2       2877342  \n",
       "3      43958573  \n",
       "4         77283  \n",
       "..          ...  \n",
       "210       26257  \n",
       "211        3493  \n",
       "212        5790  \n",
       "213       15022  \n",
       "214  1439323776  \n",
       "\n",
       "[215 rows x 15 columns]"
      ]
     },
     "execution_count": 128,
     "metadata": {},
     "output_type": "execute_result"
    }
   ],
   "source": [
    "# grabbing latest worldwide data\n",
    "\n",
    "url = \"https://ncov2019.live/data/world\"\n",
    "\n",
    "r = requests.get(url)\n",
    "df_list = pd.read_html(r.text)            #this parse all html tables from a webpage to alist\n",
    "world_df = df_list[2]\n",
    "world_df"
   ]
  },
  {
   "cell_type": "code",
   "execution_count": 129,
   "metadata": {},
   "outputs": [
    {
     "data": {
      "text/html": [
       "<div>\n",
       "<style scoped>\n",
       "    .dataframe tbody tr th:only-of-type {\n",
       "        vertical-align: middle;\n",
       "    }\n",
       "\n",
       "    .dataframe tbody tr th {\n",
       "        vertical-align: top;\n",
       "    }\n",
       "\n",
       "    .dataframe thead th {\n",
       "        text-align: right;\n",
       "    }\n",
       "</style>\n",
       "<table border=\"1\" class=\"dataframe\">\n",
       "  <thead>\n",
       "    <tr style=\"text-align: right;\">\n",
       "      <th></th>\n",
       "      <th>Name</th>\n",
       "      <th>Confirmed</th>\n",
       "      <th>Per Million</th>\n",
       "      <th>Changes Today</th>\n",
       "      <th>Percentage Day Change</th>\n",
       "      <th>Critical</th>\n",
       "      <th>Deceased</th>\n",
       "      <th>Per Million.1</th>\n",
       "      <th>Changes Today.1</th>\n",
       "      <th>Percentage Death Change</th>\n",
       "      <th>Tests</th>\n",
       "      <th>Active</th>\n",
       "      <th>Recovered</th>\n",
       "      <th>Per Million.2</th>\n",
       "      <th>Population</th>\n",
       "    </tr>\n",
       "  </thead>\n",
       "  <tbody>\n",
       "    <tr>\n",
       "      <th>0</th>\n",
       "      <td>TOTAL</td>\n",
       "      <td>23121366</td>\n",
       "      <td>2976</td>\n",
       "      <td>12950</td>\n",
       "      <td>0.06%</td>\n",
       "      <td>61716</td>\n",
       "      <td>803223</td>\n",
       "      <td>103</td>\n",
       "      <td>623</td>\n",
       "      <td>0.08%</td>\n",
       "      <td>408073508</td>\n",
       "      <td>6662651</td>\n",
       "      <td>15509908</td>\n",
       "      <td>1996</td>\n",
       "      <td>7768876378</td>\n",
       "    </tr>\n",
       "    <tr>\n",
       "      <th>169</th>\n",
       "      <td>★  United States</td>\n",
       "      <td>5796727</td>\n",
       "      <td>17498</td>\n",
       "      <td>0</td>\n",
       "      <td>0%</td>\n",
       "      <td>16801</td>\n",
       "      <td>179200</td>\n",
       "      <td>541</td>\n",
       "      <td>0</td>\n",
       "      <td>0%</td>\n",
       "      <td>74718580</td>\n",
       "      <td>2490109</td>\n",
       "      <td>3127418</td>\n",
       "      <td>9440</td>\n",
       "      <td>331277530</td>\n",
       "    </tr>\n",
       "    <tr>\n",
       "      <th>170</th>\n",
       "      <td>★  Brazil</td>\n",
       "      <td>3536488</td>\n",
       "      <td>16621</td>\n",
       "      <td>0</td>\n",
       "      <td>0%</td>\n",
       "      <td>8318</td>\n",
       "      <td>113454</td>\n",
       "      <td>533</td>\n",
       "      <td>0</td>\n",
       "      <td>0%</td>\n",
       "      <td>14144344</td>\n",
       "      <td>752279</td>\n",
       "      <td>2670755</td>\n",
       "      <td>12552</td>\n",
       "      <td>212772522</td>\n",
       "    </tr>\n",
       "    <tr>\n",
       "      <th>171</th>\n",
       "      <td>★  India</td>\n",
       "      <td>2975701</td>\n",
       "      <td>2153</td>\n",
       "      <td>2333</td>\n",
       "      <td>0.08%</td>\n",
       "      <td>8944</td>\n",
       "      <td>55928</td>\n",
       "      <td>40</td>\n",
       "      <td>0</td>\n",
       "      <td>0%</td>\n",
       "      <td>34491073</td>\n",
       "      <td>697196</td>\n",
       "      <td>2222577</td>\n",
       "      <td>1608</td>\n",
       "      <td>1381900601</td>\n",
       "    </tr>\n",
       "    <tr>\n",
       "      <th>172</th>\n",
       "      <td>★  Russia</td>\n",
       "      <td>946976</td>\n",
       "      <td>6489</td>\n",
       "      <td>0</td>\n",
       "      <td>0%</td>\n",
       "      <td>2300</td>\n",
       "      <td>16189</td>\n",
       "      <td>111</td>\n",
       "      <td>0</td>\n",
       "      <td>0%</td>\n",
       "      <td>33800000</td>\n",
       "      <td>169457</td>\n",
       "      <td>761330</td>\n",
       "      <td>5217</td>\n",
       "      <td>145943480</td>\n",
       "    </tr>\n",
       "    <tr>\n",
       "      <th>142</th>\n",
       "      <td>★  South Africa</td>\n",
       "      <td>603338</td>\n",
       "      <td>10155</td>\n",
       "      <td>0</td>\n",
       "      <td>0%</td>\n",
       "      <td>539</td>\n",
       "      <td>12843</td>\n",
       "      <td>216</td>\n",
       "      <td>0</td>\n",
       "      <td>0%</td>\n",
       "      <td>3504507</td>\n",
       "      <td>90393</td>\n",
       "      <td>500102</td>\n",
       "      <td>8417</td>\n",
       "      <td>59412210</td>\n",
       "    </tr>\n",
       "    <tr>\n",
       "      <th>173</th>\n",
       "      <td>★  Peru</td>\n",
       "      <td>576067</td>\n",
       "      <td>17438</td>\n",
       "      <td>0</td>\n",
       "      <td>0%</td>\n",
       "      <td>1530</td>\n",
       "      <td>27245</td>\n",
       "      <td>825</td>\n",
       "      <td>0</td>\n",
       "      <td>0%</td>\n",
       "      <td>2915372</td>\n",
       "      <td>163914</td>\n",
       "      <td>384908</td>\n",
       "      <td>11651</td>\n",
       "      <td>33035148</td>\n",
       "    </tr>\n",
       "    <tr>\n",
       "      <th>174</th>\n",
       "      <td>★  Mexico</td>\n",
       "      <td>549734</td>\n",
       "      <td>4257</td>\n",
       "      <td>5928</td>\n",
       "      <td>1.09%</td>\n",
       "      <td>3518</td>\n",
       "      <td>59610</td>\n",
       "      <td>462</td>\n",
       "      <td>504</td>\n",
       "      <td>0.85%</td>\n",
       "      <td>1239133</td>\n",
       "      <td>113715</td>\n",
       "      <td>376409</td>\n",
       "      <td>2915</td>\n",
       "      <td>129121642</td>\n",
       "    </tr>\n",
       "    <tr>\n",
       "      <th>175</th>\n",
       "      <td>★  Colombia</td>\n",
       "      <td>522138</td>\n",
       "      <td>10246</td>\n",
       "      <td>0</td>\n",
       "      <td>0%</td>\n",
       "      <td>1493</td>\n",
       "      <td>16568</td>\n",
       "      <td>325</td>\n",
       "      <td>0</td>\n",
       "      <td>0%</td>\n",
       "      <td>2409706</td>\n",
       "      <td>156630</td>\n",
       "      <td>348940</td>\n",
       "      <td>6848</td>\n",
       "      <td>50958476</td>\n",
       "    </tr>\n",
       "    <tr>\n",
       "      <th>177</th>\n",
       "      <td>★  Chile</td>\n",
       "      <td>393769</td>\n",
       "      <td>20574</td>\n",
       "      <td>0</td>\n",
       "      <td>0%</td>\n",
       "      <td>1072</td>\n",
       "      <td>10723</td>\n",
       "      <td>560</td>\n",
       "      <td>0</td>\n",
       "      <td>0%</td>\n",
       "      <td>2142301</td>\n",
       "      <td>15149</td>\n",
       "      <td>367897</td>\n",
       "      <td>19222</td>\n",
       "      <td>19139231</td>\n",
       "    </tr>\n",
       "  </tbody>\n",
       "</table>\n",
       "</div>"
      ],
      "text/plain": [
       "                 Name  Confirmed Per Million  Changes Today  \\\n",
       "0               TOTAL   23121366        2976          12950   \n",
       "169  ★  United States    5796727       17498              0   \n",
       "170         ★  Brazil    3536488       16621              0   \n",
       "171          ★  India    2975701        2153           2333   \n",
       "172         ★  Russia     946976        6489              0   \n",
       "142   ★  South Africa     603338       10155              0   \n",
       "173           ★  Peru     576067       17438              0   \n",
       "174         ★  Mexico     549734        4257           5928   \n",
       "175       ★  Colombia     522138       10246              0   \n",
       "177          ★  Chile     393769       20574              0   \n",
       "\n",
       "    Percentage Day Change Critical Deceased Per Million.1  Changes Today.1  \\\n",
       "0                   0.06%    61716   803223           103              623   \n",
       "169                    0%    16801   179200           541                0   \n",
       "170                    0%     8318   113454           533                0   \n",
       "171                 0.08%     8944    55928            40                0   \n",
       "172                    0%     2300    16189           111                0   \n",
       "142                    0%      539    12843           216                0   \n",
       "173                    0%     1530    27245           825                0   \n",
       "174                 1.09%     3518    59610           462              504   \n",
       "175                    0%     1493    16568           325                0   \n",
       "177                    0%     1072    10723           560                0   \n",
       "\n",
       "    Percentage Death Change      Tests   Active Recovered Per Million.2  \\\n",
       "0                     0.08%  408073508  6662651  15509908          1996   \n",
       "169                      0%   74718580  2490109   3127418          9440   \n",
       "170                      0%   14144344   752279   2670755         12552   \n",
       "171                      0%   34491073   697196   2222577          1608   \n",
       "172                      0%   33800000   169457    761330          5217   \n",
       "142                      0%    3504507    90393    500102          8417   \n",
       "173                      0%    2915372   163914    384908         11651   \n",
       "174                   0.85%    1239133   113715    376409          2915   \n",
       "175                      0%    2409706   156630    348940          6848   \n",
       "177                      0%    2142301    15149    367897         19222   \n",
       "\n",
       "     Population  \n",
       "0    7768876378  \n",
       "169   331277530  \n",
       "170   212772522  \n",
       "171  1381900601  \n",
       "172   145943480  \n",
       "142    59412210  \n",
       "173    33035148  \n",
       "174   129121642  \n",
       "175    50958476  \n",
       "177    19139231  "
      ]
     },
     "execution_count": 129,
     "metadata": {},
     "output_type": "execute_result"
    }
   ],
   "source": [
    "# We will now sort the countries based on total confirmed cases column\n",
    "\n",
    "world_df = world_df.sort_values(\"Confirmed\" , ascending = False)\n",
    "\n",
    "\n",
    "\n",
    "#Lets get top 10 affected countries\n",
    "\n",
    "world_df.head(10)\n"
   ]
  },
  {
   "cell_type": "markdown",
   "metadata": {},
   "source": [
    "#### We'll use plotly express for visualization.\n",
    "1. It generates graphs which are interactive and user friendly.\n",
    "2. We can use zoom in and zoom out feature for proper understanding to a specific part of graph."
   ]
  },
  {
   "cell_type": "code",
   "execution_count": 130,
   "metadata": {},
   "outputs": [],
   "source": [
    "import plotly.express as px"
   ]
  },
  {
   "cell_type": "code",
   "execution_count": 131,
   "metadata": {},
   "outputs": [
    {
     "data": {
      "application/vnd.plotly.v1+json": {
       "config": {
        "plotlyServerURL": "https://plot.ly"
       },
       "data": [
        {
         "alignmentgroup": "True",
         "hovertemplate": "Name=%{x}<br>Confirmed=%{y}<extra></extra>",
         "legendgroup": "",
         "marker": {
          "color": "#636efa"
         },
         "name": "",
         "offsetgroup": "",
         "orientation": "v",
         "showlegend": false,
         "textposition": "auto",
         "type": "bar",
         "x": [
          "TOTAL",
          "★  United States",
          "★  Brazil",
          "★  India",
          "★  Russia",
          "★  South Africa",
          "★  Peru",
          "★  Mexico",
          "★  Colombia",
          "★  Chile",
          "★  Spain",
          "★  Iran",
          "★  Argentina",
          "★  United Kingdom",
          "★  Saudi Arabia",
          "★  Pakistan",
          "★  Bangladesh",
          "★  France",
          "★  Italy",
          "★  Turkey",
          "★  Germany",
          "★  Iraq",
          "★  Philippines",
          "★  Indonesia",
          "★  Canada",
          "★  Qatar",
          "★  Bolivia",
          "★  Ecuador",
          "★  Kazakhstan",
          "★  Israel",
          "★  Ukraine",
          "★  Egypt",
          "★  Dominican Republic",
          "★  Sweden",
          "★  China",
          "★  Panama",
          "★  Oman",
          "★  Belgium",
          "★  Kuwait",
          "★  Romania",
          "★  Belarus",
          "★  Guatemala",
          "★  United Arab Emirates",
          "★  Netherlands",
          "★  Poland",
          "★  Japan",
          "★  Singapore",
          "★  Portugal",
          "★  Honduras",
          "★  Nigeria",
          "★  Morocco",
          "★  Bahrain",
          "★  Ghana",
          "★  Kyrgyzstan",
          "★  Armenia",
          "★  Algeria",
          "★  Switzerland",
          "★  Uzbekistan",
          "★  Venezuela",
          "★  Afghanistan",
          "★  Ethiopia",
          "★  Azerbaijan",
          "★  Moldova",
          "★  Costa Rica",
          "★  Kenya",
          "★  Nepal",
          "★  Serbia",
          "★  Ireland",
          "★  Austria",
          "★  Australia",
          "★  El Salvador",
          "★  Czechia",
          "★  Cameroon",
          "★  Palestine",
          "★  Bosnia and Herzegovina",
          "★  Ivory Coast",
          "★  South Korea",
          "★  Denmark",
          "★  Bulgaria",
          "★  Madagascar",
          "★  North Macedonia",
          "★  Senegal",
          "★  Sudan",
          "★  Paraguay",
          "★  Kosovo",
          "★  Lebanon",
          "★  Zambia",
          "★  Norway",
          "★  Libya",
          "★  DR Congo",
          "★  Malaysia",
          "★  Guinea",
          "★  French Guiana",
          "★  Gabon",
          "★  Tajikistan",
          "★  Greece",
          "★  Albania",
          "★  Haiti",
          "★  Finland",
          "★  Luxembourg",
          "★  Croatia",
          "★  Mauritania",
          "★  Maldives",
          "★  Zimbabwe",
          "★  Djibouti",
          "★  Malawi",
          "★  Namibia",
          "★  Hungary",
          "★  Equatorial Guinea",
          "★  Central African Republic",
          "★  Hong Kong",
          "★  Nicaragua",
          "★  Montenegro",
          "★  Eswatini",
          "★  Congo",
          "★  Cuba",
          "★  Suriname",
          "★  Cape Verde",
          "★  Thailand",
          "★  Somalia",
          "★  Mayotte",
          "★  Slovakia",
          "★  Mozambique",
          "★  Sri Lanka",
          "★  Rwanda",
          "★  Mali",
          "★  Tunisia",
          "★  Slovenia",
          "★  Lithuania",
          "★  South Sudan",
          "★  The Gambia",
          "★  Estonia",
          "★  Guinea-Bissau",
          "★  Benin",
          "★  Syria",
          "★  Angola",
          "★  Iceland",
          "★  Sierra Leone",
          "★  Yemen",
          "★  Uganda",
          "★  The Bahamas",
          "★  New Zealand",
          "★  Malta",
          "★  Jordan",
          "★  Uruguay",
          "★  Aruba",
          "★  Cyprus",
          "★  Georgia",
          "★  Jamaica",
          "★  Latvia",
          "★  Botswana",
          "★  Burkina Faso",
          "★  Liberia",
          "★  Togo",
          "★  Niger",
          "★  Reunion",
          "★  Andorra",
          "★  Lesotho",
          "★  Vietnam",
          "★  Chad",
          "★  SÃ£o TomÃ© and PrÃ­ncipe",
          "★  Guyana",
          "★  Trinidad and Tobago",
          "★  Guadeloupe",
          "★  San Marino",
          "★  Belize",
          "★  Channel Islands",
          "★  Tanzania",
          "★  Taiwan",
          "★  Myanmar",
          "★  Burundi",
          "★  Comoros",
          "★  Faroe Islands",
          "★  Papua New Guinea",
          "★  Sint Maarten",
          "★  Turks and Caicos Islands",
          "★  Mauritius",
          "★  Martinique",
          "★  Isle of Man",
          "★  Eritrea",
          "★  Mongolia",
          "★  French Polynesia",
          "★  Cambodia",
          "★  Gibraltar",
          "★  Cayman Islands",
          "★  Saint Martin",
          "★  Bermuda",
          "★  Barbados",
          "★  Monaco",
          "★  Bhutan",
          "★  Brunei",
          "★  Seychelles",
          "★  Liechtenstein",
          "★  Antigua and Barbuda",
          "★  Saint Vincent and the Grenadines",
          "★  Macao",
          "★  Curacao",
          "★  Fiji",
          "★  Saint Lucia",
          "★  Timor-Leste",
          "★  Grenada",
          "★  New Caledonia",
          "★  Laos",
          "★  British Virgin Islands",
          "★  Dominica",
          "★  Saint Kitts and Nevis",
          "★  Saint Barthelemy",
          "★  Greenland",
          "★  Montserrat",
          "★  Caribbean Netherlands",
          "★  Falkland Islands",
          "★  Vatican City",
          "★  Western Sahara",
          "★  Saint Pierre and Miquelon",
          "★  Anguilla"
         ],
         "xaxis": "x",
         "y": [
          23121366,
          5796727,
          3536488,
          2975701,
          946976,
          603338,
          576067,
          549734,
          522138,
          393769,
          386054,
          354764,
          329043,
          323313,
          305186,
          292174,
          290360,
          257333,
          257065,
          255723,
          233021,
          197085,
          182365,
          149408,
          126306,
          116481,
          107435,
          106481,
          104313,
          100716,
          100643,
          97148,
          89867,
          86068,
          84939,
          84392,
          83769,
          80894,
          79269,
          76355,
          70111,
          66941,
          66193,
          65589,
          60281,
          59721,
          56216,
          55211,
          53381,
          51304,
          49247,
          48661,
          43325,
          42889,
          42477,
          40667,
          39332,
          38231,
          38219,
          37894,
          37665,
          34921,
          32484,
          32134,
          31763,
          30483,
          30378,
          27755,
          24762,
          24602,
          24420,
          21551,
          18762,
          18313,
          17396,
          17310,
          17002,
          16127,
          15131,
          14218,
          13308,
          12689,
          12623,
          12536,
          12168,
          11580,
          10627,
          10275,
          10121,
          9802,
          9249,
          8932,
          8777,
          8388,
          8241,
          8138,
          8119,
          8016,
          7871,
          7704,
          7594,
          6885,
          6564,
          5815,
          5382,
          5322,
          5227,
          5098,
          4926,
          4679,
          4632,
          4311,
          4277,
          4128,
          3850,
          3582,
          3460,
          3412,
          3390,
          3265,
          3237,
          3225,
          3195,
          2941,
          2780,
          2688,
          2607,
          2574,
          2564,
          2497,
          2437,
          2244,
          2149,
          2095,
          2073,
          2068,
          2050,
          1972,
          1906,
          1848,
          1703,
          1671,
          1546,
          1532,
          1516,
          1464,
          1406,
          1385,
          1346,
          1330,
          1308,
          1297,
          1285,
          1239,
          1172,
          1075,
          1045,
          1015,
          1009,
          981,
          891,
          881,
          864,
          771,
          704,
          648,
          614,
          509,
          487,
          435,
          426,
          417,
          384,
          361,
          353,
          347,
          346,
          336,
          336,
          306,
          298,
          298,
          273,
          231,
          205,
          176,
          167,
          157,
          154,
          154,
          143,
          132,
          99,
          94,
          58,
          46,
          37,
          28,
          26,
          26,
          24,
          23,
          22,
          21,
          18,
          17,
          16,
          14,
          13,
          13,
          13,
          12,
          10,
          5,
          3
         ],
         "yaxis": "y"
        }
       ],
       "layout": {
        "barmode": "relative",
        "legend": {
         "tracegroupgap": 0
        },
        "margin": {
         "t": 60
        },
        "template": {
         "data": {
          "bar": [
           {
            "error_x": {
             "color": "#2a3f5f"
            },
            "error_y": {
             "color": "#2a3f5f"
            },
            "marker": {
             "line": {
              "color": "#E5ECF6",
              "width": 0.5
             }
            },
            "type": "bar"
           }
          ],
          "barpolar": [
           {
            "marker": {
             "line": {
              "color": "#E5ECF6",
              "width": 0.5
             }
            },
            "type": "barpolar"
           }
          ],
          "carpet": [
           {
            "aaxis": {
             "endlinecolor": "#2a3f5f",
             "gridcolor": "white",
             "linecolor": "white",
             "minorgridcolor": "white",
             "startlinecolor": "#2a3f5f"
            },
            "baxis": {
             "endlinecolor": "#2a3f5f",
             "gridcolor": "white",
             "linecolor": "white",
             "minorgridcolor": "white",
             "startlinecolor": "#2a3f5f"
            },
            "type": "carpet"
           }
          ],
          "choropleth": [
           {
            "colorbar": {
             "outlinewidth": 0,
             "ticks": ""
            },
            "type": "choropleth"
           }
          ],
          "contour": [
           {
            "colorbar": {
             "outlinewidth": 0,
             "ticks": ""
            },
            "colorscale": [
             [
              0,
              "#0d0887"
             ],
             [
              0.1111111111111111,
              "#46039f"
             ],
             [
              0.2222222222222222,
              "#7201a8"
             ],
             [
              0.3333333333333333,
              "#9c179e"
             ],
             [
              0.4444444444444444,
              "#bd3786"
             ],
             [
              0.5555555555555556,
              "#d8576b"
             ],
             [
              0.6666666666666666,
              "#ed7953"
             ],
             [
              0.7777777777777778,
              "#fb9f3a"
             ],
             [
              0.8888888888888888,
              "#fdca26"
             ],
             [
              1,
              "#f0f921"
             ]
            ],
            "type": "contour"
           }
          ],
          "contourcarpet": [
           {
            "colorbar": {
             "outlinewidth": 0,
             "ticks": ""
            },
            "type": "contourcarpet"
           }
          ],
          "heatmap": [
           {
            "colorbar": {
             "outlinewidth": 0,
             "ticks": ""
            },
            "colorscale": [
             [
              0,
              "#0d0887"
             ],
             [
              0.1111111111111111,
              "#46039f"
             ],
             [
              0.2222222222222222,
              "#7201a8"
             ],
             [
              0.3333333333333333,
              "#9c179e"
             ],
             [
              0.4444444444444444,
              "#bd3786"
             ],
             [
              0.5555555555555556,
              "#d8576b"
             ],
             [
              0.6666666666666666,
              "#ed7953"
             ],
             [
              0.7777777777777778,
              "#fb9f3a"
             ],
             [
              0.8888888888888888,
              "#fdca26"
             ],
             [
              1,
              "#f0f921"
             ]
            ],
            "type": "heatmap"
           }
          ],
          "heatmapgl": [
           {
            "colorbar": {
             "outlinewidth": 0,
             "ticks": ""
            },
            "colorscale": [
             [
              0,
              "#0d0887"
             ],
             [
              0.1111111111111111,
              "#46039f"
             ],
             [
              0.2222222222222222,
              "#7201a8"
             ],
             [
              0.3333333333333333,
              "#9c179e"
             ],
             [
              0.4444444444444444,
              "#bd3786"
             ],
             [
              0.5555555555555556,
              "#d8576b"
             ],
             [
              0.6666666666666666,
              "#ed7953"
             ],
             [
              0.7777777777777778,
              "#fb9f3a"
             ],
             [
              0.8888888888888888,
              "#fdca26"
             ],
             [
              1,
              "#f0f921"
             ]
            ],
            "type": "heatmapgl"
           }
          ],
          "histogram": [
           {
            "marker": {
             "colorbar": {
              "outlinewidth": 0,
              "ticks": ""
             }
            },
            "type": "histogram"
           }
          ],
          "histogram2d": [
           {
            "colorbar": {
             "outlinewidth": 0,
             "ticks": ""
            },
            "colorscale": [
             [
              0,
              "#0d0887"
             ],
             [
              0.1111111111111111,
              "#46039f"
             ],
             [
              0.2222222222222222,
              "#7201a8"
             ],
             [
              0.3333333333333333,
              "#9c179e"
             ],
             [
              0.4444444444444444,
              "#bd3786"
             ],
             [
              0.5555555555555556,
              "#d8576b"
             ],
             [
              0.6666666666666666,
              "#ed7953"
             ],
             [
              0.7777777777777778,
              "#fb9f3a"
             ],
             [
              0.8888888888888888,
              "#fdca26"
             ],
             [
              1,
              "#f0f921"
             ]
            ],
            "type": "histogram2d"
           }
          ],
          "histogram2dcontour": [
           {
            "colorbar": {
             "outlinewidth": 0,
             "ticks": ""
            },
            "colorscale": [
             [
              0,
              "#0d0887"
             ],
             [
              0.1111111111111111,
              "#46039f"
             ],
             [
              0.2222222222222222,
              "#7201a8"
             ],
             [
              0.3333333333333333,
              "#9c179e"
             ],
             [
              0.4444444444444444,
              "#bd3786"
             ],
             [
              0.5555555555555556,
              "#d8576b"
             ],
             [
              0.6666666666666666,
              "#ed7953"
             ],
             [
              0.7777777777777778,
              "#fb9f3a"
             ],
             [
              0.8888888888888888,
              "#fdca26"
             ],
             [
              1,
              "#f0f921"
             ]
            ],
            "type": "histogram2dcontour"
           }
          ],
          "mesh3d": [
           {
            "colorbar": {
             "outlinewidth": 0,
             "ticks": ""
            },
            "type": "mesh3d"
           }
          ],
          "parcoords": [
           {
            "line": {
             "colorbar": {
              "outlinewidth": 0,
              "ticks": ""
             }
            },
            "type": "parcoords"
           }
          ],
          "pie": [
           {
            "automargin": true,
            "type": "pie"
           }
          ],
          "scatter": [
           {
            "marker": {
             "colorbar": {
              "outlinewidth": 0,
              "ticks": ""
             }
            },
            "type": "scatter"
           }
          ],
          "scatter3d": [
           {
            "line": {
             "colorbar": {
              "outlinewidth": 0,
              "ticks": ""
             }
            },
            "marker": {
             "colorbar": {
              "outlinewidth": 0,
              "ticks": ""
             }
            },
            "type": "scatter3d"
           }
          ],
          "scattercarpet": [
           {
            "marker": {
             "colorbar": {
              "outlinewidth": 0,
              "ticks": ""
             }
            },
            "type": "scattercarpet"
           }
          ],
          "scattergeo": [
           {
            "marker": {
             "colorbar": {
              "outlinewidth": 0,
              "ticks": ""
             }
            },
            "type": "scattergeo"
           }
          ],
          "scattergl": [
           {
            "marker": {
             "colorbar": {
              "outlinewidth": 0,
              "ticks": ""
             }
            },
            "type": "scattergl"
           }
          ],
          "scattermapbox": [
           {
            "marker": {
             "colorbar": {
              "outlinewidth": 0,
              "ticks": ""
             }
            },
            "type": "scattermapbox"
           }
          ],
          "scatterpolar": [
           {
            "marker": {
             "colorbar": {
              "outlinewidth": 0,
              "ticks": ""
             }
            },
            "type": "scatterpolar"
           }
          ],
          "scatterpolargl": [
           {
            "marker": {
             "colorbar": {
              "outlinewidth": 0,
              "ticks": ""
             }
            },
            "type": "scatterpolargl"
           }
          ],
          "scatterternary": [
           {
            "marker": {
             "colorbar": {
              "outlinewidth": 0,
              "ticks": ""
             }
            },
            "type": "scatterternary"
           }
          ],
          "surface": [
           {
            "colorbar": {
             "outlinewidth": 0,
             "ticks": ""
            },
            "colorscale": [
             [
              0,
              "#0d0887"
             ],
             [
              0.1111111111111111,
              "#46039f"
             ],
             [
              0.2222222222222222,
              "#7201a8"
             ],
             [
              0.3333333333333333,
              "#9c179e"
             ],
             [
              0.4444444444444444,
              "#bd3786"
             ],
             [
              0.5555555555555556,
              "#d8576b"
             ],
             [
              0.6666666666666666,
              "#ed7953"
             ],
             [
              0.7777777777777778,
              "#fb9f3a"
             ],
             [
              0.8888888888888888,
              "#fdca26"
             ],
             [
              1,
              "#f0f921"
             ]
            ],
            "type": "surface"
           }
          ],
          "table": [
           {
            "cells": {
             "fill": {
              "color": "#EBF0F8"
             },
             "line": {
              "color": "white"
             }
            },
            "header": {
             "fill": {
              "color": "#C8D4E3"
             },
             "line": {
              "color": "white"
             }
            },
            "type": "table"
           }
          ]
         },
         "layout": {
          "annotationdefaults": {
           "arrowcolor": "#2a3f5f",
           "arrowhead": 0,
           "arrowwidth": 1
          },
          "coloraxis": {
           "colorbar": {
            "outlinewidth": 0,
            "ticks": ""
           }
          },
          "colorscale": {
           "diverging": [
            [
             0,
             "#8e0152"
            ],
            [
             0.1,
             "#c51b7d"
            ],
            [
             0.2,
             "#de77ae"
            ],
            [
             0.3,
             "#f1b6da"
            ],
            [
             0.4,
             "#fde0ef"
            ],
            [
             0.5,
             "#f7f7f7"
            ],
            [
             0.6,
             "#e6f5d0"
            ],
            [
             0.7,
             "#b8e186"
            ],
            [
             0.8,
             "#7fbc41"
            ],
            [
             0.9,
             "#4d9221"
            ],
            [
             1,
             "#276419"
            ]
           ],
           "sequential": [
            [
             0,
             "#0d0887"
            ],
            [
             0.1111111111111111,
             "#46039f"
            ],
            [
             0.2222222222222222,
             "#7201a8"
            ],
            [
             0.3333333333333333,
             "#9c179e"
            ],
            [
             0.4444444444444444,
             "#bd3786"
            ],
            [
             0.5555555555555556,
             "#d8576b"
            ],
            [
             0.6666666666666666,
             "#ed7953"
            ],
            [
             0.7777777777777778,
             "#fb9f3a"
            ],
            [
             0.8888888888888888,
             "#fdca26"
            ],
            [
             1,
             "#f0f921"
            ]
           ],
           "sequentialminus": [
            [
             0,
             "#0d0887"
            ],
            [
             0.1111111111111111,
             "#46039f"
            ],
            [
             0.2222222222222222,
             "#7201a8"
            ],
            [
             0.3333333333333333,
             "#9c179e"
            ],
            [
             0.4444444444444444,
             "#bd3786"
            ],
            [
             0.5555555555555556,
             "#d8576b"
            ],
            [
             0.6666666666666666,
             "#ed7953"
            ],
            [
             0.7777777777777778,
             "#fb9f3a"
            ],
            [
             0.8888888888888888,
             "#fdca26"
            ],
            [
             1,
             "#f0f921"
            ]
           ]
          },
          "colorway": [
           "#636efa",
           "#EF553B",
           "#00cc96",
           "#ab63fa",
           "#FFA15A",
           "#19d3f3",
           "#FF6692",
           "#B6E880",
           "#FF97FF",
           "#FECB52"
          ],
          "font": {
           "color": "#2a3f5f"
          },
          "geo": {
           "bgcolor": "white",
           "lakecolor": "white",
           "landcolor": "#E5ECF6",
           "showlakes": true,
           "showland": true,
           "subunitcolor": "white"
          },
          "hoverlabel": {
           "align": "left"
          },
          "hovermode": "closest",
          "mapbox": {
           "style": "light"
          },
          "paper_bgcolor": "white",
          "plot_bgcolor": "#E5ECF6",
          "polar": {
           "angularaxis": {
            "gridcolor": "white",
            "linecolor": "white",
            "ticks": ""
           },
           "bgcolor": "#E5ECF6",
           "radialaxis": {
            "gridcolor": "white",
            "linecolor": "white",
            "ticks": ""
           }
          },
          "scene": {
           "xaxis": {
            "backgroundcolor": "#E5ECF6",
            "gridcolor": "white",
            "gridwidth": 2,
            "linecolor": "white",
            "showbackground": true,
            "ticks": "",
            "zerolinecolor": "white"
           },
           "yaxis": {
            "backgroundcolor": "#E5ECF6",
            "gridcolor": "white",
            "gridwidth": 2,
            "linecolor": "white",
            "showbackground": true,
            "ticks": "",
            "zerolinecolor": "white"
           },
           "zaxis": {
            "backgroundcolor": "#E5ECF6",
            "gridcolor": "white",
            "gridwidth": 2,
            "linecolor": "white",
            "showbackground": true,
            "ticks": "",
            "zerolinecolor": "white"
           }
          },
          "shapedefaults": {
           "line": {
            "color": "#2a3f5f"
           }
          },
          "ternary": {
           "aaxis": {
            "gridcolor": "white",
            "linecolor": "white",
            "ticks": ""
           },
           "baxis": {
            "gridcolor": "white",
            "linecolor": "white",
            "ticks": ""
           },
           "bgcolor": "#E5ECF6",
           "caxis": {
            "gridcolor": "white",
            "linecolor": "white",
            "ticks": ""
           }
          },
          "title": {
           "x": 0.05
          },
          "xaxis": {
           "automargin": true,
           "gridcolor": "white",
           "linecolor": "white",
           "ticks": "",
           "title": {
            "standoff": 15
           },
           "zerolinecolor": "white",
           "zerolinewidth": 2
          },
          "yaxis": {
           "automargin": true,
           "gridcolor": "white",
           "linecolor": "white",
           "ticks": "",
           "title": {
            "standoff": 15
           },
           "zerolinecolor": "white",
           "zerolinewidth": 2
          }
         }
        },
        "xaxis": {
         "anchor": "y",
         "domain": [
          0,
          1
         ],
         "title": {
          "text": "Name"
         }
        },
        "yaxis": {
         "anchor": "x",
         "domain": [
          0,
          1
         ],
         "title": {
          "text": "Confirmed"
         }
        }
       }
      },
      "text/html": [
       "<div>\n",
       "        \n",
       "        \n",
       "            <div id=\"2b7a581b-d16b-4f78-b5e0-c78c85612945\" class=\"plotly-graph-div\" style=\"height:525px; width:100%;\"></div>\n",
       "            <script type=\"text/javascript\">\n",
       "                require([\"plotly\"], function(Plotly) {\n",
       "                    window.PLOTLYENV=window.PLOTLYENV || {};\n",
       "                    \n",
       "                if (document.getElementById(\"2b7a581b-d16b-4f78-b5e0-c78c85612945\")) {\n",
       "                    Plotly.newPlot(\n",
       "                        '2b7a581b-d16b-4f78-b5e0-c78c85612945',\n",
       "                        [{\"alignmentgroup\": \"True\", \"hovertemplate\": \"Name=%{x}<br>Confirmed=%{y}<extra></extra>\", \"legendgroup\": \"\", \"marker\": {\"color\": \"#636efa\"}, \"name\": \"\", \"offsetgroup\": \"\", \"orientation\": \"v\", \"showlegend\": false, \"textposition\": \"auto\", \"type\": \"bar\", \"x\": [\"TOTAL\", \"\\u2605  United States\", \"\\u2605  Brazil\", \"\\u2605  India\", \"\\u2605  Russia\", \"\\u2605  South Africa\", \"\\u2605  Peru\", \"\\u2605  Mexico\", \"\\u2605  Colombia\", \"\\u2605  Chile\", \"\\u2605  Spain\", \"\\u2605  Iran\", \"\\u2605  Argentina\", \"\\u2605  United Kingdom\", \"\\u2605  Saudi Arabia\", \"\\u2605  Pakistan\", \"\\u2605  Bangladesh\", \"\\u2605  France\", \"\\u2605  Italy\", \"\\u2605  Turkey\", \"\\u2605  Germany\", \"\\u2605  Iraq\", \"\\u2605  Philippines\", \"\\u2605  Indonesia\", \"\\u2605  Canada\", \"\\u2605  Qatar\", \"\\u2605  Bolivia\", \"\\u2605  Ecuador\", \"\\u2605  Kazakhstan\", \"\\u2605  Israel\", \"\\u2605  Ukraine\", \"\\u2605  Egypt\", \"\\u2605  Dominican Republic\", \"\\u2605  Sweden\", \"\\u2605  China\", \"\\u2605  Panama\", \"\\u2605  Oman\", \"\\u2605  Belgium\", \"\\u2605  Kuwait\", \"\\u2605  Romania\", \"\\u2605  Belarus\", \"\\u2605  Guatemala\", \"\\u2605  United Arab Emirates\", \"\\u2605  Netherlands\", \"\\u2605  Poland\", \"\\u2605  Japan\", \"\\u2605  Singapore\", \"\\u2605  Portugal\", \"\\u2605  Honduras\", \"\\u2605  Nigeria\", \"\\u2605  Morocco\", \"\\u2605  Bahrain\", \"\\u2605  Ghana\", \"\\u2605  Kyrgyzstan\", \"\\u2605  Armenia\", \"\\u2605  Algeria\", \"\\u2605  Switzerland\", \"\\u2605  Uzbekistan\", \"\\u2605  Venezuela\", \"\\u2605  Afghanistan\", \"\\u2605  Ethiopia\", \"\\u2605  Azerbaijan\", \"\\u2605  Moldova\", \"\\u2605  Costa Rica\", \"\\u2605  Kenya\", \"\\u2605  Nepal\", \"\\u2605  Serbia\", \"\\u2605  Ireland\", \"\\u2605  Austria\", \"\\u2605  Australia\", \"\\u2605  El Salvador\", \"\\u2605  Czechia\", \"\\u2605  Cameroon\", \"\\u2605  Palestine\", \"\\u2605  Bosnia and Herzegovina\", \"\\u2605  Ivory Coast\", \"\\u2605  South Korea\", \"\\u2605  Denmark\", \"\\u2605  Bulgaria\", \"\\u2605  Madagascar\", \"\\u2605  North Macedonia\", \"\\u2605  Senegal\", \"\\u2605  Sudan\", \"\\u2605  Paraguay\", \"\\u2605  Kosovo\", \"\\u2605  Lebanon\", \"\\u2605  Zambia\", \"\\u2605  Norway\", \"\\u2605  Libya\", \"\\u2605  DR Congo\", \"\\u2605  Malaysia\", \"\\u2605  Guinea\", \"\\u2605  French Guiana\", \"\\u2605  Gabon\", \"\\u2605  Tajikistan\", \"\\u2605  Greece\", \"\\u2605  Albania\", \"\\u2605  Haiti\", \"\\u2605  Finland\", \"\\u2605  Luxembourg\", \"\\u2605  Croatia\", \"\\u2605  Mauritania\", \"\\u2605  Maldives\", \"\\u2605  Zimbabwe\", \"\\u2605  Djibouti\", \"\\u2605  Malawi\", \"\\u2605  Namibia\", \"\\u2605  Hungary\", \"\\u2605  Equatorial Guinea\", \"\\u2605  Central African Republic\", \"\\u2605  Hong Kong\", \"\\u2605  Nicaragua\", \"\\u2605  Montenegro\", \"\\u2605  Eswatini\", \"\\u2605  Congo\", \"\\u2605  Cuba\", \"\\u2605  Suriname\", \"\\u2605  Cape Verde\", \"\\u2605  Thailand\", \"\\u2605  Somalia\", \"\\u2605  Mayotte\", \"\\u2605  Slovakia\", \"\\u2605  Mozambique\", \"\\u2605  Sri Lanka\", \"\\u2605  Rwanda\", \"\\u2605  Mali\", \"\\u2605  Tunisia\", \"\\u2605  Slovenia\", \"\\u2605  Lithuania\", \"\\u2605  South Sudan\", \"\\u2605  The Gambia\", \"\\u2605  Estonia\", \"\\u2605  Guinea-Bissau\", \"\\u2605  Benin\", \"\\u2605  Syria\", \"\\u2605  Angola\", \"\\u2605  Iceland\", \"\\u2605  Sierra Leone\", \"\\u2605  Yemen\", \"\\u2605  Uganda\", \"\\u2605  The Bahamas\", \"\\u2605  New Zealand\", \"\\u2605  Malta\", \"\\u2605  Jordan\", \"\\u2605  Uruguay\", \"\\u2605  Aruba\", \"\\u2605  Cyprus\", \"\\u2605  Georgia\", \"\\u2605  Jamaica\", \"\\u2605  Latvia\", \"\\u2605  Botswana\", \"\\u2605  Burkina Faso\", \"\\u2605  Liberia\", \"\\u2605  Togo\", \"\\u2605  Niger\", \"\\u2605  Reunion\", \"\\u2605  Andorra\", \"\\u2605  Lesotho\", \"\\u2605  Vietnam\", \"\\u2605  Chad\", \"\\u2605  S\\u00c3\\u00a3o Tom\\u00c3\\u00a9 and Pr\\u00c3\\u00adncipe\", \"\\u2605  Guyana\", \"\\u2605  Trinidad and Tobago\", \"\\u2605  Guadeloupe\", \"\\u2605  San Marino\", \"\\u2605  Belize\", \"\\u2605  Channel Islands\", \"\\u2605  Tanzania\", \"\\u2605  Taiwan\", \"\\u2605  Myanmar\", \"\\u2605  Burundi\", \"\\u2605  Comoros\", \"\\u2605  Faroe Islands\", \"\\u2605  Papua New Guinea\", \"\\u2605  Sint Maarten\", \"\\u2605  Turks and Caicos Islands\", \"\\u2605  Mauritius\", \"\\u2605  Martinique\", \"\\u2605  Isle of Man\", \"\\u2605  Eritrea\", \"\\u2605  Mongolia\", \"\\u2605  French Polynesia\", \"\\u2605  Cambodia\", \"\\u2605  Gibraltar\", \"\\u2605  Cayman Islands\", \"\\u2605  Saint Martin\", \"\\u2605  Bermuda\", \"\\u2605  Barbados\", \"\\u2605  Monaco\", \"\\u2605  Bhutan\", \"\\u2605  Brunei\", \"\\u2605  Seychelles\", \"\\u2605  Liechtenstein\", \"\\u2605  Antigua and Barbuda\", \"\\u2605  Saint Vincent and the Grenadines\", \"\\u2605  Macao\", \"\\u2605  Curacao\", \"\\u2605  Fiji\", \"\\u2605  Saint Lucia\", \"\\u2605  Timor-Leste\", \"\\u2605  Grenada\", \"\\u2605  New Caledonia\", \"\\u2605  Laos\", \"\\u2605  British Virgin Islands\", \"\\u2605  Dominica\", \"\\u2605  Saint Kitts and Nevis\", \"\\u2605  Saint Barthelemy\", \"\\u2605  Greenland\", \"\\u2605  Montserrat\", \"\\u2605  Caribbean Netherlands\", \"\\u2605  Falkland Islands\", \"\\u2605  Vatican City\", \"\\u2605  Western Sahara\", \"\\u2605  Saint Pierre and Miquelon\", \"\\u2605  Anguilla\"], \"xaxis\": \"x\", \"y\": [23121366, 5796727, 3536488, 2975701, 946976, 603338, 576067, 549734, 522138, 393769, 386054, 354764, 329043, 323313, 305186, 292174, 290360, 257333, 257065, 255723, 233021, 197085, 182365, 149408, 126306, 116481, 107435, 106481, 104313, 100716, 100643, 97148, 89867, 86068, 84939, 84392, 83769, 80894, 79269, 76355, 70111, 66941, 66193, 65589, 60281, 59721, 56216, 55211, 53381, 51304, 49247, 48661, 43325, 42889, 42477, 40667, 39332, 38231, 38219, 37894, 37665, 34921, 32484, 32134, 31763, 30483, 30378, 27755, 24762, 24602, 24420, 21551, 18762, 18313, 17396, 17310, 17002, 16127, 15131, 14218, 13308, 12689, 12623, 12536, 12168, 11580, 10627, 10275, 10121, 9802, 9249, 8932, 8777, 8388, 8241, 8138, 8119, 8016, 7871, 7704, 7594, 6885, 6564, 5815, 5382, 5322, 5227, 5098, 4926, 4679, 4632, 4311, 4277, 4128, 3850, 3582, 3460, 3412, 3390, 3265, 3237, 3225, 3195, 2941, 2780, 2688, 2607, 2574, 2564, 2497, 2437, 2244, 2149, 2095, 2073, 2068, 2050, 1972, 1906, 1848, 1703, 1671, 1546, 1532, 1516, 1464, 1406, 1385, 1346, 1330, 1308, 1297, 1285, 1239, 1172, 1075, 1045, 1015, 1009, 981, 891, 881, 864, 771, 704, 648, 614, 509, 487, 435, 426, 417, 384, 361, 353, 347, 346, 336, 336, 306, 298, 298, 273, 231, 205, 176, 167, 157, 154, 154, 143, 132, 99, 94, 58, 46, 37, 28, 26, 26, 24, 23, 22, 21, 18, 17, 16, 14, 13, 13, 13, 12, 10, 5, 3], \"yaxis\": \"y\"}],\n",
       "                        {\"barmode\": \"relative\", \"legend\": {\"tracegroupgap\": 0}, \"margin\": {\"t\": 60}, \"template\": {\"data\": {\"bar\": [{\"error_x\": {\"color\": \"#2a3f5f\"}, \"error_y\": {\"color\": \"#2a3f5f\"}, \"marker\": {\"line\": {\"color\": \"#E5ECF6\", \"width\": 0.5}}, \"type\": \"bar\"}], \"barpolar\": [{\"marker\": {\"line\": {\"color\": \"#E5ECF6\", \"width\": 0.5}}, \"type\": \"barpolar\"}], \"carpet\": [{\"aaxis\": {\"endlinecolor\": \"#2a3f5f\", \"gridcolor\": \"white\", \"linecolor\": \"white\", \"minorgridcolor\": \"white\", \"startlinecolor\": \"#2a3f5f\"}, \"baxis\": {\"endlinecolor\": \"#2a3f5f\", \"gridcolor\": \"white\", \"linecolor\": \"white\", \"minorgridcolor\": \"white\", \"startlinecolor\": \"#2a3f5f\"}, \"type\": \"carpet\"}], \"choropleth\": [{\"colorbar\": {\"outlinewidth\": 0, \"ticks\": \"\"}, \"type\": \"choropleth\"}], \"contour\": [{\"colorbar\": {\"outlinewidth\": 0, \"ticks\": \"\"}, \"colorscale\": [[0.0, \"#0d0887\"], [0.1111111111111111, \"#46039f\"], [0.2222222222222222, \"#7201a8\"], [0.3333333333333333, \"#9c179e\"], [0.4444444444444444, \"#bd3786\"], [0.5555555555555556, \"#d8576b\"], [0.6666666666666666, \"#ed7953\"], [0.7777777777777778, \"#fb9f3a\"], [0.8888888888888888, \"#fdca26\"], [1.0, \"#f0f921\"]], \"type\": \"contour\"}], \"contourcarpet\": [{\"colorbar\": {\"outlinewidth\": 0, \"ticks\": \"\"}, \"type\": \"contourcarpet\"}], \"heatmap\": [{\"colorbar\": {\"outlinewidth\": 0, \"ticks\": \"\"}, \"colorscale\": [[0.0, \"#0d0887\"], [0.1111111111111111, \"#46039f\"], [0.2222222222222222, \"#7201a8\"], [0.3333333333333333, \"#9c179e\"], [0.4444444444444444, \"#bd3786\"], [0.5555555555555556, \"#d8576b\"], [0.6666666666666666, \"#ed7953\"], [0.7777777777777778, \"#fb9f3a\"], [0.8888888888888888, \"#fdca26\"], [1.0, \"#f0f921\"]], \"type\": \"heatmap\"}], \"heatmapgl\": [{\"colorbar\": {\"outlinewidth\": 0, \"ticks\": \"\"}, \"colorscale\": [[0.0, \"#0d0887\"], [0.1111111111111111, \"#46039f\"], [0.2222222222222222, \"#7201a8\"], [0.3333333333333333, \"#9c179e\"], [0.4444444444444444, \"#bd3786\"], [0.5555555555555556, \"#d8576b\"], [0.6666666666666666, \"#ed7953\"], [0.7777777777777778, \"#fb9f3a\"], [0.8888888888888888, \"#fdca26\"], [1.0, \"#f0f921\"]], \"type\": \"heatmapgl\"}], \"histogram\": [{\"marker\": {\"colorbar\": {\"outlinewidth\": 0, \"ticks\": \"\"}}, \"type\": \"histogram\"}], \"histogram2d\": [{\"colorbar\": {\"outlinewidth\": 0, \"ticks\": \"\"}, \"colorscale\": [[0.0, \"#0d0887\"], [0.1111111111111111, \"#46039f\"], [0.2222222222222222, \"#7201a8\"], [0.3333333333333333, \"#9c179e\"], [0.4444444444444444, \"#bd3786\"], [0.5555555555555556, \"#d8576b\"], [0.6666666666666666, \"#ed7953\"], [0.7777777777777778, \"#fb9f3a\"], [0.8888888888888888, \"#fdca26\"], [1.0, \"#f0f921\"]], \"type\": \"histogram2d\"}], \"histogram2dcontour\": [{\"colorbar\": {\"outlinewidth\": 0, \"ticks\": \"\"}, \"colorscale\": [[0.0, \"#0d0887\"], [0.1111111111111111, \"#46039f\"], [0.2222222222222222, \"#7201a8\"], [0.3333333333333333, \"#9c179e\"], [0.4444444444444444, \"#bd3786\"], [0.5555555555555556, \"#d8576b\"], [0.6666666666666666, \"#ed7953\"], [0.7777777777777778, \"#fb9f3a\"], [0.8888888888888888, \"#fdca26\"], [1.0, \"#f0f921\"]], \"type\": \"histogram2dcontour\"}], \"mesh3d\": [{\"colorbar\": {\"outlinewidth\": 0, \"ticks\": \"\"}, \"type\": \"mesh3d\"}], \"parcoords\": [{\"line\": {\"colorbar\": {\"outlinewidth\": 0, \"ticks\": \"\"}}, \"type\": \"parcoords\"}], \"pie\": [{\"automargin\": true, \"type\": \"pie\"}], \"scatter\": [{\"marker\": {\"colorbar\": {\"outlinewidth\": 0, \"ticks\": \"\"}}, \"type\": \"scatter\"}], \"scatter3d\": [{\"line\": {\"colorbar\": {\"outlinewidth\": 0, \"ticks\": \"\"}}, \"marker\": {\"colorbar\": {\"outlinewidth\": 0, \"ticks\": \"\"}}, \"type\": \"scatter3d\"}], \"scattercarpet\": [{\"marker\": {\"colorbar\": {\"outlinewidth\": 0, \"ticks\": \"\"}}, \"type\": \"scattercarpet\"}], \"scattergeo\": [{\"marker\": {\"colorbar\": {\"outlinewidth\": 0, \"ticks\": \"\"}}, \"type\": \"scattergeo\"}], \"scattergl\": [{\"marker\": {\"colorbar\": {\"outlinewidth\": 0, \"ticks\": \"\"}}, \"type\": \"scattergl\"}], \"scattermapbox\": [{\"marker\": {\"colorbar\": {\"outlinewidth\": 0, \"ticks\": \"\"}}, \"type\": \"scattermapbox\"}], \"scatterpolar\": [{\"marker\": {\"colorbar\": {\"outlinewidth\": 0, \"ticks\": \"\"}}, \"type\": \"scatterpolar\"}], \"scatterpolargl\": [{\"marker\": {\"colorbar\": {\"outlinewidth\": 0, \"ticks\": \"\"}}, \"type\": \"scatterpolargl\"}], \"scatterternary\": [{\"marker\": {\"colorbar\": {\"outlinewidth\": 0, \"ticks\": \"\"}}, \"type\": \"scatterternary\"}], \"surface\": [{\"colorbar\": {\"outlinewidth\": 0, \"ticks\": \"\"}, \"colorscale\": [[0.0, \"#0d0887\"], [0.1111111111111111, \"#46039f\"], [0.2222222222222222, \"#7201a8\"], [0.3333333333333333, \"#9c179e\"], [0.4444444444444444, \"#bd3786\"], [0.5555555555555556, \"#d8576b\"], [0.6666666666666666, \"#ed7953\"], [0.7777777777777778, \"#fb9f3a\"], [0.8888888888888888, \"#fdca26\"], [1.0, \"#f0f921\"]], \"type\": \"surface\"}], \"table\": [{\"cells\": {\"fill\": {\"color\": \"#EBF0F8\"}, \"line\": {\"color\": \"white\"}}, \"header\": {\"fill\": {\"color\": \"#C8D4E3\"}, \"line\": {\"color\": \"white\"}}, \"type\": \"table\"}]}, \"layout\": {\"annotationdefaults\": {\"arrowcolor\": \"#2a3f5f\", \"arrowhead\": 0, \"arrowwidth\": 1}, \"coloraxis\": {\"colorbar\": {\"outlinewidth\": 0, \"ticks\": \"\"}}, \"colorscale\": {\"diverging\": [[0, \"#8e0152\"], [0.1, \"#c51b7d\"], [0.2, \"#de77ae\"], [0.3, \"#f1b6da\"], [0.4, \"#fde0ef\"], [0.5, \"#f7f7f7\"], [0.6, \"#e6f5d0\"], [0.7, \"#b8e186\"], [0.8, \"#7fbc41\"], [0.9, \"#4d9221\"], [1, \"#276419\"]], \"sequential\": [[0.0, \"#0d0887\"], [0.1111111111111111, \"#46039f\"], [0.2222222222222222, \"#7201a8\"], [0.3333333333333333, \"#9c179e\"], [0.4444444444444444, \"#bd3786\"], [0.5555555555555556, \"#d8576b\"], [0.6666666666666666, \"#ed7953\"], [0.7777777777777778, \"#fb9f3a\"], [0.8888888888888888, \"#fdca26\"], [1.0, \"#f0f921\"]], \"sequentialminus\": [[0.0, \"#0d0887\"], [0.1111111111111111, \"#46039f\"], [0.2222222222222222, \"#7201a8\"], [0.3333333333333333, \"#9c179e\"], [0.4444444444444444, \"#bd3786\"], [0.5555555555555556, \"#d8576b\"], [0.6666666666666666, \"#ed7953\"], [0.7777777777777778, \"#fb9f3a\"], [0.8888888888888888, \"#fdca26\"], [1.0, \"#f0f921\"]]}, \"colorway\": [\"#636efa\", \"#EF553B\", \"#00cc96\", \"#ab63fa\", \"#FFA15A\", \"#19d3f3\", \"#FF6692\", \"#B6E880\", \"#FF97FF\", \"#FECB52\"], \"font\": {\"color\": \"#2a3f5f\"}, \"geo\": {\"bgcolor\": \"white\", \"lakecolor\": \"white\", \"landcolor\": \"#E5ECF6\", \"showlakes\": true, \"showland\": true, \"subunitcolor\": \"white\"}, \"hoverlabel\": {\"align\": \"left\"}, \"hovermode\": \"closest\", \"mapbox\": {\"style\": \"light\"}, \"paper_bgcolor\": \"white\", \"plot_bgcolor\": \"#E5ECF6\", \"polar\": {\"angularaxis\": {\"gridcolor\": \"white\", \"linecolor\": \"white\", \"ticks\": \"\"}, \"bgcolor\": \"#E5ECF6\", \"radialaxis\": {\"gridcolor\": \"white\", \"linecolor\": \"white\", \"ticks\": \"\"}}, \"scene\": {\"xaxis\": {\"backgroundcolor\": \"#E5ECF6\", \"gridcolor\": \"white\", \"gridwidth\": 2, \"linecolor\": \"white\", \"showbackground\": true, \"ticks\": \"\", \"zerolinecolor\": \"white\"}, \"yaxis\": {\"backgroundcolor\": \"#E5ECF6\", \"gridcolor\": \"white\", \"gridwidth\": 2, \"linecolor\": \"white\", \"showbackground\": true, \"ticks\": \"\", \"zerolinecolor\": \"white\"}, \"zaxis\": {\"backgroundcolor\": \"#E5ECF6\", \"gridcolor\": \"white\", \"gridwidth\": 2, \"linecolor\": \"white\", \"showbackground\": true, \"ticks\": \"\", \"zerolinecolor\": \"white\"}}, \"shapedefaults\": {\"line\": {\"color\": \"#2a3f5f\"}}, \"ternary\": {\"aaxis\": {\"gridcolor\": \"white\", \"linecolor\": \"white\", \"ticks\": \"\"}, \"baxis\": {\"gridcolor\": \"white\", \"linecolor\": \"white\", \"ticks\": \"\"}, \"bgcolor\": \"#E5ECF6\", \"caxis\": {\"gridcolor\": \"white\", \"linecolor\": \"white\", \"ticks\": \"\"}}, \"title\": {\"x\": 0.05}, \"xaxis\": {\"automargin\": true, \"gridcolor\": \"white\", \"linecolor\": \"white\", \"ticks\": \"\", \"title\": {\"standoff\": 15}, \"zerolinecolor\": \"white\", \"zerolinewidth\": 2}, \"yaxis\": {\"automargin\": true, \"gridcolor\": \"white\", \"linecolor\": \"white\", \"ticks\": \"\", \"title\": {\"standoff\": 15}, \"zerolinecolor\": \"white\", \"zerolinewidth\": 2}}}, \"xaxis\": {\"anchor\": \"y\", \"domain\": [0.0, 1.0], \"title\": {\"text\": \"Name\"}}, \"yaxis\": {\"anchor\": \"x\", \"domain\": [0.0, 1.0], \"title\": {\"text\": \"Confirmed\"}}},\n",
       "                        {\"responsive\": true}\n",
       "                    ).then(function(){\n",
       "                            \n",
       "var gd = document.getElementById('2b7a581b-d16b-4f78-b5e0-c78c85612945');\n",
       "var x = new MutationObserver(function (mutations, observer) {{\n",
       "        var display = window.getComputedStyle(gd).display;\n",
       "        if (!display || display === 'none') {{\n",
       "            console.log([gd, 'removed!']);\n",
       "            Plotly.purge(gd);\n",
       "            observer.disconnect();\n",
       "        }}\n",
       "}});\n",
       "\n",
       "// Listen for the removal of the full notebook cells\n",
       "var notebookContainer = gd.closest('#notebook-container');\n",
       "if (notebookContainer) {{\n",
       "    x.observe(notebookContainer, {childList: true});\n",
       "}}\n",
       "\n",
       "// Listen for the clearing of the current output cell\n",
       "var outputEl = gd.closest('.output');\n",
       "if (outputEl) {{\n",
       "    x.observe(outputEl, {childList: true});\n",
       "}}\n",
       "\n",
       "                        })\n",
       "                };\n",
       "                });\n",
       "            </script>\n",
       "        </div>"
      ]
     },
     "metadata": {},
     "output_type": "display_data"
    }
   ],
   "source": [
    "# plotting world_df based on confirmed cases by country names.\n",
    "\n",
    "world_fig = px.bar(world_df, x = 'Name' , y = 'Confirmed')\n",
    "world_fig.show()"
   ]
  },
  {
   "cell_type": "markdown",
   "metadata": {},
   "source": [
    " - We can zoom in the graph, thats the beauty of plotly."
   ]
  },
  {
   "cell_type": "code",
   "execution_count": 132,
   "metadata": {},
   "outputs": [
    {
     "data": {
      "application/vnd.plotly.v1+json": {
       "config": {
        "plotlyServerURL": "https://plot.ly"
       },
       "data": [
        {
         "alignmentgroup": "True",
         "hovertemplate": "Name=%{x}<br>Confirmed=%{y}<extra></extra>",
         "legendgroup": "",
         "marker": {
          "color": "#636efa"
         },
         "name": "",
         "offsetgroup": "",
         "orientation": "v",
         "showlegend": false,
         "textposition": "auto",
         "type": "bar",
         "x": [
          "TOTAL",
          "★  United States",
          "★  Brazil",
          "★  India",
          "★  Russia",
          "★  South Africa",
          "★  Peru",
          "★  Mexico",
          "★  Colombia",
          "★  Chile",
          "★  Spain",
          "★  Iran",
          "★  Argentina",
          "★  United Kingdom",
          "★  Saudi Arabia",
          "★  Pakistan",
          "★  Bangladesh",
          "★  France",
          "★  Italy",
          "★  Turkey"
         ],
         "xaxis": "x",
         "y": [
          23121366,
          5796727,
          3536488,
          2975701,
          946976,
          603338,
          576067,
          549734,
          522138,
          393769,
          386054,
          354764,
          329043,
          323313,
          305186,
          292174,
          290360,
          257333,
          257065,
          255723
         ],
         "yaxis": "y"
        }
       ],
       "layout": {
        "barmode": "relative",
        "legend": {
         "tracegroupgap": 0
        },
        "margin": {
         "t": 60
        },
        "template": {
         "data": {
          "bar": [
           {
            "error_x": {
             "color": "#2a3f5f"
            },
            "error_y": {
             "color": "#2a3f5f"
            },
            "marker": {
             "line": {
              "color": "#E5ECF6",
              "width": 0.5
             }
            },
            "type": "bar"
           }
          ],
          "barpolar": [
           {
            "marker": {
             "line": {
              "color": "#E5ECF6",
              "width": 0.5
             }
            },
            "type": "barpolar"
           }
          ],
          "carpet": [
           {
            "aaxis": {
             "endlinecolor": "#2a3f5f",
             "gridcolor": "white",
             "linecolor": "white",
             "minorgridcolor": "white",
             "startlinecolor": "#2a3f5f"
            },
            "baxis": {
             "endlinecolor": "#2a3f5f",
             "gridcolor": "white",
             "linecolor": "white",
             "minorgridcolor": "white",
             "startlinecolor": "#2a3f5f"
            },
            "type": "carpet"
           }
          ],
          "choropleth": [
           {
            "colorbar": {
             "outlinewidth": 0,
             "ticks": ""
            },
            "type": "choropleth"
           }
          ],
          "contour": [
           {
            "colorbar": {
             "outlinewidth": 0,
             "ticks": ""
            },
            "colorscale": [
             [
              0,
              "#0d0887"
             ],
             [
              0.1111111111111111,
              "#46039f"
             ],
             [
              0.2222222222222222,
              "#7201a8"
             ],
             [
              0.3333333333333333,
              "#9c179e"
             ],
             [
              0.4444444444444444,
              "#bd3786"
             ],
             [
              0.5555555555555556,
              "#d8576b"
             ],
             [
              0.6666666666666666,
              "#ed7953"
             ],
             [
              0.7777777777777778,
              "#fb9f3a"
             ],
             [
              0.8888888888888888,
              "#fdca26"
             ],
             [
              1,
              "#f0f921"
             ]
            ],
            "type": "contour"
           }
          ],
          "contourcarpet": [
           {
            "colorbar": {
             "outlinewidth": 0,
             "ticks": ""
            },
            "type": "contourcarpet"
           }
          ],
          "heatmap": [
           {
            "colorbar": {
             "outlinewidth": 0,
             "ticks": ""
            },
            "colorscale": [
             [
              0,
              "#0d0887"
             ],
             [
              0.1111111111111111,
              "#46039f"
             ],
             [
              0.2222222222222222,
              "#7201a8"
             ],
             [
              0.3333333333333333,
              "#9c179e"
             ],
             [
              0.4444444444444444,
              "#bd3786"
             ],
             [
              0.5555555555555556,
              "#d8576b"
             ],
             [
              0.6666666666666666,
              "#ed7953"
             ],
             [
              0.7777777777777778,
              "#fb9f3a"
             ],
             [
              0.8888888888888888,
              "#fdca26"
             ],
             [
              1,
              "#f0f921"
             ]
            ],
            "type": "heatmap"
           }
          ],
          "heatmapgl": [
           {
            "colorbar": {
             "outlinewidth": 0,
             "ticks": ""
            },
            "colorscale": [
             [
              0,
              "#0d0887"
             ],
             [
              0.1111111111111111,
              "#46039f"
             ],
             [
              0.2222222222222222,
              "#7201a8"
             ],
             [
              0.3333333333333333,
              "#9c179e"
             ],
             [
              0.4444444444444444,
              "#bd3786"
             ],
             [
              0.5555555555555556,
              "#d8576b"
             ],
             [
              0.6666666666666666,
              "#ed7953"
             ],
             [
              0.7777777777777778,
              "#fb9f3a"
             ],
             [
              0.8888888888888888,
              "#fdca26"
             ],
             [
              1,
              "#f0f921"
             ]
            ],
            "type": "heatmapgl"
           }
          ],
          "histogram": [
           {
            "marker": {
             "colorbar": {
              "outlinewidth": 0,
              "ticks": ""
             }
            },
            "type": "histogram"
           }
          ],
          "histogram2d": [
           {
            "colorbar": {
             "outlinewidth": 0,
             "ticks": ""
            },
            "colorscale": [
             [
              0,
              "#0d0887"
             ],
             [
              0.1111111111111111,
              "#46039f"
             ],
             [
              0.2222222222222222,
              "#7201a8"
             ],
             [
              0.3333333333333333,
              "#9c179e"
             ],
             [
              0.4444444444444444,
              "#bd3786"
             ],
             [
              0.5555555555555556,
              "#d8576b"
             ],
             [
              0.6666666666666666,
              "#ed7953"
             ],
             [
              0.7777777777777778,
              "#fb9f3a"
             ],
             [
              0.8888888888888888,
              "#fdca26"
             ],
             [
              1,
              "#f0f921"
             ]
            ],
            "type": "histogram2d"
           }
          ],
          "histogram2dcontour": [
           {
            "colorbar": {
             "outlinewidth": 0,
             "ticks": ""
            },
            "colorscale": [
             [
              0,
              "#0d0887"
             ],
             [
              0.1111111111111111,
              "#46039f"
             ],
             [
              0.2222222222222222,
              "#7201a8"
             ],
             [
              0.3333333333333333,
              "#9c179e"
             ],
             [
              0.4444444444444444,
              "#bd3786"
             ],
             [
              0.5555555555555556,
              "#d8576b"
             ],
             [
              0.6666666666666666,
              "#ed7953"
             ],
             [
              0.7777777777777778,
              "#fb9f3a"
             ],
             [
              0.8888888888888888,
              "#fdca26"
             ],
             [
              1,
              "#f0f921"
             ]
            ],
            "type": "histogram2dcontour"
           }
          ],
          "mesh3d": [
           {
            "colorbar": {
             "outlinewidth": 0,
             "ticks": ""
            },
            "type": "mesh3d"
           }
          ],
          "parcoords": [
           {
            "line": {
             "colorbar": {
              "outlinewidth": 0,
              "ticks": ""
             }
            },
            "type": "parcoords"
           }
          ],
          "pie": [
           {
            "automargin": true,
            "type": "pie"
           }
          ],
          "scatter": [
           {
            "marker": {
             "colorbar": {
              "outlinewidth": 0,
              "ticks": ""
             }
            },
            "type": "scatter"
           }
          ],
          "scatter3d": [
           {
            "line": {
             "colorbar": {
              "outlinewidth": 0,
              "ticks": ""
             }
            },
            "marker": {
             "colorbar": {
              "outlinewidth": 0,
              "ticks": ""
             }
            },
            "type": "scatter3d"
           }
          ],
          "scattercarpet": [
           {
            "marker": {
             "colorbar": {
              "outlinewidth": 0,
              "ticks": ""
             }
            },
            "type": "scattercarpet"
           }
          ],
          "scattergeo": [
           {
            "marker": {
             "colorbar": {
              "outlinewidth": 0,
              "ticks": ""
             }
            },
            "type": "scattergeo"
           }
          ],
          "scattergl": [
           {
            "marker": {
             "colorbar": {
              "outlinewidth": 0,
              "ticks": ""
             }
            },
            "type": "scattergl"
           }
          ],
          "scattermapbox": [
           {
            "marker": {
             "colorbar": {
              "outlinewidth": 0,
              "ticks": ""
             }
            },
            "type": "scattermapbox"
           }
          ],
          "scatterpolar": [
           {
            "marker": {
             "colorbar": {
              "outlinewidth": 0,
              "ticks": ""
             }
            },
            "type": "scatterpolar"
           }
          ],
          "scatterpolargl": [
           {
            "marker": {
             "colorbar": {
              "outlinewidth": 0,
              "ticks": ""
             }
            },
            "type": "scatterpolargl"
           }
          ],
          "scatterternary": [
           {
            "marker": {
             "colorbar": {
              "outlinewidth": 0,
              "ticks": ""
             }
            },
            "type": "scatterternary"
           }
          ],
          "surface": [
           {
            "colorbar": {
             "outlinewidth": 0,
             "ticks": ""
            },
            "colorscale": [
             [
              0,
              "#0d0887"
             ],
             [
              0.1111111111111111,
              "#46039f"
             ],
             [
              0.2222222222222222,
              "#7201a8"
             ],
             [
              0.3333333333333333,
              "#9c179e"
             ],
             [
              0.4444444444444444,
              "#bd3786"
             ],
             [
              0.5555555555555556,
              "#d8576b"
             ],
             [
              0.6666666666666666,
              "#ed7953"
             ],
             [
              0.7777777777777778,
              "#fb9f3a"
             ],
             [
              0.8888888888888888,
              "#fdca26"
             ],
             [
              1,
              "#f0f921"
             ]
            ],
            "type": "surface"
           }
          ],
          "table": [
           {
            "cells": {
             "fill": {
              "color": "#EBF0F8"
             },
             "line": {
              "color": "white"
             }
            },
            "header": {
             "fill": {
              "color": "#C8D4E3"
             },
             "line": {
              "color": "white"
             }
            },
            "type": "table"
           }
          ]
         },
         "layout": {
          "annotationdefaults": {
           "arrowcolor": "#2a3f5f",
           "arrowhead": 0,
           "arrowwidth": 1
          },
          "coloraxis": {
           "colorbar": {
            "outlinewidth": 0,
            "ticks": ""
           }
          },
          "colorscale": {
           "diverging": [
            [
             0,
             "#8e0152"
            ],
            [
             0.1,
             "#c51b7d"
            ],
            [
             0.2,
             "#de77ae"
            ],
            [
             0.3,
             "#f1b6da"
            ],
            [
             0.4,
             "#fde0ef"
            ],
            [
             0.5,
             "#f7f7f7"
            ],
            [
             0.6,
             "#e6f5d0"
            ],
            [
             0.7,
             "#b8e186"
            ],
            [
             0.8,
             "#7fbc41"
            ],
            [
             0.9,
             "#4d9221"
            ],
            [
             1,
             "#276419"
            ]
           ],
           "sequential": [
            [
             0,
             "#0d0887"
            ],
            [
             0.1111111111111111,
             "#46039f"
            ],
            [
             0.2222222222222222,
             "#7201a8"
            ],
            [
             0.3333333333333333,
             "#9c179e"
            ],
            [
             0.4444444444444444,
             "#bd3786"
            ],
            [
             0.5555555555555556,
             "#d8576b"
            ],
            [
             0.6666666666666666,
             "#ed7953"
            ],
            [
             0.7777777777777778,
             "#fb9f3a"
            ],
            [
             0.8888888888888888,
             "#fdca26"
            ],
            [
             1,
             "#f0f921"
            ]
           ],
           "sequentialminus": [
            [
             0,
             "#0d0887"
            ],
            [
             0.1111111111111111,
             "#46039f"
            ],
            [
             0.2222222222222222,
             "#7201a8"
            ],
            [
             0.3333333333333333,
             "#9c179e"
            ],
            [
             0.4444444444444444,
             "#bd3786"
            ],
            [
             0.5555555555555556,
             "#d8576b"
            ],
            [
             0.6666666666666666,
             "#ed7953"
            ],
            [
             0.7777777777777778,
             "#fb9f3a"
            ],
            [
             0.8888888888888888,
             "#fdca26"
            ],
            [
             1,
             "#f0f921"
            ]
           ]
          },
          "colorway": [
           "#636efa",
           "#EF553B",
           "#00cc96",
           "#ab63fa",
           "#FFA15A",
           "#19d3f3",
           "#FF6692",
           "#B6E880",
           "#FF97FF",
           "#FECB52"
          ],
          "font": {
           "color": "#2a3f5f"
          },
          "geo": {
           "bgcolor": "white",
           "lakecolor": "white",
           "landcolor": "#E5ECF6",
           "showlakes": true,
           "showland": true,
           "subunitcolor": "white"
          },
          "hoverlabel": {
           "align": "left"
          },
          "hovermode": "closest",
          "mapbox": {
           "style": "light"
          },
          "paper_bgcolor": "white",
          "plot_bgcolor": "#E5ECF6",
          "polar": {
           "angularaxis": {
            "gridcolor": "white",
            "linecolor": "white",
            "ticks": ""
           },
           "bgcolor": "#E5ECF6",
           "radialaxis": {
            "gridcolor": "white",
            "linecolor": "white",
            "ticks": ""
           }
          },
          "scene": {
           "xaxis": {
            "backgroundcolor": "#E5ECF6",
            "gridcolor": "white",
            "gridwidth": 2,
            "linecolor": "white",
            "showbackground": true,
            "ticks": "",
            "zerolinecolor": "white"
           },
           "yaxis": {
            "backgroundcolor": "#E5ECF6",
            "gridcolor": "white",
            "gridwidth": 2,
            "linecolor": "white",
            "showbackground": true,
            "ticks": "",
            "zerolinecolor": "white"
           },
           "zaxis": {
            "backgroundcolor": "#E5ECF6",
            "gridcolor": "white",
            "gridwidth": 2,
            "linecolor": "white",
            "showbackground": true,
            "ticks": "",
            "zerolinecolor": "white"
           }
          },
          "shapedefaults": {
           "line": {
            "color": "#2a3f5f"
           }
          },
          "ternary": {
           "aaxis": {
            "gridcolor": "white",
            "linecolor": "white",
            "ticks": ""
           },
           "baxis": {
            "gridcolor": "white",
            "linecolor": "white",
            "ticks": ""
           },
           "bgcolor": "#E5ECF6",
           "caxis": {
            "gridcolor": "white",
            "linecolor": "white",
            "ticks": ""
           }
          },
          "title": {
           "x": 0.05
          },
          "xaxis": {
           "automargin": true,
           "gridcolor": "white",
           "linecolor": "white",
           "ticks": "",
           "title": {
            "standoff": 15
           },
           "zerolinecolor": "white",
           "zerolinewidth": 2
          },
          "yaxis": {
           "automargin": true,
           "gridcolor": "white",
           "linecolor": "white",
           "ticks": "",
           "title": {
            "standoff": 15
           },
           "zerolinecolor": "white",
           "zerolinewidth": 2
          }
         }
        },
        "xaxis": {
         "anchor": "y",
         "domain": [
          0,
          1
         ],
         "title": {
          "text": "Name"
         }
        },
        "yaxis": {
         "anchor": "x",
         "domain": [
          0,
          1
         ],
         "title": {
          "text": "Confirmed"
         }
        }
       }
      },
      "text/html": [
       "<div>\n",
       "        \n",
       "        \n",
       "            <div id=\"f26d6438-9722-482b-91aa-1a823763d836\" class=\"plotly-graph-div\" style=\"height:525px; width:100%;\"></div>\n",
       "            <script type=\"text/javascript\">\n",
       "                require([\"plotly\"], function(Plotly) {\n",
       "                    window.PLOTLYENV=window.PLOTLYENV || {};\n",
       "                    \n",
       "                if (document.getElementById(\"f26d6438-9722-482b-91aa-1a823763d836\")) {\n",
       "                    Plotly.newPlot(\n",
       "                        'f26d6438-9722-482b-91aa-1a823763d836',\n",
       "                        [{\"alignmentgroup\": \"True\", \"hovertemplate\": \"Name=%{x}<br>Confirmed=%{y}<extra></extra>\", \"legendgroup\": \"\", \"marker\": {\"color\": \"#636efa\"}, \"name\": \"\", \"offsetgroup\": \"\", \"orientation\": \"v\", \"showlegend\": false, \"textposition\": \"auto\", \"type\": \"bar\", \"x\": [\"TOTAL\", \"\\u2605  United States\", \"\\u2605  Brazil\", \"\\u2605  India\", \"\\u2605  Russia\", \"\\u2605  South Africa\", \"\\u2605  Peru\", \"\\u2605  Mexico\", \"\\u2605  Colombia\", \"\\u2605  Chile\", \"\\u2605  Spain\", \"\\u2605  Iran\", \"\\u2605  Argentina\", \"\\u2605  United Kingdom\", \"\\u2605  Saudi Arabia\", \"\\u2605  Pakistan\", \"\\u2605  Bangladesh\", \"\\u2605  France\", \"\\u2605  Italy\", \"\\u2605  Turkey\"], \"xaxis\": \"x\", \"y\": [23121366, 5796727, 3536488, 2975701, 946976, 603338, 576067, 549734, 522138, 393769, 386054, 354764, 329043, 323313, 305186, 292174, 290360, 257333, 257065, 255723], \"yaxis\": \"y\"}],\n",
       "                        {\"barmode\": \"relative\", \"legend\": {\"tracegroupgap\": 0}, \"margin\": {\"t\": 60}, \"template\": {\"data\": {\"bar\": [{\"error_x\": {\"color\": \"#2a3f5f\"}, \"error_y\": {\"color\": \"#2a3f5f\"}, \"marker\": {\"line\": {\"color\": \"#E5ECF6\", \"width\": 0.5}}, \"type\": \"bar\"}], \"barpolar\": [{\"marker\": {\"line\": {\"color\": \"#E5ECF6\", \"width\": 0.5}}, \"type\": \"barpolar\"}], \"carpet\": [{\"aaxis\": {\"endlinecolor\": \"#2a3f5f\", \"gridcolor\": \"white\", \"linecolor\": \"white\", \"minorgridcolor\": \"white\", \"startlinecolor\": \"#2a3f5f\"}, \"baxis\": {\"endlinecolor\": \"#2a3f5f\", \"gridcolor\": \"white\", \"linecolor\": \"white\", \"minorgridcolor\": \"white\", \"startlinecolor\": \"#2a3f5f\"}, \"type\": \"carpet\"}], \"choropleth\": [{\"colorbar\": {\"outlinewidth\": 0, \"ticks\": \"\"}, \"type\": \"choropleth\"}], \"contour\": [{\"colorbar\": {\"outlinewidth\": 0, \"ticks\": \"\"}, \"colorscale\": [[0.0, \"#0d0887\"], [0.1111111111111111, \"#46039f\"], [0.2222222222222222, \"#7201a8\"], [0.3333333333333333, \"#9c179e\"], [0.4444444444444444, \"#bd3786\"], [0.5555555555555556, \"#d8576b\"], [0.6666666666666666, \"#ed7953\"], [0.7777777777777778, \"#fb9f3a\"], [0.8888888888888888, \"#fdca26\"], [1.0, \"#f0f921\"]], \"type\": \"contour\"}], \"contourcarpet\": [{\"colorbar\": {\"outlinewidth\": 0, \"ticks\": \"\"}, \"type\": \"contourcarpet\"}], \"heatmap\": [{\"colorbar\": {\"outlinewidth\": 0, \"ticks\": \"\"}, \"colorscale\": [[0.0, \"#0d0887\"], [0.1111111111111111, \"#46039f\"], [0.2222222222222222, \"#7201a8\"], [0.3333333333333333, \"#9c179e\"], [0.4444444444444444, \"#bd3786\"], [0.5555555555555556, \"#d8576b\"], [0.6666666666666666, \"#ed7953\"], [0.7777777777777778, \"#fb9f3a\"], [0.8888888888888888, \"#fdca26\"], [1.0, \"#f0f921\"]], \"type\": \"heatmap\"}], \"heatmapgl\": [{\"colorbar\": {\"outlinewidth\": 0, \"ticks\": \"\"}, \"colorscale\": [[0.0, \"#0d0887\"], [0.1111111111111111, \"#46039f\"], [0.2222222222222222, \"#7201a8\"], [0.3333333333333333, \"#9c179e\"], [0.4444444444444444, \"#bd3786\"], [0.5555555555555556, \"#d8576b\"], [0.6666666666666666, \"#ed7953\"], [0.7777777777777778, \"#fb9f3a\"], [0.8888888888888888, \"#fdca26\"], [1.0, \"#f0f921\"]], \"type\": \"heatmapgl\"}], \"histogram\": [{\"marker\": {\"colorbar\": {\"outlinewidth\": 0, \"ticks\": \"\"}}, \"type\": \"histogram\"}], \"histogram2d\": [{\"colorbar\": {\"outlinewidth\": 0, \"ticks\": \"\"}, \"colorscale\": [[0.0, \"#0d0887\"], [0.1111111111111111, \"#46039f\"], [0.2222222222222222, \"#7201a8\"], [0.3333333333333333, \"#9c179e\"], [0.4444444444444444, \"#bd3786\"], [0.5555555555555556, \"#d8576b\"], [0.6666666666666666, \"#ed7953\"], [0.7777777777777778, \"#fb9f3a\"], [0.8888888888888888, \"#fdca26\"], [1.0, \"#f0f921\"]], \"type\": \"histogram2d\"}], \"histogram2dcontour\": [{\"colorbar\": {\"outlinewidth\": 0, \"ticks\": \"\"}, \"colorscale\": [[0.0, \"#0d0887\"], [0.1111111111111111, \"#46039f\"], [0.2222222222222222, \"#7201a8\"], [0.3333333333333333, \"#9c179e\"], [0.4444444444444444, \"#bd3786\"], [0.5555555555555556, \"#d8576b\"], [0.6666666666666666, \"#ed7953\"], [0.7777777777777778, \"#fb9f3a\"], [0.8888888888888888, \"#fdca26\"], [1.0, \"#f0f921\"]], \"type\": \"histogram2dcontour\"}], \"mesh3d\": [{\"colorbar\": {\"outlinewidth\": 0, \"ticks\": \"\"}, \"type\": \"mesh3d\"}], \"parcoords\": [{\"line\": {\"colorbar\": {\"outlinewidth\": 0, \"ticks\": \"\"}}, \"type\": \"parcoords\"}], \"pie\": [{\"automargin\": true, \"type\": \"pie\"}], \"scatter\": [{\"marker\": {\"colorbar\": {\"outlinewidth\": 0, \"ticks\": \"\"}}, \"type\": \"scatter\"}], \"scatter3d\": [{\"line\": {\"colorbar\": {\"outlinewidth\": 0, \"ticks\": \"\"}}, \"marker\": {\"colorbar\": {\"outlinewidth\": 0, \"ticks\": \"\"}}, \"type\": \"scatter3d\"}], \"scattercarpet\": [{\"marker\": {\"colorbar\": {\"outlinewidth\": 0, \"ticks\": \"\"}}, \"type\": \"scattercarpet\"}], \"scattergeo\": [{\"marker\": {\"colorbar\": {\"outlinewidth\": 0, \"ticks\": \"\"}}, \"type\": \"scattergeo\"}], \"scattergl\": [{\"marker\": {\"colorbar\": {\"outlinewidth\": 0, \"ticks\": \"\"}}, \"type\": \"scattergl\"}], \"scattermapbox\": [{\"marker\": {\"colorbar\": {\"outlinewidth\": 0, \"ticks\": \"\"}}, \"type\": \"scattermapbox\"}], \"scatterpolar\": [{\"marker\": {\"colorbar\": {\"outlinewidth\": 0, \"ticks\": \"\"}}, \"type\": \"scatterpolar\"}], \"scatterpolargl\": [{\"marker\": {\"colorbar\": {\"outlinewidth\": 0, \"ticks\": \"\"}}, \"type\": \"scatterpolargl\"}], \"scatterternary\": [{\"marker\": {\"colorbar\": {\"outlinewidth\": 0, \"ticks\": \"\"}}, \"type\": \"scatterternary\"}], \"surface\": [{\"colorbar\": {\"outlinewidth\": 0, \"ticks\": \"\"}, \"colorscale\": [[0.0, \"#0d0887\"], [0.1111111111111111, \"#46039f\"], [0.2222222222222222, \"#7201a8\"], [0.3333333333333333, \"#9c179e\"], [0.4444444444444444, \"#bd3786\"], [0.5555555555555556, \"#d8576b\"], [0.6666666666666666, \"#ed7953\"], [0.7777777777777778, \"#fb9f3a\"], [0.8888888888888888, \"#fdca26\"], [1.0, \"#f0f921\"]], \"type\": \"surface\"}], \"table\": [{\"cells\": {\"fill\": {\"color\": \"#EBF0F8\"}, \"line\": {\"color\": \"white\"}}, \"header\": {\"fill\": {\"color\": \"#C8D4E3\"}, \"line\": {\"color\": \"white\"}}, \"type\": \"table\"}]}, \"layout\": {\"annotationdefaults\": {\"arrowcolor\": \"#2a3f5f\", \"arrowhead\": 0, \"arrowwidth\": 1}, \"coloraxis\": {\"colorbar\": {\"outlinewidth\": 0, \"ticks\": \"\"}}, \"colorscale\": {\"diverging\": [[0, \"#8e0152\"], [0.1, \"#c51b7d\"], [0.2, \"#de77ae\"], [0.3, \"#f1b6da\"], [0.4, \"#fde0ef\"], [0.5, \"#f7f7f7\"], [0.6, \"#e6f5d0\"], [0.7, \"#b8e186\"], [0.8, \"#7fbc41\"], [0.9, \"#4d9221\"], [1, \"#276419\"]], \"sequential\": [[0.0, \"#0d0887\"], [0.1111111111111111, \"#46039f\"], [0.2222222222222222, \"#7201a8\"], [0.3333333333333333, \"#9c179e\"], [0.4444444444444444, \"#bd3786\"], [0.5555555555555556, \"#d8576b\"], [0.6666666666666666, \"#ed7953\"], [0.7777777777777778, \"#fb9f3a\"], [0.8888888888888888, \"#fdca26\"], [1.0, \"#f0f921\"]], \"sequentialminus\": [[0.0, \"#0d0887\"], [0.1111111111111111, \"#46039f\"], [0.2222222222222222, \"#7201a8\"], [0.3333333333333333, \"#9c179e\"], [0.4444444444444444, \"#bd3786\"], [0.5555555555555556, \"#d8576b\"], [0.6666666666666666, \"#ed7953\"], [0.7777777777777778, \"#fb9f3a\"], [0.8888888888888888, \"#fdca26\"], [1.0, \"#f0f921\"]]}, \"colorway\": [\"#636efa\", \"#EF553B\", \"#00cc96\", \"#ab63fa\", \"#FFA15A\", \"#19d3f3\", \"#FF6692\", \"#B6E880\", \"#FF97FF\", \"#FECB52\"], \"font\": {\"color\": \"#2a3f5f\"}, \"geo\": {\"bgcolor\": \"white\", \"lakecolor\": \"white\", \"landcolor\": \"#E5ECF6\", \"showlakes\": true, \"showland\": true, \"subunitcolor\": \"white\"}, \"hoverlabel\": {\"align\": \"left\"}, \"hovermode\": \"closest\", \"mapbox\": {\"style\": \"light\"}, \"paper_bgcolor\": \"white\", \"plot_bgcolor\": \"#E5ECF6\", \"polar\": {\"angularaxis\": {\"gridcolor\": \"white\", \"linecolor\": \"white\", \"ticks\": \"\"}, \"bgcolor\": \"#E5ECF6\", \"radialaxis\": {\"gridcolor\": \"white\", \"linecolor\": \"white\", \"ticks\": \"\"}}, \"scene\": {\"xaxis\": {\"backgroundcolor\": \"#E5ECF6\", \"gridcolor\": \"white\", \"gridwidth\": 2, \"linecolor\": \"white\", \"showbackground\": true, \"ticks\": \"\", \"zerolinecolor\": \"white\"}, \"yaxis\": {\"backgroundcolor\": \"#E5ECF6\", \"gridcolor\": \"white\", \"gridwidth\": 2, \"linecolor\": \"white\", \"showbackground\": true, \"ticks\": \"\", \"zerolinecolor\": \"white\"}, \"zaxis\": {\"backgroundcolor\": \"#E5ECF6\", \"gridcolor\": \"white\", \"gridwidth\": 2, \"linecolor\": \"white\", \"showbackground\": true, \"ticks\": \"\", \"zerolinecolor\": \"white\"}}, \"shapedefaults\": {\"line\": {\"color\": \"#2a3f5f\"}}, \"ternary\": {\"aaxis\": {\"gridcolor\": \"white\", \"linecolor\": \"white\", \"ticks\": \"\"}, \"baxis\": {\"gridcolor\": \"white\", \"linecolor\": \"white\", \"ticks\": \"\"}, \"bgcolor\": \"#E5ECF6\", \"caxis\": {\"gridcolor\": \"white\", \"linecolor\": \"white\", \"ticks\": \"\"}}, \"title\": {\"x\": 0.05}, \"xaxis\": {\"automargin\": true, \"gridcolor\": \"white\", \"linecolor\": \"white\", \"ticks\": \"\", \"title\": {\"standoff\": 15}, \"zerolinecolor\": \"white\", \"zerolinewidth\": 2}, \"yaxis\": {\"automargin\": true, \"gridcolor\": \"white\", \"linecolor\": \"white\", \"ticks\": \"\", \"title\": {\"standoff\": 15}, \"zerolinecolor\": \"white\", \"zerolinewidth\": 2}}}, \"xaxis\": {\"anchor\": \"y\", \"domain\": [0.0, 1.0], \"title\": {\"text\": \"Name\"}}, \"yaxis\": {\"anchor\": \"x\", \"domain\": [0.0, 1.0], \"title\": {\"text\": \"Confirmed\"}}},\n",
       "                        {\"responsive\": true}\n",
       "                    ).then(function(){\n",
       "                            \n",
       "var gd = document.getElementById('f26d6438-9722-482b-91aa-1a823763d836');\n",
       "var x = new MutationObserver(function (mutations, observer) {{\n",
       "        var display = window.getComputedStyle(gd).display;\n",
       "        if (!display || display === 'none') {{\n",
       "            console.log([gd, 'removed!']);\n",
       "            Plotly.purge(gd);\n",
       "            observer.disconnect();\n",
       "        }}\n",
       "}});\n",
       "\n",
       "// Listen for the removal of the full notebook cells\n",
       "var notebookContainer = gd.closest('#notebook-container');\n",
       "if (notebookContainer) {{\n",
       "    x.observe(notebookContainer, {childList: true});\n",
       "}}\n",
       "\n",
       "// Listen for the clearing of the current output cell\n",
       "var outputEl = gd.closest('.output');\n",
       "if (outputEl) {{\n",
       "    x.observe(outputEl, {childList: true});\n",
       "}}\n",
       "\n",
       "                        })\n",
       "                };\n",
       "                });\n",
       "            </script>\n",
       "        </div>"
      ]
     },
     "metadata": {},
     "output_type": "display_data"
    }
   ],
   "source": [
    "# Lets plot top 20 countries based on confirmed cases.\n",
    "\n",
    "world_fig = px.bar(world_df.head(20), x = \"Name\" , y = 'Confirmed')\n",
    "world_fig.show()"
   ]
  },
  {
   "cell_type": "markdown",
   "metadata": {},
   "source": [
    " - Now we can see United states holds number 1 position. (cough cough \"we don't wear masks\" - americans)\n",
    " - Brazil and India comes at the second and third position surpassing Russia respectively."
   ]
  },
  {
   "cell_type": "markdown",
   "metadata": {},
   "source": [
    "#### Now we'll try to explore the world_df in more details."
   ]
  },
  {
   "cell_type": "code",
   "execution_count": 133,
   "metadata": {},
   "outputs": [
    {
     "data": {
      "application/vnd.plotly.v1+json": {
       "config": {
        "plotlyServerURL": "https://plot.ly"
       },
       "data": [
        {
         "alignmentgroup": "True",
         "hovertemplate": "Deceased=803223<br>Name=%{x}<br>Confirmed=%{y}<extra></extra>",
         "legendgroup": "803223",
         "marker": {
          "color": "#636efa"
         },
         "name": "803223",
         "offsetgroup": "803223",
         "orientation": "v",
         "showlegend": true,
         "textposition": "auto",
         "type": "bar",
         "x": [
          "TOTAL"
         ],
         "xaxis": "x",
         "y": [
          23121366
         ],
         "yaxis": "y"
        },
        {
         "alignmentgroup": "True",
         "hovertemplate": "Deceased=179200<br>Name=%{x}<br>Confirmed=%{y}<extra></extra>",
         "legendgroup": "179200",
         "marker": {
          "color": "#EF553B"
         },
         "name": "179200",
         "offsetgroup": "179200",
         "orientation": "v",
         "showlegend": true,
         "textposition": "auto",
         "type": "bar",
         "x": [
          "★  United States"
         ],
         "xaxis": "x",
         "y": [
          5796727
         ],
         "yaxis": "y"
        },
        {
         "alignmentgroup": "True",
         "hovertemplate": "Deceased=113454<br>Name=%{x}<br>Confirmed=%{y}<extra></extra>",
         "legendgroup": "113454",
         "marker": {
          "color": "#00cc96"
         },
         "name": "113454",
         "offsetgroup": "113454",
         "orientation": "v",
         "showlegend": true,
         "textposition": "auto",
         "type": "bar",
         "x": [
          "★  Brazil"
         ],
         "xaxis": "x",
         "y": [
          3536488
         ],
         "yaxis": "y"
        },
        {
         "alignmentgroup": "True",
         "hovertemplate": "Deceased=55928<br>Name=%{x}<br>Confirmed=%{y}<extra></extra>",
         "legendgroup": "55928",
         "marker": {
          "color": "#ab63fa"
         },
         "name": "55928",
         "offsetgroup": "55928",
         "orientation": "v",
         "showlegend": true,
         "textposition": "auto",
         "type": "bar",
         "x": [
          "★  India"
         ],
         "xaxis": "x",
         "y": [
          2975701
         ],
         "yaxis": "y"
        },
        {
         "alignmentgroup": "True",
         "hovertemplate": "Deceased=16189<br>Name=%{x}<br>Confirmed=%{y}<extra></extra>",
         "legendgroup": "16189",
         "marker": {
          "color": "#FFA15A"
         },
         "name": "16189",
         "offsetgroup": "16189",
         "orientation": "v",
         "showlegend": true,
         "textposition": "auto",
         "type": "bar",
         "x": [
          "★  Russia"
         ],
         "xaxis": "x",
         "y": [
          946976
         ],
         "yaxis": "y"
        },
        {
         "alignmentgroup": "True",
         "hovertemplate": "Deceased=12843<br>Name=%{x}<br>Confirmed=%{y}<extra></extra>",
         "legendgroup": "12843",
         "marker": {
          "color": "#19d3f3"
         },
         "name": "12843",
         "offsetgroup": "12843",
         "orientation": "v",
         "showlegend": true,
         "textposition": "auto",
         "type": "bar",
         "x": [
          "★  South Africa"
         ],
         "xaxis": "x",
         "y": [
          603338
         ],
         "yaxis": "y"
        },
        {
         "alignmentgroup": "True",
         "hovertemplate": "Deceased=27245<br>Name=%{x}<br>Confirmed=%{y}<extra></extra>",
         "legendgroup": "27245",
         "marker": {
          "color": "#FF6692"
         },
         "name": "27245",
         "offsetgroup": "27245",
         "orientation": "v",
         "showlegend": true,
         "textposition": "auto",
         "type": "bar",
         "x": [
          "★  Peru"
         ],
         "xaxis": "x",
         "y": [
          576067
         ],
         "yaxis": "y"
        },
        {
         "alignmentgroup": "True",
         "hovertemplate": "Deceased=59610<br>Name=%{x}<br>Confirmed=%{y}<extra></extra>",
         "legendgroup": "59610",
         "marker": {
          "color": "#B6E880"
         },
         "name": "59610",
         "offsetgroup": "59610",
         "orientation": "v",
         "showlegend": true,
         "textposition": "auto",
         "type": "bar",
         "x": [
          "★  Mexico"
         ],
         "xaxis": "x",
         "y": [
          549734
         ],
         "yaxis": "y"
        },
        {
         "alignmentgroup": "True",
         "hovertemplate": "Deceased=16568<br>Name=%{x}<br>Confirmed=%{y}<extra></extra>",
         "legendgroup": "16568",
         "marker": {
          "color": "#FF97FF"
         },
         "name": "16568",
         "offsetgroup": "16568",
         "orientation": "v",
         "showlegend": true,
         "textposition": "auto",
         "type": "bar",
         "x": [
          "★  Colombia"
         ],
         "xaxis": "x",
         "y": [
          522138
         ],
         "yaxis": "y"
        },
        {
         "alignmentgroup": "True",
         "hovertemplate": "Deceased=10723<br>Name=%{x}<br>Confirmed=%{y}<extra></extra>",
         "legendgroup": "10723",
         "marker": {
          "color": "#FECB52"
         },
         "name": "10723",
         "offsetgroup": "10723",
         "orientation": "v",
         "showlegend": true,
         "textposition": "auto",
         "type": "bar",
         "x": [
          "★  Chile"
         ],
         "xaxis": "x",
         "y": [
          393769
         ],
         "yaxis": "y"
        },
        {
         "alignmentgroup": "True",
         "hovertemplate": "Deceased=28838<br>Name=%{x}<br>Confirmed=%{y}<extra></extra>",
         "legendgroup": "28838",
         "marker": {
          "color": "#636efa"
         },
         "name": "28838",
         "offsetgroup": "28838",
         "orientation": "v",
         "showlegend": true,
         "textposition": "auto",
         "type": "bar",
         "x": [
          "★  Spain"
         ],
         "xaxis": "x",
         "y": [
          386054
         ],
         "yaxis": "y"
        },
        {
         "alignmentgroup": "True",
         "hovertemplate": "Deceased=20376<br>Name=%{x}<br>Confirmed=%{y}<extra></extra>",
         "legendgroup": "20376",
         "marker": {
          "color": "#EF553B"
         },
         "name": "20376",
         "offsetgroup": "20376",
         "orientation": "v",
         "showlegend": true,
         "textposition": "auto",
         "type": "bar",
         "x": [
          "★  Iran"
         ],
         "xaxis": "x",
         "y": [
          354764
         ],
         "yaxis": "y"
        },
        {
         "alignmentgroup": "True",
         "hovertemplate": "Deceased=6730<br>Name=%{x}<br>Confirmed=%{y}<extra></extra>",
         "legendgroup": "6730",
         "marker": {
          "color": "#00cc96"
         },
         "name": "6730",
         "offsetgroup": "6730",
         "orientation": "v",
         "showlegend": true,
         "textposition": "auto",
         "type": "bar",
         "x": [
          "★  Argentina"
         ],
         "xaxis": "x",
         "y": [
          329043
         ],
         "yaxis": "y"
        },
        {
         "alignmentgroup": "True",
         "hovertemplate": "Deceased=41405<br>Name=%{x}<br>Confirmed=%{y}<extra></extra>",
         "legendgroup": "41405",
         "marker": {
          "color": "#ab63fa"
         },
         "name": "41405",
         "offsetgroup": "41405",
         "orientation": "v",
         "showlegend": true,
         "textposition": "auto",
         "type": "bar",
         "x": [
          "★  United Kingdom"
         ],
         "xaxis": "x",
         "y": [
          323313
         ],
         "yaxis": "y"
        },
        {
         "alignmentgroup": "True",
         "hovertemplate": "Deceased=3580<br>Name=%{x}<br>Confirmed=%{y}<extra></extra>",
         "legendgroup": "3580",
         "marker": {
          "color": "#FFA15A"
         },
         "name": "3580",
         "offsetgroup": "3580",
         "orientation": "v",
         "showlegend": true,
         "textposition": "auto",
         "type": "bar",
         "x": [
          "★  Saudi Arabia"
         ],
         "xaxis": "x",
         "y": [
          305186
         ],
         "yaxis": "y"
        },
        {
         "alignmentgroup": "True",
         "hovertemplate": "Deceased=6231<br>Name=%{x}<br>Confirmed=%{y}<extra></extra>",
         "legendgroup": "6231",
         "marker": {
          "color": "#19d3f3"
         },
         "name": "6231",
         "offsetgroup": "6231",
         "orientation": "v",
         "showlegend": true,
         "textposition": "auto",
         "type": "bar",
         "x": [
          "★  Pakistan"
         ],
         "xaxis": "x",
         "y": [
          292174
         ],
         "yaxis": "y"
        },
        {
         "alignmentgroup": "True",
         "hovertemplate": "Deceased=3861<br>Name=%{x}<br>Confirmed=%{y}<extra></extra>",
         "legendgroup": "3861",
         "marker": {
          "color": "#FF6692"
         },
         "name": "3861",
         "offsetgroup": "3861",
         "orientation": "v",
         "showlegend": true,
         "textposition": "auto",
         "type": "bar",
         "x": [
          "★  Bangladesh"
         ],
         "xaxis": "x",
         "y": [
          290360
         ],
         "yaxis": "y"
        },
        {
         "alignmentgroup": "True",
         "hovertemplate": "Deceased=30503<br>Name=%{x}<br>Confirmed=%{y}<extra></extra>",
         "legendgroup": "30503",
         "marker": {
          "color": "#B6E880"
         },
         "name": "30503",
         "offsetgroup": "30503",
         "orientation": "v",
         "showlegend": true,
         "textposition": "auto",
         "type": "bar",
         "x": [
          "★  France"
         ],
         "xaxis": "x",
         "y": [
          257333
         ],
         "yaxis": "y"
        },
        {
         "alignmentgroup": "True",
         "hovertemplate": "Deceased=35427<br>Name=%{x}<br>Confirmed=%{y}<extra></extra>",
         "legendgroup": "35427",
         "marker": {
          "color": "#FF97FF"
         },
         "name": "35427",
         "offsetgroup": "35427",
         "orientation": "v",
         "showlegend": true,
         "textposition": "auto",
         "type": "bar",
         "x": [
          "★  Italy"
         ],
         "xaxis": "x",
         "y": [
          257065
         ],
         "yaxis": "y"
        },
        {
         "alignmentgroup": "True",
         "hovertemplate": "Deceased=6080<br>Name=%{x}<br>Confirmed=%{y}<extra></extra>",
         "legendgroup": "6080",
         "marker": {
          "color": "#FECB52"
         },
         "name": "6080",
         "offsetgroup": "6080",
         "orientation": "v",
         "showlegend": true,
         "textposition": "auto",
         "type": "bar",
         "x": [
          "★  Turkey"
         ],
         "xaxis": "x",
         "y": [
          255723
         ],
         "yaxis": "y"
        }
       ],
       "layout": {
        "barmode": "relative",
        "legend": {
         "title": {
          "text": "Deceased"
         },
         "tracegroupgap": 0
        },
        "margin": {
         "t": 60
        },
        "template": {
         "data": {
          "bar": [
           {
            "error_x": {
             "color": "#2a3f5f"
            },
            "error_y": {
             "color": "#2a3f5f"
            },
            "marker": {
             "line": {
              "color": "#E5ECF6",
              "width": 0.5
             }
            },
            "type": "bar"
           }
          ],
          "barpolar": [
           {
            "marker": {
             "line": {
              "color": "#E5ECF6",
              "width": 0.5
             }
            },
            "type": "barpolar"
           }
          ],
          "carpet": [
           {
            "aaxis": {
             "endlinecolor": "#2a3f5f",
             "gridcolor": "white",
             "linecolor": "white",
             "minorgridcolor": "white",
             "startlinecolor": "#2a3f5f"
            },
            "baxis": {
             "endlinecolor": "#2a3f5f",
             "gridcolor": "white",
             "linecolor": "white",
             "minorgridcolor": "white",
             "startlinecolor": "#2a3f5f"
            },
            "type": "carpet"
           }
          ],
          "choropleth": [
           {
            "colorbar": {
             "outlinewidth": 0,
             "ticks": ""
            },
            "type": "choropleth"
           }
          ],
          "contour": [
           {
            "colorbar": {
             "outlinewidth": 0,
             "ticks": ""
            },
            "colorscale": [
             [
              0,
              "#0d0887"
             ],
             [
              0.1111111111111111,
              "#46039f"
             ],
             [
              0.2222222222222222,
              "#7201a8"
             ],
             [
              0.3333333333333333,
              "#9c179e"
             ],
             [
              0.4444444444444444,
              "#bd3786"
             ],
             [
              0.5555555555555556,
              "#d8576b"
             ],
             [
              0.6666666666666666,
              "#ed7953"
             ],
             [
              0.7777777777777778,
              "#fb9f3a"
             ],
             [
              0.8888888888888888,
              "#fdca26"
             ],
             [
              1,
              "#f0f921"
             ]
            ],
            "type": "contour"
           }
          ],
          "contourcarpet": [
           {
            "colorbar": {
             "outlinewidth": 0,
             "ticks": ""
            },
            "type": "contourcarpet"
           }
          ],
          "heatmap": [
           {
            "colorbar": {
             "outlinewidth": 0,
             "ticks": ""
            },
            "colorscale": [
             [
              0,
              "#0d0887"
             ],
             [
              0.1111111111111111,
              "#46039f"
             ],
             [
              0.2222222222222222,
              "#7201a8"
             ],
             [
              0.3333333333333333,
              "#9c179e"
             ],
             [
              0.4444444444444444,
              "#bd3786"
             ],
             [
              0.5555555555555556,
              "#d8576b"
             ],
             [
              0.6666666666666666,
              "#ed7953"
             ],
             [
              0.7777777777777778,
              "#fb9f3a"
             ],
             [
              0.8888888888888888,
              "#fdca26"
             ],
             [
              1,
              "#f0f921"
             ]
            ],
            "type": "heatmap"
           }
          ],
          "heatmapgl": [
           {
            "colorbar": {
             "outlinewidth": 0,
             "ticks": ""
            },
            "colorscale": [
             [
              0,
              "#0d0887"
             ],
             [
              0.1111111111111111,
              "#46039f"
             ],
             [
              0.2222222222222222,
              "#7201a8"
             ],
             [
              0.3333333333333333,
              "#9c179e"
             ],
             [
              0.4444444444444444,
              "#bd3786"
             ],
             [
              0.5555555555555556,
              "#d8576b"
             ],
             [
              0.6666666666666666,
              "#ed7953"
             ],
             [
              0.7777777777777778,
              "#fb9f3a"
             ],
             [
              0.8888888888888888,
              "#fdca26"
             ],
             [
              1,
              "#f0f921"
             ]
            ],
            "type": "heatmapgl"
           }
          ],
          "histogram": [
           {
            "marker": {
             "colorbar": {
              "outlinewidth": 0,
              "ticks": ""
             }
            },
            "type": "histogram"
           }
          ],
          "histogram2d": [
           {
            "colorbar": {
             "outlinewidth": 0,
             "ticks": ""
            },
            "colorscale": [
             [
              0,
              "#0d0887"
             ],
             [
              0.1111111111111111,
              "#46039f"
             ],
             [
              0.2222222222222222,
              "#7201a8"
             ],
             [
              0.3333333333333333,
              "#9c179e"
             ],
             [
              0.4444444444444444,
              "#bd3786"
             ],
             [
              0.5555555555555556,
              "#d8576b"
             ],
             [
              0.6666666666666666,
              "#ed7953"
             ],
             [
              0.7777777777777778,
              "#fb9f3a"
             ],
             [
              0.8888888888888888,
              "#fdca26"
             ],
             [
              1,
              "#f0f921"
             ]
            ],
            "type": "histogram2d"
           }
          ],
          "histogram2dcontour": [
           {
            "colorbar": {
             "outlinewidth": 0,
             "ticks": ""
            },
            "colorscale": [
             [
              0,
              "#0d0887"
             ],
             [
              0.1111111111111111,
              "#46039f"
             ],
             [
              0.2222222222222222,
              "#7201a8"
             ],
             [
              0.3333333333333333,
              "#9c179e"
             ],
             [
              0.4444444444444444,
              "#bd3786"
             ],
             [
              0.5555555555555556,
              "#d8576b"
             ],
             [
              0.6666666666666666,
              "#ed7953"
             ],
             [
              0.7777777777777778,
              "#fb9f3a"
             ],
             [
              0.8888888888888888,
              "#fdca26"
             ],
             [
              1,
              "#f0f921"
             ]
            ],
            "type": "histogram2dcontour"
           }
          ],
          "mesh3d": [
           {
            "colorbar": {
             "outlinewidth": 0,
             "ticks": ""
            },
            "type": "mesh3d"
           }
          ],
          "parcoords": [
           {
            "line": {
             "colorbar": {
              "outlinewidth": 0,
              "ticks": ""
             }
            },
            "type": "parcoords"
           }
          ],
          "pie": [
           {
            "automargin": true,
            "type": "pie"
           }
          ],
          "scatter": [
           {
            "marker": {
             "colorbar": {
              "outlinewidth": 0,
              "ticks": ""
             }
            },
            "type": "scatter"
           }
          ],
          "scatter3d": [
           {
            "line": {
             "colorbar": {
              "outlinewidth": 0,
              "ticks": ""
             }
            },
            "marker": {
             "colorbar": {
              "outlinewidth": 0,
              "ticks": ""
             }
            },
            "type": "scatter3d"
           }
          ],
          "scattercarpet": [
           {
            "marker": {
             "colorbar": {
              "outlinewidth": 0,
              "ticks": ""
             }
            },
            "type": "scattercarpet"
           }
          ],
          "scattergeo": [
           {
            "marker": {
             "colorbar": {
              "outlinewidth": 0,
              "ticks": ""
             }
            },
            "type": "scattergeo"
           }
          ],
          "scattergl": [
           {
            "marker": {
             "colorbar": {
              "outlinewidth": 0,
              "ticks": ""
             }
            },
            "type": "scattergl"
           }
          ],
          "scattermapbox": [
           {
            "marker": {
             "colorbar": {
              "outlinewidth": 0,
              "ticks": ""
             }
            },
            "type": "scattermapbox"
           }
          ],
          "scatterpolar": [
           {
            "marker": {
             "colorbar": {
              "outlinewidth": 0,
              "ticks": ""
             }
            },
            "type": "scatterpolar"
           }
          ],
          "scatterpolargl": [
           {
            "marker": {
             "colorbar": {
              "outlinewidth": 0,
              "ticks": ""
             }
            },
            "type": "scatterpolargl"
           }
          ],
          "scatterternary": [
           {
            "marker": {
             "colorbar": {
              "outlinewidth": 0,
              "ticks": ""
             }
            },
            "type": "scatterternary"
           }
          ],
          "surface": [
           {
            "colorbar": {
             "outlinewidth": 0,
             "ticks": ""
            },
            "colorscale": [
             [
              0,
              "#0d0887"
             ],
             [
              0.1111111111111111,
              "#46039f"
             ],
             [
              0.2222222222222222,
              "#7201a8"
             ],
             [
              0.3333333333333333,
              "#9c179e"
             ],
             [
              0.4444444444444444,
              "#bd3786"
             ],
             [
              0.5555555555555556,
              "#d8576b"
             ],
             [
              0.6666666666666666,
              "#ed7953"
             ],
             [
              0.7777777777777778,
              "#fb9f3a"
             ],
             [
              0.8888888888888888,
              "#fdca26"
             ],
             [
              1,
              "#f0f921"
             ]
            ],
            "type": "surface"
           }
          ],
          "table": [
           {
            "cells": {
             "fill": {
              "color": "#EBF0F8"
             },
             "line": {
              "color": "white"
             }
            },
            "header": {
             "fill": {
              "color": "#C8D4E3"
             },
             "line": {
              "color": "white"
             }
            },
            "type": "table"
           }
          ]
         },
         "layout": {
          "annotationdefaults": {
           "arrowcolor": "#2a3f5f",
           "arrowhead": 0,
           "arrowwidth": 1
          },
          "coloraxis": {
           "colorbar": {
            "outlinewidth": 0,
            "ticks": ""
           }
          },
          "colorscale": {
           "diverging": [
            [
             0,
             "#8e0152"
            ],
            [
             0.1,
             "#c51b7d"
            ],
            [
             0.2,
             "#de77ae"
            ],
            [
             0.3,
             "#f1b6da"
            ],
            [
             0.4,
             "#fde0ef"
            ],
            [
             0.5,
             "#f7f7f7"
            ],
            [
             0.6,
             "#e6f5d0"
            ],
            [
             0.7,
             "#b8e186"
            ],
            [
             0.8,
             "#7fbc41"
            ],
            [
             0.9,
             "#4d9221"
            ],
            [
             1,
             "#276419"
            ]
           ],
           "sequential": [
            [
             0,
             "#0d0887"
            ],
            [
             0.1111111111111111,
             "#46039f"
            ],
            [
             0.2222222222222222,
             "#7201a8"
            ],
            [
             0.3333333333333333,
             "#9c179e"
            ],
            [
             0.4444444444444444,
             "#bd3786"
            ],
            [
             0.5555555555555556,
             "#d8576b"
            ],
            [
             0.6666666666666666,
             "#ed7953"
            ],
            [
             0.7777777777777778,
             "#fb9f3a"
            ],
            [
             0.8888888888888888,
             "#fdca26"
            ],
            [
             1,
             "#f0f921"
            ]
           ],
           "sequentialminus": [
            [
             0,
             "#0d0887"
            ],
            [
             0.1111111111111111,
             "#46039f"
            ],
            [
             0.2222222222222222,
             "#7201a8"
            ],
            [
             0.3333333333333333,
             "#9c179e"
            ],
            [
             0.4444444444444444,
             "#bd3786"
            ],
            [
             0.5555555555555556,
             "#d8576b"
            ],
            [
             0.6666666666666666,
             "#ed7953"
            ],
            [
             0.7777777777777778,
             "#fb9f3a"
            ],
            [
             0.8888888888888888,
             "#fdca26"
            ],
            [
             1,
             "#f0f921"
            ]
           ]
          },
          "colorway": [
           "#636efa",
           "#EF553B",
           "#00cc96",
           "#ab63fa",
           "#FFA15A",
           "#19d3f3",
           "#FF6692",
           "#B6E880",
           "#FF97FF",
           "#FECB52"
          ],
          "font": {
           "color": "#2a3f5f"
          },
          "geo": {
           "bgcolor": "white",
           "lakecolor": "white",
           "landcolor": "#E5ECF6",
           "showlakes": true,
           "showland": true,
           "subunitcolor": "white"
          },
          "hoverlabel": {
           "align": "left"
          },
          "hovermode": "closest",
          "mapbox": {
           "style": "light"
          },
          "paper_bgcolor": "white",
          "plot_bgcolor": "#E5ECF6",
          "polar": {
           "angularaxis": {
            "gridcolor": "white",
            "linecolor": "white",
            "ticks": ""
           },
           "bgcolor": "#E5ECF6",
           "radialaxis": {
            "gridcolor": "white",
            "linecolor": "white",
            "ticks": ""
           }
          },
          "scene": {
           "xaxis": {
            "backgroundcolor": "#E5ECF6",
            "gridcolor": "white",
            "gridwidth": 2,
            "linecolor": "white",
            "showbackground": true,
            "ticks": "",
            "zerolinecolor": "white"
           },
           "yaxis": {
            "backgroundcolor": "#E5ECF6",
            "gridcolor": "white",
            "gridwidth": 2,
            "linecolor": "white",
            "showbackground": true,
            "ticks": "",
            "zerolinecolor": "white"
           },
           "zaxis": {
            "backgroundcolor": "#E5ECF6",
            "gridcolor": "white",
            "gridwidth": 2,
            "linecolor": "white",
            "showbackground": true,
            "ticks": "",
            "zerolinecolor": "white"
           }
          },
          "shapedefaults": {
           "line": {
            "color": "#2a3f5f"
           }
          },
          "ternary": {
           "aaxis": {
            "gridcolor": "white",
            "linecolor": "white",
            "ticks": ""
           },
           "baxis": {
            "gridcolor": "white",
            "linecolor": "white",
            "ticks": ""
           },
           "bgcolor": "#E5ECF6",
           "caxis": {
            "gridcolor": "white",
            "linecolor": "white",
            "ticks": ""
           }
          },
          "title": {
           "x": 0.05
          },
          "xaxis": {
           "automargin": true,
           "gridcolor": "white",
           "linecolor": "white",
           "ticks": "",
           "title": {
            "standoff": 15
           },
           "zerolinecolor": "white",
           "zerolinewidth": 2
          },
          "yaxis": {
           "automargin": true,
           "gridcolor": "white",
           "linecolor": "white",
           "ticks": "",
           "title": {
            "standoff": 15
           },
           "zerolinecolor": "white",
           "zerolinewidth": 2
          }
         }
        },
        "xaxis": {
         "anchor": "y",
         "domain": [
          0,
          1
         ],
         "title": {
          "text": "Name"
         }
        },
        "yaxis": {
         "anchor": "x",
         "domain": [
          0,
          1
         ],
         "title": {
          "text": "Confirmed"
         }
        }
       }
      },
      "text/html": [
       "<div>\n",
       "        \n",
       "        \n",
       "            <div id=\"841c9045-a27e-4bbc-b334-ee7f0287bb07\" class=\"plotly-graph-div\" style=\"height:525px; width:100%;\"></div>\n",
       "            <script type=\"text/javascript\">\n",
       "                require([\"plotly\"], function(Plotly) {\n",
       "                    window.PLOTLYENV=window.PLOTLYENV || {};\n",
       "                    \n",
       "                if (document.getElementById(\"841c9045-a27e-4bbc-b334-ee7f0287bb07\")) {\n",
       "                    Plotly.newPlot(\n",
       "                        '841c9045-a27e-4bbc-b334-ee7f0287bb07',\n",
       "                        [{\"alignmentgroup\": \"True\", \"hovertemplate\": \"Deceased=803223<br>Name=%{x}<br>Confirmed=%{y}<extra></extra>\", \"legendgroup\": \"803223\", \"marker\": {\"color\": \"#636efa\"}, \"name\": \"803223\", \"offsetgroup\": \"803223\", \"orientation\": \"v\", \"showlegend\": true, \"textposition\": \"auto\", \"type\": \"bar\", \"x\": [\"TOTAL\"], \"xaxis\": \"x\", \"y\": [23121366], \"yaxis\": \"y\"}, {\"alignmentgroup\": \"True\", \"hovertemplate\": \"Deceased=179200<br>Name=%{x}<br>Confirmed=%{y}<extra></extra>\", \"legendgroup\": \"179200\", \"marker\": {\"color\": \"#EF553B\"}, \"name\": \"179200\", \"offsetgroup\": \"179200\", \"orientation\": \"v\", \"showlegend\": true, \"textposition\": \"auto\", \"type\": \"bar\", \"x\": [\"\\u2605  United States\"], \"xaxis\": \"x\", \"y\": [5796727], \"yaxis\": \"y\"}, {\"alignmentgroup\": \"True\", \"hovertemplate\": \"Deceased=113454<br>Name=%{x}<br>Confirmed=%{y}<extra></extra>\", \"legendgroup\": \"113454\", \"marker\": {\"color\": \"#00cc96\"}, \"name\": \"113454\", \"offsetgroup\": \"113454\", \"orientation\": \"v\", \"showlegend\": true, \"textposition\": \"auto\", \"type\": \"bar\", \"x\": [\"\\u2605  Brazil\"], \"xaxis\": \"x\", \"y\": [3536488], \"yaxis\": \"y\"}, {\"alignmentgroup\": \"True\", \"hovertemplate\": \"Deceased=55928<br>Name=%{x}<br>Confirmed=%{y}<extra></extra>\", \"legendgroup\": \"55928\", \"marker\": {\"color\": \"#ab63fa\"}, \"name\": \"55928\", \"offsetgroup\": \"55928\", \"orientation\": \"v\", \"showlegend\": true, \"textposition\": \"auto\", \"type\": \"bar\", \"x\": [\"\\u2605  India\"], \"xaxis\": \"x\", \"y\": [2975701], \"yaxis\": \"y\"}, {\"alignmentgroup\": \"True\", \"hovertemplate\": \"Deceased=16189<br>Name=%{x}<br>Confirmed=%{y}<extra></extra>\", \"legendgroup\": \"16189\", \"marker\": {\"color\": \"#FFA15A\"}, \"name\": \"16189\", \"offsetgroup\": \"16189\", \"orientation\": \"v\", \"showlegend\": true, \"textposition\": \"auto\", \"type\": \"bar\", \"x\": [\"\\u2605  Russia\"], \"xaxis\": \"x\", \"y\": [946976], \"yaxis\": \"y\"}, {\"alignmentgroup\": \"True\", \"hovertemplate\": \"Deceased=12843<br>Name=%{x}<br>Confirmed=%{y}<extra></extra>\", \"legendgroup\": \"12843\", \"marker\": {\"color\": \"#19d3f3\"}, \"name\": \"12843\", \"offsetgroup\": \"12843\", \"orientation\": \"v\", \"showlegend\": true, \"textposition\": \"auto\", \"type\": \"bar\", \"x\": [\"\\u2605  South Africa\"], \"xaxis\": \"x\", \"y\": [603338], \"yaxis\": \"y\"}, {\"alignmentgroup\": \"True\", \"hovertemplate\": \"Deceased=27245<br>Name=%{x}<br>Confirmed=%{y}<extra></extra>\", \"legendgroup\": \"27245\", \"marker\": {\"color\": \"#FF6692\"}, \"name\": \"27245\", \"offsetgroup\": \"27245\", \"orientation\": \"v\", \"showlegend\": true, \"textposition\": \"auto\", \"type\": \"bar\", \"x\": [\"\\u2605  Peru\"], \"xaxis\": \"x\", \"y\": [576067], \"yaxis\": \"y\"}, {\"alignmentgroup\": \"True\", \"hovertemplate\": \"Deceased=59610<br>Name=%{x}<br>Confirmed=%{y}<extra></extra>\", \"legendgroup\": \"59610\", \"marker\": {\"color\": \"#B6E880\"}, \"name\": \"59610\", \"offsetgroup\": \"59610\", \"orientation\": \"v\", \"showlegend\": true, \"textposition\": \"auto\", \"type\": \"bar\", \"x\": [\"\\u2605  Mexico\"], \"xaxis\": \"x\", \"y\": [549734], \"yaxis\": \"y\"}, {\"alignmentgroup\": \"True\", \"hovertemplate\": \"Deceased=16568<br>Name=%{x}<br>Confirmed=%{y}<extra></extra>\", \"legendgroup\": \"16568\", \"marker\": {\"color\": \"#FF97FF\"}, \"name\": \"16568\", \"offsetgroup\": \"16568\", \"orientation\": \"v\", \"showlegend\": true, \"textposition\": \"auto\", \"type\": \"bar\", \"x\": [\"\\u2605  Colombia\"], \"xaxis\": \"x\", \"y\": [522138], \"yaxis\": \"y\"}, {\"alignmentgroup\": \"True\", \"hovertemplate\": \"Deceased=10723<br>Name=%{x}<br>Confirmed=%{y}<extra></extra>\", \"legendgroup\": \"10723\", \"marker\": {\"color\": \"#FECB52\"}, \"name\": \"10723\", \"offsetgroup\": \"10723\", \"orientation\": \"v\", \"showlegend\": true, \"textposition\": \"auto\", \"type\": \"bar\", \"x\": [\"\\u2605  Chile\"], \"xaxis\": \"x\", \"y\": [393769], \"yaxis\": \"y\"}, {\"alignmentgroup\": \"True\", \"hovertemplate\": \"Deceased=28838<br>Name=%{x}<br>Confirmed=%{y}<extra></extra>\", \"legendgroup\": \"28838\", \"marker\": {\"color\": \"#636efa\"}, \"name\": \"28838\", \"offsetgroup\": \"28838\", \"orientation\": \"v\", \"showlegend\": true, \"textposition\": \"auto\", \"type\": \"bar\", \"x\": [\"\\u2605  Spain\"], \"xaxis\": \"x\", \"y\": [386054], \"yaxis\": \"y\"}, {\"alignmentgroup\": \"True\", \"hovertemplate\": \"Deceased=20376<br>Name=%{x}<br>Confirmed=%{y}<extra></extra>\", \"legendgroup\": \"20376\", \"marker\": {\"color\": \"#EF553B\"}, \"name\": \"20376\", \"offsetgroup\": \"20376\", \"orientation\": \"v\", \"showlegend\": true, \"textposition\": \"auto\", \"type\": \"bar\", \"x\": [\"\\u2605  Iran\"], \"xaxis\": \"x\", \"y\": [354764], \"yaxis\": \"y\"}, {\"alignmentgroup\": \"True\", \"hovertemplate\": \"Deceased=6730<br>Name=%{x}<br>Confirmed=%{y}<extra></extra>\", \"legendgroup\": \"6730\", \"marker\": {\"color\": \"#00cc96\"}, \"name\": \"6730\", \"offsetgroup\": \"6730\", \"orientation\": \"v\", \"showlegend\": true, \"textposition\": \"auto\", \"type\": \"bar\", \"x\": [\"\\u2605  Argentina\"], \"xaxis\": \"x\", \"y\": [329043], \"yaxis\": \"y\"}, {\"alignmentgroup\": \"True\", \"hovertemplate\": \"Deceased=41405<br>Name=%{x}<br>Confirmed=%{y}<extra></extra>\", \"legendgroup\": \"41405\", \"marker\": {\"color\": \"#ab63fa\"}, \"name\": \"41405\", \"offsetgroup\": \"41405\", \"orientation\": \"v\", \"showlegend\": true, \"textposition\": \"auto\", \"type\": \"bar\", \"x\": [\"\\u2605  United Kingdom\"], \"xaxis\": \"x\", \"y\": [323313], \"yaxis\": \"y\"}, {\"alignmentgroup\": \"True\", \"hovertemplate\": \"Deceased=3580<br>Name=%{x}<br>Confirmed=%{y}<extra></extra>\", \"legendgroup\": \"3580\", \"marker\": {\"color\": \"#FFA15A\"}, \"name\": \"3580\", \"offsetgroup\": \"3580\", \"orientation\": \"v\", \"showlegend\": true, \"textposition\": \"auto\", \"type\": \"bar\", \"x\": [\"\\u2605  Saudi Arabia\"], \"xaxis\": \"x\", \"y\": [305186], \"yaxis\": \"y\"}, {\"alignmentgroup\": \"True\", \"hovertemplate\": \"Deceased=6231<br>Name=%{x}<br>Confirmed=%{y}<extra></extra>\", \"legendgroup\": \"6231\", \"marker\": {\"color\": \"#19d3f3\"}, \"name\": \"6231\", \"offsetgroup\": \"6231\", \"orientation\": \"v\", \"showlegend\": true, \"textposition\": \"auto\", \"type\": \"bar\", \"x\": [\"\\u2605  Pakistan\"], \"xaxis\": \"x\", \"y\": [292174], \"yaxis\": \"y\"}, {\"alignmentgroup\": \"True\", \"hovertemplate\": \"Deceased=3861<br>Name=%{x}<br>Confirmed=%{y}<extra></extra>\", \"legendgroup\": \"3861\", \"marker\": {\"color\": \"#FF6692\"}, \"name\": \"3861\", \"offsetgroup\": \"3861\", \"orientation\": \"v\", \"showlegend\": true, \"textposition\": \"auto\", \"type\": \"bar\", \"x\": [\"\\u2605  Bangladesh\"], \"xaxis\": \"x\", \"y\": [290360], \"yaxis\": \"y\"}, {\"alignmentgroup\": \"True\", \"hovertemplate\": \"Deceased=30503<br>Name=%{x}<br>Confirmed=%{y}<extra></extra>\", \"legendgroup\": \"30503\", \"marker\": {\"color\": \"#B6E880\"}, \"name\": \"30503\", \"offsetgroup\": \"30503\", \"orientation\": \"v\", \"showlegend\": true, \"textposition\": \"auto\", \"type\": \"bar\", \"x\": [\"\\u2605  France\"], \"xaxis\": \"x\", \"y\": [257333], \"yaxis\": \"y\"}, {\"alignmentgroup\": \"True\", \"hovertemplate\": \"Deceased=35427<br>Name=%{x}<br>Confirmed=%{y}<extra></extra>\", \"legendgroup\": \"35427\", \"marker\": {\"color\": \"#FF97FF\"}, \"name\": \"35427\", \"offsetgroup\": \"35427\", \"orientation\": \"v\", \"showlegend\": true, \"textposition\": \"auto\", \"type\": \"bar\", \"x\": [\"\\u2605  Italy\"], \"xaxis\": \"x\", \"y\": [257065], \"yaxis\": \"y\"}, {\"alignmentgroup\": \"True\", \"hovertemplate\": \"Deceased=6080<br>Name=%{x}<br>Confirmed=%{y}<extra></extra>\", \"legendgroup\": \"6080\", \"marker\": {\"color\": \"#FECB52\"}, \"name\": \"6080\", \"offsetgroup\": \"6080\", \"orientation\": \"v\", \"showlegend\": true, \"textposition\": \"auto\", \"type\": \"bar\", \"x\": [\"\\u2605  Turkey\"], \"xaxis\": \"x\", \"y\": [255723], \"yaxis\": \"y\"}],\n",
       "                        {\"barmode\": \"relative\", \"legend\": {\"title\": {\"text\": \"Deceased\"}, \"tracegroupgap\": 0}, \"margin\": {\"t\": 60}, \"template\": {\"data\": {\"bar\": [{\"error_x\": {\"color\": \"#2a3f5f\"}, \"error_y\": {\"color\": \"#2a3f5f\"}, \"marker\": {\"line\": {\"color\": \"#E5ECF6\", \"width\": 0.5}}, \"type\": \"bar\"}], \"barpolar\": [{\"marker\": {\"line\": {\"color\": \"#E5ECF6\", \"width\": 0.5}}, \"type\": \"barpolar\"}], \"carpet\": [{\"aaxis\": {\"endlinecolor\": \"#2a3f5f\", \"gridcolor\": \"white\", \"linecolor\": \"white\", \"minorgridcolor\": \"white\", \"startlinecolor\": \"#2a3f5f\"}, \"baxis\": {\"endlinecolor\": \"#2a3f5f\", \"gridcolor\": \"white\", \"linecolor\": \"white\", \"minorgridcolor\": \"white\", \"startlinecolor\": \"#2a3f5f\"}, \"type\": \"carpet\"}], \"choropleth\": [{\"colorbar\": {\"outlinewidth\": 0, \"ticks\": \"\"}, \"type\": \"choropleth\"}], \"contour\": [{\"colorbar\": {\"outlinewidth\": 0, \"ticks\": \"\"}, \"colorscale\": [[0.0, \"#0d0887\"], [0.1111111111111111, \"#46039f\"], [0.2222222222222222, \"#7201a8\"], [0.3333333333333333, \"#9c179e\"], [0.4444444444444444, \"#bd3786\"], [0.5555555555555556, \"#d8576b\"], [0.6666666666666666, \"#ed7953\"], [0.7777777777777778, \"#fb9f3a\"], [0.8888888888888888, \"#fdca26\"], [1.0, \"#f0f921\"]], \"type\": \"contour\"}], \"contourcarpet\": [{\"colorbar\": {\"outlinewidth\": 0, \"ticks\": \"\"}, \"type\": \"contourcarpet\"}], \"heatmap\": [{\"colorbar\": {\"outlinewidth\": 0, \"ticks\": \"\"}, \"colorscale\": [[0.0, \"#0d0887\"], [0.1111111111111111, \"#46039f\"], [0.2222222222222222, \"#7201a8\"], [0.3333333333333333, \"#9c179e\"], [0.4444444444444444, \"#bd3786\"], [0.5555555555555556, \"#d8576b\"], [0.6666666666666666, \"#ed7953\"], [0.7777777777777778, \"#fb9f3a\"], [0.8888888888888888, \"#fdca26\"], [1.0, \"#f0f921\"]], \"type\": \"heatmap\"}], \"heatmapgl\": [{\"colorbar\": {\"outlinewidth\": 0, \"ticks\": \"\"}, \"colorscale\": [[0.0, \"#0d0887\"], [0.1111111111111111, \"#46039f\"], [0.2222222222222222, \"#7201a8\"], [0.3333333333333333, \"#9c179e\"], [0.4444444444444444, \"#bd3786\"], [0.5555555555555556, \"#d8576b\"], [0.6666666666666666, \"#ed7953\"], [0.7777777777777778, \"#fb9f3a\"], [0.8888888888888888, \"#fdca26\"], [1.0, \"#f0f921\"]], \"type\": \"heatmapgl\"}], \"histogram\": [{\"marker\": {\"colorbar\": {\"outlinewidth\": 0, \"ticks\": \"\"}}, \"type\": \"histogram\"}], \"histogram2d\": [{\"colorbar\": {\"outlinewidth\": 0, \"ticks\": \"\"}, \"colorscale\": [[0.0, \"#0d0887\"], [0.1111111111111111, \"#46039f\"], [0.2222222222222222, \"#7201a8\"], [0.3333333333333333, \"#9c179e\"], [0.4444444444444444, \"#bd3786\"], [0.5555555555555556, \"#d8576b\"], [0.6666666666666666, \"#ed7953\"], [0.7777777777777778, \"#fb9f3a\"], [0.8888888888888888, \"#fdca26\"], [1.0, \"#f0f921\"]], \"type\": \"histogram2d\"}], \"histogram2dcontour\": [{\"colorbar\": {\"outlinewidth\": 0, \"ticks\": \"\"}, \"colorscale\": [[0.0, \"#0d0887\"], [0.1111111111111111, \"#46039f\"], [0.2222222222222222, \"#7201a8\"], [0.3333333333333333, \"#9c179e\"], [0.4444444444444444, \"#bd3786\"], [0.5555555555555556, \"#d8576b\"], [0.6666666666666666, \"#ed7953\"], [0.7777777777777778, \"#fb9f3a\"], [0.8888888888888888, \"#fdca26\"], [1.0, \"#f0f921\"]], \"type\": \"histogram2dcontour\"}], \"mesh3d\": [{\"colorbar\": {\"outlinewidth\": 0, \"ticks\": \"\"}, \"type\": \"mesh3d\"}], \"parcoords\": [{\"line\": {\"colorbar\": {\"outlinewidth\": 0, \"ticks\": \"\"}}, \"type\": \"parcoords\"}], \"pie\": [{\"automargin\": true, \"type\": \"pie\"}], \"scatter\": [{\"marker\": {\"colorbar\": {\"outlinewidth\": 0, \"ticks\": \"\"}}, \"type\": \"scatter\"}], \"scatter3d\": [{\"line\": {\"colorbar\": {\"outlinewidth\": 0, \"ticks\": \"\"}}, \"marker\": {\"colorbar\": {\"outlinewidth\": 0, \"ticks\": \"\"}}, \"type\": \"scatter3d\"}], \"scattercarpet\": [{\"marker\": {\"colorbar\": {\"outlinewidth\": 0, \"ticks\": \"\"}}, \"type\": \"scattercarpet\"}], \"scattergeo\": [{\"marker\": {\"colorbar\": {\"outlinewidth\": 0, \"ticks\": \"\"}}, \"type\": \"scattergeo\"}], \"scattergl\": [{\"marker\": {\"colorbar\": {\"outlinewidth\": 0, \"ticks\": \"\"}}, \"type\": \"scattergl\"}], \"scattermapbox\": [{\"marker\": {\"colorbar\": {\"outlinewidth\": 0, \"ticks\": \"\"}}, \"type\": \"scattermapbox\"}], \"scatterpolar\": [{\"marker\": {\"colorbar\": {\"outlinewidth\": 0, \"ticks\": \"\"}}, \"type\": \"scatterpolar\"}], \"scatterpolargl\": [{\"marker\": {\"colorbar\": {\"outlinewidth\": 0, \"ticks\": \"\"}}, \"type\": \"scatterpolargl\"}], \"scatterternary\": [{\"marker\": {\"colorbar\": {\"outlinewidth\": 0, \"ticks\": \"\"}}, \"type\": \"scatterternary\"}], \"surface\": [{\"colorbar\": {\"outlinewidth\": 0, \"ticks\": \"\"}, \"colorscale\": [[0.0, \"#0d0887\"], [0.1111111111111111, \"#46039f\"], [0.2222222222222222, \"#7201a8\"], [0.3333333333333333, \"#9c179e\"], [0.4444444444444444, \"#bd3786\"], [0.5555555555555556, \"#d8576b\"], [0.6666666666666666, \"#ed7953\"], [0.7777777777777778, \"#fb9f3a\"], [0.8888888888888888, \"#fdca26\"], [1.0, \"#f0f921\"]], \"type\": \"surface\"}], \"table\": [{\"cells\": {\"fill\": {\"color\": \"#EBF0F8\"}, \"line\": {\"color\": \"white\"}}, \"header\": {\"fill\": {\"color\": \"#C8D4E3\"}, \"line\": {\"color\": \"white\"}}, \"type\": \"table\"}]}, \"layout\": {\"annotationdefaults\": {\"arrowcolor\": \"#2a3f5f\", \"arrowhead\": 0, \"arrowwidth\": 1}, \"coloraxis\": {\"colorbar\": {\"outlinewidth\": 0, \"ticks\": \"\"}}, \"colorscale\": {\"diverging\": [[0, \"#8e0152\"], [0.1, \"#c51b7d\"], [0.2, \"#de77ae\"], [0.3, \"#f1b6da\"], [0.4, \"#fde0ef\"], [0.5, \"#f7f7f7\"], [0.6, \"#e6f5d0\"], [0.7, \"#b8e186\"], [0.8, \"#7fbc41\"], [0.9, \"#4d9221\"], [1, \"#276419\"]], \"sequential\": [[0.0, \"#0d0887\"], [0.1111111111111111, \"#46039f\"], [0.2222222222222222, \"#7201a8\"], [0.3333333333333333, \"#9c179e\"], [0.4444444444444444, \"#bd3786\"], [0.5555555555555556, \"#d8576b\"], [0.6666666666666666, \"#ed7953\"], [0.7777777777777778, \"#fb9f3a\"], [0.8888888888888888, \"#fdca26\"], [1.0, \"#f0f921\"]], \"sequentialminus\": [[0.0, \"#0d0887\"], [0.1111111111111111, \"#46039f\"], [0.2222222222222222, \"#7201a8\"], [0.3333333333333333, \"#9c179e\"], [0.4444444444444444, \"#bd3786\"], [0.5555555555555556, \"#d8576b\"], [0.6666666666666666, \"#ed7953\"], [0.7777777777777778, \"#fb9f3a\"], [0.8888888888888888, \"#fdca26\"], [1.0, \"#f0f921\"]]}, \"colorway\": [\"#636efa\", \"#EF553B\", \"#00cc96\", \"#ab63fa\", \"#FFA15A\", \"#19d3f3\", \"#FF6692\", \"#B6E880\", \"#FF97FF\", \"#FECB52\"], \"font\": {\"color\": \"#2a3f5f\"}, \"geo\": {\"bgcolor\": \"white\", \"lakecolor\": \"white\", \"landcolor\": \"#E5ECF6\", \"showlakes\": true, \"showland\": true, \"subunitcolor\": \"white\"}, \"hoverlabel\": {\"align\": \"left\"}, \"hovermode\": \"closest\", \"mapbox\": {\"style\": \"light\"}, \"paper_bgcolor\": \"white\", \"plot_bgcolor\": \"#E5ECF6\", \"polar\": {\"angularaxis\": {\"gridcolor\": \"white\", \"linecolor\": \"white\", \"ticks\": \"\"}, \"bgcolor\": \"#E5ECF6\", \"radialaxis\": {\"gridcolor\": \"white\", \"linecolor\": \"white\", \"ticks\": \"\"}}, \"scene\": {\"xaxis\": {\"backgroundcolor\": \"#E5ECF6\", \"gridcolor\": \"white\", \"gridwidth\": 2, \"linecolor\": \"white\", \"showbackground\": true, \"ticks\": \"\", \"zerolinecolor\": \"white\"}, \"yaxis\": {\"backgroundcolor\": \"#E5ECF6\", \"gridcolor\": \"white\", \"gridwidth\": 2, \"linecolor\": \"white\", \"showbackground\": true, \"ticks\": \"\", \"zerolinecolor\": \"white\"}, \"zaxis\": {\"backgroundcolor\": \"#E5ECF6\", \"gridcolor\": \"white\", \"gridwidth\": 2, \"linecolor\": \"white\", \"showbackground\": true, \"ticks\": \"\", \"zerolinecolor\": \"white\"}}, \"shapedefaults\": {\"line\": {\"color\": \"#2a3f5f\"}}, \"ternary\": {\"aaxis\": {\"gridcolor\": \"white\", \"linecolor\": \"white\", \"ticks\": \"\"}, \"baxis\": {\"gridcolor\": \"white\", \"linecolor\": \"white\", \"ticks\": \"\"}, \"bgcolor\": \"#E5ECF6\", \"caxis\": {\"gridcolor\": \"white\", \"linecolor\": \"white\", \"ticks\": \"\"}}, \"title\": {\"x\": 0.05}, \"xaxis\": {\"automargin\": true, \"gridcolor\": \"white\", \"linecolor\": \"white\", \"ticks\": \"\", \"title\": {\"standoff\": 15}, \"zerolinecolor\": \"white\", \"zerolinewidth\": 2}, \"yaxis\": {\"automargin\": true, \"gridcolor\": \"white\", \"linecolor\": \"white\", \"ticks\": \"\", \"title\": {\"standoff\": 15}, \"zerolinecolor\": \"white\", \"zerolinewidth\": 2}}}, \"xaxis\": {\"anchor\": \"y\", \"domain\": [0.0, 1.0], \"title\": {\"text\": \"Name\"}}, \"yaxis\": {\"anchor\": \"x\", \"domain\": [0.0, 1.0], \"title\": {\"text\": \"Confirmed\"}}},\n",
       "                        {\"responsive\": true}\n",
       "                    ).then(function(){\n",
       "                            \n",
       "var gd = document.getElementById('841c9045-a27e-4bbc-b334-ee7f0287bb07');\n",
       "var x = new MutationObserver(function (mutations, observer) {{\n",
       "        var display = window.getComputedStyle(gd).display;\n",
       "        if (!display || display === 'none') {{\n",
       "            console.log([gd, 'removed!']);\n",
       "            Plotly.purge(gd);\n",
       "            observer.disconnect();\n",
       "        }}\n",
       "}});\n",
       "\n",
       "// Listen for the removal of the full notebook cells\n",
       "var notebookContainer = gd.closest('#notebook-container');\n",
       "if (notebookContainer) {{\n",
       "    x.observe(notebookContainer, {childList: true});\n",
       "}}\n",
       "\n",
       "// Listen for the clearing of the current output cell\n",
       "var outputEl = gd.closest('.output');\n",
       "if (outputEl) {{\n",
       "    x.observe(outputEl, {childList: true});\n",
       "}}\n",
       "\n",
       "                        })\n",
       "                };\n",
       "                });\n",
       "            </script>\n",
       "        </div>"
      ]
     },
     "metadata": {},
     "output_type": "display_data"
    }
   ],
   "source": [
    "# Lets see how many people have died with respect to countries. (For top 20 countries)\n",
    "\n",
    "world_fig = px.bar(world_df.head(20), x = 'Name', y = 'Confirmed', color = \"Deceased\")\n",
    "world_fig.show()"
   ]
  },
  {
   "cell_type": "markdown",
   "metadata": {},
   "source": [
    " - Here the color of each bar corrosponds to how many people have died.\n",
    " - We cannot make out which country has most number of deceased people in a descending order."
   ]
  },
  {
   "cell_type": "code",
   "execution_count": 134,
   "metadata": {},
   "outputs": [
    {
     "data": {
      "application/vnd.plotly.v1+json": {
       "config": {
        "plotlyServerURL": "https://plot.ly"
       },
       "data": [
        {
         "alignmentgroup": "True",
         "hovertemplate": "Name=%{x}<br>Deceased=%{y}<extra></extra>",
         "legendgroup": "",
         "marker": {
          "color": "#636efa"
         },
         "name": "",
         "offsetgroup": "",
         "orientation": "v",
         "showlegend": false,
         "textposition": "auto",
         "type": "bar",
         "x": [
          "★  Burundi",
          "★  Cayman Islands",
          "★  British Virgin Islands",
          "★  Curacao",
          "★  Montserrat",
          "★  Western Sahara",
          "★  Liechtenstein",
          "★  Fiji",
          "★  Malta",
          "★  Mauritius",
          "★  Iceland",
          "★  Kyrgyzstan",
          "★  Chile",
          "★  Rwanda",
          "★  Sri Lanka",
          "★  Jordan",
          "★  Ivory Coast",
          "★  Brazil",
          "★  Japan",
          "★  Lebanon",
          "★  Trinidad and Tobago",
          "★  Palestine",
          "★  Luxembourg",
          "★  Mali",
          "★  Malaysia",
          "★  South Africa",
          "★  Slovenia",
          "★  Nicaragua",
          "★  Nepal",
          "★  Afghanistan",
          "★  Kazakhstan",
          "★  Algeria",
          "★  Guadeloupe",
          "★  SÃ£o TomÃ© and PrÃ­ncipe",
          "★  Zimbabwe",
          "★  Dominican Republic",
          "★  Mauritania",
          "★  Jamaica",
          "★  Martinique",
          "★  Russia",
          "★  Honduras",
          "★  Colombia",
          "★  Malawi",
          "★  Croatia",
          "★  Georgia",
          "★  Sint Maarten",
          "★  Ireland",
          "★  Madagascar",
          "★  Portugal",
          "★  United States",
          "★  Libya",
          "★  Bahrain",
          "★  Paraguay",
          "★  Panama",
          "★  Uganda",
          "★  Qatar",
          "★  Poland",
          "★  Haiti",
          "★  Turks and Caicos Islands",
          "★  Mozambique",
          "★  Cyprus",
          "★  Switzerland",
          "★  Iran",
          "★  Tanzania",
          "★  New Zealand",
          "★  Ukraine",
          "★  Greece",
          "★  Isle of Man",
          "★  Albania",
          "★  DR Congo",
          "★  Vietnam",
          "★  Guatemala",
          "★  Maldives",
          "★  Ghana",
          "★  Uzbekistan",
          "★  Senegal",
          "★  Norway",
          "★  Togo",
          "★  The Bahamas",
          "★  Singapore",
          "★  Peru",
          "★  Zambia",
          "★  Spain",
          "★  Philippines",
          "★  Antigua and Barbuda",
          "★  Brunei",
          "★  Botswana",
          "★  Guyana",
          "★  Lesotho",
          "★  France",
          "★  South Korea",
          "★  Venezuela",
          "★  Romania",
          "★  Guinea-Bissau",
          "★  Slovakia",
          "★  Latvia",
          "★  Finland",
          "★  Costa Rica",
          "★  Italy",
          "★  Saudi Arabia",
          "★  Cape Verde",
          "★  United Arab Emirates",
          "★  Bangladesh",
          "★  Benin",
          "★  Mayotte",
          "★  Papua New Guinea",
          "★  Monaco",
          "★  Cameroon",
          "★  Czechia",
          "★  United Kingdom",
          "★  Uruguay",
          "★  San Marino",
          "★  Namibia",
          "★  Bolivia",
          "★  Kosovo",
          "★  China",
          "★  South Sudan",
          "★  Channel Islands",
          "★  Australia",
          "★  Reunion",
          "★  Belize",
          "★  Saint Martin",
          "★  Kuwait",
          "★  Azerbaijan",
          "★  Egypt",
          "★  Bosnia and Herzegovina",
          "★  Gabon",
          "★  Andorra",
          "★  Guinea",
          "★  Kenya",
          "★  Bulgaria",
          "★  Yemen",
          "★  Burkina Faso",
          "★  French Guiana",
          "★  North Macedonia",
          "★  India",
          "★  Suriname",
          "★  Thailand",
          "★  Sweden",
          "★  Mexico",
          "★  Aruba",
          "★  Myanmar",
          "★  Djibouti",
          "★  Turkey",
          "★  Oman",
          "★  Central African Republic",
          "★  Hungary",
          "★  Netherlands",
          "★  Denmark",
          "★  Pakistan",
          "★  Ecuador",
          "★  Iraq",
          "★  Estonia",
          "★  Belarus",
          "★  Ethiopia",
          "★  Tunisia",
          "★  Indonesia",
          "★  El Salvador",
          "★  Tajikistan",
          "★  Argentina",
          "★  Niger",
          "★  Sierra Leone",
          "★  Serbia",
          "★  Comoros",
          "★  Taiwan",
          "★  Barbados",
          "★  Austria",
          "★  Hong Kong",
          "★  Chad",
          "★  Congo",
          "TOTAL",
          "★  Israel",
          "★  Eswatini",
          "★  Sudan",
          "★  Morocco",
          "★  Montenegro",
          "★  Liberia",
          "★  Equatorial Guinea",
          "★  Syria",
          "★  Lithuania",
          "★  The Gambia",
          "★  Armenia",
          "★  Cuba",
          "★  Bermuda",
          "★  Canada",
          "★  Moldova",
          "★  Somalia",
          "★  Germany",
          "★  Angola",
          "★  Nigeria",
          "★  Belgium",
          "★  Bhutan",
          "★  Faroe Islands",
          "★  Vatican City",
          "★  Falkland Islands",
          "★  Caribbean Netherlands",
          "★  Eritrea",
          "★  Greenland",
          "★  Saint Barthelemy",
          "★  Saint Kitts and Nevis",
          "★  Dominica",
          "★  Mongolia",
          "★  New Caledonia",
          "★  Saint Pierre and Miquelon",
          "★  Grenada",
          "★  Timor-Leste",
          "★  Saint Lucia",
          "★  Macao",
          "★  Saint Vincent and the Grenadines",
          "★  French Polynesia",
          "★  Cambodia",
          "★  Seychelles",
          "★  Gibraltar",
          "★  Laos",
          "★  Anguilla"
         ],
         "xaxis": "x",
         "y": [
          "1",
          "1",
          "1",
          "1",
          "1",
          "1",
          "1",
          "1",
          "10",
          "10",
          "10",
          "1055",
          "10723",
          "11",
          "11",
          "11",
          "112",
          "113454",
          "1155",
          "116",
          "12",
          "122",
          "124",
          "125",
          "125",
          "12843",
          "130",
          "133",
          "137",
          "1385",
          "1415",
          "1418",
          "15",
          "15",
          "152",
          "1533",
          "158",
          "16",
          "16",
          "16189",
          "1632",
          "16568",
          "166",
          "169",
          "17",
          "17",
          "1776",
          "178",
          "1792",
          "179200",
          "180",
          "181",
          "182",
          "1859",
          "19",
          "193",
          "1938",
          "196",
          "2",
          "20",
          "20",
          "2000",
          "20376",
          "21",
          "22",
          "2207",
          "238",
          "24",
          "240",
          "248",
          "25",
          "2532",
          "26",
          "261",
          "262",
          "262",
          "264",
          "27",
          "27",
          "27",
          "27245",
          "277",
          "28838",
          "2940",
          "3",
          "3",
          "3",
          "30",
          "30",
          "30503",
          "309",
          "317",
          "3196",
          "33",
          "33",
          "33",
          "334",
          "340",
          "35427",
          "3580",
          "37",
          "370",
          "3861",
          "39",
          "39",
          "4",
          "4",
          "408",
          "411",
          "41405",
          "42",
          "42",
          "42",
          "4366",
          "448",
          "4634",
          "47",
          "48",
          "485",
          "5",
          "5",
          "5",
          "511",
          "512",
          "5231",
          "526",
          "53",
          "53",
          "53",
          "532",
          "539",
          "542",
          "55",
          "55",
          "557",
          "55928",
          "56",
          "58",
          "5810",
          "59610",
          "6",
          "6",
          "60",
          "6080",
          "609",
          "61",
          "611",
          "6195",
          "621",
          "6231",
          "6248",
          "6283",
          "63",
          "632",
          "637",
          "64",
          "6500",
          "654",
          "66",
          "6730",
          "69",
          "69",
          "692",
          "7",
          "7",
          "7",
          "730",
          "75",
          "76",
          "77",
          "803223",
          "809",
          "81",
          "812",
          "817",
          "82",
          "82",
          "83",
          "83",
          "83",
          "84",
          "842",
          "89",
          "9",
          "9109",
          "929",
          "93",
          "9328",
          "94",
          "996",
          "9985",
          "Unknown",
          "Unknown",
          "Unknown",
          "Unknown",
          "Unknown",
          "Unknown",
          "Unknown",
          "Unknown",
          "Unknown",
          "Unknown",
          "Unknown",
          "Unknown",
          "Unknown",
          "Unknown",
          "Unknown",
          "Unknown",
          "Unknown",
          "Unknown",
          "Unknown",
          "Unknown",
          "Unknown",
          "Unknown",
          "Unknown",
          "Unknown"
         ],
         "yaxis": "y"
        }
       ],
       "layout": {
        "barmode": "relative",
        "legend": {
         "tracegroupgap": 0
        },
        "margin": {
         "t": 60
        },
        "template": {
         "data": {
          "bar": [
           {
            "error_x": {
             "color": "#2a3f5f"
            },
            "error_y": {
             "color": "#2a3f5f"
            },
            "marker": {
             "line": {
              "color": "#E5ECF6",
              "width": 0.5
             }
            },
            "type": "bar"
           }
          ],
          "barpolar": [
           {
            "marker": {
             "line": {
              "color": "#E5ECF6",
              "width": 0.5
             }
            },
            "type": "barpolar"
           }
          ],
          "carpet": [
           {
            "aaxis": {
             "endlinecolor": "#2a3f5f",
             "gridcolor": "white",
             "linecolor": "white",
             "minorgridcolor": "white",
             "startlinecolor": "#2a3f5f"
            },
            "baxis": {
             "endlinecolor": "#2a3f5f",
             "gridcolor": "white",
             "linecolor": "white",
             "minorgridcolor": "white",
             "startlinecolor": "#2a3f5f"
            },
            "type": "carpet"
           }
          ],
          "choropleth": [
           {
            "colorbar": {
             "outlinewidth": 0,
             "ticks": ""
            },
            "type": "choropleth"
           }
          ],
          "contour": [
           {
            "colorbar": {
             "outlinewidth": 0,
             "ticks": ""
            },
            "colorscale": [
             [
              0,
              "#0d0887"
             ],
             [
              0.1111111111111111,
              "#46039f"
             ],
             [
              0.2222222222222222,
              "#7201a8"
             ],
             [
              0.3333333333333333,
              "#9c179e"
             ],
             [
              0.4444444444444444,
              "#bd3786"
             ],
             [
              0.5555555555555556,
              "#d8576b"
             ],
             [
              0.6666666666666666,
              "#ed7953"
             ],
             [
              0.7777777777777778,
              "#fb9f3a"
             ],
             [
              0.8888888888888888,
              "#fdca26"
             ],
             [
              1,
              "#f0f921"
             ]
            ],
            "type": "contour"
           }
          ],
          "contourcarpet": [
           {
            "colorbar": {
             "outlinewidth": 0,
             "ticks": ""
            },
            "type": "contourcarpet"
           }
          ],
          "heatmap": [
           {
            "colorbar": {
             "outlinewidth": 0,
             "ticks": ""
            },
            "colorscale": [
             [
              0,
              "#0d0887"
             ],
             [
              0.1111111111111111,
              "#46039f"
             ],
             [
              0.2222222222222222,
              "#7201a8"
             ],
             [
              0.3333333333333333,
              "#9c179e"
             ],
             [
              0.4444444444444444,
              "#bd3786"
             ],
             [
              0.5555555555555556,
              "#d8576b"
             ],
             [
              0.6666666666666666,
              "#ed7953"
             ],
             [
              0.7777777777777778,
              "#fb9f3a"
             ],
             [
              0.8888888888888888,
              "#fdca26"
             ],
             [
              1,
              "#f0f921"
             ]
            ],
            "type": "heatmap"
           }
          ],
          "heatmapgl": [
           {
            "colorbar": {
             "outlinewidth": 0,
             "ticks": ""
            },
            "colorscale": [
             [
              0,
              "#0d0887"
             ],
             [
              0.1111111111111111,
              "#46039f"
             ],
             [
              0.2222222222222222,
              "#7201a8"
             ],
             [
              0.3333333333333333,
              "#9c179e"
             ],
             [
              0.4444444444444444,
              "#bd3786"
             ],
             [
              0.5555555555555556,
              "#d8576b"
             ],
             [
              0.6666666666666666,
              "#ed7953"
             ],
             [
              0.7777777777777778,
              "#fb9f3a"
             ],
             [
              0.8888888888888888,
              "#fdca26"
             ],
             [
              1,
              "#f0f921"
             ]
            ],
            "type": "heatmapgl"
           }
          ],
          "histogram": [
           {
            "marker": {
             "colorbar": {
              "outlinewidth": 0,
              "ticks": ""
             }
            },
            "type": "histogram"
           }
          ],
          "histogram2d": [
           {
            "colorbar": {
             "outlinewidth": 0,
             "ticks": ""
            },
            "colorscale": [
             [
              0,
              "#0d0887"
             ],
             [
              0.1111111111111111,
              "#46039f"
             ],
             [
              0.2222222222222222,
              "#7201a8"
             ],
             [
              0.3333333333333333,
              "#9c179e"
             ],
             [
              0.4444444444444444,
              "#bd3786"
             ],
             [
              0.5555555555555556,
              "#d8576b"
             ],
             [
              0.6666666666666666,
              "#ed7953"
             ],
             [
              0.7777777777777778,
              "#fb9f3a"
             ],
             [
              0.8888888888888888,
              "#fdca26"
             ],
             [
              1,
              "#f0f921"
             ]
            ],
            "type": "histogram2d"
           }
          ],
          "histogram2dcontour": [
           {
            "colorbar": {
             "outlinewidth": 0,
             "ticks": ""
            },
            "colorscale": [
             [
              0,
              "#0d0887"
             ],
             [
              0.1111111111111111,
              "#46039f"
             ],
             [
              0.2222222222222222,
              "#7201a8"
             ],
             [
              0.3333333333333333,
              "#9c179e"
             ],
             [
              0.4444444444444444,
              "#bd3786"
             ],
             [
              0.5555555555555556,
              "#d8576b"
             ],
             [
              0.6666666666666666,
              "#ed7953"
             ],
             [
              0.7777777777777778,
              "#fb9f3a"
             ],
             [
              0.8888888888888888,
              "#fdca26"
             ],
             [
              1,
              "#f0f921"
             ]
            ],
            "type": "histogram2dcontour"
           }
          ],
          "mesh3d": [
           {
            "colorbar": {
             "outlinewidth": 0,
             "ticks": ""
            },
            "type": "mesh3d"
           }
          ],
          "parcoords": [
           {
            "line": {
             "colorbar": {
              "outlinewidth": 0,
              "ticks": ""
             }
            },
            "type": "parcoords"
           }
          ],
          "pie": [
           {
            "automargin": true,
            "type": "pie"
           }
          ],
          "scatter": [
           {
            "marker": {
             "colorbar": {
              "outlinewidth": 0,
              "ticks": ""
             }
            },
            "type": "scatter"
           }
          ],
          "scatter3d": [
           {
            "line": {
             "colorbar": {
              "outlinewidth": 0,
              "ticks": ""
             }
            },
            "marker": {
             "colorbar": {
              "outlinewidth": 0,
              "ticks": ""
             }
            },
            "type": "scatter3d"
           }
          ],
          "scattercarpet": [
           {
            "marker": {
             "colorbar": {
              "outlinewidth": 0,
              "ticks": ""
             }
            },
            "type": "scattercarpet"
           }
          ],
          "scattergeo": [
           {
            "marker": {
             "colorbar": {
              "outlinewidth": 0,
              "ticks": ""
             }
            },
            "type": "scattergeo"
           }
          ],
          "scattergl": [
           {
            "marker": {
             "colorbar": {
              "outlinewidth": 0,
              "ticks": ""
             }
            },
            "type": "scattergl"
           }
          ],
          "scattermapbox": [
           {
            "marker": {
             "colorbar": {
              "outlinewidth": 0,
              "ticks": ""
             }
            },
            "type": "scattermapbox"
           }
          ],
          "scatterpolar": [
           {
            "marker": {
             "colorbar": {
              "outlinewidth": 0,
              "ticks": ""
             }
            },
            "type": "scatterpolar"
           }
          ],
          "scatterpolargl": [
           {
            "marker": {
             "colorbar": {
              "outlinewidth": 0,
              "ticks": ""
             }
            },
            "type": "scatterpolargl"
           }
          ],
          "scatterternary": [
           {
            "marker": {
             "colorbar": {
              "outlinewidth": 0,
              "ticks": ""
             }
            },
            "type": "scatterternary"
           }
          ],
          "surface": [
           {
            "colorbar": {
             "outlinewidth": 0,
             "ticks": ""
            },
            "colorscale": [
             [
              0,
              "#0d0887"
             ],
             [
              0.1111111111111111,
              "#46039f"
             ],
             [
              0.2222222222222222,
              "#7201a8"
             ],
             [
              0.3333333333333333,
              "#9c179e"
             ],
             [
              0.4444444444444444,
              "#bd3786"
             ],
             [
              0.5555555555555556,
              "#d8576b"
             ],
             [
              0.6666666666666666,
              "#ed7953"
             ],
             [
              0.7777777777777778,
              "#fb9f3a"
             ],
             [
              0.8888888888888888,
              "#fdca26"
             ],
             [
              1,
              "#f0f921"
             ]
            ],
            "type": "surface"
           }
          ],
          "table": [
           {
            "cells": {
             "fill": {
              "color": "#EBF0F8"
             },
             "line": {
              "color": "white"
             }
            },
            "header": {
             "fill": {
              "color": "#C8D4E3"
             },
             "line": {
              "color": "white"
             }
            },
            "type": "table"
           }
          ]
         },
         "layout": {
          "annotationdefaults": {
           "arrowcolor": "#2a3f5f",
           "arrowhead": 0,
           "arrowwidth": 1
          },
          "coloraxis": {
           "colorbar": {
            "outlinewidth": 0,
            "ticks": ""
           }
          },
          "colorscale": {
           "diverging": [
            [
             0,
             "#8e0152"
            ],
            [
             0.1,
             "#c51b7d"
            ],
            [
             0.2,
             "#de77ae"
            ],
            [
             0.3,
             "#f1b6da"
            ],
            [
             0.4,
             "#fde0ef"
            ],
            [
             0.5,
             "#f7f7f7"
            ],
            [
             0.6,
             "#e6f5d0"
            ],
            [
             0.7,
             "#b8e186"
            ],
            [
             0.8,
             "#7fbc41"
            ],
            [
             0.9,
             "#4d9221"
            ],
            [
             1,
             "#276419"
            ]
           ],
           "sequential": [
            [
             0,
             "#0d0887"
            ],
            [
             0.1111111111111111,
             "#46039f"
            ],
            [
             0.2222222222222222,
             "#7201a8"
            ],
            [
             0.3333333333333333,
             "#9c179e"
            ],
            [
             0.4444444444444444,
             "#bd3786"
            ],
            [
             0.5555555555555556,
             "#d8576b"
            ],
            [
             0.6666666666666666,
             "#ed7953"
            ],
            [
             0.7777777777777778,
             "#fb9f3a"
            ],
            [
             0.8888888888888888,
             "#fdca26"
            ],
            [
             1,
             "#f0f921"
            ]
           ],
           "sequentialminus": [
            [
             0,
             "#0d0887"
            ],
            [
             0.1111111111111111,
             "#46039f"
            ],
            [
             0.2222222222222222,
             "#7201a8"
            ],
            [
             0.3333333333333333,
             "#9c179e"
            ],
            [
             0.4444444444444444,
             "#bd3786"
            ],
            [
             0.5555555555555556,
             "#d8576b"
            ],
            [
             0.6666666666666666,
             "#ed7953"
            ],
            [
             0.7777777777777778,
             "#fb9f3a"
            ],
            [
             0.8888888888888888,
             "#fdca26"
            ],
            [
             1,
             "#f0f921"
            ]
           ]
          },
          "colorway": [
           "#636efa",
           "#EF553B",
           "#00cc96",
           "#ab63fa",
           "#FFA15A",
           "#19d3f3",
           "#FF6692",
           "#B6E880",
           "#FF97FF",
           "#FECB52"
          ],
          "font": {
           "color": "#2a3f5f"
          },
          "geo": {
           "bgcolor": "white",
           "lakecolor": "white",
           "landcolor": "#E5ECF6",
           "showlakes": true,
           "showland": true,
           "subunitcolor": "white"
          },
          "hoverlabel": {
           "align": "left"
          },
          "hovermode": "closest",
          "mapbox": {
           "style": "light"
          },
          "paper_bgcolor": "white",
          "plot_bgcolor": "#E5ECF6",
          "polar": {
           "angularaxis": {
            "gridcolor": "white",
            "linecolor": "white",
            "ticks": ""
           },
           "bgcolor": "#E5ECF6",
           "radialaxis": {
            "gridcolor": "white",
            "linecolor": "white",
            "ticks": ""
           }
          },
          "scene": {
           "xaxis": {
            "backgroundcolor": "#E5ECF6",
            "gridcolor": "white",
            "gridwidth": 2,
            "linecolor": "white",
            "showbackground": true,
            "ticks": "",
            "zerolinecolor": "white"
           },
           "yaxis": {
            "backgroundcolor": "#E5ECF6",
            "gridcolor": "white",
            "gridwidth": 2,
            "linecolor": "white",
            "showbackground": true,
            "ticks": "",
            "zerolinecolor": "white"
           },
           "zaxis": {
            "backgroundcolor": "#E5ECF6",
            "gridcolor": "white",
            "gridwidth": 2,
            "linecolor": "white",
            "showbackground": true,
            "ticks": "",
            "zerolinecolor": "white"
           }
          },
          "shapedefaults": {
           "line": {
            "color": "#2a3f5f"
           }
          },
          "ternary": {
           "aaxis": {
            "gridcolor": "white",
            "linecolor": "white",
            "ticks": ""
           },
           "baxis": {
            "gridcolor": "white",
            "linecolor": "white",
            "ticks": ""
           },
           "bgcolor": "#E5ECF6",
           "caxis": {
            "gridcolor": "white",
            "linecolor": "white",
            "ticks": ""
           }
          },
          "title": {
           "x": 0.05
          },
          "xaxis": {
           "automargin": true,
           "gridcolor": "white",
           "linecolor": "white",
           "ticks": "",
           "title": {
            "standoff": 15
           },
           "zerolinecolor": "white",
           "zerolinewidth": 2
          },
          "yaxis": {
           "automargin": true,
           "gridcolor": "white",
           "linecolor": "white",
           "ticks": "",
           "title": {
            "standoff": 15
           },
           "zerolinecolor": "white",
           "zerolinewidth": 2
          }
         }
        },
        "xaxis": {
         "anchor": "y",
         "domain": [
          0,
          1
         ],
         "title": {
          "text": "Name"
         }
        },
        "yaxis": {
         "anchor": "x",
         "domain": [
          0,
          1
         ],
         "title": {
          "text": "Deceased"
         }
        }
       }
      },
      "text/html": [
       "<div>\n",
       "        \n",
       "        \n",
       "            <div id=\"0b4930e2-eddb-49f5-b7e1-48ea35903b21\" class=\"plotly-graph-div\" style=\"height:525px; width:100%;\"></div>\n",
       "            <script type=\"text/javascript\">\n",
       "                require([\"plotly\"], function(Plotly) {\n",
       "                    window.PLOTLYENV=window.PLOTLYENV || {};\n",
       "                    \n",
       "                if (document.getElementById(\"0b4930e2-eddb-49f5-b7e1-48ea35903b21\")) {\n",
       "                    Plotly.newPlot(\n",
       "                        '0b4930e2-eddb-49f5-b7e1-48ea35903b21',\n",
       "                        [{\"alignmentgroup\": \"True\", \"hovertemplate\": \"Name=%{x}<br>Deceased=%{y}<extra></extra>\", \"legendgroup\": \"\", \"marker\": {\"color\": \"#636efa\"}, \"name\": \"\", \"offsetgroup\": \"\", \"orientation\": \"v\", \"showlegend\": false, \"textposition\": \"auto\", \"type\": \"bar\", \"x\": [\"\\u2605  Burundi\", \"\\u2605  Cayman Islands\", \"\\u2605  British Virgin Islands\", \"\\u2605  Curacao\", \"\\u2605  Montserrat\", \"\\u2605  Western Sahara\", \"\\u2605  Liechtenstein\", \"\\u2605  Fiji\", \"\\u2605  Malta\", \"\\u2605  Mauritius\", \"\\u2605  Iceland\", \"\\u2605  Kyrgyzstan\", \"\\u2605  Chile\", \"\\u2605  Rwanda\", \"\\u2605  Sri Lanka\", \"\\u2605  Jordan\", \"\\u2605  Ivory Coast\", \"\\u2605  Brazil\", \"\\u2605  Japan\", \"\\u2605  Lebanon\", \"\\u2605  Trinidad and Tobago\", \"\\u2605  Palestine\", \"\\u2605  Luxembourg\", \"\\u2605  Mali\", \"\\u2605  Malaysia\", \"\\u2605  South Africa\", \"\\u2605  Slovenia\", \"\\u2605  Nicaragua\", \"\\u2605  Nepal\", \"\\u2605  Afghanistan\", \"\\u2605  Kazakhstan\", \"\\u2605  Algeria\", \"\\u2605  Guadeloupe\", \"\\u2605  S\\u00c3\\u00a3o Tom\\u00c3\\u00a9 and Pr\\u00c3\\u00adncipe\", \"\\u2605  Zimbabwe\", \"\\u2605  Dominican Republic\", \"\\u2605  Mauritania\", \"\\u2605  Jamaica\", \"\\u2605  Martinique\", \"\\u2605  Russia\", \"\\u2605  Honduras\", \"\\u2605  Colombia\", \"\\u2605  Malawi\", \"\\u2605  Croatia\", \"\\u2605  Georgia\", \"\\u2605  Sint Maarten\", \"\\u2605  Ireland\", \"\\u2605  Madagascar\", \"\\u2605  Portugal\", \"\\u2605  United States\", \"\\u2605  Libya\", \"\\u2605  Bahrain\", \"\\u2605  Paraguay\", \"\\u2605  Panama\", \"\\u2605  Uganda\", \"\\u2605  Qatar\", \"\\u2605  Poland\", \"\\u2605  Haiti\", \"\\u2605  Turks and Caicos Islands\", \"\\u2605  Mozambique\", \"\\u2605  Cyprus\", \"\\u2605  Switzerland\", \"\\u2605  Iran\", \"\\u2605  Tanzania\", \"\\u2605  New Zealand\", \"\\u2605  Ukraine\", \"\\u2605  Greece\", \"\\u2605  Isle of Man\", \"\\u2605  Albania\", \"\\u2605  DR Congo\", \"\\u2605  Vietnam\", \"\\u2605  Guatemala\", \"\\u2605  Maldives\", \"\\u2605  Ghana\", \"\\u2605  Uzbekistan\", \"\\u2605  Senegal\", \"\\u2605  Norway\", \"\\u2605  Togo\", \"\\u2605  The Bahamas\", \"\\u2605  Singapore\", \"\\u2605  Peru\", \"\\u2605  Zambia\", \"\\u2605  Spain\", \"\\u2605  Philippines\", \"\\u2605  Antigua and Barbuda\", \"\\u2605  Brunei\", \"\\u2605  Botswana\", \"\\u2605  Guyana\", \"\\u2605  Lesotho\", \"\\u2605  France\", \"\\u2605  South Korea\", \"\\u2605  Venezuela\", \"\\u2605  Romania\", \"\\u2605  Guinea-Bissau\", \"\\u2605  Slovakia\", \"\\u2605  Latvia\", \"\\u2605  Finland\", \"\\u2605  Costa Rica\", \"\\u2605  Italy\", \"\\u2605  Saudi Arabia\", \"\\u2605  Cape Verde\", \"\\u2605  United Arab Emirates\", \"\\u2605  Bangladesh\", \"\\u2605  Benin\", \"\\u2605  Mayotte\", \"\\u2605  Papua New Guinea\", \"\\u2605  Monaco\", \"\\u2605  Cameroon\", \"\\u2605  Czechia\", \"\\u2605  United Kingdom\", \"\\u2605  Uruguay\", \"\\u2605  San Marino\", \"\\u2605  Namibia\", \"\\u2605  Bolivia\", \"\\u2605  Kosovo\", \"\\u2605  China\", \"\\u2605  South Sudan\", \"\\u2605  Channel Islands\", \"\\u2605  Australia\", \"\\u2605  Reunion\", \"\\u2605  Belize\", \"\\u2605  Saint Martin\", \"\\u2605  Kuwait\", \"\\u2605  Azerbaijan\", \"\\u2605  Egypt\", \"\\u2605  Bosnia and Herzegovina\", \"\\u2605  Gabon\", \"\\u2605  Andorra\", \"\\u2605  Guinea\", \"\\u2605  Kenya\", \"\\u2605  Bulgaria\", \"\\u2605  Yemen\", \"\\u2605  Burkina Faso\", \"\\u2605  French Guiana\", \"\\u2605  North Macedonia\", \"\\u2605  India\", \"\\u2605  Suriname\", \"\\u2605  Thailand\", \"\\u2605  Sweden\", \"\\u2605  Mexico\", \"\\u2605  Aruba\", \"\\u2605  Myanmar\", \"\\u2605  Djibouti\", \"\\u2605  Turkey\", \"\\u2605  Oman\", \"\\u2605  Central African Republic\", \"\\u2605  Hungary\", \"\\u2605  Netherlands\", \"\\u2605  Denmark\", \"\\u2605  Pakistan\", \"\\u2605  Ecuador\", \"\\u2605  Iraq\", \"\\u2605  Estonia\", \"\\u2605  Belarus\", \"\\u2605  Ethiopia\", \"\\u2605  Tunisia\", \"\\u2605  Indonesia\", \"\\u2605  El Salvador\", \"\\u2605  Tajikistan\", \"\\u2605  Argentina\", \"\\u2605  Niger\", \"\\u2605  Sierra Leone\", \"\\u2605  Serbia\", \"\\u2605  Comoros\", \"\\u2605  Taiwan\", \"\\u2605  Barbados\", \"\\u2605  Austria\", \"\\u2605  Hong Kong\", \"\\u2605  Chad\", \"\\u2605  Congo\", \"TOTAL\", \"\\u2605  Israel\", \"\\u2605  Eswatini\", \"\\u2605  Sudan\", \"\\u2605  Morocco\", \"\\u2605  Montenegro\", \"\\u2605  Liberia\", \"\\u2605  Equatorial Guinea\", \"\\u2605  Syria\", \"\\u2605  Lithuania\", \"\\u2605  The Gambia\", \"\\u2605  Armenia\", \"\\u2605  Cuba\", \"\\u2605  Bermuda\", \"\\u2605  Canada\", \"\\u2605  Moldova\", \"\\u2605  Somalia\", \"\\u2605  Germany\", \"\\u2605  Angola\", \"\\u2605  Nigeria\", \"\\u2605  Belgium\", \"\\u2605  Bhutan\", \"\\u2605  Faroe Islands\", \"\\u2605  Vatican City\", \"\\u2605  Falkland Islands\", \"\\u2605  Caribbean Netherlands\", \"\\u2605  Eritrea\", \"\\u2605  Greenland\", \"\\u2605  Saint Barthelemy\", \"\\u2605  Saint Kitts and Nevis\", \"\\u2605  Dominica\", \"\\u2605  Mongolia\", \"\\u2605  New Caledonia\", \"\\u2605  Saint Pierre and Miquelon\", \"\\u2605  Grenada\", \"\\u2605  Timor-Leste\", \"\\u2605  Saint Lucia\", \"\\u2605  Macao\", \"\\u2605  Saint Vincent and the Grenadines\", \"\\u2605  French Polynesia\", \"\\u2605  Cambodia\", \"\\u2605  Seychelles\", \"\\u2605  Gibraltar\", \"\\u2605  Laos\", \"\\u2605  Anguilla\"], \"xaxis\": \"x\", \"y\": [\"1\", \"1\", \"1\", \"1\", \"1\", \"1\", \"1\", \"1\", \"10\", \"10\", \"10\", \"1055\", \"10723\", \"11\", \"11\", \"11\", \"112\", \"113454\", \"1155\", \"116\", \"12\", \"122\", \"124\", \"125\", \"125\", \"12843\", \"130\", \"133\", \"137\", \"1385\", \"1415\", \"1418\", \"15\", \"15\", \"152\", \"1533\", \"158\", \"16\", \"16\", \"16189\", \"1632\", \"16568\", \"166\", \"169\", \"17\", \"17\", \"1776\", \"178\", \"1792\", \"179200\", \"180\", \"181\", \"182\", \"1859\", \"19\", \"193\", \"1938\", \"196\", \"2\", \"20\", \"20\", \"2000\", \"20376\", \"21\", \"22\", \"2207\", \"238\", \"24\", \"240\", \"248\", \"25\", \"2532\", \"26\", \"261\", \"262\", \"262\", \"264\", \"27\", \"27\", \"27\", \"27245\", \"277\", \"28838\", \"2940\", \"3\", \"3\", \"3\", \"30\", \"30\", \"30503\", \"309\", \"317\", \"3196\", \"33\", \"33\", \"33\", \"334\", \"340\", \"35427\", \"3580\", \"37\", \"370\", \"3861\", \"39\", \"39\", \"4\", \"4\", \"408\", \"411\", \"41405\", \"42\", \"42\", \"42\", \"4366\", \"448\", \"4634\", \"47\", \"48\", \"485\", \"5\", \"5\", \"5\", \"511\", \"512\", \"5231\", \"526\", \"53\", \"53\", \"53\", \"532\", \"539\", \"542\", \"55\", \"55\", \"557\", \"55928\", \"56\", \"58\", \"5810\", \"59610\", \"6\", \"6\", \"60\", \"6080\", \"609\", \"61\", \"611\", \"6195\", \"621\", \"6231\", \"6248\", \"6283\", \"63\", \"632\", \"637\", \"64\", \"6500\", \"654\", \"66\", \"6730\", \"69\", \"69\", \"692\", \"7\", \"7\", \"7\", \"730\", \"75\", \"76\", \"77\", \"803223\", \"809\", \"81\", \"812\", \"817\", \"82\", \"82\", \"83\", \"83\", \"83\", \"84\", \"842\", \"89\", \"9\", \"9109\", \"929\", \"93\", \"9328\", \"94\", \"996\", \"9985\", \"Unknown\", \"Unknown\", \"Unknown\", \"Unknown\", \"Unknown\", \"Unknown\", \"Unknown\", \"Unknown\", \"Unknown\", \"Unknown\", \"Unknown\", \"Unknown\", \"Unknown\", \"Unknown\", \"Unknown\", \"Unknown\", \"Unknown\", \"Unknown\", \"Unknown\", \"Unknown\", \"Unknown\", \"Unknown\", \"Unknown\", \"Unknown\"], \"yaxis\": \"y\"}],\n",
       "                        {\"barmode\": \"relative\", \"legend\": {\"tracegroupgap\": 0}, \"margin\": {\"t\": 60}, \"template\": {\"data\": {\"bar\": [{\"error_x\": {\"color\": \"#2a3f5f\"}, \"error_y\": {\"color\": \"#2a3f5f\"}, \"marker\": {\"line\": {\"color\": \"#E5ECF6\", \"width\": 0.5}}, \"type\": \"bar\"}], \"barpolar\": [{\"marker\": {\"line\": {\"color\": \"#E5ECF6\", \"width\": 0.5}}, \"type\": \"barpolar\"}], \"carpet\": [{\"aaxis\": {\"endlinecolor\": \"#2a3f5f\", \"gridcolor\": \"white\", \"linecolor\": \"white\", \"minorgridcolor\": \"white\", \"startlinecolor\": \"#2a3f5f\"}, \"baxis\": {\"endlinecolor\": \"#2a3f5f\", \"gridcolor\": \"white\", \"linecolor\": \"white\", \"minorgridcolor\": \"white\", \"startlinecolor\": \"#2a3f5f\"}, \"type\": \"carpet\"}], \"choropleth\": [{\"colorbar\": {\"outlinewidth\": 0, \"ticks\": \"\"}, \"type\": \"choropleth\"}], \"contour\": [{\"colorbar\": {\"outlinewidth\": 0, \"ticks\": \"\"}, \"colorscale\": [[0.0, \"#0d0887\"], [0.1111111111111111, \"#46039f\"], [0.2222222222222222, \"#7201a8\"], [0.3333333333333333, \"#9c179e\"], [0.4444444444444444, \"#bd3786\"], [0.5555555555555556, \"#d8576b\"], [0.6666666666666666, \"#ed7953\"], [0.7777777777777778, \"#fb9f3a\"], [0.8888888888888888, \"#fdca26\"], [1.0, \"#f0f921\"]], \"type\": \"contour\"}], \"contourcarpet\": [{\"colorbar\": {\"outlinewidth\": 0, \"ticks\": \"\"}, \"type\": \"contourcarpet\"}], \"heatmap\": [{\"colorbar\": {\"outlinewidth\": 0, \"ticks\": \"\"}, \"colorscale\": [[0.0, \"#0d0887\"], [0.1111111111111111, \"#46039f\"], [0.2222222222222222, \"#7201a8\"], [0.3333333333333333, \"#9c179e\"], [0.4444444444444444, \"#bd3786\"], [0.5555555555555556, \"#d8576b\"], [0.6666666666666666, \"#ed7953\"], [0.7777777777777778, \"#fb9f3a\"], [0.8888888888888888, \"#fdca26\"], [1.0, \"#f0f921\"]], \"type\": \"heatmap\"}], \"heatmapgl\": [{\"colorbar\": {\"outlinewidth\": 0, \"ticks\": \"\"}, \"colorscale\": [[0.0, \"#0d0887\"], [0.1111111111111111, \"#46039f\"], [0.2222222222222222, \"#7201a8\"], [0.3333333333333333, \"#9c179e\"], [0.4444444444444444, \"#bd3786\"], [0.5555555555555556, \"#d8576b\"], [0.6666666666666666, \"#ed7953\"], [0.7777777777777778, \"#fb9f3a\"], [0.8888888888888888, \"#fdca26\"], [1.0, \"#f0f921\"]], \"type\": \"heatmapgl\"}], \"histogram\": [{\"marker\": {\"colorbar\": {\"outlinewidth\": 0, \"ticks\": \"\"}}, \"type\": \"histogram\"}], \"histogram2d\": [{\"colorbar\": {\"outlinewidth\": 0, \"ticks\": \"\"}, \"colorscale\": [[0.0, \"#0d0887\"], [0.1111111111111111, \"#46039f\"], [0.2222222222222222, \"#7201a8\"], [0.3333333333333333, \"#9c179e\"], [0.4444444444444444, \"#bd3786\"], [0.5555555555555556, \"#d8576b\"], [0.6666666666666666, \"#ed7953\"], [0.7777777777777778, \"#fb9f3a\"], [0.8888888888888888, \"#fdca26\"], [1.0, \"#f0f921\"]], \"type\": \"histogram2d\"}], \"histogram2dcontour\": [{\"colorbar\": {\"outlinewidth\": 0, \"ticks\": \"\"}, \"colorscale\": [[0.0, \"#0d0887\"], [0.1111111111111111, \"#46039f\"], [0.2222222222222222, \"#7201a8\"], [0.3333333333333333, \"#9c179e\"], [0.4444444444444444, \"#bd3786\"], [0.5555555555555556, \"#d8576b\"], [0.6666666666666666, \"#ed7953\"], [0.7777777777777778, \"#fb9f3a\"], [0.8888888888888888, \"#fdca26\"], [1.0, \"#f0f921\"]], \"type\": \"histogram2dcontour\"}], \"mesh3d\": [{\"colorbar\": {\"outlinewidth\": 0, \"ticks\": \"\"}, \"type\": \"mesh3d\"}], \"parcoords\": [{\"line\": {\"colorbar\": {\"outlinewidth\": 0, \"ticks\": \"\"}}, \"type\": \"parcoords\"}], \"pie\": [{\"automargin\": true, \"type\": \"pie\"}], \"scatter\": [{\"marker\": {\"colorbar\": {\"outlinewidth\": 0, \"ticks\": \"\"}}, \"type\": \"scatter\"}], \"scatter3d\": [{\"line\": {\"colorbar\": {\"outlinewidth\": 0, \"ticks\": \"\"}}, \"marker\": {\"colorbar\": {\"outlinewidth\": 0, \"ticks\": \"\"}}, \"type\": \"scatter3d\"}], \"scattercarpet\": [{\"marker\": {\"colorbar\": {\"outlinewidth\": 0, \"ticks\": \"\"}}, \"type\": \"scattercarpet\"}], \"scattergeo\": [{\"marker\": {\"colorbar\": {\"outlinewidth\": 0, \"ticks\": \"\"}}, \"type\": \"scattergeo\"}], \"scattergl\": [{\"marker\": {\"colorbar\": {\"outlinewidth\": 0, \"ticks\": \"\"}}, \"type\": \"scattergl\"}], \"scattermapbox\": [{\"marker\": {\"colorbar\": {\"outlinewidth\": 0, \"ticks\": \"\"}}, \"type\": \"scattermapbox\"}], \"scatterpolar\": [{\"marker\": {\"colorbar\": {\"outlinewidth\": 0, \"ticks\": \"\"}}, \"type\": \"scatterpolar\"}], \"scatterpolargl\": [{\"marker\": {\"colorbar\": {\"outlinewidth\": 0, \"ticks\": \"\"}}, \"type\": \"scatterpolargl\"}], \"scatterternary\": [{\"marker\": {\"colorbar\": {\"outlinewidth\": 0, \"ticks\": \"\"}}, \"type\": \"scatterternary\"}], \"surface\": [{\"colorbar\": {\"outlinewidth\": 0, \"ticks\": \"\"}, \"colorscale\": [[0.0, \"#0d0887\"], [0.1111111111111111, \"#46039f\"], [0.2222222222222222, \"#7201a8\"], [0.3333333333333333, \"#9c179e\"], [0.4444444444444444, \"#bd3786\"], [0.5555555555555556, \"#d8576b\"], [0.6666666666666666, \"#ed7953\"], [0.7777777777777778, \"#fb9f3a\"], [0.8888888888888888, \"#fdca26\"], [1.0, \"#f0f921\"]], \"type\": \"surface\"}], \"table\": [{\"cells\": {\"fill\": {\"color\": \"#EBF0F8\"}, \"line\": {\"color\": \"white\"}}, \"header\": {\"fill\": {\"color\": \"#C8D4E3\"}, \"line\": {\"color\": \"white\"}}, \"type\": \"table\"}]}, \"layout\": {\"annotationdefaults\": {\"arrowcolor\": \"#2a3f5f\", \"arrowhead\": 0, \"arrowwidth\": 1}, \"coloraxis\": {\"colorbar\": {\"outlinewidth\": 0, \"ticks\": \"\"}}, \"colorscale\": {\"diverging\": [[0, \"#8e0152\"], [0.1, \"#c51b7d\"], [0.2, \"#de77ae\"], [0.3, \"#f1b6da\"], [0.4, \"#fde0ef\"], [0.5, \"#f7f7f7\"], [0.6, \"#e6f5d0\"], [0.7, \"#b8e186\"], [0.8, \"#7fbc41\"], [0.9, \"#4d9221\"], [1, \"#276419\"]], \"sequential\": [[0.0, \"#0d0887\"], [0.1111111111111111, \"#46039f\"], [0.2222222222222222, \"#7201a8\"], [0.3333333333333333, \"#9c179e\"], [0.4444444444444444, \"#bd3786\"], [0.5555555555555556, \"#d8576b\"], [0.6666666666666666, \"#ed7953\"], [0.7777777777777778, \"#fb9f3a\"], [0.8888888888888888, \"#fdca26\"], [1.0, \"#f0f921\"]], \"sequentialminus\": [[0.0, \"#0d0887\"], [0.1111111111111111, \"#46039f\"], [0.2222222222222222, \"#7201a8\"], [0.3333333333333333, \"#9c179e\"], [0.4444444444444444, \"#bd3786\"], [0.5555555555555556, \"#d8576b\"], [0.6666666666666666, \"#ed7953\"], [0.7777777777777778, \"#fb9f3a\"], [0.8888888888888888, \"#fdca26\"], [1.0, \"#f0f921\"]]}, \"colorway\": [\"#636efa\", \"#EF553B\", \"#00cc96\", \"#ab63fa\", \"#FFA15A\", \"#19d3f3\", \"#FF6692\", \"#B6E880\", \"#FF97FF\", \"#FECB52\"], \"font\": {\"color\": \"#2a3f5f\"}, \"geo\": {\"bgcolor\": \"white\", \"lakecolor\": \"white\", \"landcolor\": \"#E5ECF6\", \"showlakes\": true, \"showland\": true, \"subunitcolor\": \"white\"}, \"hoverlabel\": {\"align\": \"left\"}, \"hovermode\": \"closest\", \"mapbox\": {\"style\": \"light\"}, \"paper_bgcolor\": \"white\", \"plot_bgcolor\": \"#E5ECF6\", \"polar\": {\"angularaxis\": {\"gridcolor\": \"white\", \"linecolor\": \"white\", \"ticks\": \"\"}, \"bgcolor\": \"#E5ECF6\", \"radialaxis\": {\"gridcolor\": \"white\", \"linecolor\": \"white\", \"ticks\": \"\"}}, \"scene\": {\"xaxis\": {\"backgroundcolor\": \"#E5ECF6\", \"gridcolor\": \"white\", \"gridwidth\": 2, \"linecolor\": \"white\", \"showbackground\": true, \"ticks\": \"\", \"zerolinecolor\": \"white\"}, \"yaxis\": {\"backgroundcolor\": \"#E5ECF6\", \"gridcolor\": \"white\", \"gridwidth\": 2, \"linecolor\": \"white\", \"showbackground\": true, \"ticks\": \"\", \"zerolinecolor\": \"white\"}, \"zaxis\": {\"backgroundcolor\": \"#E5ECF6\", \"gridcolor\": \"white\", \"gridwidth\": 2, \"linecolor\": \"white\", \"showbackground\": true, \"ticks\": \"\", \"zerolinecolor\": \"white\"}}, \"shapedefaults\": {\"line\": {\"color\": \"#2a3f5f\"}}, \"ternary\": {\"aaxis\": {\"gridcolor\": \"white\", \"linecolor\": \"white\", \"ticks\": \"\"}, \"baxis\": {\"gridcolor\": \"white\", \"linecolor\": \"white\", \"ticks\": \"\"}, \"bgcolor\": \"#E5ECF6\", \"caxis\": {\"gridcolor\": \"white\", \"linecolor\": \"white\", \"ticks\": \"\"}}, \"title\": {\"x\": 0.05}, \"xaxis\": {\"automargin\": true, \"gridcolor\": \"white\", \"linecolor\": \"white\", \"ticks\": \"\", \"title\": {\"standoff\": 15}, \"zerolinecolor\": \"white\", \"zerolinewidth\": 2}, \"yaxis\": {\"automargin\": true, \"gridcolor\": \"white\", \"linecolor\": \"white\", \"ticks\": \"\", \"title\": {\"standoff\": 15}, \"zerolinecolor\": \"white\", \"zerolinewidth\": 2}}}, \"xaxis\": {\"anchor\": \"y\", \"domain\": [0.0, 1.0], \"title\": {\"text\": \"Name\"}}, \"yaxis\": {\"anchor\": \"x\", \"domain\": [0.0, 1.0], \"title\": {\"text\": \"Deceased\"}}},\n",
       "                        {\"responsive\": true}\n",
       "                    ).then(function(){\n",
       "                            \n",
       "var gd = document.getElementById('0b4930e2-eddb-49f5-b7e1-48ea35903b21');\n",
       "var x = new MutationObserver(function (mutations, observer) {{\n",
       "        var display = window.getComputedStyle(gd).display;\n",
       "        if (!display || display === 'none') {{\n",
       "            console.log([gd, 'removed!']);\n",
       "            Plotly.purge(gd);\n",
       "            observer.disconnect();\n",
       "        }}\n",
       "}});\n",
       "\n",
       "// Listen for the removal of the full notebook cells\n",
       "var notebookContainer = gd.closest('#notebook-container');\n",
       "if (notebookContainer) {{\n",
       "    x.observe(notebookContainer, {childList: true});\n",
       "}}\n",
       "\n",
       "// Listen for the clearing of the current output cell\n",
       "var outputEl = gd.closest('.output');\n",
       "if (outputEl) {{\n",
       "    x.observe(outputEl, {childList: true});\n",
       "}}\n",
       "\n",
       "                        })\n",
       "                };\n",
       "                });\n",
       "            </script>\n",
       "        </div>"
      ]
     },
     "metadata": {},
     "output_type": "display_data"
    }
   ],
   "source": [
    "# lets visualize world_df based on death poll for top 20 countries.\n",
    "\n",
    "world_fig = px.bar(world_df.sort_values('Deceased'), x = 'Name', y = 'Deceased')\n",
    "world_fig.show()"
   ]
  },
  {
   "cell_type": "markdown",
   "metadata": {},
   "source": [
    " -  As you see here also we cannot make countres based on number of deceased people.\n",
    " - There is some some problem with world_df[\"Deceased\"] column, let's fix that."
   ]
  },
  {
   "cell_type": "code",
   "execution_count": 135,
   "metadata": {},
   "outputs": [
    {
     "data": {
      "text/html": [
       "<div>\n",
       "<style scoped>\n",
       "    .dataframe tbody tr th:only-of-type {\n",
       "        vertical-align: middle;\n",
       "    }\n",
       "\n",
       "    .dataframe tbody tr th {\n",
       "        vertical-align: top;\n",
       "    }\n",
       "\n",
       "    .dataframe thead th {\n",
       "        text-align: right;\n",
       "    }\n",
       "</style>\n",
       "<table border=\"1\" class=\"dataframe\">\n",
       "  <thead>\n",
       "    <tr style=\"text-align: right;\">\n",
       "      <th></th>\n",
       "      <th>Name</th>\n",
       "      <th>Confirmed</th>\n",
       "      <th>Per Million</th>\n",
       "      <th>Changes Today</th>\n",
       "      <th>Percentage Day Change</th>\n",
       "      <th>Critical</th>\n",
       "      <th>Deceased</th>\n",
       "      <th>Per Million.1</th>\n",
       "      <th>Changes Today.1</th>\n",
       "      <th>Percentage Death Change</th>\n",
       "      <th>Tests</th>\n",
       "      <th>Active</th>\n",
       "      <th>Recovered</th>\n",
       "      <th>Per Million.2</th>\n",
       "      <th>Population</th>\n",
       "    </tr>\n",
       "  </thead>\n",
       "  <tbody>\n",
       "    <tr>\n",
       "      <th>213</th>\n",
       "      <td>★  Anguilla</td>\n",
       "      <td>3</td>\n",
       "      <td>0</td>\n",
       "      <td>0</td>\n",
       "      <td>0%</td>\n",
       "      <td>Unknown</td>\n",
       "      <td>Unknown</td>\n",
       "      <td>Unknown</td>\n",
       "      <td>0</td>\n",
       "      <td>0%</td>\n",
       "      <td>662</td>\n",
       "      <td>Unknown</td>\n",
       "      <td>3</td>\n",
       "      <td>0</td>\n",
       "      <td>15022</td>\n",
       "    </tr>\n",
       "    <tr>\n",
       "      <th>153</th>\n",
       "      <td>★  Timor-Leste</td>\n",
       "      <td>26</td>\n",
       "      <td>20</td>\n",
       "      <td>0</td>\n",
       "      <td>0%</td>\n",
       "      <td>Unknown</td>\n",
       "      <td>Unknown</td>\n",
       "      <td>Unknown</td>\n",
       "      <td>0</td>\n",
       "      <td>0%</td>\n",
       "      <td>5146</td>\n",
       "      <td>Unknown</td>\n",
       "      <td>25</td>\n",
       "      <td>19</td>\n",
       "      <td>1321843</td>\n",
       "    </tr>\n",
       "    <tr>\n",
       "      <th>194</th>\n",
       "      <td>★  Faroe Islands</td>\n",
       "      <td>384</td>\n",
       "      <td>0</td>\n",
       "      <td>0</td>\n",
       "      <td>0%</td>\n",
       "      <td>4</td>\n",
       "      <td>Unknown</td>\n",
       "      <td>Unknown</td>\n",
       "      <td>0</td>\n",
       "      <td>0%</td>\n",
       "      <td>81991</td>\n",
       "      <td>Unknown</td>\n",
       "      <td>300</td>\n",
       "      <td>0</td>\n",
       "      <td>48889</td>\n",
       "    </tr>\n",
       "    <tr>\n",
       "      <th>52</th>\n",
       "      <td>★  Eritrea</td>\n",
       "      <td>306</td>\n",
       "      <td>86</td>\n",
       "      <td>0</td>\n",
       "      <td>0%</td>\n",
       "      <td>Unknown</td>\n",
       "      <td>Unknown</td>\n",
       "      <td>Unknown</td>\n",
       "      <td>0</td>\n",
       "      <td>0%</td>\n",
       "      <td>Unknown</td>\n",
       "      <td>Unknown</td>\n",
       "      <td>274</td>\n",
       "      <td>77</td>\n",
       "      <td>3553187</td>\n",
       "    </tr>\n",
       "    <tr>\n",
       "      <th>106</th>\n",
       "      <td>★  Mongolia</td>\n",
       "      <td>298</td>\n",
       "      <td>91</td>\n",
       "      <td>0</td>\n",
       "      <td>0%</td>\n",
       "      <td>1</td>\n",
       "      <td>Unknown</td>\n",
       "      <td>Unknown</td>\n",
       "      <td>0</td>\n",
       "      <td>0%</td>\n",
       "      <td>47587</td>\n",
       "      <td>Unknown</td>\n",
       "      <td>288</td>\n",
       "      <td>88</td>\n",
       "      <td>3285510</td>\n",
       "    </tr>\n",
       "    <tr>\n",
       "      <th>...</th>\n",
       "      <td>...</td>\n",
       "      <td>...</td>\n",
       "      <td>...</td>\n",
       "      <td>...</td>\n",
       "      <td>...</td>\n",
       "      <td>...</td>\n",
       "      <td>...</td>\n",
       "      <td>...</td>\n",
       "      <td>...</td>\n",
       "      <td>...</td>\n",
       "      <td>...</td>\n",
       "      <td>...</td>\n",
       "      <td>...</td>\n",
       "      <td>...</td>\n",
       "      <td>...</td>\n",
       "    </tr>\n",
       "    <tr>\n",
       "      <th>209</th>\n",
       "      <td>★  Montserrat</td>\n",
       "      <td>13</td>\n",
       "      <td>0</td>\n",
       "      <td>0</td>\n",
       "      <td>0%</td>\n",
       "      <td>Unknown</td>\n",
       "      <td>1</td>\n",
       "      <td>0</td>\n",
       "      <td>0</td>\n",
       "      <td>0%</td>\n",
       "      <td>61</td>\n",
       "      <td>0</td>\n",
       "      <td>12</td>\n",
       "      <td>0</td>\n",
       "      <td>4992</td>\n",
       "    </tr>\n",
       "    <tr>\n",
       "      <th>93</th>\n",
       "      <td>★  Liechtenstein</td>\n",
       "      <td>99</td>\n",
       "      <td>0</td>\n",
       "      <td>0</td>\n",
       "      <td>0%</td>\n",
       "      <td>Unknown</td>\n",
       "      <td>1</td>\n",
       "      <td>0</td>\n",
       "      <td>0</td>\n",
       "      <td>0%</td>\n",
       "      <td>900</td>\n",
       "      <td>10</td>\n",
       "      <td>88</td>\n",
       "      <td>0</td>\n",
       "      <td>38144</td>\n",
       "    </tr>\n",
       "    <tr>\n",
       "      <th>165</th>\n",
       "      <td>★  Western Sahara</td>\n",
       "      <td>10</td>\n",
       "      <td>0</td>\n",
       "      <td>0</td>\n",
       "      <td>0%</td>\n",
       "      <td>Unknown</td>\n",
       "      <td>1</td>\n",
       "      <td>0</td>\n",
       "      <td>0</td>\n",
       "      <td>0%</td>\n",
       "      <td>Unknown</td>\n",
       "      <td>Unknown</td>\n",
       "      <td>8</td>\n",
       "      <td>0</td>\n",
       "      <td>599286</td>\n",
       "    </tr>\n",
       "    <tr>\n",
       "      <th>201</th>\n",
       "      <td>★  Cayman Islands</td>\n",
       "      <td>205</td>\n",
       "      <td>0</td>\n",
       "      <td>0</td>\n",
       "      <td>0%</td>\n",
       "      <td>Unknown</td>\n",
       "      <td>1</td>\n",
       "      <td>0</td>\n",
       "      <td>0</td>\n",
       "      <td>0%</td>\n",
       "      <td>34208</td>\n",
       "      <td>2</td>\n",
       "      <td>202</td>\n",
       "      <td>0</td>\n",
       "      <td>65829</td>\n",
       "    </tr>\n",
       "    <tr>\n",
       "      <th>56</th>\n",
       "      <td>★  Fiji</td>\n",
       "      <td>28</td>\n",
       "      <td>0</td>\n",
       "      <td>0</td>\n",
       "      <td>0%</td>\n",
       "      <td>Unknown</td>\n",
       "      <td>1</td>\n",
       "      <td>1</td>\n",
       "      <td>0</td>\n",
       "      <td>0%</td>\n",
       "      <td>6693</td>\n",
       "      <td>7</td>\n",
       "      <td>20</td>\n",
       "      <td>0</td>\n",
       "      <td>897361</td>\n",
       "    </tr>\n",
       "  </tbody>\n",
       "</table>\n",
       "<p>215 rows × 15 columns</p>\n",
       "</div>"
      ],
      "text/plain": [
       "                  Name  Confirmed Per Million  Changes Today  \\\n",
       "213        ★  Anguilla          3           0              0   \n",
       "153     ★  Timor-Leste         26          20              0   \n",
       "194   ★  Faroe Islands        384           0              0   \n",
       "52          ★  Eritrea        306          86              0   \n",
       "106        ★  Mongolia        298          91              0   \n",
       "..                 ...        ...         ...            ...   \n",
       "209      ★  Montserrat         13           0              0   \n",
       "93    ★  Liechtenstein         99           0              0   \n",
       "165  ★  Western Sahara         10           0              0   \n",
       "201  ★  Cayman Islands        205           0              0   \n",
       "56             ★  Fiji         28           0              0   \n",
       "\n",
       "    Percentage Day Change Critical Deceased Per Million.1  Changes Today.1  \\\n",
       "213                    0%  Unknown  Unknown       Unknown                0   \n",
       "153                    0%  Unknown  Unknown       Unknown                0   \n",
       "194                    0%        4  Unknown       Unknown                0   \n",
       "52                     0%  Unknown  Unknown       Unknown                0   \n",
       "106                    0%        1  Unknown       Unknown                0   \n",
       "..                    ...      ...      ...           ...              ...   \n",
       "209                    0%  Unknown        1             0                0   \n",
       "93                     0%  Unknown        1             0                0   \n",
       "165                    0%  Unknown        1             0                0   \n",
       "201                    0%  Unknown        1             0                0   \n",
       "56                     0%  Unknown        1             1                0   \n",
       "\n",
       "    Percentage Death Change    Tests   Active Recovered Per Million.2  \\\n",
       "213                      0%      662  Unknown         3             0   \n",
       "153                      0%     5146  Unknown        25            19   \n",
       "194                      0%    81991  Unknown       300             0   \n",
       "52                       0%  Unknown  Unknown       274            77   \n",
       "106                      0%    47587  Unknown       288            88   \n",
       "..                      ...      ...      ...       ...           ...   \n",
       "209                      0%       61        0        12             0   \n",
       "93                       0%      900       10        88             0   \n",
       "165                      0%  Unknown  Unknown         8             0   \n",
       "201                      0%    34208        2       202             0   \n",
       "56                       0%     6693        7        20             0   \n",
       "\n",
       "    Population  \n",
       "213      15022  \n",
       "153    1321843  \n",
       "194      48889  \n",
       "52     3553187  \n",
       "106    3285510  \n",
       "..         ...  \n",
       "209       4992  \n",
       "93       38144  \n",
       "165     599286  \n",
       "201      65829  \n",
       "56      897361  \n",
       "\n",
       "[215 rows x 15 columns]"
      ]
     },
     "execution_count": 135,
     "metadata": {},
     "output_type": "execute_result"
    }
   ],
   "source": [
    "# lets grab the world_df based on deceased column.\n",
    "world_df.sort_values('Deceased',ascending = False)"
   ]
  },
  {
   "cell_type": "markdown",
   "metadata": {},
   "source": [
    " - The column contains many unknown values.\n",
    " - We'll replace all the unknown values with zero.\n",
    " - Then we will arrange the column in descending order for visualization purpose."
   ]
  },
  {
   "cell_type": "code",
   "execution_count": 136,
   "metadata": {},
   "outputs": [
    {
     "data": {
      "text/plain": [
       "0      803223\n",
       "169    179200\n",
       "170    113454\n",
       "171     55928\n",
       "172     16189\n",
       "        ...  \n",
       "211         0\n",
       "70          0\n",
       "165         1\n",
       "212         0\n",
       "213         0\n",
       "Name: Deceased, Length: 215, dtype: int64"
      ]
     },
     "execution_count": 136,
     "metadata": {},
     "output_type": "execute_result"
    }
   ],
   "source": [
    "# lets replace unknown values to 0.\n",
    "\n",
    "world_df['Deceased'].replace(\"Unknown\", 0,inplace=True)\n",
    "world_df['Deceased'] = pd.to_numeric(world_df['Deceased'])          #convert column from type object to int64\n",
    "world_df['Deceased']"
   ]
  },
  {
   "cell_type": "code",
   "execution_count": 137,
   "metadata": {},
   "outputs": [
    {
     "data": {
      "text/html": [
       "<div>\n",
       "<style scoped>\n",
       "    .dataframe tbody tr th:only-of-type {\n",
       "        vertical-align: middle;\n",
       "    }\n",
       "\n",
       "    .dataframe tbody tr th {\n",
       "        vertical-align: top;\n",
       "    }\n",
       "\n",
       "    .dataframe thead th {\n",
       "        text-align: right;\n",
       "    }\n",
       "</style>\n",
       "<table border=\"1\" class=\"dataframe\">\n",
       "  <thead>\n",
       "    <tr style=\"text-align: right;\">\n",
       "      <th></th>\n",
       "      <th>Name</th>\n",
       "      <th>Confirmed</th>\n",
       "      <th>Per Million</th>\n",
       "      <th>Changes Today</th>\n",
       "      <th>Percentage Day Change</th>\n",
       "      <th>Critical</th>\n",
       "      <th>Deceased</th>\n",
       "      <th>Per Million.1</th>\n",
       "      <th>Changes Today.1</th>\n",
       "      <th>Percentage Death Change</th>\n",
       "      <th>Tests</th>\n",
       "      <th>Active</th>\n",
       "      <th>Recovered</th>\n",
       "      <th>Per Million.2</th>\n",
       "      <th>Population</th>\n",
       "    </tr>\n",
       "  </thead>\n",
       "  <tbody>\n",
       "    <tr>\n",
       "      <th>0</th>\n",
       "      <td>TOTAL</td>\n",
       "      <td>23121366</td>\n",
       "      <td>2976</td>\n",
       "      <td>12950</td>\n",
       "      <td>0.06%</td>\n",
       "      <td>61716</td>\n",
       "      <td>803223</td>\n",
       "      <td>103</td>\n",
       "      <td>623</td>\n",
       "      <td>0.08%</td>\n",
       "      <td>408073508</td>\n",
       "      <td>6662651</td>\n",
       "      <td>15509908</td>\n",
       "      <td>1996</td>\n",
       "      <td>7768876378</td>\n",
       "    </tr>\n",
       "    <tr>\n",
       "      <th>169</th>\n",
       "      <td>★  United States</td>\n",
       "      <td>5796727</td>\n",
       "      <td>17498</td>\n",
       "      <td>0</td>\n",
       "      <td>0%</td>\n",
       "      <td>16801</td>\n",
       "      <td>179200</td>\n",
       "      <td>541</td>\n",
       "      <td>0</td>\n",
       "      <td>0%</td>\n",
       "      <td>74718580</td>\n",
       "      <td>2490109</td>\n",
       "      <td>3127418</td>\n",
       "      <td>9440</td>\n",
       "      <td>331277530</td>\n",
       "    </tr>\n",
       "    <tr>\n",
       "      <th>170</th>\n",
       "      <td>★  Brazil</td>\n",
       "      <td>3536488</td>\n",
       "      <td>16621</td>\n",
       "      <td>0</td>\n",
       "      <td>0%</td>\n",
       "      <td>8318</td>\n",
       "      <td>113454</td>\n",
       "      <td>533</td>\n",
       "      <td>0</td>\n",
       "      <td>0%</td>\n",
       "      <td>14144344</td>\n",
       "      <td>752279</td>\n",
       "      <td>2670755</td>\n",
       "      <td>12552</td>\n",
       "      <td>212772522</td>\n",
       "    </tr>\n",
       "    <tr>\n",
       "      <th>174</th>\n",
       "      <td>★  Mexico</td>\n",
       "      <td>549734</td>\n",
       "      <td>4257</td>\n",
       "      <td>5928</td>\n",
       "      <td>1.09%</td>\n",
       "      <td>3518</td>\n",
       "      <td>59610</td>\n",
       "      <td>462</td>\n",
       "      <td>504</td>\n",
       "      <td>0.85%</td>\n",
       "      <td>1239133</td>\n",
       "      <td>113715</td>\n",
       "      <td>376409</td>\n",
       "      <td>2915</td>\n",
       "      <td>129121642</td>\n",
       "    </tr>\n",
       "    <tr>\n",
       "      <th>171</th>\n",
       "      <td>★  India</td>\n",
       "      <td>2975701</td>\n",
       "      <td>2153</td>\n",
       "      <td>2333</td>\n",
       "      <td>0.08%</td>\n",
       "      <td>8944</td>\n",
       "      <td>55928</td>\n",
       "      <td>40</td>\n",
       "      <td>0</td>\n",
       "      <td>0%</td>\n",
       "      <td>34491073</td>\n",
       "      <td>697196</td>\n",
       "      <td>2222577</td>\n",
       "      <td>1608</td>\n",
       "      <td>1381900601</td>\n",
       "    </tr>\n",
       "    <tr>\n",
       "      <th>...</th>\n",
       "      <td>...</td>\n",
       "      <td>...</td>\n",
       "      <td>...</td>\n",
       "      <td>...</td>\n",
       "      <td>...</td>\n",
       "      <td>...</td>\n",
       "      <td>...</td>\n",
       "      <td>...</td>\n",
       "      <td>...</td>\n",
       "      <td>...</td>\n",
       "      <td>...</td>\n",
       "      <td>...</td>\n",
       "      <td>...</td>\n",
       "      <td>...</td>\n",
       "      <td>...</td>\n",
       "    </tr>\n",
       "    <tr>\n",
       "      <th>199</th>\n",
       "      <td>★  French Polynesia</td>\n",
       "      <td>298</td>\n",
       "      <td>0</td>\n",
       "      <td>0</td>\n",
       "      <td>0%</td>\n",
       "      <td>2</td>\n",
       "      <td>0</td>\n",
       "      <td>Unknown</td>\n",
       "      <td>0</td>\n",
       "      <td>0%</td>\n",
       "      <td>9912</td>\n",
       "      <td>Unknown</td>\n",
       "      <td>148</td>\n",
       "      <td>0</td>\n",
       "      <td>281138</td>\n",
       "    </tr>\n",
       "    <tr>\n",
       "      <th>106</th>\n",
       "      <td>★  Mongolia</td>\n",
       "      <td>298</td>\n",
       "      <td>91</td>\n",
       "      <td>0</td>\n",
       "      <td>0%</td>\n",
       "      <td>1</td>\n",
       "      <td>0</td>\n",
       "      <td>Unknown</td>\n",
       "      <td>0</td>\n",
       "      <td>0%</td>\n",
       "      <td>47587</td>\n",
       "      <td>Unknown</td>\n",
       "      <td>288</td>\n",
       "      <td>88</td>\n",
       "      <td>3285510</td>\n",
       "    </tr>\n",
       "    <tr>\n",
       "      <th>52</th>\n",
       "      <td>★  Eritrea</td>\n",
       "      <td>306</td>\n",
       "      <td>86</td>\n",
       "      <td>0</td>\n",
       "      <td>0%</td>\n",
       "      <td>Unknown</td>\n",
       "      <td>0</td>\n",
       "      <td>Unknown</td>\n",
       "      <td>0</td>\n",
       "      <td>0%</td>\n",
       "      <td>Unknown</td>\n",
       "      <td>Unknown</td>\n",
       "      <td>274</td>\n",
       "      <td>77</td>\n",
       "      <td>3553187</td>\n",
       "    </tr>\n",
       "    <tr>\n",
       "      <th>194</th>\n",
       "      <td>★  Faroe Islands</td>\n",
       "      <td>384</td>\n",
       "      <td>0</td>\n",
       "      <td>0</td>\n",
       "      <td>0%</td>\n",
       "      <td>4</td>\n",
       "      <td>0</td>\n",
       "      <td>Unknown</td>\n",
       "      <td>0</td>\n",
       "      <td>0%</td>\n",
       "      <td>81991</td>\n",
       "      <td>Unknown</td>\n",
       "      <td>300</td>\n",
       "      <td>0</td>\n",
       "      <td>48889</td>\n",
       "    </tr>\n",
       "    <tr>\n",
       "      <th>213</th>\n",
       "      <td>★  Anguilla</td>\n",
       "      <td>3</td>\n",
       "      <td>0</td>\n",
       "      <td>0</td>\n",
       "      <td>0%</td>\n",
       "      <td>Unknown</td>\n",
       "      <td>0</td>\n",
       "      <td>Unknown</td>\n",
       "      <td>0</td>\n",
       "      <td>0%</td>\n",
       "      <td>662</td>\n",
       "      <td>Unknown</td>\n",
       "      <td>3</td>\n",
       "      <td>0</td>\n",
       "      <td>15022</td>\n",
       "    </tr>\n",
       "  </tbody>\n",
       "</table>\n",
       "<p>215 rows × 15 columns</p>\n",
       "</div>"
      ],
      "text/plain": [
       "                    Name  Confirmed Per Million  Changes Today  \\\n",
       "0                  TOTAL   23121366        2976          12950   \n",
       "169     ★  United States    5796727       17498              0   \n",
       "170            ★  Brazil    3536488       16621              0   \n",
       "174            ★  Mexico     549734        4257           5928   \n",
       "171             ★  India    2975701        2153           2333   \n",
       "..                   ...        ...         ...            ...   \n",
       "199  ★  French Polynesia        298           0              0   \n",
       "106          ★  Mongolia        298          91              0   \n",
       "52            ★  Eritrea        306          86              0   \n",
       "194     ★  Faroe Islands        384           0              0   \n",
       "213          ★  Anguilla          3           0              0   \n",
       "\n",
       "    Percentage Day Change Critical  Deceased Per Million.1  Changes Today.1  \\\n",
       "0                   0.06%    61716    803223           103              623   \n",
       "169                    0%    16801    179200           541                0   \n",
       "170                    0%     8318    113454           533                0   \n",
       "174                 1.09%     3518     59610           462              504   \n",
       "171                 0.08%     8944     55928            40                0   \n",
       "..                    ...      ...       ...           ...              ...   \n",
       "199                    0%        2         0       Unknown                0   \n",
       "106                    0%        1         0       Unknown                0   \n",
       "52                     0%  Unknown         0       Unknown                0   \n",
       "194                    0%        4         0       Unknown                0   \n",
       "213                    0%  Unknown         0       Unknown                0   \n",
       "\n",
       "    Percentage Death Change      Tests   Active Recovered Per Million.2  \\\n",
       "0                     0.08%  408073508  6662651  15509908          1996   \n",
       "169                      0%   74718580  2490109   3127418          9440   \n",
       "170                      0%   14144344   752279   2670755         12552   \n",
       "174                   0.85%    1239133   113715    376409          2915   \n",
       "171                      0%   34491073   697196   2222577          1608   \n",
       "..                      ...        ...      ...       ...           ...   \n",
       "199                      0%       9912  Unknown       148             0   \n",
       "106                      0%      47587  Unknown       288            88   \n",
       "52                       0%    Unknown  Unknown       274            77   \n",
       "194                      0%      81991  Unknown       300             0   \n",
       "213                      0%        662  Unknown         3             0   \n",
       "\n",
       "     Population  \n",
       "0    7768876378  \n",
       "169   331277530  \n",
       "170   212772522  \n",
       "174   129121642  \n",
       "171  1381900601  \n",
       "..          ...  \n",
       "199      281138  \n",
       "106     3285510  \n",
       "52      3553187  \n",
       "194       48889  \n",
       "213       15022  \n",
       "\n",
       "[215 rows x 15 columns]"
      ]
     },
     "execution_count": 137,
     "metadata": {},
     "output_type": "execute_result"
    }
   ],
   "source": [
    "# now again lets grab world_df based on deceased column.\n",
    "\n",
    "world_df.sort_values('Deceased',ascending = False)"
   ]
  },
  {
   "cell_type": "markdown",
   "metadata": {},
   "source": [
    " - Perfecto!. Now we can see that column has been cleared off all the \"Unknown\"."
   ]
  },
  {
   "cell_type": "code",
   "execution_count": 138,
   "metadata": {},
   "outputs": [
    {
     "data": {
      "application/vnd.plotly.v1+json": {
       "config": {
        "plotlyServerURL": "https://plot.ly"
       },
       "data": [
        {
         "alignmentgroup": "True",
         "hovertemplate": "Name=%{x}<br>Deceased=%{y}<extra></extra>",
         "legendgroup": "",
         "marker": {
          "color": "#636efa"
         },
         "name": "",
         "offsetgroup": "",
         "orientation": "v",
         "showlegend": false,
         "textposition": "auto",
         "type": "bar",
         "x": [
          "TOTAL",
          "★  United States",
          "★  Brazil",
          "★  Mexico",
          "★  India",
          "★  United Kingdom",
          "★  Italy",
          "★  France",
          "★  Spain",
          "★  Peru",
          "★  Iran",
          "★  Colombia",
          "★  Russia",
          "★  South Africa",
          "★  Chile",
          "★  Belgium",
          "★  Germany",
          "★  Canada",
          "★  Argentina",
          "★  Indonesia"
         ],
         "xaxis": "x",
         "y": [
          803223,
          179200,
          113454,
          59610,
          55928,
          41405,
          35427,
          30503,
          28838,
          27245,
          20376,
          16568,
          16189,
          12843,
          10723,
          9985,
          9328,
          9109,
          6730,
          6500
         ],
         "yaxis": "y"
        }
       ],
       "layout": {
        "barmode": "relative",
        "legend": {
         "tracegroupgap": 0
        },
        "margin": {
         "t": 60
        },
        "template": {
         "data": {
          "bar": [
           {
            "error_x": {
             "color": "#2a3f5f"
            },
            "error_y": {
             "color": "#2a3f5f"
            },
            "marker": {
             "line": {
              "color": "#E5ECF6",
              "width": 0.5
             }
            },
            "type": "bar"
           }
          ],
          "barpolar": [
           {
            "marker": {
             "line": {
              "color": "#E5ECF6",
              "width": 0.5
             }
            },
            "type": "barpolar"
           }
          ],
          "carpet": [
           {
            "aaxis": {
             "endlinecolor": "#2a3f5f",
             "gridcolor": "white",
             "linecolor": "white",
             "minorgridcolor": "white",
             "startlinecolor": "#2a3f5f"
            },
            "baxis": {
             "endlinecolor": "#2a3f5f",
             "gridcolor": "white",
             "linecolor": "white",
             "minorgridcolor": "white",
             "startlinecolor": "#2a3f5f"
            },
            "type": "carpet"
           }
          ],
          "choropleth": [
           {
            "colorbar": {
             "outlinewidth": 0,
             "ticks": ""
            },
            "type": "choropleth"
           }
          ],
          "contour": [
           {
            "colorbar": {
             "outlinewidth": 0,
             "ticks": ""
            },
            "colorscale": [
             [
              0,
              "#0d0887"
             ],
             [
              0.1111111111111111,
              "#46039f"
             ],
             [
              0.2222222222222222,
              "#7201a8"
             ],
             [
              0.3333333333333333,
              "#9c179e"
             ],
             [
              0.4444444444444444,
              "#bd3786"
             ],
             [
              0.5555555555555556,
              "#d8576b"
             ],
             [
              0.6666666666666666,
              "#ed7953"
             ],
             [
              0.7777777777777778,
              "#fb9f3a"
             ],
             [
              0.8888888888888888,
              "#fdca26"
             ],
             [
              1,
              "#f0f921"
             ]
            ],
            "type": "contour"
           }
          ],
          "contourcarpet": [
           {
            "colorbar": {
             "outlinewidth": 0,
             "ticks": ""
            },
            "type": "contourcarpet"
           }
          ],
          "heatmap": [
           {
            "colorbar": {
             "outlinewidth": 0,
             "ticks": ""
            },
            "colorscale": [
             [
              0,
              "#0d0887"
             ],
             [
              0.1111111111111111,
              "#46039f"
             ],
             [
              0.2222222222222222,
              "#7201a8"
             ],
             [
              0.3333333333333333,
              "#9c179e"
             ],
             [
              0.4444444444444444,
              "#bd3786"
             ],
             [
              0.5555555555555556,
              "#d8576b"
             ],
             [
              0.6666666666666666,
              "#ed7953"
             ],
             [
              0.7777777777777778,
              "#fb9f3a"
             ],
             [
              0.8888888888888888,
              "#fdca26"
             ],
             [
              1,
              "#f0f921"
             ]
            ],
            "type": "heatmap"
           }
          ],
          "heatmapgl": [
           {
            "colorbar": {
             "outlinewidth": 0,
             "ticks": ""
            },
            "colorscale": [
             [
              0,
              "#0d0887"
             ],
             [
              0.1111111111111111,
              "#46039f"
             ],
             [
              0.2222222222222222,
              "#7201a8"
             ],
             [
              0.3333333333333333,
              "#9c179e"
             ],
             [
              0.4444444444444444,
              "#bd3786"
             ],
             [
              0.5555555555555556,
              "#d8576b"
             ],
             [
              0.6666666666666666,
              "#ed7953"
             ],
             [
              0.7777777777777778,
              "#fb9f3a"
             ],
             [
              0.8888888888888888,
              "#fdca26"
             ],
             [
              1,
              "#f0f921"
             ]
            ],
            "type": "heatmapgl"
           }
          ],
          "histogram": [
           {
            "marker": {
             "colorbar": {
              "outlinewidth": 0,
              "ticks": ""
             }
            },
            "type": "histogram"
           }
          ],
          "histogram2d": [
           {
            "colorbar": {
             "outlinewidth": 0,
             "ticks": ""
            },
            "colorscale": [
             [
              0,
              "#0d0887"
             ],
             [
              0.1111111111111111,
              "#46039f"
             ],
             [
              0.2222222222222222,
              "#7201a8"
             ],
             [
              0.3333333333333333,
              "#9c179e"
             ],
             [
              0.4444444444444444,
              "#bd3786"
             ],
             [
              0.5555555555555556,
              "#d8576b"
             ],
             [
              0.6666666666666666,
              "#ed7953"
             ],
             [
              0.7777777777777778,
              "#fb9f3a"
             ],
             [
              0.8888888888888888,
              "#fdca26"
             ],
             [
              1,
              "#f0f921"
             ]
            ],
            "type": "histogram2d"
           }
          ],
          "histogram2dcontour": [
           {
            "colorbar": {
             "outlinewidth": 0,
             "ticks": ""
            },
            "colorscale": [
             [
              0,
              "#0d0887"
             ],
             [
              0.1111111111111111,
              "#46039f"
             ],
             [
              0.2222222222222222,
              "#7201a8"
             ],
             [
              0.3333333333333333,
              "#9c179e"
             ],
             [
              0.4444444444444444,
              "#bd3786"
             ],
             [
              0.5555555555555556,
              "#d8576b"
             ],
             [
              0.6666666666666666,
              "#ed7953"
             ],
             [
              0.7777777777777778,
              "#fb9f3a"
             ],
             [
              0.8888888888888888,
              "#fdca26"
             ],
             [
              1,
              "#f0f921"
             ]
            ],
            "type": "histogram2dcontour"
           }
          ],
          "mesh3d": [
           {
            "colorbar": {
             "outlinewidth": 0,
             "ticks": ""
            },
            "type": "mesh3d"
           }
          ],
          "parcoords": [
           {
            "line": {
             "colorbar": {
              "outlinewidth": 0,
              "ticks": ""
             }
            },
            "type": "parcoords"
           }
          ],
          "pie": [
           {
            "automargin": true,
            "type": "pie"
           }
          ],
          "scatter": [
           {
            "marker": {
             "colorbar": {
              "outlinewidth": 0,
              "ticks": ""
             }
            },
            "type": "scatter"
           }
          ],
          "scatter3d": [
           {
            "line": {
             "colorbar": {
              "outlinewidth": 0,
              "ticks": ""
             }
            },
            "marker": {
             "colorbar": {
              "outlinewidth": 0,
              "ticks": ""
             }
            },
            "type": "scatter3d"
           }
          ],
          "scattercarpet": [
           {
            "marker": {
             "colorbar": {
              "outlinewidth": 0,
              "ticks": ""
             }
            },
            "type": "scattercarpet"
           }
          ],
          "scattergeo": [
           {
            "marker": {
             "colorbar": {
              "outlinewidth": 0,
              "ticks": ""
             }
            },
            "type": "scattergeo"
           }
          ],
          "scattergl": [
           {
            "marker": {
             "colorbar": {
              "outlinewidth": 0,
              "ticks": ""
             }
            },
            "type": "scattergl"
           }
          ],
          "scattermapbox": [
           {
            "marker": {
             "colorbar": {
              "outlinewidth": 0,
              "ticks": ""
             }
            },
            "type": "scattermapbox"
           }
          ],
          "scatterpolar": [
           {
            "marker": {
             "colorbar": {
              "outlinewidth": 0,
              "ticks": ""
             }
            },
            "type": "scatterpolar"
           }
          ],
          "scatterpolargl": [
           {
            "marker": {
             "colorbar": {
              "outlinewidth": 0,
              "ticks": ""
             }
            },
            "type": "scatterpolargl"
           }
          ],
          "scatterternary": [
           {
            "marker": {
             "colorbar": {
              "outlinewidth": 0,
              "ticks": ""
             }
            },
            "type": "scatterternary"
           }
          ],
          "surface": [
           {
            "colorbar": {
             "outlinewidth": 0,
             "ticks": ""
            },
            "colorscale": [
             [
              0,
              "#0d0887"
             ],
             [
              0.1111111111111111,
              "#46039f"
             ],
             [
              0.2222222222222222,
              "#7201a8"
             ],
             [
              0.3333333333333333,
              "#9c179e"
             ],
             [
              0.4444444444444444,
              "#bd3786"
             ],
             [
              0.5555555555555556,
              "#d8576b"
             ],
             [
              0.6666666666666666,
              "#ed7953"
             ],
             [
              0.7777777777777778,
              "#fb9f3a"
             ],
             [
              0.8888888888888888,
              "#fdca26"
             ],
             [
              1,
              "#f0f921"
             ]
            ],
            "type": "surface"
           }
          ],
          "table": [
           {
            "cells": {
             "fill": {
              "color": "#EBF0F8"
             },
             "line": {
              "color": "white"
             }
            },
            "header": {
             "fill": {
              "color": "#C8D4E3"
             },
             "line": {
              "color": "white"
             }
            },
            "type": "table"
           }
          ]
         },
         "layout": {
          "annotationdefaults": {
           "arrowcolor": "#2a3f5f",
           "arrowhead": 0,
           "arrowwidth": 1
          },
          "coloraxis": {
           "colorbar": {
            "outlinewidth": 0,
            "ticks": ""
           }
          },
          "colorscale": {
           "diverging": [
            [
             0,
             "#8e0152"
            ],
            [
             0.1,
             "#c51b7d"
            ],
            [
             0.2,
             "#de77ae"
            ],
            [
             0.3,
             "#f1b6da"
            ],
            [
             0.4,
             "#fde0ef"
            ],
            [
             0.5,
             "#f7f7f7"
            ],
            [
             0.6,
             "#e6f5d0"
            ],
            [
             0.7,
             "#b8e186"
            ],
            [
             0.8,
             "#7fbc41"
            ],
            [
             0.9,
             "#4d9221"
            ],
            [
             1,
             "#276419"
            ]
           ],
           "sequential": [
            [
             0,
             "#0d0887"
            ],
            [
             0.1111111111111111,
             "#46039f"
            ],
            [
             0.2222222222222222,
             "#7201a8"
            ],
            [
             0.3333333333333333,
             "#9c179e"
            ],
            [
             0.4444444444444444,
             "#bd3786"
            ],
            [
             0.5555555555555556,
             "#d8576b"
            ],
            [
             0.6666666666666666,
             "#ed7953"
            ],
            [
             0.7777777777777778,
             "#fb9f3a"
            ],
            [
             0.8888888888888888,
             "#fdca26"
            ],
            [
             1,
             "#f0f921"
            ]
           ],
           "sequentialminus": [
            [
             0,
             "#0d0887"
            ],
            [
             0.1111111111111111,
             "#46039f"
            ],
            [
             0.2222222222222222,
             "#7201a8"
            ],
            [
             0.3333333333333333,
             "#9c179e"
            ],
            [
             0.4444444444444444,
             "#bd3786"
            ],
            [
             0.5555555555555556,
             "#d8576b"
            ],
            [
             0.6666666666666666,
             "#ed7953"
            ],
            [
             0.7777777777777778,
             "#fb9f3a"
            ],
            [
             0.8888888888888888,
             "#fdca26"
            ],
            [
             1,
             "#f0f921"
            ]
           ]
          },
          "colorway": [
           "#636efa",
           "#EF553B",
           "#00cc96",
           "#ab63fa",
           "#FFA15A",
           "#19d3f3",
           "#FF6692",
           "#B6E880",
           "#FF97FF",
           "#FECB52"
          ],
          "font": {
           "color": "#2a3f5f"
          },
          "geo": {
           "bgcolor": "white",
           "lakecolor": "white",
           "landcolor": "#E5ECF6",
           "showlakes": true,
           "showland": true,
           "subunitcolor": "white"
          },
          "hoverlabel": {
           "align": "left"
          },
          "hovermode": "closest",
          "mapbox": {
           "style": "light"
          },
          "paper_bgcolor": "white",
          "plot_bgcolor": "#E5ECF6",
          "polar": {
           "angularaxis": {
            "gridcolor": "white",
            "linecolor": "white",
            "ticks": ""
           },
           "bgcolor": "#E5ECF6",
           "radialaxis": {
            "gridcolor": "white",
            "linecolor": "white",
            "ticks": ""
           }
          },
          "scene": {
           "xaxis": {
            "backgroundcolor": "#E5ECF6",
            "gridcolor": "white",
            "gridwidth": 2,
            "linecolor": "white",
            "showbackground": true,
            "ticks": "",
            "zerolinecolor": "white"
           },
           "yaxis": {
            "backgroundcolor": "#E5ECF6",
            "gridcolor": "white",
            "gridwidth": 2,
            "linecolor": "white",
            "showbackground": true,
            "ticks": "",
            "zerolinecolor": "white"
           },
           "zaxis": {
            "backgroundcolor": "#E5ECF6",
            "gridcolor": "white",
            "gridwidth": 2,
            "linecolor": "white",
            "showbackground": true,
            "ticks": "",
            "zerolinecolor": "white"
           }
          },
          "shapedefaults": {
           "line": {
            "color": "#2a3f5f"
           }
          },
          "ternary": {
           "aaxis": {
            "gridcolor": "white",
            "linecolor": "white",
            "ticks": ""
           },
           "baxis": {
            "gridcolor": "white",
            "linecolor": "white",
            "ticks": ""
           },
           "bgcolor": "#E5ECF6",
           "caxis": {
            "gridcolor": "white",
            "linecolor": "white",
            "ticks": ""
           }
          },
          "title": {
           "x": 0.05
          },
          "xaxis": {
           "automargin": true,
           "gridcolor": "white",
           "linecolor": "white",
           "ticks": "",
           "title": {
            "standoff": 15
           },
           "zerolinecolor": "white",
           "zerolinewidth": 2
          },
          "yaxis": {
           "automargin": true,
           "gridcolor": "white",
           "linecolor": "white",
           "ticks": "",
           "title": {
            "standoff": 15
           },
           "zerolinecolor": "white",
           "zerolinewidth": 2
          }
         }
        },
        "xaxis": {
         "anchor": "y",
         "domain": [
          0,
          1
         ],
         "title": {
          "text": "Name"
         }
        },
        "yaxis": {
         "anchor": "x",
         "domain": [
          0,
          1
         ],
         "title": {
          "text": "Deceased"
         }
        }
       }
      },
      "text/html": [
       "<div>\n",
       "        \n",
       "        \n",
       "            <div id=\"c57edd5f-ac5d-4c6d-b06c-19b79890edd8\" class=\"plotly-graph-div\" style=\"height:525px; width:100%;\"></div>\n",
       "            <script type=\"text/javascript\">\n",
       "                require([\"plotly\"], function(Plotly) {\n",
       "                    window.PLOTLYENV=window.PLOTLYENV || {};\n",
       "                    \n",
       "                if (document.getElementById(\"c57edd5f-ac5d-4c6d-b06c-19b79890edd8\")) {\n",
       "                    Plotly.newPlot(\n",
       "                        'c57edd5f-ac5d-4c6d-b06c-19b79890edd8',\n",
       "                        [{\"alignmentgroup\": \"True\", \"hovertemplate\": \"Name=%{x}<br>Deceased=%{y}<extra></extra>\", \"legendgroup\": \"\", \"marker\": {\"color\": \"#636efa\"}, \"name\": \"\", \"offsetgroup\": \"\", \"orientation\": \"v\", \"showlegend\": false, \"textposition\": \"auto\", \"type\": \"bar\", \"x\": [\"TOTAL\", \"\\u2605  United States\", \"\\u2605  Brazil\", \"\\u2605  Mexico\", \"\\u2605  India\", \"\\u2605  United Kingdom\", \"\\u2605  Italy\", \"\\u2605  France\", \"\\u2605  Spain\", \"\\u2605  Peru\", \"\\u2605  Iran\", \"\\u2605  Colombia\", \"\\u2605  Russia\", \"\\u2605  South Africa\", \"\\u2605  Chile\", \"\\u2605  Belgium\", \"\\u2605  Germany\", \"\\u2605  Canada\", \"\\u2605  Argentina\", \"\\u2605  Indonesia\"], \"xaxis\": \"x\", \"y\": [803223, 179200, 113454, 59610, 55928, 41405, 35427, 30503, 28838, 27245, 20376, 16568, 16189, 12843, 10723, 9985, 9328, 9109, 6730, 6500], \"yaxis\": \"y\"}],\n",
       "                        {\"barmode\": \"relative\", \"legend\": {\"tracegroupgap\": 0}, \"margin\": {\"t\": 60}, \"template\": {\"data\": {\"bar\": [{\"error_x\": {\"color\": \"#2a3f5f\"}, \"error_y\": {\"color\": \"#2a3f5f\"}, \"marker\": {\"line\": {\"color\": \"#E5ECF6\", \"width\": 0.5}}, \"type\": \"bar\"}], \"barpolar\": [{\"marker\": {\"line\": {\"color\": \"#E5ECF6\", \"width\": 0.5}}, \"type\": \"barpolar\"}], \"carpet\": [{\"aaxis\": {\"endlinecolor\": \"#2a3f5f\", \"gridcolor\": \"white\", \"linecolor\": \"white\", \"minorgridcolor\": \"white\", \"startlinecolor\": \"#2a3f5f\"}, \"baxis\": {\"endlinecolor\": \"#2a3f5f\", \"gridcolor\": \"white\", \"linecolor\": \"white\", \"minorgridcolor\": \"white\", \"startlinecolor\": \"#2a3f5f\"}, \"type\": \"carpet\"}], \"choropleth\": [{\"colorbar\": {\"outlinewidth\": 0, \"ticks\": \"\"}, \"type\": \"choropleth\"}], \"contour\": [{\"colorbar\": {\"outlinewidth\": 0, \"ticks\": \"\"}, \"colorscale\": [[0.0, \"#0d0887\"], [0.1111111111111111, \"#46039f\"], [0.2222222222222222, \"#7201a8\"], [0.3333333333333333, \"#9c179e\"], [0.4444444444444444, \"#bd3786\"], [0.5555555555555556, \"#d8576b\"], [0.6666666666666666, \"#ed7953\"], [0.7777777777777778, \"#fb9f3a\"], [0.8888888888888888, \"#fdca26\"], [1.0, \"#f0f921\"]], \"type\": \"contour\"}], \"contourcarpet\": [{\"colorbar\": {\"outlinewidth\": 0, \"ticks\": \"\"}, \"type\": \"contourcarpet\"}], \"heatmap\": [{\"colorbar\": {\"outlinewidth\": 0, \"ticks\": \"\"}, \"colorscale\": [[0.0, \"#0d0887\"], [0.1111111111111111, \"#46039f\"], [0.2222222222222222, \"#7201a8\"], [0.3333333333333333, \"#9c179e\"], [0.4444444444444444, \"#bd3786\"], [0.5555555555555556, \"#d8576b\"], [0.6666666666666666, \"#ed7953\"], [0.7777777777777778, \"#fb9f3a\"], [0.8888888888888888, \"#fdca26\"], [1.0, \"#f0f921\"]], \"type\": \"heatmap\"}], \"heatmapgl\": [{\"colorbar\": {\"outlinewidth\": 0, \"ticks\": \"\"}, \"colorscale\": [[0.0, \"#0d0887\"], [0.1111111111111111, \"#46039f\"], [0.2222222222222222, \"#7201a8\"], [0.3333333333333333, \"#9c179e\"], [0.4444444444444444, \"#bd3786\"], [0.5555555555555556, \"#d8576b\"], [0.6666666666666666, \"#ed7953\"], [0.7777777777777778, \"#fb9f3a\"], [0.8888888888888888, \"#fdca26\"], [1.0, \"#f0f921\"]], \"type\": \"heatmapgl\"}], \"histogram\": [{\"marker\": {\"colorbar\": {\"outlinewidth\": 0, \"ticks\": \"\"}}, \"type\": \"histogram\"}], \"histogram2d\": [{\"colorbar\": {\"outlinewidth\": 0, \"ticks\": \"\"}, \"colorscale\": [[0.0, \"#0d0887\"], [0.1111111111111111, \"#46039f\"], [0.2222222222222222, \"#7201a8\"], [0.3333333333333333, \"#9c179e\"], [0.4444444444444444, \"#bd3786\"], [0.5555555555555556, \"#d8576b\"], [0.6666666666666666, \"#ed7953\"], [0.7777777777777778, \"#fb9f3a\"], [0.8888888888888888, \"#fdca26\"], [1.0, \"#f0f921\"]], \"type\": \"histogram2d\"}], \"histogram2dcontour\": [{\"colorbar\": {\"outlinewidth\": 0, \"ticks\": \"\"}, \"colorscale\": [[0.0, \"#0d0887\"], [0.1111111111111111, \"#46039f\"], [0.2222222222222222, \"#7201a8\"], [0.3333333333333333, \"#9c179e\"], [0.4444444444444444, \"#bd3786\"], [0.5555555555555556, \"#d8576b\"], [0.6666666666666666, \"#ed7953\"], [0.7777777777777778, \"#fb9f3a\"], [0.8888888888888888, \"#fdca26\"], [1.0, \"#f0f921\"]], \"type\": \"histogram2dcontour\"}], \"mesh3d\": [{\"colorbar\": {\"outlinewidth\": 0, \"ticks\": \"\"}, \"type\": \"mesh3d\"}], \"parcoords\": [{\"line\": {\"colorbar\": {\"outlinewidth\": 0, \"ticks\": \"\"}}, \"type\": \"parcoords\"}], \"pie\": [{\"automargin\": true, \"type\": \"pie\"}], \"scatter\": [{\"marker\": {\"colorbar\": {\"outlinewidth\": 0, \"ticks\": \"\"}}, \"type\": \"scatter\"}], \"scatter3d\": [{\"line\": {\"colorbar\": {\"outlinewidth\": 0, \"ticks\": \"\"}}, \"marker\": {\"colorbar\": {\"outlinewidth\": 0, \"ticks\": \"\"}}, \"type\": \"scatter3d\"}], \"scattercarpet\": [{\"marker\": {\"colorbar\": {\"outlinewidth\": 0, \"ticks\": \"\"}}, \"type\": \"scattercarpet\"}], \"scattergeo\": [{\"marker\": {\"colorbar\": {\"outlinewidth\": 0, \"ticks\": \"\"}}, \"type\": \"scattergeo\"}], \"scattergl\": [{\"marker\": {\"colorbar\": {\"outlinewidth\": 0, \"ticks\": \"\"}}, \"type\": \"scattergl\"}], \"scattermapbox\": [{\"marker\": {\"colorbar\": {\"outlinewidth\": 0, \"ticks\": \"\"}}, \"type\": \"scattermapbox\"}], \"scatterpolar\": [{\"marker\": {\"colorbar\": {\"outlinewidth\": 0, \"ticks\": \"\"}}, \"type\": \"scatterpolar\"}], \"scatterpolargl\": [{\"marker\": {\"colorbar\": {\"outlinewidth\": 0, \"ticks\": \"\"}}, \"type\": \"scatterpolargl\"}], \"scatterternary\": [{\"marker\": {\"colorbar\": {\"outlinewidth\": 0, \"ticks\": \"\"}}, \"type\": \"scatterternary\"}], \"surface\": [{\"colorbar\": {\"outlinewidth\": 0, \"ticks\": \"\"}, \"colorscale\": [[0.0, \"#0d0887\"], [0.1111111111111111, \"#46039f\"], [0.2222222222222222, \"#7201a8\"], [0.3333333333333333, \"#9c179e\"], [0.4444444444444444, \"#bd3786\"], [0.5555555555555556, \"#d8576b\"], [0.6666666666666666, \"#ed7953\"], [0.7777777777777778, \"#fb9f3a\"], [0.8888888888888888, \"#fdca26\"], [1.0, \"#f0f921\"]], \"type\": \"surface\"}], \"table\": [{\"cells\": {\"fill\": {\"color\": \"#EBF0F8\"}, \"line\": {\"color\": \"white\"}}, \"header\": {\"fill\": {\"color\": \"#C8D4E3\"}, \"line\": {\"color\": \"white\"}}, \"type\": \"table\"}]}, \"layout\": {\"annotationdefaults\": {\"arrowcolor\": \"#2a3f5f\", \"arrowhead\": 0, \"arrowwidth\": 1}, \"coloraxis\": {\"colorbar\": {\"outlinewidth\": 0, \"ticks\": \"\"}}, \"colorscale\": {\"diverging\": [[0, \"#8e0152\"], [0.1, \"#c51b7d\"], [0.2, \"#de77ae\"], [0.3, \"#f1b6da\"], [0.4, \"#fde0ef\"], [0.5, \"#f7f7f7\"], [0.6, \"#e6f5d0\"], [0.7, \"#b8e186\"], [0.8, \"#7fbc41\"], [0.9, \"#4d9221\"], [1, \"#276419\"]], \"sequential\": [[0.0, \"#0d0887\"], [0.1111111111111111, \"#46039f\"], [0.2222222222222222, \"#7201a8\"], [0.3333333333333333, \"#9c179e\"], [0.4444444444444444, \"#bd3786\"], [0.5555555555555556, \"#d8576b\"], [0.6666666666666666, \"#ed7953\"], [0.7777777777777778, \"#fb9f3a\"], [0.8888888888888888, \"#fdca26\"], [1.0, \"#f0f921\"]], \"sequentialminus\": [[0.0, \"#0d0887\"], [0.1111111111111111, \"#46039f\"], [0.2222222222222222, \"#7201a8\"], [0.3333333333333333, \"#9c179e\"], [0.4444444444444444, \"#bd3786\"], [0.5555555555555556, \"#d8576b\"], [0.6666666666666666, \"#ed7953\"], [0.7777777777777778, \"#fb9f3a\"], [0.8888888888888888, \"#fdca26\"], [1.0, \"#f0f921\"]]}, \"colorway\": [\"#636efa\", \"#EF553B\", \"#00cc96\", \"#ab63fa\", \"#FFA15A\", \"#19d3f3\", \"#FF6692\", \"#B6E880\", \"#FF97FF\", \"#FECB52\"], \"font\": {\"color\": \"#2a3f5f\"}, \"geo\": {\"bgcolor\": \"white\", \"lakecolor\": \"white\", \"landcolor\": \"#E5ECF6\", \"showlakes\": true, \"showland\": true, \"subunitcolor\": \"white\"}, \"hoverlabel\": {\"align\": \"left\"}, \"hovermode\": \"closest\", \"mapbox\": {\"style\": \"light\"}, \"paper_bgcolor\": \"white\", \"plot_bgcolor\": \"#E5ECF6\", \"polar\": {\"angularaxis\": {\"gridcolor\": \"white\", \"linecolor\": \"white\", \"ticks\": \"\"}, \"bgcolor\": \"#E5ECF6\", \"radialaxis\": {\"gridcolor\": \"white\", \"linecolor\": \"white\", \"ticks\": \"\"}}, \"scene\": {\"xaxis\": {\"backgroundcolor\": \"#E5ECF6\", \"gridcolor\": \"white\", \"gridwidth\": 2, \"linecolor\": \"white\", \"showbackground\": true, \"ticks\": \"\", \"zerolinecolor\": \"white\"}, \"yaxis\": {\"backgroundcolor\": \"#E5ECF6\", \"gridcolor\": \"white\", \"gridwidth\": 2, \"linecolor\": \"white\", \"showbackground\": true, \"ticks\": \"\", \"zerolinecolor\": \"white\"}, \"zaxis\": {\"backgroundcolor\": \"#E5ECF6\", \"gridcolor\": \"white\", \"gridwidth\": 2, \"linecolor\": \"white\", \"showbackground\": true, \"ticks\": \"\", \"zerolinecolor\": \"white\"}}, \"shapedefaults\": {\"line\": {\"color\": \"#2a3f5f\"}}, \"ternary\": {\"aaxis\": {\"gridcolor\": \"white\", \"linecolor\": \"white\", \"ticks\": \"\"}, \"baxis\": {\"gridcolor\": \"white\", \"linecolor\": \"white\", \"ticks\": \"\"}, \"bgcolor\": \"#E5ECF6\", \"caxis\": {\"gridcolor\": \"white\", \"linecolor\": \"white\", \"ticks\": \"\"}}, \"title\": {\"x\": 0.05}, \"xaxis\": {\"automargin\": true, \"gridcolor\": \"white\", \"linecolor\": \"white\", \"ticks\": \"\", \"title\": {\"standoff\": 15}, \"zerolinecolor\": \"white\", \"zerolinewidth\": 2}, \"yaxis\": {\"automargin\": true, \"gridcolor\": \"white\", \"linecolor\": \"white\", \"ticks\": \"\", \"title\": {\"standoff\": 15}, \"zerolinecolor\": \"white\", \"zerolinewidth\": 2}}}, \"xaxis\": {\"anchor\": \"y\", \"domain\": [0.0, 1.0], \"title\": {\"text\": \"Name\"}}, \"yaxis\": {\"anchor\": \"x\", \"domain\": [0.0, 1.0], \"title\": {\"text\": \"Deceased\"}}},\n",
       "                        {\"responsive\": true}\n",
       "                    ).then(function(){\n",
       "                            \n",
       "var gd = document.getElementById('c57edd5f-ac5d-4c6d-b06c-19b79890edd8');\n",
       "var x = new MutationObserver(function (mutations, observer) {{\n",
       "        var display = window.getComputedStyle(gd).display;\n",
       "        if (!display || display === 'none') {{\n",
       "            console.log([gd, 'removed!']);\n",
       "            Plotly.purge(gd);\n",
       "            observer.disconnect();\n",
       "        }}\n",
       "}});\n",
       "\n",
       "// Listen for the removal of the full notebook cells\n",
       "var notebookContainer = gd.closest('#notebook-container');\n",
       "if (notebookContainer) {{\n",
       "    x.observe(notebookContainer, {childList: true});\n",
       "}}\n",
       "\n",
       "// Listen for the clearing of the current output cell\n",
       "var outputEl = gd.closest('.output');\n",
       "if (outputEl) {{\n",
       "    x.observe(outputEl, {childList: true});\n",
       "}}\n",
       "\n",
       "                        })\n",
       "                };\n",
       "                });\n",
       "            </script>\n",
       "        </div>"
      ]
     },
     "metadata": {},
     "output_type": "display_data"
    }
   ],
   "source": [
    "# lets again try ro visualize world_df based on death poll for top 20 countries.\n",
    "\n",
    "world_fig = px.bar(world_df.sort_values('Deceased', ascending=False).head(20), x = 'Name' , y = 'Deceased')\n",
    "world_fig.show()\n"
   ]
  },
  {
   "cell_type": "markdown",
   "metadata": {},
   "source": [
    "#### Click on the link for more information.\n",
    "\n",
    " - United States tops the chart. <a href = \"https://www.sciencemag.org/news/2020/04/united-states-leads-coronavirus-cases-not-pandemic-response\" > If you want to know why United States leads in coronvirus cases, but not pandemic response</a>\n",
    " - Brazil also surpasses 100,000 deaths and becomes the one of the worst affected countries. <a href = \"https://www.ctvnews.ca/health/coronavirus/death-became-normal-brazil-surpasses-100-000-deaths-from-covid-19-1.5056757\" >'Death became normal': Brazil surpasses 100,000 deaths from COVID-19</a>\n",
    " - Mexico's death toll also reached 59.106k and many young people are dying of COVID-19 <a href = \"https://www.forbes.com/sites/nathanielparishflannery/2020/07/24/why-are-so-many-young-people-dying-of-covid-19-in-mexico-city/#148bc1f22792\">Why Are So Many Young People Dying Of Covid-19 In Mexico City?</a>\n",
    " - India has also reached 56k and there are many questions about India's rising COVID-19 infection <a href =\"https://www.bbc.com/news/world-asia-india-53018351\">Five key questions about India's rising Covid-19 infections</a>"
   ]
  },
  {
   "cell_type": "markdown",
   "metadata": {},
   "source": [
    "#### Lets visualize the death toll in relation to total confirmed case"
   ]
  },
  {
   "cell_type": "code",
   "execution_count": 139,
   "metadata": {},
   "outputs": [
    {
     "data": {
      "application/vnd.plotly.v1+json": {
       "config": {
        "plotlyServerURL": "https://plot.ly"
       },
       "data": [
        {
         "marker": {
          "color": "indianred"
         },
         "name": "Deceased",
         "type": "bar",
         "x": [
          "TOTAL",
          "★  United States",
          "★  Brazil",
          "★  India",
          "★  Russia",
          "★  South Africa",
          "★  Peru",
          "★  Mexico",
          "★  Colombia",
          "★  Chile",
          "★  Spain",
          "★  Iran",
          "★  Argentina",
          "★  United Kingdom",
          "★  Saudi Arabia",
          "★  Pakistan",
          "★  Bangladesh",
          "★  France",
          "★  Italy",
          "★  Turkey",
          "★  Germany",
          "★  Iraq",
          "★  Philippines",
          "★  Indonesia",
          "★  Canada",
          "★  Qatar",
          "★  Bolivia",
          "★  Ecuador",
          "★  Kazakhstan",
          "★  Israel",
          "★  Ukraine",
          "★  Egypt",
          "★  Dominican Republic",
          "★  Sweden",
          "★  China",
          "★  Panama",
          "★  Oman",
          "★  Belgium",
          "★  Kuwait",
          "★  Romania",
          "★  Belarus",
          "★  Guatemala",
          "★  United Arab Emirates",
          "★  Netherlands",
          "★  Poland",
          "★  Japan",
          "★  Singapore",
          "★  Portugal",
          "★  Honduras",
          "★  Nigeria",
          "★  Morocco",
          "★  Bahrain",
          "★  Ghana",
          "★  Kyrgyzstan",
          "★  Armenia",
          "★  Algeria",
          "★  Switzerland",
          "★  Uzbekistan",
          "★  Venezuela",
          "★  Afghanistan",
          "★  Ethiopia",
          "★  Azerbaijan",
          "★  Moldova",
          "★  Costa Rica",
          "★  Kenya",
          "★  Nepal",
          "★  Serbia",
          "★  Ireland",
          "★  Austria",
          "★  Australia",
          "★  El Salvador",
          "★  Czechia",
          "★  Cameroon",
          "★  Palestine",
          "★  Bosnia and Herzegovina",
          "★  Ivory Coast",
          "★  South Korea",
          "★  Denmark",
          "★  Bulgaria",
          "★  Madagascar",
          "★  North Macedonia",
          "★  Senegal",
          "★  Sudan",
          "★  Paraguay",
          "★  Kosovo",
          "★  Lebanon",
          "★  Zambia",
          "★  Norway",
          "★  Libya",
          "★  DR Congo",
          "★  Malaysia",
          "★  Guinea",
          "★  French Guiana",
          "★  Gabon",
          "★  Tajikistan",
          "★  Greece",
          "★  Albania",
          "★  Haiti",
          "★  Finland",
          "★  Luxembourg",
          "★  Croatia",
          "★  Mauritania",
          "★  Maldives",
          "★  Zimbabwe",
          "★  Djibouti",
          "★  Malawi",
          "★  Namibia",
          "★  Hungary",
          "★  Equatorial Guinea",
          "★  Central African Republic",
          "★  Hong Kong",
          "★  Nicaragua",
          "★  Montenegro",
          "★  Eswatini",
          "★  Congo",
          "★  Cuba",
          "★  Suriname",
          "★  Cape Verde",
          "★  Thailand",
          "★  Somalia",
          "★  Mayotte",
          "★  Slovakia",
          "★  Mozambique",
          "★  Sri Lanka",
          "★  Rwanda",
          "★  Mali",
          "★  Tunisia",
          "★  Slovenia",
          "★  Lithuania",
          "★  South Sudan",
          "★  The Gambia",
          "★  Estonia",
          "★  Guinea-Bissau",
          "★  Benin",
          "★  Syria",
          "★  Angola",
          "★  Iceland",
          "★  Sierra Leone",
          "★  Yemen",
          "★  Uganda",
          "★  The Bahamas",
          "★  New Zealand",
          "★  Malta",
          "★  Jordan",
          "★  Uruguay",
          "★  Aruba",
          "★  Cyprus",
          "★  Georgia",
          "★  Jamaica",
          "★  Latvia",
          "★  Botswana",
          "★  Burkina Faso",
          "★  Liberia",
          "★  Togo",
          "★  Niger",
          "★  Reunion",
          "★  Andorra",
          "★  Lesotho",
          "★  Vietnam",
          "★  Chad",
          "★  SÃ£o TomÃ© and PrÃ­ncipe",
          "★  Guyana",
          "★  Trinidad and Tobago",
          "★  Guadeloupe",
          "★  San Marino",
          "★  Belize",
          "★  Channel Islands",
          "★  Tanzania",
          "★  Taiwan",
          "★  Myanmar",
          "★  Burundi",
          "★  Comoros",
          "★  Faroe Islands",
          "★  Papua New Guinea",
          "★  Sint Maarten",
          "★  Turks and Caicos Islands",
          "★  Mauritius",
          "★  Martinique",
          "★  Isle of Man",
          "★  Eritrea",
          "★  Mongolia",
          "★  French Polynesia",
          "★  Cambodia",
          "★  Gibraltar",
          "★  Cayman Islands",
          "★  Saint Martin",
          "★  Bermuda",
          "★  Barbados",
          "★  Monaco",
          "★  Bhutan",
          "★  Brunei",
          "★  Seychelles",
          "★  Liechtenstein",
          "★  Antigua and Barbuda",
          "★  Saint Vincent and the Grenadines",
          "★  Macao",
          "★  Curacao",
          "★  Fiji",
          "★  Saint Lucia",
          "★  Timor-Leste",
          "★  Grenada",
          "★  New Caledonia",
          "★  Laos",
          "★  British Virgin Islands",
          "★  Dominica",
          "★  Saint Kitts and Nevis",
          "★  Saint Barthelemy",
          "★  Greenland",
          "★  Montserrat",
          "★  Caribbean Netherlands",
          "★  Falkland Islands",
          "★  Vatican City",
          "★  Western Sahara",
          "★  Saint Pierre and Miquelon",
          "★  Anguilla"
         ],
         "y": [
          803223,
          179200,
          113454,
          55928,
          16189,
          12843,
          27245,
          59610,
          16568,
          10723,
          28838,
          20376,
          6730,
          41405,
          3580,
          6231,
          3861,
          30503,
          35427,
          6080
         ]
        },
        {
         "marker": {
          "color": "lightsalmon"
         },
         "name": "Confirmed",
         "type": "bar",
         "x": [
          "TOTAL",
          "★  United States",
          "★  Brazil",
          "★  India",
          "★  Russia",
          "★  South Africa",
          "★  Peru",
          "★  Mexico",
          "★  Colombia",
          "★  Chile",
          "★  Spain",
          "★  Iran",
          "★  Argentina",
          "★  United Kingdom",
          "★  Saudi Arabia",
          "★  Pakistan",
          "★  Bangladesh",
          "★  France",
          "★  Italy",
          "★  Turkey",
          "★  Germany",
          "★  Iraq",
          "★  Philippines",
          "★  Indonesia",
          "★  Canada",
          "★  Qatar",
          "★  Bolivia",
          "★  Ecuador",
          "★  Kazakhstan",
          "★  Israel",
          "★  Ukraine",
          "★  Egypt",
          "★  Dominican Republic",
          "★  Sweden",
          "★  China",
          "★  Panama",
          "★  Oman",
          "★  Belgium",
          "★  Kuwait",
          "★  Romania",
          "★  Belarus",
          "★  Guatemala",
          "★  United Arab Emirates",
          "★  Netherlands",
          "★  Poland",
          "★  Japan",
          "★  Singapore",
          "★  Portugal",
          "★  Honduras",
          "★  Nigeria",
          "★  Morocco",
          "★  Bahrain",
          "★  Ghana",
          "★  Kyrgyzstan",
          "★  Armenia",
          "★  Algeria",
          "★  Switzerland",
          "★  Uzbekistan",
          "★  Venezuela",
          "★  Afghanistan",
          "★  Ethiopia",
          "★  Azerbaijan",
          "★  Moldova",
          "★  Costa Rica",
          "★  Kenya",
          "★  Nepal",
          "★  Serbia",
          "★  Ireland",
          "★  Austria",
          "★  Australia",
          "★  El Salvador",
          "★  Czechia",
          "★  Cameroon",
          "★  Palestine",
          "★  Bosnia and Herzegovina",
          "★  Ivory Coast",
          "★  South Korea",
          "★  Denmark",
          "★  Bulgaria",
          "★  Madagascar",
          "★  North Macedonia",
          "★  Senegal",
          "★  Sudan",
          "★  Paraguay",
          "★  Kosovo",
          "★  Lebanon",
          "★  Zambia",
          "★  Norway",
          "★  Libya",
          "★  DR Congo",
          "★  Malaysia",
          "★  Guinea",
          "★  French Guiana",
          "★  Gabon",
          "★  Tajikistan",
          "★  Greece",
          "★  Albania",
          "★  Haiti",
          "★  Finland",
          "★  Luxembourg",
          "★  Croatia",
          "★  Mauritania",
          "★  Maldives",
          "★  Zimbabwe",
          "★  Djibouti",
          "★  Malawi",
          "★  Namibia",
          "★  Hungary",
          "★  Equatorial Guinea",
          "★  Central African Republic",
          "★  Hong Kong",
          "★  Nicaragua",
          "★  Montenegro",
          "★  Eswatini",
          "★  Congo",
          "★  Cuba",
          "★  Suriname",
          "★  Cape Verde",
          "★  Thailand",
          "★  Somalia",
          "★  Mayotte",
          "★  Slovakia",
          "★  Mozambique",
          "★  Sri Lanka",
          "★  Rwanda",
          "★  Mali",
          "★  Tunisia",
          "★  Slovenia",
          "★  Lithuania",
          "★  South Sudan",
          "★  The Gambia",
          "★  Estonia",
          "★  Guinea-Bissau",
          "★  Benin",
          "★  Syria",
          "★  Angola",
          "★  Iceland",
          "★  Sierra Leone",
          "★  Yemen",
          "★  Uganda",
          "★  The Bahamas",
          "★  New Zealand",
          "★  Malta",
          "★  Jordan",
          "★  Uruguay",
          "★  Aruba",
          "★  Cyprus",
          "★  Georgia",
          "★  Jamaica",
          "★  Latvia",
          "★  Botswana",
          "★  Burkina Faso",
          "★  Liberia",
          "★  Togo",
          "★  Niger",
          "★  Reunion",
          "★  Andorra",
          "★  Lesotho",
          "★  Vietnam",
          "★  Chad",
          "★  SÃ£o TomÃ© and PrÃ­ncipe",
          "★  Guyana",
          "★  Trinidad and Tobago",
          "★  Guadeloupe",
          "★  San Marino",
          "★  Belize",
          "★  Channel Islands",
          "★  Tanzania",
          "★  Taiwan",
          "★  Myanmar",
          "★  Burundi",
          "★  Comoros",
          "★  Faroe Islands",
          "★  Papua New Guinea",
          "★  Sint Maarten",
          "★  Turks and Caicos Islands",
          "★  Mauritius",
          "★  Martinique",
          "★  Isle of Man",
          "★  Eritrea",
          "★  Mongolia",
          "★  French Polynesia",
          "★  Cambodia",
          "★  Gibraltar",
          "★  Cayman Islands",
          "★  Saint Martin",
          "★  Bermuda",
          "★  Barbados",
          "★  Monaco",
          "★  Bhutan",
          "★  Brunei",
          "★  Seychelles",
          "★  Liechtenstein",
          "★  Antigua and Barbuda",
          "★  Saint Vincent and the Grenadines",
          "★  Macao",
          "★  Curacao",
          "★  Fiji",
          "★  Saint Lucia",
          "★  Timor-Leste",
          "★  Grenada",
          "★  New Caledonia",
          "★  Laos",
          "★  British Virgin Islands",
          "★  Dominica",
          "★  Saint Kitts and Nevis",
          "★  Saint Barthelemy",
          "★  Greenland",
          "★  Montserrat",
          "★  Caribbean Netherlands",
          "★  Falkland Islands",
          "★  Vatican City",
          "★  Western Sahara",
          "★  Saint Pierre and Miquelon",
          "★  Anguilla"
         ],
         "y": [
          23121366,
          5796727,
          3536488,
          2975701,
          946976,
          603338,
          576067,
          549734,
          522138,
          393769,
          386054,
          354764,
          329043,
          323313,
          305186,
          292174,
          290360,
          257333,
          257065,
          255723
         ]
        }
       ],
       "layout": {
        "barmode": "group",
        "template": {
         "data": {
          "bar": [
           {
            "error_x": {
             "color": "#2a3f5f"
            },
            "error_y": {
             "color": "#2a3f5f"
            },
            "marker": {
             "line": {
              "color": "#E5ECF6",
              "width": 0.5
             }
            },
            "type": "bar"
           }
          ],
          "barpolar": [
           {
            "marker": {
             "line": {
              "color": "#E5ECF6",
              "width": 0.5
             }
            },
            "type": "barpolar"
           }
          ],
          "carpet": [
           {
            "aaxis": {
             "endlinecolor": "#2a3f5f",
             "gridcolor": "white",
             "linecolor": "white",
             "minorgridcolor": "white",
             "startlinecolor": "#2a3f5f"
            },
            "baxis": {
             "endlinecolor": "#2a3f5f",
             "gridcolor": "white",
             "linecolor": "white",
             "minorgridcolor": "white",
             "startlinecolor": "#2a3f5f"
            },
            "type": "carpet"
           }
          ],
          "choropleth": [
           {
            "colorbar": {
             "outlinewidth": 0,
             "ticks": ""
            },
            "type": "choropleth"
           }
          ],
          "contour": [
           {
            "colorbar": {
             "outlinewidth": 0,
             "ticks": ""
            },
            "colorscale": [
             [
              0,
              "#0d0887"
             ],
             [
              0.1111111111111111,
              "#46039f"
             ],
             [
              0.2222222222222222,
              "#7201a8"
             ],
             [
              0.3333333333333333,
              "#9c179e"
             ],
             [
              0.4444444444444444,
              "#bd3786"
             ],
             [
              0.5555555555555556,
              "#d8576b"
             ],
             [
              0.6666666666666666,
              "#ed7953"
             ],
             [
              0.7777777777777778,
              "#fb9f3a"
             ],
             [
              0.8888888888888888,
              "#fdca26"
             ],
             [
              1,
              "#f0f921"
             ]
            ],
            "type": "contour"
           }
          ],
          "contourcarpet": [
           {
            "colorbar": {
             "outlinewidth": 0,
             "ticks": ""
            },
            "type": "contourcarpet"
           }
          ],
          "heatmap": [
           {
            "colorbar": {
             "outlinewidth": 0,
             "ticks": ""
            },
            "colorscale": [
             [
              0,
              "#0d0887"
             ],
             [
              0.1111111111111111,
              "#46039f"
             ],
             [
              0.2222222222222222,
              "#7201a8"
             ],
             [
              0.3333333333333333,
              "#9c179e"
             ],
             [
              0.4444444444444444,
              "#bd3786"
             ],
             [
              0.5555555555555556,
              "#d8576b"
             ],
             [
              0.6666666666666666,
              "#ed7953"
             ],
             [
              0.7777777777777778,
              "#fb9f3a"
             ],
             [
              0.8888888888888888,
              "#fdca26"
             ],
             [
              1,
              "#f0f921"
             ]
            ],
            "type": "heatmap"
           }
          ],
          "heatmapgl": [
           {
            "colorbar": {
             "outlinewidth": 0,
             "ticks": ""
            },
            "colorscale": [
             [
              0,
              "#0d0887"
             ],
             [
              0.1111111111111111,
              "#46039f"
             ],
             [
              0.2222222222222222,
              "#7201a8"
             ],
             [
              0.3333333333333333,
              "#9c179e"
             ],
             [
              0.4444444444444444,
              "#bd3786"
             ],
             [
              0.5555555555555556,
              "#d8576b"
             ],
             [
              0.6666666666666666,
              "#ed7953"
             ],
             [
              0.7777777777777778,
              "#fb9f3a"
             ],
             [
              0.8888888888888888,
              "#fdca26"
             ],
             [
              1,
              "#f0f921"
             ]
            ],
            "type": "heatmapgl"
           }
          ],
          "histogram": [
           {
            "marker": {
             "colorbar": {
              "outlinewidth": 0,
              "ticks": ""
             }
            },
            "type": "histogram"
           }
          ],
          "histogram2d": [
           {
            "colorbar": {
             "outlinewidth": 0,
             "ticks": ""
            },
            "colorscale": [
             [
              0,
              "#0d0887"
             ],
             [
              0.1111111111111111,
              "#46039f"
             ],
             [
              0.2222222222222222,
              "#7201a8"
             ],
             [
              0.3333333333333333,
              "#9c179e"
             ],
             [
              0.4444444444444444,
              "#bd3786"
             ],
             [
              0.5555555555555556,
              "#d8576b"
             ],
             [
              0.6666666666666666,
              "#ed7953"
             ],
             [
              0.7777777777777778,
              "#fb9f3a"
             ],
             [
              0.8888888888888888,
              "#fdca26"
             ],
             [
              1,
              "#f0f921"
             ]
            ],
            "type": "histogram2d"
           }
          ],
          "histogram2dcontour": [
           {
            "colorbar": {
             "outlinewidth": 0,
             "ticks": ""
            },
            "colorscale": [
             [
              0,
              "#0d0887"
             ],
             [
              0.1111111111111111,
              "#46039f"
             ],
             [
              0.2222222222222222,
              "#7201a8"
             ],
             [
              0.3333333333333333,
              "#9c179e"
             ],
             [
              0.4444444444444444,
              "#bd3786"
             ],
             [
              0.5555555555555556,
              "#d8576b"
             ],
             [
              0.6666666666666666,
              "#ed7953"
             ],
             [
              0.7777777777777778,
              "#fb9f3a"
             ],
             [
              0.8888888888888888,
              "#fdca26"
             ],
             [
              1,
              "#f0f921"
             ]
            ],
            "type": "histogram2dcontour"
           }
          ],
          "mesh3d": [
           {
            "colorbar": {
             "outlinewidth": 0,
             "ticks": ""
            },
            "type": "mesh3d"
           }
          ],
          "parcoords": [
           {
            "line": {
             "colorbar": {
              "outlinewidth": 0,
              "ticks": ""
             }
            },
            "type": "parcoords"
           }
          ],
          "pie": [
           {
            "automargin": true,
            "type": "pie"
           }
          ],
          "scatter": [
           {
            "marker": {
             "colorbar": {
              "outlinewidth": 0,
              "ticks": ""
             }
            },
            "type": "scatter"
           }
          ],
          "scatter3d": [
           {
            "line": {
             "colorbar": {
              "outlinewidth": 0,
              "ticks": ""
             }
            },
            "marker": {
             "colorbar": {
              "outlinewidth": 0,
              "ticks": ""
             }
            },
            "type": "scatter3d"
           }
          ],
          "scattercarpet": [
           {
            "marker": {
             "colorbar": {
              "outlinewidth": 0,
              "ticks": ""
             }
            },
            "type": "scattercarpet"
           }
          ],
          "scattergeo": [
           {
            "marker": {
             "colorbar": {
              "outlinewidth": 0,
              "ticks": ""
             }
            },
            "type": "scattergeo"
           }
          ],
          "scattergl": [
           {
            "marker": {
             "colorbar": {
              "outlinewidth": 0,
              "ticks": ""
             }
            },
            "type": "scattergl"
           }
          ],
          "scattermapbox": [
           {
            "marker": {
             "colorbar": {
              "outlinewidth": 0,
              "ticks": ""
             }
            },
            "type": "scattermapbox"
           }
          ],
          "scatterpolar": [
           {
            "marker": {
             "colorbar": {
              "outlinewidth": 0,
              "ticks": ""
             }
            },
            "type": "scatterpolar"
           }
          ],
          "scatterpolargl": [
           {
            "marker": {
             "colorbar": {
              "outlinewidth": 0,
              "ticks": ""
             }
            },
            "type": "scatterpolargl"
           }
          ],
          "scatterternary": [
           {
            "marker": {
             "colorbar": {
              "outlinewidth": 0,
              "ticks": ""
             }
            },
            "type": "scatterternary"
           }
          ],
          "surface": [
           {
            "colorbar": {
             "outlinewidth": 0,
             "ticks": ""
            },
            "colorscale": [
             [
              0,
              "#0d0887"
             ],
             [
              0.1111111111111111,
              "#46039f"
             ],
             [
              0.2222222222222222,
              "#7201a8"
             ],
             [
              0.3333333333333333,
              "#9c179e"
             ],
             [
              0.4444444444444444,
              "#bd3786"
             ],
             [
              0.5555555555555556,
              "#d8576b"
             ],
             [
              0.6666666666666666,
              "#ed7953"
             ],
             [
              0.7777777777777778,
              "#fb9f3a"
             ],
             [
              0.8888888888888888,
              "#fdca26"
             ],
             [
              1,
              "#f0f921"
             ]
            ],
            "type": "surface"
           }
          ],
          "table": [
           {
            "cells": {
             "fill": {
              "color": "#EBF0F8"
             },
             "line": {
              "color": "white"
             }
            },
            "header": {
             "fill": {
              "color": "#C8D4E3"
             },
             "line": {
              "color": "white"
             }
            },
            "type": "table"
           }
          ]
         },
         "layout": {
          "annotationdefaults": {
           "arrowcolor": "#2a3f5f",
           "arrowhead": 0,
           "arrowwidth": 1
          },
          "coloraxis": {
           "colorbar": {
            "outlinewidth": 0,
            "ticks": ""
           }
          },
          "colorscale": {
           "diverging": [
            [
             0,
             "#8e0152"
            ],
            [
             0.1,
             "#c51b7d"
            ],
            [
             0.2,
             "#de77ae"
            ],
            [
             0.3,
             "#f1b6da"
            ],
            [
             0.4,
             "#fde0ef"
            ],
            [
             0.5,
             "#f7f7f7"
            ],
            [
             0.6,
             "#e6f5d0"
            ],
            [
             0.7,
             "#b8e186"
            ],
            [
             0.8,
             "#7fbc41"
            ],
            [
             0.9,
             "#4d9221"
            ],
            [
             1,
             "#276419"
            ]
           ],
           "sequential": [
            [
             0,
             "#0d0887"
            ],
            [
             0.1111111111111111,
             "#46039f"
            ],
            [
             0.2222222222222222,
             "#7201a8"
            ],
            [
             0.3333333333333333,
             "#9c179e"
            ],
            [
             0.4444444444444444,
             "#bd3786"
            ],
            [
             0.5555555555555556,
             "#d8576b"
            ],
            [
             0.6666666666666666,
             "#ed7953"
            ],
            [
             0.7777777777777778,
             "#fb9f3a"
            ],
            [
             0.8888888888888888,
             "#fdca26"
            ],
            [
             1,
             "#f0f921"
            ]
           ],
           "sequentialminus": [
            [
             0,
             "#0d0887"
            ],
            [
             0.1111111111111111,
             "#46039f"
            ],
            [
             0.2222222222222222,
             "#7201a8"
            ],
            [
             0.3333333333333333,
             "#9c179e"
            ],
            [
             0.4444444444444444,
             "#bd3786"
            ],
            [
             0.5555555555555556,
             "#d8576b"
            ],
            [
             0.6666666666666666,
             "#ed7953"
            ],
            [
             0.7777777777777778,
             "#fb9f3a"
            ],
            [
             0.8888888888888888,
             "#fdca26"
            ],
            [
             1,
             "#f0f921"
            ]
           ]
          },
          "colorway": [
           "#636efa",
           "#EF553B",
           "#00cc96",
           "#ab63fa",
           "#FFA15A",
           "#19d3f3",
           "#FF6692",
           "#B6E880",
           "#FF97FF",
           "#FECB52"
          ],
          "font": {
           "color": "#2a3f5f"
          },
          "geo": {
           "bgcolor": "white",
           "lakecolor": "white",
           "landcolor": "#E5ECF6",
           "showlakes": true,
           "showland": true,
           "subunitcolor": "white"
          },
          "hoverlabel": {
           "align": "left"
          },
          "hovermode": "closest",
          "mapbox": {
           "style": "light"
          },
          "paper_bgcolor": "white",
          "plot_bgcolor": "#E5ECF6",
          "polar": {
           "angularaxis": {
            "gridcolor": "white",
            "linecolor": "white",
            "ticks": ""
           },
           "bgcolor": "#E5ECF6",
           "radialaxis": {
            "gridcolor": "white",
            "linecolor": "white",
            "ticks": ""
           }
          },
          "scene": {
           "xaxis": {
            "backgroundcolor": "#E5ECF6",
            "gridcolor": "white",
            "gridwidth": 2,
            "linecolor": "white",
            "showbackground": true,
            "ticks": "",
            "zerolinecolor": "white"
           },
           "yaxis": {
            "backgroundcolor": "#E5ECF6",
            "gridcolor": "white",
            "gridwidth": 2,
            "linecolor": "white",
            "showbackground": true,
            "ticks": "",
            "zerolinecolor": "white"
           },
           "zaxis": {
            "backgroundcolor": "#E5ECF6",
            "gridcolor": "white",
            "gridwidth": 2,
            "linecolor": "white",
            "showbackground": true,
            "ticks": "",
            "zerolinecolor": "white"
           }
          },
          "shapedefaults": {
           "line": {
            "color": "#2a3f5f"
           }
          },
          "ternary": {
           "aaxis": {
            "gridcolor": "white",
            "linecolor": "white",
            "ticks": ""
           },
           "baxis": {
            "gridcolor": "white",
            "linecolor": "white",
            "ticks": ""
           },
           "bgcolor": "#E5ECF6",
           "caxis": {
            "gridcolor": "white",
            "linecolor": "white",
            "ticks": ""
           }
          },
          "title": {
           "x": 0.05
          },
          "xaxis": {
           "automargin": true,
           "gridcolor": "white",
           "linecolor": "white",
           "ticks": "",
           "title": {
            "standoff": 15
           },
           "zerolinecolor": "white",
           "zerolinewidth": 2
          },
          "yaxis": {
           "automargin": true,
           "gridcolor": "white",
           "linecolor": "white",
           "ticks": "",
           "title": {
            "standoff": 15
           },
           "zerolinecolor": "white",
           "zerolinewidth": 2
          }
         }
        }
       }
      },
      "text/html": [
       "<div>\n",
       "        \n",
       "        \n",
       "            <div id=\"fed5959b-9fe0-4798-a56d-4905fa5b3597\" class=\"plotly-graph-div\" style=\"height:525px; width:100%;\"></div>\n",
       "            <script type=\"text/javascript\">\n",
       "                require([\"plotly\"], function(Plotly) {\n",
       "                    window.PLOTLYENV=window.PLOTLYENV || {};\n",
       "                    \n",
       "                if (document.getElementById(\"fed5959b-9fe0-4798-a56d-4905fa5b3597\")) {\n",
       "                    Plotly.newPlot(\n",
       "                        'fed5959b-9fe0-4798-a56d-4905fa5b3597',\n",
       "                        [{\"marker\": {\"color\": \"indianred\"}, \"name\": \"Deceased\", \"type\": \"bar\", \"x\": [\"TOTAL\", \"\\u2605  United States\", \"\\u2605  Brazil\", \"\\u2605  India\", \"\\u2605  Russia\", \"\\u2605  South Africa\", \"\\u2605  Peru\", \"\\u2605  Mexico\", \"\\u2605  Colombia\", \"\\u2605  Chile\", \"\\u2605  Spain\", \"\\u2605  Iran\", \"\\u2605  Argentina\", \"\\u2605  United Kingdom\", \"\\u2605  Saudi Arabia\", \"\\u2605  Pakistan\", \"\\u2605  Bangladesh\", \"\\u2605  France\", \"\\u2605  Italy\", \"\\u2605  Turkey\", \"\\u2605  Germany\", \"\\u2605  Iraq\", \"\\u2605  Philippines\", \"\\u2605  Indonesia\", \"\\u2605  Canada\", \"\\u2605  Qatar\", \"\\u2605  Bolivia\", \"\\u2605  Ecuador\", \"\\u2605  Kazakhstan\", \"\\u2605  Israel\", \"\\u2605  Ukraine\", \"\\u2605  Egypt\", \"\\u2605  Dominican Republic\", \"\\u2605  Sweden\", \"\\u2605  China\", \"\\u2605  Panama\", \"\\u2605  Oman\", \"\\u2605  Belgium\", \"\\u2605  Kuwait\", \"\\u2605  Romania\", \"\\u2605  Belarus\", \"\\u2605  Guatemala\", \"\\u2605  United Arab Emirates\", \"\\u2605  Netherlands\", \"\\u2605  Poland\", \"\\u2605  Japan\", \"\\u2605  Singapore\", \"\\u2605  Portugal\", \"\\u2605  Honduras\", \"\\u2605  Nigeria\", \"\\u2605  Morocco\", \"\\u2605  Bahrain\", \"\\u2605  Ghana\", \"\\u2605  Kyrgyzstan\", \"\\u2605  Armenia\", \"\\u2605  Algeria\", \"\\u2605  Switzerland\", \"\\u2605  Uzbekistan\", \"\\u2605  Venezuela\", \"\\u2605  Afghanistan\", \"\\u2605  Ethiopia\", \"\\u2605  Azerbaijan\", \"\\u2605  Moldova\", \"\\u2605  Costa Rica\", \"\\u2605  Kenya\", \"\\u2605  Nepal\", \"\\u2605  Serbia\", \"\\u2605  Ireland\", \"\\u2605  Austria\", \"\\u2605  Australia\", \"\\u2605  El Salvador\", \"\\u2605  Czechia\", \"\\u2605  Cameroon\", \"\\u2605  Palestine\", \"\\u2605  Bosnia and Herzegovina\", \"\\u2605  Ivory Coast\", \"\\u2605  South Korea\", \"\\u2605  Denmark\", \"\\u2605  Bulgaria\", \"\\u2605  Madagascar\", \"\\u2605  North Macedonia\", \"\\u2605  Senegal\", \"\\u2605  Sudan\", \"\\u2605  Paraguay\", \"\\u2605  Kosovo\", \"\\u2605  Lebanon\", \"\\u2605  Zambia\", \"\\u2605  Norway\", \"\\u2605  Libya\", \"\\u2605  DR Congo\", \"\\u2605  Malaysia\", \"\\u2605  Guinea\", \"\\u2605  French Guiana\", \"\\u2605  Gabon\", \"\\u2605  Tajikistan\", \"\\u2605  Greece\", \"\\u2605  Albania\", \"\\u2605  Haiti\", \"\\u2605  Finland\", \"\\u2605  Luxembourg\", \"\\u2605  Croatia\", \"\\u2605  Mauritania\", \"\\u2605  Maldives\", \"\\u2605  Zimbabwe\", \"\\u2605  Djibouti\", \"\\u2605  Malawi\", \"\\u2605  Namibia\", \"\\u2605  Hungary\", \"\\u2605  Equatorial Guinea\", \"\\u2605  Central African Republic\", \"\\u2605  Hong Kong\", \"\\u2605  Nicaragua\", \"\\u2605  Montenegro\", \"\\u2605  Eswatini\", \"\\u2605  Congo\", \"\\u2605  Cuba\", \"\\u2605  Suriname\", \"\\u2605  Cape Verde\", \"\\u2605  Thailand\", \"\\u2605  Somalia\", \"\\u2605  Mayotte\", \"\\u2605  Slovakia\", \"\\u2605  Mozambique\", \"\\u2605  Sri Lanka\", \"\\u2605  Rwanda\", \"\\u2605  Mali\", \"\\u2605  Tunisia\", \"\\u2605  Slovenia\", \"\\u2605  Lithuania\", \"\\u2605  South Sudan\", \"\\u2605  The Gambia\", \"\\u2605  Estonia\", \"\\u2605  Guinea-Bissau\", \"\\u2605  Benin\", \"\\u2605  Syria\", \"\\u2605  Angola\", \"\\u2605  Iceland\", \"\\u2605  Sierra Leone\", \"\\u2605  Yemen\", \"\\u2605  Uganda\", \"\\u2605  The Bahamas\", \"\\u2605  New Zealand\", \"\\u2605  Malta\", \"\\u2605  Jordan\", \"\\u2605  Uruguay\", \"\\u2605  Aruba\", \"\\u2605  Cyprus\", \"\\u2605  Georgia\", \"\\u2605  Jamaica\", \"\\u2605  Latvia\", \"\\u2605  Botswana\", \"\\u2605  Burkina Faso\", \"\\u2605  Liberia\", \"\\u2605  Togo\", \"\\u2605  Niger\", \"\\u2605  Reunion\", \"\\u2605  Andorra\", \"\\u2605  Lesotho\", \"\\u2605  Vietnam\", \"\\u2605  Chad\", \"\\u2605  S\\u00c3\\u00a3o Tom\\u00c3\\u00a9 and Pr\\u00c3\\u00adncipe\", \"\\u2605  Guyana\", \"\\u2605  Trinidad and Tobago\", \"\\u2605  Guadeloupe\", \"\\u2605  San Marino\", \"\\u2605  Belize\", \"\\u2605  Channel Islands\", \"\\u2605  Tanzania\", \"\\u2605  Taiwan\", \"\\u2605  Myanmar\", \"\\u2605  Burundi\", \"\\u2605  Comoros\", \"\\u2605  Faroe Islands\", \"\\u2605  Papua New Guinea\", \"\\u2605  Sint Maarten\", \"\\u2605  Turks and Caicos Islands\", \"\\u2605  Mauritius\", \"\\u2605  Martinique\", \"\\u2605  Isle of Man\", \"\\u2605  Eritrea\", \"\\u2605  Mongolia\", \"\\u2605  French Polynesia\", \"\\u2605  Cambodia\", \"\\u2605  Gibraltar\", \"\\u2605  Cayman Islands\", \"\\u2605  Saint Martin\", \"\\u2605  Bermuda\", \"\\u2605  Barbados\", \"\\u2605  Monaco\", \"\\u2605  Bhutan\", \"\\u2605  Brunei\", \"\\u2605  Seychelles\", \"\\u2605  Liechtenstein\", \"\\u2605  Antigua and Barbuda\", \"\\u2605  Saint Vincent and the Grenadines\", \"\\u2605  Macao\", \"\\u2605  Curacao\", \"\\u2605  Fiji\", \"\\u2605  Saint Lucia\", \"\\u2605  Timor-Leste\", \"\\u2605  Grenada\", \"\\u2605  New Caledonia\", \"\\u2605  Laos\", \"\\u2605  British Virgin Islands\", \"\\u2605  Dominica\", \"\\u2605  Saint Kitts and Nevis\", \"\\u2605  Saint Barthelemy\", \"\\u2605  Greenland\", \"\\u2605  Montserrat\", \"\\u2605  Caribbean Netherlands\", \"\\u2605  Falkland Islands\", \"\\u2605  Vatican City\", \"\\u2605  Western Sahara\", \"\\u2605  Saint Pierre and Miquelon\", \"\\u2605  Anguilla\"], \"y\": [803223, 179200, 113454, 55928, 16189, 12843, 27245, 59610, 16568, 10723, 28838, 20376, 6730, 41405, 3580, 6231, 3861, 30503, 35427, 6080]}, {\"marker\": {\"color\": \"lightsalmon\"}, \"name\": \"Confirmed\", \"type\": \"bar\", \"x\": [\"TOTAL\", \"\\u2605  United States\", \"\\u2605  Brazil\", \"\\u2605  India\", \"\\u2605  Russia\", \"\\u2605  South Africa\", \"\\u2605  Peru\", \"\\u2605  Mexico\", \"\\u2605  Colombia\", \"\\u2605  Chile\", \"\\u2605  Spain\", \"\\u2605  Iran\", \"\\u2605  Argentina\", \"\\u2605  United Kingdom\", \"\\u2605  Saudi Arabia\", \"\\u2605  Pakistan\", \"\\u2605  Bangladesh\", \"\\u2605  France\", \"\\u2605  Italy\", \"\\u2605  Turkey\", \"\\u2605  Germany\", \"\\u2605  Iraq\", \"\\u2605  Philippines\", \"\\u2605  Indonesia\", \"\\u2605  Canada\", \"\\u2605  Qatar\", \"\\u2605  Bolivia\", \"\\u2605  Ecuador\", \"\\u2605  Kazakhstan\", \"\\u2605  Israel\", \"\\u2605  Ukraine\", \"\\u2605  Egypt\", \"\\u2605  Dominican Republic\", \"\\u2605  Sweden\", \"\\u2605  China\", \"\\u2605  Panama\", \"\\u2605  Oman\", \"\\u2605  Belgium\", \"\\u2605  Kuwait\", \"\\u2605  Romania\", \"\\u2605  Belarus\", \"\\u2605  Guatemala\", \"\\u2605  United Arab Emirates\", \"\\u2605  Netherlands\", \"\\u2605  Poland\", \"\\u2605  Japan\", \"\\u2605  Singapore\", \"\\u2605  Portugal\", \"\\u2605  Honduras\", \"\\u2605  Nigeria\", \"\\u2605  Morocco\", \"\\u2605  Bahrain\", \"\\u2605  Ghana\", \"\\u2605  Kyrgyzstan\", \"\\u2605  Armenia\", \"\\u2605  Algeria\", \"\\u2605  Switzerland\", \"\\u2605  Uzbekistan\", \"\\u2605  Venezuela\", \"\\u2605  Afghanistan\", \"\\u2605  Ethiopia\", \"\\u2605  Azerbaijan\", \"\\u2605  Moldova\", \"\\u2605  Costa Rica\", \"\\u2605  Kenya\", \"\\u2605  Nepal\", \"\\u2605  Serbia\", \"\\u2605  Ireland\", \"\\u2605  Austria\", \"\\u2605  Australia\", \"\\u2605  El Salvador\", \"\\u2605  Czechia\", \"\\u2605  Cameroon\", \"\\u2605  Palestine\", \"\\u2605  Bosnia and Herzegovina\", \"\\u2605  Ivory Coast\", \"\\u2605  South Korea\", \"\\u2605  Denmark\", \"\\u2605  Bulgaria\", \"\\u2605  Madagascar\", \"\\u2605  North Macedonia\", \"\\u2605  Senegal\", \"\\u2605  Sudan\", \"\\u2605  Paraguay\", \"\\u2605  Kosovo\", \"\\u2605  Lebanon\", \"\\u2605  Zambia\", \"\\u2605  Norway\", \"\\u2605  Libya\", \"\\u2605  DR Congo\", \"\\u2605  Malaysia\", \"\\u2605  Guinea\", \"\\u2605  French Guiana\", \"\\u2605  Gabon\", \"\\u2605  Tajikistan\", \"\\u2605  Greece\", \"\\u2605  Albania\", \"\\u2605  Haiti\", \"\\u2605  Finland\", \"\\u2605  Luxembourg\", \"\\u2605  Croatia\", \"\\u2605  Mauritania\", \"\\u2605  Maldives\", \"\\u2605  Zimbabwe\", \"\\u2605  Djibouti\", \"\\u2605  Malawi\", \"\\u2605  Namibia\", \"\\u2605  Hungary\", \"\\u2605  Equatorial Guinea\", \"\\u2605  Central African Republic\", \"\\u2605  Hong Kong\", \"\\u2605  Nicaragua\", \"\\u2605  Montenegro\", \"\\u2605  Eswatini\", \"\\u2605  Congo\", \"\\u2605  Cuba\", \"\\u2605  Suriname\", \"\\u2605  Cape Verde\", \"\\u2605  Thailand\", \"\\u2605  Somalia\", \"\\u2605  Mayotte\", \"\\u2605  Slovakia\", \"\\u2605  Mozambique\", \"\\u2605  Sri Lanka\", \"\\u2605  Rwanda\", \"\\u2605  Mali\", \"\\u2605  Tunisia\", \"\\u2605  Slovenia\", \"\\u2605  Lithuania\", \"\\u2605  South Sudan\", \"\\u2605  The Gambia\", \"\\u2605  Estonia\", \"\\u2605  Guinea-Bissau\", \"\\u2605  Benin\", \"\\u2605  Syria\", \"\\u2605  Angola\", \"\\u2605  Iceland\", \"\\u2605  Sierra Leone\", \"\\u2605  Yemen\", \"\\u2605  Uganda\", \"\\u2605  The Bahamas\", \"\\u2605  New Zealand\", \"\\u2605  Malta\", \"\\u2605  Jordan\", \"\\u2605  Uruguay\", \"\\u2605  Aruba\", \"\\u2605  Cyprus\", \"\\u2605  Georgia\", \"\\u2605  Jamaica\", \"\\u2605  Latvia\", \"\\u2605  Botswana\", \"\\u2605  Burkina Faso\", \"\\u2605  Liberia\", \"\\u2605  Togo\", \"\\u2605  Niger\", \"\\u2605  Reunion\", \"\\u2605  Andorra\", \"\\u2605  Lesotho\", \"\\u2605  Vietnam\", \"\\u2605  Chad\", \"\\u2605  S\\u00c3\\u00a3o Tom\\u00c3\\u00a9 and Pr\\u00c3\\u00adncipe\", \"\\u2605  Guyana\", \"\\u2605  Trinidad and Tobago\", \"\\u2605  Guadeloupe\", \"\\u2605  San Marino\", \"\\u2605  Belize\", \"\\u2605  Channel Islands\", \"\\u2605  Tanzania\", \"\\u2605  Taiwan\", \"\\u2605  Myanmar\", \"\\u2605  Burundi\", \"\\u2605  Comoros\", \"\\u2605  Faroe Islands\", \"\\u2605  Papua New Guinea\", \"\\u2605  Sint Maarten\", \"\\u2605  Turks and Caicos Islands\", \"\\u2605  Mauritius\", \"\\u2605  Martinique\", \"\\u2605  Isle of Man\", \"\\u2605  Eritrea\", \"\\u2605  Mongolia\", \"\\u2605  French Polynesia\", \"\\u2605  Cambodia\", \"\\u2605  Gibraltar\", \"\\u2605  Cayman Islands\", \"\\u2605  Saint Martin\", \"\\u2605  Bermuda\", \"\\u2605  Barbados\", \"\\u2605  Monaco\", \"\\u2605  Bhutan\", \"\\u2605  Brunei\", \"\\u2605  Seychelles\", \"\\u2605  Liechtenstein\", \"\\u2605  Antigua and Barbuda\", \"\\u2605  Saint Vincent and the Grenadines\", \"\\u2605  Macao\", \"\\u2605  Curacao\", \"\\u2605  Fiji\", \"\\u2605  Saint Lucia\", \"\\u2605  Timor-Leste\", \"\\u2605  Grenada\", \"\\u2605  New Caledonia\", \"\\u2605  Laos\", \"\\u2605  British Virgin Islands\", \"\\u2605  Dominica\", \"\\u2605  Saint Kitts and Nevis\", \"\\u2605  Saint Barthelemy\", \"\\u2605  Greenland\", \"\\u2605  Montserrat\", \"\\u2605  Caribbean Netherlands\", \"\\u2605  Falkland Islands\", \"\\u2605  Vatican City\", \"\\u2605  Western Sahara\", \"\\u2605  Saint Pierre and Miquelon\", \"\\u2605  Anguilla\"], \"y\": [23121366, 5796727, 3536488, 2975701, 946976, 603338, 576067, 549734, 522138, 393769, 386054, 354764, 329043, 323313, 305186, 292174, 290360, 257333, 257065, 255723]}],\n",
       "                        {\"barmode\": \"group\", \"template\": {\"data\": {\"bar\": [{\"error_x\": {\"color\": \"#2a3f5f\"}, \"error_y\": {\"color\": \"#2a3f5f\"}, \"marker\": {\"line\": {\"color\": \"#E5ECF6\", \"width\": 0.5}}, \"type\": \"bar\"}], \"barpolar\": [{\"marker\": {\"line\": {\"color\": \"#E5ECF6\", \"width\": 0.5}}, \"type\": \"barpolar\"}], \"carpet\": [{\"aaxis\": {\"endlinecolor\": \"#2a3f5f\", \"gridcolor\": \"white\", \"linecolor\": \"white\", \"minorgridcolor\": \"white\", \"startlinecolor\": \"#2a3f5f\"}, \"baxis\": {\"endlinecolor\": \"#2a3f5f\", \"gridcolor\": \"white\", \"linecolor\": \"white\", \"minorgridcolor\": \"white\", \"startlinecolor\": \"#2a3f5f\"}, \"type\": \"carpet\"}], \"choropleth\": [{\"colorbar\": {\"outlinewidth\": 0, \"ticks\": \"\"}, \"type\": \"choropleth\"}], \"contour\": [{\"colorbar\": {\"outlinewidth\": 0, \"ticks\": \"\"}, \"colorscale\": [[0.0, \"#0d0887\"], [0.1111111111111111, \"#46039f\"], [0.2222222222222222, \"#7201a8\"], [0.3333333333333333, \"#9c179e\"], [0.4444444444444444, \"#bd3786\"], [0.5555555555555556, \"#d8576b\"], [0.6666666666666666, \"#ed7953\"], [0.7777777777777778, \"#fb9f3a\"], [0.8888888888888888, \"#fdca26\"], [1.0, \"#f0f921\"]], \"type\": \"contour\"}], \"contourcarpet\": [{\"colorbar\": {\"outlinewidth\": 0, \"ticks\": \"\"}, \"type\": \"contourcarpet\"}], \"heatmap\": [{\"colorbar\": {\"outlinewidth\": 0, \"ticks\": \"\"}, \"colorscale\": [[0.0, \"#0d0887\"], [0.1111111111111111, \"#46039f\"], [0.2222222222222222, \"#7201a8\"], [0.3333333333333333, \"#9c179e\"], [0.4444444444444444, \"#bd3786\"], [0.5555555555555556, \"#d8576b\"], [0.6666666666666666, \"#ed7953\"], [0.7777777777777778, \"#fb9f3a\"], [0.8888888888888888, \"#fdca26\"], [1.0, \"#f0f921\"]], \"type\": \"heatmap\"}], \"heatmapgl\": [{\"colorbar\": {\"outlinewidth\": 0, \"ticks\": \"\"}, \"colorscale\": [[0.0, \"#0d0887\"], [0.1111111111111111, \"#46039f\"], [0.2222222222222222, \"#7201a8\"], [0.3333333333333333, \"#9c179e\"], [0.4444444444444444, \"#bd3786\"], [0.5555555555555556, \"#d8576b\"], [0.6666666666666666, \"#ed7953\"], [0.7777777777777778, \"#fb9f3a\"], [0.8888888888888888, \"#fdca26\"], [1.0, \"#f0f921\"]], \"type\": \"heatmapgl\"}], \"histogram\": [{\"marker\": {\"colorbar\": {\"outlinewidth\": 0, \"ticks\": \"\"}}, \"type\": \"histogram\"}], \"histogram2d\": [{\"colorbar\": {\"outlinewidth\": 0, \"ticks\": \"\"}, \"colorscale\": [[0.0, \"#0d0887\"], [0.1111111111111111, \"#46039f\"], [0.2222222222222222, \"#7201a8\"], [0.3333333333333333, \"#9c179e\"], [0.4444444444444444, \"#bd3786\"], [0.5555555555555556, \"#d8576b\"], [0.6666666666666666, \"#ed7953\"], [0.7777777777777778, \"#fb9f3a\"], [0.8888888888888888, \"#fdca26\"], [1.0, \"#f0f921\"]], \"type\": \"histogram2d\"}], \"histogram2dcontour\": [{\"colorbar\": {\"outlinewidth\": 0, \"ticks\": \"\"}, \"colorscale\": [[0.0, \"#0d0887\"], [0.1111111111111111, \"#46039f\"], [0.2222222222222222, \"#7201a8\"], [0.3333333333333333, \"#9c179e\"], [0.4444444444444444, \"#bd3786\"], [0.5555555555555556, \"#d8576b\"], [0.6666666666666666, \"#ed7953\"], [0.7777777777777778, \"#fb9f3a\"], [0.8888888888888888, \"#fdca26\"], [1.0, \"#f0f921\"]], \"type\": \"histogram2dcontour\"}], \"mesh3d\": [{\"colorbar\": {\"outlinewidth\": 0, \"ticks\": \"\"}, \"type\": \"mesh3d\"}], \"parcoords\": [{\"line\": {\"colorbar\": {\"outlinewidth\": 0, \"ticks\": \"\"}}, \"type\": \"parcoords\"}], \"pie\": [{\"automargin\": true, \"type\": \"pie\"}], \"scatter\": [{\"marker\": {\"colorbar\": {\"outlinewidth\": 0, \"ticks\": \"\"}}, \"type\": \"scatter\"}], \"scatter3d\": [{\"line\": {\"colorbar\": {\"outlinewidth\": 0, \"ticks\": \"\"}}, \"marker\": {\"colorbar\": {\"outlinewidth\": 0, \"ticks\": \"\"}}, \"type\": \"scatter3d\"}], \"scattercarpet\": [{\"marker\": {\"colorbar\": {\"outlinewidth\": 0, \"ticks\": \"\"}}, \"type\": \"scattercarpet\"}], \"scattergeo\": [{\"marker\": {\"colorbar\": {\"outlinewidth\": 0, \"ticks\": \"\"}}, \"type\": \"scattergeo\"}], \"scattergl\": [{\"marker\": {\"colorbar\": {\"outlinewidth\": 0, \"ticks\": \"\"}}, \"type\": \"scattergl\"}], \"scattermapbox\": [{\"marker\": {\"colorbar\": {\"outlinewidth\": 0, \"ticks\": \"\"}}, \"type\": \"scattermapbox\"}], \"scatterpolar\": [{\"marker\": {\"colorbar\": {\"outlinewidth\": 0, \"ticks\": \"\"}}, \"type\": \"scatterpolar\"}], \"scatterpolargl\": [{\"marker\": {\"colorbar\": {\"outlinewidth\": 0, \"ticks\": \"\"}}, \"type\": \"scatterpolargl\"}], \"scatterternary\": [{\"marker\": {\"colorbar\": {\"outlinewidth\": 0, \"ticks\": \"\"}}, \"type\": \"scatterternary\"}], \"surface\": [{\"colorbar\": {\"outlinewidth\": 0, \"ticks\": \"\"}, \"colorscale\": [[0.0, \"#0d0887\"], [0.1111111111111111, \"#46039f\"], [0.2222222222222222, \"#7201a8\"], [0.3333333333333333, \"#9c179e\"], [0.4444444444444444, \"#bd3786\"], [0.5555555555555556, \"#d8576b\"], [0.6666666666666666, \"#ed7953\"], [0.7777777777777778, \"#fb9f3a\"], [0.8888888888888888, \"#fdca26\"], [1.0, \"#f0f921\"]], \"type\": \"surface\"}], \"table\": [{\"cells\": {\"fill\": {\"color\": \"#EBF0F8\"}, \"line\": {\"color\": \"white\"}}, \"header\": {\"fill\": {\"color\": \"#C8D4E3\"}, \"line\": {\"color\": \"white\"}}, \"type\": \"table\"}]}, \"layout\": {\"annotationdefaults\": {\"arrowcolor\": \"#2a3f5f\", \"arrowhead\": 0, \"arrowwidth\": 1}, \"coloraxis\": {\"colorbar\": {\"outlinewidth\": 0, \"ticks\": \"\"}}, \"colorscale\": {\"diverging\": [[0, \"#8e0152\"], [0.1, \"#c51b7d\"], [0.2, \"#de77ae\"], [0.3, \"#f1b6da\"], [0.4, \"#fde0ef\"], [0.5, \"#f7f7f7\"], [0.6, \"#e6f5d0\"], [0.7, \"#b8e186\"], [0.8, \"#7fbc41\"], [0.9, \"#4d9221\"], [1, \"#276419\"]], \"sequential\": [[0.0, \"#0d0887\"], [0.1111111111111111, \"#46039f\"], [0.2222222222222222, \"#7201a8\"], [0.3333333333333333, \"#9c179e\"], [0.4444444444444444, \"#bd3786\"], [0.5555555555555556, \"#d8576b\"], [0.6666666666666666, \"#ed7953\"], [0.7777777777777778, \"#fb9f3a\"], [0.8888888888888888, \"#fdca26\"], [1.0, \"#f0f921\"]], \"sequentialminus\": [[0.0, \"#0d0887\"], [0.1111111111111111, \"#46039f\"], [0.2222222222222222, \"#7201a8\"], [0.3333333333333333, \"#9c179e\"], [0.4444444444444444, \"#bd3786\"], [0.5555555555555556, \"#d8576b\"], [0.6666666666666666, \"#ed7953\"], [0.7777777777777778, \"#fb9f3a\"], [0.8888888888888888, \"#fdca26\"], [1.0, \"#f0f921\"]]}, \"colorway\": [\"#636efa\", \"#EF553B\", \"#00cc96\", \"#ab63fa\", \"#FFA15A\", \"#19d3f3\", \"#FF6692\", \"#B6E880\", \"#FF97FF\", \"#FECB52\"], \"font\": {\"color\": \"#2a3f5f\"}, \"geo\": {\"bgcolor\": \"white\", \"lakecolor\": \"white\", \"landcolor\": \"#E5ECF6\", \"showlakes\": true, \"showland\": true, \"subunitcolor\": \"white\"}, \"hoverlabel\": {\"align\": \"left\"}, \"hovermode\": \"closest\", \"mapbox\": {\"style\": \"light\"}, \"paper_bgcolor\": \"white\", \"plot_bgcolor\": \"#E5ECF6\", \"polar\": {\"angularaxis\": {\"gridcolor\": \"white\", \"linecolor\": \"white\", \"ticks\": \"\"}, \"bgcolor\": \"#E5ECF6\", \"radialaxis\": {\"gridcolor\": \"white\", \"linecolor\": \"white\", \"ticks\": \"\"}}, \"scene\": {\"xaxis\": {\"backgroundcolor\": \"#E5ECF6\", \"gridcolor\": \"white\", \"gridwidth\": 2, \"linecolor\": \"white\", \"showbackground\": true, \"ticks\": \"\", \"zerolinecolor\": \"white\"}, \"yaxis\": {\"backgroundcolor\": \"#E5ECF6\", \"gridcolor\": \"white\", \"gridwidth\": 2, \"linecolor\": \"white\", \"showbackground\": true, \"ticks\": \"\", \"zerolinecolor\": \"white\"}, \"zaxis\": {\"backgroundcolor\": \"#E5ECF6\", \"gridcolor\": \"white\", \"gridwidth\": 2, \"linecolor\": \"white\", \"showbackground\": true, \"ticks\": \"\", \"zerolinecolor\": \"white\"}}, \"shapedefaults\": {\"line\": {\"color\": \"#2a3f5f\"}}, \"ternary\": {\"aaxis\": {\"gridcolor\": \"white\", \"linecolor\": \"white\", \"ticks\": \"\"}, \"baxis\": {\"gridcolor\": \"white\", \"linecolor\": \"white\", \"ticks\": \"\"}, \"bgcolor\": \"#E5ECF6\", \"caxis\": {\"gridcolor\": \"white\", \"linecolor\": \"white\", \"ticks\": \"\"}}, \"title\": {\"x\": 0.05}, \"xaxis\": {\"automargin\": true, \"gridcolor\": \"white\", \"linecolor\": \"white\", \"ticks\": \"\", \"title\": {\"standoff\": 15}, \"zerolinecolor\": \"white\", \"zerolinewidth\": 2}, \"yaxis\": {\"automargin\": true, \"gridcolor\": \"white\", \"linecolor\": \"white\", \"ticks\": \"\", \"title\": {\"standoff\": 15}, \"zerolinecolor\": \"white\", \"zerolinewidth\": 2}}}},\n",
       "                        {\"responsive\": true}\n",
       "                    ).then(function(){\n",
       "                            \n",
       "var gd = document.getElementById('fed5959b-9fe0-4798-a56d-4905fa5b3597');\n",
       "var x = new MutationObserver(function (mutations, observer) {{\n",
       "        var display = window.getComputedStyle(gd).display;\n",
       "        if (!display || display === 'none') {{\n",
       "            console.log([gd, 'removed!']);\n",
       "            Plotly.purge(gd);\n",
       "            observer.disconnect();\n",
       "        }}\n",
       "}});\n",
       "\n",
       "// Listen for the removal of the full notebook cells\n",
       "var notebookContainer = gd.closest('#notebook-container');\n",
       "if (notebookContainer) {{\n",
       "    x.observe(notebookContainer, {childList: true});\n",
       "}}\n",
       "\n",
       "// Listen for the clearing of the current output cell\n",
       "var outputEl = gd.closest('.output');\n",
       "if (outputEl) {{\n",
       "    x.observe(outputEl, {childList: true});\n",
       "}}\n",
       "\n",
       "                        })\n",
       "                };\n",
       "                });\n",
       "            </script>\n",
       "        </div>"
      ]
     },
     "metadata": {},
     "output_type": "display_data"
    }
   ],
   "source": [
    "# lets visualize the death toll based on total confirmed case\n",
    "\n",
    "import plotly.graph_objects as go\n",
    "\n",
    "\n",
    "# for grouped barplot using Deceased numbers per country and total number of cases per country.\n",
    "\n",
    "fig = go.Figure(data = [\n",
    "go.Bar(\n",
    "    x = world_df['Name'],\n",
    "    y = world_df[\"Deceased\"].head(20),\n",
    "    name = \"Deceased\",\n",
    "    marker_color = \"indianred\"\n",
    "),\n",
    "go.Bar(\n",
    "    x = world_df['Name'],\n",
    "    y = world_df['Confirmed'].head(20),\n",
    "    name = 'Confirmed',\n",
    "    marker_color = \"lightsalmon\"\n",
    ")\n",
    "])\n",
    "\n",
    "# Here we modify the tickangle of the xaxis, resulting in rotated labels.\n",
    "fig.update_layout(barmode='group')\n",
    "fig.show()"
   ]
  },
  {
   "cell_type": "markdown",
   "metadata": {},
   "source": [
    " - Here we can see the Death toll is very low as compared to confirmed cases, which is because most of the people recover from COVID-19. Early estimates predicted that the overall COVID-19 recovery rate is between 97% and 99.75%.\n",
    " - Mortality rate calculated  = 3.4% (802.318k/23.09665M)"
   ]
  },
  {
   "cell_type": "markdown",
   "metadata": {},
   "source": [
    "#### lets visualize the recovered cases based on total confirmed case"
   ]
  },
  {
   "cell_type": "code",
   "execution_count": 140,
   "metadata": {},
   "outputs": [
    {
     "data": {
      "application/vnd.plotly.v1+json": {
       "config": {
        "plotlyServerURL": "https://plot.ly"
       },
       "data": [
        {
         "marker": {
          "color": "indianred"
         },
         "name": "Recovered",
         "type": "bar",
         "x": [
          "TOTAL",
          "★  United States",
          "★  Brazil",
          "★  India",
          "★  Russia",
          "★  South Africa",
          "★  Peru",
          "★  Mexico",
          "★  Colombia",
          "★  Chile",
          "★  Spain",
          "★  Iran",
          "★  Argentina",
          "★  United Kingdom",
          "★  Saudi Arabia",
          "★  Pakistan",
          "★  Bangladesh",
          "★  France",
          "★  Italy",
          "★  Turkey",
          "★  Germany",
          "★  Iraq",
          "★  Philippines",
          "★  Indonesia",
          "★  Canada",
          "★  Qatar",
          "★  Bolivia",
          "★  Ecuador",
          "★  Kazakhstan",
          "★  Israel",
          "★  Ukraine",
          "★  Egypt",
          "★  Dominican Republic",
          "★  Sweden",
          "★  China",
          "★  Panama",
          "★  Oman",
          "★  Belgium",
          "★  Kuwait",
          "★  Romania",
          "★  Belarus",
          "★  Guatemala",
          "★  United Arab Emirates",
          "★  Netherlands",
          "★  Poland",
          "★  Japan",
          "★  Singapore",
          "★  Portugal",
          "★  Honduras",
          "★  Nigeria",
          "★  Morocco",
          "★  Bahrain",
          "★  Ghana",
          "★  Kyrgyzstan",
          "★  Armenia",
          "★  Algeria",
          "★  Switzerland",
          "★  Uzbekistan",
          "★  Venezuela",
          "★  Afghanistan",
          "★  Ethiopia",
          "★  Azerbaijan",
          "★  Moldova",
          "★  Costa Rica",
          "★  Kenya",
          "★  Nepal",
          "★  Serbia",
          "★  Ireland",
          "★  Austria",
          "★  Australia",
          "★  El Salvador",
          "★  Czechia",
          "★  Cameroon",
          "★  Palestine",
          "★  Bosnia and Herzegovina",
          "★  Ivory Coast",
          "★  South Korea",
          "★  Denmark",
          "★  Bulgaria",
          "★  Madagascar",
          "★  North Macedonia",
          "★  Senegal",
          "★  Sudan",
          "★  Paraguay",
          "★  Kosovo",
          "★  Lebanon",
          "★  Zambia",
          "★  Norway",
          "★  Libya",
          "★  DR Congo",
          "★  Malaysia",
          "★  Guinea",
          "★  French Guiana",
          "★  Gabon",
          "★  Tajikistan",
          "★  Greece",
          "★  Albania",
          "★  Haiti",
          "★  Finland",
          "★  Luxembourg",
          "★  Croatia",
          "★  Mauritania",
          "★  Maldives",
          "★  Zimbabwe",
          "★  Djibouti",
          "★  Malawi",
          "★  Namibia",
          "★  Hungary",
          "★  Equatorial Guinea",
          "★  Central African Republic",
          "★  Hong Kong",
          "★  Nicaragua",
          "★  Montenegro",
          "★  Eswatini",
          "★  Congo",
          "★  Cuba",
          "★  Suriname",
          "★  Cape Verde",
          "★  Thailand",
          "★  Somalia",
          "★  Mayotte",
          "★  Slovakia",
          "★  Mozambique",
          "★  Sri Lanka",
          "★  Rwanda",
          "★  Mali",
          "★  Tunisia",
          "★  Slovenia",
          "★  Lithuania",
          "★  South Sudan",
          "★  The Gambia",
          "★  Estonia",
          "★  Guinea-Bissau",
          "★  Benin",
          "★  Syria",
          "★  Angola",
          "★  Iceland",
          "★  Sierra Leone",
          "★  Yemen",
          "★  Uganda",
          "★  The Bahamas",
          "★  New Zealand",
          "★  Malta",
          "★  Jordan",
          "★  Uruguay",
          "★  Aruba",
          "★  Cyprus",
          "★  Georgia",
          "★  Jamaica",
          "★  Latvia",
          "★  Botswana",
          "★  Burkina Faso",
          "★  Liberia",
          "★  Togo",
          "★  Niger",
          "★  Reunion",
          "★  Andorra",
          "★  Lesotho",
          "★  Vietnam",
          "★  Chad",
          "★  SÃ£o TomÃ© and PrÃ­ncipe",
          "★  Guyana",
          "★  Trinidad and Tobago",
          "★  Guadeloupe",
          "★  San Marino",
          "★  Belize",
          "★  Channel Islands",
          "★  Tanzania",
          "★  Taiwan",
          "★  Myanmar",
          "★  Burundi",
          "★  Comoros",
          "★  Faroe Islands",
          "★  Papua New Guinea",
          "★  Sint Maarten",
          "★  Turks and Caicos Islands",
          "★  Mauritius",
          "★  Martinique",
          "★  Isle of Man",
          "★  Eritrea",
          "★  Mongolia",
          "★  French Polynesia",
          "★  Cambodia",
          "★  Gibraltar",
          "★  Cayman Islands",
          "★  Saint Martin",
          "★  Bermuda",
          "★  Barbados",
          "★  Monaco",
          "★  Bhutan",
          "★  Brunei",
          "★  Seychelles",
          "★  Liechtenstein",
          "★  Antigua and Barbuda",
          "★  Saint Vincent and the Grenadines",
          "★  Macao",
          "★  Curacao",
          "★  Fiji",
          "★  Saint Lucia",
          "★  Timor-Leste",
          "★  Grenada",
          "★  New Caledonia",
          "★  Laos",
          "★  British Virgin Islands",
          "★  Dominica",
          "★  Saint Kitts and Nevis",
          "★  Saint Barthelemy",
          "★  Greenland",
          "★  Montserrat",
          "★  Caribbean Netherlands",
          "★  Falkland Islands",
          "★  Vatican City",
          "★  Western Sahara",
          "★  Saint Pierre and Miquelon",
          "★  Anguilla"
         ],
         "y": [
          "15509908",
          "3127418",
          "2670755",
          "2222577",
          "761330",
          "500102",
          "384908",
          "376409",
          "348940",
          "367897",
          "150376",
          "305866",
          "239806",
          "Unknown",
          "277067",
          "275317",
          "172615",
          "84829",
          "204960",
          "235569"
         ]
        },
        {
         "marker": {
          "color": "lightsalmon"
         },
         "name": "Confirmed",
         "type": "bar",
         "x": [
          "TOTAL",
          "★  United States",
          "★  Brazil",
          "★  India",
          "★  Russia",
          "★  South Africa",
          "★  Peru",
          "★  Mexico",
          "★  Colombia",
          "★  Chile",
          "★  Spain",
          "★  Iran",
          "★  Argentina",
          "★  United Kingdom",
          "★  Saudi Arabia",
          "★  Pakistan",
          "★  Bangladesh",
          "★  France",
          "★  Italy",
          "★  Turkey",
          "★  Germany",
          "★  Iraq",
          "★  Philippines",
          "★  Indonesia",
          "★  Canada",
          "★  Qatar",
          "★  Bolivia",
          "★  Ecuador",
          "★  Kazakhstan",
          "★  Israel",
          "★  Ukraine",
          "★  Egypt",
          "★  Dominican Republic",
          "★  Sweden",
          "★  China",
          "★  Panama",
          "★  Oman",
          "★  Belgium",
          "★  Kuwait",
          "★  Romania",
          "★  Belarus",
          "★  Guatemala",
          "★  United Arab Emirates",
          "★  Netherlands",
          "★  Poland",
          "★  Japan",
          "★  Singapore",
          "★  Portugal",
          "★  Honduras",
          "★  Nigeria",
          "★  Morocco",
          "★  Bahrain",
          "★  Ghana",
          "★  Kyrgyzstan",
          "★  Armenia",
          "★  Algeria",
          "★  Switzerland",
          "★  Uzbekistan",
          "★  Venezuela",
          "★  Afghanistan",
          "★  Ethiopia",
          "★  Azerbaijan",
          "★  Moldova",
          "★  Costa Rica",
          "★  Kenya",
          "★  Nepal",
          "★  Serbia",
          "★  Ireland",
          "★  Austria",
          "★  Australia",
          "★  El Salvador",
          "★  Czechia",
          "★  Cameroon",
          "★  Palestine",
          "★  Bosnia and Herzegovina",
          "★  Ivory Coast",
          "★  South Korea",
          "★  Denmark",
          "★  Bulgaria",
          "★  Madagascar",
          "★  North Macedonia",
          "★  Senegal",
          "★  Sudan",
          "★  Paraguay",
          "★  Kosovo",
          "★  Lebanon",
          "★  Zambia",
          "★  Norway",
          "★  Libya",
          "★  DR Congo",
          "★  Malaysia",
          "★  Guinea",
          "★  French Guiana",
          "★  Gabon",
          "★  Tajikistan",
          "★  Greece",
          "★  Albania",
          "★  Haiti",
          "★  Finland",
          "★  Luxembourg",
          "★  Croatia",
          "★  Mauritania",
          "★  Maldives",
          "★  Zimbabwe",
          "★  Djibouti",
          "★  Malawi",
          "★  Namibia",
          "★  Hungary",
          "★  Equatorial Guinea",
          "★  Central African Republic",
          "★  Hong Kong",
          "★  Nicaragua",
          "★  Montenegro",
          "★  Eswatini",
          "★  Congo",
          "★  Cuba",
          "★  Suriname",
          "★  Cape Verde",
          "★  Thailand",
          "★  Somalia",
          "★  Mayotte",
          "★  Slovakia",
          "★  Mozambique",
          "★  Sri Lanka",
          "★  Rwanda",
          "★  Mali",
          "★  Tunisia",
          "★  Slovenia",
          "★  Lithuania",
          "★  South Sudan",
          "★  The Gambia",
          "★  Estonia",
          "★  Guinea-Bissau",
          "★  Benin",
          "★  Syria",
          "★  Angola",
          "★  Iceland",
          "★  Sierra Leone",
          "★  Yemen",
          "★  Uganda",
          "★  The Bahamas",
          "★  New Zealand",
          "★  Malta",
          "★  Jordan",
          "★  Uruguay",
          "★  Aruba",
          "★  Cyprus",
          "★  Georgia",
          "★  Jamaica",
          "★  Latvia",
          "★  Botswana",
          "★  Burkina Faso",
          "★  Liberia",
          "★  Togo",
          "★  Niger",
          "★  Reunion",
          "★  Andorra",
          "★  Lesotho",
          "★  Vietnam",
          "★  Chad",
          "★  SÃ£o TomÃ© and PrÃ­ncipe",
          "★  Guyana",
          "★  Trinidad and Tobago",
          "★  Guadeloupe",
          "★  San Marino",
          "★  Belize",
          "★  Channel Islands",
          "★  Tanzania",
          "★  Taiwan",
          "★  Myanmar",
          "★  Burundi",
          "★  Comoros",
          "★  Faroe Islands",
          "★  Papua New Guinea",
          "★  Sint Maarten",
          "★  Turks and Caicos Islands",
          "★  Mauritius",
          "★  Martinique",
          "★  Isle of Man",
          "★  Eritrea",
          "★  Mongolia",
          "★  French Polynesia",
          "★  Cambodia",
          "★  Gibraltar",
          "★  Cayman Islands",
          "★  Saint Martin",
          "★  Bermuda",
          "★  Barbados",
          "★  Monaco",
          "★  Bhutan",
          "★  Brunei",
          "★  Seychelles",
          "★  Liechtenstein",
          "★  Antigua and Barbuda",
          "★  Saint Vincent and the Grenadines",
          "★  Macao",
          "★  Curacao",
          "★  Fiji",
          "★  Saint Lucia",
          "★  Timor-Leste",
          "★  Grenada",
          "★  New Caledonia",
          "★  Laos",
          "★  British Virgin Islands",
          "★  Dominica",
          "★  Saint Kitts and Nevis",
          "★  Saint Barthelemy",
          "★  Greenland",
          "★  Montserrat",
          "★  Caribbean Netherlands",
          "★  Falkland Islands",
          "★  Vatican City",
          "★  Western Sahara",
          "★  Saint Pierre and Miquelon",
          "★  Anguilla"
         ],
         "y": [
          23121366,
          5796727,
          3536488,
          2975701,
          946976,
          603338,
          576067,
          549734,
          522138,
          393769,
          386054,
          354764,
          329043,
          323313,
          305186,
          292174,
          290360,
          257333,
          257065,
          255723
         ]
        }
       ],
       "layout": {
        "barmode": "group",
        "template": {
         "data": {
          "bar": [
           {
            "error_x": {
             "color": "#2a3f5f"
            },
            "error_y": {
             "color": "#2a3f5f"
            },
            "marker": {
             "line": {
              "color": "#E5ECF6",
              "width": 0.5
             }
            },
            "type": "bar"
           }
          ],
          "barpolar": [
           {
            "marker": {
             "line": {
              "color": "#E5ECF6",
              "width": 0.5
             }
            },
            "type": "barpolar"
           }
          ],
          "carpet": [
           {
            "aaxis": {
             "endlinecolor": "#2a3f5f",
             "gridcolor": "white",
             "linecolor": "white",
             "minorgridcolor": "white",
             "startlinecolor": "#2a3f5f"
            },
            "baxis": {
             "endlinecolor": "#2a3f5f",
             "gridcolor": "white",
             "linecolor": "white",
             "minorgridcolor": "white",
             "startlinecolor": "#2a3f5f"
            },
            "type": "carpet"
           }
          ],
          "choropleth": [
           {
            "colorbar": {
             "outlinewidth": 0,
             "ticks": ""
            },
            "type": "choropleth"
           }
          ],
          "contour": [
           {
            "colorbar": {
             "outlinewidth": 0,
             "ticks": ""
            },
            "colorscale": [
             [
              0,
              "#0d0887"
             ],
             [
              0.1111111111111111,
              "#46039f"
             ],
             [
              0.2222222222222222,
              "#7201a8"
             ],
             [
              0.3333333333333333,
              "#9c179e"
             ],
             [
              0.4444444444444444,
              "#bd3786"
             ],
             [
              0.5555555555555556,
              "#d8576b"
             ],
             [
              0.6666666666666666,
              "#ed7953"
             ],
             [
              0.7777777777777778,
              "#fb9f3a"
             ],
             [
              0.8888888888888888,
              "#fdca26"
             ],
             [
              1,
              "#f0f921"
             ]
            ],
            "type": "contour"
           }
          ],
          "contourcarpet": [
           {
            "colorbar": {
             "outlinewidth": 0,
             "ticks": ""
            },
            "type": "contourcarpet"
           }
          ],
          "heatmap": [
           {
            "colorbar": {
             "outlinewidth": 0,
             "ticks": ""
            },
            "colorscale": [
             [
              0,
              "#0d0887"
             ],
             [
              0.1111111111111111,
              "#46039f"
             ],
             [
              0.2222222222222222,
              "#7201a8"
             ],
             [
              0.3333333333333333,
              "#9c179e"
             ],
             [
              0.4444444444444444,
              "#bd3786"
             ],
             [
              0.5555555555555556,
              "#d8576b"
             ],
             [
              0.6666666666666666,
              "#ed7953"
             ],
             [
              0.7777777777777778,
              "#fb9f3a"
             ],
             [
              0.8888888888888888,
              "#fdca26"
             ],
             [
              1,
              "#f0f921"
             ]
            ],
            "type": "heatmap"
           }
          ],
          "heatmapgl": [
           {
            "colorbar": {
             "outlinewidth": 0,
             "ticks": ""
            },
            "colorscale": [
             [
              0,
              "#0d0887"
             ],
             [
              0.1111111111111111,
              "#46039f"
             ],
             [
              0.2222222222222222,
              "#7201a8"
             ],
             [
              0.3333333333333333,
              "#9c179e"
             ],
             [
              0.4444444444444444,
              "#bd3786"
             ],
             [
              0.5555555555555556,
              "#d8576b"
             ],
             [
              0.6666666666666666,
              "#ed7953"
             ],
             [
              0.7777777777777778,
              "#fb9f3a"
             ],
             [
              0.8888888888888888,
              "#fdca26"
             ],
             [
              1,
              "#f0f921"
             ]
            ],
            "type": "heatmapgl"
           }
          ],
          "histogram": [
           {
            "marker": {
             "colorbar": {
              "outlinewidth": 0,
              "ticks": ""
             }
            },
            "type": "histogram"
           }
          ],
          "histogram2d": [
           {
            "colorbar": {
             "outlinewidth": 0,
             "ticks": ""
            },
            "colorscale": [
             [
              0,
              "#0d0887"
             ],
             [
              0.1111111111111111,
              "#46039f"
             ],
             [
              0.2222222222222222,
              "#7201a8"
             ],
             [
              0.3333333333333333,
              "#9c179e"
             ],
             [
              0.4444444444444444,
              "#bd3786"
             ],
             [
              0.5555555555555556,
              "#d8576b"
             ],
             [
              0.6666666666666666,
              "#ed7953"
             ],
             [
              0.7777777777777778,
              "#fb9f3a"
             ],
             [
              0.8888888888888888,
              "#fdca26"
             ],
             [
              1,
              "#f0f921"
             ]
            ],
            "type": "histogram2d"
           }
          ],
          "histogram2dcontour": [
           {
            "colorbar": {
             "outlinewidth": 0,
             "ticks": ""
            },
            "colorscale": [
             [
              0,
              "#0d0887"
             ],
             [
              0.1111111111111111,
              "#46039f"
             ],
             [
              0.2222222222222222,
              "#7201a8"
             ],
             [
              0.3333333333333333,
              "#9c179e"
             ],
             [
              0.4444444444444444,
              "#bd3786"
             ],
             [
              0.5555555555555556,
              "#d8576b"
             ],
             [
              0.6666666666666666,
              "#ed7953"
             ],
             [
              0.7777777777777778,
              "#fb9f3a"
             ],
             [
              0.8888888888888888,
              "#fdca26"
             ],
             [
              1,
              "#f0f921"
             ]
            ],
            "type": "histogram2dcontour"
           }
          ],
          "mesh3d": [
           {
            "colorbar": {
             "outlinewidth": 0,
             "ticks": ""
            },
            "type": "mesh3d"
           }
          ],
          "parcoords": [
           {
            "line": {
             "colorbar": {
              "outlinewidth": 0,
              "ticks": ""
             }
            },
            "type": "parcoords"
           }
          ],
          "pie": [
           {
            "automargin": true,
            "type": "pie"
           }
          ],
          "scatter": [
           {
            "marker": {
             "colorbar": {
              "outlinewidth": 0,
              "ticks": ""
             }
            },
            "type": "scatter"
           }
          ],
          "scatter3d": [
           {
            "line": {
             "colorbar": {
              "outlinewidth": 0,
              "ticks": ""
             }
            },
            "marker": {
             "colorbar": {
              "outlinewidth": 0,
              "ticks": ""
             }
            },
            "type": "scatter3d"
           }
          ],
          "scattercarpet": [
           {
            "marker": {
             "colorbar": {
              "outlinewidth": 0,
              "ticks": ""
             }
            },
            "type": "scattercarpet"
           }
          ],
          "scattergeo": [
           {
            "marker": {
             "colorbar": {
              "outlinewidth": 0,
              "ticks": ""
             }
            },
            "type": "scattergeo"
           }
          ],
          "scattergl": [
           {
            "marker": {
             "colorbar": {
              "outlinewidth": 0,
              "ticks": ""
             }
            },
            "type": "scattergl"
           }
          ],
          "scattermapbox": [
           {
            "marker": {
             "colorbar": {
              "outlinewidth": 0,
              "ticks": ""
             }
            },
            "type": "scattermapbox"
           }
          ],
          "scatterpolar": [
           {
            "marker": {
             "colorbar": {
              "outlinewidth": 0,
              "ticks": ""
             }
            },
            "type": "scatterpolar"
           }
          ],
          "scatterpolargl": [
           {
            "marker": {
             "colorbar": {
              "outlinewidth": 0,
              "ticks": ""
             }
            },
            "type": "scatterpolargl"
           }
          ],
          "scatterternary": [
           {
            "marker": {
             "colorbar": {
              "outlinewidth": 0,
              "ticks": ""
             }
            },
            "type": "scatterternary"
           }
          ],
          "surface": [
           {
            "colorbar": {
             "outlinewidth": 0,
             "ticks": ""
            },
            "colorscale": [
             [
              0,
              "#0d0887"
             ],
             [
              0.1111111111111111,
              "#46039f"
             ],
             [
              0.2222222222222222,
              "#7201a8"
             ],
             [
              0.3333333333333333,
              "#9c179e"
             ],
             [
              0.4444444444444444,
              "#bd3786"
             ],
             [
              0.5555555555555556,
              "#d8576b"
             ],
             [
              0.6666666666666666,
              "#ed7953"
             ],
             [
              0.7777777777777778,
              "#fb9f3a"
             ],
             [
              0.8888888888888888,
              "#fdca26"
             ],
             [
              1,
              "#f0f921"
             ]
            ],
            "type": "surface"
           }
          ],
          "table": [
           {
            "cells": {
             "fill": {
              "color": "#EBF0F8"
             },
             "line": {
              "color": "white"
             }
            },
            "header": {
             "fill": {
              "color": "#C8D4E3"
             },
             "line": {
              "color": "white"
             }
            },
            "type": "table"
           }
          ]
         },
         "layout": {
          "annotationdefaults": {
           "arrowcolor": "#2a3f5f",
           "arrowhead": 0,
           "arrowwidth": 1
          },
          "coloraxis": {
           "colorbar": {
            "outlinewidth": 0,
            "ticks": ""
           }
          },
          "colorscale": {
           "diverging": [
            [
             0,
             "#8e0152"
            ],
            [
             0.1,
             "#c51b7d"
            ],
            [
             0.2,
             "#de77ae"
            ],
            [
             0.3,
             "#f1b6da"
            ],
            [
             0.4,
             "#fde0ef"
            ],
            [
             0.5,
             "#f7f7f7"
            ],
            [
             0.6,
             "#e6f5d0"
            ],
            [
             0.7,
             "#b8e186"
            ],
            [
             0.8,
             "#7fbc41"
            ],
            [
             0.9,
             "#4d9221"
            ],
            [
             1,
             "#276419"
            ]
           ],
           "sequential": [
            [
             0,
             "#0d0887"
            ],
            [
             0.1111111111111111,
             "#46039f"
            ],
            [
             0.2222222222222222,
             "#7201a8"
            ],
            [
             0.3333333333333333,
             "#9c179e"
            ],
            [
             0.4444444444444444,
             "#bd3786"
            ],
            [
             0.5555555555555556,
             "#d8576b"
            ],
            [
             0.6666666666666666,
             "#ed7953"
            ],
            [
             0.7777777777777778,
             "#fb9f3a"
            ],
            [
             0.8888888888888888,
             "#fdca26"
            ],
            [
             1,
             "#f0f921"
            ]
           ],
           "sequentialminus": [
            [
             0,
             "#0d0887"
            ],
            [
             0.1111111111111111,
             "#46039f"
            ],
            [
             0.2222222222222222,
             "#7201a8"
            ],
            [
             0.3333333333333333,
             "#9c179e"
            ],
            [
             0.4444444444444444,
             "#bd3786"
            ],
            [
             0.5555555555555556,
             "#d8576b"
            ],
            [
             0.6666666666666666,
             "#ed7953"
            ],
            [
             0.7777777777777778,
             "#fb9f3a"
            ],
            [
             0.8888888888888888,
             "#fdca26"
            ],
            [
             1,
             "#f0f921"
            ]
           ]
          },
          "colorway": [
           "#636efa",
           "#EF553B",
           "#00cc96",
           "#ab63fa",
           "#FFA15A",
           "#19d3f3",
           "#FF6692",
           "#B6E880",
           "#FF97FF",
           "#FECB52"
          ],
          "font": {
           "color": "#2a3f5f"
          },
          "geo": {
           "bgcolor": "white",
           "lakecolor": "white",
           "landcolor": "#E5ECF6",
           "showlakes": true,
           "showland": true,
           "subunitcolor": "white"
          },
          "hoverlabel": {
           "align": "left"
          },
          "hovermode": "closest",
          "mapbox": {
           "style": "light"
          },
          "paper_bgcolor": "white",
          "plot_bgcolor": "#E5ECF6",
          "polar": {
           "angularaxis": {
            "gridcolor": "white",
            "linecolor": "white",
            "ticks": ""
           },
           "bgcolor": "#E5ECF6",
           "radialaxis": {
            "gridcolor": "white",
            "linecolor": "white",
            "ticks": ""
           }
          },
          "scene": {
           "xaxis": {
            "backgroundcolor": "#E5ECF6",
            "gridcolor": "white",
            "gridwidth": 2,
            "linecolor": "white",
            "showbackground": true,
            "ticks": "",
            "zerolinecolor": "white"
           },
           "yaxis": {
            "backgroundcolor": "#E5ECF6",
            "gridcolor": "white",
            "gridwidth": 2,
            "linecolor": "white",
            "showbackground": true,
            "ticks": "",
            "zerolinecolor": "white"
           },
           "zaxis": {
            "backgroundcolor": "#E5ECF6",
            "gridcolor": "white",
            "gridwidth": 2,
            "linecolor": "white",
            "showbackground": true,
            "ticks": "",
            "zerolinecolor": "white"
           }
          },
          "shapedefaults": {
           "line": {
            "color": "#2a3f5f"
           }
          },
          "ternary": {
           "aaxis": {
            "gridcolor": "white",
            "linecolor": "white",
            "ticks": ""
           },
           "baxis": {
            "gridcolor": "white",
            "linecolor": "white",
            "ticks": ""
           },
           "bgcolor": "#E5ECF6",
           "caxis": {
            "gridcolor": "white",
            "linecolor": "white",
            "ticks": ""
           }
          },
          "title": {
           "x": 0.05
          },
          "xaxis": {
           "automargin": true,
           "gridcolor": "white",
           "linecolor": "white",
           "ticks": "",
           "title": {
            "standoff": 15
           },
           "zerolinecolor": "white",
           "zerolinewidth": 2
          },
          "yaxis": {
           "automargin": true,
           "gridcolor": "white",
           "linecolor": "white",
           "ticks": "",
           "title": {
            "standoff": 15
           },
           "zerolinecolor": "white",
           "zerolinewidth": 2
          }
         }
        }
       }
      },
      "text/html": [
       "<div>\n",
       "        \n",
       "        \n",
       "            <div id=\"f6529f37-e662-4a90-941a-d1aea7fd40ba\" class=\"plotly-graph-div\" style=\"height:525px; width:100%;\"></div>\n",
       "            <script type=\"text/javascript\">\n",
       "                require([\"plotly\"], function(Plotly) {\n",
       "                    window.PLOTLYENV=window.PLOTLYENV || {};\n",
       "                    \n",
       "                if (document.getElementById(\"f6529f37-e662-4a90-941a-d1aea7fd40ba\")) {\n",
       "                    Plotly.newPlot(\n",
       "                        'f6529f37-e662-4a90-941a-d1aea7fd40ba',\n",
       "                        [{\"marker\": {\"color\": \"indianred\"}, \"name\": \"Recovered\", \"type\": \"bar\", \"x\": [\"TOTAL\", \"\\u2605  United States\", \"\\u2605  Brazil\", \"\\u2605  India\", \"\\u2605  Russia\", \"\\u2605  South Africa\", \"\\u2605  Peru\", \"\\u2605  Mexico\", \"\\u2605  Colombia\", \"\\u2605  Chile\", \"\\u2605  Spain\", \"\\u2605  Iran\", \"\\u2605  Argentina\", \"\\u2605  United Kingdom\", \"\\u2605  Saudi Arabia\", \"\\u2605  Pakistan\", \"\\u2605  Bangladesh\", \"\\u2605  France\", \"\\u2605  Italy\", \"\\u2605  Turkey\", \"\\u2605  Germany\", \"\\u2605  Iraq\", \"\\u2605  Philippines\", \"\\u2605  Indonesia\", \"\\u2605  Canada\", \"\\u2605  Qatar\", \"\\u2605  Bolivia\", \"\\u2605  Ecuador\", \"\\u2605  Kazakhstan\", \"\\u2605  Israel\", \"\\u2605  Ukraine\", \"\\u2605  Egypt\", \"\\u2605  Dominican Republic\", \"\\u2605  Sweden\", \"\\u2605  China\", \"\\u2605  Panama\", \"\\u2605  Oman\", \"\\u2605  Belgium\", \"\\u2605  Kuwait\", \"\\u2605  Romania\", \"\\u2605  Belarus\", \"\\u2605  Guatemala\", \"\\u2605  United Arab Emirates\", \"\\u2605  Netherlands\", \"\\u2605  Poland\", \"\\u2605  Japan\", \"\\u2605  Singapore\", \"\\u2605  Portugal\", \"\\u2605  Honduras\", \"\\u2605  Nigeria\", \"\\u2605  Morocco\", \"\\u2605  Bahrain\", \"\\u2605  Ghana\", \"\\u2605  Kyrgyzstan\", \"\\u2605  Armenia\", \"\\u2605  Algeria\", \"\\u2605  Switzerland\", \"\\u2605  Uzbekistan\", \"\\u2605  Venezuela\", \"\\u2605  Afghanistan\", \"\\u2605  Ethiopia\", \"\\u2605  Azerbaijan\", \"\\u2605  Moldova\", \"\\u2605  Costa Rica\", \"\\u2605  Kenya\", \"\\u2605  Nepal\", \"\\u2605  Serbia\", \"\\u2605  Ireland\", \"\\u2605  Austria\", \"\\u2605  Australia\", \"\\u2605  El Salvador\", \"\\u2605  Czechia\", \"\\u2605  Cameroon\", \"\\u2605  Palestine\", \"\\u2605  Bosnia and Herzegovina\", \"\\u2605  Ivory Coast\", \"\\u2605  South Korea\", \"\\u2605  Denmark\", \"\\u2605  Bulgaria\", \"\\u2605  Madagascar\", \"\\u2605  North Macedonia\", \"\\u2605  Senegal\", \"\\u2605  Sudan\", \"\\u2605  Paraguay\", \"\\u2605  Kosovo\", \"\\u2605  Lebanon\", \"\\u2605  Zambia\", \"\\u2605  Norway\", \"\\u2605  Libya\", \"\\u2605  DR Congo\", \"\\u2605  Malaysia\", \"\\u2605  Guinea\", \"\\u2605  French Guiana\", \"\\u2605  Gabon\", \"\\u2605  Tajikistan\", \"\\u2605  Greece\", \"\\u2605  Albania\", \"\\u2605  Haiti\", \"\\u2605  Finland\", \"\\u2605  Luxembourg\", \"\\u2605  Croatia\", \"\\u2605  Mauritania\", \"\\u2605  Maldives\", \"\\u2605  Zimbabwe\", \"\\u2605  Djibouti\", \"\\u2605  Malawi\", \"\\u2605  Namibia\", \"\\u2605  Hungary\", \"\\u2605  Equatorial Guinea\", \"\\u2605  Central African Republic\", \"\\u2605  Hong Kong\", \"\\u2605  Nicaragua\", \"\\u2605  Montenegro\", \"\\u2605  Eswatini\", \"\\u2605  Congo\", \"\\u2605  Cuba\", \"\\u2605  Suriname\", \"\\u2605  Cape Verde\", \"\\u2605  Thailand\", \"\\u2605  Somalia\", \"\\u2605  Mayotte\", \"\\u2605  Slovakia\", \"\\u2605  Mozambique\", \"\\u2605  Sri Lanka\", \"\\u2605  Rwanda\", \"\\u2605  Mali\", \"\\u2605  Tunisia\", \"\\u2605  Slovenia\", \"\\u2605  Lithuania\", \"\\u2605  South Sudan\", \"\\u2605  The Gambia\", \"\\u2605  Estonia\", \"\\u2605  Guinea-Bissau\", \"\\u2605  Benin\", \"\\u2605  Syria\", \"\\u2605  Angola\", \"\\u2605  Iceland\", \"\\u2605  Sierra Leone\", \"\\u2605  Yemen\", \"\\u2605  Uganda\", \"\\u2605  The Bahamas\", \"\\u2605  New Zealand\", \"\\u2605  Malta\", \"\\u2605  Jordan\", \"\\u2605  Uruguay\", \"\\u2605  Aruba\", \"\\u2605  Cyprus\", \"\\u2605  Georgia\", \"\\u2605  Jamaica\", \"\\u2605  Latvia\", \"\\u2605  Botswana\", \"\\u2605  Burkina Faso\", \"\\u2605  Liberia\", \"\\u2605  Togo\", \"\\u2605  Niger\", \"\\u2605  Reunion\", \"\\u2605  Andorra\", \"\\u2605  Lesotho\", \"\\u2605  Vietnam\", \"\\u2605  Chad\", \"\\u2605  S\\u00c3\\u00a3o Tom\\u00c3\\u00a9 and Pr\\u00c3\\u00adncipe\", \"\\u2605  Guyana\", \"\\u2605  Trinidad and Tobago\", \"\\u2605  Guadeloupe\", \"\\u2605  San Marino\", \"\\u2605  Belize\", \"\\u2605  Channel Islands\", \"\\u2605  Tanzania\", \"\\u2605  Taiwan\", \"\\u2605  Myanmar\", \"\\u2605  Burundi\", \"\\u2605  Comoros\", \"\\u2605  Faroe Islands\", \"\\u2605  Papua New Guinea\", \"\\u2605  Sint Maarten\", \"\\u2605  Turks and Caicos Islands\", \"\\u2605  Mauritius\", \"\\u2605  Martinique\", \"\\u2605  Isle of Man\", \"\\u2605  Eritrea\", \"\\u2605  Mongolia\", \"\\u2605  French Polynesia\", \"\\u2605  Cambodia\", \"\\u2605  Gibraltar\", \"\\u2605  Cayman Islands\", \"\\u2605  Saint Martin\", \"\\u2605  Bermuda\", \"\\u2605  Barbados\", \"\\u2605  Monaco\", \"\\u2605  Bhutan\", \"\\u2605  Brunei\", \"\\u2605  Seychelles\", \"\\u2605  Liechtenstein\", \"\\u2605  Antigua and Barbuda\", \"\\u2605  Saint Vincent and the Grenadines\", \"\\u2605  Macao\", \"\\u2605  Curacao\", \"\\u2605  Fiji\", \"\\u2605  Saint Lucia\", \"\\u2605  Timor-Leste\", \"\\u2605  Grenada\", \"\\u2605  New Caledonia\", \"\\u2605  Laos\", \"\\u2605  British Virgin Islands\", \"\\u2605  Dominica\", \"\\u2605  Saint Kitts and Nevis\", \"\\u2605  Saint Barthelemy\", \"\\u2605  Greenland\", \"\\u2605  Montserrat\", \"\\u2605  Caribbean Netherlands\", \"\\u2605  Falkland Islands\", \"\\u2605  Vatican City\", \"\\u2605  Western Sahara\", \"\\u2605  Saint Pierre and Miquelon\", \"\\u2605  Anguilla\"], \"y\": [\"15509908\", \"3127418\", \"2670755\", \"2222577\", \"761330\", \"500102\", \"384908\", \"376409\", \"348940\", \"367897\", \"150376\", \"305866\", \"239806\", \"Unknown\", \"277067\", \"275317\", \"172615\", \"84829\", \"204960\", \"235569\"]}, {\"marker\": {\"color\": \"lightsalmon\"}, \"name\": \"Confirmed\", \"type\": \"bar\", \"x\": [\"TOTAL\", \"\\u2605  United States\", \"\\u2605  Brazil\", \"\\u2605  India\", \"\\u2605  Russia\", \"\\u2605  South Africa\", \"\\u2605  Peru\", \"\\u2605  Mexico\", \"\\u2605  Colombia\", \"\\u2605  Chile\", \"\\u2605  Spain\", \"\\u2605  Iran\", \"\\u2605  Argentina\", \"\\u2605  United Kingdom\", \"\\u2605  Saudi Arabia\", \"\\u2605  Pakistan\", \"\\u2605  Bangladesh\", \"\\u2605  France\", \"\\u2605  Italy\", \"\\u2605  Turkey\", \"\\u2605  Germany\", \"\\u2605  Iraq\", \"\\u2605  Philippines\", \"\\u2605  Indonesia\", \"\\u2605  Canada\", \"\\u2605  Qatar\", \"\\u2605  Bolivia\", \"\\u2605  Ecuador\", \"\\u2605  Kazakhstan\", \"\\u2605  Israel\", \"\\u2605  Ukraine\", \"\\u2605  Egypt\", \"\\u2605  Dominican Republic\", \"\\u2605  Sweden\", \"\\u2605  China\", \"\\u2605  Panama\", \"\\u2605  Oman\", \"\\u2605  Belgium\", \"\\u2605  Kuwait\", \"\\u2605  Romania\", \"\\u2605  Belarus\", \"\\u2605  Guatemala\", \"\\u2605  United Arab Emirates\", \"\\u2605  Netherlands\", \"\\u2605  Poland\", \"\\u2605  Japan\", \"\\u2605  Singapore\", \"\\u2605  Portugal\", \"\\u2605  Honduras\", \"\\u2605  Nigeria\", \"\\u2605  Morocco\", \"\\u2605  Bahrain\", \"\\u2605  Ghana\", \"\\u2605  Kyrgyzstan\", \"\\u2605  Armenia\", \"\\u2605  Algeria\", \"\\u2605  Switzerland\", \"\\u2605  Uzbekistan\", \"\\u2605  Venezuela\", \"\\u2605  Afghanistan\", \"\\u2605  Ethiopia\", \"\\u2605  Azerbaijan\", \"\\u2605  Moldova\", \"\\u2605  Costa Rica\", \"\\u2605  Kenya\", \"\\u2605  Nepal\", \"\\u2605  Serbia\", \"\\u2605  Ireland\", \"\\u2605  Austria\", \"\\u2605  Australia\", \"\\u2605  El Salvador\", \"\\u2605  Czechia\", \"\\u2605  Cameroon\", \"\\u2605  Palestine\", \"\\u2605  Bosnia and Herzegovina\", \"\\u2605  Ivory Coast\", \"\\u2605  South Korea\", \"\\u2605  Denmark\", \"\\u2605  Bulgaria\", \"\\u2605  Madagascar\", \"\\u2605  North Macedonia\", \"\\u2605  Senegal\", \"\\u2605  Sudan\", \"\\u2605  Paraguay\", \"\\u2605  Kosovo\", \"\\u2605  Lebanon\", \"\\u2605  Zambia\", \"\\u2605  Norway\", \"\\u2605  Libya\", \"\\u2605  DR Congo\", \"\\u2605  Malaysia\", \"\\u2605  Guinea\", \"\\u2605  French Guiana\", \"\\u2605  Gabon\", \"\\u2605  Tajikistan\", \"\\u2605  Greece\", \"\\u2605  Albania\", \"\\u2605  Haiti\", \"\\u2605  Finland\", \"\\u2605  Luxembourg\", \"\\u2605  Croatia\", \"\\u2605  Mauritania\", \"\\u2605  Maldives\", \"\\u2605  Zimbabwe\", \"\\u2605  Djibouti\", \"\\u2605  Malawi\", \"\\u2605  Namibia\", \"\\u2605  Hungary\", \"\\u2605  Equatorial Guinea\", \"\\u2605  Central African Republic\", \"\\u2605  Hong Kong\", \"\\u2605  Nicaragua\", \"\\u2605  Montenegro\", \"\\u2605  Eswatini\", \"\\u2605  Congo\", \"\\u2605  Cuba\", \"\\u2605  Suriname\", \"\\u2605  Cape Verde\", \"\\u2605  Thailand\", \"\\u2605  Somalia\", \"\\u2605  Mayotte\", \"\\u2605  Slovakia\", \"\\u2605  Mozambique\", \"\\u2605  Sri Lanka\", \"\\u2605  Rwanda\", \"\\u2605  Mali\", \"\\u2605  Tunisia\", \"\\u2605  Slovenia\", \"\\u2605  Lithuania\", \"\\u2605  South Sudan\", \"\\u2605  The Gambia\", \"\\u2605  Estonia\", \"\\u2605  Guinea-Bissau\", \"\\u2605  Benin\", \"\\u2605  Syria\", \"\\u2605  Angola\", \"\\u2605  Iceland\", \"\\u2605  Sierra Leone\", \"\\u2605  Yemen\", \"\\u2605  Uganda\", \"\\u2605  The Bahamas\", \"\\u2605  New Zealand\", \"\\u2605  Malta\", \"\\u2605  Jordan\", \"\\u2605  Uruguay\", \"\\u2605  Aruba\", \"\\u2605  Cyprus\", \"\\u2605  Georgia\", \"\\u2605  Jamaica\", \"\\u2605  Latvia\", \"\\u2605  Botswana\", \"\\u2605  Burkina Faso\", \"\\u2605  Liberia\", \"\\u2605  Togo\", \"\\u2605  Niger\", \"\\u2605  Reunion\", \"\\u2605  Andorra\", \"\\u2605  Lesotho\", \"\\u2605  Vietnam\", \"\\u2605  Chad\", \"\\u2605  S\\u00c3\\u00a3o Tom\\u00c3\\u00a9 and Pr\\u00c3\\u00adncipe\", \"\\u2605  Guyana\", \"\\u2605  Trinidad and Tobago\", \"\\u2605  Guadeloupe\", \"\\u2605  San Marino\", \"\\u2605  Belize\", \"\\u2605  Channel Islands\", \"\\u2605  Tanzania\", \"\\u2605  Taiwan\", \"\\u2605  Myanmar\", \"\\u2605  Burundi\", \"\\u2605  Comoros\", \"\\u2605  Faroe Islands\", \"\\u2605  Papua New Guinea\", \"\\u2605  Sint Maarten\", \"\\u2605  Turks and Caicos Islands\", \"\\u2605  Mauritius\", \"\\u2605  Martinique\", \"\\u2605  Isle of Man\", \"\\u2605  Eritrea\", \"\\u2605  Mongolia\", \"\\u2605  French Polynesia\", \"\\u2605  Cambodia\", \"\\u2605  Gibraltar\", \"\\u2605  Cayman Islands\", \"\\u2605  Saint Martin\", \"\\u2605  Bermuda\", \"\\u2605  Barbados\", \"\\u2605  Monaco\", \"\\u2605  Bhutan\", \"\\u2605  Brunei\", \"\\u2605  Seychelles\", \"\\u2605  Liechtenstein\", \"\\u2605  Antigua and Barbuda\", \"\\u2605  Saint Vincent and the Grenadines\", \"\\u2605  Macao\", \"\\u2605  Curacao\", \"\\u2605  Fiji\", \"\\u2605  Saint Lucia\", \"\\u2605  Timor-Leste\", \"\\u2605  Grenada\", \"\\u2605  New Caledonia\", \"\\u2605  Laos\", \"\\u2605  British Virgin Islands\", \"\\u2605  Dominica\", \"\\u2605  Saint Kitts and Nevis\", \"\\u2605  Saint Barthelemy\", \"\\u2605  Greenland\", \"\\u2605  Montserrat\", \"\\u2605  Caribbean Netherlands\", \"\\u2605  Falkland Islands\", \"\\u2605  Vatican City\", \"\\u2605  Western Sahara\", \"\\u2605  Saint Pierre and Miquelon\", \"\\u2605  Anguilla\"], \"y\": [23121366, 5796727, 3536488, 2975701, 946976, 603338, 576067, 549734, 522138, 393769, 386054, 354764, 329043, 323313, 305186, 292174, 290360, 257333, 257065, 255723]}],\n",
       "                        {\"barmode\": \"group\", \"template\": {\"data\": {\"bar\": [{\"error_x\": {\"color\": \"#2a3f5f\"}, \"error_y\": {\"color\": \"#2a3f5f\"}, \"marker\": {\"line\": {\"color\": \"#E5ECF6\", \"width\": 0.5}}, \"type\": \"bar\"}], \"barpolar\": [{\"marker\": {\"line\": {\"color\": \"#E5ECF6\", \"width\": 0.5}}, \"type\": \"barpolar\"}], \"carpet\": [{\"aaxis\": {\"endlinecolor\": \"#2a3f5f\", \"gridcolor\": \"white\", \"linecolor\": \"white\", \"minorgridcolor\": \"white\", \"startlinecolor\": \"#2a3f5f\"}, \"baxis\": {\"endlinecolor\": \"#2a3f5f\", \"gridcolor\": \"white\", \"linecolor\": \"white\", \"minorgridcolor\": \"white\", \"startlinecolor\": \"#2a3f5f\"}, \"type\": \"carpet\"}], \"choropleth\": [{\"colorbar\": {\"outlinewidth\": 0, \"ticks\": \"\"}, \"type\": \"choropleth\"}], \"contour\": [{\"colorbar\": {\"outlinewidth\": 0, \"ticks\": \"\"}, \"colorscale\": [[0.0, \"#0d0887\"], [0.1111111111111111, \"#46039f\"], [0.2222222222222222, \"#7201a8\"], [0.3333333333333333, \"#9c179e\"], [0.4444444444444444, \"#bd3786\"], [0.5555555555555556, \"#d8576b\"], [0.6666666666666666, \"#ed7953\"], [0.7777777777777778, \"#fb9f3a\"], [0.8888888888888888, \"#fdca26\"], [1.0, \"#f0f921\"]], \"type\": \"contour\"}], \"contourcarpet\": [{\"colorbar\": {\"outlinewidth\": 0, \"ticks\": \"\"}, \"type\": \"contourcarpet\"}], \"heatmap\": [{\"colorbar\": {\"outlinewidth\": 0, \"ticks\": \"\"}, \"colorscale\": [[0.0, \"#0d0887\"], [0.1111111111111111, \"#46039f\"], [0.2222222222222222, \"#7201a8\"], [0.3333333333333333, \"#9c179e\"], [0.4444444444444444, \"#bd3786\"], [0.5555555555555556, \"#d8576b\"], [0.6666666666666666, \"#ed7953\"], [0.7777777777777778, \"#fb9f3a\"], [0.8888888888888888, \"#fdca26\"], [1.0, \"#f0f921\"]], \"type\": \"heatmap\"}], \"heatmapgl\": [{\"colorbar\": {\"outlinewidth\": 0, \"ticks\": \"\"}, \"colorscale\": [[0.0, \"#0d0887\"], [0.1111111111111111, \"#46039f\"], [0.2222222222222222, \"#7201a8\"], [0.3333333333333333, \"#9c179e\"], [0.4444444444444444, \"#bd3786\"], [0.5555555555555556, \"#d8576b\"], [0.6666666666666666, \"#ed7953\"], [0.7777777777777778, \"#fb9f3a\"], [0.8888888888888888, \"#fdca26\"], [1.0, \"#f0f921\"]], \"type\": \"heatmapgl\"}], \"histogram\": [{\"marker\": {\"colorbar\": {\"outlinewidth\": 0, \"ticks\": \"\"}}, \"type\": \"histogram\"}], \"histogram2d\": [{\"colorbar\": {\"outlinewidth\": 0, \"ticks\": \"\"}, \"colorscale\": [[0.0, \"#0d0887\"], [0.1111111111111111, \"#46039f\"], [0.2222222222222222, \"#7201a8\"], [0.3333333333333333, \"#9c179e\"], [0.4444444444444444, \"#bd3786\"], [0.5555555555555556, \"#d8576b\"], [0.6666666666666666, \"#ed7953\"], [0.7777777777777778, \"#fb9f3a\"], [0.8888888888888888, \"#fdca26\"], [1.0, \"#f0f921\"]], \"type\": \"histogram2d\"}], \"histogram2dcontour\": [{\"colorbar\": {\"outlinewidth\": 0, \"ticks\": \"\"}, \"colorscale\": [[0.0, \"#0d0887\"], [0.1111111111111111, \"#46039f\"], [0.2222222222222222, \"#7201a8\"], [0.3333333333333333, \"#9c179e\"], [0.4444444444444444, \"#bd3786\"], [0.5555555555555556, \"#d8576b\"], [0.6666666666666666, \"#ed7953\"], [0.7777777777777778, \"#fb9f3a\"], [0.8888888888888888, \"#fdca26\"], [1.0, \"#f0f921\"]], \"type\": \"histogram2dcontour\"}], \"mesh3d\": [{\"colorbar\": {\"outlinewidth\": 0, \"ticks\": \"\"}, \"type\": \"mesh3d\"}], \"parcoords\": [{\"line\": {\"colorbar\": {\"outlinewidth\": 0, \"ticks\": \"\"}}, \"type\": \"parcoords\"}], \"pie\": [{\"automargin\": true, \"type\": \"pie\"}], \"scatter\": [{\"marker\": {\"colorbar\": {\"outlinewidth\": 0, \"ticks\": \"\"}}, \"type\": \"scatter\"}], \"scatter3d\": [{\"line\": {\"colorbar\": {\"outlinewidth\": 0, \"ticks\": \"\"}}, \"marker\": {\"colorbar\": {\"outlinewidth\": 0, \"ticks\": \"\"}}, \"type\": \"scatter3d\"}], \"scattercarpet\": [{\"marker\": {\"colorbar\": {\"outlinewidth\": 0, \"ticks\": \"\"}}, \"type\": \"scattercarpet\"}], \"scattergeo\": [{\"marker\": {\"colorbar\": {\"outlinewidth\": 0, \"ticks\": \"\"}}, \"type\": \"scattergeo\"}], \"scattergl\": [{\"marker\": {\"colorbar\": {\"outlinewidth\": 0, \"ticks\": \"\"}}, \"type\": \"scattergl\"}], \"scattermapbox\": [{\"marker\": {\"colorbar\": {\"outlinewidth\": 0, \"ticks\": \"\"}}, \"type\": \"scattermapbox\"}], \"scatterpolar\": [{\"marker\": {\"colorbar\": {\"outlinewidth\": 0, \"ticks\": \"\"}}, \"type\": \"scatterpolar\"}], \"scatterpolargl\": [{\"marker\": {\"colorbar\": {\"outlinewidth\": 0, \"ticks\": \"\"}}, \"type\": \"scatterpolargl\"}], \"scatterternary\": [{\"marker\": {\"colorbar\": {\"outlinewidth\": 0, \"ticks\": \"\"}}, \"type\": \"scatterternary\"}], \"surface\": [{\"colorbar\": {\"outlinewidth\": 0, \"ticks\": \"\"}, \"colorscale\": [[0.0, \"#0d0887\"], [0.1111111111111111, \"#46039f\"], [0.2222222222222222, \"#7201a8\"], [0.3333333333333333, \"#9c179e\"], [0.4444444444444444, \"#bd3786\"], [0.5555555555555556, \"#d8576b\"], [0.6666666666666666, \"#ed7953\"], [0.7777777777777778, \"#fb9f3a\"], [0.8888888888888888, \"#fdca26\"], [1.0, \"#f0f921\"]], \"type\": \"surface\"}], \"table\": [{\"cells\": {\"fill\": {\"color\": \"#EBF0F8\"}, \"line\": {\"color\": \"white\"}}, \"header\": {\"fill\": {\"color\": \"#C8D4E3\"}, \"line\": {\"color\": \"white\"}}, \"type\": \"table\"}]}, \"layout\": {\"annotationdefaults\": {\"arrowcolor\": \"#2a3f5f\", \"arrowhead\": 0, \"arrowwidth\": 1}, \"coloraxis\": {\"colorbar\": {\"outlinewidth\": 0, \"ticks\": \"\"}}, \"colorscale\": {\"diverging\": [[0, \"#8e0152\"], [0.1, \"#c51b7d\"], [0.2, \"#de77ae\"], [0.3, \"#f1b6da\"], [0.4, \"#fde0ef\"], [0.5, \"#f7f7f7\"], [0.6, \"#e6f5d0\"], [0.7, \"#b8e186\"], [0.8, \"#7fbc41\"], [0.9, \"#4d9221\"], [1, \"#276419\"]], \"sequential\": [[0.0, \"#0d0887\"], [0.1111111111111111, \"#46039f\"], [0.2222222222222222, \"#7201a8\"], [0.3333333333333333, \"#9c179e\"], [0.4444444444444444, \"#bd3786\"], [0.5555555555555556, \"#d8576b\"], [0.6666666666666666, \"#ed7953\"], [0.7777777777777778, \"#fb9f3a\"], [0.8888888888888888, \"#fdca26\"], [1.0, \"#f0f921\"]], \"sequentialminus\": [[0.0, \"#0d0887\"], [0.1111111111111111, \"#46039f\"], [0.2222222222222222, \"#7201a8\"], [0.3333333333333333, \"#9c179e\"], [0.4444444444444444, \"#bd3786\"], [0.5555555555555556, \"#d8576b\"], [0.6666666666666666, \"#ed7953\"], [0.7777777777777778, \"#fb9f3a\"], [0.8888888888888888, \"#fdca26\"], [1.0, \"#f0f921\"]]}, \"colorway\": [\"#636efa\", \"#EF553B\", \"#00cc96\", \"#ab63fa\", \"#FFA15A\", \"#19d3f3\", \"#FF6692\", \"#B6E880\", \"#FF97FF\", \"#FECB52\"], \"font\": {\"color\": \"#2a3f5f\"}, \"geo\": {\"bgcolor\": \"white\", \"lakecolor\": \"white\", \"landcolor\": \"#E5ECF6\", \"showlakes\": true, \"showland\": true, \"subunitcolor\": \"white\"}, \"hoverlabel\": {\"align\": \"left\"}, \"hovermode\": \"closest\", \"mapbox\": {\"style\": \"light\"}, \"paper_bgcolor\": \"white\", \"plot_bgcolor\": \"#E5ECF6\", \"polar\": {\"angularaxis\": {\"gridcolor\": \"white\", \"linecolor\": \"white\", \"ticks\": \"\"}, \"bgcolor\": \"#E5ECF6\", \"radialaxis\": {\"gridcolor\": \"white\", \"linecolor\": \"white\", \"ticks\": \"\"}}, \"scene\": {\"xaxis\": {\"backgroundcolor\": \"#E5ECF6\", \"gridcolor\": \"white\", \"gridwidth\": 2, \"linecolor\": \"white\", \"showbackground\": true, \"ticks\": \"\", \"zerolinecolor\": \"white\"}, \"yaxis\": {\"backgroundcolor\": \"#E5ECF6\", \"gridcolor\": \"white\", \"gridwidth\": 2, \"linecolor\": \"white\", \"showbackground\": true, \"ticks\": \"\", \"zerolinecolor\": \"white\"}, \"zaxis\": {\"backgroundcolor\": \"#E5ECF6\", \"gridcolor\": \"white\", \"gridwidth\": 2, \"linecolor\": \"white\", \"showbackground\": true, \"ticks\": \"\", \"zerolinecolor\": \"white\"}}, \"shapedefaults\": {\"line\": {\"color\": \"#2a3f5f\"}}, \"ternary\": {\"aaxis\": {\"gridcolor\": \"white\", \"linecolor\": \"white\", \"ticks\": \"\"}, \"baxis\": {\"gridcolor\": \"white\", \"linecolor\": \"white\", \"ticks\": \"\"}, \"bgcolor\": \"#E5ECF6\", \"caxis\": {\"gridcolor\": \"white\", \"linecolor\": \"white\", \"ticks\": \"\"}}, \"title\": {\"x\": 0.05}, \"xaxis\": {\"automargin\": true, \"gridcolor\": \"white\", \"linecolor\": \"white\", \"ticks\": \"\", \"title\": {\"standoff\": 15}, \"zerolinecolor\": \"white\", \"zerolinewidth\": 2}, \"yaxis\": {\"automargin\": true, \"gridcolor\": \"white\", \"linecolor\": \"white\", \"ticks\": \"\", \"title\": {\"standoff\": 15}, \"zerolinecolor\": \"white\", \"zerolinewidth\": 2}}}},\n",
       "                        {\"responsive\": true}\n",
       "                    ).then(function(){\n",
       "                            \n",
       "var gd = document.getElementById('f6529f37-e662-4a90-941a-d1aea7fd40ba');\n",
       "var x = new MutationObserver(function (mutations, observer) {{\n",
       "        var display = window.getComputedStyle(gd).display;\n",
       "        if (!display || display === 'none') {{\n",
       "            console.log([gd, 'removed!']);\n",
       "            Plotly.purge(gd);\n",
       "            observer.disconnect();\n",
       "        }}\n",
       "}});\n",
       "\n",
       "// Listen for the removal of the full notebook cells\n",
       "var notebookContainer = gd.closest('#notebook-container');\n",
       "if (notebookContainer) {{\n",
       "    x.observe(notebookContainer, {childList: true});\n",
       "}}\n",
       "\n",
       "// Listen for the clearing of the current output cell\n",
       "var outputEl = gd.closest('.output');\n",
       "if (outputEl) {{\n",
       "    x.observe(outputEl, {childList: true});\n",
       "}}\n",
       "\n",
       "                        })\n",
       "                };\n",
       "                });\n",
       "            </script>\n",
       "        </div>"
      ]
     },
     "metadata": {},
     "output_type": "display_data"
    }
   ],
   "source": [
    "# lets visualize the recovered case based in relation to total confirmed case\n",
    "\n",
    "import plotly.graph_objects as go\n",
    "\n",
    "\n",
    "# for grouped barplot using recovered cases per country and total number of cases per country.\n",
    "\n",
    "fig = go.Figure(data = [\n",
    "go.Bar(\n",
    "    x = world_df['Name'],\n",
    "    y = world_df[\"Recovered\"].head(20),\n",
    "    name = \"Recovered\",\n",
    "    marker_color = \"indianred\"\n",
    "),\n",
    "go.Bar(\n",
    "    x = world_df['Name'],\n",
    "    y = world_df['Confirmed'].head(20),\n",
    "    name = 'Confirmed',\n",
    "    marker_color = \"lightsalmon\"\n",
    ")\n",
    "])\n",
    "\n",
    "# Here we modify the tickangle of the xaxis, resulting in rotated labels.\n",
    "fig.update_layout(barmode='group')\n",
    "fig.show()"
   ]
  },
  {
   "cell_type": "markdown",
   "metadata": {},
   "source": [
    " - Here we can see how many person recovered in relation to total cases registered.\n",
    " - Recovery rate  = 67% (15.4827M/23.09665M), this contradicts early predicted value of recovery rate which was 97%.\n",
    " - Recovery rate and mortality rate are based on how well a country is implementing the testing of its people. <a href = \"https://www.who.int/news-room/commentaries/detail/estimating-mortality-from-covid-19\">Estimating mortality from COVID-19</a>"
   ]
  },
  {
   "cell_type": "markdown",
   "metadata": {},
   "source": [
    "#### Lets see who has implemented testing vastly."
   ]
  },
  {
   "cell_type": "code",
   "execution_count": 144,
   "metadata": {},
   "outputs": [
    {
     "data": {
      "application/vnd.plotly.v1+json": {
       "config": {
        "plotlyServerURL": "https://plot.ly"
       },
       "data": [
        {
         "alignmentgroup": "True",
         "hovertemplate": "Name=%{x}<br>Tests=%{y}<extra></extra>",
         "legendgroup": "",
         "marker": {
          "color": "#636efa"
         },
         "name": "",
         "offsetgroup": "",
         "orientation": "v",
         "showlegend": false,
         "textposition": "auto",
         "type": "bar",
         "x": [
          "TOTAL",
          "★  China",
          "★  United States",
          "★  India",
          "★  Russia",
          "★  United Kingdom",
          "★  Brazil",
          "★  Germany",
          "★  Spain",
          "★  Italy",
          "★  United Arab Emirates",
          "★  Turkey",
          "★  France",
          "★  Australia",
          "★  Canada",
          "★  Saudi Arabia",
          "★  South Africa",
          "★  Iran",
          "★  Peru",
          "★  Poland"
         ],
         "xaxis": "x",
         "y": [
          408073508,
          90410000,
          74718580,
          34491073,
          33800000,
          15177265,
          14144344,
          10197366,
          7955615,
          7862592,
          6348109,
          6154157,
          6000000,
          5646546,
          5034059,
          4501104,
          3504507,
          2987117,
          2915372,
          2493423
         ],
         "yaxis": "y"
        }
       ],
       "layout": {
        "barmode": "relative",
        "legend": {
         "tracegroupgap": 0
        },
        "margin": {
         "t": 60
        },
        "template": {
         "data": {
          "bar": [
           {
            "error_x": {
             "color": "#2a3f5f"
            },
            "error_y": {
             "color": "#2a3f5f"
            },
            "marker": {
             "line": {
              "color": "#E5ECF6",
              "width": 0.5
             }
            },
            "type": "bar"
           }
          ],
          "barpolar": [
           {
            "marker": {
             "line": {
              "color": "#E5ECF6",
              "width": 0.5
             }
            },
            "type": "barpolar"
           }
          ],
          "carpet": [
           {
            "aaxis": {
             "endlinecolor": "#2a3f5f",
             "gridcolor": "white",
             "linecolor": "white",
             "minorgridcolor": "white",
             "startlinecolor": "#2a3f5f"
            },
            "baxis": {
             "endlinecolor": "#2a3f5f",
             "gridcolor": "white",
             "linecolor": "white",
             "minorgridcolor": "white",
             "startlinecolor": "#2a3f5f"
            },
            "type": "carpet"
           }
          ],
          "choropleth": [
           {
            "colorbar": {
             "outlinewidth": 0,
             "ticks": ""
            },
            "type": "choropleth"
           }
          ],
          "contour": [
           {
            "colorbar": {
             "outlinewidth": 0,
             "ticks": ""
            },
            "colorscale": [
             [
              0,
              "#0d0887"
             ],
             [
              0.1111111111111111,
              "#46039f"
             ],
             [
              0.2222222222222222,
              "#7201a8"
             ],
             [
              0.3333333333333333,
              "#9c179e"
             ],
             [
              0.4444444444444444,
              "#bd3786"
             ],
             [
              0.5555555555555556,
              "#d8576b"
             ],
             [
              0.6666666666666666,
              "#ed7953"
             ],
             [
              0.7777777777777778,
              "#fb9f3a"
             ],
             [
              0.8888888888888888,
              "#fdca26"
             ],
             [
              1,
              "#f0f921"
             ]
            ],
            "type": "contour"
           }
          ],
          "contourcarpet": [
           {
            "colorbar": {
             "outlinewidth": 0,
             "ticks": ""
            },
            "type": "contourcarpet"
           }
          ],
          "heatmap": [
           {
            "colorbar": {
             "outlinewidth": 0,
             "ticks": ""
            },
            "colorscale": [
             [
              0,
              "#0d0887"
             ],
             [
              0.1111111111111111,
              "#46039f"
             ],
             [
              0.2222222222222222,
              "#7201a8"
             ],
             [
              0.3333333333333333,
              "#9c179e"
             ],
             [
              0.4444444444444444,
              "#bd3786"
             ],
             [
              0.5555555555555556,
              "#d8576b"
             ],
             [
              0.6666666666666666,
              "#ed7953"
             ],
             [
              0.7777777777777778,
              "#fb9f3a"
             ],
             [
              0.8888888888888888,
              "#fdca26"
             ],
             [
              1,
              "#f0f921"
             ]
            ],
            "type": "heatmap"
           }
          ],
          "heatmapgl": [
           {
            "colorbar": {
             "outlinewidth": 0,
             "ticks": ""
            },
            "colorscale": [
             [
              0,
              "#0d0887"
             ],
             [
              0.1111111111111111,
              "#46039f"
             ],
             [
              0.2222222222222222,
              "#7201a8"
             ],
             [
              0.3333333333333333,
              "#9c179e"
             ],
             [
              0.4444444444444444,
              "#bd3786"
             ],
             [
              0.5555555555555556,
              "#d8576b"
             ],
             [
              0.6666666666666666,
              "#ed7953"
             ],
             [
              0.7777777777777778,
              "#fb9f3a"
             ],
             [
              0.8888888888888888,
              "#fdca26"
             ],
             [
              1,
              "#f0f921"
             ]
            ],
            "type": "heatmapgl"
           }
          ],
          "histogram": [
           {
            "marker": {
             "colorbar": {
              "outlinewidth": 0,
              "ticks": ""
             }
            },
            "type": "histogram"
           }
          ],
          "histogram2d": [
           {
            "colorbar": {
             "outlinewidth": 0,
             "ticks": ""
            },
            "colorscale": [
             [
              0,
              "#0d0887"
             ],
             [
              0.1111111111111111,
              "#46039f"
             ],
             [
              0.2222222222222222,
              "#7201a8"
             ],
             [
              0.3333333333333333,
              "#9c179e"
             ],
             [
              0.4444444444444444,
              "#bd3786"
             ],
             [
              0.5555555555555556,
              "#d8576b"
             ],
             [
              0.6666666666666666,
              "#ed7953"
             ],
             [
              0.7777777777777778,
              "#fb9f3a"
             ],
             [
              0.8888888888888888,
              "#fdca26"
             ],
             [
              1,
              "#f0f921"
             ]
            ],
            "type": "histogram2d"
           }
          ],
          "histogram2dcontour": [
           {
            "colorbar": {
             "outlinewidth": 0,
             "ticks": ""
            },
            "colorscale": [
             [
              0,
              "#0d0887"
             ],
             [
              0.1111111111111111,
              "#46039f"
             ],
             [
              0.2222222222222222,
              "#7201a8"
             ],
             [
              0.3333333333333333,
              "#9c179e"
             ],
             [
              0.4444444444444444,
              "#bd3786"
             ],
             [
              0.5555555555555556,
              "#d8576b"
             ],
             [
              0.6666666666666666,
              "#ed7953"
             ],
             [
              0.7777777777777778,
              "#fb9f3a"
             ],
             [
              0.8888888888888888,
              "#fdca26"
             ],
             [
              1,
              "#f0f921"
             ]
            ],
            "type": "histogram2dcontour"
           }
          ],
          "mesh3d": [
           {
            "colorbar": {
             "outlinewidth": 0,
             "ticks": ""
            },
            "type": "mesh3d"
           }
          ],
          "parcoords": [
           {
            "line": {
             "colorbar": {
              "outlinewidth": 0,
              "ticks": ""
             }
            },
            "type": "parcoords"
           }
          ],
          "pie": [
           {
            "automargin": true,
            "type": "pie"
           }
          ],
          "scatter": [
           {
            "marker": {
             "colorbar": {
              "outlinewidth": 0,
              "ticks": ""
             }
            },
            "type": "scatter"
           }
          ],
          "scatter3d": [
           {
            "line": {
             "colorbar": {
              "outlinewidth": 0,
              "ticks": ""
             }
            },
            "marker": {
             "colorbar": {
              "outlinewidth": 0,
              "ticks": ""
             }
            },
            "type": "scatter3d"
           }
          ],
          "scattercarpet": [
           {
            "marker": {
             "colorbar": {
              "outlinewidth": 0,
              "ticks": ""
             }
            },
            "type": "scattercarpet"
           }
          ],
          "scattergeo": [
           {
            "marker": {
             "colorbar": {
              "outlinewidth": 0,
              "ticks": ""
             }
            },
            "type": "scattergeo"
           }
          ],
          "scattergl": [
           {
            "marker": {
             "colorbar": {
              "outlinewidth": 0,
              "ticks": ""
             }
            },
            "type": "scattergl"
           }
          ],
          "scattermapbox": [
           {
            "marker": {
             "colorbar": {
              "outlinewidth": 0,
              "ticks": ""
             }
            },
            "type": "scattermapbox"
           }
          ],
          "scatterpolar": [
           {
            "marker": {
             "colorbar": {
              "outlinewidth": 0,
              "ticks": ""
             }
            },
            "type": "scatterpolar"
           }
          ],
          "scatterpolargl": [
           {
            "marker": {
             "colorbar": {
              "outlinewidth": 0,
              "ticks": ""
             }
            },
            "type": "scatterpolargl"
           }
          ],
          "scatterternary": [
           {
            "marker": {
             "colorbar": {
              "outlinewidth": 0,
              "ticks": ""
             }
            },
            "type": "scatterternary"
           }
          ],
          "surface": [
           {
            "colorbar": {
             "outlinewidth": 0,
             "ticks": ""
            },
            "colorscale": [
             [
              0,
              "#0d0887"
             ],
             [
              0.1111111111111111,
              "#46039f"
             ],
             [
              0.2222222222222222,
              "#7201a8"
             ],
             [
              0.3333333333333333,
              "#9c179e"
             ],
             [
              0.4444444444444444,
              "#bd3786"
             ],
             [
              0.5555555555555556,
              "#d8576b"
             ],
             [
              0.6666666666666666,
              "#ed7953"
             ],
             [
              0.7777777777777778,
              "#fb9f3a"
             ],
             [
              0.8888888888888888,
              "#fdca26"
             ],
             [
              1,
              "#f0f921"
             ]
            ],
            "type": "surface"
           }
          ],
          "table": [
           {
            "cells": {
             "fill": {
              "color": "#EBF0F8"
             },
             "line": {
              "color": "white"
             }
            },
            "header": {
             "fill": {
              "color": "#C8D4E3"
             },
             "line": {
              "color": "white"
             }
            },
            "type": "table"
           }
          ]
         },
         "layout": {
          "annotationdefaults": {
           "arrowcolor": "#2a3f5f",
           "arrowhead": 0,
           "arrowwidth": 1
          },
          "coloraxis": {
           "colorbar": {
            "outlinewidth": 0,
            "ticks": ""
           }
          },
          "colorscale": {
           "diverging": [
            [
             0,
             "#8e0152"
            ],
            [
             0.1,
             "#c51b7d"
            ],
            [
             0.2,
             "#de77ae"
            ],
            [
             0.3,
             "#f1b6da"
            ],
            [
             0.4,
             "#fde0ef"
            ],
            [
             0.5,
             "#f7f7f7"
            ],
            [
             0.6,
             "#e6f5d0"
            ],
            [
             0.7,
             "#b8e186"
            ],
            [
             0.8,
             "#7fbc41"
            ],
            [
             0.9,
             "#4d9221"
            ],
            [
             1,
             "#276419"
            ]
           ],
           "sequential": [
            [
             0,
             "#0d0887"
            ],
            [
             0.1111111111111111,
             "#46039f"
            ],
            [
             0.2222222222222222,
             "#7201a8"
            ],
            [
             0.3333333333333333,
             "#9c179e"
            ],
            [
             0.4444444444444444,
             "#bd3786"
            ],
            [
             0.5555555555555556,
             "#d8576b"
            ],
            [
             0.6666666666666666,
             "#ed7953"
            ],
            [
             0.7777777777777778,
             "#fb9f3a"
            ],
            [
             0.8888888888888888,
             "#fdca26"
            ],
            [
             1,
             "#f0f921"
            ]
           ],
           "sequentialminus": [
            [
             0,
             "#0d0887"
            ],
            [
             0.1111111111111111,
             "#46039f"
            ],
            [
             0.2222222222222222,
             "#7201a8"
            ],
            [
             0.3333333333333333,
             "#9c179e"
            ],
            [
             0.4444444444444444,
             "#bd3786"
            ],
            [
             0.5555555555555556,
             "#d8576b"
            ],
            [
             0.6666666666666666,
             "#ed7953"
            ],
            [
             0.7777777777777778,
             "#fb9f3a"
            ],
            [
             0.8888888888888888,
             "#fdca26"
            ],
            [
             1,
             "#f0f921"
            ]
           ]
          },
          "colorway": [
           "#636efa",
           "#EF553B",
           "#00cc96",
           "#ab63fa",
           "#FFA15A",
           "#19d3f3",
           "#FF6692",
           "#B6E880",
           "#FF97FF",
           "#FECB52"
          ],
          "font": {
           "color": "#2a3f5f"
          },
          "geo": {
           "bgcolor": "white",
           "lakecolor": "white",
           "landcolor": "#E5ECF6",
           "showlakes": true,
           "showland": true,
           "subunitcolor": "white"
          },
          "hoverlabel": {
           "align": "left"
          },
          "hovermode": "closest",
          "mapbox": {
           "style": "light"
          },
          "paper_bgcolor": "white",
          "plot_bgcolor": "#E5ECF6",
          "polar": {
           "angularaxis": {
            "gridcolor": "white",
            "linecolor": "white",
            "ticks": ""
           },
           "bgcolor": "#E5ECF6",
           "radialaxis": {
            "gridcolor": "white",
            "linecolor": "white",
            "ticks": ""
           }
          },
          "scene": {
           "xaxis": {
            "backgroundcolor": "#E5ECF6",
            "gridcolor": "white",
            "gridwidth": 2,
            "linecolor": "white",
            "showbackground": true,
            "ticks": "",
            "zerolinecolor": "white"
           },
           "yaxis": {
            "backgroundcolor": "#E5ECF6",
            "gridcolor": "white",
            "gridwidth": 2,
            "linecolor": "white",
            "showbackground": true,
            "ticks": "",
            "zerolinecolor": "white"
           },
           "zaxis": {
            "backgroundcolor": "#E5ECF6",
            "gridcolor": "white",
            "gridwidth": 2,
            "linecolor": "white",
            "showbackground": true,
            "ticks": "",
            "zerolinecolor": "white"
           }
          },
          "shapedefaults": {
           "line": {
            "color": "#2a3f5f"
           }
          },
          "ternary": {
           "aaxis": {
            "gridcolor": "white",
            "linecolor": "white",
            "ticks": ""
           },
           "baxis": {
            "gridcolor": "white",
            "linecolor": "white",
            "ticks": ""
           },
           "bgcolor": "#E5ECF6",
           "caxis": {
            "gridcolor": "white",
            "linecolor": "white",
            "ticks": ""
           }
          },
          "title": {
           "x": 0.05
          },
          "xaxis": {
           "automargin": true,
           "gridcolor": "white",
           "linecolor": "white",
           "ticks": "",
           "title": {
            "standoff": 15
           },
           "zerolinecolor": "white",
           "zerolinewidth": 2
          },
          "yaxis": {
           "automargin": true,
           "gridcolor": "white",
           "linecolor": "white",
           "ticks": "",
           "title": {
            "standoff": 15
           },
           "zerolinecolor": "white",
           "zerolinewidth": 2
          }
         }
        },
        "xaxis": {
         "anchor": "y",
         "domain": [
          0,
          1
         ],
         "title": {
          "text": "Name"
         }
        },
        "yaxis": {
         "anchor": "x",
         "domain": [
          0,
          1
         ],
         "title": {
          "text": "Tests"
         }
        }
       }
      },
      "text/html": [
       "<div>\n",
       "        \n",
       "        \n",
       "            <div id=\"d6ad8998-68b2-4c8a-8b54-a7057618677c\" class=\"plotly-graph-div\" style=\"height:525px; width:100%;\"></div>\n",
       "            <script type=\"text/javascript\">\n",
       "                require([\"plotly\"], function(Plotly) {\n",
       "                    window.PLOTLYENV=window.PLOTLYENV || {};\n",
       "                    \n",
       "                if (document.getElementById(\"d6ad8998-68b2-4c8a-8b54-a7057618677c\")) {\n",
       "                    Plotly.newPlot(\n",
       "                        'd6ad8998-68b2-4c8a-8b54-a7057618677c',\n",
       "                        [{\"alignmentgroup\": \"True\", \"hovertemplate\": \"Name=%{x}<br>Tests=%{y}<extra></extra>\", \"legendgroup\": \"\", \"marker\": {\"color\": \"#636efa\"}, \"name\": \"\", \"offsetgroup\": \"\", \"orientation\": \"v\", \"showlegend\": false, \"textposition\": \"auto\", \"type\": \"bar\", \"x\": [\"TOTAL\", \"\\u2605  China\", \"\\u2605  United States\", \"\\u2605  India\", \"\\u2605  Russia\", \"\\u2605  United Kingdom\", \"\\u2605  Brazil\", \"\\u2605  Germany\", \"\\u2605  Spain\", \"\\u2605  Italy\", \"\\u2605  United Arab Emirates\", \"\\u2605  Turkey\", \"\\u2605  France\", \"\\u2605  Australia\", \"\\u2605  Canada\", \"\\u2605  Saudi Arabia\", \"\\u2605  South Africa\", \"\\u2605  Iran\", \"\\u2605  Peru\", \"\\u2605  Poland\"], \"xaxis\": \"x\", \"y\": [408073508, 90410000, 74718580, 34491073, 33800000, 15177265, 14144344, 10197366, 7955615, 7862592, 6348109, 6154157, 6000000, 5646546, 5034059, 4501104, 3504507, 2987117, 2915372, 2493423], \"yaxis\": \"y\"}],\n",
       "                        {\"barmode\": \"relative\", \"legend\": {\"tracegroupgap\": 0}, \"margin\": {\"t\": 60}, \"template\": {\"data\": {\"bar\": [{\"error_x\": {\"color\": \"#2a3f5f\"}, \"error_y\": {\"color\": \"#2a3f5f\"}, \"marker\": {\"line\": {\"color\": \"#E5ECF6\", \"width\": 0.5}}, \"type\": \"bar\"}], \"barpolar\": [{\"marker\": {\"line\": {\"color\": \"#E5ECF6\", \"width\": 0.5}}, \"type\": \"barpolar\"}], \"carpet\": [{\"aaxis\": {\"endlinecolor\": \"#2a3f5f\", \"gridcolor\": \"white\", \"linecolor\": \"white\", \"minorgridcolor\": \"white\", \"startlinecolor\": \"#2a3f5f\"}, \"baxis\": {\"endlinecolor\": \"#2a3f5f\", \"gridcolor\": \"white\", \"linecolor\": \"white\", \"minorgridcolor\": \"white\", \"startlinecolor\": \"#2a3f5f\"}, \"type\": \"carpet\"}], \"choropleth\": [{\"colorbar\": {\"outlinewidth\": 0, \"ticks\": \"\"}, \"type\": \"choropleth\"}], \"contour\": [{\"colorbar\": {\"outlinewidth\": 0, \"ticks\": \"\"}, \"colorscale\": [[0.0, \"#0d0887\"], [0.1111111111111111, \"#46039f\"], [0.2222222222222222, \"#7201a8\"], [0.3333333333333333, \"#9c179e\"], [0.4444444444444444, \"#bd3786\"], [0.5555555555555556, \"#d8576b\"], [0.6666666666666666, \"#ed7953\"], [0.7777777777777778, \"#fb9f3a\"], [0.8888888888888888, \"#fdca26\"], [1.0, \"#f0f921\"]], \"type\": \"contour\"}], \"contourcarpet\": [{\"colorbar\": {\"outlinewidth\": 0, \"ticks\": \"\"}, \"type\": \"contourcarpet\"}], \"heatmap\": [{\"colorbar\": {\"outlinewidth\": 0, \"ticks\": \"\"}, \"colorscale\": [[0.0, \"#0d0887\"], [0.1111111111111111, \"#46039f\"], [0.2222222222222222, \"#7201a8\"], [0.3333333333333333, \"#9c179e\"], [0.4444444444444444, \"#bd3786\"], [0.5555555555555556, \"#d8576b\"], [0.6666666666666666, \"#ed7953\"], [0.7777777777777778, \"#fb9f3a\"], [0.8888888888888888, \"#fdca26\"], [1.0, \"#f0f921\"]], \"type\": \"heatmap\"}], \"heatmapgl\": [{\"colorbar\": {\"outlinewidth\": 0, \"ticks\": \"\"}, \"colorscale\": [[0.0, \"#0d0887\"], [0.1111111111111111, \"#46039f\"], [0.2222222222222222, \"#7201a8\"], [0.3333333333333333, \"#9c179e\"], [0.4444444444444444, \"#bd3786\"], [0.5555555555555556, \"#d8576b\"], [0.6666666666666666, \"#ed7953\"], [0.7777777777777778, \"#fb9f3a\"], [0.8888888888888888, \"#fdca26\"], [1.0, \"#f0f921\"]], \"type\": \"heatmapgl\"}], \"histogram\": [{\"marker\": {\"colorbar\": {\"outlinewidth\": 0, \"ticks\": \"\"}}, \"type\": \"histogram\"}], \"histogram2d\": [{\"colorbar\": {\"outlinewidth\": 0, \"ticks\": \"\"}, \"colorscale\": [[0.0, \"#0d0887\"], [0.1111111111111111, \"#46039f\"], [0.2222222222222222, \"#7201a8\"], [0.3333333333333333, \"#9c179e\"], [0.4444444444444444, \"#bd3786\"], [0.5555555555555556, \"#d8576b\"], [0.6666666666666666, \"#ed7953\"], [0.7777777777777778, \"#fb9f3a\"], [0.8888888888888888, \"#fdca26\"], [1.0, \"#f0f921\"]], \"type\": \"histogram2d\"}], \"histogram2dcontour\": [{\"colorbar\": {\"outlinewidth\": 0, \"ticks\": \"\"}, \"colorscale\": [[0.0, \"#0d0887\"], [0.1111111111111111, \"#46039f\"], [0.2222222222222222, \"#7201a8\"], [0.3333333333333333, \"#9c179e\"], [0.4444444444444444, \"#bd3786\"], [0.5555555555555556, \"#d8576b\"], [0.6666666666666666, \"#ed7953\"], [0.7777777777777778, \"#fb9f3a\"], [0.8888888888888888, \"#fdca26\"], [1.0, \"#f0f921\"]], \"type\": \"histogram2dcontour\"}], \"mesh3d\": [{\"colorbar\": {\"outlinewidth\": 0, \"ticks\": \"\"}, \"type\": \"mesh3d\"}], \"parcoords\": [{\"line\": {\"colorbar\": {\"outlinewidth\": 0, \"ticks\": \"\"}}, \"type\": \"parcoords\"}], \"pie\": [{\"automargin\": true, \"type\": \"pie\"}], \"scatter\": [{\"marker\": {\"colorbar\": {\"outlinewidth\": 0, \"ticks\": \"\"}}, \"type\": \"scatter\"}], \"scatter3d\": [{\"line\": {\"colorbar\": {\"outlinewidth\": 0, \"ticks\": \"\"}}, \"marker\": {\"colorbar\": {\"outlinewidth\": 0, \"ticks\": \"\"}}, \"type\": \"scatter3d\"}], \"scattercarpet\": [{\"marker\": {\"colorbar\": {\"outlinewidth\": 0, \"ticks\": \"\"}}, \"type\": \"scattercarpet\"}], \"scattergeo\": [{\"marker\": {\"colorbar\": {\"outlinewidth\": 0, \"ticks\": \"\"}}, \"type\": \"scattergeo\"}], \"scattergl\": [{\"marker\": {\"colorbar\": {\"outlinewidth\": 0, \"ticks\": \"\"}}, \"type\": \"scattergl\"}], \"scattermapbox\": [{\"marker\": {\"colorbar\": {\"outlinewidth\": 0, \"ticks\": \"\"}}, \"type\": \"scattermapbox\"}], \"scatterpolar\": [{\"marker\": {\"colorbar\": {\"outlinewidth\": 0, \"ticks\": \"\"}}, \"type\": \"scatterpolar\"}], \"scatterpolargl\": [{\"marker\": {\"colorbar\": {\"outlinewidth\": 0, \"ticks\": \"\"}}, \"type\": \"scatterpolargl\"}], \"scatterternary\": [{\"marker\": {\"colorbar\": {\"outlinewidth\": 0, \"ticks\": \"\"}}, \"type\": \"scatterternary\"}], \"surface\": [{\"colorbar\": {\"outlinewidth\": 0, \"ticks\": \"\"}, \"colorscale\": [[0.0, \"#0d0887\"], [0.1111111111111111, \"#46039f\"], [0.2222222222222222, \"#7201a8\"], [0.3333333333333333, \"#9c179e\"], [0.4444444444444444, \"#bd3786\"], [0.5555555555555556, \"#d8576b\"], [0.6666666666666666, \"#ed7953\"], [0.7777777777777778, \"#fb9f3a\"], [0.8888888888888888, \"#fdca26\"], [1.0, \"#f0f921\"]], \"type\": \"surface\"}], \"table\": [{\"cells\": {\"fill\": {\"color\": \"#EBF0F8\"}, \"line\": {\"color\": \"white\"}}, \"header\": {\"fill\": {\"color\": \"#C8D4E3\"}, \"line\": {\"color\": \"white\"}}, \"type\": \"table\"}]}, \"layout\": {\"annotationdefaults\": {\"arrowcolor\": \"#2a3f5f\", \"arrowhead\": 0, \"arrowwidth\": 1}, \"coloraxis\": {\"colorbar\": {\"outlinewidth\": 0, \"ticks\": \"\"}}, \"colorscale\": {\"diverging\": [[0, \"#8e0152\"], [0.1, \"#c51b7d\"], [0.2, \"#de77ae\"], [0.3, \"#f1b6da\"], [0.4, \"#fde0ef\"], [0.5, \"#f7f7f7\"], [0.6, \"#e6f5d0\"], [0.7, \"#b8e186\"], [0.8, \"#7fbc41\"], [0.9, \"#4d9221\"], [1, \"#276419\"]], \"sequential\": [[0.0, \"#0d0887\"], [0.1111111111111111, \"#46039f\"], [0.2222222222222222, \"#7201a8\"], [0.3333333333333333, \"#9c179e\"], [0.4444444444444444, \"#bd3786\"], [0.5555555555555556, \"#d8576b\"], [0.6666666666666666, \"#ed7953\"], [0.7777777777777778, \"#fb9f3a\"], [0.8888888888888888, \"#fdca26\"], [1.0, \"#f0f921\"]], \"sequentialminus\": [[0.0, \"#0d0887\"], [0.1111111111111111, \"#46039f\"], [0.2222222222222222, \"#7201a8\"], [0.3333333333333333, \"#9c179e\"], [0.4444444444444444, \"#bd3786\"], [0.5555555555555556, \"#d8576b\"], [0.6666666666666666, \"#ed7953\"], [0.7777777777777778, \"#fb9f3a\"], [0.8888888888888888, \"#fdca26\"], [1.0, \"#f0f921\"]]}, \"colorway\": [\"#636efa\", \"#EF553B\", \"#00cc96\", \"#ab63fa\", \"#FFA15A\", \"#19d3f3\", \"#FF6692\", \"#B6E880\", \"#FF97FF\", \"#FECB52\"], \"font\": {\"color\": \"#2a3f5f\"}, \"geo\": {\"bgcolor\": \"white\", \"lakecolor\": \"white\", \"landcolor\": \"#E5ECF6\", \"showlakes\": true, \"showland\": true, \"subunitcolor\": \"white\"}, \"hoverlabel\": {\"align\": \"left\"}, \"hovermode\": \"closest\", \"mapbox\": {\"style\": \"light\"}, \"paper_bgcolor\": \"white\", \"plot_bgcolor\": \"#E5ECF6\", \"polar\": {\"angularaxis\": {\"gridcolor\": \"white\", \"linecolor\": \"white\", \"ticks\": \"\"}, \"bgcolor\": \"#E5ECF6\", \"radialaxis\": {\"gridcolor\": \"white\", \"linecolor\": \"white\", \"ticks\": \"\"}}, \"scene\": {\"xaxis\": {\"backgroundcolor\": \"#E5ECF6\", \"gridcolor\": \"white\", \"gridwidth\": 2, \"linecolor\": \"white\", \"showbackground\": true, \"ticks\": \"\", \"zerolinecolor\": \"white\"}, \"yaxis\": {\"backgroundcolor\": \"#E5ECF6\", \"gridcolor\": \"white\", \"gridwidth\": 2, \"linecolor\": \"white\", \"showbackground\": true, \"ticks\": \"\", \"zerolinecolor\": \"white\"}, \"zaxis\": {\"backgroundcolor\": \"#E5ECF6\", \"gridcolor\": \"white\", \"gridwidth\": 2, \"linecolor\": \"white\", \"showbackground\": true, \"ticks\": \"\", \"zerolinecolor\": \"white\"}}, \"shapedefaults\": {\"line\": {\"color\": \"#2a3f5f\"}}, \"ternary\": {\"aaxis\": {\"gridcolor\": \"white\", \"linecolor\": \"white\", \"ticks\": \"\"}, \"baxis\": {\"gridcolor\": \"white\", \"linecolor\": \"white\", \"ticks\": \"\"}, \"bgcolor\": \"#E5ECF6\", \"caxis\": {\"gridcolor\": \"white\", \"linecolor\": \"white\", \"ticks\": \"\"}}, \"title\": {\"x\": 0.05}, \"xaxis\": {\"automargin\": true, \"gridcolor\": \"white\", \"linecolor\": \"white\", \"ticks\": \"\", \"title\": {\"standoff\": 15}, \"zerolinecolor\": \"white\", \"zerolinewidth\": 2}, \"yaxis\": {\"automargin\": true, \"gridcolor\": \"white\", \"linecolor\": \"white\", \"ticks\": \"\", \"title\": {\"standoff\": 15}, \"zerolinecolor\": \"white\", \"zerolinewidth\": 2}}}, \"xaxis\": {\"anchor\": \"y\", \"domain\": [0.0, 1.0], \"title\": {\"text\": \"Name\"}}, \"yaxis\": {\"anchor\": \"x\", \"domain\": [0.0, 1.0], \"title\": {\"text\": \"Tests\"}}},\n",
       "                        {\"responsive\": true}\n",
       "                    ).then(function(){\n",
       "                            \n",
       "var gd = document.getElementById('d6ad8998-68b2-4c8a-8b54-a7057618677c');\n",
       "var x = new MutationObserver(function (mutations, observer) {{\n",
       "        var display = window.getComputedStyle(gd).display;\n",
       "        if (!display || display === 'none') {{\n",
       "            console.log([gd, 'removed!']);\n",
       "            Plotly.purge(gd);\n",
       "            observer.disconnect();\n",
       "        }}\n",
       "}});\n",
       "\n",
       "// Listen for the removal of the full notebook cells\n",
       "var notebookContainer = gd.closest('#notebook-container');\n",
       "if (notebookContainer) {{\n",
       "    x.observe(notebookContainer, {childList: true});\n",
       "}}\n",
       "\n",
       "// Listen for the clearing of the current output cell\n",
       "var outputEl = gd.closest('.output');\n",
       "if (outputEl) {{\n",
       "    x.observe(outputEl, {childList: true});\n",
       "}}\n",
       "\n",
       "                        })\n",
       "                };\n",
       "                });\n",
       "            </script>\n",
       "        </div>"
      ]
     },
     "metadata": {},
     "output_type": "display_data"
    }
   ],
   "source": [
    "# replace unknown values from the column\n",
    "\n",
    "world_df['Tests'].replace(\"Unknown\", 0, inplace=True)\n",
    "world_df['Tests'] = pd.to_numeric(world_df['Tests'])          #convert column from type object to int64\n",
    "\n",
    "\n",
    "\n",
    "#Now lets plot the data\n",
    "\n",
    "world_fig = px.bar(world_df.sort_values('Tests', ascending=False).head(20), x = 'Name' , y = 'Tests')\n",
    "world_fig.show()"
   ]
  },
  {
   "cell_type": "markdown",
   "metadata": {},
   "source": [
    " - China on first position that was unexpected. I was expecting United States.\n",
    " - As you can see the countries who are vastly testing their people have a upper hand on curbing the spread of virus by implementing policies."
   ]
  },
  {
   "cell_type": "markdown",
   "metadata": {},
   "source": [
    "#### lets explore the Confirmed cases in relation to total population"
   ]
  },
  {
   "cell_type": "code",
   "execution_count": 119,
   "metadata": {},
   "outputs": [
    {
     "data": {
      "application/vnd.plotly.v1+json": {
       "config": {
        "plotlyServerURL": "https://plot.ly"
       },
       "data": [
        {
         "marker": {
          "color": "indianred"
         },
         "name": "Confirmed",
         "type": "bar",
         "x": [
          "TOTAL",
          "★  United States",
          "★  Brazil",
          "★  India",
          "★  Russia",
          "★  South Africa",
          "★  Peru",
          "★  Mexico",
          "★  Colombia",
          "★  Chile",
          "★  Spain",
          "★  Iran",
          "★  Argentina",
          "★  United Kingdom",
          "★  Saudi Arabia",
          "★  Pakistan",
          "★  Bangladesh",
          "★  Italy",
          "★  Turkey",
          "★  France",
          "★  Germany",
          "★  Iraq",
          "★  Philippines",
          "★  Indonesia",
          "★  Canada",
          "★  Qatar",
          "★  Ecuador",
          "★  Bolivia",
          "★  Kazakhstan",
          "★  Israel",
          "★  Ukraine",
          "★  Egypt",
          "★  Dominican Republic",
          "★  Sweden",
          "★  China",
          "★  Panama",
          "★  Oman",
          "★  Belgium",
          "★  Kuwait",
          "★  Romania",
          "★  Belarus",
          "★  Guatemala",
          "★  United Arab Emirates",
          "★  Netherlands",
          "★  Poland",
          "★  Japan",
          "★  Singapore",
          "★  Portugal",
          "★  Honduras",
          "★  Nigeria",
          "★  Morocco",
          "★  Bahrain",
          "★  Ghana",
          "★  Kyrgyzstan",
          "★  Armenia",
          "★  Algeria",
          "★  Switzerland",
          "★  Venezuela",
          "★  Uzbekistan",
          "★  Afghanistan",
          "★  Ethiopia",
          "★  Azerbaijan",
          "★  Moldova",
          "★  Costa Rica",
          "★  Kenya",
          "★  Nepal",
          "★  Serbia",
          "★  Ireland",
          "★  Austria",
          "★  Australia",
          "★  El Salvador",
          "★  Czechia",
          "★  Cameroon",
          "★  Palestine",
          "★  Bosnia and Herzegovina",
          "★  Ivory Coast",
          "★  South Korea",
          "★  Denmark",
          "★  Bulgaria",
          "★  Madagascar",
          "★  North Macedonia",
          "★  Senegal",
          "★  Sudan",
          "★  Paraguay",
          "★  Lebanon",
          "★  Kosovo",
          "★  Zambia",
          "★  Norway",
          "★  DR Congo",
          "★  Libya",
          "★  Malaysia",
          "★  Guinea",
          "★  French Guiana",
          "★  Gabon",
          "★  Tajikistan",
          "★  Greece",
          "★  Albania",
          "★  Haiti",
          "★  Finland",
          "★  Luxembourg",
          "★  Croatia",
          "★  Mauritania",
          "★  Maldives",
          "★  Zimbabwe",
          "★  Djibouti",
          "★  Malawi",
          "★  Namibia",
          "★  Hungary",
          "★  Equatorial Guinea",
          "★  Central African Republic",
          "★  Hong Kong",
          "★  Nicaragua",
          "★  Montenegro",
          "★  Eswatini",
          "★  Congo",
          "★  Cuba",
          "★  Suriname",
          "★  Cape Verde",
          "★  Thailand",
          "★  Somalia",
          "★  Mayotte",
          "★  Slovakia",
          "★  Mozambique",
          "★  Sri Lanka",
          "★  Rwanda",
          "★  Mali",
          "★  Tunisia",
          "★  Slovenia",
          "★  Lithuania",
          "★  South Sudan",
          "★  The Gambia",
          "★  Estonia",
          "★  Guinea-Bissau",
          "★  Benin",
          "★  Syria",
          "★  Angola",
          "★  Iceland",
          "★  Sierra Leone",
          "★  Yemen",
          "★  Uganda",
          "★  New Zealand",
          "★  The Bahamas",
          "★  Malta",
          "★  Jordan",
          "★  Uruguay",
          "★  Aruba",
          "★  Cyprus",
          "★  Georgia",
          "★  Latvia",
          "★  Botswana",
          "★  Burkina Faso",
          "★  Jamaica",
          "★  Liberia",
          "★  Togo",
          "★  Niger",
          "★  Reunion",
          "★  Andorra",
          "★  Lesotho",
          "★  Vietnam",
          "★  Chad",
          "★  SÃ£o TomÃ© and PrÃ­ncipe",
          "★  Guyana",
          "★  Trinidad and Tobago",
          "★  Guadeloupe",
          "★  San Marino",
          "★  Belize",
          "★  Channel Islands",
          "★  Tanzania",
          "★  Taiwan",
          "★  Burundi",
          "★  Myanmar",
          "★  Comoros",
          "★  Faroe Islands",
          "★  Papua New Guinea",
          "★  Sint Maarten",
          "★  Mauritius",
          "★  Martinique",
          "★  Isle of Man",
          "★  Turks and Caicos Islands",
          "★  Eritrea",
          "★  Mongolia",
          "★  Cambodia",
          "★  Gibraltar",
          "★  French Polynesia",
          "★  Cayman Islands",
          "★  Bermuda",
          "★  Barbados",
          "★  Monaco",
          "★  Bhutan",
          "★  Brunei",
          "★  Seychelles",
          "★  Saint Martin",
          "★  Liechtenstein",
          "★  Antigua and Barbuda",
          "★  Saint Vincent and the Grenadines",
          "★  Macao",
          "★  Curacao",
          "★  Fiji",
          "★  Saint Lucia",
          "★  Timor-Leste",
          "★  Grenada",
          "★  New Caledonia",
          "★  Laos",
          "★  Dominica",
          "★  Saint Kitts and Nevis",
          "★  Saint Barthelemy",
          "★  Greenland",
          "★  Caribbean Netherlands",
          "★  Montserrat",
          "★  Falkland Islands",
          "★  Vatican City",
          "★  British Virgin Islands",
          "★  Western Sahara",
          "★  Saint Pierre and Miquelon",
          "★  Anguilla"
         ],
         "y": [
          23096646,
          5795337,
          3536488,
          2973368,
          946976,
          603338,
          567059,
          543806,
          522138,
          393769,
          386054,
          354764,
          329043,
          323313,
          305186,
          291588,
          290360,
          257065,
          255723,
          242413
         ]
        },
        {
         "marker": {
          "color": "lightsalmon"
         },
         "name": "Population",
         "type": "bar",
         "x": [
          "TOTAL",
          "★  United States",
          "★  Brazil",
          "★  India",
          "★  Russia",
          "★  South Africa",
          "★  Peru",
          "★  Mexico",
          "★  Colombia",
          "★  Chile",
          "★  Spain",
          "★  Iran",
          "★  Argentina",
          "★  United Kingdom",
          "★  Saudi Arabia",
          "★  Pakistan",
          "★  Bangladesh",
          "★  Italy",
          "★  Turkey",
          "★  France",
          "★  Germany",
          "★  Iraq",
          "★  Philippines",
          "★  Indonesia",
          "★  Canada",
          "★  Qatar",
          "★  Ecuador",
          "★  Bolivia",
          "★  Kazakhstan",
          "★  Israel",
          "★  Ukraine",
          "★  Egypt",
          "★  Dominican Republic",
          "★  Sweden",
          "★  China",
          "★  Panama",
          "★  Oman",
          "★  Belgium",
          "★  Kuwait",
          "★  Romania",
          "★  Belarus",
          "★  Guatemala",
          "★  United Arab Emirates",
          "★  Netherlands",
          "★  Poland",
          "★  Japan",
          "★  Singapore",
          "★  Portugal",
          "★  Honduras",
          "★  Nigeria",
          "★  Morocco",
          "★  Bahrain",
          "★  Ghana",
          "★  Kyrgyzstan",
          "★  Armenia",
          "★  Algeria",
          "★  Switzerland",
          "★  Venezuela",
          "★  Uzbekistan",
          "★  Afghanistan",
          "★  Ethiopia",
          "★  Azerbaijan",
          "★  Moldova",
          "★  Costa Rica",
          "★  Kenya",
          "★  Nepal",
          "★  Serbia",
          "★  Ireland",
          "★  Austria",
          "★  Australia",
          "★  El Salvador",
          "★  Czechia",
          "★  Cameroon",
          "★  Palestine",
          "★  Bosnia and Herzegovina",
          "★  Ivory Coast",
          "★  South Korea",
          "★  Denmark",
          "★  Bulgaria",
          "★  Madagascar",
          "★  North Macedonia",
          "★  Senegal",
          "★  Sudan",
          "★  Paraguay",
          "★  Lebanon",
          "★  Kosovo",
          "★  Zambia",
          "★  Norway",
          "★  DR Congo",
          "★  Libya",
          "★  Malaysia",
          "★  Guinea",
          "★  French Guiana",
          "★  Gabon",
          "★  Tajikistan",
          "★  Greece",
          "★  Albania",
          "★  Haiti",
          "★  Finland",
          "★  Luxembourg",
          "★  Croatia",
          "★  Mauritania",
          "★  Maldives",
          "★  Zimbabwe",
          "★  Djibouti",
          "★  Malawi",
          "★  Namibia",
          "★  Hungary",
          "★  Equatorial Guinea",
          "★  Central African Republic",
          "★  Hong Kong",
          "★  Nicaragua",
          "★  Montenegro",
          "★  Eswatini",
          "★  Congo",
          "★  Cuba",
          "★  Suriname",
          "★  Cape Verde",
          "★  Thailand",
          "★  Somalia",
          "★  Mayotte",
          "★  Slovakia",
          "★  Mozambique",
          "★  Sri Lanka",
          "★  Rwanda",
          "★  Mali",
          "★  Tunisia",
          "★  Slovenia",
          "★  Lithuania",
          "★  South Sudan",
          "★  The Gambia",
          "★  Estonia",
          "★  Guinea-Bissau",
          "★  Benin",
          "★  Syria",
          "★  Angola",
          "★  Iceland",
          "★  Sierra Leone",
          "★  Yemen",
          "★  Uganda",
          "★  New Zealand",
          "★  The Bahamas",
          "★  Malta",
          "★  Jordan",
          "★  Uruguay",
          "★  Aruba",
          "★  Cyprus",
          "★  Georgia",
          "★  Latvia",
          "★  Botswana",
          "★  Burkina Faso",
          "★  Jamaica",
          "★  Liberia",
          "★  Togo",
          "★  Niger",
          "★  Reunion",
          "★  Andorra",
          "★  Lesotho",
          "★  Vietnam",
          "★  Chad",
          "★  SÃ£o TomÃ© and PrÃ­ncipe",
          "★  Guyana",
          "★  Trinidad and Tobago",
          "★  Guadeloupe",
          "★  San Marino",
          "★  Belize",
          "★  Channel Islands",
          "★  Tanzania",
          "★  Taiwan",
          "★  Burundi",
          "★  Myanmar",
          "★  Comoros",
          "★  Faroe Islands",
          "★  Papua New Guinea",
          "★  Sint Maarten",
          "★  Mauritius",
          "★  Martinique",
          "★  Isle of Man",
          "★  Turks and Caicos Islands",
          "★  Eritrea",
          "★  Mongolia",
          "★  Cambodia",
          "★  Gibraltar",
          "★  French Polynesia",
          "★  Cayman Islands",
          "★  Bermuda",
          "★  Barbados",
          "★  Monaco",
          "★  Bhutan",
          "★  Brunei",
          "★  Seychelles",
          "★  Saint Martin",
          "★  Liechtenstein",
          "★  Antigua and Barbuda",
          "★  Saint Vincent and the Grenadines",
          "★  Macao",
          "★  Curacao",
          "★  Fiji",
          "★  Saint Lucia",
          "★  Timor-Leste",
          "★  Grenada",
          "★  New Caledonia",
          "★  Laos",
          "★  Dominica",
          "★  Saint Kitts and Nevis",
          "★  Saint Barthelemy",
          "★  Greenland",
          "★  Caribbean Netherlands",
          "★  Montserrat",
          "★  Falkland Islands",
          "★  Vatican City",
          "★  British Virgin Islands",
          "★  Western Sahara",
          "★  Saint Pierre and Miquelon",
          "★  Anguilla"
         ],
         "y": [
          "7768671683",
          "331272237",
          "212768400",
          "1381863561",
          "145943309",
          "59410167",
          "33033892",
          "129117943",
          "50956995",
          "19138783",
          "46757339",
          "84138745",
          "45252733",
          "67935641",
          "34886672",
          "221460187",
          "164914115",
          "60449180",
          "84463026",
          "65293815"
         ]
        }
       ],
       "layout": {
        "barmode": "group",
        "template": {
         "data": {
          "bar": [
           {
            "error_x": {
             "color": "#2a3f5f"
            },
            "error_y": {
             "color": "#2a3f5f"
            },
            "marker": {
             "line": {
              "color": "#E5ECF6",
              "width": 0.5
             }
            },
            "type": "bar"
           }
          ],
          "barpolar": [
           {
            "marker": {
             "line": {
              "color": "#E5ECF6",
              "width": 0.5
             }
            },
            "type": "barpolar"
           }
          ],
          "carpet": [
           {
            "aaxis": {
             "endlinecolor": "#2a3f5f",
             "gridcolor": "white",
             "linecolor": "white",
             "minorgridcolor": "white",
             "startlinecolor": "#2a3f5f"
            },
            "baxis": {
             "endlinecolor": "#2a3f5f",
             "gridcolor": "white",
             "linecolor": "white",
             "minorgridcolor": "white",
             "startlinecolor": "#2a3f5f"
            },
            "type": "carpet"
           }
          ],
          "choropleth": [
           {
            "colorbar": {
             "outlinewidth": 0,
             "ticks": ""
            },
            "type": "choropleth"
           }
          ],
          "contour": [
           {
            "colorbar": {
             "outlinewidth": 0,
             "ticks": ""
            },
            "colorscale": [
             [
              0,
              "#0d0887"
             ],
             [
              0.1111111111111111,
              "#46039f"
             ],
             [
              0.2222222222222222,
              "#7201a8"
             ],
             [
              0.3333333333333333,
              "#9c179e"
             ],
             [
              0.4444444444444444,
              "#bd3786"
             ],
             [
              0.5555555555555556,
              "#d8576b"
             ],
             [
              0.6666666666666666,
              "#ed7953"
             ],
             [
              0.7777777777777778,
              "#fb9f3a"
             ],
             [
              0.8888888888888888,
              "#fdca26"
             ],
             [
              1,
              "#f0f921"
             ]
            ],
            "type": "contour"
           }
          ],
          "contourcarpet": [
           {
            "colorbar": {
             "outlinewidth": 0,
             "ticks": ""
            },
            "type": "contourcarpet"
           }
          ],
          "heatmap": [
           {
            "colorbar": {
             "outlinewidth": 0,
             "ticks": ""
            },
            "colorscale": [
             [
              0,
              "#0d0887"
             ],
             [
              0.1111111111111111,
              "#46039f"
             ],
             [
              0.2222222222222222,
              "#7201a8"
             ],
             [
              0.3333333333333333,
              "#9c179e"
             ],
             [
              0.4444444444444444,
              "#bd3786"
             ],
             [
              0.5555555555555556,
              "#d8576b"
             ],
             [
              0.6666666666666666,
              "#ed7953"
             ],
             [
              0.7777777777777778,
              "#fb9f3a"
             ],
             [
              0.8888888888888888,
              "#fdca26"
             ],
             [
              1,
              "#f0f921"
             ]
            ],
            "type": "heatmap"
           }
          ],
          "heatmapgl": [
           {
            "colorbar": {
             "outlinewidth": 0,
             "ticks": ""
            },
            "colorscale": [
             [
              0,
              "#0d0887"
             ],
             [
              0.1111111111111111,
              "#46039f"
             ],
             [
              0.2222222222222222,
              "#7201a8"
             ],
             [
              0.3333333333333333,
              "#9c179e"
             ],
             [
              0.4444444444444444,
              "#bd3786"
             ],
             [
              0.5555555555555556,
              "#d8576b"
             ],
             [
              0.6666666666666666,
              "#ed7953"
             ],
             [
              0.7777777777777778,
              "#fb9f3a"
             ],
             [
              0.8888888888888888,
              "#fdca26"
             ],
             [
              1,
              "#f0f921"
             ]
            ],
            "type": "heatmapgl"
           }
          ],
          "histogram": [
           {
            "marker": {
             "colorbar": {
              "outlinewidth": 0,
              "ticks": ""
             }
            },
            "type": "histogram"
           }
          ],
          "histogram2d": [
           {
            "colorbar": {
             "outlinewidth": 0,
             "ticks": ""
            },
            "colorscale": [
             [
              0,
              "#0d0887"
             ],
             [
              0.1111111111111111,
              "#46039f"
             ],
             [
              0.2222222222222222,
              "#7201a8"
             ],
             [
              0.3333333333333333,
              "#9c179e"
             ],
             [
              0.4444444444444444,
              "#bd3786"
             ],
             [
              0.5555555555555556,
              "#d8576b"
             ],
             [
              0.6666666666666666,
              "#ed7953"
             ],
             [
              0.7777777777777778,
              "#fb9f3a"
             ],
             [
              0.8888888888888888,
              "#fdca26"
             ],
             [
              1,
              "#f0f921"
             ]
            ],
            "type": "histogram2d"
           }
          ],
          "histogram2dcontour": [
           {
            "colorbar": {
             "outlinewidth": 0,
             "ticks": ""
            },
            "colorscale": [
             [
              0,
              "#0d0887"
             ],
             [
              0.1111111111111111,
              "#46039f"
             ],
             [
              0.2222222222222222,
              "#7201a8"
             ],
             [
              0.3333333333333333,
              "#9c179e"
             ],
             [
              0.4444444444444444,
              "#bd3786"
             ],
             [
              0.5555555555555556,
              "#d8576b"
             ],
             [
              0.6666666666666666,
              "#ed7953"
             ],
             [
              0.7777777777777778,
              "#fb9f3a"
             ],
             [
              0.8888888888888888,
              "#fdca26"
             ],
             [
              1,
              "#f0f921"
             ]
            ],
            "type": "histogram2dcontour"
           }
          ],
          "mesh3d": [
           {
            "colorbar": {
             "outlinewidth": 0,
             "ticks": ""
            },
            "type": "mesh3d"
           }
          ],
          "parcoords": [
           {
            "line": {
             "colorbar": {
              "outlinewidth": 0,
              "ticks": ""
             }
            },
            "type": "parcoords"
           }
          ],
          "pie": [
           {
            "automargin": true,
            "type": "pie"
           }
          ],
          "scatter": [
           {
            "marker": {
             "colorbar": {
              "outlinewidth": 0,
              "ticks": ""
             }
            },
            "type": "scatter"
           }
          ],
          "scatter3d": [
           {
            "line": {
             "colorbar": {
              "outlinewidth": 0,
              "ticks": ""
             }
            },
            "marker": {
             "colorbar": {
              "outlinewidth": 0,
              "ticks": ""
             }
            },
            "type": "scatter3d"
           }
          ],
          "scattercarpet": [
           {
            "marker": {
             "colorbar": {
              "outlinewidth": 0,
              "ticks": ""
             }
            },
            "type": "scattercarpet"
           }
          ],
          "scattergeo": [
           {
            "marker": {
             "colorbar": {
              "outlinewidth": 0,
              "ticks": ""
             }
            },
            "type": "scattergeo"
           }
          ],
          "scattergl": [
           {
            "marker": {
             "colorbar": {
              "outlinewidth": 0,
              "ticks": ""
             }
            },
            "type": "scattergl"
           }
          ],
          "scattermapbox": [
           {
            "marker": {
             "colorbar": {
              "outlinewidth": 0,
              "ticks": ""
             }
            },
            "type": "scattermapbox"
           }
          ],
          "scatterpolar": [
           {
            "marker": {
             "colorbar": {
              "outlinewidth": 0,
              "ticks": ""
             }
            },
            "type": "scatterpolar"
           }
          ],
          "scatterpolargl": [
           {
            "marker": {
             "colorbar": {
              "outlinewidth": 0,
              "ticks": ""
             }
            },
            "type": "scatterpolargl"
           }
          ],
          "scatterternary": [
           {
            "marker": {
             "colorbar": {
              "outlinewidth": 0,
              "ticks": ""
             }
            },
            "type": "scatterternary"
           }
          ],
          "surface": [
           {
            "colorbar": {
             "outlinewidth": 0,
             "ticks": ""
            },
            "colorscale": [
             [
              0,
              "#0d0887"
             ],
             [
              0.1111111111111111,
              "#46039f"
             ],
             [
              0.2222222222222222,
              "#7201a8"
             ],
             [
              0.3333333333333333,
              "#9c179e"
             ],
             [
              0.4444444444444444,
              "#bd3786"
             ],
             [
              0.5555555555555556,
              "#d8576b"
             ],
             [
              0.6666666666666666,
              "#ed7953"
             ],
             [
              0.7777777777777778,
              "#fb9f3a"
             ],
             [
              0.8888888888888888,
              "#fdca26"
             ],
             [
              1,
              "#f0f921"
             ]
            ],
            "type": "surface"
           }
          ],
          "table": [
           {
            "cells": {
             "fill": {
              "color": "#EBF0F8"
             },
             "line": {
              "color": "white"
             }
            },
            "header": {
             "fill": {
              "color": "#C8D4E3"
             },
             "line": {
              "color": "white"
             }
            },
            "type": "table"
           }
          ]
         },
         "layout": {
          "annotationdefaults": {
           "arrowcolor": "#2a3f5f",
           "arrowhead": 0,
           "arrowwidth": 1
          },
          "coloraxis": {
           "colorbar": {
            "outlinewidth": 0,
            "ticks": ""
           }
          },
          "colorscale": {
           "diverging": [
            [
             0,
             "#8e0152"
            ],
            [
             0.1,
             "#c51b7d"
            ],
            [
             0.2,
             "#de77ae"
            ],
            [
             0.3,
             "#f1b6da"
            ],
            [
             0.4,
             "#fde0ef"
            ],
            [
             0.5,
             "#f7f7f7"
            ],
            [
             0.6,
             "#e6f5d0"
            ],
            [
             0.7,
             "#b8e186"
            ],
            [
             0.8,
             "#7fbc41"
            ],
            [
             0.9,
             "#4d9221"
            ],
            [
             1,
             "#276419"
            ]
           ],
           "sequential": [
            [
             0,
             "#0d0887"
            ],
            [
             0.1111111111111111,
             "#46039f"
            ],
            [
             0.2222222222222222,
             "#7201a8"
            ],
            [
             0.3333333333333333,
             "#9c179e"
            ],
            [
             0.4444444444444444,
             "#bd3786"
            ],
            [
             0.5555555555555556,
             "#d8576b"
            ],
            [
             0.6666666666666666,
             "#ed7953"
            ],
            [
             0.7777777777777778,
             "#fb9f3a"
            ],
            [
             0.8888888888888888,
             "#fdca26"
            ],
            [
             1,
             "#f0f921"
            ]
           ],
           "sequentialminus": [
            [
             0,
             "#0d0887"
            ],
            [
             0.1111111111111111,
             "#46039f"
            ],
            [
             0.2222222222222222,
             "#7201a8"
            ],
            [
             0.3333333333333333,
             "#9c179e"
            ],
            [
             0.4444444444444444,
             "#bd3786"
            ],
            [
             0.5555555555555556,
             "#d8576b"
            ],
            [
             0.6666666666666666,
             "#ed7953"
            ],
            [
             0.7777777777777778,
             "#fb9f3a"
            ],
            [
             0.8888888888888888,
             "#fdca26"
            ],
            [
             1,
             "#f0f921"
            ]
           ]
          },
          "colorway": [
           "#636efa",
           "#EF553B",
           "#00cc96",
           "#ab63fa",
           "#FFA15A",
           "#19d3f3",
           "#FF6692",
           "#B6E880",
           "#FF97FF",
           "#FECB52"
          ],
          "font": {
           "color": "#2a3f5f"
          },
          "geo": {
           "bgcolor": "white",
           "lakecolor": "white",
           "landcolor": "#E5ECF6",
           "showlakes": true,
           "showland": true,
           "subunitcolor": "white"
          },
          "hoverlabel": {
           "align": "left"
          },
          "hovermode": "closest",
          "mapbox": {
           "style": "light"
          },
          "paper_bgcolor": "white",
          "plot_bgcolor": "#E5ECF6",
          "polar": {
           "angularaxis": {
            "gridcolor": "white",
            "linecolor": "white",
            "ticks": ""
           },
           "bgcolor": "#E5ECF6",
           "radialaxis": {
            "gridcolor": "white",
            "linecolor": "white",
            "ticks": ""
           }
          },
          "scene": {
           "xaxis": {
            "backgroundcolor": "#E5ECF6",
            "gridcolor": "white",
            "gridwidth": 2,
            "linecolor": "white",
            "showbackground": true,
            "ticks": "",
            "zerolinecolor": "white"
           },
           "yaxis": {
            "backgroundcolor": "#E5ECF6",
            "gridcolor": "white",
            "gridwidth": 2,
            "linecolor": "white",
            "showbackground": true,
            "ticks": "",
            "zerolinecolor": "white"
           },
           "zaxis": {
            "backgroundcolor": "#E5ECF6",
            "gridcolor": "white",
            "gridwidth": 2,
            "linecolor": "white",
            "showbackground": true,
            "ticks": "",
            "zerolinecolor": "white"
           }
          },
          "shapedefaults": {
           "line": {
            "color": "#2a3f5f"
           }
          },
          "ternary": {
           "aaxis": {
            "gridcolor": "white",
            "linecolor": "white",
            "ticks": ""
           },
           "baxis": {
            "gridcolor": "white",
            "linecolor": "white",
            "ticks": ""
           },
           "bgcolor": "#E5ECF6",
           "caxis": {
            "gridcolor": "white",
            "linecolor": "white",
            "ticks": ""
           }
          },
          "title": {
           "x": 0.05
          },
          "xaxis": {
           "automargin": true,
           "gridcolor": "white",
           "linecolor": "white",
           "ticks": "",
           "title": {
            "standoff": 15
           },
           "zerolinecolor": "white",
           "zerolinewidth": 2
          },
          "yaxis": {
           "automargin": true,
           "gridcolor": "white",
           "linecolor": "white",
           "ticks": "",
           "title": {
            "standoff": 15
           },
           "zerolinecolor": "white",
           "zerolinewidth": 2
          }
         }
        }
       }
      },
      "text/html": [
       "<div>\n",
       "        \n",
       "        \n",
       "            <div id=\"dea982ad-d4be-4258-98b1-7ed9e4d58672\" class=\"plotly-graph-div\" style=\"height:525px; width:100%;\"></div>\n",
       "            <script type=\"text/javascript\">\n",
       "                require([\"plotly\"], function(Plotly) {\n",
       "                    window.PLOTLYENV=window.PLOTLYENV || {};\n",
       "                    \n",
       "                if (document.getElementById(\"dea982ad-d4be-4258-98b1-7ed9e4d58672\")) {\n",
       "                    Plotly.newPlot(\n",
       "                        'dea982ad-d4be-4258-98b1-7ed9e4d58672',\n",
       "                        [{\"marker\": {\"color\": \"indianred\"}, \"name\": \"Confirmed\", \"type\": \"bar\", \"x\": [\"TOTAL\", \"\\u2605  United States\", \"\\u2605  Brazil\", \"\\u2605  India\", \"\\u2605  Russia\", \"\\u2605  South Africa\", \"\\u2605  Peru\", \"\\u2605  Mexico\", \"\\u2605  Colombia\", \"\\u2605  Chile\", \"\\u2605  Spain\", \"\\u2605  Iran\", \"\\u2605  Argentina\", \"\\u2605  United Kingdom\", \"\\u2605  Saudi Arabia\", \"\\u2605  Pakistan\", \"\\u2605  Bangladesh\", \"\\u2605  Italy\", \"\\u2605  Turkey\", \"\\u2605  France\", \"\\u2605  Germany\", \"\\u2605  Iraq\", \"\\u2605  Philippines\", \"\\u2605  Indonesia\", \"\\u2605  Canada\", \"\\u2605  Qatar\", \"\\u2605  Ecuador\", \"\\u2605  Bolivia\", \"\\u2605  Kazakhstan\", \"\\u2605  Israel\", \"\\u2605  Ukraine\", \"\\u2605  Egypt\", \"\\u2605  Dominican Republic\", \"\\u2605  Sweden\", \"\\u2605  China\", \"\\u2605  Panama\", \"\\u2605  Oman\", \"\\u2605  Belgium\", \"\\u2605  Kuwait\", \"\\u2605  Romania\", \"\\u2605  Belarus\", \"\\u2605  Guatemala\", \"\\u2605  United Arab Emirates\", \"\\u2605  Netherlands\", \"\\u2605  Poland\", \"\\u2605  Japan\", \"\\u2605  Singapore\", \"\\u2605  Portugal\", \"\\u2605  Honduras\", \"\\u2605  Nigeria\", \"\\u2605  Morocco\", \"\\u2605  Bahrain\", \"\\u2605  Ghana\", \"\\u2605  Kyrgyzstan\", \"\\u2605  Armenia\", \"\\u2605  Algeria\", \"\\u2605  Switzerland\", \"\\u2605  Venezuela\", \"\\u2605  Uzbekistan\", \"\\u2605  Afghanistan\", \"\\u2605  Ethiopia\", \"\\u2605  Azerbaijan\", \"\\u2605  Moldova\", \"\\u2605  Costa Rica\", \"\\u2605  Kenya\", \"\\u2605  Nepal\", \"\\u2605  Serbia\", \"\\u2605  Ireland\", \"\\u2605  Austria\", \"\\u2605  Australia\", \"\\u2605  El Salvador\", \"\\u2605  Czechia\", \"\\u2605  Cameroon\", \"\\u2605  Palestine\", \"\\u2605  Bosnia and Herzegovina\", \"\\u2605  Ivory Coast\", \"\\u2605  South Korea\", \"\\u2605  Denmark\", \"\\u2605  Bulgaria\", \"\\u2605  Madagascar\", \"\\u2605  North Macedonia\", \"\\u2605  Senegal\", \"\\u2605  Sudan\", \"\\u2605  Paraguay\", \"\\u2605  Lebanon\", \"\\u2605  Kosovo\", \"\\u2605  Zambia\", \"\\u2605  Norway\", \"\\u2605  DR Congo\", \"\\u2605  Libya\", \"\\u2605  Malaysia\", \"\\u2605  Guinea\", \"\\u2605  French Guiana\", \"\\u2605  Gabon\", \"\\u2605  Tajikistan\", \"\\u2605  Greece\", \"\\u2605  Albania\", \"\\u2605  Haiti\", \"\\u2605  Finland\", \"\\u2605  Luxembourg\", \"\\u2605  Croatia\", \"\\u2605  Mauritania\", \"\\u2605  Maldives\", \"\\u2605  Zimbabwe\", \"\\u2605  Djibouti\", \"\\u2605  Malawi\", \"\\u2605  Namibia\", \"\\u2605  Hungary\", \"\\u2605  Equatorial Guinea\", \"\\u2605  Central African Republic\", \"\\u2605  Hong Kong\", \"\\u2605  Nicaragua\", \"\\u2605  Montenegro\", \"\\u2605  Eswatini\", \"\\u2605  Congo\", \"\\u2605  Cuba\", \"\\u2605  Suriname\", \"\\u2605  Cape Verde\", \"\\u2605  Thailand\", \"\\u2605  Somalia\", \"\\u2605  Mayotte\", \"\\u2605  Slovakia\", \"\\u2605  Mozambique\", \"\\u2605  Sri Lanka\", \"\\u2605  Rwanda\", \"\\u2605  Mali\", \"\\u2605  Tunisia\", \"\\u2605  Slovenia\", \"\\u2605  Lithuania\", \"\\u2605  South Sudan\", \"\\u2605  The Gambia\", \"\\u2605  Estonia\", \"\\u2605  Guinea-Bissau\", \"\\u2605  Benin\", \"\\u2605  Syria\", \"\\u2605  Angola\", \"\\u2605  Iceland\", \"\\u2605  Sierra Leone\", \"\\u2605  Yemen\", \"\\u2605  Uganda\", \"\\u2605  New Zealand\", \"\\u2605  The Bahamas\", \"\\u2605  Malta\", \"\\u2605  Jordan\", \"\\u2605  Uruguay\", \"\\u2605  Aruba\", \"\\u2605  Cyprus\", \"\\u2605  Georgia\", \"\\u2605  Latvia\", \"\\u2605  Botswana\", \"\\u2605  Burkina Faso\", \"\\u2605  Jamaica\", \"\\u2605  Liberia\", \"\\u2605  Togo\", \"\\u2605  Niger\", \"\\u2605  Reunion\", \"\\u2605  Andorra\", \"\\u2605  Lesotho\", \"\\u2605  Vietnam\", \"\\u2605  Chad\", \"\\u2605  S\\u00c3\\u00a3o Tom\\u00c3\\u00a9 and Pr\\u00c3\\u00adncipe\", \"\\u2605  Guyana\", \"\\u2605  Trinidad and Tobago\", \"\\u2605  Guadeloupe\", \"\\u2605  San Marino\", \"\\u2605  Belize\", \"\\u2605  Channel Islands\", \"\\u2605  Tanzania\", \"\\u2605  Taiwan\", \"\\u2605  Burundi\", \"\\u2605  Myanmar\", \"\\u2605  Comoros\", \"\\u2605  Faroe Islands\", \"\\u2605  Papua New Guinea\", \"\\u2605  Sint Maarten\", \"\\u2605  Mauritius\", \"\\u2605  Martinique\", \"\\u2605  Isle of Man\", \"\\u2605  Turks and Caicos Islands\", \"\\u2605  Eritrea\", \"\\u2605  Mongolia\", \"\\u2605  Cambodia\", \"\\u2605  Gibraltar\", \"\\u2605  French Polynesia\", \"\\u2605  Cayman Islands\", \"\\u2605  Bermuda\", \"\\u2605  Barbados\", \"\\u2605  Monaco\", \"\\u2605  Bhutan\", \"\\u2605  Brunei\", \"\\u2605  Seychelles\", \"\\u2605  Saint Martin\", \"\\u2605  Liechtenstein\", \"\\u2605  Antigua and Barbuda\", \"\\u2605  Saint Vincent and the Grenadines\", \"\\u2605  Macao\", \"\\u2605  Curacao\", \"\\u2605  Fiji\", \"\\u2605  Saint Lucia\", \"\\u2605  Timor-Leste\", \"\\u2605  Grenada\", \"\\u2605  New Caledonia\", \"\\u2605  Laos\", \"\\u2605  Dominica\", \"\\u2605  Saint Kitts and Nevis\", \"\\u2605  Saint Barthelemy\", \"\\u2605  Greenland\", \"\\u2605  Caribbean Netherlands\", \"\\u2605  Montserrat\", \"\\u2605  Falkland Islands\", \"\\u2605  Vatican City\", \"\\u2605  British Virgin Islands\", \"\\u2605  Western Sahara\", \"\\u2605  Saint Pierre and Miquelon\", \"\\u2605  Anguilla\"], \"y\": [23096646, 5795337, 3536488, 2973368, 946976, 603338, 567059, 543806, 522138, 393769, 386054, 354764, 329043, 323313, 305186, 291588, 290360, 257065, 255723, 242413]}, {\"marker\": {\"color\": \"lightsalmon\"}, \"name\": \"Population\", \"type\": \"bar\", \"x\": [\"TOTAL\", \"\\u2605  United States\", \"\\u2605  Brazil\", \"\\u2605  India\", \"\\u2605  Russia\", \"\\u2605  South Africa\", \"\\u2605  Peru\", \"\\u2605  Mexico\", \"\\u2605  Colombia\", \"\\u2605  Chile\", \"\\u2605  Spain\", \"\\u2605  Iran\", \"\\u2605  Argentina\", \"\\u2605  United Kingdom\", \"\\u2605  Saudi Arabia\", \"\\u2605  Pakistan\", \"\\u2605  Bangladesh\", \"\\u2605  Italy\", \"\\u2605  Turkey\", \"\\u2605  France\", \"\\u2605  Germany\", \"\\u2605  Iraq\", \"\\u2605  Philippines\", \"\\u2605  Indonesia\", \"\\u2605  Canada\", \"\\u2605  Qatar\", \"\\u2605  Ecuador\", \"\\u2605  Bolivia\", \"\\u2605  Kazakhstan\", \"\\u2605  Israel\", \"\\u2605  Ukraine\", \"\\u2605  Egypt\", \"\\u2605  Dominican Republic\", \"\\u2605  Sweden\", \"\\u2605  China\", \"\\u2605  Panama\", \"\\u2605  Oman\", \"\\u2605  Belgium\", \"\\u2605  Kuwait\", \"\\u2605  Romania\", \"\\u2605  Belarus\", \"\\u2605  Guatemala\", \"\\u2605  United Arab Emirates\", \"\\u2605  Netherlands\", \"\\u2605  Poland\", \"\\u2605  Japan\", \"\\u2605  Singapore\", \"\\u2605  Portugal\", \"\\u2605  Honduras\", \"\\u2605  Nigeria\", \"\\u2605  Morocco\", \"\\u2605  Bahrain\", \"\\u2605  Ghana\", \"\\u2605  Kyrgyzstan\", \"\\u2605  Armenia\", \"\\u2605  Algeria\", \"\\u2605  Switzerland\", \"\\u2605  Venezuela\", \"\\u2605  Uzbekistan\", \"\\u2605  Afghanistan\", \"\\u2605  Ethiopia\", \"\\u2605  Azerbaijan\", \"\\u2605  Moldova\", \"\\u2605  Costa Rica\", \"\\u2605  Kenya\", \"\\u2605  Nepal\", \"\\u2605  Serbia\", \"\\u2605  Ireland\", \"\\u2605  Austria\", \"\\u2605  Australia\", \"\\u2605  El Salvador\", \"\\u2605  Czechia\", \"\\u2605  Cameroon\", \"\\u2605  Palestine\", \"\\u2605  Bosnia and Herzegovina\", \"\\u2605  Ivory Coast\", \"\\u2605  South Korea\", \"\\u2605  Denmark\", \"\\u2605  Bulgaria\", \"\\u2605  Madagascar\", \"\\u2605  North Macedonia\", \"\\u2605  Senegal\", \"\\u2605  Sudan\", \"\\u2605  Paraguay\", \"\\u2605  Lebanon\", \"\\u2605  Kosovo\", \"\\u2605  Zambia\", \"\\u2605  Norway\", \"\\u2605  DR Congo\", \"\\u2605  Libya\", \"\\u2605  Malaysia\", \"\\u2605  Guinea\", \"\\u2605  French Guiana\", \"\\u2605  Gabon\", \"\\u2605  Tajikistan\", \"\\u2605  Greece\", \"\\u2605  Albania\", \"\\u2605  Haiti\", \"\\u2605  Finland\", \"\\u2605  Luxembourg\", \"\\u2605  Croatia\", \"\\u2605  Mauritania\", \"\\u2605  Maldives\", \"\\u2605  Zimbabwe\", \"\\u2605  Djibouti\", \"\\u2605  Malawi\", \"\\u2605  Namibia\", \"\\u2605  Hungary\", \"\\u2605  Equatorial Guinea\", \"\\u2605  Central African Republic\", \"\\u2605  Hong Kong\", \"\\u2605  Nicaragua\", \"\\u2605  Montenegro\", \"\\u2605  Eswatini\", \"\\u2605  Congo\", \"\\u2605  Cuba\", \"\\u2605  Suriname\", \"\\u2605  Cape Verde\", \"\\u2605  Thailand\", \"\\u2605  Somalia\", \"\\u2605  Mayotte\", \"\\u2605  Slovakia\", \"\\u2605  Mozambique\", \"\\u2605  Sri Lanka\", \"\\u2605  Rwanda\", \"\\u2605  Mali\", \"\\u2605  Tunisia\", \"\\u2605  Slovenia\", \"\\u2605  Lithuania\", \"\\u2605  South Sudan\", \"\\u2605  The Gambia\", \"\\u2605  Estonia\", \"\\u2605  Guinea-Bissau\", \"\\u2605  Benin\", \"\\u2605  Syria\", \"\\u2605  Angola\", \"\\u2605  Iceland\", \"\\u2605  Sierra Leone\", \"\\u2605  Yemen\", \"\\u2605  Uganda\", \"\\u2605  New Zealand\", \"\\u2605  The Bahamas\", \"\\u2605  Malta\", \"\\u2605  Jordan\", \"\\u2605  Uruguay\", \"\\u2605  Aruba\", \"\\u2605  Cyprus\", \"\\u2605  Georgia\", \"\\u2605  Latvia\", \"\\u2605  Botswana\", \"\\u2605  Burkina Faso\", \"\\u2605  Jamaica\", \"\\u2605  Liberia\", \"\\u2605  Togo\", \"\\u2605  Niger\", \"\\u2605  Reunion\", \"\\u2605  Andorra\", \"\\u2605  Lesotho\", \"\\u2605  Vietnam\", \"\\u2605  Chad\", \"\\u2605  S\\u00c3\\u00a3o Tom\\u00c3\\u00a9 and Pr\\u00c3\\u00adncipe\", \"\\u2605  Guyana\", \"\\u2605  Trinidad and Tobago\", \"\\u2605  Guadeloupe\", \"\\u2605  San Marino\", \"\\u2605  Belize\", \"\\u2605  Channel Islands\", \"\\u2605  Tanzania\", \"\\u2605  Taiwan\", \"\\u2605  Burundi\", \"\\u2605  Myanmar\", \"\\u2605  Comoros\", \"\\u2605  Faroe Islands\", \"\\u2605  Papua New Guinea\", \"\\u2605  Sint Maarten\", \"\\u2605  Mauritius\", \"\\u2605  Martinique\", \"\\u2605  Isle of Man\", \"\\u2605  Turks and Caicos Islands\", \"\\u2605  Eritrea\", \"\\u2605  Mongolia\", \"\\u2605  Cambodia\", \"\\u2605  Gibraltar\", \"\\u2605  French Polynesia\", \"\\u2605  Cayman Islands\", \"\\u2605  Bermuda\", \"\\u2605  Barbados\", \"\\u2605  Monaco\", \"\\u2605  Bhutan\", \"\\u2605  Brunei\", \"\\u2605  Seychelles\", \"\\u2605  Saint Martin\", \"\\u2605  Liechtenstein\", \"\\u2605  Antigua and Barbuda\", \"\\u2605  Saint Vincent and the Grenadines\", \"\\u2605  Macao\", \"\\u2605  Curacao\", \"\\u2605  Fiji\", \"\\u2605  Saint Lucia\", \"\\u2605  Timor-Leste\", \"\\u2605  Grenada\", \"\\u2605  New Caledonia\", \"\\u2605  Laos\", \"\\u2605  Dominica\", \"\\u2605  Saint Kitts and Nevis\", \"\\u2605  Saint Barthelemy\", \"\\u2605  Greenland\", \"\\u2605  Caribbean Netherlands\", \"\\u2605  Montserrat\", \"\\u2605  Falkland Islands\", \"\\u2605  Vatican City\", \"\\u2605  British Virgin Islands\", \"\\u2605  Western Sahara\", \"\\u2605  Saint Pierre and Miquelon\", \"\\u2605  Anguilla\"], \"y\": [\"7768671683\", \"331272237\", \"212768400\", \"1381863561\", \"145943309\", \"59410167\", \"33033892\", \"129117943\", \"50956995\", \"19138783\", \"46757339\", \"84138745\", \"45252733\", \"67935641\", \"34886672\", \"221460187\", \"164914115\", \"60449180\", \"84463026\", \"65293815\"]}],\n",
       "                        {\"barmode\": \"group\", \"template\": {\"data\": {\"bar\": [{\"error_x\": {\"color\": \"#2a3f5f\"}, \"error_y\": {\"color\": \"#2a3f5f\"}, \"marker\": {\"line\": {\"color\": \"#E5ECF6\", \"width\": 0.5}}, \"type\": \"bar\"}], \"barpolar\": [{\"marker\": {\"line\": {\"color\": \"#E5ECF6\", \"width\": 0.5}}, \"type\": \"barpolar\"}], \"carpet\": [{\"aaxis\": {\"endlinecolor\": \"#2a3f5f\", \"gridcolor\": \"white\", \"linecolor\": \"white\", \"minorgridcolor\": \"white\", \"startlinecolor\": \"#2a3f5f\"}, \"baxis\": {\"endlinecolor\": \"#2a3f5f\", \"gridcolor\": \"white\", \"linecolor\": \"white\", \"minorgridcolor\": \"white\", \"startlinecolor\": \"#2a3f5f\"}, \"type\": \"carpet\"}], \"choropleth\": [{\"colorbar\": {\"outlinewidth\": 0, \"ticks\": \"\"}, \"type\": \"choropleth\"}], \"contour\": [{\"colorbar\": {\"outlinewidth\": 0, \"ticks\": \"\"}, \"colorscale\": [[0.0, \"#0d0887\"], [0.1111111111111111, \"#46039f\"], [0.2222222222222222, \"#7201a8\"], [0.3333333333333333, \"#9c179e\"], [0.4444444444444444, \"#bd3786\"], [0.5555555555555556, \"#d8576b\"], [0.6666666666666666, \"#ed7953\"], [0.7777777777777778, \"#fb9f3a\"], [0.8888888888888888, \"#fdca26\"], [1.0, \"#f0f921\"]], \"type\": \"contour\"}], \"contourcarpet\": [{\"colorbar\": {\"outlinewidth\": 0, \"ticks\": \"\"}, \"type\": \"contourcarpet\"}], \"heatmap\": [{\"colorbar\": {\"outlinewidth\": 0, \"ticks\": \"\"}, \"colorscale\": [[0.0, \"#0d0887\"], [0.1111111111111111, \"#46039f\"], [0.2222222222222222, \"#7201a8\"], [0.3333333333333333, \"#9c179e\"], [0.4444444444444444, \"#bd3786\"], [0.5555555555555556, \"#d8576b\"], [0.6666666666666666, \"#ed7953\"], [0.7777777777777778, \"#fb9f3a\"], [0.8888888888888888, \"#fdca26\"], [1.0, \"#f0f921\"]], \"type\": \"heatmap\"}], \"heatmapgl\": [{\"colorbar\": {\"outlinewidth\": 0, \"ticks\": \"\"}, \"colorscale\": [[0.0, \"#0d0887\"], [0.1111111111111111, \"#46039f\"], [0.2222222222222222, \"#7201a8\"], [0.3333333333333333, \"#9c179e\"], [0.4444444444444444, \"#bd3786\"], [0.5555555555555556, \"#d8576b\"], [0.6666666666666666, \"#ed7953\"], [0.7777777777777778, \"#fb9f3a\"], [0.8888888888888888, \"#fdca26\"], [1.0, \"#f0f921\"]], \"type\": \"heatmapgl\"}], \"histogram\": [{\"marker\": {\"colorbar\": {\"outlinewidth\": 0, \"ticks\": \"\"}}, \"type\": \"histogram\"}], \"histogram2d\": [{\"colorbar\": {\"outlinewidth\": 0, \"ticks\": \"\"}, \"colorscale\": [[0.0, \"#0d0887\"], [0.1111111111111111, \"#46039f\"], [0.2222222222222222, \"#7201a8\"], [0.3333333333333333, \"#9c179e\"], [0.4444444444444444, \"#bd3786\"], [0.5555555555555556, \"#d8576b\"], [0.6666666666666666, \"#ed7953\"], [0.7777777777777778, \"#fb9f3a\"], [0.8888888888888888, \"#fdca26\"], [1.0, \"#f0f921\"]], \"type\": \"histogram2d\"}], \"histogram2dcontour\": [{\"colorbar\": {\"outlinewidth\": 0, \"ticks\": \"\"}, \"colorscale\": [[0.0, \"#0d0887\"], [0.1111111111111111, \"#46039f\"], [0.2222222222222222, \"#7201a8\"], [0.3333333333333333, \"#9c179e\"], [0.4444444444444444, \"#bd3786\"], [0.5555555555555556, \"#d8576b\"], [0.6666666666666666, \"#ed7953\"], [0.7777777777777778, \"#fb9f3a\"], [0.8888888888888888, \"#fdca26\"], [1.0, \"#f0f921\"]], \"type\": \"histogram2dcontour\"}], \"mesh3d\": [{\"colorbar\": {\"outlinewidth\": 0, \"ticks\": \"\"}, \"type\": \"mesh3d\"}], \"parcoords\": [{\"line\": {\"colorbar\": {\"outlinewidth\": 0, \"ticks\": \"\"}}, \"type\": \"parcoords\"}], \"pie\": [{\"automargin\": true, \"type\": \"pie\"}], \"scatter\": [{\"marker\": {\"colorbar\": {\"outlinewidth\": 0, \"ticks\": \"\"}}, \"type\": \"scatter\"}], \"scatter3d\": [{\"line\": {\"colorbar\": {\"outlinewidth\": 0, \"ticks\": \"\"}}, \"marker\": {\"colorbar\": {\"outlinewidth\": 0, \"ticks\": \"\"}}, \"type\": \"scatter3d\"}], \"scattercarpet\": [{\"marker\": {\"colorbar\": {\"outlinewidth\": 0, \"ticks\": \"\"}}, \"type\": \"scattercarpet\"}], \"scattergeo\": [{\"marker\": {\"colorbar\": {\"outlinewidth\": 0, \"ticks\": \"\"}}, \"type\": \"scattergeo\"}], \"scattergl\": [{\"marker\": {\"colorbar\": {\"outlinewidth\": 0, \"ticks\": \"\"}}, \"type\": \"scattergl\"}], \"scattermapbox\": [{\"marker\": {\"colorbar\": {\"outlinewidth\": 0, \"ticks\": \"\"}}, \"type\": \"scattermapbox\"}], \"scatterpolar\": [{\"marker\": {\"colorbar\": {\"outlinewidth\": 0, \"ticks\": \"\"}}, \"type\": \"scatterpolar\"}], \"scatterpolargl\": [{\"marker\": {\"colorbar\": {\"outlinewidth\": 0, \"ticks\": \"\"}}, \"type\": \"scatterpolargl\"}], \"scatterternary\": [{\"marker\": {\"colorbar\": {\"outlinewidth\": 0, \"ticks\": \"\"}}, \"type\": \"scatterternary\"}], \"surface\": [{\"colorbar\": {\"outlinewidth\": 0, \"ticks\": \"\"}, \"colorscale\": [[0.0, \"#0d0887\"], [0.1111111111111111, \"#46039f\"], [0.2222222222222222, \"#7201a8\"], [0.3333333333333333, \"#9c179e\"], [0.4444444444444444, \"#bd3786\"], [0.5555555555555556, \"#d8576b\"], [0.6666666666666666, \"#ed7953\"], [0.7777777777777778, \"#fb9f3a\"], [0.8888888888888888, \"#fdca26\"], [1.0, \"#f0f921\"]], \"type\": \"surface\"}], \"table\": [{\"cells\": {\"fill\": {\"color\": \"#EBF0F8\"}, \"line\": {\"color\": \"white\"}}, \"header\": {\"fill\": {\"color\": \"#C8D4E3\"}, \"line\": {\"color\": \"white\"}}, \"type\": \"table\"}]}, \"layout\": {\"annotationdefaults\": {\"arrowcolor\": \"#2a3f5f\", \"arrowhead\": 0, \"arrowwidth\": 1}, \"coloraxis\": {\"colorbar\": {\"outlinewidth\": 0, \"ticks\": \"\"}}, \"colorscale\": {\"diverging\": [[0, \"#8e0152\"], [0.1, \"#c51b7d\"], [0.2, \"#de77ae\"], [0.3, \"#f1b6da\"], [0.4, \"#fde0ef\"], [0.5, \"#f7f7f7\"], [0.6, \"#e6f5d0\"], [0.7, \"#b8e186\"], [0.8, \"#7fbc41\"], [0.9, \"#4d9221\"], [1, \"#276419\"]], \"sequential\": [[0.0, \"#0d0887\"], [0.1111111111111111, \"#46039f\"], [0.2222222222222222, \"#7201a8\"], [0.3333333333333333, \"#9c179e\"], [0.4444444444444444, \"#bd3786\"], [0.5555555555555556, \"#d8576b\"], [0.6666666666666666, \"#ed7953\"], [0.7777777777777778, \"#fb9f3a\"], [0.8888888888888888, \"#fdca26\"], [1.0, \"#f0f921\"]], \"sequentialminus\": [[0.0, \"#0d0887\"], [0.1111111111111111, \"#46039f\"], [0.2222222222222222, \"#7201a8\"], [0.3333333333333333, \"#9c179e\"], [0.4444444444444444, \"#bd3786\"], [0.5555555555555556, \"#d8576b\"], [0.6666666666666666, \"#ed7953\"], [0.7777777777777778, \"#fb9f3a\"], [0.8888888888888888, \"#fdca26\"], [1.0, \"#f0f921\"]]}, \"colorway\": [\"#636efa\", \"#EF553B\", \"#00cc96\", \"#ab63fa\", \"#FFA15A\", \"#19d3f3\", \"#FF6692\", \"#B6E880\", \"#FF97FF\", \"#FECB52\"], \"font\": {\"color\": \"#2a3f5f\"}, \"geo\": {\"bgcolor\": \"white\", \"lakecolor\": \"white\", \"landcolor\": \"#E5ECF6\", \"showlakes\": true, \"showland\": true, \"subunitcolor\": \"white\"}, \"hoverlabel\": {\"align\": \"left\"}, \"hovermode\": \"closest\", \"mapbox\": {\"style\": \"light\"}, \"paper_bgcolor\": \"white\", \"plot_bgcolor\": \"#E5ECF6\", \"polar\": {\"angularaxis\": {\"gridcolor\": \"white\", \"linecolor\": \"white\", \"ticks\": \"\"}, \"bgcolor\": \"#E5ECF6\", \"radialaxis\": {\"gridcolor\": \"white\", \"linecolor\": \"white\", \"ticks\": \"\"}}, \"scene\": {\"xaxis\": {\"backgroundcolor\": \"#E5ECF6\", \"gridcolor\": \"white\", \"gridwidth\": 2, \"linecolor\": \"white\", \"showbackground\": true, \"ticks\": \"\", \"zerolinecolor\": \"white\"}, \"yaxis\": {\"backgroundcolor\": \"#E5ECF6\", \"gridcolor\": \"white\", \"gridwidth\": 2, \"linecolor\": \"white\", \"showbackground\": true, \"ticks\": \"\", \"zerolinecolor\": \"white\"}, \"zaxis\": {\"backgroundcolor\": \"#E5ECF6\", \"gridcolor\": \"white\", \"gridwidth\": 2, \"linecolor\": \"white\", \"showbackground\": true, \"ticks\": \"\", \"zerolinecolor\": \"white\"}}, \"shapedefaults\": {\"line\": {\"color\": \"#2a3f5f\"}}, \"ternary\": {\"aaxis\": {\"gridcolor\": \"white\", \"linecolor\": \"white\", \"ticks\": \"\"}, \"baxis\": {\"gridcolor\": \"white\", \"linecolor\": \"white\", \"ticks\": \"\"}, \"bgcolor\": \"#E5ECF6\", \"caxis\": {\"gridcolor\": \"white\", \"linecolor\": \"white\", \"ticks\": \"\"}}, \"title\": {\"x\": 0.05}, \"xaxis\": {\"automargin\": true, \"gridcolor\": \"white\", \"linecolor\": \"white\", \"ticks\": \"\", \"title\": {\"standoff\": 15}, \"zerolinecolor\": \"white\", \"zerolinewidth\": 2}, \"yaxis\": {\"automargin\": true, \"gridcolor\": \"white\", \"linecolor\": \"white\", \"ticks\": \"\", \"title\": {\"standoff\": 15}, \"zerolinecolor\": \"white\", \"zerolinewidth\": 2}}}},\n",
       "                        {\"responsive\": true}\n",
       "                    ).then(function(){\n",
       "                            \n",
       "var gd = document.getElementById('dea982ad-d4be-4258-98b1-7ed9e4d58672');\n",
       "var x = new MutationObserver(function (mutations, observer) {{\n",
       "        var display = window.getComputedStyle(gd).display;\n",
       "        if (!display || display === 'none') {{\n",
       "            console.log([gd, 'removed!']);\n",
       "            Plotly.purge(gd);\n",
       "            observer.disconnect();\n",
       "        }}\n",
       "}});\n",
       "\n",
       "// Listen for the removal of the full notebook cells\n",
       "var notebookContainer = gd.closest('#notebook-container');\n",
       "if (notebookContainer) {{\n",
       "    x.observe(notebookContainer, {childList: true});\n",
       "}}\n",
       "\n",
       "// Listen for the clearing of the current output cell\n",
       "var outputEl = gd.closest('.output');\n",
       "if (outputEl) {{\n",
       "    x.observe(outputEl, {childList: true});\n",
       "}}\n",
       "\n",
       "                        })\n",
       "                };\n",
       "                });\n",
       "            </script>\n",
       "        </div>"
      ]
     },
     "metadata": {},
     "output_type": "display_data"
    }
   ],
   "source": [
    "# lets visualize the confirmed case based in relation to total population\n",
    "\n",
    "import plotly.graph_objects as go\n",
    "\n",
    "\n",
    "# for grouped barplot using confirmed cases per country and population per country.\n",
    "\n",
    "fig = go.Figure(data = [\n",
    "go.Bar(\n",
    "    x = world_df['Name'],\n",
    "    y = world_df[\"Confirmed\"].head(20),\n",
    "    name = \"Confirmed\",\n",
    "    marker_color = \"indianred\"\n",
    "),\n",
    "go.Bar(\n",
    "    x = world_df['Name'],\n",
    "    y = world_df['Population'].head(20),\n",
    "    name = 'Population',\n",
    "    marker_color = \"lightsalmon\"\n",
    ")\n",
    "])\n",
    "\n",
    "# Here we modify the tickangle of the xaxis, resulting in rotated labels.\n",
    "fig.update_layout(barmode='group')\n",
    "fig.show()"
   ]
  },
  {
   "cell_type": "markdown",
   "metadata": {},
   "source": [
    " - This graph shows a small percentage of people are affected by the novel coronavirus. <a href = \"https://www.canada.ca/en/public-health/services/publications/diseases-conditions/people-high-risk-for-severe-illness-covid-19.html\">\n",
    "    People who are at high risk for severe illness from COVID-19</a>"
   ]
  },
  {
   "cell_type": "markdown",
   "metadata": {},
   "source": [
    "## Canada COVID-19 Stats"
   ]
  },
  {
   "cell_type": "markdown",
   "metadata": {},
   "source": [
    "#### Lets get Latest Canada's information.\n",
    "1. We'll use the pandas read.html which lets us read the webpage table without much of complexity.\n",
    "2. We can also use the lsit to convert it to a dataframe.\n",
    "3. In the header of the list generated you see a number \"1\", which was used in the original website as a filter for arranging data in ascending or descending order."
   ]
  },
  {
   "cell_type": "code",
   "execution_count": 62,
   "metadata": {},
   "outputs": [
    {
     "data": {
      "text/html": [
       "<div>\n",
       "<style scoped>\n",
       "    .dataframe tbody tr th:only-of-type {\n",
       "        vertical-align: middle;\n",
       "    }\n",
       "\n",
       "    .dataframe tbody tr th {\n",
       "        vertical-align: top;\n",
       "    }\n",
       "\n",
       "    .dataframe thead th {\n",
       "        text-align: right;\n",
       "    }\n",
       "</style>\n",
       "<table border=\"1\" class=\"dataframe\">\n",
       "  <thead>\n",
       "    <tr style=\"text-align: right;\">\n",
       "      <th></th>\n",
       "      <th>Name</th>\n",
       "      <th>Confirmed</th>\n",
       "      <th>Per Million</th>\n",
       "      <th>Changes Today</th>\n",
       "      <th>Percentage Day Change</th>\n",
       "      <th>Critical</th>\n",
       "      <th>Deceased</th>\n",
       "      <th>Per Million.1</th>\n",
       "      <th>Changes Today.1</th>\n",
       "      <th>Percentage Death Change</th>\n",
       "      <th>Tests</th>\n",
       "      <th>Active</th>\n",
       "      <th>Recovered</th>\n",
       "      <th>Per Million.2</th>\n",
       "      <th>Population</th>\n",
       "    </tr>\n",
       "  </thead>\n",
       "  <tbody>\n",
       "    <tr>\n",
       "      <th>0</th>\n",
       "      <td>TOTAL</td>\n",
       "      <td>125612</td>\n",
       "      <td>Unknown</td>\n",
       "      <td>0</td>\n",
       "      <td>0%</td>\n",
       "      <td>61</td>\n",
       "      <td>9096</td>\n",
       "      <td>Unknown</td>\n",
       "      <td>0</td>\n",
       "      <td>0%</td>\n",
       "      <td>4974215</td>\n",
       "      <td>4717</td>\n",
       "      <td>111798</td>\n",
       "      <td>Unknown</td>\n",
       "      <td>Unknown</td>\n",
       "    </tr>\n",
       "    <tr>\n",
       "      <th>1</th>\n",
       "      <td>★  Alberta</td>\n",
       "      <td>12501</td>\n",
       "      <td>Unknown</td>\n",
       "      <td>0</td>\n",
       "      <td>0%</td>\n",
       "      <td>Unknown</td>\n",
       "      <td>227</td>\n",
       "      <td>Unknown</td>\n",
       "      <td>0</td>\n",
       "      <td>0%</td>\n",
       "      <td>Unknown</td>\n",
       "      <td>Unknown</td>\n",
       "      <td>11167</td>\n",
       "      <td>Unknown</td>\n",
       "      <td>Unknown</td>\n",
       "    </tr>\n",
       "    <tr>\n",
       "      <th>2</th>\n",
       "      <td>★  British Columbia</td>\n",
       "      <td>4745</td>\n",
       "      <td>Unknown</td>\n",
       "      <td>0</td>\n",
       "      <td>0%</td>\n",
       "      <td>Unknown</td>\n",
       "      <td>198</td>\n",
       "      <td>Unknown</td>\n",
       "      <td>0</td>\n",
       "      <td>0%</td>\n",
       "      <td>Unknown</td>\n",
       "      <td>Unknown</td>\n",
       "      <td>3749</td>\n",
       "      <td>Unknown</td>\n",
       "      <td>Unknown</td>\n",
       "    </tr>\n",
       "    <tr>\n",
       "      <th>3</th>\n",
       "      <td>★  Manitoba</td>\n",
       "      <td>796</td>\n",
       "      <td>Unknown</td>\n",
       "      <td>0</td>\n",
       "      <td>0%</td>\n",
       "      <td>Unknown</td>\n",
       "      <td>12</td>\n",
       "      <td>Unknown</td>\n",
       "      <td>0</td>\n",
       "      <td>0%</td>\n",
       "      <td>Unknown</td>\n",
       "      <td>Unknown</td>\n",
       "      <td>537</td>\n",
       "      <td>Unknown</td>\n",
       "      <td>Unknown</td>\n",
       "    </tr>\n",
       "    <tr>\n",
       "      <th>4</th>\n",
       "      <td>★  New Brunswick</td>\n",
       "      <td>186</td>\n",
       "      <td>Unknown</td>\n",
       "      <td>0</td>\n",
       "      <td>0%</td>\n",
       "      <td>Unknown</td>\n",
       "      <td>2</td>\n",
       "      <td>Unknown</td>\n",
       "      <td>0</td>\n",
       "      <td>0%</td>\n",
       "      <td>Unknown</td>\n",
       "      <td>Unknown</td>\n",
       "      <td>178</td>\n",
       "      <td>Unknown</td>\n",
       "      <td>Unknown</td>\n",
       "    </tr>\n",
       "    <tr>\n",
       "      <th>5</th>\n",
       "      <td>★  Newfoundland and Labrador</td>\n",
       "      <td>268</td>\n",
       "      <td>Unknown</td>\n",
       "      <td>0</td>\n",
       "      <td>0%</td>\n",
       "      <td>Unknown</td>\n",
       "      <td>3</td>\n",
       "      <td>Unknown</td>\n",
       "      <td>0</td>\n",
       "      <td>0%</td>\n",
       "      <td>Unknown</td>\n",
       "      <td>Unknown</td>\n",
       "      <td>263</td>\n",
       "      <td>Unknown</td>\n",
       "      <td>Unknown</td>\n",
       "    </tr>\n",
       "    <tr>\n",
       "      <th>6</th>\n",
       "      <td>★  Northwest Territories</td>\n",
       "      <td>5</td>\n",
       "      <td>Unknown</td>\n",
       "      <td>0</td>\n",
       "      <td>0%</td>\n",
       "      <td>Unknown</td>\n",
       "      <td>Unknown</td>\n",
       "      <td>Unknown</td>\n",
       "      <td>0</td>\n",
       "      <td>0%</td>\n",
       "      <td>Unknown</td>\n",
       "      <td>Unknown</td>\n",
       "      <td>5</td>\n",
       "      <td>Unknown</td>\n",
       "      <td>Unknown</td>\n",
       "    </tr>\n",
       "    <tr>\n",
       "      <th>7</th>\n",
       "      <td>★  Nova Scotia</td>\n",
       "      <td>1077</td>\n",
       "      <td>Unknown</td>\n",
       "      <td>0</td>\n",
       "      <td>0%</td>\n",
       "      <td>Unknown</td>\n",
       "      <td>64</td>\n",
       "      <td>Unknown</td>\n",
       "      <td>0</td>\n",
       "      <td>0%</td>\n",
       "      <td>Unknown</td>\n",
       "      <td>Unknown</td>\n",
       "      <td>1007</td>\n",
       "      <td>Unknown</td>\n",
       "      <td>Unknown</td>\n",
       "    </tr>\n",
       "    <tr>\n",
       "      <th>8</th>\n",
       "      <td>★  Ontario</td>\n",
       "      <td>42983</td>\n",
       "      <td>Unknown</td>\n",
       "      <td>0</td>\n",
       "      <td>0%</td>\n",
       "      <td>Unknown</td>\n",
       "      <td>2838</td>\n",
       "      <td>Unknown</td>\n",
       "      <td>0</td>\n",
       "      <td>0%</td>\n",
       "      <td>Unknown</td>\n",
       "      <td>Unknown</td>\n",
       "      <td>39035</td>\n",
       "      <td>Unknown</td>\n",
       "      <td>Unknown</td>\n",
       "    </tr>\n",
       "    <tr>\n",
       "      <th>9</th>\n",
       "      <td>★  Prince Edward Island</td>\n",
       "      <td>44</td>\n",
       "      <td>Unknown</td>\n",
       "      <td>0</td>\n",
       "      <td>0%</td>\n",
       "      <td>Unknown</td>\n",
       "      <td>Unknown</td>\n",
       "      <td>Unknown</td>\n",
       "      <td>0</td>\n",
       "      <td>0%</td>\n",
       "      <td>Unknown</td>\n",
       "      <td>Unknown</td>\n",
       "      <td>40</td>\n",
       "      <td>Unknown</td>\n",
       "      <td>Unknown</td>\n",
       "    </tr>\n",
       "    <tr>\n",
       "      <th>10</th>\n",
       "      <td>★  Quebec</td>\n",
       "      <td>61402</td>\n",
       "      <td>Unknown</td>\n",
       "      <td>0</td>\n",
       "      <td>0%</td>\n",
       "      <td>Unknown</td>\n",
       "      <td>5730</td>\n",
       "      <td>Unknown</td>\n",
       "      <td>0</td>\n",
       "      <td>0%</td>\n",
       "      <td>Unknown</td>\n",
       "      <td>Unknown</td>\n",
       "      <td>54383</td>\n",
       "      <td>Unknown</td>\n",
       "      <td>Unknown</td>\n",
       "    </tr>\n",
       "    <tr>\n",
       "      <th>11</th>\n",
       "      <td>★  Saskatchewan</td>\n",
       "      <td>1590</td>\n",
       "      <td>Unknown</td>\n",
       "      <td>0</td>\n",
       "      <td>0%</td>\n",
       "      <td>Unknown</td>\n",
       "      <td>22</td>\n",
       "      <td>Unknown</td>\n",
       "      <td>0</td>\n",
       "      <td>0%</td>\n",
       "      <td>Unknown</td>\n",
       "      <td>Unknown</td>\n",
       "      <td>1419</td>\n",
       "      <td>Unknown</td>\n",
       "      <td>Unknown</td>\n",
       "    </tr>\n",
       "    <tr>\n",
       "      <th>12</th>\n",
       "      <td>★  Yukon</td>\n",
       "      <td>15</td>\n",
       "      <td>Unknown</td>\n",
       "      <td>0</td>\n",
       "      <td>0%</td>\n",
       "      <td>Unknown</td>\n",
       "      <td>Unknown</td>\n",
       "      <td>Unknown</td>\n",
       "      <td>0</td>\n",
       "      <td>0%</td>\n",
       "      <td>Unknown</td>\n",
       "      <td>Unknown</td>\n",
       "      <td>15</td>\n",
       "      <td>Unknown</td>\n",
       "      <td>Unknown</td>\n",
       "    </tr>\n",
       "  </tbody>\n",
       "</table>\n",
       "</div>"
      ],
      "text/plain": [
       "                            Name  Confirmed Per Million  Changes Today  \\\n",
       "0                          TOTAL     125612     Unknown              0   \n",
       "1                     ★  Alberta      12501     Unknown              0   \n",
       "2            ★  British Columbia       4745     Unknown              0   \n",
       "3                    ★  Manitoba        796     Unknown              0   \n",
       "4               ★  New Brunswick        186     Unknown              0   \n",
       "5   ★  Newfoundland and Labrador        268     Unknown              0   \n",
       "6       ★  Northwest Territories          5     Unknown              0   \n",
       "7                 ★  Nova Scotia       1077     Unknown              0   \n",
       "8                     ★  Ontario      42983     Unknown              0   \n",
       "9        ★  Prince Edward Island         44     Unknown              0   \n",
       "10                     ★  Quebec      61402     Unknown              0   \n",
       "11               ★  Saskatchewan       1590     Unknown              0   \n",
       "12                      ★  Yukon         15     Unknown              0   \n",
       "\n",
       "   Percentage Day Change Critical Deceased Per Million.1  Changes Today.1  \\\n",
       "0                     0%       61     9096       Unknown                0   \n",
       "1                     0%  Unknown      227       Unknown                0   \n",
       "2                     0%  Unknown      198       Unknown                0   \n",
       "3                     0%  Unknown       12       Unknown                0   \n",
       "4                     0%  Unknown        2       Unknown                0   \n",
       "5                     0%  Unknown        3       Unknown                0   \n",
       "6                     0%  Unknown  Unknown       Unknown                0   \n",
       "7                     0%  Unknown       64       Unknown                0   \n",
       "8                     0%  Unknown     2838       Unknown                0   \n",
       "9                     0%  Unknown  Unknown       Unknown                0   \n",
       "10                    0%  Unknown     5730       Unknown                0   \n",
       "11                    0%  Unknown       22       Unknown                0   \n",
       "12                    0%  Unknown  Unknown       Unknown                0   \n",
       "\n",
       "   Percentage Death Change    Tests   Active  Recovered Per Million.2  \\\n",
       "0                       0%  4974215     4717     111798       Unknown   \n",
       "1                       0%  Unknown  Unknown      11167       Unknown   \n",
       "2                       0%  Unknown  Unknown       3749       Unknown   \n",
       "3                       0%  Unknown  Unknown        537       Unknown   \n",
       "4                       0%  Unknown  Unknown        178       Unknown   \n",
       "5                       0%  Unknown  Unknown        263       Unknown   \n",
       "6                       0%  Unknown  Unknown          5       Unknown   \n",
       "7                       0%  Unknown  Unknown       1007       Unknown   \n",
       "8                       0%  Unknown  Unknown      39035       Unknown   \n",
       "9                       0%  Unknown  Unknown         40       Unknown   \n",
       "10                      0%  Unknown  Unknown      54383       Unknown   \n",
       "11                      0%  Unknown  Unknown       1419       Unknown   \n",
       "12                      0%  Unknown  Unknown         15       Unknown   \n",
       "\n",
       "   Population  \n",
       "0     Unknown  \n",
       "1     Unknown  \n",
       "2     Unknown  \n",
       "3     Unknown  \n",
       "4     Unknown  \n",
       "5     Unknown  \n",
       "6     Unknown  \n",
       "7     Unknown  \n",
       "8     Unknown  \n",
       "9     Unknown  \n",
       "10    Unknown  \n",
       "11    Unknown  \n",
       "12    Unknown  "
      ]
     },
     "execution_count": 62,
     "metadata": {},
     "output_type": "execute_result"
    }
   ],
   "source": [
    "#grabbing latest canada specific data\n",
    "\n",
    "url = \"https://ncov2019.live/data/canada\"\n",
    "\n",
    "r = requests.get(url)\n",
    "df_list = pd.read_html(r.text) # this parses all the tables in webpages to a list\n",
    "canada_df = df_list[2]\n",
    "canada_df"
   ]
  },
  {
   "cell_type": "markdown",
   "metadata": {},
   "source": [
    "## Canada COVID-19 Stats"
   ]
  },
  {
   "cell_type": "markdown",
   "metadata": {},
   "source": [
    "#### Lets visualize Canada's Data and see which province has been worst effected.\n",
    "1. We'll use the same above canada_df for visualization purpose.\n",
    "2. We are going to use this dataframe because it's the latest data and our script we'll update the data every time we run the cell based on the website mentioned above.\n",
    "3. I'm going to use plotly for visualization purpose as it generates graphs which are interactive and user friendly."
   ]
  },
  {
   "cell_type": "code",
   "execution_count": 73,
   "metadata": {},
   "outputs": [
    {
     "data": {
      "application/vnd.plotly.v1+json": {
       "config": {
        "plotlyServerURL": "https://plot.ly"
       },
       "data": [
        {
         "alignmentgroup": "True",
         "hovertemplate": "Deceased=Unknown<br>Name=%{x}<br>Confirmed=%{y}<extra></extra>",
         "legendgroup": "Unknown",
         "marker": {
          "color": "#636efa"
         },
         "name": "Unknown",
         "offsetgroup": "Unknown",
         "orientation": "v",
         "showlegend": true,
         "textposition": "auto",
         "type": "bar",
         "x": [
          "★  Northwest Territories",
          "★  Yukon",
          "★  Prince Edward Island"
         ],
         "xaxis": "x",
         "y": [
          5,
          15,
          44
         ],
         "yaxis": "y"
        },
        {
         "alignmentgroup": "True",
         "hovertemplate": "Deceased=2<br>Name=%{x}<br>Confirmed=%{y}<extra></extra>",
         "legendgroup": "2",
         "marker": {
          "color": "#EF553B"
         },
         "name": "2",
         "offsetgroup": "2",
         "orientation": "v",
         "showlegend": true,
         "textposition": "auto",
         "type": "bar",
         "x": [
          "★  New Brunswick"
         ],
         "xaxis": "x",
         "y": [
          186
         ],
         "yaxis": "y"
        },
        {
         "alignmentgroup": "True",
         "hovertemplate": "Deceased=3<br>Name=%{x}<br>Confirmed=%{y}<extra></extra>",
         "legendgroup": "3",
         "marker": {
          "color": "#00cc96"
         },
         "name": "3",
         "offsetgroup": "3",
         "orientation": "v",
         "showlegend": true,
         "textposition": "auto",
         "type": "bar",
         "x": [
          "★  Newfoundland and Labrador"
         ],
         "xaxis": "x",
         "y": [
          268
         ],
         "yaxis": "y"
        },
        {
         "alignmentgroup": "True",
         "hovertemplate": "Deceased=12<br>Name=%{x}<br>Confirmed=%{y}<extra></extra>",
         "legendgroup": "12",
         "marker": {
          "color": "#ab63fa"
         },
         "name": "12",
         "offsetgroup": "12",
         "orientation": "v",
         "showlegend": true,
         "textposition": "auto",
         "type": "bar",
         "x": [
          "★  Manitoba"
         ],
         "xaxis": "x",
         "y": [
          796
         ],
         "yaxis": "y"
        },
        {
         "alignmentgroup": "True",
         "hovertemplate": "Deceased=64<br>Name=%{x}<br>Confirmed=%{y}<extra></extra>",
         "legendgroup": "64",
         "marker": {
          "color": "#FFA15A"
         },
         "name": "64",
         "offsetgroup": "64",
         "orientation": "v",
         "showlegend": true,
         "textposition": "auto",
         "type": "bar",
         "x": [
          "★  Nova Scotia"
         ],
         "xaxis": "x",
         "y": [
          1077
         ],
         "yaxis": "y"
        },
        {
         "alignmentgroup": "True",
         "hovertemplate": "Deceased=22<br>Name=%{x}<br>Confirmed=%{y}<extra></extra>",
         "legendgroup": "22",
         "marker": {
          "color": "#19d3f3"
         },
         "name": "22",
         "offsetgroup": "22",
         "orientation": "v",
         "showlegend": true,
         "textposition": "auto",
         "type": "bar",
         "x": [
          "★  Saskatchewan"
         ],
         "xaxis": "x",
         "y": [
          1590
         ],
         "yaxis": "y"
        },
        {
         "alignmentgroup": "True",
         "hovertemplate": "Deceased=198<br>Name=%{x}<br>Confirmed=%{y}<extra></extra>",
         "legendgroup": "198",
         "marker": {
          "color": "#FF6692"
         },
         "name": "198",
         "offsetgroup": "198",
         "orientation": "v",
         "showlegend": true,
         "textposition": "auto",
         "type": "bar",
         "x": [
          "★  British Columbia"
         ],
         "xaxis": "x",
         "y": [
          4745
         ],
         "yaxis": "y"
        },
        {
         "alignmentgroup": "True",
         "hovertemplate": "Deceased=227<br>Name=%{x}<br>Confirmed=%{y}<extra></extra>",
         "legendgroup": "227",
         "marker": {
          "color": "#B6E880"
         },
         "name": "227",
         "offsetgroup": "227",
         "orientation": "v",
         "showlegend": true,
         "textposition": "auto",
         "type": "bar",
         "x": [
          "★  Alberta"
         ],
         "xaxis": "x",
         "y": [
          12501
         ],
         "yaxis": "y"
        },
        {
         "alignmentgroup": "True",
         "hovertemplate": "Deceased=2838<br>Name=%{x}<br>Confirmed=%{y}<extra></extra>",
         "legendgroup": "2838",
         "marker": {
          "color": "#FF97FF"
         },
         "name": "2838",
         "offsetgroup": "2838",
         "orientation": "v",
         "showlegend": true,
         "textposition": "auto",
         "type": "bar",
         "x": [
          "★  Ontario"
         ],
         "xaxis": "x",
         "y": [
          42983
         ],
         "yaxis": "y"
        },
        {
         "alignmentgroup": "True",
         "hovertemplate": "Deceased=5730<br>Name=%{x}<br>Confirmed=%{y}<extra></extra>",
         "legendgroup": "5730",
         "marker": {
          "color": "#FECB52"
         },
         "name": "5730",
         "offsetgroup": "5730",
         "orientation": "v",
         "showlegend": true,
         "textposition": "auto",
         "type": "bar",
         "x": [
          "★  Quebec"
         ],
         "xaxis": "x",
         "y": [
          61402
         ],
         "yaxis": "y"
        },
        {
         "alignmentgroup": "True",
         "hovertemplate": "Deceased=9096<br>Name=%{x}<br>Confirmed=%{y}<extra></extra>",
         "legendgroup": "9096",
         "marker": {
          "color": "#636efa"
         },
         "name": "9096",
         "offsetgroup": "9096",
         "orientation": "v",
         "showlegend": true,
         "textposition": "auto",
         "type": "bar",
         "x": [
          "TOTAL"
         ],
         "xaxis": "x",
         "y": [
          125612
         ],
         "yaxis": "y"
        }
       ],
       "layout": {
        "barmode": "relative",
        "legend": {
         "title": {
          "text": "Deceased"
         },
         "tracegroupgap": 0
        },
        "margin": {
         "t": 60
        },
        "template": {
         "data": {
          "bar": [
           {
            "error_x": {
             "color": "#2a3f5f"
            },
            "error_y": {
             "color": "#2a3f5f"
            },
            "marker": {
             "line": {
              "color": "#E5ECF6",
              "width": 0.5
             }
            },
            "type": "bar"
           }
          ],
          "barpolar": [
           {
            "marker": {
             "line": {
              "color": "#E5ECF6",
              "width": 0.5
             }
            },
            "type": "barpolar"
           }
          ],
          "carpet": [
           {
            "aaxis": {
             "endlinecolor": "#2a3f5f",
             "gridcolor": "white",
             "linecolor": "white",
             "minorgridcolor": "white",
             "startlinecolor": "#2a3f5f"
            },
            "baxis": {
             "endlinecolor": "#2a3f5f",
             "gridcolor": "white",
             "linecolor": "white",
             "minorgridcolor": "white",
             "startlinecolor": "#2a3f5f"
            },
            "type": "carpet"
           }
          ],
          "choropleth": [
           {
            "colorbar": {
             "outlinewidth": 0,
             "ticks": ""
            },
            "type": "choropleth"
           }
          ],
          "contour": [
           {
            "colorbar": {
             "outlinewidth": 0,
             "ticks": ""
            },
            "colorscale": [
             [
              0,
              "#0d0887"
             ],
             [
              0.1111111111111111,
              "#46039f"
             ],
             [
              0.2222222222222222,
              "#7201a8"
             ],
             [
              0.3333333333333333,
              "#9c179e"
             ],
             [
              0.4444444444444444,
              "#bd3786"
             ],
             [
              0.5555555555555556,
              "#d8576b"
             ],
             [
              0.6666666666666666,
              "#ed7953"
             ],
             [
              0.7777777777777778,
              "#fb9f3a"
             ],
             [
              0.8888888888888888,
              "#fdca26"
             ],
             [
              1,
              "#f0f921"
             ]
            ],
            "type": "contour"
           }
          ],
          "contourcarpet": [
           {
            "colorbar": {
             "outlinewidth": 0,
             "ticks": ""
            },
            "type": "contourcarpet"
           }
          ],
          "heatmap": [
           {
            "colorbar": {
             "outlinewidth": 0,
             "ticks": ""
            },
            "colorscale": [
             [
              0,
              "#0d0887"
             ],
             [
              0.1111111111111111,
              "#46039f"
             ],
             [
              0.2222222222222222,
              "#7201a8"
             ],
             [
              0.3333333333333333,
              "#9c179e"
             ],
             [
              0.4444444444444444,
              "#bd3786"
             ],
             [
              0.5555555555555556,
              "#d8576b"
             ],
             [
              0.6666666666666666,
              "#ed7953"
             ],
             [
              0.7777777777777778,
              "#fb9f3a"
             ],
             [
              0.8888888888888888,
              "#fdca26"
             ],
             [
              1,
              "#f0f921"
             ]
            ],
            "type": "heatmap"
           }
          ],
          "heatmapgl": [
           {
            "colorbar": {
             "outlinewidth": 0,
             "ticks": ""
            },
            "colorscale": [
             [
              0,
              "#0d0887"
             ],
             [
              0.1111111111111111,
              "#46039f"
             ],
             [
              0.2222222222222222,
              "#7201a8"
             ],
             [
              0.3333333333333333,
              "#9c179e"
             ],
             [
              0.4444444444444444,
              "#bd3786"
             ],
             [
              0.5555555555555556,
              "#d8576b"
             ],
             [
              0.6666666666666666,
              "#ed7953"
             ],
             [
              0.7777777777777778,
              "#fb9f3a"
             ],
             [
              0.8888888888888888,
              "#fdca26"
             ],
             [
              1,
              "#f0f921"
             ]
            ],
            "type": "heatmapgl"
           }
          ],
          "histogram": [
           {
            "marker": {
             "colorbar": {
              "outlinewidth": 0,
              "ticks": ""
             }
            },
            "type": "histogram"
           }
          ],
          "histogram2d": [
           {
            "colorbar": {
             "outlinewidth": 0,
             "ticks": ""
            },
            "colorscale": [
             [
              0,
              "#0d0887"
             ],
             [
              0.1111111111111111,
              "#46039f"
             ],
             [
              0.2222222222222222,
              "#7201a8"
             ],
             [
              0.3333333333333333,
              "#9c179e"
             ],
             [
              0.4444444444444444,
              "#bd3786"
             ],
             [
              0.5555555555555556,
              "#d8576b"
             ],
             [
              0.6666666666666666,
              "#ed7953"
             ],
             [
              0.7777777777777778,
              "#fb9f3a"
             ],
             [
              0.8888888888888888,
              "#fdca26"
             ],
             [
              1,
              "#f0f921"
             ]
            ],
            "type": "histogram2d"
           }
          ],
          "histogram2dcontour": [
           {
            "colorbar": {
             "outlinewidth": 0,
             "ticks": ""
            },
            "colorscale": [
             [
              0,
              "#0d0887"
             ],
             [
              0.1111111111111111,
              "#46039f"
             ],
             [
              0.2222222222222222,
              "#7201a8"
             ],
             [
              0.3333333333333333,
              "#9c179e"
             ],
             [
              0.4444444444444444,
              "#bd3786"
             ],
             [
              0.5555555555555556,
              "#d8576b"
             ],
             [
              0.6666666666666666,
              "#ed7953"
             ],
             [
              0.7777777777777778,
              "#fb9f3a"
             ],
             [
              0.8888888888888888,
              "#fdca26"
             ],
             [
              1,
              "#f0f921"
             ]
            ],
            "type": "histogram2dcontour"
           }
          ],
          "mesh3d": [
           {
            "colorbar": {
             "outlinewidth": 0,
             "ticks": ""
            },
            "type": "mesh3d"
           }
          ],
          "parcoords": [
           {
            "line": {
             "colorbar": {
              "outlinewidth": 0,
              "ticks": ""
             }
            },
            "type": "parcoords"
           }
          ],
          "pie": [
           {
            "automargin": true,
            "type": "pie"
           }
          ],
          "scatter": [
           {
            "marker": {
             "colorbar": {
              "outlinewidth": 0,
              "ticks": ""
             }
            },
            "type": "scatter"
           }
          ],
          "scatter3d": [
           {
            "line": {
             "colorbar": {
              "outlinewidth": 0,
              "ticks": ""
             }
            },
            "marker": {
             "colorbar": {
              "outlinewidth": 0,
              "ticks": ""
             }
            },
            "type": "scatter3d"
           }
          ],
          "scattercarpet": [
           {
            "marker": {
             "colorbar": {
              "outlinewidth": 0,
              "ticks": ""
             }
            },
            "type": "scattercarpet"
           }
          ],
          "scattergeo": [
           {
            "marker": {
             "colorbar": {
              "outlinewidth": 0,
              "ticks": ""
             }
            },
            "type": "scattergeo"
           }
          ],
          "scattergl": [
           {
            "marker": {
             "colorbar": {
              "outlinewidth": 0,
              "ticks": ""
             }
            },
            "type": "scattergl"
           }
          ],
          "scattermapbox": [
           {
            "marker": {
             "colorbar": {
              "outlinewidth": 0,
              "ticks": ""
             }
            },
            "type": "scattermapbox"
           }
          ],
          "scatterpolar": [
           {
            "marker": {
             "colorbar": {
              "outlinewidth": 0,
              "ticks": ""
             }
            },
            "type": "scatterpolar"
           }
          ],
          "scatterpolargl": [
           {
            "marker": {
             "colorbar": {
              "outlinewidth": 0,
              "ticks": ""
             }
            },
            "type": "scatterpolargl"
           }
          ],
          "scatterternary": [
           {
            "marker": {
             "colorbar": {
              "outlinewidth": 0,
              "ticks": ""
             }
            },
            "type": "scatterternary"
           }
          ],
          "surface": [
           {
            "colorbar": {
             "outlinewidth": 0,
             "ticks": ""
            },
            "colorscale": [
             [
              0,
              "#0d0887"
             ],
             [
              0.1111111111111111,
              "#46039f"
             ],
             [
              0.2222222222222222,
              "#7201a8"
             ],
             [
              0.3333333333333333,
              "#9c179e"
             ],
             [
              0.4444444444444444,
              "#bd3786"
             ],
             [
              0.5555555555555556,
              "#d8576b"
             ],
             [
              0.6666666666666666,
              "#ed7953"
             ],
             [
              0.7777777777777778,
              "#fb9f3a"
             ],
             [
              0.8888888888888888,
              "#fdca26"
             ],
             [
              1,
              "#f0f921"
             ]
            ],
            "type": "surface"
           }
          ],
          "table": [
           {
            "cells": {
             "fill": {
              "color": "#EBF0F8"
             },
             "line": {
              "color": "white"
             }
            },
            "header": {
             "fill": {
              "color": "#C8D4E3"
             },
             "line": {
              "color": "white"
             }
            },
            "type": "table"
           }
          ]
         },
         "layout": {
          "annotationdefaults": {
           "arrowcolor": "#2a3f5f",
           "arrowhead": 0,
           "arrowwidth": 1
          },
          "coloraxis": {
           "colorbar": {
            "outlinewidth": 0,
            "ticks": ""
           }
          },
          "colorscale": {
           "diverging": [
            [
             0,
             "#8e0152"
            ],
            [
             0.1,
             "#c51b7d"
            ],
            [
             0.2,
             "#de77ae"
            ],
            [
             0.3,
             "#f1b6da"
            ],
            [
             0.4,
             "#fde0ef"
            ],
            [
             0.5,
             "#f7f7f7"
            ],
            [
             0.6,
             "#e6f5d0"
            ],
            [
             0.7,
             "#b8e186"
            ],
            [
             0.8,
             "#7fbc41"
            ],
            [
             0.9,
             "#4d9221"
            ],
            [
             1,
             "#276419"
            ]
           ],
           "sequential": [
            [
             0,
             "#0d0887"
            ],
            [
             0.1111111111111111,
             "#46039f"
            ],
            [
             0.2222222222222222,
             "#7201a8"
            ],
            [
             0.3333333333333333,
             "#9c179e"
            ],
            [
             0.4444444444444444,
             "#bd3786"
            ],
            [
             0.5555555555555556,
             "#d8576b"
            ],
            [
             0.6666666666666666,
             "#ed7953"
            ],
            [
             0.7777777777777778,
             "#fb9f3a"
            ],
            [
             0.8888888888888888,
             "#fdca26"
            ],
            [
             1,
             "#f0f921"
            ]
           ],
           "sequentialminus": [
            [
             0,
             "#0d0887"
            ],
            [
             0.1111111111111111,
             "#46039f"
            ],
            [
             0.2222222222222222,
             "#7201a8"
            ],
            [
             0.3333333333333333,
             "#9c179e"
            ],
            [
             0.4444444444444444,
             "#bd3786"
            ],
            [
             0.5555555555555556,
             "#d8576b"
            ],
            [
             0.6666666666666666,
             "#ed7953"
            ],
            [
             0.7777777777777778,
             "#fb9f3a"
            ],
            [
             0.8888888888888888,
             "#fdca26"
            ],
            [
             1,
             "#f0f921"
            ]
           ]
          },
          "colorway": [
           "#636efa",
           "#EF553B",
           "#00cc96",
           "#ab63fa",
           "#FFA15A",
           "#19d3f3",
           "#FF6692",
           "#B6E880",
           "#FF97FF",
           "#FECB52"
          ],
          "font": {
           "color": "#2a3f5f"
          },
          "geo": {
           "bgcolor": "white",
           "lakecolor": "white",
           "landcolor": "#E5ECF6",
           "showlakes": true,
           "showland": true,
           "subunitcolor": "white"
          },
          "hoverlabel": {
           "align": "left"
          },
          "hovermode": "closest",
          "mapbox": {
           "style": "light"
          },
          "paper_bgcolor": "white",
          "plot_bgcolor": "#E5ECF6",
          "polar": {
           "angularaxis": {
            "gridcolor": "white",
            "linecolor": "white",
            "ticks": ""
           },
           "bgcolor": "#E5ECF6",
           "radialaxis": {
            "gridcolor": "white",
            "linecolor": "white",
            "ticks": ""
           }
          },
          "scene": {
           "xaxis": {
            "backgroundcolor": "#E5ECF6",
            "gridcolor": "white",
            "gridwidth": 2,
            "linecolor": "white",
            "showbackground": true,
            "ticks": "",
            "zerolinecolor": "white"
           },
           "yaxis": {
            "backgroundcolor": "#E5ECF6",
            "gridcolor": "white",
            "gridwidth": 2,
            "linecolor": "white",
            "showbackground": true,
            "ticks": "",
            "zerolinecolor": "white"
           },
           "zaxis": {
            "backgroundcolor": "#E5ECF6",
            "gridcolor": "white",
            "gridwidth": 2,
            "linecolor": "white",
            "showbackground": true,
            "ticks": "",
            "zerolinecolor": "white"
           }
          },
          "shapedefaults": {
           "line": {
            "color": "#2a3f5f"
           }
          },
          "ternary": {
           "aaxis": {
            "gridcolor": "white",
            "linecolor": "white",
            "ticks": ""
           },
           "baxis": {
            "gridcolor": "white",
            "linecolor": "white",
            "ticks": ""
           },
           "bgcolor": "#E5ECF6",
           "caxis": {
            "gridcolor": "white",
            "linecolor": "white",
            "ticks": ""
           }
          },
          "title": {
           "x": 0.05
          },
          "xaxis": {
           "automargin": true,
           "gridcolor": "white",
           "linecolor": "white",
           "ticks": "",
           "title": {
            "standoff": 15
           },
           "zerolinecolor": "white",
           "zerolinewidth": 2
          },
          "yaxis": {
           "automargin": true,
           "gridcolor": "white",
           "linecolor": "white",
           "ticks": "",
           "title": {
            "standoff": 15
           },
           "zerolinecolor": "white",
           "zerolinewidth": 2
          }
         }
        },
        "xaxis": {
         "anchor": "y",
         "domain": [
          0,
          1
         ],
         "title": {
          "text": "Name"
         }
        },
        "yaxis": {
         "anchor": "x",
         "domain": [
          0,
          1
         ],
         "title": {
          "text": "Confirmed"
         }
        }
       }
      },
      "text/html": [
       "<div>\n",
       "        \n",
       "        \n",
       "            <div id=\"90667e1d-6fce-469a-8249-1b2e8450295e\" class=\"plotly-graph-div\" style=\"height:525px; width:100%;\"></div>\n",
       "            <script type=\"text/javascript\">\n",
       "                require([\"plotly\"], function(Plotly) {\n",
       "                    window.PLOTLYENV=window.PLOTLYENV || {};\n",
       "                    \n",
       "                if (document.getElementById(\"90667e1d-6fce-469a-8249-1b2e8450295e\")) {\n",
       "                    Plotly.newPlot(\n",
       "                        '90667e1d-6fce-469a-8249-1b2e8450295e',\n",
       "                        [{\"alignmentgroup\": \"True\", \"hovertemplate\": \"Deceased=Unknown<br>Name=%{x}<br>Confirmed=%{y}<extra></extra>\", \"legendgroup\": \"Unknown\", \"marker\": {\"color\": \"#636efa\"}, \"name\": \"Unknown\", \"offsetgroup\": \"Unknown\", \"orientation\": \"v\", \"showlegend\": true, \"textposition\": \"auto\", \"type\": \"bar\", \"x\": [\"\\u2605  Northwest Territories\", \"\\u2605  Yukon\", \"\\u2605  Prince Edward Island\"], \"xaxis\": \"x\", \"y\": [5, 15, 44], \"yaxis\": \"y\"}, {\"alignmentgroup\": \"True\", \"hovertemplate\": \"Deceased=2<br>Name=%{x}<br>Confirmed=%{y}<extra></extra>\", \"legendgroup\": \"2\", \"marker\": {\"color\": \"#EF553B\"}, \"name\": \"2\", \"offsetgroup\": \"2\", \"orientation\": \"v\", \"showlegend\": true, \"textposition\": \"auto\", \"type\": \"bar\", \"x\": [\"\\u2605  New Brunswick\"], \"xaxis\": \"x\", \"y\": [186], \"yaxis\": \"y\"}, {\"alignmentgroup\": \"True\", \"hovertemplate\": \"Deceased=3<br>Name=%{x}<br>Confirmed=%{y}<extra></extra>\", \"legendgroup\": \"3\", \"marker\": {\"color\": \"#00cc96\"}, \"name\": \"3\", \"offsetgroup\": \"3\", \"orientation\": \"v\", \"showlegend\": true, \"textposition\": \"auto\", \"type\": \"bar\", \"x\": [\"\\u2605  Newfoundland and Labrador\"], \"xaxis\": \"x\", \"y\": [268], \"yaxis\": \"y\"}, {\"alignmentgroup\": \"True\", \"hovertemplate\": \"Deceased=12<br>Name=%{x}<br>Confirmed=%{y}<extra></extra>\", \"legendgroup\": \"12\", \"marker\": {\"color\": \"#ab63fa\"}, \"name\": \"12\", \"offsetgroup\": \"12\", \"orientation\": \"v\", \"showlegend\": true, \"textposition\": \"auto\", \"type\": \"bar\", \"x\": [\"\\u2605  Manitoba\"], \"xaxis\": \"x\", \"y\": [796], \"yaxis\": \"y\"}, {\"alignmentgroup\": \"True\", \"hovertemplate\": \"Deceased=64<br>Name=%{x}<br>Confirmed=%{y}<extra></extra>\", \"legendgroup\": \"64\", \"marker\": {\"color\": \"#FFA15A\"}, \"name\": \"64\", \"offsetgroup\": \"64\", \"orientation\": \"v\", \"showlegend\": true, \"textposition\": \"auto\", \"type\": \"bar\", \"x\": [\"\\u2605  Nova Scotia\"], \"xaxis\": \"x\", \"y\": [1077], \"yaxis\": \"y\"}, {\"alignmentgroup\": \"True\", \"hovertemplate\": \"Deceased=22<br>Name=%{x}<br>Confirmed=%{y}<extra></extra>\", \"legendgroup\": \"22\", \"marker\": {\"color\": \"#19d3f3\"}, \"name\": \"22\", \"offsetgroup\": \"22\", \"orientation\": \"v\", \"showlegend\": true, \"textposition\": \"auto\", \"type\": \"bar\", \"x\": [\"\\u2605  Saskatchewan\"], \"xaxis\": \"x\", \"y\": [1590], \"yaxis\": \"y\"}, {\"alignmentgroup\": \"True\", \"hovertemplate\": \"Deceased=198<br>Name=%{x}<br>Confirmed=%{y}<extra></extra>\", \"legendgroup\": \"198\", \"marker\": {\"color\": \"#FF6692\"}, \"name\": \"198\", \"offsetgroup\": \"198\", \"orientation\": \"v\", \"showlegend\": true, \"textposition\": \"auto\", \"type\": \"bar\", \"x\": [\"\\u2605  British Columbia\"], \"xaxis\": \"x\", \"y\": [4745], \"yaxis\": \"y\"}, {\"alignmentgroup\": \"True\", \"hovertemplate\": \"Deceased=227<br>Name=%{x}<br>Confirmed=%{y}<extra></extra>\", \"legendgroup\": \"227\", \"marker\": {\"color\": \"#B6E880\"}, \"name\": \"227\", \"offsetgroup\": \"227\", \"orientation\": \"v\", \"showlegend\": true, \"textposition\": \"auto\", \"type\": \"bar\", \"x\": [\"\\u2605  Alberta\"], \"xaxis\": \"x\", \"y\": [12501], \"yaxis\": \"y\"}, {\"alignmentgroup\": \"True\", \"hovertemplate\": \"Deceased=2838<br>Name=%{x}<br>Confirmed=%{y}<extra></extra>\", \"legendgroup\": \"2838\", \"marker\": {\"color\": \"#FF97FF\"}, \"name\": \"2838\", \"offsetgroup\": \"2838\", \"orientation\": \"v\", \"showlegend\": true, \"textposition\": \"auto\", \"type\": \"bar\", \"x\": [\"\\u2605  Ontario\"], \"xaxis\": \"x\", \"y\": [42983], \"yaxis\": \"y\"}, {\"alignmentgroup\": \"True\", \"hovertemplate\": \"Deceased=5730<br>Name=%{x}<br>Confirmed=%{y}<extra></extra>\", \"legendgroup\": \"5730\", \"marker\": {\"color\": \"#FECB52\"}, \"name\": \"5730\", \"offsetgroup\": \"5730\", \"orientation\": \"v\", \"showlegend\": true, \"textposition\": \"auto\", \"type\": \"bar\", \"x\": [\"\\u2605  Quebec\"], \"xaxis\": \"x\", \"y\": [61402], \"yaxis\": \"y\"}, {\"alignmentgroup\": \"True\", \"hovertemplate\": \"Deceased=9096<br>Name=%{x}<br>Confirmed=%{y}<extra></extra>\", \"legendgroup\": \"9096\", \"marker\": {\"color\": \"#636efa\"}, \"name\": \"9096\", \"offsetgroup\": \"9096\", \"orientation\": \"v\", \"showlegend\": true, \"textposition\": \"auto\", \"type\": \"bar\", \"x\": [\"TOTAL\"], \"xaxis\": \"x\", \"y\": [125612], \"yaxis\": \"y\"}],\n",
       "                        {\"barmode\": \"relative\", \"legend\": {\"title\": {\"text\": \"Deceased\"}, \"tracegroupgap\": 0}, \"margin\": {\"t\": 60}, \"template\": {\"data\": {\"bar\": [{\"error_x\": {\"color\": \"#2a3f5f\"}, \"error_y\": {\"color\": \"#2a3f5f\"}, \"marker\": {\"line\": {\"color\": \"#E5ECF6\", \"width\": 0.5}}, \"type\": \"bar\"}], \"barpolar\": [{\"marker\": {\"line\": {\"color\": \"#E5ECF6\", \"width\": 0.5}}, \"type\": \"barpolar\"}], \"carpet\": [{\"aaxis\": {\"endlinecolor\": \"#2a3f5f\", \"gridcolor\": \"white\", \"linecolor\": \"white\", \"minorgridcolor\": \"white\", \"startlinecolor\": \"#2a3f5f\"}, \"baxis\": {\"endlinecolor\": \"#2a3f5f\", \"gridcolor\": \"white\", \"linecolor\": \"white\", \"minorgridcolor\": \"white\", \"startlinecolor\": \"#2a3f5f\"}, \"type\": \"carpet\"}], \"choropleth\": [{\"colorbar\": {\"outlinewidth\": 0, \"ticks\": \"\"}, \"type\": \"choropleth\"}], \"contour\": [{\"colorbar\": {\"outlinewidth\": 0, \"ticks\": \"\"}, \"colorscale\": [[0.0, \"#0d0887\"], [0.1111111111111111, \"#46039f\"], [0.2222222222222222, \"#7201a8\"], [0.3333333333333333, \"#9c179e\"], [0.4444444444444444, \"#bd3786\"], [0.5555555555555556, \"#d8576b\"], [0.6666666666666666, \"#ed7953\"], [0.7777777777777778, \"#fb9f3a\"], [0.8888888888888888, \"#fdca26\"], [1.0, \"#f0f921\"]], \"type\": \"contour\"}], \"contourcarpet\": [{\"colorbar\": {\"outlinewidth\": 0, \"ticks\": \"\"}, \"type\": \"contourcarpet\"}], \"heatmap\": [{\"colorbar\": {\"outlinewidth\": 0, \"ticks\": \"\"}, \"colorscale\": [[0.0, \"#0d0887\"], [0.1111111111111111, \"#46039f\"], [0.2222222222222222, \"#7201a8\"], [0.3333333333333333, \"#9c179e\"], [0.4444444444444444, \"#bd3786\"], [0.5555555555555556, \"#d8576b\"], [0.6666666666666666, \"#ed7953\"], [0.7777777777777778, \"#fb9f3a\"], [0.8888888888888888, \"#fdca26\"], [1.0, \"#f0f921\"]], \"type\": \"heatmap\"}], \"heatmapgl\": [{\"colorbar\": {\"outlinewidth\": 0, \"ticks\": \"\"}, \"colorscale\": [[0.0, \"#0d0887\"], [0.1111111111111111, \"#46039f\"], [0.2222222222222222, \"#7201a8\"], [0.3333333333333333, \"#9c179e\"], [0.4444444444444444, \"#bd3786\"], [0.5555555555555556, \"#d8576b\"], [0.6666666666666666, \"#ed7953\"], [0.7777777777777778, \"#fb9f3a\"], [0.8888888888888888, \"#fdca26\"], [1.0, \"#f0f921\"]], \"type\": \"heatmapgl\"}], \"histogram\": [{\"marker\": {\"colorbar\": {\"outlinewidth\": 0, \"ticks\": \"\"}}, \"type\": \"histogram\"}], \"histogram2d\": [{\"colorbar\": {\"outlinewidth\": 0, \"ticks\": \"\"}, \"colorscale\": [[0.0, \"#0d0887\"], [0.1111111111111111, \"#46039f\"], [0.2222222222222222, \"#7201a8\"], [0.3333333333333333, \"#9c179e\"], [0.4444444444444444, \"#bd3786\"], [0.5555555555555556, \"#d8576b\"], [0.6666666666666666, \"#ed7953\"], [0.7777777777777778, \"#fb9f3a\"], [0.8888888888888888, \"#fdca26\"], [1.0, \"#f0f921\"]], \"type\": \"histogram2d\"}], \"histogram2dcontour\": [{\"colorbar\": {\"outlinewidth\": 0, \"ticks\": \"\"}, \"colorscale\": [[0.0, \"#0d0887\"], [0.1111111111111111, \"#46039f\"], [0.2222222222222222, \"#7201a8\"], [0.3333333333333333, \"#9c179e\"], [0.4444444444444444, \"#bd3786\"], [0.5555555555555556, \"#d8576b\"], [0.6666666666666666, \"#ed7953\"], [0.7777777777777778, \"#fb9f3a\"], [0.8888888888888888, \"#fdca26\"], [1.0, \"#f0f921\"]], \"type\": \"histogram2dcontour\"}], \"mesh3d\": [{\"colorbar\": {\"outlinewidth\": 0, \"ticks\": \"\"}, \"type\": \"mesh3d\"}], \"parcoords\": [{\"line\": {\"colorbar\": {\"outlinewidth\": 0, \"ticks\": \"\"}}, \"type\": \"parcoords\"}], \"pie\": [{\"automargin\": true, \"type\": \"pie\"}], \"scatter\": [{\"marker\": {\"colorbar\": {\"outlinewidth\": 0, \"ticks\": \"\"}}, \"type\": \"scatter\"}], \"scatter3d\": [{\"line\": {\"colorbar\": {\"outlinewidth\": 0, \"ticks\": \"\"}}, \"marker\": {\"colorbar\": {\"outlinewidth\": 0, \"ticks\": \"\"}}, \"type\": \"scatter3d\"}], \"scattercarpet\": [{\"marker\": {\"colorbar\": {\"outlinewidth\": 0, \"ticks\": \"\"}}, \"type\": \"scattercarpet\"}], \"scattergeo\": [{\"marker\": {\"colorbar\": {\"outlinewidth\": 0, \"ticks\": \"\"}}, \"type\": \"scattergeo\"}], \"scattergl\": [{\"marker\": {\"colorbar\": {\"outlinewidth\": 0, \"ticks\": \"\"}}, \"type\": \"scattergl\"}], \"scattermapbox\": [{\"marker\": {\"colorbar\": {\"outlinewidth\": 0, \"ticks\": \"\"}}, \"type\": \"scattermapbox\"}], \"scatterpolar\": [{\"marker\": {\"colorbar\": {\"outlinewidth\": 0, \"ticks\": \"\"}}, \"type\": \"scatterpolar\"}], \"scatterpolargl\": [{\"marker\": {\"colorbar\": {\"outlinewidth\": 0, \"ticks\": \"\"}}, \"type\": \"scatterpolargl\"}], \"scatterternary\": [{\"marker\": {\"colorbar\": {\"outlinewidth\": 0, \"ticks\": \"\"}}, \"type\": \"scatterternary\"}], \"surface\": [{\"colorbar\": {\"outlinewidth\": 0, \"ticks\": \"\"}, \"colorscale\": [[0.0, \"#0d0887\"], [0.1111111111111111, \"#46039f\"], [0.2222222222222222, \"#7201a8\"], [0.3333333333333333, \"#9c179e\"], [0.4444444444444444, \"#bd3786\"], [0.5555555555555556, \"#d8576b\"], [0.6666666666666666, \"#ed7953\"], [0.7777777777777778, \"#fb9f3a\"], [0.8888888888888888, \"#fdca26\"], [1.0, \"#f0f921\"]], \"type\": \"surface\"}], \"table\": [{\"cells\": {\"fill\": {\"color\": \"#EBF0F8\"}, \"line\": {\"color\": \"white\"}}, \"header\": {\"fill\": {\"color\": \"#C8D4E3\"}, \"line\": {\"color\": \"white\"}}, \"type\": \"table\"}]}, \"layout\": {\"annotationdefaults\": {\"arrowcolor\": \"#2a3f5f\", \"arrowhead\": 0, \"arrowwidth\": 1}, \"coloraxis\": {\"colorbar\": {\"outlinewidth\": 0, \"ticks\": \"\"}}, \"colorscale\": {\"diverging\": [[0, \"#8e0152\"], [0.1, \"#c51b7d\"], [0.2, \"#de77ae\"], [0.3, \"#f1b6da\"], [0.4, \"#fde0ef\"], [0.5, \"#f7f7f7\"], [0.6, \"#e6f5d0\"], [0.7, \"#b8e186\"], [0.8, \"#7fbc41\"], [0.9, \"#4d9221\"], [1, \"#276419\"]], \"sequential\": [[0.0, \"#0d0887\"], [0.1111111111111111, \"#46039f\"], [0.2222222222222222, \"#7201a8\"], [0.3333333333333333, \"#9c179e\"], [0.4444444444444444, \"#bd3786\"], [0.5555555555555556, \"#d8576b\"], [0.6666666666666666, \"#ed7953\"], [0.7777777777777778, \"#fb9f3a\"], [0.8888888888888888, \"#fdca26\"], [1.0, \"#f0f921\"]], \"sequentialminus\": [[0.0, \"#0d0887\"], [0.1111111111111111, \"#46039f\"], [0.2222222222222222, \"#7201a8\"], [0.3333333333333333, \"#9c179e\"], [0.4444444444444444, \"#bd3786\"], [0.5555555555555556, \"#d8576b\"], [0.6666666666666666, \"#ed7953\"], [0.7777777777777778, \"#fb9f3a\"], [0.8888888888888888, \"#fdca26\"], [1.0, \"#f0f921\"]]}, \"colorway\": [\"#636efa\", \"#EF553B\", \"#00cc96\", \"#ab63fa\", \"#FFA15A\", \"#19d3f3\", \"#FF6692\", \"#B6E880\", \"#FF97FF\", \"#FECB52\"], \"font\": {\"color\": \"#2a3f5f\"}, \"geo\": {\"bgcolor\": \"white\", \"lakecolor\": \"white\", \"landcolor\": \"#E5ECF6\", \"showlakes\": true, \"showland\": true, \"subunitcolor\": \"white\"}, \"hoverlabel\": {\"align\": \"left\"}, \"hovermode\": \"closest\", \"mapbox\": {\"style\": \"light\"}, \"paper_bgcolor\": \"white\", \"plot_bgcolor\": \"#E5ECF6\", \"polar\": {\"angularaxis\": {\"gridcolor\": \"white\", \"linecolor\": \"white\", \"ticks\": \"\"}, \"bgcolor\": \"#E5ECF6\", \"radialaxis\": {\"gridcolor\": \"white\", \"linecolor\": \"white\", \"ticks\": \"\"}}, \"scene\": {\"xaxis\": {\"backgroundcolor\": \"#E5ECF6\", \"gridcolor\": \"white\", \"gridwidth\": 2, \"linecolor\": \"white\", \"showbackground\": true, \"ticks\": \"\", \"zerolinecolor\": \"white\"}, \"yaxis\": {\"backgroundcolor\": \"#E5ECF6\", \"gridcolor\": \"white\", \"gridwidth\": 2, \"linecolor\": \"white\", \"showbackground\": true, \"ticks\": \"\", \"zerolinecolor\": \"white\"}, \"zaxis\": {\"backgroundcolor\": \"#E5ECF6\", \"gridcolor\": \"white\", \"gridwidth\": 2, \"linecolor\": \"white\", \"showbackground\": true, \"ticks\": \"\", \"zerolinecolor\": \"white\"}}, \"shapedefaults\": {\"line\": {\"color\": \"#2a3f5f\"}}, \"ternary\": {\"aaxis\": {\"gridcolor\": \"white\", \"linecolor\": \"white\", \"ticks\": \"\"}, \"baxis\": {\"gridcolor\": \"white\", \"linecolor\": \"white\", \"ticks\": \"\"}, \"bgcolor\": \"#E5ECF6\", \"caxis\": {\"gridcolor\": \"white\", \"linecolor\": \"white\", \"ticks\": \"\"}}, \"title\": {\"x\": 0.05}, \"xaxis\": {\"automargin\": true, \"gridcolor\": \"white\", \"linecolor\": \"white\", \"ticks\": \"\", \"title\": {\"standoff\": 15}, \"zerolinecolor\": \"white\", \"zerolinewidth\": 2}, \"yaxis\": {\"automargin\": true, \"gridcolor\": \"white\", \"linecolor\": \"white\", \"ticks\": \"\", \"title\": {\"standoff\": 15}, \"zerolinecolor\": \"white\", \"zerolinewidth\": 2}}}, \"xaxis\": {\"anchor\": \"y\", \"domain\": [0.0, 1.0], \"title\": {\"text\": \"Name\"}}, \"yaxis\": {\"anchor\": \"x\", \"domain\": [0.0, 1.0], \"title\": {\"text\": \"Confirmed\"}}},\n",
       "                        {\"responsive\": true}\n",
       "                    ).then(function(){\n",
       "                            \n",
       "var gd = document.getElementById('90667e1d-6fce-469a-8249-1b2e8450295e');\n",
       "var x = new MutationObserver(function (mutations, observer) {{\n",
       "        var display = window.getComputedStyle(gd).display;\n",
       "        if (!display || display === 'none') {{\n",
       "            console.log([gd, 'removed!']);\n",
       "            Plotly.purge(gd);\n",
       "            observer.disconnect();\n",
       "        }}\n",
       "}});\n",
       "\n",
       "// Listen for the removal of the full notebook cells\n",
       "var notebookContainer = gd.closest('#notebook-container');\n",
       "if (notebookContainer) {{\n",
       "    x.observe(notebookContainer, {childList: true});\n",
       "}}\n",
       "\n",
       "// Listen for the clearing of the current output cell\n",
       "var outputEl = gd.closest('.output');\n",
       "if (outputEl) {{\n",
       "    x.observe(outputEl, {childList: true});\n",
       "}}\n",
       "\n",
       "                        })\n",
       "                };\n",
       "                });\n",
       "            </script>\n",
       "        </div>"
      ]
     },
     "metadata": {},
     "output_type": "display_data"
    }
   ],
   "source": [
    "canada_fig = px.bar(canada_df.sort_values('Confirmed'),x='Name',y='Confirmed',color=\"Deceased\")\n",
    "canada_fig.show()"
   ]
  },
  {
   "cell_type": "markdown",
   "metadata": {},
   "source": [
    " - Overall canada has 125.612k confirmed cases with a death toll of 9096.\n",
    " - As we can see Quebec has been first affected with death toll of 5730.\n",
    " - Northwest Territories has not been affected much with only 5 confirmed cases.\n",
    " - Alberta has 12.50k confirmed cases with a death toll of 227."
   ]
  }
 ],
 "metadata": {
  "kernelspec": {
   "display_name": "Python 3",
   "language": "python",
   "name": "python3"
  },
  "language_info": {
   "codemirror_mode": {
    "name": "ipython",
    "version": 3
   },
   "file_extension": ".py",
   "mimetype": "text/x-python",
   "name": "python",
   "nbconvert_exporter": "python",
   "pygments_lexer": "ipython3",
   "version": "3.7.6"
  }
 },
 "nbformat": 4,
 "nbformat_minor": 4
}
