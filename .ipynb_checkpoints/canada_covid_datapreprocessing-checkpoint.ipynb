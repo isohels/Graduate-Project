{
 "cells": [
  {
   "cell_type": "markdown",
   "metadata": {},
   "source": [
    "# Context\n",
    "\n",
    "### Novel Coronavirus 2019 (nCoV-2019) is a virus which affects respiratory system and was first discovered in wuhan, China. Some early reports suggested that virus may have been transmitted from animal to person. As we know whole world has been shutdown  because of the widespread cases. At this time it's unclear how easily or sustainably this virus is spreading between people."
   ]
  },
  {
   "cell_type": "markdown",
   "metadata": {},
   "source": [
    "### So to start our machine learning project we will use dataset we got from Kaggle.This dataset is being used because this dataset is local to Canada.\n",
    "\n",
    "<a href = \"https://www.kaggle.com/ryanxjhan/coronaviruscovid19-canada\">Please Click here for the link to dataset.</a>"
   ]
  },
  {
   "cell_type": "markdown",
   "metadata": {},
   "source": [
    "# Current Cases (WorldWide)\n",
    "### To know how bad the world has been affected lets get some information on current situation."
   ]
  },
  {
   "cell_type": "markdown",
   "metadata": {},
   "source": [
    "#### Lets import all the dependencies for scrapping the website"
   ]
  },
  {
   "cell_type": "code",
   "execution_count": 1,
   "metadata": {},
   "outputs": [],
   "source": [
    "import bs4\n",
    "from urllib.request import Request, urlopen\n",
    "from urllib.request import urlopen as uReq\n",
    "from bs4 import BeautifulSoup as soup\n",
    "import pandas as pd"
   ]
  },
  {
   "cell_type": "code",
   "execution_count": 2,
   "metadata": {},
   "outputs": [],
   "source": [
    "# grabbing the url\n",
    "\n",
    "url = \"https://ncov2019.live/\"\n",
    "req = Request(url, headers={\"User-Agent\" : \"Mozilla/5.0\"})\n",
    "\n",
    "webpage = urlopen(req).read()\n",
    "\n",
    "#parsing it as lxml\n",
    "pagesoup = soup(webpage,\"lxml\")"
   ]
  },
  {
   "cell_type": "markdown",
   "metadata": {},
   "source": [
    "#### Website Information\n",
    "1. Website Name\n",
    "2. Link to Website"
   ]
  },
  {
   "cell_type": "code",
   "execution_count": 3,
   "metadata": {},
   "outputs": [],
   "source": [
    "from IPython.display import display, Markdown"
   ]
  },
  {
   "cell_type": "code",
   "execution_count": 4,
   "metadata": {},
   "outputs": [
    {
     "data": {
      "text/markdown": [
       "<strong>\n",
       "\n",
       "\n",
       "\n",
       "\n",
       "\r\n",
       "    nCoV2019.live\r\n",
       "  </strong>https://ncov2019.live/"
      ],
      "text/plain": [
       "<IPython.core.display.Markdown object>"
      ]
     },
     "execution_count": 4,
     "metadata": {},
     "output_type": "execute_result"
    }
   ],
   "source": [
    "#finding the relevant tags to scrap the data from website\n",
    "\n",
    "website_name = pagesoup.find('a',class_ = \"navbar-brand\")\n",
    "link = \"https://ncov2019.live/\"\n",
    "Markdown('<strong>{}</strong>{}'.format(website_name.text,link))"
   ]
  },
  {
   "cell_type": "code",
   "execution_count": 5,
   "metadata": {},
   "outputs": [
    {
     "data": {
      "text/markdown": [
       "<strong align=\"center\"><div class=\"container--wrap bg-navy-4\">\n",
       "<p style=\"color: #DFDFEF; font-size: 30px; text-align: center; padding-top: 15px; font-weight: bolder; margin-bottom: 0;\">\r\n",
       "    Quick Facts\r\n",
       "  </p>\n",
       "<p style=\"color: #DFDFEF; font-size: 12px; text-align: center; font-weight: bolder; margin-bottom: 0;\">\r\n",
       "    updated: <i class=\"last_updated\">A few minutes ago</i>\n",
       "</p>\n",
       "<table>\n",
       "<tr>\n",
       "<p style=\"color: rgb(101, 221, 155); font-weight: bold; text-align: center; border-bottom: 0; font-size: 50px; margin-bottom: 0px;\">\r\n",
       "        23,066,065\r\n",
       "      </p>\n",
       "<p style=\"color: #DFDFEF; font-size: 18px; font-weight: bold; border-bottom: 0; text-align: center;\">\r\n",
       "        Total Confirmed\r\n",
       "      </p>\n",
       "</tr>\n",
       "<tr>\n",
       "<p style=\"color: #ff9d00; font-weight: bold; text-align: center; border-bottom: 0; font-size: 50px; margin-bottom: 0px;\"> \r\n",
       "          61,825\r\n",
       "      </p>\n",
       "<p style=\"color: #DFDFEF; font-size: 18px; font-weight: bold; border-bottom: 0; text-align: center;\">\r\n",
       "        Total Critical\r\n",
       "      </p>\n",
       "</tr>\n",
       "<tr>\n",
       "<p style=\"color: #F65164; font-weight: bold; text-align: center; border-bottom: 0; font-size: 50px; margin-bottom: 0px;\">\r\n",
       "        801,915\r\n",
       "      </p>\n",
       "<p style=\"color: #DFDFEF; font-size: 18px; font-weight: bold; border-bottom: 0; text-align: center;\">\r\n",
       "        Total Deceased\r\n",
       "      </p>\n",
       "</tr>\n",
       "<tr>\n",
       "<p style=\"color: rgb(248, 245, 64); font-weight: bold; text-align: center; border-bottom: 0; font-size: 50px; margin-bottom: 0px;\">\r\n",
       "        6,658,838\r\n",
       "      </p>\n",
       "<p style=\"color: #DFDFEF; font-size: 18px; font-weight: bold; border-bottom: 0; text-align: center;\">\r\n",
       "        Total Active\r\n",
       "      </p>\n",
       "</tr>\n",
       "<tr>\n",
       "<p style=\"color: rgb(68, 155, 226); font-weight: bold; text-align: center; border-bottom: 0; font-size: 50px; margin-bottom: 0px;\">\r\n",
       "        15,445,043\r\n",
       "      </p>\n",
       "<p style=\"color: #DFDFEF; font-size: 18px; font-weight: bold; border-bottom: 0; text-align: center;\">\r\n",
       "        Total Recovered\r\n",
       "      </p>\n",
       "</tr>\n",
       "<tr>\n",
       "<p style=\"color: rgb(62, 206, 229); font-weight: bold; text-align: center; border-bottom: 0; font-size: 50px; margin-bottom: 0px;\">\r\n",
       "        166<!--  / 43 -->\n",
       "</p>\n",
       "<p style=\"color: #DFDFEF; font-size: 18px; font-weight: bold; border-bottom: 0; text-align: center;\">\r\n",
       "        Total Vaccines In Development\r\n",
       "      </p>\n",
       "</tr>\n",
       "</table>\n",
       "</div></strong>"
      ],
      "text/plain": [
       "<IPython.core.display.Markdown object>"
      ]
     },
     "execution_count": 5,
     "metadata": {},
     "output_type": "execute_result"
    }
   ],
   "source": [
    "#some quick facts from the website\n",
    "\n",
    "quickfacts = pagesoup.find('div', class_ = \"container--wrap bg-navy-4\")\n",
    "Markdown('<strong align=\"center\">{}</strong>'.format(quickfacts))"
   ]
  },
  {
   "cell_type": "code",
   "execution_count": null,
   "metadata": {},
   "outputs": [],
   "source": [
    "latest_canadacovid_info = pagesoup.find('div', id = )"
   ]
  }
 ],
 "metadata": {
  "kernelspec": {
   "display_name": "Python 3",
   "language": "python",
   "name": "python3"
  },
  "language_info": {
   "codemirror_mode": {
    "name": "ipython",
    "version": 3
   },
   "file_extension": ".py",
   "mimetype": "text/x-python",
   "name": "python",
   "nbconvert_exporter": "python",
   "pygments_lexer": "ipython3",
   "version": "3.7.6"
  }
 },
 "nbformat": 4,
 "nbformat_minor": 4
}
